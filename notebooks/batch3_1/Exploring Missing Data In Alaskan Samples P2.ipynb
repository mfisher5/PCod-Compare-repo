{
 "cells": [
  {
   "cell_type": "markdown",
   "metadata": {},
   "source": [
    "## Why am I getting a lot of missing data in Alaskan samples? Part 2\n",
    "\n",
    "\n",
    "When I run my combined dataset using the Korean reference and a minimum stack depth of 10, I end up having a lot of missing genotypes in my Alaskan sample. This is drastically reducing the number of loci retained through filtering.\n",
    "This notebook explores whether this is a result of stack depth - and if it is, if I can reduce stack depth without getting high genotyping error.\n",
    "<br>\n",
    "\n",
    "<br>\n",
    "<br>\n",
    "\n",
    "I made this second notebook because I am getting crazy inconsistencies in running scripts from one day to the next, and am worried that there is some object saved in my other notebook thats messing everything up. \n",
    "\n",
    "### (1) Are loci that are non-genotyped in Alaskan samples just absent from those samples?\n",
    "### A. Subsample of 2,000 loci\n",
    "\n",
    "\n",
    "I took a subset of loci from the populations output. If the locus was not genotyped in the individual, I checked to see if the locus was missing.\n",
    "<br>\n",
    "I then calculated a percentage: [num. of loci that are not genotyped because they were missing] / [total num. loci not genotyped in that individual]"
   ]
  },
  {
   "cell_type": "code",
   "execution_count": 1,
   "metadata": {
    "collapsed": false
   },
   "outputs": [
    {
     "data": {
      "text/plain": [
       "u'/mnt/hgfs/Pacific cod/DataAnalysis/PCod-Compare-repo/notebooks'"
      ]
     },
     "execution_count": 1,
     "metadata": {},
     "output_type": "execute_result"
    }
   ],
   "source": [
    "pwd"
   ]
  },
  {
   "cell_type": "code",
   "execution_count": 2,
   "metadata": {
    "collapsed": false
   },
   "outputs": [
    {
     "name": "stdout",
     "output_type": "stream",
     "text": [
      "/mnt/hgfs/Pacific cod/DataAnalysis/PCod-Compare-repo\n"
     ]
    }
   ],
   "source": [
    "cd ../"
   ]
  },
  {
   "cell_type": "code",
   "execution_count": 3,
   "metadata": {
    "collapsed": false
   },
   "outputs": [
    {
     "name": "stdout",
     "output_type": "stream",
     "text": [
      "2000\n"
     ]
    }
   ],
   "source": [
    "## Get the loci of interest -- Create a dictionary of locus: SNP id ##\n",
    "infile = open(\"stacks_b1_wgenome/batch_1.filteredLoci\", \"r\")\n",
    "infile.readline()\n",
    "\n",
    "loci_snp_IDs = {}\n",
    "count = 0\n",
    "for line in infile:\n",
    "    if count < 2000:\n",
    "        locus_snp = line.strip().split()[0]\n",
    "        loci_snp_IDs[locus_snp.split(\"_\")[0]] = locus_snp.split(\"_\")[1]\n",
    "        count += 1\n",
    "    else:\n",
    "        break\n",
    "print len(loci_snp_IDs.keys())\n",
    "infile.close()"
   ]
  },
  {
   "cell_type": "code",
   "execution_count": 9,
   "metadata": {
    "collapsed": false
   },
   "outputs": [],
   "source": [
    "## For each locus, determine if the locus if genotyped in that individual ##\n",
    "## Then determine if the missing genotype is because the locus dne\n",
    "mapfile = open(\"scripts/PopMap_AK_edit.txt\", \"r\")\n",
    "outfile = open(\"p_genotypes_loci_missing_AK_subset.txt\", \"w\")\n",
    "outfile.write(\"sample\\tn_genos_0000\\tp_missing_loci\\n\")\n",
    "individs = []\n",
    "for line in mapfile:\n",
    "    individs.append(line.strip().split()[0])\n",
    "\n",
    "locus_ids = loci_snp_IDs.keys()\n",
    "\n",
    "all_p_loci_notfound = []\n",
    "\n",
    "for individual in individs:\n",
    "    ## get a list of the loci that are not genotyped in the individual\n",
    "    genfile = open(\"stacks_b1_wgenome/batch_1.filteredLoci\", \"r\")\n",
    "    header_list = genfile.readline().strip().split()\n",
    "    col_index = 0\n",
    "    for sample in header_list:\n",
    "        if sample != individual:\n",
    "            col_index += 1\n",
    "        elif sample == individual:\n",
    "            break\n",
    "    genos_missing = []\n",
    "    for line in genfile:\n",
    "        linelist = line.strip().split()\n",
    "        locus_snp = linelist[0]\n",
    "        locus_id = locus_snp.split(\"_\")[0]\n",
    "        if locus_id in locus_ids:\n",
    "            genotype = linelist[col_index]\n",
    "            if genotype == \"0000\":\n",
    "                genos_missing.append(locus_id)\n",
    "    genfile.close()\n",
    "    n_genos_missing = len(genos_missing)\n",
    "    ## of the loci that are NOT genotyped, find that locus in the matches file\n",
    "    mfile = open(\"stacks_b1_wgenome/\" + individual + \".matches.tsv\", \"r\")\n",
    "    loci_found = []\n",
    "    for line in mfile:\n",
    "        if not line.startswith(\"#\"):\n",
    "            cat_locus = line.strip().split()[2]\n",
    "            if cat_locus in genos_missing:\n",
    "                loci_found.append(cat_locus)\n",
    "    n_loci_missing = n_genos_missing - len(loci_found)\n",
    "    p_loci_missing = float(n_loci_missing) / float(n_genos_missing)\n",
    "    all_p_loci_notfound.append(p_loci_missing)\n",
    "    outfile.write(individual + \"\\t\"+ str(n_genos_missing) + \"\\t\" + str(p_loci_missing) + \"\\n\")\n",
    "outfile.close()"
   ]
  },
  {
   "cell_type": "markdown",
   "metadata": {},
   "source": [
    "<br>\n",
    "<br>\n",
    "Ok, I'm going to check the results for the last individual. I'll first check to make sure that the genotypes that are said to be missing are actually missing, using an excel doc. I'll then open the `matches` file for that individual and try to look up the catalog locus ID using an excel doc. \n",
    "\n",
    "See `checking_genotypes_loci_missing_AK.xlsxm`"
   ]
  },
  {
   "cell_type": "code",
   "execution_count": 10,
   "metadata": {
    "collapsed": false
   },
   "outputs": [
    {
     "name": "stdout",
     "output_type": "stream",
     "text": [
      "UP03_048\n"
     ]
    }
   ],
   "source": [
    "print individual"
   ]
  },
  {
   "cell_type": "code",
   "execution_count": 12,
   "metadata": {
    "collapsed": false
   },
   "outputs": [],
   "source": [
    "myfile = open(\"UPO3_048_missing_loci_test.txt\", \"w\")\n",
    "myfile.write(\"genotypes_missing\\tloci_missing\\n\")\n",
    "\n",
    "loci_not_found = [i for i in genos_missing if i not in loci_found]\n",
    "for i in range(0, len(loci_not_found)):\n",
    "    myfile.write(genos_missing[i] + \"\\t\" + loci_not_found[i] + \"\\n\")\n",
    "for i in range(len(loci_not_found), len(genos_missing)):\n",
    "    myfile.write(genos_missing[i] +\"\\n\")\n",
    "myfile.close()"
   ]
  },
  {
   "cell_type": "markdown",
   "metadata": {},
   "source": [
    "<br>\n",
    "<br>\n",
    "GRAPHING RESULTS:"
   ]
  },
  {
   "cell_type": "code",
   "execution_count": 13,
   "metadata": {
    "collapsed": true
   },
   "outputs": [],
   "source": [
    "import numpy as np\n",
    "import matplotlib.pyplot as plt"
   ]
  },
  {
   "cell_type": "code",
   "execution_count": 14,
   "metadata": {
    "collapsed": false
   },
   "outputs": [
    {
     "data": {
      "image/png": "[encoded data removed]",
      "text/plain": [
       "<matplotlib.figure.Figure at 0x7f47ddad5c50>"
      ]
     },
     "metadata": {},
     "output_type": "display_data"
    }
   ],
   "source": [
    "plt.hist(all_p_loci_notfound, color = \"darkcyan\", alpha= 0.5)\n",
    "plt.suptitle(\"% of Loci not Genotyped that were Absent from Individual\")\n",
    "plt.xlabel(\"% Loci per Individual\")\n",
    "plt.ylabel(\"# Individuals\")\n",
    "plt.show()"
   ]
  },
  {
   "cell_type": "code",
   "execution_count": 18,
   "metadata": {
    "collapsed": true
   },
   "outputs": [],
   "source": [
    "plt.close()"
   ]
  },
  {
   "cell_type": "code",
   "execution_count": 21,
   "metadata": {
    "collapsed": false
   },
   "outputs": [
    {
     "data": {
      "image/png": "[encoded data removed]",
      "text/plain": [
       "<matplotlib.figure.Figure at 0x7f47db251a10>"
      ]
     },
     "metadata": {},
     "output_type": "display_data"
    }
   ],
   "source": [
    "plt.hist(all_p_loci_notfound, bins=np.arange(0.60, 1.0, 0.025), color = \"darkcyan\", alpha= 0.5)\n",
    "plt.suptitle(\"% of Loci not Genotyped that were Absent from Individual\")\n",
    "plt.xlabel(\"% Loci per Individual\")\n",
    "plt.ylabel(\"# Individuals\")\n",
    "plt.show()"
   ]
  },
  {
   "cell_type": "code",
   "execution_count": 22,
   "metadata": {
    "collapsed": true
   },
   "outputs": [],
   "source": [
    "plt.close()"
   ]
  },
  {
   "cell_type": "markdown",
   "metadata": {},
   "source": [
    "Ok, so based on this graph it really looks like those loci are just missing from the `.matches` files. To verify this, I'm going to have the python code run over *all* loci, instead of just a subset. \n",
    "\n",
    "### B. All loci"
   ]
  },
  {
   "cell_type": "code",
   "execution_count": 23,
   "metadata": {
    "collapsed": true
   },
   "outputs": [],
   "source": [
    "## For each locus, determine if the locus if genotyped in that individual ##\n",
    "## Then determine if the missing genotype is because the locus dne\n",
    "mapfile = open(\"scripts/PopMap_AK_edit.txt\", \"r\")\n",
    "outfile = open(\"p_genotypes_loci_missing_AK_all.txt\", \"w\")\n",
    "outfile.write(\"sample\\tn_genos_0000\\tp_missing_loci\\n\")\n",
    "individs = []\n",
    "for line in mapfile:\n",
    "    individs.append(line.strip().split()[0])\n",
    "\n",
    "all_p_loci_notfound = []\n",
    "\n",
    "for individual in individs:\n",
    "    ## get a list of the loci that are not genotyped in the individual\n",
    "    genfile = open(\"stacks_b1_wgenome/batch_1.filteredLoci\", \"r\")\n",
    "    header_list = genfile.readline().strip().split()\n",
    "    col_index = 0\n",
    "    for sample in header_list:\n",
    "        if sample != individual:\n",
    "            col_index += 1\n",
    "        elif sample == individual:\n",
    "            break\n",
    "    genos_missing = []\n",
    "    for line in genfile:\n",
    "        linelist = line.strip().split()\n",
    "        locus_snp = linelist[0]\n",
    "        locus_id = locus_snp.split(\"_\")[0]\n",
    "        genotype = linelist[col_index]\n",
    "        if genotype == \"0000\":\n",
    "            genos_missing.append(locus_id)\n",
    "    genfile.close()\n",
    "    n_genos_missing = len(genos_missing)\n",
    "    ## of the loci that are NOT genotyped, find that locus in the matches file\n",
    "    mfile = open(\"stacks_b1_wgenome/\" + individual + \".matches.tsv\", \"r\")\n",
    "    loci_found = []\n",
    "    for line in mfile:\n",
    "        if not line.startswith(\"#\"):\n",
    "            cat_locus = line.strip().split()[2]\n",
    "            if cat_locus in genos_missing:\n",
    "                loci_found.append(cat_locus)\n",
    "    n_loci_missing = n_genos_missing - len(loci_found)\n",
    "    p_loci_missing = float(n_loci_missing) / float(n_genos_missing)\n",
    "    all_p_loci_notfound.append(p_loci_missing)\n",
    "    outfile.write(individual + \"\\t\"+ str(n_genos_missing) + \"\\t\" + str(p_loci_missing) + \"\\n\")\n",
    "outfile.close()"
   ]
  },
  {
   "cell_type": "code",
   "execution_count": 24,
   "metadata": {
    "collapsed": false
   },
   "outputs": [
    {
     "data": {
      "image/png": "[encoded data removed]",
      "text/plain": [
       "<matplotlib.figure.Figure at 0x7f47db056250>"
      ]
     },
     "metadata": {},
     "output_type": "display_data"
    }
   ],
   "source": [
    "plt.hist(all_p_loci_notfound, color = \"darkcyan\", alpha= 0.5)\n",
    "plt.suptitle(\"% of Loci not Genotyped that were Absent from Individual\")\n",
    "plt.xlabel(\"% Loci per Individual\")\n",
    "plt.ylabel(\"# Individuals\")\n",
    "plt.show()"
   ]
  },
  {
   "cell_type": "code",
   "execution_count": 25,
   "metadata": {
    "collapsed": true
   },
   "outputs": [],
   "source": [
    "plt.close()"
   ]
  },
  {
   "cell_type": "code",
   "execution_count": 26,
   "metadata": {
    "collapsed": false
   },
   "outputs": [
    {
     "data": {
      "image/png": "[encoded data removed]",
      "text/plain": [
       "<matplotlib.figure.Figure at 0x7f47db056510>"
      ]
     },
     "metadata": {},
     "output_type": "display_data"
    }
   ],
   "source": [
    "plt.hist(all_p_loci_notfound, bins=np.arange(0.60, 1.0, 0.025), color = \"darkcyan\", alpha= 0.5)\n",
    "plt.suptitle(\"% of Loci not Genotyped that were Absent from Individual\")\n",
    "plt.xlabel(\"% Loci per Individual\")\n",
    "plt.ylabel(\"# Individuals\")\n",
    "plt.show()"
   ]
  },
  {
   "cell_type": "code",
   "execution_count": 27,
   "metadata": {
    "collapsed": true
   },
   "outputs": [],
   "source": [
    "plt.close()"
   ]
  },
  {
   "cell_type": "markdown",
   "metadata": {},
   "source": [
    "** So based on these graphs, it looks like the majority of loci that are not genotyped in an individual are actually missing from that individual **"
   ]
  },
  {
   "cell_type": "markdown",
   "metadata": {},
   "source": [
    "### (2) Stack Depths for Loci that Weren't Genotyped \n",
    "\n",
    "### A. Subsample of 2,000 Loci\n"
   ]
  },
  {
   "cell_type": "code",
   "execution_count": null,
   "metadata": {
    "collapsed": true
   },
   "outputs": [],
   "source": [
    "## Get the loci of interest -- Create a dictionary of locus: SNP id ##\n",
    "infile = open(\"stacks_b1_wgenome/batch_1.filteredLoci\", \"r\")\n",
    "infile.readline()\n",
    "\n",
    "loci_snp_IDs = {}\n",
    "count = 0\n",
    "for line in infile:\n",
    "    if count < 2000:\n",
    "        locus_snp = line.strip().split()[0]\n",
    "        loci_snp_IDs[locus_snp.split(\"_\")[0]] = locus_snp.split(\"_\")[1]\n",
    "        count += 1\n",
    "    else:\n",
    "        break\n",
    "print len(loci_snp_IDs.keys())\n",
    "infile.close()"
   ]
  },
  {
   "cell_type": "code",
   "execution_count": 36,
   "metadata": {
    "collapsed": false
   },
   "outputs": [],
   "source": [
    "## For each locus, determine if the locus if genotyped in that individual ##\n",
    "## Then determine if the missing genotype is because the locus dne\n",
    "mapfile = open(\"scripts/PopMap_AK_edit.txt\", \"r\")\n",
    "outfile = open(\"avg_stack_depths_loci_missing_geno_AK.txt\", \"w\")\n",
    "outfile.write(\"sample\\tn_missing_genos\\tavg_locus_depth\\n\")\n",
    "individs = []\n",
    "for line in mapfile:\n",
    "    individs.append(line.strip().split()[0])\n",
    "\n",
    "locus_list_2000 = loci_snp_IDs.keys()\n",
    "all_depths = []\n",
    "import numpy as np\n",
    "\n",
    "for individual in individs:\n",
    "    ## get a list of the loci that are not genotyped in the individual\n",
    "    genfile = open(\"stacks_b1_wgenome/batch_1.filteredLoci\", \"r\")\n",
    "    header_list = genfile.readline().strip().split()\n",
    "    col_index = 0\n",
    "    for sample in header_list:\n",
    "        if sample != individual:\n",
    "            col_index += 1\n",
    "        elif sample == individual:\n",
    "            break\n",
    "    genos_missing = []\n",
    "    for line in genfile:\n",
    "        linelist = line.strip().split()\n",
    "        locus_snp = linelist[0]\n",
    "        locus_id = locus_snp.split(\"_\")[0]\n",
    "        if locus_id in locus_list_2000:\n",
    "            genotype = linelist[col_index]\n",
    "            if genotype == \"0000\":\n",
    "                genos_missing.append(locus_id)\n",
    "    genfile.close()\n",
    "    n_genos_missing = len(genos_missing)\n",
    "    ## of the loci that are NOT genotyped, find that locus in the matches file and save the total depth to dict.\n",
    "    mfile = open(\"stacks_b1_wgenome/\" + individual + \".matches.tsv\", \"r\")\n",
    "    loci_depths_dict = {}\n",
    "    for line in mfile:\n",
    "        if not line.startswith(\"#\"):\n",
    "            cat_locus = line.strip().split()[2]\n",
    "            if cat_locus in genos_missing and cat_locus not in loci_depths_dict.keys():\n",
    "                loci_depths_dict[cat_locus] = int(line.strip().split()[6])\n",
    "            elif cat_locus in genos_missing and cat_locus in loci_depths_dict.keys():\n",
    "                depth = loci_depths_dict[cat_locus]\n",
    "                depth += int(line.strip().split()[6])\n",
    "                loci_depths_dict[cat_locus] = depth\n",
    "    mfile.close()\n",
    "    ## find average stack depth in that individual. append to list\n",
    "    sample_depths = []\n",
    "    for locus in loci_depths_dict.keys():\n",
    "        sample_depths.append((loci_depths_dict[locus]))\n",
    "    avg_depth = float(sum(sample_depths))/float(len(sample_depths))\n",
    "    for locus in loci_depths_dict.keys():\n",
    "        all_depths.append((loci_depths_dict[locus]))\n",
    "    outfile.write(individual + \"\\t\"+ str(n_genos_missing) + \"\\t\" + str(avg_depth) + \"\\n\")\n",
    "outfile.close()"
   ]
  },
  {
   "cell_type": "markdown",
   "metadata": {},
   "source": [
    "To check that the stack depths are being calculated correctly:"
   ]
  },
  {
   "cell_type": "code",
   "execution_count": 40,
   "metadata": {
    "collapsed": false
   },
   "outputs": [
    {
     "name": "stdout",
     "output_type": "stream",
     "text": [
      "UP03_048\n"
     ]
    }
   ],
   "source": [
    "print individual"
   ]
  },
  {
   "cell_type": "code",
   "execution_count": 41,
   "metadata": {
    "collapsed": true
   },
   "outputs": [],
   "source": [
    "myfile = open(\"UPO3_048_stack_depth_test.txt\", \"w\")\n",
    "myfile.write(\"locus\\tstack_depth\")\n",
    "\n",
    "for locus in loci_depths_dict.keys():\n",
    "    myfile.write(locus + \"\\t\" + str(loci_depths_dict[locus]) + \"\\n\")\n",
    "myfile.close()"
   ]
  },
  {
   "cell_type": "markdown",
   "metadata": {},
   "source": [
    "Main takeaway from excel doc comparisons: Yes, they are being calculated correctly. Both monomorphic and polymorphic loci seen in the file. "
   ]
  },
  {
   "cell_type": "code",
   "execution_count": 42,
   "metadata": {
    "collapsed": false
   },
   "outputs": [
    {
     "data": {
      "image/png": "[encoded data removed]",
      "text/plain": [
       "<matplotlib.figure.Figure at 0x7f47db19dcd0>"
      ]
     },
     "metadata": {},
     "output_type": "display_data"
    }
   ],
   "source": [
    "plt.hist(all_depths, color = \"darkcyan\", alpha= 0.5)\n",
    "plt.suptitle(\"Stack Depth of Loci Not Genotyped in AK Individuals\")\n",
    "plt.xlabel(\"# Reads\")\n",
    "plt.ylabel(\"# Loci\")\n",
    "plt.show()"
   ]
  },
  {
   "cell_type": "code",
   "execution_count": 43,
   "metadata": {
    "collapsed": true
   },
   "outputs": [],
   "source": [
    "plt.close()"
   ]
  },
  {
   "cell_type": "code",
   "execution_count": 48,
   "metadata": {
    "collapsed": false
   },
   "outputs": [
    {
     "data": {
      "image/png": "[encoded data removed]",
      "text/plain": [
       "<matplotlib.figure.Figure at 0x7f47dad04a10>"
      ]
     },
     "metadata": {},
     "output_type": "display_data"
    }
   ],
   "source": [
    "plt.hist(all_depths, bins=np.arange(0,400,10), color = \"darkcyan\", alpha= 0.5)\n",
    "plt.suptitle(\"Stack Depth of Loci Not Genotyped in AK Individuals (<400)\")\n",
    "plt.xlabel(\"# Reads\")\n",
    "plt.ylabel(\"# Loci\")\n",
    "plt.show()"
   ]
  },
  {
   "cell_type": "code",
   "execution_count": 49,
   "metadata": {
    "collapsed": true
   },
   "outputs": [],
   "source": [
    "plt.close()"
   ]
  },
  {
   "cell_type": "markdown",
   "metadata": {},
   "source": [
    "So it appears that stacks is not genotyping loci that have an adequate stack depth... Why???\n",
    "\n",
    "I stumbled on this exchange between Julian Catchen and Dan / Marine:\n",
    "<br>\n",
    "<br>\n",
    "#### COPIED TEXT: [link](https://groups.google.com/forum/#!topic/stacks-users/7UHmKAK3Cs4)\n",
    "\n",
    "_____\n",
    "\n",
    "Hi Julian,\n",
    "\n",
    "I had a new question for you. I'm not sure if I'm misunderstanding\n",
    "what exactly a 'stack' is or not, but I was hoping you could clarify\n",
    "the '-m' parameter in program genotypes.\n",
    "\n",
    "When I was running 'genotypes' I assumed that '-m' represented the\n",
    "depth at a locus (total number of reads at a locus), but it looks more\n",
    "like it actually represents the depth for each allele at a locus to be\n",
    "used when estimating a genotype. So, by that I mean that if '-m 10' is\n",
    "used and the allele counts are A=9 and G=11, then 'genotypes' will\n",
    "disregard the A's because there are not enough to reach the threshold\n",
    "and the genotype estimated will be 'GG'.\n",
    "\n",
    "Attached are some graphs of how changing '-m' changed the estimated\n",
    "genotypes for some of the data I'm working with.\n",
    "\n",
    "I know that '-m' is to 'specify a minimum stack depth required before\n",
    "exporting a locus in a particular individual.' Does that mean that a\n",
    "stack is technically a set of exactly matched reads or is there a\n",
    "typo? Also, I'm running version 0.999.\n",
    "\n",
    "Any clarification would be helpful and thanks again for all of your hard work. \n",
    "\n",
    "Dan\"\n",
    "\n",
    "Also I would like to point out that there is the same problem with the populations program.\n",
    "\n",
    "Thanks!\n",
    "\n",
    "Marine\n",
    "______\n",
    "\n",
    "Hi Marine and Dan, \n",
    "\n",
    "The command line option has two different meanings depending on which program \n",
    "you specify it with (I have started to run out of letters for options!). \n",
    "\n",
    "When running the wrapper program denovo_map.pl '-m' refers to the number of \n",
    "exactly matching reads required to make a stack. So, with -m 5, you need to have \n",
    "five exactly matching reads in the raw data to create a stack. In the next stage \n",
    "of the denovo algorithm, stacks are matched together to create loci. \n",
    "\n",
    "In the context of ref_map.pl, it has a slightly different meaning, referring to \n",
    "the number of reads that align to a single position in the reference genome. The \n",
    "stack/locus definitions aren't meaningful with a reference genome as the aligner \n",
    "program has implicitly created loci (skipping the first step in the denovo \n",
    "algorithm). \n",
    "\n",
    "In the context of genotypes or populations, '-m' refers to the total depth at \n",
    "the locus. So, with populations -m 5, the program requires each individual to \n",
    "have at least 5 total reads at a locus before that individual is counted in the \n",
    "analysis. \n",
    "\n",
    "The wrapper programs, denovo_map.pl and ref_map.pl, never set -m for populations \n",
    "or genotypes, you have to do this manually as these two programs can be run \n",
    "repeatedly at the end of a Stacks run to get the final data set. \n",
    "\n",
    "Does that clarify things? \n",
    "\n",
    "Cheers, \n",
    "\n",
    "julian \n",
    "\n",
    "_____\n",
    "\n",
    "Hello everyone,\n",
    "\n",
    "Jumping into the discussion here, but it seems to me that the -m parameter is NOT translatable as depth of coverage, and it not really meant to be so: Like Julian sais above, -m sets the minimum number of exactly identical reads needed to make up a stack, and this happens before stacks are assembled into loci - so by necessity -m has to be allele coverage rather than marker coverage in this context. Because stacks actually \"builds\" identical reads into alleles before it assembles these into loci.\n",
    "\n",
    "So, in my eyes it looks like something that can't be \"fixed\" as such, since it isn't a mistake but a feature that is sort of necessary, given the stepwise assembly by which stacks builds loci.\n",
    "\n",
    "Did that make sense to anyone beside myself? :-)\n",
    "\n",
    "Best,\n",
    "Mette"
   ]
  },
  {
   "cell_type": "markdown",
   "metadata": {},
   "source": [
    "<br>\n",
    "<br>\n",
    "\n",
    "### BOWTIE 2\n",
    "\n",
    "Ok, so it seems like in a lot of the Alaskan samples are just completely missing loci that are getting put into the `cstacks` catalog. I think that I can look at this from two angles:\n",
    "\n",
    "1. Oversplitting. When I was comparing AK only and KOR only catalogs to each other using BLAST, I found very frequently that multple Korean loci aligned to a single AK loci. Is it possible that the loci the AK samples AREN'T being genotyped at are actually the same loci as the ones they are being genotyped at, just oversplit? Do I need to change the `-n` parameter in `cstacks`?\n",
    "\n",
    "\n",
    "2. Alignment to reference. The pstacks files for the AK data set have fewer (1) raw reads, and (2) loci than the KOR data set. This probably has a lot to do with the file size of the raw data files - the AK FQ file sizes tend to be around 2/3 the size of the KOR FQ file sizes. However, I'm hoping that it also has something to do with the way the files are being aligned to the reference. If I use BOWTIE 2 instead of BOWTIE, then it allows for gapped alignments. Maybe I need this to better align AK against KOR data?\n",
    "\n",
    "\n",
    "<br>\n",
    "#### STEP ONE: BUILD BOWTIE 2 DATABASE\n",
    "I have a bowtie database from building the reference catalog for stacks, but not a bowtie 2 database."
   ]
  },
  {
   "cell_type": "code",
   "execution_count": 1,
   "metadata": {
    "collapsed": false
   },
   "outputs": [
    {
     "data": {
      "text/plain": [
       "u'/mnt/hgfs/Pacific cod/DataAnalysis/PCod-Compare-repo/notebooks'"
      ]
     },
     "execution_count": 1,
     "metadata": {},
     "output_type": "execute_result"
    }
   ],
   "source": [
    "pwd"
   ]
  },
  {
   "cell_type": "code",
   "execution_count": 2,
   "metadata": {
    "collapsed": false
   },
   "outputs": [
    {
     "name": "stdout",
     "output_type": "stream",
     "text": [
      "/mnt/hgfs/Pacific cod/DataAnalysis/PCod-Compare-repo\n"
     ]
    }
   ],
   "source": [
    "cd ../"
   ]
  },
  {
   "cell_type": "code",
   "execution_count": 3,
   "metadata": {
    "collapsed": true
   },
   "outputs": [],
   "source": [
    "!mkdir batch1_bowtie2"
   ]
  },
  {
   "cell_type": "code",
   "execution_count": 8,
   "metadata": {
    "collapsed": false,
    "scrolled": true
   },
   "outputs": [
    {
     "name": "stdout",
     "output_type": "stream",
     "text": [
      "/mnt/hgfs/Pacific cod/DataAnalysis/PCod-Compare-repo/scripts\n"
     ]
    }
   ],
   "source": [
    "cd scripts"
   ]
  },
  {
   "cell_type": "code",
   "execution_count": null,
   "metadata": {
    "collapsed": true
   },
   "outputs": [],
   "source": [
    "bowtie2-build ../refgenome/batch_7_BOWTIE_BLAST_filtered.fa ../refgenome/batch_7_ref_genome_b2"
   ]
  },
  {
   "cell_type": "markdown",
   "metadata": {},
   "source": [
    "#### STEP TWO: USE bowtie 2 TO ALIGN 3 FQ FILES TO THE REFERENCE DATABASE"
   ]
  },
  {
   "cell_type": "code",
   "execution_count": 12,
   "metadata": {
    "collapsed": false,
    "scrolled": false
   },
   "outputs": [
    {
     "name": "stdout",
     "output_type": "stream",
     "text": [
      "#!/bin/bash\r\n",
      "\r\n",
      "\r\n",
      "bowtie2 -q -x ../refgenome/batch_7_ref_genome_b2 -U /media/mfisher5/New\\ Volume/Mary/Stacks/PCod-US-repo/samplesT92/PS12_018.fq -S ../batch1_bowtie2/PS12_018.sam\r\n",
      "\r\n",
      "bowtie2 -q -x ../refgenome/batch_7_ref_genome_b2 -U /media/mfisher5/New\\ Volume/Mary/Stacks/PCod-US-repo/samplesT92/UP03_001.fq -S ../batch1_bowtie2/UP03_001.sam\r\n",
      "\r\n",
      "bowtie2 -q -x ../refgenome/batch_7_ref_genome_b2 -U /media/mfisher5/New\\ Volume/Mary/Stacks/PCod-US-repo/samplesT92/PWS12_133.fq -S ../batch1_bowtie2/PWS12_133.sam\r\n"
     ]
    }
   ],
   "source": [
    "!head RefGenome_BOWTIE2align_test.sh"
   ]
  },
  {
   "cell_type": "markdown",
   "metadata": {},
   "source": [
    "#### STEP THREE: Compare number of reads in BOWTIE sam output v. BOWTIE2 sam output\n",
    "\n",
    "In all three files, using BOWTIE 2 produced 20% more mapped reads than BOWTIE. \n",
    "\n",
    "**PS12_018.SAM **\n",
    "\n",
    "BOWTIE 2:   \n",
    "3894730 (100.00%) were unpaired; of these:\n",
    "\n",
    "    1120336 (28.77%) aligned 0 times\n",
    "    \n",
    "    2223549 (57.09%) aligned exactly 1 time\n",
    "    \n",
    "    550845 (14.14%) aligned >1 times\n",
    "    \n",
    "71.23% overall alignment rate"
   ]
  },
  {
   "cell_type": "code",
   "execution_count": 13,
   "metadata": {
    "collapsed": false
   },
   "outputs": [
    {
     "name": "stdout",
     "output_type": "stream",
     "text": [
      "3894730 + 0 in total (QC-passed reads + QC-failed reads)\r\n",
      "0 + 0 secondary\r\n",
      "0 + 0 supplementary\r\n",
      "0 + 0 duplicates\r\n",
      "2774394 + 0 mapped (71.23% : N/A)\r\n",
      "0 + 0 paired in sequencing\r\n",
      "0 + 0 read1\r\n",
      "0 + 0 read2\r\n",
      "0 + 0 properly paired (N/A : N/A)\r\n",
      "0 + 0 with itself and mate mapped\r\n",
      "0 + 0 singletons (N/A : N/A)\r\n",
      "0 + 0 with mate mapped to a different chr\r\n",
      "0 + 0 with mate mapped to a different chr (mapQ>=5)\r\n"
     ]
    }
   ],
   "source": [
    "!samtools flagstat ../batch1_bowtie2/PS12_018.sam"
   ]
  },
  {
   "cell_type": "code",
   "execution_count": 14,
   "metadata": {
    "collapsed": false
   },
   "outputs": [
    {
     "name": "stdout",
     "output_type": "stream",
     "text": [
      "3894730 + 0 in total (QC-passed reads + QC-failed reads)\r\n",
      "0 + 0 secondary\r\n",
      "0 + 0 supplementary\r\n",
      "0 + 0 duplicates\r\n",
      "2311512 + 0 mapped (59.35% : N/A)\r\n",
      "0 + 0 paired in sequencing\r\n",
      "0 + 0 read1\r\n",
      "0 + 0 read2\r\n",
      "0 + 0 properly paired (N/A : N/A)\r\n",
      "0 + 0 with itself and mate mapped\r\n",
      "0 + 0 singletons (N/A : N/A)\r\n",
      "0 + 0 with mate mapped to a different chr\r\n",
      "0 + 0 with mate mapped to a different chr (mapQ>=5)\r\n"
     ]
    }
   ],
   "source": [
    "!samtools flagstat ../stacks_b1_wgenome/PS12_018.sam"
   ]
  },
  {
   "cell_type": "code",
   "execution_count": 23,
   "metadata": {
    "collapsed": false
   },
   "outputs": [
    {
     "name": "stdout",
     "output_type": "stream",
     "text": [
      "Using BOWTIE 2 provides: \n",
      "0.200250744967  more aligned reads.\n"
     ]
    }
   ],
   "source": [
    "print \"Using BOWTIE 2 provides: \"\n",
    "print float(2774394-2311512)/float(2311512), \" more aligned reads.\""
   ]
  },
  {
   "cell_type": "markdown",
   "metadata": {},
   "source": [
    "**UP03_001.SAM **\n",
    "\n",
    "BOWTIE 2:   \n",
    "5084845 reads; of these:\n",
    "\n",
    "  5084845 (100.00%) were unpaired; of these:\n",
    "  \n",
    "    1637953 (32.21%) aligned 0 times\n",
    "    \n",
    "    2718113 (53.46%) aligned exactly 1 time\n",
    "    \n",
    "    728779 (14.33%) aligned >1 times\n",
    "    \n",
    "67.79% overall alignment rate\n"
   ]
  },
  {
   "cell_type": "code",
   "execution_count": 24,
   "metadata": {
    "collapsed": false,
    "scrolled": true
   },
   "outputs": [
    {
     "name": "stdout",
     "output_type": "stream",
     "text": [
      "5084845 + 0 in total (QC-passed reads + QC-failed reads)\r\n",
      "0 + 0 secondary\r\n",
      "0 + 0 supplementary\r\n",
      "0 + 0 duplicates\r\n",
      "3446892 + 0 mapped (67.79% : N/A)\r\n",
      "0 + 0 paired in sequencing\r\n",
      "0 + 0 read1\r\n",
      "0 + 0 read2\r\n",
      "0 + 0 properly paired (N/A : N/A)\r\n",
      "0 + 0 with itself and mate mapped\r\n",
      "0 + 0 singletons (N/A : N/A)\r\n",
      "0 + 0 with mate mapped to a different chr\r\n",
      "0 + 0 with mate mapped to a different chr (mapQ>=5)\r\n"
     ]
    }
   ],
   "source": [
    "!samtools flagstat ../batch1_bowtie2/UP03_001.sam"
   ]
  },
  {
   "cell_type": "code",
   "execution_count": 26,
   "metadata": {
    "collapsed": false,
    "scrolled": true
   },
   "outputs": [
    {
     "name": "stdout",
     "output_type": "stream",
     "text": [
      "5084845 + 0 in total (QC-passed reads + QC-failed reads)\r\n",
      "0 + 0 secondary\r\n",
      "0 + 0 supplementary\r\n",
      "0 + 0 duplicates\r\n",
      "2837736 + 0 mapped (55.81% : N/A)\r\n",
      "0 + 0 paired in sequencing\r\n",
      "0 + 0 read1\r\n",
      "0 + 0 read2\r\n",
      "0 + 0 properly paired (N/A : N/A)\r\n",
      "0 + 0 with itself and mate mapped\r\n",
      "0 + 0 singletons (N/A : N/A)\r\n",
      "0 + 0 with mate mapped to a different chr\r\n",
      "0 + 0 with mate mapped to a different chr (mapQ>=5)\r\n"
     ]
    }
   ],
   "source": [
    "!samtools flagstat ../stacks_b1_wgenome/UP03_001.sam"
   ]
  },
  {
   "cell_type": "code",
   "execution_count": 27,
   "metadata": {
    "collapsed": false,
    "scrolled": true
   },
   "outputs": [
    {
     "name": "stdout",
     "output_type": "stream",
     "text": [
      "Using BOWTIE 2 provides: \n",
      "0.214662674752  more aligned reads.\n"
     ]
    }
   ],
   "source": [
    "print \"Using BOWTIE 2 provides: \"\n",
    "print float(3446892-2837736)/float(2837736), \" more aligned reads.\""
   ]
  },
  {
   "cell_type": "markdown",
   "metadata": {},
   "source": [
    "**PWS12_133.SAM **\n",
    "\n",
    "BOWTIE 2:   \n",
    "982504 reads; of these:\n",
    "\n",
    "  982504 (100.00%) were unpaired; of these:\n",
    "  \n",
    "    347633 (35.38%) aligned 0 times\n",
    "    \n",
    "    502210 (51.12%) aligned exactly 1 time\n",
    "    \n",
    "    132661 (13.50%) aligned >1 times\n",
    "    \n",
    "64.62% overall alignment rate\n"
   ]
  },
  {
   "cell_type": "code",
   "execution_count": 28,
   "metadata": {
    "collapsed": false,
    "scrolled": false
   },
   "outputs": [
    {
     "name": "stdout",
     "output_type": "stream",
     "text": [
      "982504 + 0 in total (QC-passed reads + QC-failed reads)\r\n",
      "0 + 0 secondary\r\n",
      "0 + 0 supplementary\r\n",
      "0 + 0 duplicates\r\n",
      "634871 + 0 mapped (64.62% : N/A)\r\n",
      "0 + 0 paired in sequencing\r\n",
      "0 + 0 read1\r\n",
      "0 + 0 read2\r\n",
      "0 + 0 properly paired (N/A : N/A)\r\n",
      "0 + 0 with itself and mate mapped\r\n",
      "0 + 0 singletons (N/A : N/A)\r\n",
      "0 + 0 with mate mapped to a different chr\r\n",
      "0 + 0 with mate mapped to a different chr (mapQ>=5)\r\n"
     ]
    }
   ],
   "source": [
    "!samtools flagstat ../batch1_bowtie2/PWS12_133.sam"
   ]
  },
  {
   "cell_type": "code",
   "execution_count": 29,
   "metadata": {
    "collapsed": false,
    "scrolled": true
   },
   "outputs": [
    {
     "name": "stdout",
     "output_type": "stream",
     "text": [
      "982504 + 0 in total (QC-passed reads + QC-failed reads)\r\n",
      "0 + 0 secondary\r\n",
      "0 + 0 supplementary\r\n",
      "0 + 0 duplicates\r\n",
      "528843 + 0 mapped (53.83% : N/A)\r\n",
      "0 + 0 paired in sequencing\r\n",
      "0 + 0 read1\r\n",
      "0 + 0 read2\r\n",
      "0 + 0 properly paired (N/A : N/A)\r\n",
      "0 + 0 with itself and mate mapped\r\n",
      "0 + 0 singletons (N/A : N/A)\r\n",
      "0 + 0 with mate mapped to a different chr\r\n",
      "0 + 0 with mate mapped to a different chr (mapQ>=5)\r\n"
     ]
    }
   ],
   "source": [
    "!samtools flagstat ../stacks_b1_wgenome/PWS12_133.sam"
   ]
  },
  {
   "cell_type": "code",
   "execution_count": 30,
   "metadata": {
    "collapsed": false
   },
   "outputs": [
    {
     "name": "stdout",
     "output_type": "stream",
     "text": [
      "Using BOWTIE 2 provides: \n",
      "0.200490504743  more aligned reads.\n"
     ]
    }
   ],
   "source": [
    "print \"Using BOWTIE 2 provides: \"\n",
    "print float(634871-528843)/float(528843), \" more aligned reads.\""
   ]
  },
  {
   "cell_type": "markdown",
   "metadata": {},
   "source": [
    "#### STEP FIVE: RUN PSTACKS & SSTACKS WITH NEW .SAM FILES"
   ]
  },
  {
   "cell_type": "code",
   "execution_count": 33,
   "metadata": {
    "collapsed": false
   },
   "outputs": [
    {
     "data": {
      "text/plain": [
       "u'/mnt/hgfs/Pacific cod/DataAnalysis/PCod-Compare-repo/scripts'"
      ]
     },
     "execution_count": 33,
     "metadata": {},
     "output_type": "execute_result"
    }
   ],
   "source": [
    "pwd"
   ]
  },
  {
   "cell_type": "code",
   "execution_count": 34,
   "metadata": {
    "collapsed": false
   },
   "outputs": [],
   "source": [
    "!./bowtie2_test_pstacks_sstacks.sh"
   ]
  },
  {
   "cell_type": "markdown",
   "metadata": {},
   "source": [
    "<br>\n",
    "#### STEP SIX: FIND NUMBER OF CATALOG LOCI MISSING FROM NEW SSTACKS FILES\n"
   ]
  },
  {
   "cell_type": "code",
   "execution_count": 35,
   "metadata": {
    "collapsed": false
   },
   "outputs": [
    {
     "name": "stdout",
     "output_type": "stream",
     "text": [
      "/mnt/hgfs/Pacific cod/DataAnalysis/PCod-Compare-repo\n"
     ]
    }
   ],
   "source": [
    "cd ../"
   ]
  },
  {
   "cell_type": "code",
   "execution_count": 36,
   "metadata": {
    "collapsed": false
   },
   "outputs": [
    {
     "name": "stdout",
     "output_type": "stream",
     "text": [
      "13709\n"
     ]
    }
   ],
   "source": [
    "## Get the loci of interest -- Create a dictionary of locus: SNP id ##\n",
    "infile = open(\"stacks_b1_wgenome/batch_1.filteredLoci\", \"r\")\n",
    "infile.readline()\n",
    "\n",
    "loci_snp_IDs = {}\n",
    "for line in infile:\n",
    "    locus_snp = line.strip().split()[0]\n",
    "    loci_snp_IDs[locus_snp.split(\"_\")[0]] = locus_snp.split(\"_\")[1]\n",
    "print len(loci_snp_IDs.keys())\n",
    "infile.close()"
   ]
  },
  {
   "cell_type": "code",
   "execution_count": 38,
   "metadata": {
    "collapsed": false
   },
   "outputs": [],
   "source": [
    "## Go into sstacks files for individuals above and check for presence of loci ##\n",
    "\n",
    "individuals = [\"PWS12_133\",\"UP03_001\",\"PS12_018\"]\n",
    "\n",
    "n_cat_loci = len(loci_snp_IDs.keys())\n",
    "\n",
    "## Find number of missing cat loci in original sstacks files ##\n",
    "p_missing_original = {}\n",
    "for individual in individuals:\n",
    "    loci_found = []\n",
    "    infile = open(\"stacks_b1_wgenome/\" + individual + \".matches.tsv\", \"r\")\n",
    "    for line in infile:\n",
    "        locus = line.strip().split()[2]\n",
    "        if locus not in loci_found:\n",
    "            loci_found.append(locus)\n",
    "    infile.close()\n",
    "    n_found = len(loci_found)\n",
    "    n_missing = n_cat_loci - n_found\n",
    "    p_missing = float(n_missing) / float(n_cat_loci)\n",
    "    p_missing_original[individual] = p_missing\n",
    "    \n",
    "## Find number of missing cat loci in new sstacks files, bowtie 2 ##\n",
    "p_missing_bowtie2 = {}\n",
    "for individual in individuals:\n",
    "    loci_found = []\n",
    "    infile = open(\"batch1_bowtie2/\" + individual + \".matches.tsv\", \"r\")\n",
    "    for line in infile:\n",
    "        locus = line.strip().split()[2]\n",
    "        if locus not in loci_found:\n",
    "            loci_found.append(locus)\n",
    "    infile.close()\n",
    "    n_found = len(loci_found)\n",
    "    n_missing = n_cat_loci - n_found\n",
    "    p_missing = float(n_missing) / float(n_cat_loci)\n",
    "    p_missing_bowtie2[individual] = p_missing"
   ]
  },
  {
   "cell_type": "code",
   "execution_count": 39,
   "metadata": {
    "collapsed": false
   },
   "outputs": [
    {
     "name": "stdout",
     "output_type": "stream",
     "text": [
      "{'UP03_001': 0.28069151652199287, 'PS12_018': 0.29819826391421694, 'PWS12_133': 0.5105405208257349}\n"
     ]
    }
   ],
   "source": [
    "print p_missing_original"
   ]
  },
  {
   "cell_type": "code",
   "execution_count": 40,
   "metadata": {
    "collapsed": false
   },
   "outputs": [
    {
     "name": "stdout",
     "output_type": "stream",
     "text": [
      "{'UP03_001': 0.3216864833321176, 'PS12_018': 0.3273032314537895, 'PWS12_133': 0.5208986796994675}\n"
     ]
    }
   ],
   "source": [
    "print p_missing_bowtie2"
   ]
  },
  {
   "cell_type": "code",
   "execution_count": 54,
   "metadata": {
    "collapsed": false
   },
   "outputs": [
    {
     "name": "stdout",
     "output_type": "stream",
     "text": [
      "The original file for UP03_001 contained more catalog loci than the bowtie 2 file\n",
      "The original file for PS12_018 contained more catalog loci than the bowtie 2 file\n",
      "The original file for PWS12_133 contained more catalog loci than the bowtie 2 file\n"
     ]
    }
   ],
   "source": [
    "for individual in p_missing_original.keys():\n",
    "    if p_missing_original[individual] < p_missing_bowtie2[individual]:\n",
    "        print \"The original file for \" + individual + \" contained more catalog loci than the bowtie 2 file\"\n",
    "    else: \n",
    "        print \"The bowtie2 file for \" + individual + \" contained more catalog loci than the original file\""
   ]
  },
  {
   "cell_type": "code",
   "execution_count": 45,
   "metadata": {
    "collapsed": false
   },
   "outputs": [
    {
     "name": "stdout",
     "output_type": "stream",
     "text": [
      "/mnt/hgfs/Pacific cod/DataAnalysis/PCod-Compare-repo/scripts\n"
     ]
    }
   ],
   "source": [
    "cd scripts"
   ]
  },
  {
   "cell_type": "code",
   "execution_count": 47,
   "metadata": {
    "collapsed": false
   },
   "outputs": [
    {
     "name": "stdout",
     "output_type": "stream",
     "text": [
      "usage: countloci_tagsfiles.py [-h] [-s SAMPLES] [-d DIRECTORY] [-o OUTPUT]\r\n",
      "\r\n",
      "count number of consensus seqs in .tags files\r\n",
      "\r\n",
      "optional arguments:\r\n",
      "  -h, --help            show this help message and exit\r\n",
      "  -s SAMPLES, --samples SAMPLES\r\n",
      "                        file with list of samples\r\n",
      "  -d DIRECTORY, --directory DIRECTORY\r\n",
      "                        stacks directory with tags files; can be local path,\r\n",
      "                        don't include final '/'\r\n",
      "  -o OUTPUT, --output OUTPUT\r\n",
      "                        output file name with local path\r\n"
     ]
    }
   ],
   "source": [
    "!python countloci_tagsfiles.py -h"
   ]
  },
  {
   "cell_type": "code",
   "execution_count": 53,
   "metadata": {
    "collapsed": false
   },
   "outputs": [
    {
     "name": "stdout",
     "output_type": "stream",
     "text": [
      "Counting tags in sample UP03_001\n",
      "Counting tags in sample PS12_018\n",
      "Counting tags in sample PWS12_133\n"
     ]
    }
   ],
   "source": [
    "!python countloci_tagsfiles.py \\\n",
    "-s ../batch1_bowtie2/test_samples.txt \\\n",
    "-d ../batch1_bowtie2 \\\n",
    "-o ../batch1_bowtie2_tagcounts.txt"
   ]
  },
  {
   "cell_type": "markdown",
   "metadata": {},
   "source": [
    "**bowtie2 pstacks tag counts**\n",
    "\n",
    "UP03_001:::::25,108\n",
    "\n",
    "PS12_018:::::24,861\n",
    "\n",
    "PWS12_133::::17,480\n",
    "\n",
    "<br>\n",
    "**original pstacks tag counts**\n",
    "\n",
    "UP03_001:::::23,665\n",
    "\n",
    "PS12_018:::::23,269\n",
    "\n",
    "PWS12_133::::15,999"
   ]
  },
  {
   "cell_type": "markdown",
   "metadata": {},
   "source": [
    "** So the pstacks files produced after bowtie2 have a greater number of tag counts overall, but fewer catalog loci??** "
   ]
  },
  {
   "cell_type": "code",
   "execution_count": null,
   "metadata": {
    "collapsed": true
   },
   "outputs": [],
   "source": []
  }
 ],
 "metadata": {
  "anaconda-cloud": {},
  "kernelspec": {
   "display_name": "Python [default]",
   "language": "python",
   "name": "python2"
  },
  "language_info": {
   "codemirror_mode": {
    "name": "ipython",
    "version": 2
   },
   "file_extension": ".py",
   "mimetype": "text/x-python",
   "name": "python",
   "nbconvert_exporter": "python",
   "pygments_lexer": "ipython2",
   "version": "2.7.12"
  }
 },
 "nbformat": 4,
 "nbformat_minor": 1
}
