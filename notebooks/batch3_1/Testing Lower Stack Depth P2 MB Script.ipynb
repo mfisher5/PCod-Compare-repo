{
 "cells": [
  {
   "cell_type": "markdown",
   "metadata": {},
   "source": [
    "## Testing Lower Stack Depth: Genotype Comparison AFTER Use of Marine's Correction Script\n",
    "\n",
    "\n",
    "In my combined data set for batch 1, I encountered a lot of missing genotypes in the Alaskan samples. The hypothesis is that this is because lower stack depth is preventing pstacks from genotyping individuals at a locus (not that the cat locus isn't being aligned to in the original .sam files). So I want to see if using a lower stack depth for pstacks is going to help genotype Alaskan individuals. But first I need to make sure that we can trust the genotypes generated with a lower stack depth.\n",
    "\n",
    "In the previous notebook, I made comparisons using the raw `populations` output. I am curious to see whether genotype mismatches *decrease* after I apply Marine's genotype correction script. \n",
    "\n",
    "\n",
    "#### 9/25/2017\n",
    "\n",
    "### Filter with Marine's Correction Script\n",
    "\n",
    "** Subset Genepop (Batch 2)**"
   ]
  },
  {
   "cell_type": "code",
   "execution_count": 1,
   "metadata": {},
   "outputs": [
    {
     "name": "stdout",
     "output_type": "stream",
     "text": [
      "/mnt/hgfs/Pacific cod/DataAnalysis/PCod-Compare-repo/scripts/PostStacksFiltering\n"
     ]
    }
   ],
   "source": [
    "cd ../scripts/PostStacksFiltering/"
   ]
  },
  {
   "cell_type": "code",
   "execution_count": 2,
   "metadata": {},
   "outputs": [
    {
     "name": "stdout",
     "output_type": "stream",
     "text": [
      "### PREPARE for ADDITIONAL FILTERING SCRIPTS: Remove the heading from the catalog.snps.tsv file, and add a \"_\" between Cat and ID in the batch.haplotypes.tsv file ###\r\n",
      "\r\n",
      "## Arguments: (1) catalog.snps file (absolute path preferred), (2) name for new catalog.snps file (absolute path preferred), (3) haplotypes.tsv file (absolute path preferred), (4) name for new haplotypes.tsv file (absolute path preferred). Be sure to UNZIP the appropriate files first. \r\n",
      "\r\n",
      "import sys\r\n",
      "snps = open(sys.argv[1], \"r\")\r\n",
      "new_snps = open(sys.argv[2], \"w\")\r\n",
      "haps = open(sys.argv[3], \"r\")\r\n",
      "new_haps = open(sys.argv[4], \"w\")\r\n",
      "\r\n"
     ]
    }
   ],
   "source": [
    "!head prep_for_extraFilters.py"
   ]
  },
  {
   "cell_type": "code",
   "execution_count": 3,
   "metadata": {
    "collapsed": true
   },
   "outputs": [],
   "source": [
    "!python prep_for_extraFilters.py \\\n",
    "../../stacks_b2_wgenome/batch_2.catalog.snps.tsv \\\n",
    "../../stacks_b2_wgenome/batch_2.catalog.snps2.tsv \\\n",
    "../../stacks_b2_wgenome/batch_2.haplotypes.tsv \\\n",
    "../../stacks_b2_wgenome/batch_2.haplotypes2.tsv"
   ]
  },
  {
   "cell_type": "code",
   "execution_count": 4,
   "metadata": {},
   "outputs": [
    {
     "name": "stdout",
     "output_type": "stream",
     "text": [
      "### Argument 1 : haplotype_file\r\n",
      "### Argument 2 : output_file\r\n",
      "### Argument 3 : catalog.snp.tsv file\r\n",
      "### Argument 4 : minimum coverage required\r\n",
      "\r\n",
      "\r\n",
      "import commands\r\n",
      "import sys\r\n",
      "import glob\r\n",
      "import os\r\n"
     ]
    }
   ],
   "source": [
    "!head preparing_file_for_correcting_genotypes.py"
   ]
  },
  {
   "cell_type": "code",
   "execution_count": 7,
   "metadata": {},
   "outputs": [
    {
     "name": "stdout",
     "output_type": "stream",
     "text": [
      "2 45 GA GA AG GA GG GA GG GA GG AG GA AG GA AG GA GG AG GA GG GA GG GA AG GG GG GA GG AG GG GA GG GA GG GA GG GA GG GA GG GG AG GG AG AG GG GG AG GG GA GG GA GG AG GG AG GA GA AG GA GA GG AG GA GG GA GG AG GG GA GG GA GG AG GA\r\n",
      "3 50 T T T T T C T T T T T T T T T T T T T T T T T T T T T T T T T T T T T T T T T T T T T T T T T T T T T\r\n",
      "5 39 AC GT AC GT GT AC GT GT GT GT GT AC GT AC GT AC GT GT GT AC GT AC GT AC GT AC GT AC GT AC AC GT AC AC GT AC GT AC AC GT GT GT GT AC GT GT AC GT AC GT GT AC GT GT\r\n",
      "6 50 G G G G G G G G G G G G G G G G G G G G G G G A G G G G G A G G G G G G G G G G G A G G G G G G G G G G A G\r\n",
      "8 38 TA TA TA TA TA TA TA TA TA TA TA TG TA TA TA TA TA TA TA TA TA TA CA TA TA TA TA TA TA TA TA TA TA TA TA TA TA TA TA TA\r\n",
      "10 48 CGT CAC CGC CAC CGT CGT CAC CGT CAC CGT CGT CGT CGC CGT CGT CGT CGT CGT CAC CGT CGT CGT CAC CAT CGT CAC CGC CGT CAC CGC CGT CGT TGC CGT CGC CGT CGT TGC CGT CAC TGC CAC CGT CGT CGC CGT CGT CGT CAC CGC CGT CGT CGT CGT CGT CGC CGT CAC CGC CGT CGT CGT CGT CGT CGT\r\n",
      "11 49 CTC TTC CTC CTC CTC CTC CTC CTC CTC CTC CTC CTC CTC CTC CTC CTC CTC CCC CTC CTC CTC CTC CTC CTC TTC CTC CTC CTC CCC CTC CTC TTC CTC CTC CTC CTC CTC CTC CTC CTC TTC CTC CTC CTC CCC CTC CTC CTC TTC CTC CTC CCC CTC CTC CCC CTC CTC CTC CTA CTC\r\n",
      "13 45 A T A T A A T A T A T A T A T A A T A A T A T A A A A A A A A A A A A A A A T A A A A A A A T A A T A A A A A T A A\r\n",
      "15 28 C C A A A A A C A A A A A C A C C A C A A C A A A C A A A A\r\n",
      "16 50 A A A G A A A A A A A A A A A A A A A A A A A A A A A A A A A A A A A A A A A A A A A A A A A A A A A\r\n",
      "17 46 T C T T T T T T T C T T T T T T T C T T T T T T T T T T T T T T T T T T T T T T T T T C T T C T T T T\r\n",
      "18 48 GT GT GT GT GT GT GT GT GT GT GT GT CT GT GT GT GT GT GT GT GT GT GT GT GT GT GT GT GG GT GT GT GT GT GT GT GT GT GT GT GT CT GT GT CT GT GT GT GT GT GT GT\r\n",
      "19 45 TGTG TGTG TGTG TGAA TGAG TGTG TTAA TTAG TTTA TTAA TTAG GGTG GGTG TGTG TGTG TGTG TGTG GGTG TGTG TGTG TTAA TGTG GGTG TGTG TGTG TGTG TGAA TGTG TTAA TTTA TGTG TGAA TGAG TGTG TTAA TTAG TGAA TTAA TGTG TGTG TGTG TGAA TGTG TTAA GGTG TGTG TGAA TGAG TGTA TGTG TGTG TGTG GGTG TGTG TGAA TGTG TTAA TGTG TGTG GGTG TGTG TGTG GGTG TGTG TGTG TGTG TGTG TGTG TGTG GGTG TGTG TGTG TGTG GGTG TGTG\r\n",
      "24 49 TA TC TA TC TA TC TA TC TA TC TA TC TA TC TA TC TA TC TA TC TA TC TA TC TA TC TA TC TA TC TA TC TA TC TA TC TA TC TA TC CC TA TC CC TA TC TA TC TA TC TA TC TA TC TA TC TA TC TA TC TA TC TA TC TA TC TA TC TA TC TA TC TA TC TA TC TC TC TA TC TA TC TA TC TA TC TA TC TA TC TA TC TA TC TA TC TA TC\r\n",
      "25 47 CTGA GCGA GTAC GTGA GTGC CTGA GCGA GTAA GTAC GTGA GTGC GTAC GTGA CTGA GTAA GTAC GTGA GTGC GCAC GCGA GTAC GTGA GCGA GTAC GTGA CTGA GCAC GCGA GTAC GTGA CTGA CTGC GCGA GTAC GCAC GCGA GTAA GTAC GTGA GTGC GTAA GTAC GTGA GTGC CTGA GTAA GTAC GTGA CTGA GTAA GTAC GTGA GTGC CTGA GTAC GTGA CTGA GCGA GTAC GTGA GCGA GTAA GTAC GTGA GCGA GTAC GTGA GCAC GCGA GTAC GTGA CTGA GCGA GTAA GTAC GTGC GCGA GTAA GTAC GTGA GCAC GCGA GTAA GTAC GTGA CTGA GTAA GTAC GTGA GTGC GCGA GTAC GTGA GTGC GCGA GTAC GTGA GCGA GTAC GTGA GCGA GTAC GTGA GCGA GTAC GTGA GTGC GTAA GTAC GTGA GTGC GCGA GTAA GTAC GTGA GTGC GCGA GTAC GTGA CTAC CTGA GTAC GTGA GTGC CTGA GTAC GTAA GTAC GTGA CTGA GTAA GTAC GTGA GTAC GTGA CTGA GTAC GTGA GTGC CTGA GTAA GTAC GTGA GTGC GTAA GTAC GTGA GTGC GTAA GTAC GTGA GTGC GTAA GTAC GTGA GTGC GTAA GTAC GTGA GTGC CTGA GCGA GTAA GTAC GTGA GTGC GCGA GTAA GTAC GTGA GCGA GTAC GTGA GTAA GTAC GTGA GTAC GTGA GTGC GCGA GTAA GTAC GTGA GTGC GCGA GCGC GTAC GTGA\r\n",
      "26 48 GT GT TT GT TC GT GT GT GT TT GT GT TC GT GT TC GT GT TT TC GT GT TC GT TC GT GT GT TC GT TC GT GT GT GT GC GT TC GT TC GT TC GT GT GT GT TC GT TC GT TC GT TT TC TT GT GT TC GT TC GT GT GT GT TC TT GT GT\r\n",
      "30 44 T T T T C T T C T T T C T C T T T T T T T T T T T T C T T T T T T T T T T T T C T T T T T T T T T\r\n",
      "32 26 AAAA AAAG GAAA GAAG AAAA AAAA AAAA AAAA AAAA AAAG AAAA AAAG AAAA GAAA AAAA AGAA GAAA GGAA AAAA AAGA GAAA GAGA AAAA AGAA AAAA GAAA AAAA GAAA AAAA AAAA GAAA AAAA GAAA AAAA AAAA GAAA AAAA AAAA GAAA AAAA AAAA AGAA GGAA GGGA AAAA AAAA AAAA AAAA AAGA GAAA GAGA\r\n",
      "33 48 A G G A G A G G G G A G A G G G G G A G A G A G G A G A G G A G A G G A G G A G G A G A G A G A A G G A A G G G A G A G A A G A G G A G A G G G A G\r\n"
     ]
    }
   ],
   "source": [
    "!python preparing_file_for_correcting_genotypes.py \\\n",
    "../../stacks_b2_wgenome/batch_2.haplotypes2.tsv \\\n",
    "../../stacks_b2_wgenome/batch_2.biallelic_catalog.tsv \\\n",
    "../../stacks_b2_wgenome/batch_2.catalog.snps2.tsv \\\n",
    "1"
   ]
  },
  {
   "cell_type": "code",
   "execution_count": 8,
   "metadata": {},
   "outputs": [
    {
     "name": "stdout",
     "output_type": "stream",
     "text": [
      "############## EDITED FROM Marine Brieuc   mbrieuc <a> uw.edu -- TO TAKE COMMAND LINE ARGUMENTS\r\n",
      "\r\n",
      "#MF 2/13/2017\r\n",
      "\r\n",
      "# argument 1- absolute path to folder containing stacks files (DON'T INCLUDE FINAL \"/\")\r\n",
      "# argument 2- population map file, used in stacks' populations\r\n",
      "# argument 3- batch #\r\n",
      "# argument 4- minimum stack depth\r\n",
      "##########################################################################################\r\n",
      "#python genotypes_verif_v2_no_ref.py\r\n"
     ]
    }
   ],
   "source": [
    "!head genotypes_verif_v2_no_ref_takeARGS.py"
   ]
  },
  {
   "cell_type": "code",
   "execution_count": 9,
   "metadata": {},
   "outputs": [
    {
     "name": "stdout",
     "output_type": "stream",
     "text": [
      "PO010715_26_subset\n",
      "PO010715_27.1_subset\n",
      "PO020515_10.1_subset\n",
      "PO031715_04_subset\n",
      "PO031715_23_subset\n",
      "PO010715_07_rep_subset\n",
      "GE011215_08.1_subset\n",
      "GE011215_30.1_subset\n",
      "GE012315_05.1_subset\n",
      "GE012315_10.1_subset\n",
      "GEO012315_02_subset\n",
      "GEO012315_12_subset\n",
      "GEO012315_18_subset\n",
      "GEO012315_21_subset\n",
      "GE012315_11_2_subset\n",
      "GE011215_11_subset\n",
      "NA021015_02.1_subset\n",
      "NA021015_10.1_subset\n",
      "NA021015_25_subset\n",
      "YS_121316_18_subset\n",
      "YS_121316_28_subset\n",
      "YS_121316_29_subset\n",
      "YS_121316_21_2_subset\n",
      "JUK07_14_subset\n",
      "JUK07_15_subset\n",
      "JUK07_29.1_subset\n",
      "JUK07_32_subset\n",
      "JUK07_13_subset\n",
      "JUK07_12_subset\n",
      "JB121807_01_subset\n",
      "JB121807_05_subset\n",
      "JB121807_12.1_subset\n",
      "JB121807_19.1_subset\n",
      "JB121807_25_subset\n",
      "JB121807_33.1_subset\n",
      "JB121807_41.1_subset\n",
      "JB121807_05_2_subset\n",
      "JB121807_23_2_subset\n",
      "JB021108_25.1_subset\n",
      "JB021108_45_subset\n",
      "JB021108_46_rep.1_subset\n",
      "JB021108_48.1_subset\n",
      "BOR07_07.1_subset\n",
      "BOR07_10.1_subset\n",
      "BOR07_12.1_subset\n",
      "GEO020414_11_subset\n",
      "GEO020414_16_subset\n",
      "GEO020414_2_subset\n",
      "GEO020414_27_subset\n",
      "GEO020414_4_subset\n"
     ]
    }
   ],
   "source": [
    "!python genotypes_verif_v2_no_ref_takeARGS.py  \\\n",
    "../../stacks_b2_wgenome \\\n",
    "../PopMap_KOR_subset_populations.txt \\\n",
    "2 \\\n",
    "10"
   ]
  },
  {
   "cell_type": "code",
   "execution_count": 10,
   "metadata": {},
   "outputs": [
    {
     "name": "stdout",
     "output_type": "stream",
     "text": [
      "## Charles D. Waters <cwaters8@uw.edu>\r\n",
      "## 11/01/2013\r\n",
      "## This script takes the haplotype file that was output from Marine's Corrected Genotypes script (\"genotypes_verif_v2.py\") and then converts the genotypes from a,b,ab,and - to \"0101\",\"0202\",\"0102\", and \"0000\"\r\n",
      "\r\n",
      "## Argument 1: Input haplotype file of corrected genotypes, which was generated by Marine's genotypes_verif_v2.py script\r\n",
      "## Argument 2: Output file in the genepop format\r\n",
      "#python Genepop_conversion_corrected.py batch_2_corrected_genotypes_2_alleles.txt batch_2_corrected_genotypes_2_alleles_genepop.txt\r\n",
      "import sys\r\n",
      "\r\n",
      "\r\n"
     ]
    }
   ],
   "source": [
    "!head genepop_conversion_corrected.py"
   ]
  },
  {
   "cell_type": "code",
   "execution_count": 11,
   "metadata": {
    "collapsed": true
   },
   "outputs": [],
   "source": [
    "!python genepop_conversion_corrected.py \\\n",
    "../../stacks_b2_wgenome/batch_2.CorrectedGenotypes_biallelic.txt \\\n",
    "../../stacks_b2_wgenome/batch_2.MBCorrectedGenotypes_biallelic_gen"
   ]
  },
  {
   "cell_type": "markdown",
   "metadata": {},
   "source": [
    "** Original genepop (batch 1)**"
   ]
  },
  {
   "cell_type": "code",
   "execution_count": 12,
   "metadata": {
    "collapsed": true
   },
   "outputs": [],
   "source": [
    "!python prep_for_extraFilters.py \\\n",
    "../../stacks_b1_wgenome/batch_1.catalog.snps.tsv \\\n",
    "../../stacks_b1_wgenome/batch_1.catalog.snps2.tsv \\\n",
    "../../stacks_b1_wgenome/batch_1.haplotypes.tsv \\\n",
    "../../stacks_b1_wgenome/batch_1.haplotypes2.tsv"
   ]
  },
  {
   "cell_type": "code",
   "execution_count": 13,
   "metadata": {},
   "outputs": [
    {
     "name": "stdout",
     "output_type": "stream",
     "text": [
      "2 262 G G A G G G G A G G G A G G A G G G A G G G A G A G A G A G A G A G G G G G G G G G G A G A G A G G A G G G G G G G A G G G A G A G A G A G G A G A A G G A G A G A G A G A G G G G G G A G G A G G G A G A G G G G G G G G G G A G A G G G A G G A G A G A G G G G A G A G G A G G A G G G G A G G G G G G G G G A G A G G G A G G G G G A G A G A G A G G G A G A G A G G A G A G A A G A G G G G G G G G G A G G A G A G A G G G G G A G G G A A A G A G G G G G G A A A G A G G G G G A A G A G G G G A G G A G G G A G G A G G G A G A G A G A A G G G G A G A G A G G G G G G G G A G A A G G G G G G A G G A G G A A G G G A G G G A G A G G G A G A G A A G G G A G A G G G G G A G A G G G G G G G A G G G G G G A G A G\n",
      "3 462 T T T T T T C T T T T T T T T T T T C T T T T T T T T T T T C T T T T C T T T T T T T T T T T T T T T T C T T T T T T T T T T T T T T T T T T T T T T T T T T T T T T T T T T T T T T T T T T T T T T T T T T T T T T T T T T T T T T T T T T T T T T T T T T T T T T T T T T T T T T T T T T T T C T T T T T T T T T T T T T T T T T T T T T T T T T T T T T T T T T T T T T T T T T T T T T T T T T T T T T T T T T T T T T T T T T T T T T T T T T T T T T C T C T T T T T T T T T T T T T T T T C T T T T T T T T T T T T T T T T T T T T T T T T T T T T T T T T T T T T T T T T T T T T T T T T T T T T T T T T T T T T T T T T T T T T T T T T T T T T T T T T T T T T T T T T T T T T T T T T T T T T T T T T T T T T T T T T T T T T T T T T T T T T T T T T T T T T T T T T T T T T T T T T T T T T T T T T T T T T T T T T T T T T T T T T T T T T T T T T T T T T T T T T T T T T T T T T T T T T T T T T T T T T T T T T T T T T T T T T T T T T T T T T T T T T\n",
      "5 433 T T T T C T C T C T C T C T C T C T T C T C T T C T C T C T T T C C T C T C T C T T C T T T C T T T T C T T T T T T T T T C T T T C T T T C T T C T T T C C C T C T C T T T C T C T C T T C T C T C T C T C C T C T C T T T C T C T T C T T T C T C T T C T C T C T C T C T T T T T C T C T C T C C T T C T C T T C C T C T T C C C T C C T C T C T C C T C C C C C C C C C C C T C T C C T C T C T C T C T C T C C C C C C T C T C T C T C T C T C C T C T C C T C T C T C T T C T C T C T C C T T T C T C T C T C T C T T C T T T T T T T T T C T C T T T T T T C T C T C T T C T C T T C T C T C T C T T C T C T T T T C T C T C C C C C C C C C C C C C C C C C C C C T C C C C C C C C C C C C C C C C C C C C C C C C C C C C C C C C C C C C C C C C C C C C C C C C C C C C C C C C C C C C C C C C C C C C C C C C C C C C C C C C C C C C C C C C C C C C C C C C C C C C C C C C C C C C C C C C C C C C C C C C C C C C C C C C C C C C C C C C C C C C C C C C C C C C C C C C C C C C C T C C C C C C C C C C C C C C C C C C C C C C C C C T C C C C C C C C C C C C C C C C C C C C C\n",
      "6 316 A A A A A A A A A A A A A A A A A A A A A G A A A A A A A A A A A A A A A A A A A A A A A A A A A A A A A A A A A A A A A A A A A A A A A A A A A A A A A A A A A A A A A A A A A A A A A A A A A A A A A A A A A A A A A A A A A A A A A A A A A A A A A A A A A A A A A A A A A A A A A A A A A A A A A A A A A A A A A A A A A A A A A A A A A A A A A A A A A A A A A A A A A A A A A A A A A A A A A A A A A A A A A A A A A A A A A A A A A A A A A A A A A A A A A A A A A A A A A A A A A A A A A A A A A A A A A A A A A A A A A A A A A A A A A A A A A G A A A A A A A A A A A A A A A A A A A A A A A A A A A A A A A A A A A A A A A A A A A A\n",
      "7 207 C C C C C C C C C C C C C C C C C C C C C C C C C C C C C C C C C C C C C C C C C C C C C C C C C C C C C C C C C C C C C C C C C C C C C C C C C C C C C C C C C C C C C C C C C C C C C C C C C C C C C C C C C C C C C C C C C C C C C C C C C C C C C C C C C C C C C C C C C C C C C C C C C C C C C C C C C C C C C C C C C C C C C C C C C C C C C C C C C C C C C C C C C C C C C C C C C T C C C C C C C C C C C C C C\n",
      "8 210 C C C C C C C C C C C C C C C C C C C C C C C C C C C C C C C C C C C C C C C C C C C C C C C C C C C C C C C C C C C C C C C C C C C C C C C C C C C C C C C C C C C C C C C C C C C C C C C C C C C C C C C C C C C C C C C C C C C C C C C C C C C C C C C C C C C C C C C C C C C C C C C C C C C C C C C C C C C C C C C C C C C C C C C C C C C C C C C C C C C C C C C C C C C C C C C C C C C C C C C C C C C C C C C C C A C\n",
      "9 313 G G G G G G G G G G G G G G G G G G G G G G G G G G G G G G G G G G G G G G G G G G G G G G G G G G G G G G G G G G G G G G G G G G G G G G G G G G G G G G G G G G G G G C G G G G G G G G G G G G G G G G G G G G G G G G G G G G G G G G G G G G G G G G G G G G G G G G G G G G G G G G G G G G G G G G G G G G G G G G G G G G G G G G G G G G G G G G G G G G G G G G G G G G G G G G G G G G G G G G G G G G G G G G G G G G G G G G G G G G G G G G G G G G G G G G G G G G G G G G G G G G G G G G G G G G G G G G G G G G G G G G G G G G G G G G G G G G G G G G G G G G G G G G G G G G G G G G G G G G G G G G G G G G G G G G G G G G\n",
      "10 315 C C C C C C C C C C C C C C C C C C C C C C C C C C C C C C C C C C C C C C C C C C C C C C C C C C C C C C C C C C C C C C C C C C C C C C C C C C C C C C C C C C C C C C C C C C C C C C C C C C C C C C C C C C C C C C C C C C C C C T C C C C T C C C C C C C C C T C C C C C C C T C C C C C C C T C C C C C T C C C C C C C C C C C C C C C C C C C C C C C C C C C C C C C C C C C C T C C C C C C C C C C C C C C C C C C C C C C C C C C C C C C C C C C C C C C C C C C C C C C C C C C C C C C C C C C C C C C C C C C C C C C C C C T C C C C C C C C C C C C C C C C T C T C C C C C C C C C C C C C C C C C C C C C C C C C T C C C C C C C C C C C\n",
      "11 312 C C C C C C C C C C C C C C C C C C C C C C C C C C C C C C C C C C C C C C C C C C C C C C C C C C C C C C C C C C C C C C C C C C C C C C C C C C C C C C C C C C C C C C C C C C C C C C C C C C C C C C C C C C C C C C C C C C C C C C C C C C C C C C C C C C C C C C C C C C C C C C C C C C C C C C C C C C C C C C C C C C C C C C C C C C C C C C C C C C C C C C C C C C C C C C C C C C C C C C C C C C C C C C C C C C C C C C C C C C C C C C C C C C C C C C C C C C C C C C C C C C C C C C C C C C C C C C C C C C C C C C C C C C C C C C C C C C C C C C C C C C C C C C C C C C C C C C C C C C C C C C C C A C C C C C C C C\n",
      "12 597 T T T T T T T T T T T T T T T T T T T T T T T T T T T T T T T T T T T T T T T T T T T T T T T T T T T T T T T T T T T T T T T T T T T T T T T T T T T T T T T T T T T T T T T T T T T T T T T T T T T T T T T T T T T T T T T T T T T T T T T T T T T T T T T T T T T T T T T T T T T T T T C T T T T T T T T T T T T T T T T T T T T T T T T T T T T T T T T T T T T T T T T T T T T T T T T T T T T T T T T T T T T T T T T T T T T T T T T T T T T T T T T T T T T T T T T T T T T T T T T T T T T T T T T T T T T T T T T T T T T T T T T T T T T T T T T T T T T T T T T T T T T T T T T T T T T T T T T T T T T T T T T T T T T T T T T T T T T T T T T T T T T T T T T T T T T T T T T T T T T T T T T T T T T T T T T T T T T T T T T T T T T T T T T T T T T T T T T T T T T T T T T T T T T T T T T T T T T T T T T T T T T T T T T T T T T T T T T T T T T T T T T T T T T T T T T T T T T T T T T T T T T T T T T T T T T T T T T T T T T T T T T T T T T T T T T T T T T T T T T T T T T T T T T T T T T T T T T T T T T T T T T T T T T T T T T T T T T T T T T T T T T T T T T T T T T T T T T T T T T T T T T T T T T T T T T T T T T T T T T T T T T T T T T T T T T T T T T T T T T T T T T T T T T T T T T T T T T T T T\n",
      "13 628 A A A T A A T A T A A A T A T A A T A T A A A A A A T A A T A A A T A A T A T A A A A A A T A A A T A T A A A A T A A A A A A A A T A A A A A A A A A T A A A T A A A T A T A A A A T A A A A A A A A A T A A A A A A A A A A A A A A A A T A A A A T A A A A T A A A A A A A A A A A A A A A A A A A A A T A T A T A A A A A A A A A A A T A A A A A A A A A A A A A A A A T A A A A A A A A A A A A A T A A T A T A A A T A A A A A T A A A A A A A A T A A T A A A A A A T A A A A A A A A A A A A A A A A A A A T A A A T A T A A A A A A A A A A A A A A A A A A A T A A T A T A A A A A A A A A A A A A A A A A T A A A A A A A A A A T A T A T A A A A A A A T A A T A A A A A A A A A A A A A A A A A T A A A A A A A A A A A A A A A A A A A A A A A A A A A A A A A A A A A A A A A A A A A A A A A A A A A A A A A A A A A A A A A A A A A A A A A A A A A A A A A A A A A A A A A A A A A A A A A A A A A A A A A A A A A A A A A A A A A A A A A A A A A A A A A A A A A A A A A A A A A A A A A A A A A A A A A A A A A A A A A A A A A A A A A A A A A A A A A A A A A A A A A A A A A A A A A A A A A A A A A A A A A A A A A A A A A A A A A A A A A A A A A A A A A A A A A A A A A A A A A A A A A A A A A A A A A A A A A A A A A A A A A A A A A A A A A A A A A A A A A A A A A A A A A A A A A A A A A A A A A A A A A A A A A A A A A A A A A A A A A A A A A A A A A A A A\n",
      "14 395 C C C C C C C C C C C C C C C C C C C C C C C C C C C C C C C C C C C C C C C C C C C C C C C C C C C C C C C C C C C C C C C C C C C C C C C C C C C C C C C C C C C C C C C C C C C C C C C C C C C C C C C C C C C C C C C C C C C C C C C C C C C C C C C C C C C C C C C C C C C C C C C C C C C C C C C C C C C C C C C C C C C C C C C C C C C C C C C C C C C C C C C C C C C C C C C C C C C C C C C C C C C C C C C C C C C C C C C C C C C C C C C C C C C C C C C C C C C C C C C C C C C C T C C C C C C C C C C C C C C C C C C C C C C C C C C C C C C C C C C C C C C C C C C C C C C C C C C C C C C C C C C C C C C C C C C C C C C C C C C C C C C C C C C C C C C C C C C C C C C C C C C C C C C C C C C C C C C C C C C C C C C C C C C C C C C C C C C C C C C C C C C C C T C C C C C C C C C C C\n",
      "16 652 A A A A A A A G A A A A A A A A G A A A G A A A A A A A A A A A A A A A A A A A A A A A A A A A A A A A A A A A A A A A A A A A A A A A A G A A A A A A A A A A A A A A A A G A A A A A A A A A A A A A A A A A A A A A A A A A A A A A A A A A A A A A A A A A A A A A A A A A A A A A A A A A A A A A A A A A A A A A A A A A A A A A A A A A G A A A A A A A A A A A A A A A A A A A A A A A A A A A A A A A A A A A A A A A A A A A A A A A A A A A A A A A A A G A G A A A A A A A A A A A A A A A A A A A A A A A A A A A A A A A A A A A A A A A A A A A A A G A A A G A A A A A A A A A G A A A G A G A A A A A A A A A A A A A A A A A A A A A A A A A A A A A A A A A A A A A A A A A A A A A A A A A A A A A A A A A A A A A A A A A A A A A A A A A A A A A A A A A A A A A A A A A A A A A A A A A A A A A A A A A A A A A A A A A A A A A A A A A A A A A A A A A A A A A A A A A A A A A A A A A A A A A A A A A A A A A A A A A A A A A A A A A A A A A A A A A A A A A A A A A A A A A A A A A A A A A A A A A A A A A A A A A A A A A A A A A A A A A A A A A A A A A A A A A A A A A A A A A A A A A A A A A A A A A A A A A A A A A A A A A A A A A A A A A A A A A A A A A A A A A A A A A A A A A A A A A A A A A A A A A A A A A A A A A A A A A A A A A A A A A A A A A A A A A A A A A A A A A A A A A A A A A A A A A A A A A A A A A A A A A A A A A A\n",
      "17 305 T T T T T T T T T T T T C T C T T T T T T T T T T T T T T T T T T T T T T T T T T T T T T T T T T T T T T T C T T T T T T T T T T T T T T C T T T T C T T T T T T T T T T T T T T C T T T T T T T T T T T T T T T T T T T T T T T T T T T T T T T T T T T T T T T T T T T T T T T T T T T T T T C T T T T T T T T T T T T T T T T T T T T T T T C T T T C T T T T T T T T T T T T T T T T T T T T T T T T T T T T T T T T T T T T T T T T T T T T T T T T T T T T T T T T T T T T T T T T T T T T T T T T T T T T T T T T T T T T T T T T T T T T T T T T C T T T T C T T T C T T T T T T T T T T T T T C T C T T T T T T T T T T T T T T T T T T T T T T T\n",
      "18 306 G G G G G G G G G G G G G G G G G G G G G G G G G G G G G G G G G G G G G G G G G G G G G G G G G G G G G G G G G G G G G G G G G G G C G G G G G G G G G G G G G G G G G G G G G G G G G G G G G G G G C G G G G G G G G G G G G G G C G G G G G G G G G G G G G G G G C C G G G G C G C G G G G G G G G G G G G G G G G G C G G G G G G G G G G G G G G G G G G G G G G G G G G G G G G G G C G G G G G G G C G G G G G G G G G G G G G C G G G G G G G G G G G G G G G G G G G G G G G G G G G G G G G G G G G G G G G G G G G G G C G G G G G G G G G G C G G G C G G G G G G G G G G G G G G G G G G G G G G G G G G G G G G G G G G G G G G G G G G G G\n",
      "19 250 T T T A T T T A T T T T A T T T T T T A A T T T T A T A T T T T A T T A T T T T A T A T T T T T T T T A T T T T T T T T T T T T T T T T T T T T T T T T T T T T T T T A T A T A T T T A T T T T T T T T T T A A T T T T A T T T T T T T T A T T A T A T A T A T T A T T T T T T A T T T T T T T T A T A T T T T A T T T A T T T T T T T T A T T T T T T A T T T T T T T T T T A T A T T T T A T T T A T T T T T T T A T A T T A T T T A T A T T T T T A T T T T T T A A T T A T T T T T T T T T T A T T T T T T T T T T A T T T T A T T A T T A T A T T A T T T T T T T T A T T T T T T T T T T T T T T T\n",
      "20 479 T T T T T T T T T T T T T T T T T T T T T T T T T T T T T T T T T T T T T T T T T T T T T T T T T T T T T T T T T T T T T T T T T T T T T T T T T T T T T T T T T T T T T T T T T T T T T T T T T T T T T T T T T T T T T T T T T T T T T T T T T T T T T T T T T T T T T T T T T T T T T T T T T T T T T T T T T T T T T T T T T T T T T T T T T T T T T T T T T T T T T T T T T T T T T T T T T T T T T T T T T T T T T T T T T T T T T T T T T T T T T T T T T T T T T T T T T T T T T T T T T T T T T T T T T T T T T T T T T T T T T T T T T T T T T T T T T T T T T T T T T T T T T T T T T T T T T T T T T T T T T T T T T T T T T T T T T T T T T T T T T T T T T T T T T T T T T G T T T T T T T T T T T T T T T T T T T T T T T T T T T T T T T G T T T T T T T T T T T T T T T T T T T T T T T T T T T T T T T T T T T T T T T T G T T T T T T T T T T T T T T G T T T G T T T G T T T T T T T T T T T T G T T T T T T T T T T T T T T T T T T T T T T T T T T G T T T T T T T T T T T T T T T T T\n",
      "21 206 C C C C C C C C C C C C C C C C C C C C C C C C C C C C C C C C C C C C C C C C C C C C C C C C C C C C C C C C C C C C C C C C C C C C C C C C C C C C C C C C C C C C C C C C C C C C C C C C C C C C C C C C C C C C C C C C C C C C C C C C C C C C C C C C C C C C C C C C C C C C C C C C C C C C C C C C C C C C C C C C C C C C C C C C C C C C C C C C C C C C C C C C C C C C C A C C C C C C C C C C C C C C C C C\n",
      "22 648 C C C C C C C C C C C C C C C C C C C C C C C C C C C C C C C C C C C C C C C C C C C C C C C C C C C C C C C C C C C C C C C C C C C C C C C C C C C C C C C C C C C C C C C C C C C C C C C C C C C C C C C C C C C C C C C C C C C C C C C C C C C C C C C C C C C C C C C C C C C C C C C C C C C C C C C C C C C C C C C C C C C C C C C C C C C C C C C C C C C C C C C C C C C C C C C C C C C C C C C C C C C C C C C C C C C C C C C C C C C C C C C C C C C C C C C C C C C C C C C C C C C C C C C C C C C C C C C C C C C C C C C C C C C C C C C C C C C C C C C C C C C C C C C A C C C C C C C C C C C C C C C C C C C C C C C C C C C C C C C C C C C C C C C C C C C C C C C C C C C C C C C C C C C C C C C C C C C C C C C C C C C C C C C C C C C C C C C C C C C C C C C C C C C C C C C C C C C C C C C C C C C C C C C C C C C C C C C C C C C C C C C C C C C C C C C C C C C C C C C C C C C C C C C C C C C C C C C C C C C C C C C C C C C C C C C C C C C C C C C C C C C C C C C C C C C C C C C C C C C C C C C C C C C C C C C C C C C C C C C C C C C C C C C C C C C C C C C C C C C C C C C C C C C C C C C C C C C C C C C C C C C C C C C C C C C C C C C C C C C C C C C C C C C C C C C C C C C C C C C C C C C C C C C C C C C C C C C C C C C C C C C C C C C C C C C C C C C C C C C C C C C C C C C C C\n"
     ]
    }
   ],
   "source": [
    "!python preparing_file_for_correcting_genotypes.py \\\n",
    "../../stacks_b1_wgenome/batch_1.haplotypes2.tsv \\\n",
    "../../stacks_b1_wgenome/batch_1.biallelic_catalog.tsv \\\n",
    "../../stacks_b1_wgenome/batch_1.catalog.snps2.tsv \\\n",
    "1"
   ]
  },
  {
   "cell_type": "code",
   "execution_count": 14,
   "metadata": {},
   "outputs": [
    {
     "name": "stdout",
     "output_type": "stream",
     "text": [
      "PO010715_26\n",
      "PO010715_27.1\n",
      "PO020515_10.1\n",
      "PO031715_04\n",
      "PO031715_23\n",
      "PO010715_07_rep\n",
      "GE011215_08.1\n",
      "GE011215_30.1\n",
      "GE012315_05.1\n",
      "GE012315_10.1\n",
      "GEO012315_02\n",
      "GEO012315_12\n",
      "GEO012315_18\n",
      "GEO012315_21\n",
      "GE012315_11_2\n",
      "GE011215_11\n",
      "NA021015_02.1\n",
      "NA021015_10.1\n",
      "NA021015_25\n",
      "YS_121316_18\n",
      "YS_121316_28\n",
      "YS_121316_29\n",
      "YS_121316_21_2\n",
      "JUK07_14\n",
      "JUK07_15\n",
      "JUK07_29.1\n",
      "JUK07_32\n",
      "JUK07_13\n",
      "JUK07_12\n",
      "JB121807_01\n",
      "JB121807_05\n",
      "JB121807_12.1\n",
      "JB121807_19.1\n",
      "JB121807_25\n",
      "JB121807_33.1\n",
      "JB121807_41.1\n",
      "JB121807_05_2\n",
      "JB121807_23_2\n",
      "JB021108_25.1\n",
      "JB021108_45\n",
      "JB021108_46_rep.1\n",
      "JB021108_48.1\n",
      "BOR07_07.1\n",
      "BOR07_10.1\n",
      "BOR07_12.1\n",
      "GEO020414_11\n",
      "GEO020414_16\n",
      "GEO020414_2\n",
      "GEO020414_27\n",
      "GEO020414_4\n"
     ]
    }
   ],
   "source": [
    "!python genotypes_verif_v2_no_ref_takeARGS.py  \\\n",
    "../../stacks_b1_wgenome \\\n",
    "../PopMap_KOR_subset_populations2.txt \\\n",
    "1 \\\n",
    "10"
   ]
  },
  {
   "cell_type": "code",
   "execution_count": 49,
   "metadata": {},
   "outputs": [],
   "source": [
    "!python Genepop_conversion_corrected.py \\\n",
    "../../stacks_b1_wgenome/batch_1.CorrectedGenotypes_biallelic \\\n",
    "../../stacks_b1_wgenome/batch_1.CorrectedGenotypes_biallelic.txt"
   ]
  },
  {
   "cell_type": "markdown",
   "metadata": {},
   "source": [
    "### Create genotype files for only matched loci\n",
    "\n",
    "#### Find loci_snp pairs in common between the two"
   ]
  },
  {
   "cell_type": "code",
   "execution_count": 50,
   "metadata": {},
   "outputs": [
    {
     "data": {
      "text/plain": [
       "u'/mnt/hgfs/Pacific cod/DataAnalysis/PCod-Compare-repo/scripts/PostStacksFiltering'"
      ]
     },
     "execution_count": 50,
     "metadata": {},
     "output_type": "execute_result"
    }
   ],
   "source": [
    "pwd"
   ]
  },
  {
   "cell_type": "code",
   "execution_count": 51,
   "metadata": {},
   "outputs": [
    {
     "name": "stdout",
     "output_type": "stream",
     "text": [
      "/mnt/hgfs/Pacific cod/DataAnalysis/PCod-Compare-repo\n"
     ]
    }
   ],
   "source": [
    "cd ../../"
   ]
  },
  {
   "cell_type": "code",
   "execution_count": 52,
   "metadata": {},
   "outputs": [],
   "source": [
    "infile = open(\"stacks_b1_wgenome/batch_1.CorrectedGenotypes_biallelic.txt\", \"r\")\n",
    "\n",
    "# find indices of locus_snp pairs from batch 2 genepop that match batch 1 locus_snp pairs\n",
    "snps = infile.readline()\n",
    "snp_list_b1 = snps.strip().split(\"\\t\")"
   ]
  },
  {
   "cell_type": "code",
   "execution_count": 53,
   "metadata": {},
   "outputs": [
    {
     "name": "stdout",
     "output_type": "stream",
     "text": [
      "13872\n"
     ]
    }
   ],
   "source": [
    "print len(snp_list_b1)"
   ]
  },
  {
   "cell_type": "code",
   "execution_count": 54,
   "metadata": {
    "collapsed": true
   },
   "outputs": [],
   "source": [
    "infile = open(\"stacks_b2_wgenome/batch_2.CorrectedGenotypes_biallelic.txt\", \"r\")\n",
    "\n",
    "# find indices of locus_snp pairs from batch 2 genepop that match batch 1 locus_snp pairs\n",
    "snps = infile.readline()\n",
    "snp_list_b2 = snps.strip().split(\"\\t\")"
   ]
  },
  {
   "cell_type": "code",
   "execution_count": 55,
   "metadata": {
    "scrolled": true
   },
   "outputs": [
    {
     "name": "stdout",
     "output_type": "stream",
     "text": [
      "8996\n"
     ]
    }
   ],
   "source": [
    "print len(snp_list_b2)"
   ]
  },
  {
   "cell_type": "code",
   "execution_count": 56,
   "metadata": {
    "collapsed": true
   },
   "outputs": [],
   "source": [
    "loci_list_matched = [i for i in snp_list_b2 if i in snp_list_b1]"
   ]
  },
  {
   "cell_type": "code",
   "execution_count": 57,
   "metadata": {},
   "outputs": [
    {
     "name": "stdout",
     "output_type": "stream",
     "text": [
      "6937\n"
     ]
    }
   ],
   "source": [
    "print len(loci_list_matched)"
   ]
  },
  {
   "cell_type": "markdown",
   "metadata": {},
   "source": [
    "#### find indices for each matched locus"
   ]
  },
  {
   "cell_type": "code",
   "execution_count": 58,
   "metadata": {},
   "outputs": [
    {
     "name": "stdout",
     "output_type": "stream",
     "text": [
      "8995\n"
     ]
    }
   ],
   "source": [
    "# find indices of locus_snp pairs from batch 2 genepop that match batch 1 locus_snp pairs\n",
    "indices_b2 = []\n",
    "index = 0\n",
    "\n",
    "snps_keptb2 = []\n",
    "snps_removedb2 = []\n",
    "\n",
    "for snp in snp_list_b2:\n",
    "    if snp in loci_list_matched:\n",
    "        indices_b2.append(index)\n",
    "        snps_keptb2.append(snp)\n",
    "    elif snp not in loci_list_matched:\n",
    "        snps_removedb2.append(snp)    \n",
    "    index += 1\n",
    "\n",
    "print indices_b2[len(indices_b2)-1]"
   ]
  },
  {
   "cell_type": "code",
   "execution_count": 59,
   "metadata": {},
   "outputs": [
    {
     "name": "stdout",
     "output_type": "stream",
     "text": [
      "6937\n"
     ]
    }
   ],
   "source": [
    "print len(indices_b2)"
   ]
  },
  {
   "cell_type": "code",
   "execution_count": 60,
   "metadata": {},
   "outputs": [
    {
     "name": "stdout",
     "output_type": "stream",
     "text": [
      "6937\n"
     ]
    }
   ],
   "source": [
    "print len(snps_keptb2)"
   ]
  },
  {
   "cell_type": "code",
   "execution_count": 61,
   "metadata": {
    "scrolled": true
   },
   "outputs": [
    {
     "name": "stdout",
     "output_type": "stream",
     "text": [
      "2059\n"
     ]
    }
   ],
   "source": [
    "print len(snps_removedb2)"
   ]
  },
  {
   "cell_type": "markdown",
   "metadata": {},
   "source": [
    "*batch 1*"
   ]
  },
  {
   "cell_type": "code",
   "execution_count": 62,
   "metadata": {},
   "outputs": [
    {
     "name": "stdout",
     "output_type": "stream",
     "text": [
      "13871\n"
     ]
    }
   ],
   "source": [
    "# find indices of locus_snp pairs from batch 2 genepop that match batch 1 locus_snp pairs\n",
    "indices_b1 = []\n",
    "index = 0\n",
    "\n",
    "snps_keptb1 = []\n",
    "snps_removedb1 = []\n",
    "\n",
    "for snp in snp_list_b1:\n",
    "    if snp in loci_list_matched:\n",
    "        indices_b1.append(index)\n",
    "        snps_keptb1.append(snp)\n",
    "    elif snp not in loci_list_matched:\n",
    "        snps_removedb1.append(snp)    \n",
    "    index += 1\n",
    "\n",
    "print indices_b1[len(indices_b1)-1]"
   ]
  },
  {
   "cell_type": "code",
   "execution_count": 63,
   "metadata": {},
   "outputs": [
    {
     "name": "stdout",
     "output_type": "stream",
     "text": [
      "6937\n"
     ]
    }
   ],
   "source": [
    "print len(indices_b1)"
   ]
  },
  {
   "cell_type": "code",
   "execution_count": 64,
   "metadata": {},
   "outputs": [
    {
     "name": "stdout",
     "output_type": "stream",
     "text": [
      "6937\n"
     ]
    }
   ],
   "source": [
    "print len(snps_keptb1)"
   ]
  },
  {
   "cell_type": "code",
   "execution_count": 65,
   "metadata": {},
   "outputs": [
    {
     "name": "stdout",
     "output_type": "stream",
     "text": [
      "6935\n"
     ]
    }
   ],
   "source": [
    "print len(snps_removedb1)"
   ]
  },
  {
   "cell_type": "code",
   "execution_count": 66,
   "metadata": {},
   "outputs": [
    {
     "name": "stdout",
     "output_type": "stream",
     "text": [
      "snps in the batch 1 genepop that were not identified in the batch 2 genepop:\n",
      "6935\n"
     ]
    }
   ],
   "source": [
    "print \"snps in the batch 1 genepop that were not identified in the batch 2 genepop:\"\n",
    "print len([i for i in snp_list_b1 if i not in snp_list_b2])"
   ]
  },
  {
   "cell_type": "code",
   "execution_count": 67,
   "metadata": {},
   "outputs": [
    {
     "name": "stdout",
     "output_type": "stream",
     "text": [
      "snps in the batch 2 genepop that were not identified in the batch 1 genepop:\n",
      "2059\n"
     ]
    }
   ],
   "source": [
    "print \"snps in the batch 2 genepop that were not identified in the batch 1 genepop:\"\n",
    "print len([i for i in snp_list_b2 if i not in snp_list_b1])"
   ]
  },
  {
   "cell_type": "markdown",
   "metadata": {},
   "source": [
    "\n",
    "_______________________________________________________________________________________________________________\n",
    "\n",
    "REDO OF MARINE's SCRIPT TO SEE IF LOW # OF LOCI IS FROM STACK DEPTH"
   ]
  },
  {
   "cell_type": "code",
   "execution_count": 19,
   "metadata": {},
   "outputs": [
    {
     "name": "stdout",
     "output_type": "stream",
     "text": [
      "/mnt/hgfs/Pacific cod/DataAnalysis/PCod-Compare-repo/scripts/PostStacksFiltering\n"
     ]
    }
   ],
   "source": [
    "cd scripts/PostStacksFiltering/"
   ]
  },
  {
   "cell_type": "code",
   "execution_count": null,
   "metadata": {
    "collapsed": true
   },
   "outputs": [],
   "source": [
    "!python genotypes_verif_v2_no_ref_takeARGS.py  \\\n",
    "../../stacks_b2_wgenome \\\n",
    "../PopMap_KOR_subset_populations.txt \\\n",
    "2 \\\n",
    "5"
   ]
  },
  {
   "cell_type": "code",
   "execution_count": 42,
   "metadata": {},
   "outputs": [],
   "source": [
    "infile = open(\"stacks_b2_wgenome/batch_2.CorrectedGenotypes_biallelic_depth5.txt\", \"r\")\n",
    "\n",
    "# find indices of locus_snp pairs from batch 2 genepop that match batch 1 locus_snp pairs\n",
    "snps = infile.readline()\n",
    "snp_list_b2_d5 = snps.strip().split(\"\\t\")"
   ]
  },
  {
   "cell_type": "code",
   "execution_count": 43,
   "metadata": {},
   "outputs": [
    {
     "name": "stdout",
     "output_type": "stream",
     "text": [
      "8996\n"
     ]
    }
   ],
   "source": [
    "print len(snp_list_b2_d5)"
   ]
  },
  {
   "cell_type": "code",
   "execution_count": 44,
   "metadata": {
    "collapsed": true
   },
   "outputs": [],
   "source": [
    "infile.close()"
   ]
  },
  {
   "cell_type": "markdown",
   "metadata": {},
   "source": [
    "__________________________________________"
   ]
  },
  {
   "cell_type": "markdown",
   "metadata": {},
   "source": [
    "** WRITE OUT ONLY GENOTYPES THAT CORRESPOND TO THOSE LOCI**\n",
    "\n",
    "*batch 1*"
   ]
  },
  {
   "cell_type": "code",
   "execution_count": 68,
   "metadata": {},
   "outputs": [
    {
     "name": "stdout",
     "output_type": "stream",
     "text": [
      "loci written out:  6937\n",
      "matching loci:  6937\n"
     ]
    }
   ],
   "source": [
    "infile = open(\"stacks_b1_wgenome/batch_1.CorrectedGenotypes_biallelic.txt\", \"r\")\n",
    "outfile = open(\"stacks_b1_wgenome/batch_1_matched.CorrectedGenotypes_biallelic.txt\", \"w\")\n",
    "outfile2 = open(\"stacks_b1_wgenome/index_check_b1_corrected.txt\", \"w\")\n",
    "\n",
    "loci_list_b1 = infile.readline().strip().split(\"\\t\")\n",
    "loci_written_out = 0\n",
    "\n",
    "i = 0\n",
    "\n",
    "for locus in loci_list_b1:\n",
    "    if i in indices_b1 and i != 13871:\n",
    "        outfile.write(locus + \"\\t\")\n",
    "        loci_written_out += 1\n",
    "    elif i in indices_b1 and i == 13871:\n",
    "        outfile.write(locus + \"\\n\")\n",
    "        loci_written_out += 1\n",
    "    i += 1\n",
    "print \"loci written out: \", str(loci_written_out)\n",
    "print \"matching loci: \", str(len(loci_list_matched))\n",
    "\n",
    "for line in infile:\n",
    "    linelist = line.strip().split()\n",
    "    outfile.write(linelist[0] + \"\\t\")\n",
    "    sample_index = 0\n",
    "    index_check = \"\"\n",
    "    for i in range(1,len(linelist)):\n",
    "        if sample_index in indices_b1 and sample_index != 13871:\n",
    "            outfile.write(linelist[i] + \"\\t\")\n",
    "            index_check += \",\" + str(sample_index)\n",
    "        elif sample_index in indices_b1 and sample_index == 13871:\n",
    "            outfile.write(linelist[i] + \"\\n\")\n",
    "            index_check += \",\" + str(sample_index)\n",
    "        sample_index += 1\n",
    "    outfile2.write(index_check + \"\\n\")\n",
    "    \n",
    "infile.close()\n",
    "outfile.close()\n",
    "outfile2.close()"
   ]
  },
  {
   "cell_type": "markdown",
   "metadata": {},
   "source": [
    "*batch 2*"
   ]
  },
  {
   "cell_type": "code",
   "execution_count": 106,
   "metadata": {},
   "outputs": [
    {
     "name": "stdout",
     "output_type": "stream",
     "text": [
      "loci written out:  6937\n",
      "matching loci:  6937\n"
     ]
    }
   ],
   "source": [
    "infile = open(\"stacks_b2_wgenome/batch_2.CorrectedGenotypes_biallelic.txt\", \"r\")\n",
    "outfile = open(\"stacks_b2_wgenome/batch_2_matched.CorrectedGenotypes_biallelic.txt\", \"w\")\n",
    "outfile2 = open(\"stacks_b2_wgenome/index_check_b2_corrected.txt\", \"w\")\n",
    "\n",
    "loci_list_b2 = infile.readline().strip().split()\n",
    "loci_written_out = 0\n",
    "i = 0\n",
    "\n",
    "for locus in loci_list_b2:\n",
    "    if i in indices_b2 and i != 8995:\n",
    "        outfile.write(locus + \"\\t\")\n",
    "        loci_written_out += 1\n",
    "    elif i in indices_b2 and i == 8995:\n",
    "        outfile.write(locus + \"\\n\")\n",
    "        loci_written_out += 1\n",
    "    i += 1\n",
    "    \n",
    "print \"loci written out: \", str(loci_written_out)\n",
    "print \"matching loci: \", str(len(loci_list_matched))\n",
    " \n",
    "\n",
    "\n",
    "for line in infile:\n",
    "    linelist = line.strip().split()\n",
    "    outfile.write(linelist[0] + \"\\t\")\n",
    "    sample_index = 0\n",
    "    index_check = \"\"\n",
    "    for i in range(1,len(linelist)):\n",
    "        if sample_index in indices_b2 and sample_index != 8995:\n",
    "            outfile.write(linelist[i] + \"\\t\")\n",
    "            index_check += \",\" + str(sample_index)\n",
    "        elif sample_index in indices_b2 and sample_index == 8995:\n",
    "            outfile.write(linelist[i] + \"\\n\")\n",
    "            index_check += \",\" + str(sample_index)\n",
    "        sample_index += 1\n",
    "    outfile2.write(index_check + \"\\n\")\n",
    "    \n",
    "infile.close()\n",
    "outfile.close()\n",
    "outfile2.close()"
   ]
  },
  {
   "cell_type": "markdown",
   "metadata": {},
   "source": [
    "<br>\n",
    "<br>\n",
    "### Compare Genotypes"
   ]
  },
  {
   "cell_type": "code",
   "execution_count": 107,
   "metadata": {},
   "outputs": [],
   "source": [
    "gen1 = open(\"stacks_b1_wgenome/batch_1_matched.CorrectedGenotypes_biallelic.txt\", \"r\")\n",
    "gen2 = open(\"stacks_b2_wgenome/batch_2_matched.CorrectedGenotypes_biallelic.txt\", \"r\")\n",
    "\n",
    "#check to make sure that all needed locus_snp pairs are present in batch 2 genepop\n",
    "loci1 = gen1.readline().strip().split(\"\\t\")\n",
    "loci2 = gen2.readline().strip().split(\"\\t\")\n",
    "for i in loci1:\n",
    "    if i not in loci2: \n",
    "        print \"oh no! You're missing locus \", i, \" in your batch 2 file.\"\n",
    "\n",
    "# make a dictionary where the key is the sample and the value is a list of genotypes\n",
    "import collections\n",
    "\n",
    "b2_genotype_dict = collections.OrderedDict()\n",
    "for line in gen2:\n",
    "    linelist = line.strip().split()\n",
    "    if len(linelist) > 1:\n",
    "        sample_name = linelist[0].strip(\"_subset,\")\n",
    "        b2_genotype_dict[sample_name] = linelist[1:]\n",
    "gen2.close()      \n",
    "        \n",
    "b1_genotype_dict = collections.OrderedDict()\n",
    "for line in gen1:\n",
    "    linelist = line.strip().split()\n",
    "    if len(linelist) > 1:\n",
    "        sample_name = linelist[0].strip(\",\")\n",
    "        if sample_name in b2_genotype_dict.keys():\n",
    "            b1_genotype_dict[sample_name] = linelist[1:]\n",
    "gen1.close()"
   ]
  },
  {
   "cell_type": "code",
   "execution_count": 108,
   "metadata": {},
   "outputs": [
    {
     "name": "stdout",
     "output_type": "stream",
     "text": [
      "['PO010715_26', 'PO010715_27.1', 'PO020515_10.1', 'PO031715_04', 'PO031715_23', 'PO010715_07_rep', 'GE011215_08.1', 'GE011215_30.1', 'GE012315_05.1', 'GE012315_10.1', 'GEO012315_02', 'GEO012315_12', 'GEO012315_18', 'GEO012315_21', 'GE012315_11_2', 'GE011215_11', 'NA021015_02.1', 'NA021015_10.1', 'NA021015_25', 'YS_121316_18', 'YS_121316_28', 'YS_121316_29', 'YS_121316_21_2', 'JUK07_14', 'JUK07_15', 'JUK07_29.1', 'JUK07_32', 'JUK07_13', 'JUK07_12', 'JB121807_01', 'JB121807_05', 'JB121807_12.1', 'JB121807_19.1', 'JB121807_25', 'JB121807_33.1', 'JB121807_41.1', 'JB121807_05_2', 'JB121807_23_2', 'JB021108_25.1', 'JB021108_45', 'JB021108_46_rep.1', 'JB021108_48.1', 'BOR07_07.1', 'BOR07_10.1', 'BOR07_12.1', 'GEO020414_11', 'GEO020414_16', 'GEO020414_2', 'GEO020414_27', 'GEO020414_4']\n"
     ]
    }
   ],
   "source": [
    "print b1_genotype_dict.keys()"
   ]
  },
  {
   "cell_type": "code",
   "execution_count": 109,
   "metadata": {},
   "outputs": [
    {
     "name": "stdout",
     "output_type": "stream",
     "text": [
      "['PO010715_26', 'PO010715_27.1', 'PO020515_10.1', 'PO031715_04', 'PO031715_23', 'PO010715_07_rep', 'GE011215_08.1', 'GE011215_30.1', 'GE012315_05.1', 'GE012315_10.1', 'GEO012315_02', 'GEO012315_12', 'GEO012315_18', 'GEO012315_21', 'GE012315_11_2', 'GE011215_11', 'NA021015_02.1', 'NA021015_10.1', 'NA021015_25', 'YS_121316_18', 'YS_121316_28', 'YS_121316_29', 'YS_121316_21_2', 'JUK07_14', 'JUK07_15', 'JUK07_29.1', 'JUK07_32', 'JUK07_13', 'JUK07_12', 'JB121807_01', 'JB121807_05', 'JB121807_12.1', 'JB121807_19.1', 'JB121807_25', 'JB121807_33.1', 'JB121807_41.1', 'JB121807_05_2', 'JB121807_23_2', 'JB021108_25.1', 'JB021108_45', 'JB021108_46_rep.1', 'JB021108_48.1', 'BOR07_07.1', 'BOR07_10.1', 'BOR07_12.1', 'GEO020414_11', 'GEO020414_16', 'GEO020414_2', 'GEO020414_27', 'GEO020414_4']\n"
     ]
    }
   ],
   "source": [
    "print b2_genotype_dict.keys()"
   ]
  },
  {
   "cell_type": "code",
   "execution_count": 110,
   "metadata": {
    "collapsed": true
   },
   "outputs": [],
   "source": [
    "outfile = open(\"stacks_pipeline_analyses/analyses_AK_LowGenotypeRate/compare_KOR_genos_Depths3v10_MBcorrect.txt\", \"w\")\n",
    "\n",
    "# write to an output file:\n",
    "## --- (0) sample name\n",
    "## --- (1) number of genotyped loci in batch 1\n",
    "## --- (2) number of genotyped loci in batch 2\n",
    "\n",
    "# calculate and write to output file:\n",
    "## --- (3) number of same genotypes (includes missing genotypes)\n",
    "## --- (4) number of same genotypes (does not include missing genotypes)\n",
    "\n",
    "# calculate and write to output file:\n",
    "## --- (5) number of different genotypes\n",
    "## --- (5) number of different genotypes het in batch 1 --> hom in batch 2\n",
    "## --- (6) number of different genotypes hom in batch 1 --> het in batch 2\n",
    "## --- (7) number of different genotypes hom in batch 1 --> diff hom in batch 2\n",
    "## --- (8) number of different genotypes het in batch 1 --> diff het in batch 2\n",
    "## --- (9) number of different genotypes b/c batch 1 is missing, batch 2 is het\n",
    "## --- (10) number of different genotypes b/c batch 1 is missing, batch 2 is hom\n",
    "## --- (11) number of different genotypes b/c batch 2 is missing, batch 1 is het\n",
    "## --- (12) number of different genotypes b/c batch 2 is missing, batch 2 is hom\n",
    "\n",
    "outfile.write(\"sample\\tgenotyped.b1\\tgenotyped.b2\\tsame.genos.wmissing\\tsame.genos\\tdiff.genos\")\n",
    "outfile.write(\"\\tdiff.het_hom\\tdiff.hom_het\\tdiff.het_het\\tdiff.hom_hom\\tdiff.miss_het\\tdiff.miss_hom\\tdiff.het_miss\\tdiff.hom_miss\\n\")\n",
    "\n",
    "\n",
    "for sample in b2_genotype_dict.keys():\n",
    "    outfile.write(sample + \"\\t\")\n",
    "    b2_genotypes = b2_genotype_dict[sample]\n",
    "    b1_genotypes = b1_genotype_dict[sample]\n",
    "    if len(b2_genotypes) != len(b1_genotypes):\n",
    "        print \"crap! you don't have the same number of genotypes in your batches.\"\n",
    "        break\n",
    "    # write to an output file: sample name, number genotyped per batch\n",
    "    b1_genotyped = len([i for i in b1_genotypes if i != \"-\"])\n",
    "    b2_genotyped = len([i for i in b2_genotypes if i != \"-\"])\n",
    "    outfile.write(str(b1_genotyped) + \"\\t\" + str(b2_genotyped) + \"\\t\")\n",
    "    # calculate and write to output file: matches and mismatches\n",
    "    matched_wmissing = 0\n",
    "    matched = 0\n",
    "    different = 0\n",
    "    diff_het_hom = 0\n",
    "    diff_hom_het = 0\n",
    "    diff_het_het = 0\n",
    "    diff_hom_hom = 0\n",
    "    diff_miss_hom = 0\n",
    "    diff_miss_het = 0\n",
    "    diff_het_miss = 0\n",
    "    diff_hom_miss = 0\n",
    "    for i in range(0, len(b1_genotypes)):\n",
    "        # number of matching genotypes, with and without missing genotypes\n",
    "        if b2_genotypes[i] == b1_genotypes[i]:\n",
    "            if b2_genotypes[i] != \"-\":\n",
    "                matched += 1\n",
    "                matched_wmissing += 1\n",
    "            elif b2_genotypes[i] == \"-\":\n",
    "                matched_wmissing += 1\n",
    "        # differing pairs, and the type of difference between them\n",
    "        elif b2_genotypes[i] != b1_genotypes[i]:\n",
    "            different += 1\n",
    "            # if b1 is missing genotype\n",
    "            if b1_genotypes[i] == \"-\":\n",
    "                if b2_genotypes[i] == \"ab\":\n",
    "                    diff_miss_het += 1\n",
    "                elif b2_genotypes[i][0:2] == \"a\" or b2_genotypes[i] == \"b\":\n",
    "                    diff_miss_hom += 1\n",
    "                else: \n",
    "                    print \"your code is effed up! b1 missing\"\n",
    "            # if b2 is missing genotype\n",
    "            elif b2_genotypes[i] == \"-\":\n",
    "                if b1_genotypes[i] == \"ab\":\n",
    "                    diff_het_miss += 1\n",
    "                elif b1_genotypes[i]== \"a\" or b1_genotypes[i] == \"b\":\n",
    "                    diff_hom_miss += 1\n",
    "                else: \n",
    "                    print \"your code is effed up! b2 missing\"\n",
    "            # het --> het / hom\n",
    "            elif b1_genotypes[i] == \"ab\":\n",
    "                if b2_genotypes[i] == \"a\" or b2_genotypes[i] == \"b\":\n",
    "                    diff_het_hom += 1\n",
    "            # hom --> het / hom\n",
    "            elif b1_genotypes[i] == \"a\":\n",
    "                if b2_genotypes[i] == \"ab\":\n",
    "                    diff_hom_het += 1\n",
    "                elif b2_genotypes[i]==\"b\":\n",
    "                    diff_hom_hom += 1\n",
    "            elif b1_genotypes[i] == \"b\":\n",
    "                if b2_genotypes[i] == \"ab\":\n",
    "                    diff_hom_het += 1\n",
    "                elif b2_genotypes[i]==\"a\":\n",
    "                    diff_hom_hom += 1\n",
    "            \n",
    "    outfile.write(str(matched_wmissing) + \"\\t\" + str(matched) + \"\\t\" + str(different) + \"\\t\")\n",
    "    outfile.write(str(diff_het_hom) + \"\\t\" + str(diff_hom_het) + \"\\t\" + str(diff_het_het) + \"\\t\" + str(diff_hom_hom) + \"\\t\")\n",
    "    outfile.write(str(diff_miss_het) + \"\\t\" + str(diff_miss_hom) + \"\\t\" + str(diff_het_miss) + \"\\t\" + str(diff_hom_miss) + \"\\n\")\n",
    "\n",
    "outfile.close()"
   ]
  },
  {
   "cell_type": "markdown",
   "metadata": {},
   "source": [
    "![img-overall](https://github.com/mfisher5/PCod-Compare-repo/blob/master/stacks_pipeline_analyses/analyses_AK_LowGenotypeRate/GenoComparison_MBcorrect_plot1.png?raw=true)\n",
    "![img-diff](https://github.com/mfisher5/PCod-Compare-repo/blob/master/stacks_pipeline_analyses/analyses_AK_LowGenotypeRate/GenoComparison_MBcorrect_diff.png?raw=true)"
   ]
  },
  {
   "cell_type": "markdown",
   "metadata": {
    "collapsed": true
   },
   "source": [
    "### Mismatched Genotypes & File Size"
   ]
  },
  {
   "cell_type": "code",
   "execution_count": 1,
   "metadata": {},
   "outputs": [
    {
     "data": {
      "text/plain": [
       "u'/mnt/hgfs/Pacific cod/DataAnalysis/PCod-Compare-repo/notebooks'"
      ]
     },
     "execution_count": 1,
     "metadata": {},
     "output_type": "execute_result"
    }
   ],
   "source": [
    "pwd"
   ]
  },
  {
   "cell_type": "code",
   "execution_count": 2,
   "metadata": {},
   "outputs": [
    {
     "name": "stdout",
     "output_type": "stream",
     "text": [
      "/mnt/hgfs/Pacific cod/DataAnalysis/PCod-Compare-repo\n"
     ]
    }
   ],
   "source": [
    "cd ../"
   ]
  },
  {
   "cell_type": "code",
   "execution_count": 8,
   "metadata": {},
   "outputs": [],
   "source": [
    "infile = open(\"stacks_pipeline_analyses/analyses_AK_LowGenotypeRate/compare_KOR_genos_Depths3v10_MBcorrect.txt\", \"r\")\n",
    "\n",
    "infile.readline()\n",
    "\n",
    "p_diff = {}\n",
    "\n",
    "for line in infile:\n",
    "    linelist = line.strip().split()\n",
    "    total = min(linelist[1], linelist[2])\n",
    "    diff = linelist[5]\n",
    "    p_diff[linelist[0]] = (float(diff) / float(total))\n",
    "infile.close()"
   ]
  },
  {
   "cell_type": "code",
   "execution_count": 9,
   "metadata": {},
   "outputs": [
    {
     "name": "stdout",
     "output_type": "stream",
     "text": [
      "/mnt/hgfs/Pacific cod/DataAnalysis/PCod-Compare-repo/scripts\n"
     ]
    }
   ],
   "source": [
    "cd scripts"
   ]
  },
  {
   "cell_type": "code",
   "execution_count": 10,
   "metadata": {},
   "outputs": [
    {
     "name": "stdout",
     "output_type": "stream",
     "text": [
      "#!/bin/bash\r\n",
      "\r\n",
      "###### THIS SHELL SCRIPT WILL PRODUCE THE # OF MAPPED SEQUENCES IN ALL SAM FILES IN A SPECIFIED FOLDER ######\r\n",
      "\r\n",
      "##MF 8/23/2017\r\n",
      "\r\n",
      "echo \"You must have `samtools` installed to run this script. If you do not have samtools installed, exit now.\"\r\n",
      "echo \"--\"\r\n",
      "echo \"What is the relative path to your .sam files?\"\r\n",
      "read DIRECTORY\r\n"
     ]
    }
   ],
   "source": [
    "!head count_mapped_reads_samfile.sh"
   ]
  },
  {
   "cell_type": "code",
   "execution_count": 11,
   "metadata": {
    "scrolled": true
   },
   "outputs": [
    {
     "ename": "SyntaxError",
     "evalue": "invalid syntax (<ipython-input-11-1d7c5567b147>, line 2)",
     "output_type": "error",
     "traceback": [
      "\u001b[0;36m  File \u001b[0;32m\"<ipython-input-11-1d7c5567b147>\"\u001b[0;36m, line \u001b[0;32m2\u001b[0m\n\u001b[0;31m    ./count_mapped_reads_samfile.sh\u001b[0m\n\u001b[0m    ^\u001b[0m\n\u001b[0;31mSyntaxError\u001b[0m\u001b[0;31m:\u001b[0m invalid syntax\n"
     ]
    }
   ],
   "source": [
    "#ran in terminal\n",
    "./count_mapped_reads_samfile.sh"
   ]
  },
  {
   "cell_type": "markdown",
   "metadata": {},
   "source": [
    "**redone on 9/27/2017**"
   ]
  },
  {
   "cell_type": "code",
   "execution_count": 1,
   "metadata": {
    "scrolled": true
   },
   "outputs": [
    {
     "name": "stdout",
     "output_type": "stream",
     "text": [
      "/mnt/hgfs/Pacific cod/DataAnalysis/PCod-Compare-repo\n"
     ]
    }
   ],
   "source": [
    "cd ../"
   ]
  },
  {
   "cell_type": "code",
   "execution_count": 2,
   "metadata": {
    "collapsed": true
   },
   "outputs": [],
   "source": [
    "infile = open(\"sam_mappedreadcounts_b2_KORsubset.txt\", \"r\")\n",
    "reads = {}\n",
    "line = infile.readline()\n",
    "while line.startswith(\"./\"):\n",
    "    sample = line.strip().strip(\"_subset.sam\").split(\"/\")[1]\n",
    "    total_reads = infile.readline().strip()\n",
    "    reads[sample] = total_reads\n",
    "    mapped_reads = infile.readline()\n",
    "    line = infile.readline()"
   ]
  },
  {
   "cell_type": "code",
   "execution_count": 3,
   "metadata": {
    "collapsed": true
   },
   "outputs": [],
   "source": [
    "infile.close()"
   ]
  },
  {
   "cell_type": "code",
   "execution_count": 4,
   "metadata": {
    "scrolled": true
   },
   "outputs": [
    {
     "name": "stdout",
     "output_type": "stream",
     "text": [
      "['JUK07_13', 'JUK07_12', 'JB121807_05', 'JUK07_15', 'JUK07_14', 'PO010715_26', 'GE011215_08.1', 'GEO012315_18', 'GE012315_11_2', 'JUK07_32', 'BOR07_07.1', 'GE012315_10.1', 'GEO012315_12', 'NA021015_25', 'JB021108_45', 'JB021108_46_rep.1', 'JB021108_48.1', 'JB121807_05_2', 'GEO020414_27', 'YS_121316_28', 'NA021015_02.1', 'JUK07_29.1', 'JB121807_12.1', 'GEO020414_2', 'JB121807_23_2', 'GEO020414_4', 'JB121807_41.1', 'BOR07_12.1', 'GEO012315_21', 'GE012315_05.1', 'YS_121316_21_2', 'JB121807_19.1', 'PO010715_07_rep', 'PO010715_27.1', 'JB121807_25', 'JB121807_01', 'BOR07_10.1', 'GE011215_11', 'JB021108_25.1', 'GEO012315_02', 'PO031715_04', 'PO020515_10.1', 'YS_121316_18', 'JB121807_33.1', 'YS_121316_29', 'NA021015_10.1', 'PO031715_23', 'GEO020414_11', 'GEO020414_16', 'GE011215_30.1']\n"
     ]
    }
   ],
   "source": [
    "print reads.keys()"
   ]
  },
  {
   "cell_type": "code",
   "execution_count": 5,
   "metadata": {},
   "outputs": [],
   "source": [
    "infile = open(\"stacks_pipeline_analyses/analyses_AK_LowGenotypeRate/compare_KOR_genos_Depths3v10_MBcorrect.txt\", \"r\")\n",
    "\n",
    "infile.readline()\n",
    "\n",
    "p_diff = {}\n",
    "\n",
    "for line in infile:\n",
    "    linelist = line.strip().split()\n",
    "    total = min(linelist[1], linelist[2])\n",
    "    diff = int(linelist[6]) + int(linelist[7]) + int(linelist[8]) + int(linelist[9])    \n",
    "    p_diff[linelist[0]] = (float(diff) / float(total))\n",
    "infile.close()"
   ]
  },
  {
   "cell_type": "code",
   "execution_count": 6,
   "metadata": {},
   "outputs": [
    {
     "name": "stdout",
     "output_type": "stream",
     "text": [
      "['JUK07_13', 'JUK07_12', 'GEO020414_2', 'JB021108_45', 'JUK07_15', 'NA021015_25', 'GEO020414_11', 'PO010715_27.1', 'GE011215_08.1', 'JB021108_25.1', 'JB021108_46_rep.1', 'GE012315_11_2', 'BOR07_07.1', 'GE012315_10.1', 'GEO012315_12', 'JUK07_14', 'PO010715_26', 'GEO012315_18', 'JB021108_48.1', 'JB121807_05_2', 'GEO020414_27', 'JB121807_33.1', 'NA021015_02.1', 'YS_121316_18', 'JB121807_12.1', 'JUK07_29.1', 'JB121807_23_2', 'GEO020414_4', 'JB121807_41.1', 'BOR07_12.1', 'BOR07_10.1', 'GE012315_05.1', 'YS_121316_21_2', 'JB121807_19.1', 'PO010715_07_rep', 'JB121807_25', 'JB121807_01', 'GEO012315_21', 'GE011215_11', 'JB121807_05', 'GEO012315_02', 'PO031715_04', 'PO020515_10.1', 'YS_121316_28', 'YS_121316_29', 'NA021015_10.1', 'PO031715_23', 'JUK07_32', 'GEO020414_16', 'GE011215_30.1']\n"
     ]
    }
   ],
   "source": [
    "print p_diff.keys()"
   ]
  },
  {
   "cell_type": "code",
   "execution_count": 7,
   "metadata": {},
   "outputs": [
    {
     "name": "stdout",
     "output_type": "stream",
     "text": [
      "0.066366704162\n"
     ]
    }
   ],
   "source": [
    "print p_diff[\"JUK07_13\"]"
   ]
  },
  {
   "cell_type": "code",
   "execution_count": 8,
   "metadata": {
    "collapsed": true
   },
   "outputs": [],
   "source": [
    "#pdiff includes a correction b/c original calc based on min. total # loci genotyped, \n",
    "# instead of on # loci where both genotyped\n",
    "pdiff_list = []\n",
    "reads_list = []\n",
    "for sample in reads.keys():\n",
    "    pdiff_list.append(float(p_diff[sample])*float(1.098)) \n",
    "    reads_list.append(int(reads[sample]))"
   ]
  },
  {
   "cell_type": "code",
   "execution_count": 9,
   "metadata": {
    "collapsed": true
   },
   "outputs": [],
   "source": [
    "import numpy as np\n",
    "import matplotlib.pyplot as plt"
   ]
  },
  {
   "cell_type": "markdown",
   "metadata": {},
   "source": [
    "**WHERE DIFFERENCE = # GENOTYPES DIFFERENT WHEN LOCUS IS GENOTYPED IN BOTH ORIGINAL AND SUBSET**"
   ]
  },
  {
   "cell_type": "code",
   "execution_count": 12,
   "metadata": {},
   "outputs": [
    {
     "data": {
      "image/png": "[encoded data removed]",
      "text/plain": [
       "<matplotlib.figure.Figure at 0x7fd8dcccf790>"
      ]
     },
     "metadata": {},
     "output_type": "display_data"
    }
   ],
   "source": [
    "plt.scatter(reads_list, pdiff_list)\n",
    "plt.suptitle(\"Proportion Genotypes Different between Original & Subset Files\\nBy Subset File Total N Reads\")\n",
    "plt.xlabel(\"Total N Reads in Subset File\")\n",
    "plt.ylabel(\"Proportion Genotypes Different (corrected)\")\n",
    "plt.show()"
   ]
  },
  {
   "cell_type": "code",
   "execution_count": 13,
   "metadata": {
    "collapsed": true
   },
   "outputs": [],
   "source": [
    "plt.close()"
   ]
  },
  {
   "cell_type": "markdown",
   "metadata": {},
   "source": [
    "**WHERE DIFFERENCE = TOTAL NUMBER OF LOCI WITH DIFFERENT GENOTYPES, INCLUDING ONE MISSING**"
   ]
  },
  {
   "cell_type": "code",
   "execution_count": 17,
   "metadata": {
    "collapsed": true
   },
   "outputs": [],
   "source": [
    "infile = open(\"stacks_pipeline_analyses/analyses_AK_LowGenotypeRate/compare_KOR_genos_Depths3v10_MBcorrect.txt\", \"r\")\n",
    "\n",
    "infile.readline()\n",
    "\n",
    "p_diff = {}\n",
    "\n",
    "for line in infile:\n",
    "    linelist = line.strip().split()\n",
    "    total = min(linelist[1], linelist[2])\n",
    "    diff = int(linelist[5])\n",
    "    p_diff[linelist[0]] = (float(diff) / float(total))\n",
    "infile.close()"
   ]
  },
  {
   "cell_type": "code",
   "execution_count": 18,
   "metadata": {
    "collapsed": true
   },
   "outputs": [],
   "source": [
    "pdiff_list = []\n",
    "reads_list = []\n",
    "for sample in reads.keys():\n",
    "    pdiff_list.append(float(p_diff[sample]))\n",
    "    reads_list.append(int(reads[sample]))"
   ]
  },
  {
   "cell_type": "code",
   "execution_count": 19,
   "metadata": {
    "scrolled": true
   },
   "outputs": [
    {
     "data": {
      "image/png": "[encoded data removed]",
      "text/plain": [
       "<matplotlib.figure.Figure at 0x7f82f99abe50>"
      ]
     },
     "metadata": {},
     "output_type": "display_data"
    }
   ],
   "source": [
    "plt.scatter(reads_list, pdiff_list)\n",
    "plt.suptitle(\"Proportion Genotypes Different between Original & Subset Files\\nBy Subset File Total N Reads\")\n",
    "plt.xlabel(\"Total N Reads in Subset File\")\n",
    "plt.ylabel(\"Proportion Genotypes Different\")\n",
    "plt.show()"
   ]
  },
  {
   "cell_type": "code",
   "execution_count": 20,
   "metadata": {
    "collapsed": true
   },
   "outputs": [],
   "source": [
    "plt.close()"
   ]
  },
  {
   "cell_type": "markdown",
   "metadata": {},
   "source": [
    "**Read Depth: Where does the smallest AK file fall on this plot?**"
   ]
  },
  {
   "cell_type": "code",
   "execution_count": 37,
   "metadata": {},
   "outputs": [],
   "source": [
    "infile = open(\"stacks_pipeline_analyses/batch1_AKsamfile_reads.txt\", \"r\")\n",
    "ak_reads = []\n",
    "for line in infile:\n",
    "    ak_reads.append(float(line.strip().split()[1]))\n",
    "infile.close()"
   ]
  },
  {
   "cell_type": "code",
   "execution_count": 41,
   "metadata": {},
   "outputs": [
    {
     "data": {
      "image/png": "[encoded data removed]",
      "text/plain": [
       "<matplotlib.figure.Figure at 0x7f9c1069e1d0>"
      ]
     },
     "metadata": {},
     "output_type": "display_data"
    }
   ],
   "source": [
    "plt.hist(ak_reads, color=\"darkblue\")\n",
    "plt.xlabel(\"# reads in .sam file\")\n",
    "plt.ylabel(\"# Alaskan samples\")\n",
    "plt.show()"
   ]
  },
  {
   "cell_type": "code",
   "execution_count": 42,
   "metadata": {},
   "outputs": [],
   "source": [
    "plt.close()"
   ]
  },
  {
   "cell_type": "code",
   "execution_count": null,
   "metadata": {
    "collapsed": true
   },
   "outputs": [],
   "source": []
  }
 ],
 "metadata": {
  "anaconda-cloud": {},
  "kernelspec": {
   "display_name": "Python 2",
   "language": "python",
   "name": "python2"
  },
  "language_info": {
   "codemirror_mode": {
    "name": "ipython",
    "version": 2
   },
   "file_extension": ".py",
   "mimetype": "text/x-python",
   "name": "python",
   "nbconvert_exporter": "python",
   "pygments_lexer": "ipython2",
   "version": "2.7.13"
  }
 },
 "nbformat": 4,
 "nbformat_minor": 1
}
