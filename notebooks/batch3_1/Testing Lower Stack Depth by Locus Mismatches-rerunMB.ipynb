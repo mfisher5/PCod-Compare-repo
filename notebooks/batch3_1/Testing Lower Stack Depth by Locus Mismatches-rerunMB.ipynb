{
 "cells": [
  {
   "cell_type": "markdown",
   "metadata": {},
   "source": [
    "### Per Locus Mismatches in Comparison between Stack depth 3 v 10 simulation\n",
    "\n",
    "** Original Notebook Text:**\n",
    "<br>\n",
    "In my combined data set for batch 1, I encountered a lot of missing genotypes in the Alaskan samples. The hypothesis is that this is because lower stack depth is preventing pstacks from genotyping individuals at a locus (not that the cat locus isn't being aligned to in the original .sam files). So I want to see if using a lower stack depth for pstacks is going to help genotype Alaskan individuals. But first I need to make sure that we can trust the genotypes generated with a lower stack depth.\n",
    "\n",
    "I want to look at the per locus mismatches between the full size file / depth 10 and the half size file / depth 3. \n",
    "Even though I won't be using Marine's script for this project, I do want to compare both with and without the correction, just out of curiosity. \n",
    "I already have genotype files with only matched loci in them, so I can go straight to the comparison code. \n",
    "\n",
    "\n",
    "<br>\n",
    "** Revisions:**\n",
    "<br>\n",
    "the code in the previous notebook did not correctly calculate genotyping error by locus for the recalled genotypes. This notebook does so, and also calculates genotype error per individual (rather than just per locus).\n",
    "<br>\n",
    "\n",
    "<br>\n",
    "#### 4/23/2018\n"
   ]
  },
  {
   "cell_type": "code",
   "execution_count": 1,
   "metadata": {},
   "outputs": [
    {
     "data": {
      "text/plain": [
       "u'/mnt/hgfs/PCod-Compare-repo/notebooks/batch3_1'"
      ]
     },
     "execution_count": 1,
     "metadata": {},
     "output_type": "execute_result"
    }
   ],
   "source": [
    "pwd"
   ]
  },
  {
   "cell_type": "code",
   "execution_count": 2,
   "metadata": {},
   "outputs": [
    {
     "name": "stdout",
     "output_type": "stream",
     "text": [
      "/mnt/hgfs/PCod-Compare-repo/notebooks\n"
     ]
    }
   ],
   "source": [
    "cd ../"
   ]
  },
  {
   "cell_type": "code",
   "execution_count": 5,
   "metadata": {},
   "outputs": [
    {
     "name": "stdout",
     "output_type": "stream",
     "text": [
      "/mnt/hgfs/PCod-Compare-repo\n"
     ]
    }
   ],
   "source": [
    "cd ../"
   ]
  },
  {
   "cell_type": "markdown",
   "metadata": {},
   "source": [
    "#### Original Code"
   ]
  },
  {
   "cell_type": "code",
   "execution_count": null,
   "metadata": {
    "collapsed": true
   },
   "outputs": [],
   "source": [
    "!python scripts/PostStacksFiltering/genepop_conversion_corrected.py \\\n",
    "stacks_b2_wgenome/batch_2_matched.CorrectedGenotypes_biallelic.txt \\\n",
    "stacks_b2_wgenome/batch_2_matched.CorrectedGenotypes_biallelic_gen.txt"
   ]
  },
  {
   "cell_type": "markdown",
   "metadata": {},
   "source": [
    "This gave me two matrix files:\n",
    "<br>\n",
    "`batch_2_matched.CorrectedGenotypes_biallelic_gen.txt`\n",
    "<br>\n",
    "`batch_1_matched.CorrectedGenotypes_biallelic.txt`\n",
    "\n",
    "<br>\n",
    "First, I am going to create a dictionary using first loci, and then individuals, as keys and genotypes as values"
   ]
  },
  {
   "cell_type": "code",
   "execution_count": 14,
   "metadata": {},
   "outputs": [
    {
     "name": "stdout",
     "output_type": "stream",
     "text": [
      "6937\n",
      "6937\n"
     ]
    }
   ],
   "source": [
    "####### create dictionary with loci ##############\n",
    "batch1 = open(\"stacks_b1_wgenome/batch_1_matched.CorrectedGenotypes_biallelic.txt\", \"r\")\n",
    "batch2 = open(\"stacks_b2_wgenome/batch_2_matched.CorrectedGenotypes_biallelic_gen.txt\", \"r\")\n",
    "\n",
    "## initiate ordered dictionary so loci can be called with indices\n",
    "import collections\n",
    "loci_dict_b1 = collections.OrderedDict()\n",
    "loci_dict_b2 = collections.OrderedDict()\n",
    "\n",
    "## read loci in as keys\n",
    "loci_list1 = batch1.readline().strip().split()\n",
    "print len(loci_list1)\n",
    "loci_list2 = batch2.readline().strip().split()\n",
    "print len(loci_list2)"
   ]
  },
  {
   "cell_type": "code",
   "execution_count": 15,
   "metadata": {},
   "outputs": [
    {
     "name": "stdout",
     "output_type": "stream",
     "text": [
      "50\n",
      "50\n"
     ]
    }
   ],
   "source": [
    "####### fill in dictionary with loci ##########\n",
    "n_samples = 0\n",
    "for line in batch1:\n",
    "    genotypes = line.strip().split()[1:]\n",
    "    if n_samples == 0:\n",
    "        for i in range(0,len(genotypes)):\n",
    "            loci_dict_b1[loci_list1[i]] = [genotypes[i]]\n",
    "        n_samples += 1\n",
    "    elif n_samples > 0:\n",
    "        for i in range(0,len(genotypes)):\n",
    "            geno_list = loci_dict_b1[loci_list1[i]]\n",
    "            geno_list.append(genotypes[i])\n",
    "            loci_dict_b1[loci_list1[i]] = geno_list\n",
    "        n_samples += 1\n",
    "print n_samples\n",
    "batch1.close()\n",
    "\n",
    "n_samples = 0\n",
    "for line in batch2:\n",
    "    genotypes = line.strip().split()[1:]\n",
    "    if n_samples == 0:\n",
    "        for i in range(0,len(genotypes)):\n",
    "            loci_dict_b2[loci_list2[i]] = [genotypes[i]]\n",
    "        n_samples += 1\n",
    "    elif n_samples > 0:\n",
    "        for i in range(0,len(genotypes)):\n",
    "            geno_list = loci_dict_b2[loci_list2[i]]\n",
    "            geno_list.append(genotypes[i])\n",
    "            loci_dict_b2[loci_list2[i]] = geno_list\n",
    "        n_samples += 1\n",
    "print n_samples\n",
    "batch2.close()"
   ]
  },
  {
   "cell_type": "code",
   "execution_count": 17,
   "metadata": {},
   "outputs": [
    {
     "name": "stdout",
     "output_type": "stream",
     "text": [
      "50\n",
      "50\n"
     ]
    }
   ],
   "source": [
    "print len(loci_dict_b1[\"10004\"])\n",
    "print len(loci_dict_b2[\"10004\"])"
   ]
  },
  {
   "cell_type": "code",
   "execution_count": 25,
   "metadata": {},
   "outputs": [
    {
     "name": "stdout",
     "output_type": "stream",
     "text": [
      "homozygote\n"
     ]
    }
   ],
   "source": [
    "b1_genotypes = loci_dict_b1[\"10004\"]\n",
    "if b1_genotypes[1][0:2] == b1_genotypes[1][2:]:\n",
    "    print \"homozygote\""
   ]
  },
  {
   "cell_type": "code",
   "execution_count": 28,
   "metadata": {},
   "outputs": [],
   "source": [
    "########## compare genotypes at each locus #############\n",
    "geno_codes = {}\n",
    "for locus in loci_list1:\n",
    "    b1_genotypes = loci_dict_b1[locus]\n",
    "    b2_genotypes = loci_dict_b2[locus]\n",
    "    coded = []\n",
    "    ## add appropriate code to list based on comparison of two genotypes\n",
    "    #--- 0 = both missing\n",
    "    #--- 1 = batch 1 missing\n",
    "    #--- 2 = batch 2 missing\n",
    "    #--- 3 = both genotyped\n",
    "    #--- 4 = both genotyped, matched\n",
    "    #--- 5 = both genotyped, mismatch because of hom --> hom\n",
    "    #--- 6 = both genotyped, mismatched because of hom --> het\n",
    "    #--- 7 = both genotyped, mismatched because of het --> hom\n",
    "    for i in range(0,len(b1_genotypes)):\n",
    "        if b1_genotypes[i] == b2_genotypes[i]:\n",
    "            # if genotypes matched and neither are missing\n",
    "            if b1_genotypes[i] != \"0000\":\n",
    "                coded.append(4)\n",
    "            elif b1_genotypes[i] == \"0000\":\n",
    "                coded.append(0)\n",
    "        # if genotypes don't match\n",
    "        elif b1_genotypes[i] != b2_genotypes[i]:\n",
    "            # if they are mismatched because one is missing\n",
    "            if b1_genotypes[i] == \"0000\":\n",
    "                coded.append(1)\n",
    "            elif b2_genotypes[i] == \"0000\":\n",
    "                coded.append(2)\n",
    "            # if they are mismatched and neither are missing\n",
    "            else:\n",
    "                # b1 het (b2 must be hom)\n",
    "                if b1_genotypes[i][0:2] != b1_genotypes[i][2:]:\n",
    "                    coded.append(7)\n",
    "                # b1 hom\n",
    "                elif b1_genotypes[i][0:2] == b1_genotypes[i][2:]:\n",
    "                    # b2 hom\n",
    "                    if b2_genotypes[i][0:2] == b2_genotypes[i][2:]:\n",
    "                        coded.append(5)\n",
    "                    # b2 het\n",
    "                    elif b2_genotypes[i][0:2] != b2_genotypes[i][2:]:\n",
    "                        coded.append(6)\n",
    "    geno_codes[locus] = coded\n",
    "    if len(coded) < 50:\n",
    "        print \"processed only \", len(coded), \" samples at locus.\""
   ]
  },
  {
   "cell_type": "code",
   "execution_count": 32,
   "metadata": {
    "scrolled": true
   },
   "outputs": [],
   "source": [
    "######## calculate mismatches ######\n",
    "outfile = open(\"KOR_genotypes_depth3v10_MB_perlocus_mismatches_rerun.txt\", \"w\")\n",
    "outfile.write(\"locus\\tn.pairs\\tn.both.miss\\tn.b1.miss\\tn.b2.miss\\tn.both.genod\\tn.matched\\tn.mismatch.hom2hom\\tn.mismatch.het2hom\\tn.mismatch.hom2het\\n\")\n",
    "\n",
    "\n",
    "for locus in loci_list1:\n",
    "    coded = geno_codes[locus]\n",
    "    n_pairs = len(coded)\n",
    "    n_miss = len([i for i in coded if i == 0])\n",
    "    n_missb1 = len([i for i in coded if i == 1])\n",
    "    n_missb2 = len([i for i in coded if i == 2])\n",
    "    n_matched = len([i for i in coded if i == 4])\n",
    "    n_mismatch_homhom = len([i for i in coded if i == 5])\n",
    "    n_mismatch_homhet = len([i for i in coded if i == 6])\n",
    "    n_mismatch_hethom = len([i for i in coded if i == 7])\n",
    "    n_genod = n_matched + n_mismatch_homhom + n_mismatch_homhet + n_mismatch_hethom\n",
    "    outfile.write(locus + \"\\t\" + str(n_pairs) + \"\\t\" + str(n_miss) + \"\\t\" + str(n_missb1) + \"\\t\" + str(n_missb2) + \"\\t\" + str(n_genod) + \"\\t\")\n",
    "    outfile.write(str(n_matched) + \"\\t\" + str(n_mismatch_homhom) + \"\\t\" + str(n_mismatch_homhet) + \"\\t\" + str(n_mismatch_hethom) + \"\\n\")\n",
    "outfile.close()"
   ]
  },
  {
   "cell_type": "code",
   "execution_count": 33,
   "metadata": {},
   "outputs": [
    {
     "name": "stdout",
     "output_type": "stream",
     "text": [
      "locus\tn.pairs\tn.both.miss\tn.b1.miss\tn.b2.miss\tn.both.genod\tn.matched\tn.mismatch.hom2hom\tn.mismatch.het2hom\tn.mismatch.hom2het\r\n",
      "10000\t50\t5\t0\t3\t42\t42\t0\t0\t0\r\n",
      "10004\t50\t1\t0\t2\t47\t46\t0\t0\t1\r\n",
      "10011\t50\t5\t0\t6\t39\t39\t0\t0\t0\r\n",
      "10012\t50\t4\t46\t0\t0\t0\t0\t0\t0\r\n",
      "10016\t50\t3\t0\t1\t46\t46\t0\t0\t0\r\n",
      "10018\t50\t1\t0\t2\t47\t0\t43\t4\t0\r\n",
      "10019\t50\t1\t0\t3\t46\t46\t0\t0\t0\r\n",
      "10023\t50\t0\t0\t1\t49\t49\t0\t0\t0\r\n",
      "10026\t50\t7\t0\t1\t42\t39\t0\t1\t2\r\n"
     ]
    }
   ],
   "source": [
    "!head KOR_genotypes_depth3v10_MB_perlocus_mismatches_rerun.txt"
   ]
  },
  {
   "cell_type": "markdown",
   "metadata": {
    "collapsed": true
   },
   "source": [
    "### Mismatches per Individual\n",
    "\n",
    "#### Recalled Genotypes"
   ]
  },
  {
   "cell_type": "code",
   "execution_count": 40,
   "metadata": {},
   "outputs": [
    {
     "data": {
      "text/plain": [
       "50"
      ]
     },
     "execution_count": 40,
     "metadata": {},
     "output_type": "execute_result"
    }
   ],
   "source": [
    "####### create dictionary with individs ##############\n",
    "batch1 = open(\"stacks_b1_wgenome/batch_1_matched.CorrectedGenotypes_biallelic.txt\", \"r\")\n",
    "batch2 = open(\"stacks_b2_wgenome/batch_2_matched.CorrectedGenotypes_biallelic_gen.txt\", \"r\")\n",
    "\n",
    "## initiate ordered dictionary so loci can be called with indices\n",
    "import collections\n",
    "samples_dict_b1 = collections.OrderedDict()\n",
    "samples_dict_b2 = collections.OrderedDict()\n",
    "\n",
    "## read loci in as keys\n",
    "batch1.readline()\n",
    "batch2.readline()\n",
    "for line in batch1:\n",
    "    linelist = line.strip().split()\n",
    "    samples_dict_b1[linelist[0]] = linelist[1:]\n",
    "batch1.close()\n",
    "\n",
    "for line in batch2:\n",
    "    linelist = line.strip().split()\n",
    "    sampID = linelist[0].strip(\"_subset\")\n",
    "    samples_dict_b2[sampID] = linelist[1:]\n",
    "batch2.close()\n",
    "\n",
    "len([i for i in samples_dict_b1.keys() if i in samples_dict_b2.keys()])"
   ]
  },
  {
   "cell_type": "code",
   "execution_count": 45,
   "metadata": {},
   "outputs": [],
   "source": [
    "######## compare genotypes in each individual #########\n",
    "samples_geno_codes = {}\n",
    "\n",
    "for sample in samples_dict_b1.keys():\n",
    "    b1_genotypes = samples_dict_b1[sample]\n",
    "    b2_genotypes = samples_dict_b2[sample]\n",
    "    coded = []\n",
    "    ## add appropriate code to list based on comparison of two genotypes\n",
    "    #--- 0 = both missing\n",
    "    #--- 1 = batch 1 missing\n",
    "    #--- 2 = batch 2 missing\n",
    "    #--- 3 = both genotyped\n",
    "    #--- 4 = both genotyped, matched\n",
    "    #--- 5 = both genotyped, mismatch because of hom --> hom\n",
    "    #--- 6 = both genotyped, mismatched because of hom --> het\n",
    "    #--- 7 = both genotyped, mismatched because of het --> hom\n",
    "    for i in range(0,len(b1_genotypes)):\n",
    "        if b1_genotypes[i] == b2_genotypes[i]:\n",
    "            # if genotypes matched and neither are missing\n",
    "            if b1_genotypes[i] != \"0000\":\n",
    "                coded.append(4)\n",
    "            elif b1_genotypes[i] == \"0000\":\n",
    "                coded.append(0)\n",
    "        # if genotypes don't match\n",
    "        elif b1_genotypes[i] != b2_genotypes[i]:\n",
    "            # if they are mismatched because one is missing\n",
    "            if b1_genotypes[i] == \"0000\":\n",
    "                coded.append(1)\n",
    "            elif b2_genotypes[i] == \"0000\":\n",
    "                coded.append(2)\n",
    "            # if they are mismatched and neither are missing\n",
    "            else:\n",
    "                # b1 het (b2 must be hom)\n",
    "                if b1_genotypes[i][0:2] != b1_genotypes[i][2:]:\n",
    "                    coded.append(7)\n",
    "                # b1 hom\n",
    "                elif b1_genotypes[i][0:2] == b1_genotypes[i][2:]:\n",
    "                    # b2 hom\n",
    "                    if b2_genotypes[i][0:2] == b2_genotypes[i][2:]:\n",
    "                        coded.append(5)\n",
    "                    # b2 het\n",
    "                    elif b2_genotypes[i][0:2] != b2_genotypes[i][2:]:\n",
    "                        coded.append(6)\n",
    "    samples_geno_codes[sample] = coded\n",
    "    if len(coded) < 6937:\n",
    "        print \"processed only \", len(coded), \" samples at locus.\""
   ]
  },
  {
   "cell_type": "code",
   "execution_count": 51,
   "metadata": {},
   "outputs": [],
   "source": [
    "######## calculate mismatches ######\n",
    "outfile = open(\"KOR_genotypes_depth3v10_MB_byIndivid_mismatches.txt\", \"w\")\n",
    "outfile.write(\"sample\\tn.loci\\tn.both.miss\\tn.b1.miss\\tn.b2.miss\\tn.both.genod\\tn.matched\\tn.mismatch.hom2hom\\tn.mismatch.het2hom\\tn.mismatch.hom2het\\n\")\n",
    "\n",
    "\n",
    "for sample in samples_geno_codes.keys():\n",
    "    coded = samples_geno_codes[sample]\n",
    "    n_loci = len(coded)\n",
    "    n_miss = len([i for i in coded if i == 0])\n",
    "    n_missb1 = len([i for i in coded if i == 1])\n",
    "    n_missb2 = len([i for i in coded if i == 2])\n",
    "    n_matched = len([i for i in coded if i == 4])\n",
    "    n_mismatch_homhom = len([i for i in coded if i == 5])\n",
    "    n_mismatch_homhet = len([i for i in coded if i == 6])\n",
    "    n_mismatch_hethom = len([i for i in coded if i == 7])\n",
    "    n_genod = n_matched + n_mismatch_homhom + n_mismatch_homhet + n_mismatch_hethom\n",
    "    outfile.write(sample + \"\\t\" + str(n_loci) + \"\\t\" + str(n_miss) + \"\\t\" + str(n_missb1) + \"\\t\" + str(n_missb2) + \"\\t\" + str(n_genod) + \"\\t\")\n",
    "    outfile.write(str(n_matched) + \"\\t\" + str(n_mismatch_homhom) + \"\\t\" + str(n_mismatch_homhet) + \"\\t\" + str(n_mismatch_hethom) + \"\\n\")\n",
    "outfile.close()"
   ]
  },
  {
   "cell_type": "code",
   "execution_count": null,
   "metadata": {
    "collapsed": true
   },
   "outputs": [],
   "source": []
  },
  {
   "cell_type": "markdown",
   "metadata": {},
   "source": [
    "\n",
    "<br>\n",
    "#### Stacks genotypes\n"
   ]
  },
  {
   "cell_type": "code",
   "execution_count": 52,
   "metadata": {},
   "outputs": [
    {
     "data": {
      "text/plain": [
       "50"
      ]
     },
     "execution_count": 52,
     "metadata": {},
     "output_type": "execute_result"
    }
   ],
   "source": [
    "####### create dictionary with loci ##############\n",
    "batch1 = open(\"stacks_b1_wgenome/batch_1_matched_matrix.txt\", \"r\")\n",
    "batch2 = open(\"stacks_b2_wgenome/batch_2_matched_matrix.txt\", \"r\")\n",
    "\n",
    "## initiate ordered dictionary so loci can be called with indices\n",
    "import collections\n",
    "samples_dict_b1 = collections.OrderedDict()\n",
    "samples_dict_b2 = collections.OrderedDict()\n",
    "\n",
    "## read loci in as keys\n",
    "batch1.readline()\n",
    "batch2.readline()\n",
    "for line in batch1:\n",
    "    linelist = line.strip().split()\n",
    "    samples_dict_b1[linelist[0]] = linelist[1:]\n",
    "batch1.close()\n",
    "\n",
    "for line in batch2:\n",
    "    linelist = line.strip().split()\n",
    "    sampID = linelist[0].strip(\"_subset\")\n",
    "    samples_dict_b2[sampID] = linelist[1:]\n",
    "batch2.close()\n",
    "\n",
    "len([i for i in samples_dict_b1.keys() if i in samples_dict_b2.keys()])"
   ]
  },
  {
   "cell_type": "code",
   "execution_count": 53,
   "metadata": {
    "collapsed": true
   },
   "outputs": [],
   "source": [
    "######## compare genotypes in each individual #########\n",
    "samples_geno_codes = {}\n",
    "\n",
    "for sample in samples_dict_b1.keys():\n",
    "    b1_genotypes = samples_dict_b1[sample]\n",
    "    b2_genotypes = samples_dict_b2[sample]\n",
    "    coded = []\n",
    "    ## add appropriate code to list based on comparison of two genotypes\n",
    "    #--- 0 = both missing\n",
    "    #--- 1 = batch 1 missing\n",
    "    #--- 2 = batch 2 missing\n",
    "    #--- 3 = both genotyped\n",
    "    #--- 4 = both genotyped, matched\n",
    "    #--- 5 = both genotyped, mismatch because of hom --> hom\n",
    "    #--- 6 = both genotyped, mismatched because of hom --> het\n",
    "    #--- 7 = both genotyped, mismatched because of het --> hom\n",
    "    for i in range(0,len(b1_genotypes)):\n",
    "        if b1_genotypes[i] == b2_genotypes[i]:\n",
    "            # if genotypes matched and neither are missing\n",
    "            if b1_genotypes[i] != \"0000\":\n",
    "                coded.append(4)\n",
    "            elif b1_genotypes[i] == \"0000\":\n",
    "                coded.append(0)\n",
    "        # if genotypes don't match\n",
    "        elif b1_genotypes[i] != b2_genotypes[i]:\n",
    "            # if they are mismatched because one is missing\n",
    "            if b1_genotypes[i] == \"0000\":\n",
    "                coded.append(1)\n",
    "            elif b2_genotypes[i] == \"0000\":\n",
    "                coded.append(2)\n",
    "            # if they are mismatched and neither are missing\n",
    "            else:\n",
    "                # b1 het (b2 must be hom)\n",
    "                if b1_genotypes[i][0:2] != b1_genotypes[i][2:]:\n",
    "                    coded.append(7)\n",
    "                # b1 hom\n",
    "                elif b1_genotypes[i][0:2] == b1_genotypes[i][2:]:\n",
    "                    # b2 hom\n",
    "                    if b2_genotypes[i][0:2] == b2_genotypes[i][2:]:\n",
    "                        coded.append(5)\n",
    "                    # b2 het\n",
    "                    elif b2_genotypes[i][0:2] != b2_genotypes[i][2:]:\n",
    "                        coded.append(6)\n",
    "    samples_geno_codes[sample] = coded\n",
    "    if len(coded) < 6937:\n",
    "        print \"processed only \", len(coded), \" loci at sample.\""
   ]
  },
  {
   "cell_type": "code",
   "execution_count": 54,
   "metadata": {
    "collapsed": true
   },
   "outputs": [],
   "source": [
    "######## calculate mismatches ######\n",
    "outfile = open(\"KOR_genotypes_depth3v10_byIndivid_mismatches.txt\", \"w\")\n",
    "outfile.write(\"sample\\tn.loci\\tn.both.miss\\tn.b1.miss\\tn.b2.miss\\tn.both.genod\\tn.matched\\tn.mismatch.hom2hom\\tn.mismatch.het2hom\\tn.mismatch.hom2het\\n\")\n",
    "\n",
    "\n",
    "for sample in samples_geno_codes.keys():\n",
    "    coded = samples_geno_codes[sample]\n",
    "    n_loci = len(coded)\n",
    "    n_miss = len([i for i in coded if i == 0])\n",
    "    n_missb1 = len([i for i in coded if i == 1])\n",
    "    n_missb2 = len([i for i in coded if i == 2])\n",
    "    n_matched = len([i for i in coded if i == 4])\n",
    "    n_mismatch_homhom = len([i for i in coded if i == 5])\n",
    "    n_mismatch_homhet = len([i for i in coded if i == 6])\n",
    "    n_mismatch_hethom = len([i for i in coded if i == 7])\n",
    "    n_genod = n_matched + n_mismatch_homhom + n_mismatch_homhet + n_mismatch_hethom\n",
    "    outfile.write(sample + \"\\t\" + str(n_loci) + \"\\t\" + str(n_miss) + \"\\t\" + str(n_missb1) + \"\\t\" + str(n_missb2) + \"\\t\" + str(n_genod) + \"\\t\")\n",
    "    outfile.write(str(n_matched) + \"\\t\" + str(n_mismatch_homhom) + \"\\t\" + str(n_mismatch_homhet) + \"\\t\" + str(n_mismatch_hethom) + \"\\n\")\n",
    "outfile.close()"
   ]
  },
  {
   "cell_type": "code",
   "execution_count": null,
   "metadata": {
    "collapsed": true
   },
   "outputs": [],
   "source": []
  }
 ],
 "metadata": {
  "anaconda-cloud": {},
  "kernelspec": {
   "display_name": "Python 2",
   "language": "python",
   "name": "python2"
  },
  "language_info": {
   "codemirror_mode": {
    "name": "ipython",
    "version": 2
   },
   "file_extension": ".py",
   "mimetype": "text/x-python",
   "name": "python",
   "nbconvert_exporter": "python",
   "pygments_lexer": "ipython2",
   "version": "2.7.13"
  }
 },
 "nbformat": 4,
 "nbformat_minor": 1
}
