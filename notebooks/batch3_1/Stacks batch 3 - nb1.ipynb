{
 "cells": [
  {
   "cell_type": "markdown",
   "metadata": {},
   "source": [
    "## Stacks batch 3 - notebook 1\n",
    "\n",
    "\n",
    "I am going to rerun the stacks pipeline on both datasets with a stack depth of m = 3. \\\n",
    "\n",
    "However, I have to decide whether to (1) Not use Marine's correction script and specify an upper bound error rate for the stacks likelihood model, or (2) Use Marine's correction script. \n",
    "\n",
    "there are pros and cons to both: \n",
    "\n",
    "|-- stacks likelihood PRO---|---stacks likelihood CON---|\n",
    "|:---------------------------:|:---------------------------:|\n",
    "| low mismatch genotype rate from [simulation](http://www.evernote.com/l/AoqW-Fjzz_NJKbBw_cohu4QgDNkdA5bx2lM/)|Fis inflated|\n",
    "\n",
    "+Fis inflation: Charlie did a series of barplots that show that whether the error rate is set to 0.001 or 0.01, the Fis is always about 20-50% greater than the Fis that is produced using Marine's genotyping script. \n",
    "\n",
    "<br>\n",
    "\n",
    "|-- MB correction PRO---|---MB correction CON---|\n",
    "|:---------------------------:|:---------------------------:|\n",
    "| high mismatch genotype rate from [simulation](http://www.evernote.com/l/AoqW-Fjzz_NJKbBw_cohu4QgDNkdA5bx2lM/)|trust genotypes more|\n",
    "\n",
    "+high mismatch genotype rate: corrected average of 7.8% difference\n",
    "\n",
    "\n",
    "<br>\n",
    "<br>\n",
    "**So what it really boils down to is: Is it more important to have the m3 genotypes be similar to the m10 genotypes, or is it more important to not undercall heterozygotes????**\n",
    "\n",
    "\n",
    "Luckily I can just set the error rate now, and worry about working with Marine's script later.\n",
    "\n",
    "\n",
    "### Choosing an error rate:\n",
    "\n",
    "**Based on FIS differences between stacks and MB correction**\n",
    "\n",
    "|-- error rate---|---difference between MB & Stacks Fis---|\n",
    "|:---------------------------:|:---------------------------:|\n",
    "|0.1|Stacks Fis 2x higher|\n",
    "|0.05|Stacks Fis 6x higher|\n",
    "|0.001|Stacks Fis 6-10x higher+|\n",
    "\n",
    "+Fis from Marine's script looks a little sketchy on this one though; probably too low\n",
    "\n",
    "Also note that at a stack depth of 3, Marine's script tends to call more heterozygotes than it does at a stack depth of 10. Stacks might perform better at lower stack depths?\n",
    "\n",
    "<br>\n",
    "\n",
    "\n",
    "**Based on replicate error rate**\n",
    "\n",
    "In my Korean data, I ended up with around a 5% error rate for my replicates. However, I'm not entirely sure how much of that was lab error, so sequencing error is likely less than that.\n",
    "\n",
    "<br>\n",
    "\n",
    "**Other things to think about**\n",
    "\n",
    "With very low error rates, the number of retained loci gets pretty low. \n",
    "\n",
    "|-- error rate---|---postMAF MB # loci---|---postMAF stacks # loci---|\n",
    "|:---------------------------:|:---------------------------:|:---:|\n",
    "|0.05|9192|7204|\n",
    "|0.001|6759|2611|\n",
    "\n",
    "When I simulate the stacks likelihood model, it seems like an error rate of 0.1 safely puts out a heterozygote with stack depths of 7 / 3 for each allele (magnitude of 10). With an error rate of 0.05, it safely puts out a heterozygote with a magnitude of 100.\n",
    "\n",
    "\n",
    "<br>\n",
    "** ERROR RATE CHOSEN: 0.05 **\n",
    "\n",
    "<br>\n",
    "#### 10/9/2017\n",
    "\n",
    "### pstacks"
   ]
  },
  {
   "cell_type": "code",
   "execution_count": 1,
   "metadata": {
    "collapsed": false
   },
   "outputs": [
    {
     "data": {
      "text/plain": [
       "u'/mnt/hgfs/Pacific cod/DataAnalysis/PCod-Compare-repo/notebooks'"
      ]
     },
     "execution_count": 1,
     "metadata": {},
     "output_type": "execute_result"
    }
   ],
   "source": [
    "pwd"
   ]
  },
  {
   "cell_type": "code",
   "execution_count": 2,
   "metadata": {
    "collapsed": false
   },
   "outputs": [
    {
     "name": "stdout",
     "output_type": "stream",
     "text": [
      "/mnt/hgfs/Pacific cod/DataAnalysis/PCod-Compare-repo/scripts\n"
     ]
    }
   ],
   "source": [
    "cd ../scripts"
   ]
  },
  {
   "cell_type": "code",
   "execution_count": 5,
   "metadata": {
    "collapsed": false
   },
   "outputs": [
    {
     "name": "stdout",
     "output_type": "stream",
     "text": [
      "###### Generate Shell Script to Run pstacks --> populations ######\r\n",
      "\r\n",
      "## MF 3/10/2017\r\n",
      "## For US Cod Data\r\n",
      "\r\n",
      "## Edited by MF 5/3/2017 for Korea PCod Data\r\n",
      "## Edited 6/25/2017 for Korea PCod Data\r\n",
      "## Edited 10/9/2017 for combined data \r\n",
      "\r\n",
      "\r\n"
     ]
    }
   ],
   "source": [
    "!head pstacks_genShell_m3_10-9.py"
   ]
  },
  {
   "cell_type": "code",
   "execution_count": 12,
   "metadata": {
    "collapsed": false
   },
   "outputs": [],
   "source": [
    "!python pstacks_genShell_m3_10-9.py \\\n",
    "PopMap_KOR.txt \\\n",
    "PopMap_AK_edit.txt"
   ]
  },
  {
   "cell_type": "code",
   "execution_count": 13,
   "metadata": {
    "collapsed": false
   },
   "outputs": [
    {
     "name": "stdout",
     "output_type": "stream",
     "text": [
      "#!/bin/bash\r\n",
      "\r\n",
      "#pstacks\r\n",
      "pstacks -t sam -f ../../PCod-Korea-repo/stacks_b7_wgenome/PO010715_02.sam -o ../stacks_b3_wgenome -i 001 -m 3 -p 6 --model_type bounded --bound_high 0.05 2>> ../stacks_b3_wgenome/pstacks_out_b3_wgenome\r\n",
      "pstacks -t sam -f ../../PCod-Korea-repo/stacks_b7_wgenome/PO010715_02_rep.sam -o ../stacks_b3_wgenome -i 002 -m 3 -p 6 --model_type bounded --bound_high 0.05 2>> ../stacks_b3_wgenome/pstacks_out_b3_wgenome\r\n",
      "pstacks -t sam -f ../../PCod-Korea-repo/stacks_b7_wgenome/PO010715_04.sam -o ../stacks_b3_wgenome -i 003 -m 3 -p 6 --model_type bounded --bound_high 0.05 2>> ../stacks_b3_wgenome/pstacks_out_b3_wgenome\r\n",
      "pstacks -t sam -f ../../PCod-Korea-repo/stacks_b7_wgenome/PO010715_06.1.sam -o ../stacks_b3_wgenome -i 004 -m 3 -p 6 --model_type bounded --bound_high 0.05 2>> ../stacks_b3_wgenome/pstacks_out_b3_wgenome\r\n",
      "pstacks -t sam -f ../../PCod-Korea-repo/stacks_b7_wgenome/PO010715_08.1.sam -o ../stacks_b3_wgenome -i 005 -m 3 -p 6 --model_type bounded --bound_high 0.05 2>> ../stacks_b3_wgenome/pstacks_out_b3_wgenome\r\n",
      "pstacks -t sam -f ../../PCod-Korea-repo/stacks_b7_wgenome/PO010715_10.1.sam -o ../stacks_b3_wgenome -i 006 -m 3 -p 6 --model_type bounded --bound_high 0.05 2>> ../stacks_b3_wgenome/pstacks_out_b3_wgenome\r\n",
      "pstacks -t sam -f ../../PCod-Korea-repo/stacks_b7_wgenome/PO010715_11.1.sam -o ../stacks_b3_wgenome -i 007 -m 3 -p 6 --model_type bounded --bound_high 0.05 2>> ../stacks_b3_wgenome/pstacks_out_b3_wgenome\r\n"
     ]
    }
   ],
   "source": [
    "!head pstacks_batch3_10-9.sh"
   ]
  },
  {
   "cell_type": "code",
   "execution_count": 14,
   "metadata": {
    "collapsed": false
   },
   "outputs": [
    {
     "name": "stdout",
     "output_type": "stream",
     "text": [
      "/mnt/hgfs/Pacific cod/DataAnalysis/PCod-Compare-repo\n"
     ]
    }
   ],
   "source": [
    "cd ../"
   ]
  },
  {
   "cell_type": "code",
   "execution_count": 15,
   "metadata": {
    "collapsed": true
   },
   "outputs": [],
   "source": [
    "!mkdir stacks_b3_wgenome"
   ]
  },
  {
   "cell_type": "code",
   "execution_count": null,
   "metadata": {
    "collapsed": true
   },
   "outputs": [],
   "source": [
    "# run in directory\n",
    "cd scripts\n",
    "./pstacks_batch3_10-9.sh"
   ]
  },
  {
   "cell_type": "markdown",
   "metadata": {},
   "source": [
    "<br>\n",
    "\n",
    "#### 10/10/2017\n",
    "\n",
    "### Does it look like lower stack depth helped the Alaskan samples?\n",
    "\n",
    "**PARSE PSTACKS OUTPUT TO GET THE # LOCI, MEAN COVERAGE DEPTH**\n"
   ]
  },
  {
   "cell_type": "code",
   "execution_count": 1,
   "metadata": {
    "collapsed": false
   },
   "outputs": [
    {
     "name": "stdout",
     "output_type": "stream",
     "text": [
      "/mnt/hgfs/Pacific cod/DataAnalysis/PCod-Compare-repo\n"
     ]
    }
   ],
   "source": [
    "cd ../"
   ]
  },
  {
   "cell_type": "code",
   "execution_count": 5,
   "metadata": {
    "collapsed": false
   },
   "outputs": [],
   "source": [
    "infile = open(\"stacks_b3_wgenome/pstacks_out_b3_wgenome\", \"r\")\n",
    "outfile = open(\"stacks_b3_wgenome/pstacks_nloci_depth.txt\", \"w\")\n",
    "outfile.write(\"sample\\tn_loci\\tmean_depth\\n\")\n",
    "\n",
    "import collections\n",
    "n_loci_dict = collections.OrderedDict()\n",
    "mean_depth_dict = collections.OrderedDict()\n",
    "\n",
    "for line in infile:\n",
    "    if line.startswith(\"Parsing \"):\n",
    "        linelist = line.strip().split(\"/\")\n",
    "        sample = linelist[len(linelist)-1].strip(\".sam\")\n",
    "    elif line.startswith(\"  Merged\"):\n",
    "        nloci = line.strip().split()[5]\n",
    "        n_loci_dict[sample] = nloci\n",
    "    elif line.startswith(\"  Mean coverage depth is\"):\n",
    "        depth = line.strip().split()[4].strip(\";\")\n",
    "        mean_depth_dict[sample] = depth\n",
    "infile.close()\n",
    "\n",
    "for sample in n_loci_dict.keys():\n",
    "    outfile.write(sample + \"\\t\" + n_loci_dict[sample] + \"\\t\" + mean_depth_dict[sample] + \"\\n\")\n",
    "outfile.close()"
   ]
  },
  {
   "cell_type": "markdown",
   "metadata": {},
   "source": [
    "**PLOT KOREAN V. ALASKAN # LOCI, MEAN STACK DEPTHS**"
   ]
  },
  {
   "cell_type": "code",
   "execution_count": 6,
   "metadata": {
    "collapsed": true
   },
   "outputs": [],
   "source": [
    "infile = open(\"stacks_b3_wgenome/pstacks_nloci_depth.txt\", \"r\")\n",
    "header = infile.readline()\n",
    "\n",
    "kor_nloci = []\n",
    "ak_nloci = []\n",
    "kor_depth = []\n",
    "ak_depth = []\n",
    "line = infile.readline()\n",
    "while (\"#\") not in line:\n",
    "    kor_nloci.append(int(line.strip().split()[1]))\n",
    "    kor_depth.append(float(line.strip().split()[2]))\n",
    "    line = infile.readline()\n",
    "for line in infile:\n",
    "    ak_nloci.append(int(line.strip().split()[1]))\n",
    "    ak_depth.append(float(line.strip().split()[2]))\n",
    "infile.close()"
   ]
  },
  {
   "cell_type": "code",
   "execution_count": 25,
   "metadata": {
    "collapsed": false
   },
   "outputs": [
    {
     "data": {
      "image/png": "[encoded data removed]",
      "text/plain": [
       "<matplotlib.figure.Figure at 0x7fec2ccacb10>"
      ]
     },
     "metadata": {},
     "output_type": "display_data"
    }
   ],
   "source": [
    "import numpy as np\n",
    "import matplotlib.pyplot as plt\n",
    "data= [kor_nloci, ak_nloci]\n",
    "plt.boxplot(data, positions = [1,2], labels = [\"Korean Samples\", \"Alaskan Samples\"])\n",
    "plt.suptitle(\"Number of Loci from Database Found in Each Sample\")\n",
    "plt.ylabel(\"# of Loci Processed in Sample\")\n",
    "plt.show()"
   ]
  },
  {
   "cell_type": "code",
   "execution_count": 26,
   "metadata": {
    "collapsed": true
   },
   "outputs": [],
   "source": [
    "plt.close()"
   ]
  },
  {
   "cell_type": "code",
   "execution_count": 27,
   "metadata": {
    "collapsed": false
   },
   "outputs": [
    {
     "data": {
      "image/png": "[encoded data removed]",
      "text/plain": [
       "<matplotlib.figure.Figure at 0x7fec0a270310>"
      ]
     },
     "metadata": {},
     "output_type": "display_data"
    }
   ],
   "source": [
    "import numpy as np\n",
    "import matplotlib.pyplot as plt\n",
    "data= [kor_depth, ak_depth]\n",
    "plt.boxplot(data, positions = [1,2], labels = [\"Korean Samples\", \"Alaskan Samples\"])\n",
    "plt.suptitle(\"Mean Stack Depth per Locus\")\n",
    "plt.ylabel(\"# of Reads for Locus\")\n",
    "plt.show()"
   ]
  },
  {
   "cell_type": "code",
   "execution_count": 28,
   "metadata": {
    "collapsed": true
   },
   "outputs": [],
   "source": [
    "plt.close()"
   ]
  },
  {
   "cell_type": "code",
   "execution_count": 35,
   "metadata": {
    "collapsed": false
   },
   "outputs": [
    {
     "data": {
      "image/png": "[encoded data removed]",
      "text/plain": [
       "<matplotlib.figure.Figure at 0x7fec095dd190>"
      ]
     },
     "metadata": {},
     "output_type": "display_data"
    }
   ],
   "source": [
    "plt.hist(kor_depth, color = \"darkviolet\", alpha = 0.50, label = \"Korean Samples\", bins = np.arange(0,400,10))\n",
    "plt.hist(ak_depth, color = \"darkcyan\", alpha = 0.50, label = \"Alaskan Samples\", bins = np.arange(0,400,10))\n",
    "plt.suptitle(\"Mean Stack Depth per Locus\")\n",
    "plt.ylabel(\"# of Samples\")\n",
    "plt.xlabel(\"Mean # of Reads per Locus\")\n",
    "plt.show()"
   ]
  },
  {
   "cell_type": "code",
   "execution_count": 36,
   "metadata": {
    "collapsed": true
   },
   "outputs": [],
   "source": [
    "plt.close()"
   ]
  },
  {
   "cell_type": "markdown",
   "metadata": {},
   "source": [
    "<br>\n",
    "** Short Answer: I think so!**"
   ]
  },
  {
   "cell_type": "markdown",
   "metadata": {},
   "source": [
    "### Choosing cstacks samples\n",
    "\n",
    "To remove contaminated individuals, I used Alaskan information from batch 1. \n",
    "\n",
    "I began to redo the list of Korean samples, but as I went I found that many of the samples with the greatest # tags had the lowest # mapped reads in their `.sam` files. I suspect this means that they have many loci with very low read depths. I'll stick with the samples chosen from `batch 7` of the Korean samples. \n",
    "\n",
    "<br>\n",
    "\n",
    "### cstacks --> populations"
   ]
  },
  {
   "cell_type": "code",
   "execution_count": 37,
   "metadata": {
    "collapsed": false
   },
   "outputs": [
    {
     "name": "stdout",
     "output_type": "stream",
     "text": [
      "/mnt/hgfs/Pacific cod/DataAnalysis/PCod-Compare-repo/scripts\n"
     ]
    }
   ],
   "source": [
    "cd scripts"
   ]
  },
  {
   "cell_type": "code",
   "execution_count": 39,
   "metadata": {
    "collapsed": false
   },
   "outputs": [
    {
     "name": "stdout",
     "output_type": "stream",
     "text": [
      "###### Generate Shell Script to Run pstacks --> populations ######\r\n",
      "\r\n",
      "## MF 3/10/2017\r\n",
      "## For US Cod Data\r\n",
      "\r\n",
      "## Edited by MF 5/3/2017 for Korea PCod Data\r\n",
      "## Edited 6/25/2017 for Korea PCod Data\r\n",
      "## Edited 10/9/2017 for combined data - KOR and AK. DOES INCLUDE CSTACKS\r\n",
      "\r\n",
      "\r\n",
      "\r\n",
      "## At Command Line: python cstacks_populations_genShell_m3_10-9.py ARG1 ARG2 ARG3\r\n",
      "##---- ARG1 = samples for cstacks file (txt)\r\n",
      "##---- ARG2 = Korea sample list file (population map)\r\n",
      "##---- ARG3 = Alaska sample list file (population map)\r\n"
     ]
    }
   ],
   "source": [
    "!head -n 15 pstacks_populations_genShell_m3_10-9.py"
   ]
  },
  {
   "cell_type": "code",
   "execution_count": 41,
   "metadata": {
    "collapsed": false
   },
   "outputs": [],
   "source": [
    "!python pstacks_populations_genShell_m3_10-9.py \\\n",
    "samples_for_cstacks_combo_b3.txt \\\n",
    "PopMap_KOR.txt \\\n",
    "PopMap_AK_edit.txt"
   ]
  },
  {
   "cell_type": "code",
   "execution_count": null,
   "metadata": {
    "collapsed": true
   },
   "outputs": [],
   "source": [
    "#run in terminal\n",
    "./cstacks_populations_batch3_10-9.sh"
   ]
  },
  {
   "cell_type": "markdown",
   "metadata": {},
   "source": [
    "<br>\n",
    "<br>\n",
    "### Checking genepop\n",
    "\n",
    "before I start the filtering steps, I want to see if I have a lot of missing data in the Alaskan samples. \n",
    "\n",
    "I do - ALOT of missing data. See below for the precise % of all loci + snp pairs that are missing data right out of `stacks`. "
   ]
  },
  {
   "cell_type": "code",
   "execution_count": 1,
   "metadata": {
    "collapsed": false
   },
   "outputs": [
    {
     "name": "stdout",
     "output_type": "stream",
     "text": [
      "/mnt/hgfs/PCod-Compare-repo\n"
     ]
    }
   ],
   "source": [
    "cd ../"
   ]
  },
  {
   "cell_type": "code",
   "execution_count": 2,
   "metadata": {
    "collapsed": true
   },
   "outputs": [],
   "source": [
    "infile = open(\"stacks_b3_wgenome/batch_3.genepop\", \"r\")\n",
    "infile.readline()\n",
    "infile.readline()\n",
    "n_pops = 0\n",
    "\n",
    "kor_missing = []\n",
    "ak_missing = []\n",
    "for line in infile:\n",
    "    if line.startswith(\"pop\"):\n",
    "        n_pops += 1\n",
    "    else:\n",
    "        genotypes = line.strip().split()[1:]\n",
    "        n_total = len(genotypes)\n",
    "        n_missing = len([i for i in genotypes if i == \"0000\"])\n",
    "        proportion_missing = float(n_missing)/float(n_total)\n",
    "        if n_pops <= 9:\n",
    "            kor_missing.append(proportion_missing)\n",
    "        elif n_pops > 9: \n",
    "            ak_missing.append(proportion_missing)\n",
    "infile.close()"
   ]
  },
  {
   "cell_type": "code",
   "execution_count": 5,
   "metadata": {
    "collapsed": false
   },
   "outputs": [
    {
     "data": {
      "image/png": "[encoded data removed]",
      "text/plain": [
       "<matplotlib.figure.Figure at 0x7f98cf7b52d0>"
      ]
     },
     "metadata": {},
     "output_type": "display_data"
    }
   ],
   "source": [
    "import numpy as np\n",
    "import matplotlib.pyplot as plt\n",
    "data = [kor_missing, ak_missing]\n",
    "plt.boxplot(data, positions=[1,2], labels = [\"Korean samples\", \"Alaskan samples\"])\n",
    "plt.suptitle(\"Proportion of Locus-SNP pairs with Missing Genotypes\\nPer Sample\")\n",
    "plt.ylabel(\"Proportion Locus-SNP pairs Missing Genotypes\")\n",
    "plt.show()"
   ]
  },
  {
   "cell_type": "code",
   "execution_count": 6,
   "metadata": {
    "collapsed": true
   },
   "outputs": [],
   "source": [
    "plt.close()"
   ]
  },
  {
   "cell_type": "markdown",
   "metadata": {},
   "source": [
    "<br>\n",
    "Yikes. See [this notebook]() for troubleshooting."
   ]
  },
  {
   "cell_type": "code",
   "execution_count": null,
   "metadata": {
    "collapsed": true
   },
   "outputs": [],
   "source": []
  }
 ],
 "metadata": {
  "anaconda-cloud": {},
  "kernelspec": {
   "display_name": "Python [default]",
   "language": "python",
   "name": "python2"
  },
  "language_info": {
   "codemirror_mode": {
    "name": "ipython",
    "version": 2
   },
   "file_extension": ".py",
   "mimetype": "text/x-python",
   "name": "python",
   "nbconvert_exporter": "python",
   "pygments_lexer": "ipython2",
   "version": "2.7.12"
  }
 },
 "nbformat": 4,
 "nbformat_minor": 1
}
