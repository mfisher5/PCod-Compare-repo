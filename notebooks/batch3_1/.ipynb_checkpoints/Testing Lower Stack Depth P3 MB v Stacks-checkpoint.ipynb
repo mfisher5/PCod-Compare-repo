{
 "cells": [
  {
   "cell_type": "markdown",
   "metadata": {},
   "source": [
    "\n",
    "\n",
    "## Comparison of different genotypes between:\n",
    "\n",
    "1. Marine's script used on original files\n",
    "2. Stacks genotyping algorithm used on shortened files.\n",
    "<br>\n",
    "<br>\n",
    "#### 10/3/2017\n",
    "\n",
    "### Find matching loci between batch 1, corrected and batch 2, uncorrected\n",
    "\n",
    "Note that when I run Marine's script, it gets rid of information about the locus_snp pairs. \n",
    "\n",
    "Batch 1 was processed with the random snp model, so there is only 1 possible snp per locus. The specific snp can be found in the `batch_1.genepop`. \n",
    "\n",
    "Batch 2 was processed to retain all snps, so there are more than one possible snp per locus. \n",
    "\n",
    "I need to find matching loci using the associated snp information, which can only be found in the `batch_1.genepop` and `batch_2.genepop` files. \n",
    "\n",
    "But I've already done this for the previous 2 notebooks. So I can just use the following files:\n",
    "\n",
    "`batch_1_matched.CorrectedGenotypes_biallelic.txt`\n",
    "\n",
    "`batch_2_matched.genepop`\n",
    "\n",
    "And find the loci that match between the two. "
   ]
  },
  {
   "cell_type": "code",
   "execution_count": 1,
   "metadata": {},
   "outputs": [
    {
     "name": "stdout",
     "output_type": "stream",
     "text": [
      "/mnt/hgfs/Pacific cod/DataAnalysis/PCod-Compare-repo\n"
     ]
    }
   ],
   "source": [
    "cd ../"
   ]
  },
  {
   "cell_type": "code",
   "execution_count": 9,
   "metadata": {},
   "outputs": [
    {
     "name": "stdout",
     "output_type": "stream",
     "text": [
      "There were  6047  matching loci.\n",
      "There were  891  loci that did not match.\n"
     ]
    }
   ],
   "source": [
    "MBfile = open(\"stacks_b1_wgenome/batch_1_matched.CorrectedGenotypes_biallelic.txt\", \"r\")\n",
    "stacksfile = open(\"stacks_b2_wgenome/batch_2_matched.genepop\", \"r\")\n",
    "\n",
    "header = stacksfile.readline()\n",
    "loci_snp_list = stacksfile.readline().strip().split(\",\")\n",
    "loci_list = [i.split(\"_\")[0] for i in loci_snp_list]\n",
    "stacksfile.close()\n",
    "\n",
    "\n",
    "loci_list_MB = MBfile.readline().strip().split(\"\\t\")\n",
    "MBfile.close()\n",
    "\n",
    "matching = [i for i in loci_list_MB if i in loci_list]\n",
    "print \"There were \", len(matching), \" matching loci.\"\n",
    "not_matching = [i for i in loci_list_MB if i not in loci_list]\n",
    "not_matching.append([i for i in loci_list if i not in loci_list_MB])\n",
    "print \"There were \", len(not_matching), \" loci that did not match.\"\n"
   ]
  },
  {
   "cell_type": "code",
   "execution_count": 36,
   "metadata": {},
   "outputs": [],
   "source": [
    "# find indices of matched loci in Marine's file\n",
    "MBfile = open(\"stacks_b1_wgenome/batch_1_matched.CorrectedGenotypes_biallelic.txt\", \"r\")\n",
    "MBout = open(\"stacks_b1_wgenome/batch_1_matched.CorrectedGenotypes_biallelic_matched_tostacks.txt\", \"w\")\n",
    "\n",
    "MBloci_list = MBfile.readline().strip().split()\n",
    "index = 0\n",
    "MBindices = []\n",
    "new_first_line = \"\"\n",
    "for i in MBloci_list:\n",
    "    if i in matching:\n",
    "        new_first_line += i + \"\\t\"\n",
    "        MBindices.append(index)\n",
    "    index += 1\n",
    "MBout.write(new_first_line + \"\\n\")\n",
    "    \n",
    "# find indices of matched loci in the stacks file\n",
    "stacksfile = open(\"stacks_b2_wgenome/batch_2_matched.genepop\", \"r\")\n",
    "stacksout = open(\"stacks_b2_wgenome/batch_2_matched_toMB.genepop\", \"w\")\n",
    "stacksout.write(stacksfile.readline())\n",
    "\n",
    "loci_list = stacksfile.readline().strip().split(\",\")\n",
    "index = 0\n",
    "indices = []\n",
    "new_first_line2 = \"\"\n",
    "for i in loci_list:\n",
    "    locus = i.split(\"_\")[0]\n",
    "    if locus in matching:\n",
    "        new_first_line2 += locus + \"\\t\"\n",
    "        indices.append(index)\n",
    "    index += 1\n",
    "stacksout.write(new_first_line2 + \"\\n\")"
   ]
  },
  {
   "cell_type": "code",
   "execution_count": 37,
   "metadata": {},
   "outputs": [
    {
     "name": "stdout",
     "output_type": "stream",
     "text": [
      "6936\n"
     ]
    }
   ],
   "source": [
    "print MBindices[len(MBindices)-1]"
   ]
  },
  {
   "cell_type": "code",
   "execution_count": 38,
   "metadata": {},
   "outputs": [
    {
     "name": "stdout",
     "output_type": "stream",
     "text": [
      "6047\n"
     ]
    }
   ],
   "source": [
    "print len(MBindices)"
   ]
  },
  {
   "cell_type": "code",
   "execution_count": 39,
   "metadata": {},
   "outputs": [
    {
     "name": "stdout",
     "output_type": "stream",
     "text": [
      "11494\n"
     ]
    }
   ],
   "source": [
    "print indices[len(indices)-1]"
   ]
  },
  {
   "cell_type": "code",
   "execution_count": 40,
   "metadata": {},
   "outputs": [
    {
     "name": "stdout",
     "output_type": "stream",
     "text": [
      "6047\n"
     ]
    }
   ],
   "source": [
    "print len(indices)"
   ]
  },
  {
   "cell_type": "code",
   "execution_count": 41,
   "metadata": {},
   "outputs": [],
   "source": [
    "# write over genotypes for matching loci only \n",
    "for line in MBfile:\n",
    "    if not line.startswith(\"pop\"):\n",
    "        new_line = \"\"\n",
    "        linelist = line.strip().split(\"\\t\")\n",
    "        new_line += linelist[0] + \"\\t\"\n",
    "        index = 0\n",
    "        for i in range(1,len(linelist)):\n",
    "            if i in MBindices and i != 6936:\n",
    "                new_line += linelist[i] + \"\\t\"\n",
    "            elif i in MBindices and i == 6936:\n",
    "                new_line += linelist[i] + \"\\n\"\n",
    "            index += 1\n",
    "        MBout.write(new_line)\n",
    "MBfile.close()\n",
    "MBout.close()\n",
    "\n",
    "\n",
    "for line in stacksfile:\n",
    "    if not line.startswith(\"pop\"):\n",
    "        new_line = \"\"\n",
    "        linelist = line.strip().split(\"\\t\")\n",
    "        new_line += linelist[0] + \"\\t\"\n",
    "        index = 0\n",
    "        for i in range(1,len(linelist)):\n",
    "            if i in indices and i != 11494:\n",
    "                new_line += linelist[i] + \"\\t\"\n",
    "            elif i in indices and i == 11494:\n",
    "                new_line += linelist[i] + \"\\n\"\n",
    "            index += 1\n",
    "        stacksout.write(new_line)\n",
    "stacksfile.close()\n",
    "stacksout.close()\n",
    "\n"
   ]
  },
  {
   "cell_type": "markdown",
   "metadata": {},
   "source": [
    "#### 10/6/2017"
   ]
  },
  {
   "cell_type": "code",
   "execution_count": 1,
   "metadata": {},
   "outputs": [
    {
     "name": "stdout",
     "output_type": "stream",
     "text": [
      "/mnt/hgfs/Pacific cod/DataAnalysis/PCod-Compare-repo\n"
     ]
    }
   ],
   "source": [
    "cd ../"
   ]
  },
  {
   "cell_type": "code",
   "execution_count": 7,
   "metadata": {
    "collapsed": true
   },
   "outputs": [],
   "source": [
    "gen1 = open(\"stacks_b1_wgenome/batch_1_matched.CorrectedGenotypes_biallelic_matched_tostacks.txt\", \"r\")\n",
    "gen2 = open(\"stacks_b2_wgenome/batch_2_matched_toMB.genepop\", \"r\")\n",
    "\n",
    "#check to make sure that all needed locus_snp pairs are present in batch 2 genepop\n",
    "loci1 = gen1.readline().strip().split(\"\\t\")\n",
    "gen2.readline()\n",
    "loci2 = gen2.readline().strip().split(\"\\t\")\n",
    "for i in loci1:\n",
    "    if i not in loci2: \n",
    "        print \"oh no! You're missing locus \", i, \" in your batch 2 file.\"\n",
    "for i in loci2:\n",
    "    if i not in loci1:\n",
    "        print \"oh no! You're missing locus \", i, \" in your batch 1 file.\"\n",
    "\n",
    "# make a dictionary where the key is the sample and the value is a list of genotypes\n",
    "import collections\n",
    "\n",
    "b2_genotype_dict = collections.OrderedDict()\n",
    "for line in gen2:\n",
    "    linelist = line.strip().split()\n",
    "    if len(linelist) > 1:\n",
    "        sample_name = linelist[0].strip(\"_subset,\")\n",
    "        b2_genotype_dict[sample_name] = linelist[1:]\n",
    "gen2.close()      \n",
    "        \n",
    "b1_genotype_dict = collections.OrderedDict()\n",
    "for line in gen1:\n",
    "    linelist = line.strip().split()\n",
    "    if len(linelist) > 1:\n",
    "        sample_name = linelist[0].strip(\",\")\n",
    "        if sample_name in b2_genotype_dict.keys():\n",
    "            b1_genotype_dict[sample_name] = linelist[1:]\n",
    "gen1.close()"
   ]
  },
  {
   "cell_type": "code",
   "execution_count": 10,
   "metadata": {
    "scrolled": false
   },
   "outputs": [
    {
     "name": "stdout",
     "output_type": "stream",
     "text": [
      "['PO010715_07_rep', 'PO010715_26', 'PO010715_27.1', 'PO020515_10.1', 'PO031715_04', 'PO031715_23', 'GE011215_08.1', 'GE011215_11', 'GE011215_30.1', 'GE012315_05.1', 'GE012315_10.1', 'GE012315_11_2', 'GEO012315_02', 'GEO012315_12', 'GEO012315_18', 'GEO012315_21', 'NA021015_02.1', 'NA021015_10.1', 'NA021015_25', 'YS_121316_18', 'YS_121316_21_2', 'YS_121316_28', 'YS_121316_29', 'JUK07_12', 'JUK07_13', 'JUK07_14', 'JUK07_15', 'JUK07_29.1', 'JUK07_32', 'JB121807_01', 'JB121807_05_2', 'JB121807_05', 'JB121807_12.1', 'JB121807_19.1', 'JB121807_23_2', 'JB121807_25', 'JB121807_33.1', 'JB121807_41.1', 'JB021108_25.1', 'JB021108_45', 'JB021108_46_rep.1', 'JB021108_48.1', 'BOR07_07.1', 'BOR07_10.1', 'BOR07_12.1', 'GEO020414_11', 'GEO020414_16', 'GEO020414_27', 'GEO020414_2', 'GEO020414_4']\n"
     ]
    }
   ],
   "source": [
    "print b2_genotype_dict.keys()"
   ]
  },
  {
   "cell_type": "code",
   "execution_count": 11,
   "metadata": {},
   "outputs": [
    {
     "name": "stdout",
     "output_type": "stream",
     "text": [
      "6047\n"
     ]
    }
   ],
   "source": [
    "print len(b2_genotype_dict['PO010715_07_rep'])"
   ]
  },
  {
   "cell_type": "code",
   "execution_count": 12,
   "metadata": {},
   "outputs": [
    {
     "name": "stdout",
     "output_type": "stream",
     "text": [
      "['PO010715_26', 'PO010715_27.1', 'PO020515_10.1', 'PO031715_04', 'PO031715_23', 'PO010715_07_rep', 'GE011215_08.1', 'GE011215_30.1', 'GE012315_05.1', 'GE012315_10.1', 'GEO012315_02', 'GEO012315_12', 'GEO012315_18', 'GEO012315_21', 'GE012315_11_2', 'GE011215_11', 'NA021015_02.1', 'NA021015_10.1', 'NA021015_25', 'YS_121316_18', 'YS_121316_28', 'YS_121316_29', 'YS_121316_21_2', 'JUK07_14', 'JUK07_15', 'JUK07_29.1', 'JUK07_32', 'JUK07_13', 'JUK07_12', 'JB121807_01', 'JB121807_05', 'JB121807_12.1', 'JB121807_19.1', 'JB121807_25', 'JB121807_33.1', 'JB121807_41.1', 'JB121807_05_2', 'JB121807_23_2', 'JB021108_25.1', 'JB021108_45', 'JB021108_46_rep.1', 'JB021108_48.1', 'BOR07_07.1', 'BOR07_10.1', 'BOR07_12.1', 'GEO020414_11', 'GEO020414_16', 'GEO020414_2', 'GEO020414_27', 'GEO020414_4']\n"
     ]
    }
   ],
   "source": [
    "print b1_genotype_dict.keys()"
   ]
  },
  {
   "cell_type": "code",
   "execution_count": 13,
   "metadata": {},
   "outputs": [
    {
     "name": "stdout",
     "output_type": "stream",
     "text": [
      "6046\n"
     ]
    }
   ],
   "source": [
    "print len(b1_genotype_dict['PO010715_26'])"
   ]
  },
  {
   "cell_type": "markdown",
   "metadata": {},
   "source": [
    "*WHY DO THE LENGTHS NOT MATCH?????*\n",
    "\n",
    "I have bigger problems than that - the loci are listed in the same order. So I'm going to have to re-arrange the files..........\n",
    "\n",
    "\n",
    "<br>\n",
    "<br>\n",
    "<br>"
   ]
  },
  {
   "cell_type": "code",
   "execution_count": 47,
   "metadata": {},
   "outputs": [
    {
     "name": "stdout",
     "output_type": "stream",
     "text": [
      "crap! you don't have the same number of genotypes in your batches.\n"
     ]
    }
   ],
   "source": [
    "outfile = open(\"stacks_pipeline_analyses/analyses_AK_LowGenotypeRate/compare_KOR_genos_StacksDepth3_v_MBdepth10.txt\", \"w\")\n",
    "\n",
    "# write to an output file:\n",
    "## --- (0) sample name\n",
    "## --- (1) number of genotyped loci in batch 1\n",
    "## --- (2) number of genotyped loci in batch 2\n",
    "\n",
    "# calculate and write to output file:\n",
    "## --- (3) number of same genotypes (includes missing genotypes)\n",
    "## --- (4) number of same genotypes (does not include missing genotypes)\n",
    "\n",
    "# calculate and write to output file:\n",
    "## --- (5) number of different genotypes\n",
    "## --- (5) number of different genotypes het in batch 1 --> hom in batch 2\n",
    "## --- (6) number of different genotypes hom in batch 1 --> het in batch 2\n",
    "## --- (7) number of different genotypes hom in batch 1 --> diff hom in batch 2\n",
    "## --- (8) number of different genotypes het in batch 1 --> diff het in batch 2\n",
    "## --- (9) number of different genotypes b/c batch 1 is missing, batch 2 is het\n",
    "## --- (10) number of different genotypes b/c batch 1 is missing, batch 2 is hom\n",
    "## --- (11) number of different genotypes b/c batch 2 is missing, batch 1 is het\n",
    "## --- (12) number of different genotypes b/c batch 2 is missing, batch 2 is hom\n",
    "\n",
    "outfile.write(\"sample\\tgenotyped.b1\\tgenotyped.b2\\tsame.genos.wmissing\\tsame.genos\\tdiff.genos\")\n",
    "outfile.write(\"\\tdiff.het_hom\\tdiff.hom_het\\tdiff.het_het\\tdiff.hom_hom\\tdiff.miss_het\\tdiff.miss_hom\\tdiff.het_miss\\tdiff.hom_miss\\n\")\n",
    "\n",
    "\n",
    "for sample in b2_genotype_dict.keys():\n",
    "    outfile.write(sample + \"\\t\")\n",
    "    b2_genotypes = b2_genotype_dict[sample]\n",
    "    b1_genotypes = b1_genotype_dict[sample]\n",
    "    if len(b2_genotypes) != len(b1_genotypes):\n",
    "        print \"crap! you don't have the same number of genotypes in your batches.\"\n",
    "        break\n",
    "    # write to an output file: sample name, number genotyped per batch\n",
    "    b1_genotyped = len([i for i in b1_genotypes if i != \"0000\"])\n",
    "    b2_genotyped = len([i for i in b2_genotypes if i != \"0000\"])\n",
    "    outfile.write(str(b1_genotyped) + \"\\t\" + str(b2_genotyped) + \"\\t\")\n",
    "    # calculate and write to output file: matches and mismatches\n",
    "    matched_wmissing = 0\n",
    "    matched = 0\n",
    "    different = 0\n",
    "    diff_het_hom = 0\n",
    "    diff_hom_het = 0\n",
    "    diff_het_het = 0\n",
    "    diff_hom_hom = 0\n",
    "    diff_miss_hom = 0\n",
    "    diff_miss_het = 0\n",
    "    diff_het_miss = 0\n",
    "    diff_hom_miss = 0\n",
    "    for i in range(0, len(b1_genotypes)):\n",
    "        # number of matching genotypes, with and without missing genotypes\n",
    "        if b2_genotypes[i] == b1_genotypes[i]:\n",
    "            if b2_genotypes[i] != \"0000\":\n",
    "                matched += 1\n",
    "                matched_wmissing += 1\n",
    "            elif b2_genotypes[i] == \"0000\":\n",
    "                matched_wmissing += 1\n",
    "        # differing pairs, and the type of difference between them\n",
    "        elif b2_genotypes[i] != b1_genotypes[i]:\n",
    "            different += 1\n",
    "            # if b1 is missing genotype\n",
    "            if b1_genotypes[i] == \"0000\":\n",
    "                if b2_genotypes[i][0:2] != b2_genotypes[i][2:]:\n",
    "                    diff_miss_het += 1\n",
    "                elif b2_genotypes[i][0:2] == b2_genotypes[i][2:]:\n",
    "                    diff_miss_hom += 1\n",
    "                else: \n",
    "                    print \"your code is effed up! b1 missing\"\n",
    "            # if b2 is missing genotype\n",
    "            elif b2_genotypes[i] == \"0000\":\n",
    "                if b1_genotypes[i][0:2] != b1_genotypes[i][2:]:\n",
    "                    diff_het_miss += 1\n",
    "                elif b1_genotypes[i][0:2] == b1_genotypes[i][2:]:\n",
    "                    diff_hom_miss += 1\n",
    "                else: \n",
    "                    print \"your code is effed up! b2 missing\"\n",
    "            # het --> het / hom\n",
    "            elif b1_genotypes[i][0:2] != b1_genotypes[i][2:]:\n",
    "                if b2_genotypes[i][0:2] == b2_genotypes[i][2:]:\n",
    "                    diff_het_hom += 1\n",
    "                elif b2_genotypes[i][0:2] != b2_genotypes[i][2:]:\n",
    "                    diff_het_het += 1\n",
    "            # hom --> het / hom\n",
    "            elif b1_genotypes[i][0:2] == b1_genotypes[i][2:]:\n",
    "                if b2_genotypes[i][0:2] != b2_genotypes[i][2:]:\n",
    "                    diff_hom_het += 1\n",
    "                elif b2_genotypes[i][0:2] == b2_genotypes[i][2:]:\n",
    "                    diff_hom_hom += 1\n",
    "            \n",
    "    outfile.write(str(matched_wmissing) + \"\\t\" + str(matched) + \"\\t\" + str(different) + \"\\t\")\n",
    "    outfile.write(str(diff_het_hom) + \"\\t\" + str(diff_hom_het) + \"\\t\" + str(diff_het_het) + \"\\t\" + str(diff_hom_hom) + \"\\t\")\n",
    "    outfile.write(str(diff_miss_het) + \"\\t\" + str(diff_miss_hom) + \"\\t\" + str(diff_het_miss) + \"\\t\" + str(diff_hom_miss) + \"\\n\")\n",
    "\n",
    "outfile.close()"
   ]
  },
  {
   "cell_type": "code",
   "execution_count": null,
   "metadata": {
    "collapsed": true
   },
   "outputs": [],
   "source": []
  }
 ],
 "metadata": {
  "anaconda-cloud": {},
  "kernelspec": {
   "display_name": "Python 2",
   "language": "python",
   "name": "python2"
  },
  "language_info": {
   "codemirror_mode": {
    "name": "ipython",
    "version": 2
   },
   "file_extension": ".py",
   "mimetype": "text/x-python",
   "name": "python",
   "nbconvert_exporter": "python",
   "pygments_lexer": "ipython2",
   "version": "2.7.13"
  }
 },
 "nbformat": 4,
 "nbformat_minor": 1
}
