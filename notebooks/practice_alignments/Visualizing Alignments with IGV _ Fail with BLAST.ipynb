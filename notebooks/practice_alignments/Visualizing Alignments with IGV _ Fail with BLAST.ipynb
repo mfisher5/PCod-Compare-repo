{
 "cells": [
  {
   "cell_type": "markdown",
   "metadata": {},
   "source": [
    "## Visualizing alignments with IGV\n",
    "\n",
    "\n",
    "### IGV \n",
    "or Integrated Genomics Viewer, is a \"high-performance visualization tool for interactive exploration of large, integrated genomic datasets. It supports a wide variety of data types, including array-based and next-generation sequence data, and genomic annotations.\" It can be downloaded [here](http://software.broadinstitute.org/software/igv/download). I am using version `2.3.97`. \n",
    "\n",
    "\n",
    "\n",
    "### Objective: \n",
    "Visualize alignment of Alaskan and Pacific cod data to the Atlantic cod genome. I have created two fasta files that contain the consensus sequences for all loci retained after all filtering steps (MAF, missing data, HWE). Each population has its own file; there are `2945` sequences in the Alaskan fasta file (batch 2), and `6637` in the Korean fasta file (batch 6). I want to see how these files align to the Atlantic cod genome relative to each other.\n",
    "\n",
    "\n",
    "\n",
    "\n",
    "### Prep: \n",
    "\n",
    "**(1) Download and unzip IGV** - for now, I have the IGV executable in `Downloads` because I'm short on space on my drive. \n",
    "\n",
    "**(2) Load in Atlantic cod genome** - I had previously downloaded the Atlantic cod genome from Ensembl (see [this]() notebook). I used `Genomes >> Load Genome from File` on the top tool bar in the IGV gui to load in the Atlantic cod genome's fasta file. \n",
    "\n",
    "![IGV_img]()\n",
    "\n",
    "*Note that in order to actually see the sequences, you have to select a chromosome or scaffold from the top dropdown menu, and then zoom way in from kilo-basepairs to ~150-200 basepairs. *\n",
    "\n",
    "![IGV_zoomed_img]()\n",
    "\n",
    "<br>\n",
    "\n",
    "<br>\n",
    "\n",
    "### Step 1: BLAST Alaskan and Korean cod to Atlantic cod genome\n",
    "\n",
    "While I have done this already in a [prior notebook](), I need a `.gff` file to load into IGV. \n",
    "\n",
    "\n",
    "#### ATTEMPT #1\n",
    "I'm going to use a [shell script]() from [Alvar Almstedt's github page](https://github.com/alvaralmstedt/Tutorials/wiki/How-to-convert-your-BLAST-results-into-a-gff-file.) which runs blast and then automatically convert the output to a gff format. \n",
    "\n"
   ]
  },
  {
   "cell_type": "code",
   "execution_count": 1,
   "metadata": {
    "collapsed": false
   },
   "outputs": [
    {
     "name": "stdout",
     "output_type": "stream",
     "text": [
      "/mnt/hgfs/Pacific cod/DataAnalysis/PCod-Compare-repo/scripts\n"
     ]
    }
   ],
   "source": [
    "cd ../scripts"
   ]
  },
  {
   "cell_type": "code",
   "execution_count": 4,
   "metadata": {
    "collapsed": false
   },
   "outputs": [
    {
     "name": "stdout",
     "output_type": "stream",
     "text": [
      "#!/bin/bash\r",
      "\r\n",
      "\r",
      "\r\n",
      "HELP=\"\"\"\r",
      "\r\n",
      "Wrapper for the blast_to_gff.py script. Use this to ensure that your gff file makes sense.\r",
      "\r\n",
      "By: Alvar Almstedt (alvar.almstedt@gmail.com)\r",
      "\r\n",
      "\r",
      "\r\n",
      "Usage: blast_to_gff_wrapper.sh -q <query file> -d <database file> -p <blast program>\r",
      "\r\n",
      "\r",
      "\r\n",
      "Options:\r",
      "\r\n",
      "\t-h\t:\tHelp. What you are reading now.\r",
      "\r\n",
      "\t-q\t:\tQuery. Put the path to your query fasta here.\r",
      "\r\n",
      "\t-d\t:\tDatabase. Put the path to your blast database here.\r",
      "\r\n",
      "\t-o\t:\tOutput. Put the name or path and name to your output location here.\r",
      "\r\n",
      "\t-p\t:\tProgram. Currently only confirmed to work with tblastn \r",
      "\r\n",
      "\t\t\tbut others should work too.\r",
      "\r\n",
      "\t-t\t:\tThreads. Number of threads/processors you want the blast analysis to \r",
      "\r\n",
      "\t\t\trun on. (Default: 1)\r",
      "\r\n",
      "\t-l\t:\tLong. Puts additional information like stop, start\r",
      "\r\n",
      "\t\t\tand name of query, frame, bitscore; in the notes field\r",
      "\r\n",
      "\t\t\tof the gff file. \r",
      "\r\n",
      "\t\t\tThis will increase the result file size significantly.\r",
      "\r\n",
      "    -k  :   Keep. This will keep the intermediate blast output. Otherwise\r",
      "\r\n",
      "            it will be deleted, only saving the gff.\r",
      "\r\n",
      "\r",
      "\r\n",
      "\"\"\"\r",
      "\r\n"
     ]
    }
   ],
   "source": [
    "!head -n 25 blast_to_gff_wrapper.sh"
   ]
  },
  {
   "cell_type": "code",
   "execution_count": 5,
   "metadata": {
    "collapsed": false,
    "scrolled": false
   },
   "outputs": [
    {
     "name": "stdout",
     "output_type": "stream",
     "text": [
      "#!/usr/bin/python\r",
      "\r\n",
      "\r",
      "\r\n",
      "from sys import argv\r",
      "\r\n",
      "import csv\r",
      "\r\n",
      "\r",
      "\r\n",
      "\"\"\"\r",
      "\r\n",
      "Converts minimal (3 field or more) tab separated BED/blast result files into minimal (9 field)\r",
      "\r\n",
      "tab separated GFF files.\r",
      "\r\n",
      "Usage: blast_to_gff.py <BED-infile> <GFF-outfile>\r",
      "\r\n",
      "By: Alvar Almstedt\r",
      "\r\n",
      "\"\"\"\r",
      "\r\n",
      "\r",
      "\r\n",
      "class Table(object):\r",
      "\r\n",
      "\r",
      "\r\n",
      "    def __init__(self, input_file_name, output_file_name):\r",
      "\r\n",
      "        self.input_file_name = input_file_name\r",
      "\r\n",
      "        self.output_file_name = output_file_name\r",
      "\r\n",
      "\r",
      "\r\n",
      "# This method reads the input blast result. For best results, input the blast flags in the same order as in the\r",
      "\r\n",
      "# \"fieldnames\" list beneath.\r",
      "\r\n"
     ]
    }
   ],
   "source": [
    "!head -n 20 blast_to_gff.py"
   ]
  },
  {
   "cell_type": "code",
   "execution_count": null,
   "metadata": {
    "collapsed": true
   },
   "outputs": [],
   "source": [
    "./blast_to_gff_wrapper_AAlmstedt.sh -q ../fasta_inputs/KOR_batch6_FinalFiltered.fa \\\n",
    "-d ../ACod_reference \\\n",
    "-p tblastn \\\n",
    "-o ../blast_outputs/KORb6_BLASTto_Acod_forIGV.tblastn \\\n",
    "-l -k"
   ]
  },
  {
   "cell_type": "markdown",
   "metadata": {},
   "source": [
    "`Warning: [tblastn] lcl|Query_563 2245: Warning: Could not calculate ungapped Karlin-Altschul parameters due to an invalid query sequence or its translation. Please verify the query sequence(s) and/or filtering options \n",
    "Warning: [tblastn] lcl|Query_564 2248: Warning: Could not calculate ungapped Karlin-Altschul parameters due to an invalid query sequence or its translation. Please verify the query sequence(s) and/or filtering options \n",
    "^C`\n"
   ]
  },
  {
   "cell_type": "markdown",
   "metadata": {},
   "source": [
    "#### ATTEMPT #2\n",
    "\n",
    "\n",
    "I'm going to use the function `mgkit.io.blast.parse_uniprot_blast()`. In order to do so, I had to first install MGKit on my VM -- see directions [here](http://pythonhosted.org/mgkit/install.html#install-ubuntu)"
   ]
  },
  {
   "cell_type": "code",
   "execution_count": null,
   "metadata": {
    "collapsed": true
   },
   "outputs": [],
   "source": [
    "# install mgkit\n",
    "sudo apt-get install velvet bowtie2 python-pip python \\\n",
    "  virtualenv python-dev zlib1g-dev libblas-dev \\\n",
    "  liblapack-dev gfortran libfreetype6-dev libpng-dev \\\n",
    "  fontconfig pkg-config"
   ]
  },
  {
   "cell_type": "code",
   "execution_count": null,
   "metadata": {
    "collapsed": true
   },
   "outputs": [],
   "source": [
    "pip install mgkit"
   ]
  },
  {
   "cell_type": "markdown",
   "metadata": {},
   "source": [
    "I need to use the `-outfmt 6` in BLAST for their script to work, so I'm going to re-run blast. "
   ]
  },
  {
   "cell_type": "code",
   "execution_count": 11,
   "metadata": {
    "collapsed": false
   },
   "outputs": [
    {
     "data": {
      "text/plain": [
       "u'/mnt/hgfs/Pacific cod/DataAnalysis/PCod-Compare-repo/scripts'"
      ]
     },
     "execution_count": 11,
     "metadata": {},
     "output_type": "execute_result"
    }
   ],
   "source": [
    "pwd"
   ]
  },
  {
   "cell_type": "code",
   "execution_count": 12,
   "metadata": {
    "collapsed": false
   },
   "outputs": [
    {
     "name": "stdout",
     "output_type": "stream",
     "text": [
      "/mnt/hgfs/Pacific cod/DataAnalysis/PCod-Compare-repo\n"
     ]
    }
   ],
   "source": [
    "cd ../"
   ]
  },
  {
   "cell_type": "code",
   "execution_count": 13,
   "metadata": {
    "collapsed": true
   },
   "outputs": [],
   "source": [
    "!blastn -query fasta_inputs/KOR_batch6_FinalFiltered.fa \\\n",
    "-db ACod_reference/Gadus_morhua \\\n",
    "-out blast_outputs/KORb6_BLASTto_Acod_outfmt6.fa \\\n",
    "-outfmt 6"
   ]
  },
  {
   "cell_type": "code",
   "execution_count": 20,
   "metadata": {
    "collapsed": false
   },
   "outputs": [],
   "source": [
    "import mgkit as mg"
   ]
  },
  {
   "cell_type": "code",
   "execution_count": 29,
   "metadata": {
    "collapsed": false
   },
   "outputs": [
    {
     "name": "stdout",
     "output_type": "stream",
     "text": [
      "/mnt/hgfs/Pacific cod/DataAnalysis/PCod-Compare-repo/scripts\n"
     ]
    }
   ],
   "source": [
    "cd scripts"
   ]
  },
  {
   "cell_type": "code",
   "execution_count": 30,
   "metadata": {
    "collapsed": false
   },
   "outputs": [
    {
     "name": "stdout",
     "output_type": "stream",
     "text": [
      "\"\"\"\r",
      "\r\n",
      "Blast output conversion in GFF requires a BLAST+ tabular format which can be\r",
      "\r\n",
      "obtained by using the `--outfmt 6` option with the default columns, as\r",
      "\r\n",
      "specified in :func:`mgkit.io.blast.parse_blast_tab`. The script can get data\r",
      "\r\n",
      "from the standard in and ouputs GFF lines on the standard output by default.\r",
      "\r\n",
      "\r",
      "\r\n",
      "Uniprot\r",
      "\r\n",
      "*******\r",
      "\r\n",
      "\r",
      "\r\n",
      "The Function :func:`mgkit.io.blast.parse_uniprot_blast` is used, which filters\r",
      "\r\n"
     ]
    }
   ],
   "source": [
    "!head blast2gff.py"
   ]
  },
  {
   "cell_type": "code",
   "execution_count": 31,
   "metadata": {
    "collapsed": false
   },
   "outputs": [
    {
     "name": "stdout",
     "output_type": "stream",
     "text": [
      "/bin/sh: 1: --quiet]: not found\r\n",
      "Traceback (most recent call last):\r\n",
      "  File \"blast2gff.py\", line 55, in <module>\r\n",
      "    from .. import logger\r\n",
      "ValueError: Attempted relative import in non-package\r\n"
     ]
    }
   ],
   "source": [
    "!python blast2gff.py blastdb [-v | --quiet] [--cite] [--manual] [--version] [KORb6_BLASTto_Acod_outfmt6.fa] [KORb6_BLASTto_Acod.gff]"
   ]
  },
  {
   "cell_type": "code",
   "execution_count": null,
   "metadata": {
    "collapsed": true
   },
   "outputs": [],
   "source": []
  }
 ],
 "metadata": {
  "kernelspec": {
   "display_name": "Python [default]",
   "language": "python",
   "name": "python2"
  },
  "language_info": {
   "codemirror_mode": {
    "name": "ipython",
    "version": 2
   },
   "file_extension": ".py",
   "mimetype": "text/x-python",
   "name": "python",
   "nbconvert_exporter": "python",
   "pygments_lexer": "ipython2",
   "version": "2.7.12"
  }
 },
 "nbformat": 4,
 "nbformat_minor": 1
}
