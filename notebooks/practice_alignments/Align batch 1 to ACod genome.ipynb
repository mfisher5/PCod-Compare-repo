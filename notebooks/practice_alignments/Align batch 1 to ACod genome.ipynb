{
 "cells": [
  {
   "cell_type": "markdown",
   "metadata": {},
   "source": [
    "## Stacks batch 1 - align to Atlantic cod genome\n",
    "\n",
    "I'm going to create fasta files of the loci that were retained to the end of filtering, and then align these sequences to the Atlantic cod genome using NCBI's BLAST. "
   ]
  },
  {
   "cell_type": "code",
   "execution_count": 1,
   "metadata": {},
   "outputs": [
    {
     "data": {
      "text/plain": [
       "u'/mnt/hgfs/Pacific cod/DataAnalysis/PCod-Compare-repo/notebooks'"
      ]
     },
     "execution_count": 1,
     "metadata": {},
     "output_type": "execute_result"
    }
   ],
   "source": [
    "pwd"
   ]
  },
  {
   "cell_type": "code",
   "execution_count": 2,
   "metadata": {
    "scrolled": true
   },
   "outputs": [
    {
     "name": "stdout",
     "output_type": "stream",
     "text": [
      "/mnt/hgfs/Pacific cod/DataAnalysis/PCod-Compare-repo\n"
     ]
    }
   ],
   "source": [
    "cd ../"
   ]
  },
  {
   "cell_type": "markdown",
   "metadata": {},
   "source": [
    "### \"Final Filtered\" : Loci missing data 20%, Individuals missing data 20%, no HWE\n",
    "\n",
    "#### Make fasta file"
   ]
  },
  {
   "cell_type": "code",
   "execution_count": 3,
   "metadata": {},
   "outputs": [
    {
     "name": "stdout",
     "output_type": "stream",
     "text": [
      "/mnt/hgfs/Pacific cod/DataAnalysis/PCod-Compare-repo/scripts\n"
     ]
    }
   ],
   "source": [
    "cd scripts"
   ]
  },
  {
   "cell_type": "code",
   "execution_count": 4,
   "metadata": {},
   "outputs": [
    {
     "name": "stdout",
     "output_type": "stream",
     "text": [
      "usage: genBOWTIEfasta_from_matrix.py [-h] [-mat MATRIX] [-cat CATALOG]\r\n",
      "                                     [-fasta FASTA_OUTPUT] [-p PATH]\r\n",
      "\r\n",
      "create fasta file out of a 2x2 matrix with loci as column headers, individuals\r\n",
      "as rows\r\n",
      "\r\n",
      "optional arguments:\r\n",
      "  -h, --help            show this help message and exit\r\n",
      "  -mat MATRIX, --matrix MATRIX\r\n",
      "                        filtered matrix file. columns must be loci\r\n",
      "  -cat CATALOG, --catalog CATALOG\r\n",
      "                        stacks batch.catalog.tags.tsv file\r\n",
      "  -fasta FASTA_OUTPUT, --fasta_output FASTA_OUTPUT\r\n",
      "                        output file, in fasta format\r\n",
      "  -p PATH, --path PATH  path to stacks files, including matrix and catalog\r\n",
      "                        input files\r\n"
     ]
    }
   ],
   "source": [
    "!python genBOWTIEfasta_from_matrix.py -h"
   ]
  },
  {
   "cell_type": "code",
   "execution_count": 6,
   "metadata": {},
   "outputs": [
    {
     "name": "stdout",
     "output_type": "stream",
     "text": [
      "Reading loci from file:\n",
      "batch_1.filteredLoci_filteredMAF_Loci2_filteredIndivids\n",
      "Reading sequences from file:\n",
      "batch_1.catalog.tags.tsv\n",
      "Writing new fasta file...\n",
      "Done.\n"
     ]
    }
   ],
   "source": [
    "!python genBOWTIEfasta_from_matrix.py \\\n",
    "-mat batch_1.filteredLoci_filteredMAF_Loci2_filteredIndivids \\\n",
    "-cat batch_1.catalog.tags.tsv \\\n",
    "-fasta batch_1_FinalFiltered_fasta.fa \\\n",
    "-p ../stacks_b1_wgenome"
   ]
  },
  {
   "cell_type": "code",
   "execution_count": 7,
   "metadata": {},
   "outputs": [
    {
     "name": "stdout",
     "output_type": "stream",
     "text": [
      "/mnt/hgfs/Pacific cod/DataAnalysis/PCod-Compare-repo\n"
     ]
    }
   ],
   "source": [
    "cd ../"
   ]
  },
  {
   "cell_type": "code",
   "execution_count": 8,
   "metadata": {
    "collapsed": true
   },
   "outputs": [],
   "source": [
    "!mv stacks_b1_wgenome/batch_1_FinalFiltered_fasta.fa fasta_inputs/batch_1_FinalFiltered_fasta.fa"
   ]
  },
  {
   "cell_type": "markdown",
   "metadata": {},
   "source": [
    "#### Align fasta file"
   ]
  },
  {
   "cell_type": "code",
   "execution_count": 9,
   "metadata": {
    "collapsed": true
   },
   "outputs": [],
   "source": [
    "!blastn -query fasta_inputs/batch_1_FinalFiltered_fasta.fa \\\n",
    "-db ACod_reference/Gadus_morhua \\\n",
    "-out blast_outputs/batch_1_FinalFiltered_fasta.fa \\\n",
    "-outfmt 10"
   ]
  },
  {
   "cell_type": "markdown",
   "metadata": {},
   "source": [
    "#### RESULTS\n",
    "\n",
    "<br>\n",
    "**(1)** How many unique alignments?"
   ]
  },
  {
   "cell_type": "code",
   "execution_count": 10,
   "metadata": {},
   "outputs": [
    {
     "name": "stdout",
     "output_type": "stream",
     "text": [
      "/mnt/hgfs/Pacific cod/DataAnalysis/PCod-Compare-repo/blast_outputs\n"
     ]
    }
   ],
   "source": [
    "cd blast_outputs"
   ]
  },
  {
   "cell_type": "code",
   "execution_count": 11,
   "metadata": {},
   "outputs": [
    {
     "name": "stdout",
     "output_type": "stream",
     "text": [
      "1391\r\n"
     ]
    }
   ],
   "source": [
    "!cat batch_1_FinalFiltered_fasta.fa | sed 's/,/ /' | awk '{print $1}' | sort | uniq | wc -l"
   ]
  },
  {
   "cell_type": "code",
   "execution_count": 13,
   "metadata": {},
   "outputs": [
    {
     "data": {
      "text/plain": [
       "0.9830388692579505"
      ]
     },
     "execution_count": 13,
     "metadata": {},
     "output_type": "execute_result"
    }
   ],
   "source": [
    "float(1391)/float(1415)"
   ]
  },
  {
   "cell_type": "markdown",
   "metadata": {},
   "source": [
    "**(2)** How many loci aligned more than once?"
   ]
  },
  {
   "cell_type": "code",
   "execution_count": 15,
   "metadata": {},
   "outputs": [],
   "source": [
    "# use dictionary to keep track of how many times each unique Alaskan sequence aligned to the genome\n",
    "myfile = open(\"batch_1_FinalFiltered_fasta.fa\", \"r\")\n",
    "\n",
    "combo_align = {}\n",
    "\n",
    "for line in myfile:\n",
    "    seq = line.strip().split(\",\")[0]\n",
    "    scaffold = line.strip().split(\",\")[1]\n",
    "    if seq not in combo_align.keys(): \n",
    "        combo_align[seq] = 1\n",
    "    elif seq in combo_align.keys():\n",
    "        count = combo_align[seq]\n",
    "        count += 1\n",
    "        combo_align[seq] = count\n",
    "    \n",
    "myfile.close()\n",
    "\n",
    "all_counts = []\n",
    "for seq in combo_align.keys():\n",
    "    all_counts.append(combo_align[seq])"
   ]
  },
  {
   "cell_type": "code",
   "execution_count": 16,
   "metadata": {
    "collapsed": true
   },
   "outputs": [],
   "source": [
    "import numpy as np\n",
    "import matplotlib.pyplot as plt"
   ]
  },
  {
   "cell_type": "code",
   "execution_count": 17,
   "metadata": {},
   "outputs": [
    {
     "data": {
      "image/png": "[encoded data removed]",
      "text/plain": [
       "<matplotlib.figure.Figure at 0x7f6889dc8710>"
      ]
     },
     "metadata": {},
     "output_type": "display_data"
    }
   ],
   "source": [
    "plt.hist(all_counts, color = \"darkcyan\")\n",
    "plt.suptitle(\"Frequency of alignments per locus\")\n",
    "plt.xlabel(\"# Alignments\")\n",
    "plt.ylabel(\"Frequency\")\n",
    "plt.show()"
   ]
  },
  {
   "cell_type": "code",
   "execution_count": 18,
   "metadata": {
    "collapsed": true
   },
   "outputs": [],
   "source": [
    "plt.close()"
   ]
  },
  {
   "cell_type": "markdown",
   "metadata": {},
   "source": [
    "**(3)** How many loci aligned only once?"
   ]
  },
  {
   "cell_type": "code",
   "execution_count": 19,
   "metadata": {},
   "outputs": [
    {
     "data": {
      "text/plain": [
       "1072"
      ]
     },
     "execution_count": 19,
     "metadata": {},
     "output_type": "execute_result"
    }
   ],
   "source": [
    "len([i for i in all_counts if i ==1])"
   ]
  },
  {
   "cell_type": "code",
   "execution_count": 20,
   "metadata": {},
   "outputs": [
    {
     "data": {
      "text/plain": [
       "0.7575971731448763"
      ]
     },
     "execution_count": 20,
     "metadata": {},
     "output_type": "execute_result"
    }
   ],
   "source": [
    "float(1072)/float(1415)"
   ]
  },
  {
   "cell_type": "markdown",
   "metadata": {},
   "source": [
    "#### SUMMARY:\n",
    "\n",
    "1. Out of 1415 loci, 1391 aligned to the Atlantic cod genome (98.3%)\n",
    "2. Some of those loci aligned hundreds of times - to many different locations in the Atlantic cod genome\n",
    "3. Out of 1415 loci, 1072 aligned to only one location in the Atlantic cod genome (75.8%)"
   ]
  },
  {
   "cell_type": "code",
   "execution_count": null,
   "metadata": {
    "collapsed": true
   },
   "outputs": [],
   "source": []
  }
 ],
 "metadata": {
  "anaconda-cloud": {},
  "kernelspec": {
   "display_name": "Python 2",
   "language": "python",
   "name": "python2"
  },
  "language_info": {
   "codemirror_mode": {
    "name": "ipython",
    "version": 2
   },
   "file_extension": ".py",
   "mimetype": "text/x-python",
   "name": "python",
   "nbconvert_exporter": "python",
   "pygments_lexer": "ipython2",
   "version": "2.7.13"
  }
 },
 "nbformat": 4,
 "nbformat_minor": 1
}
