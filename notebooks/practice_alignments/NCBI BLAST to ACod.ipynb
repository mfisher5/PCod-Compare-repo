{
 "cells": [
  {
   "cell_type": "markdown",
   "metadata": {},
   "source": [
    "## Basic NCBI BLAST to Atlantic cod genome\n",
    "\n",
    "\n",
    "#### 7/20/2017\n",
    "\n",
    "\n",
    "\n",
    "I created a BLAST database from the Atlantic cod genome, and just did a straightforward BLAST search using the Korean and the Alaskan cod reference databases. \n",
    "\n",
    "The Korean fasta file was taken from batch 6, and the Alaskan fasta file was taken from batch 2. \n",
    "\n",
    "\n",
    "### (1) Download Atlantic Cod genome\n",
    "The Atlantic cod genome was downloaded from Ensembl, [here](ftp://ftp.ensembl.org/pub/release-89/fasta/gadus_morhua/dna). I chose the `.dna.toplevel.fa.gz`.\n"
   ]
  },
  {
   "cell_type": "code",
   "execution_count": 1,
   "metadata": {
    "collapsed": false
   },
   "outputs": [
    {
     "data": {
      "text/plain": [
       "u'/mnt/hgfs/Pacific cod/DataAnalysis/PCod-Compare-repo/notebooks'"
      ]
     },
     "execution_count": 1,
     "metadata": {},
     "output_type": "execute_result"
    }
   ],
   "source": [
    "pwd"
   ]
  },
  {
   "cell_type": "code",
   "execution_count": 2,
   "metadata": {
    "collapsed": false
   },
   "outputs": [
    {
     "name": "stdout",
     "output_type": "stream",
     "text": [
      "/mnt/hgfs/Pacific cod/DataAnalysis/PCod-Compare-repo\n"
     ]
    }
   ],
   "source": [
    "cd ../"
   ]
  },
  {
   "cell_type": "code",
   "execution_count": 3,
   "metadata": {
    "collapsed": false
   },
   "outputs": [
    {
     "name": "stdout",
     "output_type": "stream",
     "text": [
      "\u001b[0m\u001b[01;32mGadus_morhua.gadMor1.dna.toplevel.fa\u001b[0m*  \u001b[34;42mnotebooks\u001b[0m/\r\n"
     ]
    }
   ],
   "source": [
    "ls"
   ]
  },
  {
   "cell_type": "markdown",
   "metadata": {},
   "source": [
    "\n",
    "### (2) Generate fasta file from final filtered genepop, Alaskan populations\n",
    "The Alaskan fasta file was already created in [this notebook](https://github.com/mfisher5/PCod-US-repo/blob/master/notebooks/AK%20v%20KOR%20Comparisons.ipynb). \n",
    "\n"
   ]
  },
  {
   "cell_type": "code",
   "execution_count": 4,
   "metadata": {
    "collapsed": false
   },
   "outputs": [
    {
     "name": "stdout",
     "output_type": "stream",
     "text": [
      "/mnt/hgfs/Pacific cod/DataAnalysis/PCod-US-repo/stacks_b2_wgenome\n"
     ]
    }
   ],
   "source": [
    "cd ../PCod-US-repo/stacks_b2_wgenome/"
   ]
  },
  {
   "cell_type": "code",
   "execution_count": 6,
   "metadata": {
    "collapsed": false
   },
   "outputs": [],
   "source": [
    "!cp AKb2_for_KORblast.fa ../../PCod-Compare-repo/AK_batch2_FinalFiltered.fa"
   ]
  },
  {
   "cell_type": "code",
   "execution_count": 7,
   "metadata": {
    "collapsed": false
   },
   "outputs": [
    {
     "name": "stdout",
     "output_type": "stream",
     "text": [
      "/mnt/hgfs/Pacific cod/DataAnalysis/PCod-Compare-repo\n"
     ]
    }
   ],
   "source": [
    "cd ../../PCod-Compare-repo/"
   ]
  },
  {
   "cell_type": "code",
   "execution_count": 8,
   "metadata": {
    "collapsed": false
   },
   "outputs": [
    {
     "name": "stdout",
     "output_type": "stream",
     "text": [
      "\u001b[0m\u001b[01;32mAK_batch2_FinalFiltered.fa\u001b[0m*  \u001b[01;32mGadus_morhua.gadMor1.dna.toplevel.fa\u001b[0m*  \u001b[34;42mnotebooks\u001b[0m/\r\n"
     ]
    }
   ],
   "source": [
    "ls"
   ]
  },
  {
   "cell_type": "markdown",
   "metadata": {},
   "source": [
    "<br>\n",
    "<br>\n",
    "\n",
    "### (3) Generate fasta file from final filtered genepop, Korean populations"
   ]
  },
  {
   "cell_type": "code",
   "execution_count": 15,
   "metadata": {
    "collapsed": false
   },
   "outputs": [
    {
     "name": "stdout",
     "output_type": "stream",
     "text": [
      "### This python script will create a list of loci from the `populations` output genepop file ###\r\n",
      "\r\n",
      "## ARGUMENTS: \r\n",
      "#ARG 1 - genepop file from `populations`. \r\n",
      "#ARG 2 - the .catalog file output from `cstacks` (unzipped)\r\n",
      "#ARG 3 - the name for the new fasta file\r\n",
      "\r\n",
      "\r\n",
      "import sys\r\n",
      "\r\n"
     ]
    }
   ],
   "source": [
    "!head ../PCod-US-repo/scripts/genBOWTIEfasta_from_actualGENEPOP.py"
   ]
  },
  {
   "cell_type": "code",
   "execution_count": 18,
   "metadata": {
    "collapsed": false
   },
   "outputs": [
    {
     "name": "stdout",
     "output_type": "stream",
     "text": [
      "-----\n",
      "Reading loci from file:\n",
      "../PCod-Korea-repo/stacks_b6_wgenome/batch_6.filteredMAF_filteredLoci_20filteredIndivids_filteredHWE.gen\n",
      "PCod Korea Lanes 1-4 final filtered genepop\n",
      "\n",
      "\n",
      "Using sequences from catalog file:\n",
      "../PCod-Korea-repo/stacks_b6_wgenome/batch_6.catalog.tags.tsv\n",
      "\n",
      "Writing new fasta file...\n",
      "Done.\n"
     ]
    }
   ],
   "source": [
    "!python ../PCod-US-repo/scripts/genBOWTIEfasta_from_actualGENEPOP.py \\\n",
    "../PCod-Korea-repo/stacks_b6_wgenome/batch_6.filteredMAF_filteredLoci_20filteredIndivids_filteredHWE.gen \\\n",
    "../PCod-Korea-repo/stacks_b6_wgenome/batch_6.catalog.tags.tsv \\\n",
    "KOR_batch6_FinalFiltered.fa"
   ]
  },
  {
   "cell_type": "markdown",
   "metadata": {},
   "source": [
    "\n",
    "\n",
    "<br>\n",
    "<br>\n",
    "### (4) Create BLAST database using Atlantic cod genome"
   ]
  },
  {
   "cell_type": "code",
   "execution_count": 19,
   "metadata": {
    "collapsed": false
   },
   "outputs": [
    {
     "name": "stdout",
     "output_type": "stream",
     "text": [
      "\n",
      "\n",
      "Building a new DB, current time: 07/20/2017 16:00:38\n",
      "New DB name:   /mnt/hgfs/Pacific cod/DataAnalysis/PCod-Compare-repo/Gadus_morhua\n",
      "New DB title:  Gadus_morhua.gadMor1.dna.toplevel.fa\n",
      "Sequence type: Nucleotide\n",
      "Keep Linkouts: T\n",
      "Keep MBits: T\n",
      "Maximum file size: 1000000000B\n",
      "Adding sequences from FASTA; added 398859 sequences in 21.3304 seconds.\n"
     ]
    }
   ],
   "source": [
    "!makeblastdb -in Gadus_morhua.gadMor1.dna.toplevel.fa \\\n",
    "-parse_seqids \\\n",
    "-dbtype nucl \\\n",
    "-out Gadus_morhua"
   ]
  },
  {
   "cell_type": "markdown",
   "metadata": {},
   "source": [
    "\n",
    "\n",
    "<br>\n",
    "### (5) BLAST the Korean and Alaskan files against the Atlantic cod database"
   ]
  },
  {
   "cell_type": "code",
   "execution_count": 20,
   "metadata": {
    "collapsed": false
   },
   "outputs": [
    {
     "name": "stdout",
     "output_type": "stream",
     "text": [
      "\u001b[0m\u001b[01;32mAK_batch2_FinalFiltered.fa\u001b[0m*            \u001b[01;32mGadus_morhua.nsd\u001b[0m*\r\n",
      "\u001b[01;32mGadus_morhua.gadMor1.dna.toplevel.fa\u001b[0m*  \u001b[01;32mGadus_morhua.nsi\u001b[0m*\r\n",
      "\u001b[01;32mGadus_morhua.nhr\u001b[0m*                      \u001b[01;32mGadus_morhua.nsq\u001b[0m*\r\n",
      "\u001b[01;32mGadus_morhua.nin\u001b[0m*                      \u001b[01;32mKOR_batch6_FinalFiltered.fa\u001b[0m*\r\n",
      "\u001b[01;32mGadus_morhua.nog\u001b[0m*                      \u001b[34;42mnotebooks\u001b[0m/\r\n"
     ]
    }
   ],
   "source": [
    "ls"
   ]
  },
  {
   "cell_type": "markdown",
   "metadata": {},
   "source": [
    "*First some organizing of directory structure...*"
   ]
  },
  {
   "cell_type": "code",
   "execution_count": 21,
   "metadata": {
    "collapsed": true
   },
   "outputs": [],
   "source": [
    "!mkdir ACod_reference"
   ]
  },
  {
   "cell_type": "code",
   "execution_count": 22,
   "metadata": {
    "collapsed": true
   },
   "outputs": [],
   "source": [
    "#move over all database files into above directory\n",
    "!mv Gadus_morhua.gadMor1.dna.toplevel.fa ACod_reference/Gadus_morhua.gadMor1.dna.toplevel.fa"
   ]
  },
  {
   "cell_type": "code",
   "execution_count": 24,
   "metadata": {
    "collapsed": false,
    "scrolled": true
   },
   "outputs": [
    {
     "name": "stdout",
     "output_type": "stream",
     "text": [
      "\u001b[0m\u001b[34;42mACod_reference\u001b[0m/              \u001b[01;32mKOR_batch6_FinalFiltered.fa\u001b[0m*\r\n",
      "\u001b[01;32mAK_batch2_FinalFiltered.fa\u001b[0m*  \u001b[34;42mnotebooks\u001b[0m/\r\n"
     ]
    }
   ],
   "source": [
    "ls"
   ]
  },
  {
   "cell_type": "code",
   "execution_count": 25,
   "metadata": {
    "collapsed": true
   },
   "outputs": [],
   "source": [
    "!mkdir fasta_inputs"
   ]
  },
  {
   "cell_type": "code",
   "execution_count": 27,
   "metadata": {
    "collapsed": true
   },
   "outputs": [],
   "source": [
    "!mv AK_batch2_FinalFiltered.fa fasta_inputs/AK_batch2_FinalFiltered.fa"
   ]
  },
  {
   "cell_type": "code",
   "execution_count": 28,
   "metadata": {
    "collapsed": true
   },
   "outputs": [],
   "source": [
    "!mv KOR_batch6_FinalFiltered.fa fasta_inputs/KOR_batch6_FinalFiltered.fa"
   ]
  },
  {
   "cell_type": "code",
   "execution_count": 26,
   "metadata": {
    "collapsed": true
   },
   "outputs": [],
   "source": [
    "!mkdir blast_outputs"
   ]
  },
  {
   "cell_type": "markdown",
   "metadata": {},
   "source": [
    "*BLAST code*"
   ]
  },
  {
   "cell_type": "code",
   "execution_count": 31,
   "metadata": {
    "collapsed": false
   },
   "outputs": [],
   "source": [
    "!blastn -query fasta_inputs/AK_batch2_FinalFiltered.fa \\\n",
    "-db ACod_reference/Gadus_morhua \\\n",
    "-out blast_outputs/AKb2_BLASTto_Acod.fa \\\n",
    "-outfmt 10 "
   ]
  },
  {
   "cell_type": "code",
   "execution_count": 32,
   "metadata": {
    "collapsed": true
   },
   "outputs": [],
   "source": [
    "!blastn -query fasta_inputs/KOR_batch6_FinalFiltered.fa \\\n",
    "-db ACod_reference/Gadus_morhua \\\n",
    "-out blast_outputs/KORb6_BLASTto_Acod.fa \\\n",
    "-outfmt 10"
   ]
  },
  {
   "cell_type": "markdown",
   "metadata": {},
   "source": [
    "\n",
    "<br>\n",
    "### RESULTS \n",
    "\n",
    "<br>\n",
    "\n",
    "I used the outformat option `10`, which means that it is comma-delimited. The entries on each line are as follows: \n",
    "\n",
    "query seqid -- reference seqid -- percent of identical matches -- alignment length -- # of mismatch -- # of gap openings -- start of alignment in query -- end of alignment in query -- start of alignment in subject -- end of alignment in subject -- evalue -- bitscore\n",
    "\n",
    "<br>\n",
    "<br>\n",
    "#### (1) Number of unique loci that matched to Atlantic cod genome. \n",
    "\n",
    "\n",
    "*Alaskan cod*"
   ]
  },
  {
   "cell_type": "code",
   "execution_count": 13,
   "metadata": {
    "collapsed": false
   },
   "outputs": [
    {
     "name": "stdout",
     "output_type": "stream",
     "text": [
      "/mnt/hgfs/Pacific cod/DataAnalysis/PCod-Compare-repo/blast_outputs\n"
     ]
    }
   ],
   "source": [
    "cd blast_outputs"
   ]
  },
  {
   "cell_type": "code",
   "execution_count": 14,
   "metadata": {
    "collapsed": false
   },
   "outputs": [
    {
     "name": "stdout",
     "output_type": "stream",
     "text": [
      "2817\n"
     ]
    }
   ],
   "source": [
    "# with the original csv file, find number of unique Alaskan PCod loci that aligned\n",
    "myfile = open(\"AKb2_BLASTto_Acod.fa\", \"r\")\n",
    "\n",
    "AK_unique_seqs = []\n",
    "\n",
    "for line in myfile:\n",
    "    if line.strip().split(\",\")[0] not in AK_unique_seqs: \n",
    "        AK_unique_seqs.append(line.strip().split(\",\")[0])\n",
    "myfile.close\n",
    "\n",
    "print len(AK_unique_seqs)"
   ]
  },
  {
   "cell_type": "code",
   "execution_count": 36,
   "metadata": {
    "collapsed": false
   },
   "outputs": [
    {
     "name": "stdout",
     "output_type": "stream",
     "text": [
      "2945\r\n"
     ]
    }
   ],
   "source": [
    "# find the total loci in the input fasta file\n",
    "!grep \">\" ../fasta_inputs/AK_batch2_FinalFiltered.fa | wc -l"
   ]
  },
  {
   "cell_type": "code",
   "execution_count": 39,
   "metadata": {
    "collapsed": false
   },
   "outputs": [
    {
     "name": "stdout",
     "output_type": "stream",
     "text": [
      "2817\r\n"
     ]
    }
   ],
   "source": [
    "# double check \n",
    "!cat AKb2_BLASTto_Acod.fa | sed 's/,/ /' | awk '{print $1}' | sort | uniq | wc -l"
   ]
  },
  {
   "cell_type": "code",
   "execution_count": 43,
   "metadata": {
    "collapsed": false,
    "scrolled": true
   },
   "outputs": [
    {
     "data": {
      "text/plain": [
       "0.9565365025466893"
      ]
     },
     "execution_count": 43,
     "metadata": {},
     "output_type": "execute_result"
    }
   ],
   "source": [
    "#find % of loci that matched to Atlantic cod\n",
    "float(2817)/float(2945)"
   ]
  },
  {
   "cell_type": "markdown",
   "metadata": {},
   "source": [
    "\n",
    "#### 7/21/2017"
   ]
  },
  {
   "cell_type": "code",
   "execution_count": 7,
   "metadata": {
    "collapsed": false
   },
   "outputs": [
    {
     "name": "stdout",
     "output_type": "stream",
     "text": [
      "/mnt/hgfs/Pacific cod/DataAnalysis/PCod-Compare-repo/blast_outputs\n"
     ]
    }
   ],
   "source": [
    "cd blast_outputs"
   ]
  },
  {
   "cell_type": "code",
   "execution_count": 9,
   "metadata": {
    "collapsed": false
   },
   "outputs": [
    {
     "name": "stdout",
     "output_type": "stream",
     "text": [
      "2817\n"
     ]
    }
   ],
   "source": [
    "# with the format specifiers\n",
    "myfile = open(\"AKb2_BLASTto_Acod_2.fa\", \"r\")\n",
    "\n",
    "AK_unique_seqs2 = []\n",
    "\n",
    "for line in myfile:\n",
    "    if line.strip().split(\",\")[0] not in AK_unique_seqs2: \n",
    "        AK_unique_seqs2.append(line.strip().split(\",\")[0])  #problem above: I wasn't splitting by \",\" when appending\n",
    "myfile.close\n",
    "\n",
    "print len(AK_unique_seqs2)"
   ]
  },
  {
   "cell_type": "markdown",
   "metadata": {},
   "source": [
    "*Korean cod*"
   ]
  },
  {
   "cell_type": "code",
   "execution_count": 41,
   "metadata": {
    "collapsed": false
   },
   "outputs": [
    {
     "name": "stdout",
     "output_type": "stream",
     "text": [
      "6457\r\n"
     ]
    }
   ],
   "source": [
    "!cat KORb6_BLASTto_Acod.fa | sed 's/,/ /' | awk '{print $1}' | sort | uniq | wc -l"
   ]
  },
  {
   "cell_type": "code",
   "execution_count": 42,
   "metadata": {
    "collapsed": false
   },
   "outputs": [
    {
     "name": "stdout",
     "output_type": "stream",
     "text": [
      "6637\r\n"
     ]
    }
   ],
   "source": [
    "!grep \">\" ../fasta_inputs/KOR_batch6_FinalFiltered.fa | wc -l"
   ]
  },
  {
   "cell_type": "code",
   "execution_count": 44,
   "metadata": {
    "collapsed": false,
    "scrolled": true
   },
   "outputs": [
    {
     "data": {
      "text/plain": [
       "0.9728793129425946"
      ]
     },
     "execution_count": 44,
     "metadata": {},
     "output_type": "execute_result"
    }
   ],
   "source": [
    "#find % of loci that matched to Atlantic cod\n",
    "float(6457)/float(6637)"
   ]
  },
  {
   "cell_type": "markdown",
   "metadata": {},
   "source": [
    "\n",
    "\n",
    "<br>\n",
    "<br>\n",
    "<br>\n",
    "#### (4) How many different places in the Atlantic cod genome did each Alaskan / Korean cod sequence align to? \n"
   ]
  },
  {
   "cell_type": "code",
   "execution_count": 39,
   "metadata": {
    "collapsed": false
   },
   "outputs": [
    {
     "data": {
      "text/plain": [
       "u'/mnt/hgfs/Pacific cod/DataAnalysis/PCod-Compare-repo/blast_outputs'"
      ]
     },
     "execution_count": 39,
     "metadata": {},
     "output_type": "execute_result"
    }
   ],
   "source": [
    "pwd"
   ]
  },
  {
   "cell_type": "code",
   "execution_count": 67,
   "metadata": {
    "collapsed": false
   },
   "outputs": [
    {
     "data": {
      "text/plain": [
       "<function close>"
      ]
     },
     "execution_count": 67,
     "metadata": {},
     "output_type": "execute_result"
    }
   ],
   "source": [
    "# use dictionary to keep track of how many times each unique Alaskan sequence aligned to the genome\n",
    "myfile = open(\"KORb6_BLASTto_Acod_outfmt6.fa\", \"r\")\n",
    "\n",
    "KOR_align = {}\n",
    "\n",
    "for line in myfile:\n",
    "    kor_seq = line.strip().split()[0]\n",
    "    scaffold = line.strip().split()[1]\n",
    "    if kor_seq not in KOR_align.keys(): \n",
    "        KOR_align[kor_seq] = 1\n",
    "    elif kor_seq in KOR_align.keys():\n",
    "        count = KOR_align[kor_seq]\n",
    "        count += 1\n",
    "        KOR_align[kor_seq] = count\n",
    "    \n",
    "myfile.close"
   ]
  },
  {
   "cell_type": "code",
   "execution_count": 56,
   "metadata": {
    "collapsed": false
   },
   "outputs": [
    {
     "data": {
      "text/plain": [
       "279"
      ]
     },
     "execution_count": 56,
     "metadata": {},
     "output_type": "execute_result"
    }
   ],
   "source": [
    "KOR_align['458']"
   ]
  },
  {
   "cell_type": "code",
   "execution_count": 57,
   "metadata": {
    "collapsed": false
   },
   "outputs": [],
   "source": [
    "all_counts = []\n",
    "for seq in KOR_align.keys():\n",
    "    all_counts.append(KOR_align[seq])"
   ]
  },
  {
   "cell_type": "code",
   "execution_count": 58,
   "metadata": {
    "collapsed": true
   },
   "outputs": [],
   "source": [
    "import numpy as np\n",
    "import matplotlib.pyplot as plt"
   ]
  },
  {
   "cell_type": "code",
   "execution_count": 61,
   "metadata": {
    "collapsed": false
   },
   "outputs": [
    {
     "data": {
      "image/png": "[encoded data removed]",
      "text/plain": [
       "<matplotlib.figure.Figure at 0x7f6d9eebf190>"
      ]
     },
     "metadata": {},
     "output_type": "display_data"
    }
   ],
   "source": [
    "plt.hist(all_counts, bins = np.arange(0, 200, 5)+0.05, color = \"darkcyan\")\n",
    "plt.suptitle(\"Frequency of alignments per Alaskan locus\")\n",
    "plt.xlabel(\"# Alignments\")\n",
    "plt.ylabel(\"Frequency\")\n",
    "plt.show()"
   ]
  },
  {
   "cell_type": "code",
   "execution_count": 62,
   "metadata": {
    "collapsed": true
   },
   "outputs": [],
   "source": [
    "plt.close()"
   ]
  },
  {
   "cell_type": "code",
   "execution_count": 66,
   "metadata": {
    "collapsed": false
   },
   "outputs": [
    {
     "data": {
      "image/png": "[encoded data removed]",
      "text/plain": [
       "<matplotlib.figure.Figure at 0x7f6d9ee4b850>"
      ]
     },
     "metadata": {},
     "output_type": "display_data"
    }
   ],
   "source": [
    "plt.hist(all_counts, bins = np.arange(5, 200, 5)+0.05, color = \"darkcyan\")\n",
    "plt.suptitle(\"Frequency of alignments per Korean locus (>5)\")\n",
    "plt.xlabel(\"# Alignments\")\n",
    "plt.ylabel(\"Frequency\")\n",
    "plt.show()"
   ]
  },
  {
   "cell_type": "code",
   "execution_count": 64,
   "metadata": {
    "collapsed": true
   },
   "outputs": [],
   "source": [
    "plt.close()"
   ]
  },
  {
   "cell_type": "markdown",
   "metadata": {},
   "source": [
    "\n",
    "<br>\n",
    "<br>\n",
    "** What percentage of loci only matched to one location in the Atlantic cod genome?**"
   ]
  },
  {
   "cell_type": "code",
   "execution_count": 2,
   "metadata": {
    "collapsed": false
   },
   "outputs": [
    {
     "data": {
      "text/plain": [
       "u'/mnt/hgfs/Pacific cod/DataAnalysis/PCod-Compare-repo/blast_outputs'"
      ]
     },
     "execution_count": 2,
     "metadata": {},
     "output_type": "execute_result"
    }
   ],
   "source": [
    "pwd"
   ]
  },
  {
   "cell_type": "code",
   "execution_count": 3,
   "metadata": {
    "collapsed": false
   },
   "outputs": [
    {
     "data": {
      "text/plain": [
       "<function close>"
      ]
     },
     "execution_count": 3,
     "metadata": {},
     "output_type": "execute_result"
    }
   ],
   "source": [
    "# use dictionary to keep track of how many times each unique Alaskan sequence aligned to the genome\n",
    "myfile = open(\"KORb6_BLASTto_Acod_outfmt6.fa\", \"r\")\n",
    "\n",
    "KOR_align = {}\n",
    "\n",
    "for line in myfile:\n",
    "    kor_seq = line.strip().split()[0]\n",
    "    scaffold = line.strip().split()[1]\n",
    "    if kor_seq not in KOR_align.keys(): \n",
    "        KOR_align[kor_seq] = 1\n",
    "    elif kor_seq in KOR_align.keys():\n",
    "        count = KOR_align[kor_seq]\n",
    "        count += 1\n",
    "        KOR_align[kor_seq] = count\n",
    "    \n",
    "myfile.close"
   ]
  },
  {
   "cell_type": "code",
   "execution_count": 4,
   "metadata": {
    "collapsed": true
   },
   "outputs": [],
   "source": [
    "# run thru each locus in the dictionary and pull out where count == 1\n",
    "\n",
    "loci_with_1alignment = []\n",
    "\n",
    "for locus in KOR_align.keys():\n",
    "    if KOR_align[locus] == 1:\n",
    "        loci_with_1alignment.append(locus)"
   ]
  },
  {
   "cell_type": "code",
   "execution_count": 5,
   "metadata": {
    "collapsed": false
   },
   "outputs": [
    {
     "name": "stdout",
     "output_type": "stream",
     "text": [
      "Number of Korean loci that aligned to only one location in the Atlantic cod genome:  5191\n"
     ]
    }
   ],
   "source": [
    "print \"Number of Korean loci that aligned to only one location in the Atlantic cod genome: \", len(loci_with_1alignment)"
   ]
  },
  {
   "cell_type": "code",
   "execution_count": 6,
   "metadata": {
    "collapsed": false
   },
   "outputs": [
    {
     "name": "stdout",
     "output_type": "stream",
     "text": [
      "0.782733162573\n"
     ]
    }
   ],
   "source": [
    "print float(5195)/float(6637)"
   ]
  },
  {
   "cell_type": "code",
   "execution_count": 10,
   "metadata": {
    "collapsed": false
   },
   "outputs": [],
   "source": [
    "# use dictionary to keep track of how many times each unique Alaskan sequence aligned to the genome\n",
    "myfile = open(\"AKb2_BLASTto_Acod.fa\", \"r\")\n",
    "\n",
    "AK_align = {}\n",
    "\n",
    "for line in myfile:\n",
    "    ak_seq = line.strip().split(\",\")[0]\n",
    "    scaffold = line.strip().split(\",\")[1]\n",
    "    if ak_seq not in AK_align.keys(): \n",
    "        AK_align[ak_seq] = 1\n",
    "    elif ak_seq in AK_align.keys():\n",
    "        count = AK_align[ak_seq]\n",
    "        count += 1\n",
    "        AK_align[ak_seq] = count\n",
    "    \n",
    "myfile.close()"
   ]
  },
  {
   "cell_type": "code",
   "execution_count": 11,
   "metadata": {
    "collapsed": true
   },
   "outputs": [],
   "source": [
    "# run thru each locus in the dictionary and pull out where count == 1\n",
    "\n",
    "AKloci_with_1alignment = []\n",
    "\n",
    "for locus in AK_align.keys():\n",
    "    if AK_align[locus] == 1:\n",
    "        AKloci_with_1alignment.append(locus)"
   ]
  },
  {
   "cell_type": "code",
   "execution_count": 12,
   "metadata": {
    "collapsed": false
   },
   "outputs": [
    {
     "name": "stdout",
     "output_type": "stream",
     "text": [
      "Number of Alaskan loci that aligned to only one location in the Atlantic cod genome:  2297\n"
     ]
    }
   ],
   "source": [
    "print \"Number of Alaskan loci that aligned to only one location in the Atlantic cod genome: \", len(AKloci_with_1alignment)"
   ]
  },
  {
   "cell_type": "code",
   "execution_count": 14,
   "metadata": {
    "collapsed": false
   },
   "outputs": [
    {
     "data": {
      "text/plain": [
       "0.7799660441426146"
      ]
     },
     "execution_count": 14,
     "metadata": {},
     "output_type": "execute_result"
    }
   ],
   "source": [
    "float(2297)/float(2945)"
   ]
  },
  {
   "cell_type": "markdown",
   "metadata": {},
   "source": [
    "\n",
    "<br>\n",
    "#### (5) Did Alaskan / Korean loci matched to the same Atlantic cod scaffolds? (i.e. is there overlap)"
   ]
  },
  {
   "cell_type": "code",
   "execution_count": 1,
   "metadata": {
    "collapsed": false
   },
   "outputs": [
    {
     "name": "stdout",
     "output_type": "stream",
     "text": [
      "/mnt/hgfs/Pacific cod/DataAnalysis/PCod-Compare-repo/blast_outputs\n"
     ]
    }
   ],
   "source": [
    "cd ../blast_outputs/"
   ]
  },
  {
   "cell_type": "code",
   "execution_count": 2,
   "metadata": {
    "collapsed": false
   },
   "outputs": [],
   "source": [
    "myfile = open(\"KORb6_BLASTto_Acod.fa\", \"r\")\n",
    "\n",
    "KOR_ref_aligns_dict = {}\n",
    "\n",
    "for line in myfile:\n",
    "    scaffold = line.strip().split(\",\")[1]\n",
    "    if scaffold not in KOR_ref_aligns_dict.keys(): \n",
    "        KOR_ref_aligns_dict[scaffold] = [line.strip().split(\",\")[8], line.strip().split(\",\")[9]]\n",
    "    elif scaffold in KOR_ref_aligns_dict.keys(): \n",
    "        pos_list = KOR_ref_aligns_dict[scaffold]\n",
    "        pos_list += [line.strip().split(\",\")[8], line.strip().split(\",\")[9]]\n",
    "        KOR_ref_aligns_dict[scaffold] = pos_list\n",
    "myfile.close()"
   ]
  },
  {
   "cell_type": "code",
   "execution_count": 3,
   "metadata": {
    "collapsed": false
   },
   "outputs": [
    {
     "data": {
      "text/plain": [
       "18527"
      ]
     },
     "execution_count": 3,
     "metadata": {},
     "output_type": "execute_result"
    }
   ],
   "source": [
    "len(KOR_ref_aligns_dict.keys())"
   ]
  },
  {
   "cell_type": "code",
   "execution_count": 4,
   "metadata": {
    "collapsed": false,
    "scrolled": true
   },
   "outputs": [
    {
     "data": {
      "text/plain": [
       "'contig499455'"
      ]
     },
     "execution_count": 4,
     "metadata": {},
     "output_type": "execute_result"
    }
   ],
   "source": [
    "KOR_ref_aligns_dict.keys()[0]"
   ]
  },
  {
   "cell_type": "code",
   "execution_count": 5,
   "metadata": {
    "collapsed": false
   },
   "outputs": [],
   "source": [
    "myfile = open(\"AKb2_BLASTto_Acod.fa\", \"r\")\n",
    "\n",
    "AK_ref_aligns_dict = {}\n",
    "\n",
    "for line in myfile:\n",
    "    scaffold = line.strip().split(\",\")[1]\n",
    "    if scaffold not in AK_ref_aligns_dict.keys(): \n",
    "        AK_ref_aligns_dict[scaffold] = [line.strip().split(\",\")[8], line.strip().split(\",\")[9]]\n",
    "    elif scaffold in AK_ref_aligns_dict.keys(): \n",
    "        pos_list = AK_ref_aligns_dict[scaffold]\n",
    "        pos_list += [line.strip().split(\",\")[8], line.strip().split(\",\")[9]]\n",
    "        AK_ref_aligns_dict[scaffold] = pos_list\n",
    "myfile.close()"
   ]
  },
  {
   "cell_type": "code",
   "execution_count": 6,
   "metadata": {
    "collapsed": false
   },
   "outputs": [
    {
     "data": {
      "text/plain": [
       "8950"
      ]
     },
     "execution_count": 6,
     "metadata": {},
     "output_type": "execute_result"
    }
   ],
   "source": [
    "len(AK_ref_aligns_dict.keys())"
   ]
  },
  {
   "cell_type": "code",
   "execution_count": 7,
   "metadata": {
    "collapsed": false
   },
   "outputs": [
    {
     "data": {
      "text/plain": [
       "'contig499455'"
      ]
     },
     "execution_count": 7,
     "metadata": {},
     "output_type": "execute_result"
    }
   ],
   "source": [
    "AK_ref_aligns_dict.keys()[0]"
   ]
  },
  {
   "cell_type": "code",
   "execution_count": 8,
   "metadata": {
    "collapsed": false
   },
   "outputs": [
    {
     "name": "stdout",
     "output_type": "stream",
     "text": [
      "6455  scaffolds were aligned to sequences in both Korean and Alaskan data\n"
     ]
    }
   ],
   "source": [
    "same_match = 0\n",
    "unique_matches = []\n",
    "\n",
    "for i in AK_ref_aligns_dict.keys(): \n",
    "    if i in KOR_ref_aligns_dict.keys():\n",
    "        if i not in unique_matches:\n",
    "            unique_matches.append(i)\n",
    "            same_match += 1\n",
    "print same_match, \" scaffolds were aligned to sequences in both Korean and Alaskan data\""
   ]
  },
  {
   "cell_type": "code",
   "execution_count": null,
   "metadata": {
    "collapsed": true
   },
   "outputs": [],
   "source": []
  }
 ],
 "metadata": {
  "anaconda-cloud": {},
  "kernelspec": {
   "display_name": "Python [default]",
   "language": "python",
   "name": "python2"
  },
  "language_info": {
   "codemirror_mode": {
    "name": "ipython",
    "version": 2
   },
   "file_extension": ".py",
   "mimetype": "text/x-python",
   "name": "python",
   "nbconvert_exporter": "python",
   "pygments_lexer": "ipython2",
   "version": "2.7.12"
  }
 },
 "nbformat": 4,
 "nbformat_minor": 1
}
