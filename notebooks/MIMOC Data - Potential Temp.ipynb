{
 "cells": [
  {
   "cell_type": "markdown",
   "metadata": {},
   "source": [
    "## MIMOC Data - Conservative Temperature Mapping\n",
    "\n",
    "I will be creating a map of sea surface temperatures around the Korean peninsula for the months of February, March, April and May; one of these will serve as a visual in the first chapter of my thesis, but I'd like to see the variation between months before deciding on which to use. \n",
    "\n",
    "The [MIMOC database](https://www.pmel.noaa.gov/mimoc/#netCDF) provides \"Pressure-gridded global monthly x 0.5° x 0.5° netCDF files including pressure, longitude, and latitude vectors as well as data matrices for salinity and temperature (always absolute salinity and conservative temperature, and sometimes also practical salinity and potential temperature).\"\n",
    "\n",
    "I have already explored how to work with a `netCDF` file in the notebook [MIMOC Data](https://github.com/mfisher5/PCod-Compare-repo/blob/master/notebooks/MIMOC%20Data%20.ipynb). In this notebook, I will only be making the maps listed above, using my modified script.\n",
    "\n",
    "<br>\n"
   ]
  },
  {
   "cell_type": "markdown",
   "metadata": {},
   "source": [
    "<br>\n",
    "\n",
    "### Python package `netCDF`\n",
    "\n",
    "The script [`mimoc2.py`](https://github.com/mfisher5/PCod-Compare-repo/blob/master/analyses/environmental/mimoc2.py) is from Rosalind Echols, UW Oceanography. The script uses the `netCDF` python package.\n",
    "<br>\n",
    "The original script was written for python 3.x; several packages (`gsw`) were not available for python 2.7, so I had to install older (deprecated) versions of those packages. Any warning messages are probably a result of using deprecated packages.\n",
    "\n",
    "I then edited the script so to take arguments, and so that I could save the map image as a jpg, rather than printing it into this notebook. \n",
    "\n"
   ]
  },
  {
   "cell_type": "code",
   "execution_count": 1,
   "metadata": {},
   "outputs": [
    {
     "name": "stdout",
     "output_type": "stream",
     "text": [
      "/mnt/hgfs/PCod-Compare-repo/analyses/environmental\n"
     ]
    }
   ],
   "source": [
    "cd ../analyses/environmental/"
   ]
  },
  {
   "cell_type": "code",
   "execution_count": 2,
   "metadata": {},
   "outputs": [
    {
     "name": "stdout",
     "output_type": "stream",
     "text": [
      "usage: mimoc2_args.py [-h] [-i INPUT] [-p PLOT] [-lat LATITUDE]\r\n",
      "                      [-long LONGITUDE] [-d DEPTH] [-var VARIABLE]\r\n",
      "\r\n",
      "subset and plot a netCDF file from the MIMOC database.\r\n",
      "\r\n",
      "optional arguments:\r\n",
      "  -h, --help            show this help message and exit\r\n",
      "  -i INPUT, --input INPUT\r\n",
      "                        input file; should be a .nc.gz file from MIMOC\r\n",
      "  -p PLOT, --plot PLOT  output plot file; should be a .jpg\r\n",
      "  -lat LATITUDE, --latitude LATITUDE\r\n",
      "                        start, end latitude. 120,135 Korean peninsula\r\n",
      "                        [start,end]\r\n",
      "  -long LONGITUDE, --longitude LONGITUDE\r\n",
      "                        start, end longitude. 30,40 Korean peninsula\r\n",
      "                        [start,end]\r\n",
      "  -d DEPTH, --depth DEPTH\r\n",
      "                        depth to retrieve data from. Coded by seq(0,x,by=5) so\r\n",
      "                        d1 = 0m, d2 = 5m, d2 = 10m, etc.\r\n",
      "  -var VARIABLE, --variable VARIABLE\r\n",
      "                        Variable to plot [CONSERVATIVE_TEMPERATURE /\r\n",
      "                        ABSOLUTE_SALINITY]\r\n"
     ]
    }
   ],
   "source": [
    "!python mimoc2_args.py -h "
   ]
  },
  {
   "cell_type": "markdown",
   "metadata": {},
   "source": [
    "<br>\n",
    "### Downloading Data\n",
    "\n",
    "I retrieved the `netCDF` files for February - May; these are pressure gridded Conservative Temperature and Absolute Salinity files. \n",
    "<br>\n",
    "### Map Data"
   ]
  },
  {
   "cell_type": "code",
   "execution_count": 8,
   "metadata": {},
   "outputs": [
    {
     "name": "stdout",
     "output_type": "stream",
     "text": [
      "mimoc2_args.py:43: RuntimeWarning: invalid value encountered in greater\n",
      "  data[str(vname)] = fh.variables[vname][:]\n",
      "[115, 145, 30, 60]\n",
      "('You are looking at a depth of ', 10.0)\n",
      "/home/mfisher5/anaconda2/lib/python2.7/site-packages/mpl_toolkits/basemap/__init__.py:3608: MatplotlibDeprecationWarning: The ishold function was deprecated in version 2.0.\n",
      "  b = ax.ishold()\n",
      "/home/mfisher5/anaconda2/lib/python2.7/site-packages/mpl_toolkits/basemap/__init__.py:3677: MatplotlibDeprecationWarning: axes.hold is deprecated.\n",
      "    See the API Changes document (http://matplotlib.org/api/api_changes.html)\n",
      "    for more details.\n",
      "  ax.hold(b)\n",
      "/home/mfisher5/anaconda2/lib/python2.7/site-packages/mpl_toolkits/basemap/__init__.py:3296: MatplotlibDeprecationWarning: The ishold function was deprecated in version 2.0.\n",
      "  b = ax.ishold()\n",
      "/home/mfisher5/anaconda2/lib/python2.7/site-packages/mpl_toolkits/basemap/__init__.py:3305: MatplotlibDeprecationWarning: axes.hold is deprecated.\n",
      "    See the API Changes document (http://matplotlib.org/api/api_changes.html)\n",
      "    for more details.\n",
      "  ax.hold(b)\n"
     ]
    }
   ],
   "source": [
    "!python mimoc2_args.py \\\n",
    "-i 'MIMOC_Z_GRID_v2.2wm_CT_SA_month03.nc.gz' \\\n",
    "-lat '115,145' \\\n",
    "-lon '30,60' \\\n",
    "-d 2 \\\n",
    "-var CONSERVATIVE_TEMPERATURE"
   ]
  },
  {
   "cell_type": "markdown",
   "metadata": {},
   "source": [
    "** Solving Deprecation Warnings: **\n",
    "I used the command `conda install -c conda-forge basemap` to update basemap and related packages."
   ]
  },
  {
   "cell_type": "code",
   "execution_count": 23,
   "metadata": {},
   "outputs": [
    {
     "name": "stdout",
     "output_type": "stream",
     "text": [
      "mimoc2_args.py:44: RuntimeWarning: invalid value encountered in greater\n",
      "  data[str(vname)] = fh.variables[vname][:]\n",
      "[115, 145, 20, 50]\n",
      "('You are looking at a depth of ', 0.0)\n"
     ]
    }
   ],
   "source": [
    "!python mimoc2_args.py \\\n",
    "-i 'MIMOC_Z_GRID_v2.2_CT_SA_month02.nc.gz' \\\n",
    "-p 'Feb_d0_CT' \\\n",
    "-lat '115,145' \\\n",
    "-lon '20,50' \\\n",
    "-d 0 \\\n",
    "-var CONSERVATIVE_TEMPERATURE"
   ]
  },
  {
   "cell_type": "code",
   "execution_count": 24,
   "metadata": {},
   "outputs": [
    {
     "name": "stdout",
     "output_type": "stream",
     "text": [
      "mimoc2_args.py:44: RuntimeWarning: invalid value encountered in greater\n",
      "  data[str(vname)] = fh.variables[vname][:]\n",
      "[115, 145, 20, 50]\n",
      "('You are looking at a depth of ', 0.0)\n"
     ]
    }
   ],
   "source": [
    "!python mimoc2_args.py \\\n",
    "-i 'MIMOC_Z_GRID_v2.2wm_CT_SA_month03.nc.gz' \\\n",
    "-p 'Mar_d0_CT' \\\n",
    "-lat '115,145' \\\n",
    "-lon '20,50' \\\n",
    "-d 0 \\\n",
    "-var CONSERVATIVE_TEMPERATURE"
   ]
  },
  {
   "cell_type": "code",
   "execution_count": 25,
   "metadata": {},
   "outputs": [
    {
     "name": "stdout",
     "output_type": "stream",
     "text": [
      "mimoc2_args.py:44: RuntimeWarning: invalid value encountered in greater\n",
      "  data[str(vname)] = fh.variables[vname][:]\n",
      "[115, 145, 20, 50]\n",
      "('You are looking at a depth of ', 0.0)\n"
     ]
    }
   ],
   "source": [
    "!python mimoc2_args.py \\\n",
    "-i 'MIMOC_Z_GRID_v2.2wm_CT_SA_month04.nc.gz' \\\n",
    "-p 'Apr_d0_CT' \\\n",
    "-lat '115,145' \\\n",
    "-lon '20,50' \\\n",
    "-d 0 \\\n",
    "-var CONSERVATIVE_TEMPERATURE"
   ]
  },
  {
   "cell_type": "code",
   "execution_count": 26,
   "metadata": {},
   "outputs": [
    {
     "name": "stdout",
     "output_type": "stream",
     "text": [
      "mimoc2_args.py:44: RuntimeWarning: invalid value encountered in greater\n",
      "  data[str(vname)] = fh.variables[vname][:]\n",
      "[115, 145, 20, 50]\n",
      "('You are looking at a depth of ', 0.0)\n"
     ]
    }
   ],
   "source": [
    "!python mimoc2_args.py \\\n",
    "-i 'MIMOC_Z_GRID_v2.2wm_CT_SA_month05.nc.gz' \\\n",
    "-p 'May_d0_CT' \\\n",
    "-lat '115,145' \\\n",
    "-lon '20,50' \\\n",
    "-d 0 \\\n",
    "-var CONSERVATIVE_TEMPERATURE"
   ]
  },
  {
   "cell_type": "code",
   "execution_count": null,
   "metadata": {
    "collapsed": true
   },
   "outputs": [],
   "source": []
  }
 ],
 "metadata": {
  "kernelspec": {
   "display_name": "Python 2",
   "language": "python",
   "name": "python2"
  },
  "language_info": {
   "codemirror_mode": {
    "name": "ipython",
    "version": 2
   },
   "file_extension": ".py",
   "mimetype": "text/x-python",
   "name": "python",
   "nbconvert_exporter": "python",
   "pygments_lexer": "ipython2",
   "version": "2.7.13"
  }
 },
 "nbformat": 4,
 "nbformat_minor": 2
}
