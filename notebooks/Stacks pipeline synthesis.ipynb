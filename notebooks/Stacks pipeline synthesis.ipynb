{
 "cells": [
  {
   "cell_type": "markdown",
   "metadata": {},
   "source": [
    "## Stacks pipeline synthesis\n",
    "\n",
    "#### 8/22/2017\n",
    "\n",
    "<br>\n",
    "This notebook provides a summary of the final `stacks` pipeline for the US and Korean Cod data. The settings / flags used below were employed for both sets of data to maintain consistency. The workflow for each dataset is as follows: \n",
    "\n",
    "\n",
    "#### Workflow: Combining US and Korean data sets\n",
    "\n",
    "\n",
    "![img-combined-workflow](https://github.com/mfisher5/PCod-Compare-repo/blob/master/notebooks/notebook_pics/combined_workflow.png?raw=true)\n",
    "\n",
    "![img-sk-workflow2](https://github.com/mfisher5/PCod-Compare-repo/blob/master/notebooks/notebook_pics/koreandata_workflowsm_p2.png?raw=true)\n",
    "\n"
   ]
  },
  {
   "cell_type": "markdown",
   "metadata": {},
   "source": [
    "<br>\n",
    "<br>\n",
    "\n",
    "### process_radtags"
   ]
  },
  {
   "cell_type": "code",
   "execution_count": null,
   "metadata": {
    "collapsed": true
   },
   "outputs": [],
   "source": [
    "#single read (Korea lanes 2,3,5; Alaska lanes)\n",
    "process_radtags -p $raw_data_file \\\n",
    "-i gzfastq \\\n",
    "-y fastq \\\n",
    "-o $\"samplesT\"_folder \\\n",
    "-b $barcodes_file \\\n",
    "-e sbfI \\\n",
    "-E phred33 \\\n",
    "-r -c -q \\\n",
    "-t 142 or 92\n",
    "\n",
    "#paired end (Korea lanes 1, 4)\n",
    "process_radtags -p $raw_data_folder \\\n",
    "-P \\\n",
    "-i gzfastq \\\n",
    "-y fastq \\\n",
    "-o $\"samplesT\"_folder \\\n",
    "-b $barcodes_file \\\n",
    "-e sbfI \\\n",
    "-E phred33 \\\n",
    "-r -c -q \\\n",
    "-t 142"
   ]
  },
  {
   "cell_type": "markdown",
   "metadata": {},
   "source": [
    "### ustacks (building reference)"
   ]
  },
  {
   "cell_type": "code",
   "execution_count": null,
   "metadata": {
    "collapsed": true
   },
   "outputs": [],
   "source": [
    "ustacks -t fastq \\\n",
    "-f $samples_folder/file.fq \\\n",
    "-r -d \\\n",
    "-o $stacks_folder \\\n",
    "-m 5 \\\n",
    "-M 3 \\\n",
    "-p 6 \\\n",
    "--model_type bounded"
   ]
  },
  {
   "cell_type": "markdown",
   "metadata": {},
   "source": [
    "### cstacks (building reference)"
   ]
  },
  {
   "cell_type": "code",
   "execution_count": null,
   "metadata": {
    "collapsed": true
   },
   "outputs": [],
   "source": [
    "cstacks -b 7 \\\n",
    "-s $stacks_folder/samples \\\n",
    "-n 3 \\\n",
    "-p 6"
   ]
  },
  {
   "cell_type": "markdown",
   "metadata": {},
   "source": [
    "### sstacks (building reference)"
   ]
  },
  {
   "cell_type": "code",
   "execution_count": null,
   "metadata": {
    "collapsed": true
   },
   "outputs": [],
   "source": [
    "sstacks -b 7 \\\n",
    "-c $stacks_folder \\\n",
    "-s $stacks_folder/sample \\\n",
    "-o $stacks_folder \\\n",
    "-p 6"
   ]
  },
  {
   "cell_type": "markdown",
   "metadata": {},
   "source": [
    "### populations (building reference)"
   ]
  },
  {
   "cell_type": "code",
   "execution_count": null,
   "metadata": {
    "collapsed": true
   },
   "outputs": [],
   "source": [
    "populations -b 7 \\\n",
    "-P $stacks_folder \\\n",
    "-M $popmap.txt \\\n",
    "-t 36 \\\n",
    "-r 0.75 \\\n",
    "-p 4 \\\n",
    "-m 5  \\\n",
    "--genepop \\\n",
    "--fasta"
   ]
  },
  {
   "cell_type": "markdown",
   "metadata": {},
   "source": [
    "### bowtie / blast (building reference)"
   ]
  },
  {
   "cell_type": "code",
   "execution_count": null,
   "metadata": {
    "collapsed": true
   },
   "outputs": [],
   "source": [
    "# make fasta file from populations output\n",
    "python genBOWTIEfasta_fromGENEPOP.py \\\n",
    "$populations_genepop_file \\\n",
    "$catalog_tags_file"
   ]
  },
  {
   "cell_type": "code",
   "execution_count": null,
   "metadata": {
    "collapsed": true
   },
   "outputs": [],
   "source": [
    "# build first bowtie database\n",
    "bowtie-build $batch_number.fa $batch_number"
   ]
  },
  {
   "cell_type": "code",
   "execution_count": null,
   "metadata": {
    "collapsed": true
   },
   "outputs": [],
   "source": [
    "# align against database\n",
    "bowtie -f -v 3 -k 5 --sam --sam-nohead \\\n",
    "$batch_number \\\n",
    "$batch_number.fa \\\n",
    "$batch_number_BOWTIEout.sam"
   ]
  },
  {
   "cell_type": "code",
   "execution_count": null,
   "metadata": {
    "collapsed": true
   },
   "outputs": [],
   "source": [
    "# parse out sequences to discard\n",
    "python ../../scripts/parseBOWTIE_DD.py \\\n",
    "batch_number_BOWTIEout.sam \\\n",
    "batch_number_BOWTIEfiltered.fa"
   ]
  },
  {
   "cell_type": "code",
   "execution_count": null,
   "metadata": {
    "collapsed": true
   },
   "outputs": [],
   "source": [
    "# build blast database from bowtie filtered file\n",
    "makeblastdb -in batch_number_BOWTIEfiltered.fa \\\n",
    "-parse_seqids \\\n",
    "-dbtype nucl \\\n",
    "-out batch_number_BOWTIEfilteredDB"
   ]
  },
  {
   "cell_type": "code",
   "execution_count": null,
   "metadata": {
    "collapsed": true
   },
   "outputs": [],
   "source": [
    "# query the blast database\n",
    "blastn -query batch_number_BOWTIEfiltered.fa \\\n",
    "-db batch_number_BOWTIEfilteredDB \\\n",
    "-out batch_number_BOWTIE_BLAST_filtered"
   ]
  },
  {
   "cell_type": "code",
   "execution_count": null,
   "metadata": {
    "collapsed": true
   },
   "outputs": [],
   "source": [
    "# parse out sequences to discard\n",
    "python ../../scripts/checkBlastResults_DD.py \\\n",
    "batch_number_BOWTIE_BLAST_filtered \\\n",
    "batch_number_BOWTIEfiltered.fa \\\n",
    "batch_number_BOWTIE_BLAST_filtered.fa \\\n",
    "batch_number_BOWTIE_BLAST_output_bad.fa"
   ]
  },
  {
   "cell_type": "code",
   "execution_count": null,
   "metadata": {
    "collapsed": true
   },
   "outputs": [],
   "source": [
    "# build final bowtie database from double-filtered file\n",
    "bowtie-build batch_number_BOWTIE_BLAST_filtered.fa \\\n",
    "batch_number_ref_genome"
   ]
  },
  {
   "cell_type": "markdown",
   "metadata": {},
   "source": [
    "### .sam alignment files"
   ]
  },
  {
   "cell_type": "code",
   "execution_count": null,
   "metadata": {
    "collapsed": true
   },
   "outputs": [],
   "source": [
    "python RefGenome_BOWTIEalign_genshell.py \\\n",
    "$popmap.txt \\\n",
    "$referenc_path/batch_number_ref_genome \\\n",
    "$samples_folder \\\n",
    "$batch \\\n",
    "$new_stacks_wgenome_folder"
   ]
  },
  {
   "cell_type": "markdown",
   "metadata": {},
   "source": [
    "### pstacks"
   ]
  },
  {
   "cell_type": "code",
   "execution_count": null,
   "metadata": {
    "collapsed": true
   },
   "outputs": [],
   "source": [
    "pstacks -t sam \\\n",
    "-f $stacks_wgenome_folder/sample.sam \\\n",
    "-o $stacks_wgenome_folder \\\n",
    "-i IDnumber \\\n",
    "-m 10 \\\n",
    "-p 6 \\\n",
    "--model_type bounded"
   ]
  },
  {
   "cell_type": "markdown",
   "metadata": {},
   "source": [
    "### cstacks"
   ]
  },
  {
   "cell_type": "code",
   "execution_count": null,
   "metadata": {
    "collapsed": true
   },
   "outputs": [],
   "source": [
    "cstacks -b batch_number \\\n",
    "-s $stacks_wgenome_folder/samples \\\n",
    "-g \\\n",
    "-p 6"
   ]
  },
  {
   "cell_type": "markdown",
   "metadata": {},
   "source": [
    "### sstacks"
   ]
  },
  {
   "cell_type": "code",
   "execution_count": null,
   "metadata": {
    "collapsed": true
   },
   "outputs": [],
   "source": [
    "sstacks -b batch_number \\\n",
    "-c $stacks_wgenome_folder/batch_number \\\n",
    "-s $stacks_wgenome_folder/sample \\\n",
    "-o $stacks_wgenome_folder \\\n",
    "-p 6"
   ]
  },
  {
   "cell_type": "markdown",
   "metadata": {},
   "source": [
    "### populations"
   ]
  },
  {
   "cell_type": "code",
   "execution_count": null,
   "metadata": {
    "collapsed": true
   },
   "outputs": [],
   "source": [
    "populations -b batch_number \\\n",
    "-P $stacks_wgenome_folder \\\n",
    "-M popmap.txt \\\n",
    "-r .8 \\\n",
    "-p 3 \\\n",
    "-m 10 \\\n",
    "--write_random_snp \\\n",
    "--genepop --fasta \\\n",
    "-t 36"
   ]
  },
  {
   "cell_type": "markdown",
   "metadata": {},
   "source": [
    "Need to decide: what should the `-p` flag be? It represents the minimum number of popuations a locus must be present in to process that locus. \n",
    "\n",
    "I have 9 Korean populations and 9 Alaskan populations. In my data, I've been using `n_pops/2`, rounded down."
   ]
  },
  {
   "cell_type": "code",
   "execution_count": null,
   "metadata": {
    "collapsed": true
   },
   "outputs": [],
   "source": []
  }
 ],
 "metadata": {
  "anaconda-cloud": {},
  "kernelspec": {
   "display_name": "Python 2",
   "language": "python",
   "name": "python2"
  },
  "language_info": {
   "codemirror_mode": {
    "name": "ipython",
    "version": 2
   },
   "file_extension": ".py",
   "mimetype": "text/x-python",
   "name": "python",
   "nbconvert_exporter": "python",
   "pygments_lexer": "ipython2",
   "version": "2.7.13"
  }
 },
 "nbformat": 4,
 "nbformat_minor": 1
}
