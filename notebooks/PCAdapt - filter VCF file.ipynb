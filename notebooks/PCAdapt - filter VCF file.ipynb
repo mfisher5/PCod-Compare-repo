{
 "cells": [
  {
   "cell_type": "markdown",
   "metadata": {},
   "source": [
    "## Filter VCF file for PCAdapt\n",
    "\n",
    "I have filtered out individuals and loci using the `genepop` file that was output from stacks, according to my standard filtering protocol. I need to filter out all individuals and loci that were removed during this process from my VCF file, which will be the input for PCAdapt. \n",
    "\n",
    "<br>\n",
    "\n",
    "\n",
    "<br>\n",
    "**VCFtools arguments:**\n",
    "\n",
    "`vcftools [ --vcf FILE | --gzvcf FILE | --bcf FILE] [ --out OUTPUT PREFIX ] [ FILTERING OPTIONS ] [ OUTPUT OPTIONS ]`\n",
    "\n",
    "`--snps <filename>` : include a list of SNPs given in a file. the file should contain a list of SNP IDs, which one ID per line. no header is expected. \n",
    "\n",
    "`--keep <filename>` : include a list of individuals to include. Each individual ID is listed on a separate line in the file. no header is expected. \n",
    "\n",
    "`--recode-INFO-all` : \n"
   ]
  },
  {
   "cell_type": "code",
   "execution_count": null,
   "metadata": {
    "collapsed": true
   },
   "outputs": [],
   "source": []
  }
 ],
 "metadata": {
  "kernelspec": {
   "display_name": "Python 2",
   "language": "python",
   "name": "python2"
  },
  "language_info": {
   "codemirror_mode": {
    "name": "ipython",
    "version": 2
   },
   "file_extension": ".py",
   "mimetype": "text/x-python",
   "name": "python",
   "nbconvert_exporter": "python",
   "pygments_lexer": "ipython2",
   "version": "2.7.13"
  }
 },
 "nbformat": 4,
 "nbformat_minor": 2
}
