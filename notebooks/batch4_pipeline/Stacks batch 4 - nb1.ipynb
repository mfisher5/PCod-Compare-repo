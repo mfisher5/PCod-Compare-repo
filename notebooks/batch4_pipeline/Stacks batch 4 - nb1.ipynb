{
 "cells": [
  {
   "cell_type": "markdown",
   "metadata": {},
   "source": [
    "### Stacks batch 4- Trim Korean samples\n",
    "\n",
    "The sequences in the Korean fastq files are longer than those in the Alaska files, so I have to trim them down to 92bp. Rather than re-running process-radtags, I'm just going to run through all of the Korean fastq files, subset the lines containing the sequence and the quality info, and write it all out to a new fastq file.\n",
    "\n",
    "<br>\n",
    "<br>\n",
    "#### 10/13/2017"
   ]
  },
  {
   "cell_type": "code",
   "execution_count": 1,
   "metadata": {},
   "outputs": [
    {
     "data": {
      "text/plain": [
       "u'/mnt/hgfs/PCod-Compare-repo/notebooks'"
      ]
     },
     "execution_count": 1,
     "metadata": {},
     "output_type": "execute_result"
    }
   ],
   "source": [
    "pwd"
   ]
  },
  {
   "cell_type": "code",
   "execution_count": 2,
   "metadata": {},
   "outputs": [
    {
     "name": "stdout",
     "output_type": "stream",
     "text": [
      "/mnt/hgfs/PCod-Korea-repo/samplesT142\n"
     ]
    }
   ],
   "source": [
    "cd ../../PCod-Korea-repo/samplesT142"
   ]
  },
  {
   "cell_type": "code",
   "execution_count": 4,
   "metadata": {
    "scrolled": true
   },
   "outputs": [
    {
     "name": "stdout",
     "output_type": "stream",
     "text": [
      "@8_1101_4005_1191/1\r\n",
      "TGCAGGGAGAATACAGAAATGGCCACAACAACCACATAATGACCTCACACTGCCATATAAAGCCTGGGTCCCCATGGTAGCAACACACAGGAAGTCACACTGACACATAACCGAGCCAGAGAGAGAGAGGCAGAGAGAGAGA\r\n",
      "+\r\n",
      "JJJAJJJJJJJJJJJJJJJJJJJJJJJJJJJJJJJJJJJJJJJJJJJJJJJJJJJFJJJJJJJJJJJJJJFJJJJJJJJJJJJJJJJJJFJJJJJJJJJJJJJJJJJJJJJJJJJJJJJJJJJFJJJJJFJJJJJAJJJFJ<\r\n",
      "@8_1101_7293_1191/1\r\n",
      "TGCAGGGGCCGCACTTATAGTGGTCTATATTTTCTCTCATGTGCGCTCTCGCCTCCCTAAACTTATTTCCGTTACCAAGAGAAGAACATGGTTCTCTGCAAGCGTTGCCTGGCAACGACAGATGCAAAGTAGCGCAGTGTTG\r\n",
      "+\r\n",
      "JJJJJJJJJJJJJJJJJJJJJJJJJJJJJJJJJJJJJJJJJJJJJJJJJJJJJJJJJJJJJJJJJJJJJJJJJJJJJJJJJJJJJJJJJJJJJJJJJJJJJJJJJJFJJJJJJJJJJFJJJJJJJJJJJJJJJJJJJJJJFJ\r\n",
      "@8_1101_9912_1191/1\r\n",
      "TGCAGGAGACGACTCCAACAGGGGGTTGATGGCGGCCATCACCTGGGGCTGGCTGAACGTTCGATGGGTACTCGATGAATGAGTGCTTTTAGCAATTAAACCACCCCCCCTCCTCCCTCAACGCCCTAGTCTGGGACCTGTG\r\n"
     ]
    }
   ],
   "source": [
    "!head JUK07_33.fq"
   ]
  },
  {
   "cell_type": "code",
   "execution_count": 8,
   "metadata": {},
   "outputs": [
    {
     "name": "stdout",
     "output_type": "stream",
     "text": [
      "/mnt/hgfs/PCod-Compare-repo\n"
     ]
    }
   ],
   "source": [
    "cd ../../PCod-Compare-repo/"
   ]
  },
  {
   "cell_type": "code",
   "execution_count": 9,
   "metadata": {
    "collapsed": true
   },
   "outputs": [],
   "source": [
    "popmap = open(\"scripts/PopMap_KOR.txt\", \"r\")\n",
    "samplelist = []\n",
    "for line in popmap:\n",
    "    samplelist.append(line.strip().split()[0])\n",
    "popmap.close()"
   ]
  },
  {
   "cell_type": "code",
   "execution_count": 10,
   "metadata": {
    "collapsed": true
   },
   "outputs": [],
   "source": [
    "!mkdir KORsamplesT92"
   ]
  },
  {
   "cell_type": "code",
   "execution_count": null,
   "metadata": {
    "collapsed": true
   },
   "outputs": [],
   "source": [
    "for sample in samplelist:\n",
    "    fastq = open(\"../PCod-Korea-repo/samplesT142/\" + sample + \".fq\", \"r\")\n",
    "    fastqout= open(\"KORsamplesT92/\" + sample + \"_92bp.fq\", \"w\")\n",
    "    for line in fastq:\n",
    "        if line.startswith(\"@\"):\n",
    "            fastqout.write(line)\n",
    "        elif line.startswith(\"+\"):\n",
    "            fastqout.write(line)\n",
    "        else:\n",
    "            linelist = line.strip().split()\n",
    "            newseq = \"\".join(linelist[0:92])\n",
    "            fastqout.write(newseq + \"\\n\")\n",
    "    fastq.close()\n",
    "    fastqout.close()\n",
    "    print \"Done processing sample \" + sample"
   ]
  },
  {
   "cell_type": "code",
   "execution_count": 14,
   "metadata": {},
   "outputs": [
    {
     "data": {
      "text/plain": [
       "'abcd'"
      ]
     },
     "execution_count": 14,
     "metadata": {},
     "output_type": "execute_result"
    }
   ],
   "source": [
    "linelist = ['a', 'b', 'c', 'd', 'e']\n",
    "\"\".join(linelist[0:4])"
   ]
  },
  {
   "cell_type": "markdown",
   "metadata": {
    "collapsed": true
   },
   "source": [
    "<br>\n",
    "<br>\n",
    "#### 10/23/2017\n",
    "\n",
    "So the fastq files didn't actually trim; I'll try again...."
   ]
  },
  {
   "cell_type": "code",
   "execution_count": 3,
   "metadata": {
    "collapsed": true
   },
   "outputs": [],
   "source": [
    "samplelist = [\"BOR07_01\"]"
   ]
  },
  {
   "cell_type": "code",
   "execution_count": 5,
   "metadata": {},
   "outputs": [
    {
     "name": "stdout",
     "output_type": "stream",
     "text": [
      "Done processing sample BOR07_01\n"
     ]
    }
   ],
   "source": [
    "for sample in samplelist:\n",
    "    fastq = open(\"../\" + sample + \".fq\", \"r\")\n",
    "    fastqout= open(\"../KORsamplesT92/\" + sample + \"_92bp_2.fq\", \"w\")\n",
    "    for line in fastq:\n",
    "        if line.startswith(\"@\"):\n",
    "            fastqout.write(line)\n",
    "        elif line.startswith(\"+\"):\n",
    "            fastqout.write(line)\n",
    "        else:\n",
    "            linelist = list(line)\n",
    "            if len(linelist) > 1:\n",
    "                newseq = \"\".join(linelist[0:92])\n",
    "                fastqout.write(newseq + \"\\n\")\n",
    "            else:\n",
    "                print \"the sequence did not split into a list by basepair!\"\n",
    "    fastq.close()\n",
    "    fastqout.close()\n",
    "    print \"Done processing sample \" + sample"
   ]
  },
  {
   "cell_type": "code",
   "execution_count": 6,
   "metadata": {},
   "outputs": [
    {
     "name": "stdout",
     "output_type": "stream",
     "text": [
      "@2_1101_3508_1173/1\r\n",
      "TGCAGGTTTGTGAGTGTGTGATGTCATATCCTGCAAGGCACTGGAAAGTCTTGGCAGCCATCCCAACGGCACAGCCTCCTGGGGCTTATTCA\r\n",
      "+\r\n",
      "FFJJJJJJJJJJJJJJJFJFJJJAJJFJJJJJJJJJJAFJJJJAJJJJJJJJJJJJJJJJJJJJJJJFJJJJJFJJJJJJJ<7<AAJJJF<J\r\n",
      "@2_1101_9861_1173/1\r\n",
      "TGCAGGACCTCCGCGACAGATGGCTCTATTGGGGGTCTGGACTCTGTGGGAATGGCGTTGAAGAGATGGAGGGGCAACACATTCCTCCGAGC\r\n",
      "+\r\n",
      "F<JJJJFJJJJJJJJJJJJJJJJJJJJJJJJJJJJJJJJJJJJJJJJJJJJJJJJJJJJJJJJJJJJJJJJJJJJJJJJJJJJJJJJJFJJJ\r\n",
      "@2_1101_13311_1173/1\r\n",
      "TGCAGGTCTGGCAGACCCTACATAGAGGACACTGCCATCCAGCCCTACAAAGAGGGGTTGGCGTTATGGGGGGGTCCTGGCAGCTACCATGG\r\n"
     ]
    }
   ],
   "source": [
    "!head ../KORsamplesT92/BOR07_01_92bp_2.fq"
   ]
  },
  {
   "cell_type": "code",
   "execution_count": 7,
   "metadata": {},
   "outputs": [
    {
     "name": "stdout",
     "output_type": "stream",
     "text": [
      "92\n"
     ]
    }
   ],
   "source": [
    "str = \"TGCAGGTTTGTGAGTGTGTGATGTCATATCCTGCAAGGCACTGGAAAGTCTTGGCAGCCATCCCAACGGCACAGCCTCCTGGGGCTTATTCA\"\n",
    "newlist = list(str)\n",
    "print len(newlist)"
   ]
  },
  {
   "cell_type": "code",
   "execution_count": 8,
   "metadata": {},
   "outputs": [
    {
     "name": "stdout",
     "output_type": "stream",
     "text": [
      "['T', 'G', 'C', 'A', 'G', 'G', 'T', 'T', 'T', 'G', 'T', 'G', 'A', 'G', 'T', 'G', 'T', 'G', 'T', 'G', 'A', 'T', 'G', 'T', 'C', 'A', 'T', 'A', 'T', 'C', 'C', 'T', 'G', 'C', 'A', 'A', 'G', 'G', 'C', 'A', 'C', 'T', 'G', 'G', 'A', 'A', 'A', 'G', 'T', 'C', 'T', 'T', 'G', 'G', 'C', 'A', 'G', 'C', 'C', 'A', 'T', 'C', 'C', 'C', 'A', 'A', 'C', 'G', 'G', 'C', 'A', 'C', 'A', 'G', 'C', 'C', 'T', 'C', 'C', 'T', 'G', 'G', 'G', 'G', 'C', 'T', 'T', 'A', 'T', 'T', 'C', 'A']\n"
     ]
    }
   ],
   "source": [
    "print newlist"
   ]
  },
  {
   "cell_type": "code",
   "execution_count": 16,
   "metadata": {},
   "outputs": [
    {
     "name": "stdout",
     "output_type": "stream",
     "text": [
      "/media/mfisher5/New Volume/Mary/Stacks/PCod-US-repo/samplesT92\n"
     ]
    }
   ],
   "source": [
    "cd /media/mfisher5/New\\ Volume/Mary/Stacks/PCod-US-repo/samplesT92"
   ]
  },
  {
   "cell_type": "code",
   "execution_count": 17,
   "metadata": {},
   "outputs": [
    {
     "name": "stdout",
     "output_type": "stream",
     "text": [
      "@2_1101_1265_2184/1\r\n",
      "TGCAGGGGGTTTTCCTGAACGCGCTATCCGATGAGATCAAGGACCAGCTTGCCTCCCGGGAGGGACCCTCGGATCTGGACGAGCTGATCGCT\r\n",
      "+\r\n",
      "BDFHHHHJJEGGIIJJJJJJJGIJJHIIJIIHHHHDFFFFEEEEDDDDDDDDDDDDDDBD@BDD>BDBC<>B9?BDDCCBD9>BDCC@CBBD\r\n",
      "@2_1101_1815_2226/1\r\n",
      "TGCAGGAAAAATAGGAGCTCTTGGAAGAGCCACATACAGATTCATTTGGTTGATTCATTCAGAATTGTGTGCCCATCGACCCTTAAAGGCAC\r\n",
      "+\r\n",
      "DDHHHHHIJIJJJJJJJJJJJJJJIJJJJIIJJJJJJJJJJJJIJJJJJHIJIJJJJIIJIIJIHHDEHADFDFFDEDEDDDDDCDDDDDDD\r\n",
      "@2_1101_2396_2065/1\r\n",
      "TGCAGGGTCAGGTTCAGTCTGTCCAAGTGACACAGCATGTCGACCAAAAAGGCCAGATCCATAATCCACTTGGGGTCAGAGAGCTCGGGATA\r\n"
     ]
    }
   ],
   "source": [
    "!head AD06_001.fq"
   ]
  },
  {
   "cell_type": "code",
   "execution_count": 18,
   "metadata": {},
   "outputs": [
    {
     "name": "stdout",
     "output_type": "stream",
     "text": [
      "92\n"
     ]
    }
   ],
   "source": [
    "str = \"TGCAGGGGGTTTTCCTGAACGCGCTATCCGATGAGATCAAGGACCAGCTTGCCTCCCGGGAGGGACCCTCGGATCTGGACGAGCTGATCGCT\"\n",
    "newlist = list(str)\n",
    "print len(newlist)"
   ]
  },
  {
   "cell_type": "code",
   "execution_count": 19,
   "metadata": {},
   "outputs": [
    {
     "name": "stdout",
     "output_type": "stream",
     "text": [
      "['T', 'G', 'C', 'A', 'G', 'G', 'G', 'G', 'G', 'T', 'T', 'T', 'T', 'C', 'C', 'T', 'G', 'A', 'A', 'C', 'G', 'C', 'G', 'C', 'T', 'A', 'T', 'C', 'C', 'G', 'A', 'T', 'G', 'A', 'G', 'A', 'T', 'C', 'A', 'A', 'G', 'G', 'A', 'C', 'C', 'A', 'G', 'C', 'T', 'T', 'G', 'C', 'C', 'T', 'C', 'C', 'C', 'G', 'G', 'G', 'A', 'G', 'G', 'G', 'A', 'C', 'C', 'C', 'T', 'C', 'G', 'G', 'A', 'T', 'C', 'T', 'G', 'G', 'A', 'C', 'G', 'A', 'G', 'C', 'T', 'G', 'A', 'T', 'C', 'G', 'C', 'T']\n"
     ]
    }
   ],
   "source": [
    "print newlist"
   ]
  },
  {
   "cell_type": "markdown",
   "metadata": {},
   "source": [
    "<br>\n",
    "Ok, so I know it worked this time. Take two...\n"
   ]
  },
  {
   "cell_type": "code",
   "execution_count": 20,
   "metadata": {},
   "outputs": [
    {
     "name": "stdout",
     "output_type": "stream",
     "text": [
      "/mnt/hgfs/PCod-Compare-repo\n"
     ]
    }
   ],
   "source": [
    "cd /mnt/hgfs/PCod-Compare-repo"
   ]
  },
  {
   "cell_type": "code",
   "execution_count": 21,
   "metadata": {
    "collapsed": true
   },
   "outputs": [],
   "source": [
    "popmap = open(\"scripts/PopMap_KOR.txt\", \"r\")\n",
    "samplelist = []\n",
    "for line in popmap:\n",
    "    samplelist.append(line.strip().split()[0])\n",
    "popmap.close()"
   ]
  },
  {
   "cell_type": "code",
   "execution_count": 23,
   "metadata": {},
   "outputs": [
    {
     "name": "stdout",
     "output_type": "stream",
     "text": [
      "Done processing sample PO010715_02\n",
      "Done processing sample PO010715_02_rep\n",
      "Done processing sample PO010715_04\n",
      "Done processing sample PO010715_06.1\n",
      "Done processing sample PO010715_08.1\n",
      "Done processing sample PO010715_10.1\n",
      "Done processing sample PO010715_11.1\n",
      "Done processing sample PO010715_12\n",
      "Done processing sample PO010715_17.1\n",
      "Done processing sample PO010715_19.1\n",
      "Done processing sample PO010715_26\n",
      "Done processing sample PO010715_27.1\n",
      "Done processing sample PO010715_28.1\n",
      "Done processing sample PO010715_29.1\n",
      "Done processing sample PO020515_01\n",
      "Done processing sample PO020515_03.1\n",
      "Done processing sample PO020515_05.1\n",
      "Done processing sample PO020515_06\n",
      "Done processing sample PO020515_08.1\n",
      "Done processing sample PO020515_09.1\n",
      "Done processing sample PO020515_10.1\n",
      "Done processing sample PO020515_14.1\n",
      "Done processing sample PO020515_15.1\n",
      "Done processing sample PO020515_16.1\n",
      "Done processing sample PO020515_17.1\n",
      "Done processing sample PO031715_03\n",
      "Done processing sample PO031715_04\n",
      "Done processing sample PO031715_13.1\n",
      "Done processing sample PO031715_20.1\n",
      "Done processing sample PO031715_23\n",
      "Done processing sample PO031715_24\n",
      "Done processing sample PO010715_26_2\n",
      "Done processing sample PO010715_07\n",
      "Done processing sample PO010715_07_rep\n",
      "Done processing sample GE011215_01.1\n",
      "Done processing sample GE011215_07.1\n",
      "Done processing sample GE011215_08.1\n",
      "Done processing sample GE011215_09.1\n",
      "Done processing sample GE011215_10.1\n",
      "Done processing sample GE011215_14.1\n",
      "Done processing sample GE011215_15.1\n",
      "Done processing sample GE011215_16.1\n",
      "Done processing sample GE011215_18\n",
      "Done processing sample GE011215_19\n",
      "Done processing sample GE011215_20.1\n",
      "Done processing sample GE011215_21.1\n",
      "Done processing sample GE011215_22\n",
      "Done processing sample GE011215_24.1\n",
      "Done processing sample GE011215_28\n",
      "Done processing sample GE011215_29.1\n",
      "Done processing sample GE011215_30.1\n",
      "Done processing sample GE012315_01.1\n",
      "Done processing sample GE012315_03.1\n",
      "Done processing sample GE012315_04.1\n",
      "Done processing sample GE012315_05.1\n",
      "Done processing sample GE012315_06.1\n",
      "Done processing sample GE012315_08.1\n",
      "Done processing sample GE012315_09.1\n",
      "Done processing sample GE012315_10.1\n",
      "Done processing sample GE012315_11.1\n",
      "Done processing sample GE012315_17.1\n",
      "Done processing sample GE012315_20.1\n",
      "Done processing sample GE012315_22.1\n",
      "Done processing sample GEO012315_02\n",
      "Done processing sample GEO012315_12\n",
      "Done processing sample GEO012315_18\n",
      "Done processing sample GEO012315_21\n",
      "Done processing sample GE012315_11_2\n",
      "Done processing sample GE012315_09_2\n",
      "Done processing sample GE011215_11\n",
      "Done processing sample GE011215_11_rep\n",
      "Done processing sample NA021015_02.1\n",
      "Done processing sample NA021015_03.1\n",
      "Done processing sample NA021015_06.1\n",
      "Done processing sample NA021015_08.1\n",
      "Done processing sample NA021015_09.1\n",
      "Done processing sample NA021015_10.1\n",
      "Done processing sample NA021015_13.1\n",
      "Done processing sample NA021015_14.1\n",
      "Done processing sample NA021015_16.1\n",
      "Done processing sample NA021015_17.1\n",
      "Done processing sample NA021015_21.1\n",
      "Done processing sample NA021015_22.1\n",
      "Done processing sample NA021015_23\n",
      "Done processing sample NA021015_25\n",
      "Done processing sample NA021015_26\n",
      "Done processing sample NA021015_30\n",
      "Done processing sample NA021015_06_2\n",
      "Done processing sample NA021015_09_2\n",
      "Done processing sample NA021015_10_2\n",
      "Done processing sample YS_121316_01\n",
      "Done processing sample YS_121316_03\n",
      "Done processing sample YS_121316_05\n",
      "Done processing sample YS_121316_13\n",
      "Done processing sample YS_121316_17\n",
      "Done processing sample YS_121316_18\n",
      "Done processing sample YS_121316_20.1\n",
      "Done processing sample YS_121316_21\n",
      "Done processing sample YS_121316_22\n",
      "Done processing sample YS_121316_23\n",
      "Done processing sample YS_121316_24\n",
      "Done processing sample YS_121316_25\n",
      "Done processing sample YS_121316_26\n",
      "Done processing sample YS_121316_27\n",
      "Done processing sample YS_121316_28\n",
      "Done processing sample YS_121316_29\n",
      "Done processing sample YS121315_08.1\n",
      "Done processing sample YS121315_10.1\n",
      "Done processing sample YS121315_12\n",
      "Done processing sample YS121315_12_300\n",
      "Done processing sample YS121315_14.1\n",
      "Done processing sample YS121315_15\n",
      "Done processing sample YS121315_16\n",
      "Done processing sample YS121316_30\n",
      "Done processing sample YS_121316_04\n",
      "Done processing sample YS_121316_19\n",
      "Done processing sample YS_121316_21_2\n",
      "Done processing sample YS_121316_20_2\n",
      "Done processing sample YS121315_14_2\n",
      "Done processing sample YS_121316_07\n",
      "Done processing sample JUK07_01\n",
      "Done processing sample JUK07_02.1\n",
      "Done processing sample JUK07_02_rep.1\n",
      "Done processing sample JUK07_03\n",
      "Done processing sample JUK07_06.1\n",
      "Done processing sample JUK07_09.1\n",
      "Done processing sample JUK07_09_rep.1\n",
      "Done processing sample JUK07_14\n",
      "Done processing sample JUK07_15\n",
      "Done processing sample JUK07_16.1\n",
      "Done processing sample JUK07_16_rep.1\n",
      "Done processing sample JUK07_17\n",
      "Done processing sample JUK07_18\n",
      "Done processing sample JUK07_19\n",
      "Done processing sample JUK07_20\n",
      "Done processing sample JUK07_22\n",
      "Done processing sample JUK07_25\n",
      "Done processing sample JUK07_26\n",
      "Done processing sample JUK07_27\n",
      "Done processing sample JUK07_28\n",
      "Done processing sample JUK07_29.1\n",
      "Done processing sample JUK07_30\n",
      "Done processing sample JUK07_32\n",
      "Done processing sample JUK07_36.1\n",
      "Done processing sample JUK07_37.1\n",
      "Done processing sample JUK07_10\n",
      "Done processing sample JUK07_13\n",
      "Done processing sample JUK07_21\n",
      "Done processing sample JUK07_23\n",
      "Done processing sample JUK07_34\n",
      "Done processing sample JUK07_04\n",
      "Done processing sample JUK07_12\n",
      "Done processing sample JUK07_31\n",
      "Done processing sample JUK07_11\n",
      "Done processing sample JUK07_06_2\n",
      "Done processing sample JUK07_08\n",
      "Done processing sample JUK07_33\n",
      "Done processing sample JB121807_01\n",
      "Done processing sample JB121807_03.1\n",
      "Done processing sample JB121807_04.1\n",
      "Done processing sample JB121807_05\n",
      "Done processing sample JB121807_06.1\n",
      "Done processing sample JB121807_07.1\n",
      "Done processing sample JB121807_08\n",
      "Done processing sample JB121807_08_rep\n",
      "Done processing sample JB121807_09.1\n",
      "Done processing sample JB121807_11.1\n",
      "Done processing sample JB121807_12.1\n",
      "Done processing sample JB121807_14.1\n",
      "Done processing sample JB121807_16.1\n",
      "Done processing sample JB121807_19.1\n",
      "Done processing sample JB121807_20.1\n",
      "Done processing sample JB121807_21.1\n",
      "Done processing sample JB121807_23\n",
      "Done processing sample JB121807_24.1\n",
      "Done processing sample JB121807_25\n",
      "Done processing sample JB121807_27\n",
      "Done processing sample JB121807_28.1\n",
      "Done processing sample JB121807_30\n",
      "Done processing sample JB121807_31.1\n",
      "Done processing sample JB121807_32.1\n",
      "Done processing sample JB121807_33.1\n",
      "Done processing sample JB121807_34.1\n",
      "Done processing sample JB121807_35\n",
      "Done processing sample JB121807_37\n",
      "Done processing sample JB121807_38.1\n",
      "Done processing sample JB121807_41.1\n",
      "Done processing sample JB121807_42\n",
      "Done processing sample JB121807_44\n",
      "Done processing sample JB121807_45.1\n",
      "Done processing sample JB121807_46\n",
      "Done processing sample JB121807_47\n",
      "Done processing sample JB121807_48.1\n",
      "Done processing sample JB121807_10_c\n",
      "Done processing sample JB121807_13_c\n",
      "Done processing sample JB121807_22_c\n",
      "Done processing sample JB121807_26_c\n",
      "Done processing sample JB121807_36_c\n",
      "Done processing sample JB121807_39\n",
      "Done processing sample JB121807_03_rep\n",
      "Done processing sample JB121807_05_2\n",
      "Done processing sample JB121807_35_2\n",
      "Done processing sample JB121807_47_2\n",
      "Done processing sample JB121807_23_2\n",
      "Done processing sample JB121807_27_2\n",
      "Done processing sample JB121807_30_2\n",
      "Done processing sample JB121807_16_2\n",
      "Done processing sample JB121807_18\n",
      "Done processing sample JB121807_43\n",
      "Done processing sample JB121807_29\n",
      "Done processing sample JB021108_01.1\n",
      "Done processing sample JB021108_02.1\n",
      "Done processing sample JB021108_04.1\n",
      "Done processing sample JB021108_05\n",
      "Done processing sample JB021108_05_rep\n",
      "Done processing sample JB021108_06\n",
      "Done processing sample JB021108_07.1\n",
      "Done processing sample JB021108_08.1\n",
      "Done processing sample JB021108_09.1\n",
      "Done processing sample JB021108_10.1\n",
      "Done processing sample JB021108_11\n",
      "Done processing sample JB021108_12.1\n",
      "Done processing sample JB021108_13.1\n",
      "Done processing sample JB021108_14\n",
      "Done processing sample JB021108_16\n",
      "Done processing sample JB021108_17.1\n",
      "Done processing sample JB021108_19.1\n",
      "Done processing sample JB021108_20\n",
      "Done processing sample JB021108_22.1\n"
     ]
    },
    {
     "name": "stdout",
     "output_type": "stream",
     "text": [
      "Done processing sample JB021108_25.1\n",
      "Done processing sample JB021108_26.1\n",
      "Done processing sample JB021108_28\n",
      "Done processing sample JB021108_29\n",
      "Done processing sample JB021108_30\n",
      "Done processing sample JB021108_31.1\n",
      "Done processing sample JB021108_32\n",
      "Done processing sample JB021108_33\n",
      "Done processing sample JB021108_34\n",
      "Done processing sample JB021108_35\n",
      "Done processing sample JB021108_35_rep\n",
      "Done processing sample JB021108_36.1\n",
      "Done processing sample JB021108_36_rep.1\n",
      "Done processing sample JB021108_37.1\n",
      "Done processing sample JB021108_37_rep.1\n",
      "Done processing sample JB021108_38.1\n",
      "Done processing sample JB021108_39\n",
      "Done processing sample JB021108_40\n",
      "Done processing sample JB021108_41.1\n",
      "Done processing sample JB021108_44.1\n",
      "Done processing sample JB021108_45\n",
      "Done processing sample JB021108_46.1\n",
      "Done processing sample JB021108_46_rep.1\n",
      "Done processing sample JB021108_47.1\n",
      "Done processing sample JB021108_48.1\n",
      "Done processing sample JB021108_21_c\n",
      "Done processing sample JB021108_27_c\n",
      "Done processing sample JB021108_24_c\n",
      "Done processing sample JB021108_33_rep\n",
      "Done processing sample JB021108_11_2\n",
      "Done processing sample JB021108_28_2\n",
      "Done processing sample JB021108_40_2\n",
      "Done processing sample JB021108_14_2\n",
      "Done processing sample JB021108_25_2\n",
      "Done processing sample JB021108_31_2\n",
      "Done processing sample JB021108_23\n",
      "Done processing sample JB021108_11_rep\n",
      "Done processing sample BOR07_01\n",
      "Done processing sample BOR07_02.1\n",
      "Done processing sample BOR07_03\n",
      "Done processing sample BOR07_04\n",
      "Done processing sample BOR07_05.1\n",
      "Done processing sample BOR07_06.1\n",
      "Done processing sample BOR07_07.1\n",
      "Done processing sample BOR07_08.1\n",
      "Done processing sample BOR07_09\n",
      "Done processing sample BOR07_10.1\n",
      "Done processing sample BOR07_11.1\n",
      "Done processing sample BOR07_12.1\n",
      "Done processing sample BOR07_13.1\n",
      "Done processing sample BOR07_14\n",
      "Done processing sample BOR07_15\n",
      "Done processing sample BOR07_16\n",
      "Done processing sample BOR07_17.1\n",
      "Done processing sample BOR07_18\n",
      "Done processing sample BOR07_19.1\n",
      "Done processing sample BOR07_20.1\n",
      "Done processing sample BOR07_21.1\n",
      "Done processing sample BOR07_22\n",
      "Done processing sample BOR07_01_2\n",
      "Done processing sample BOR07_21_2\n",
      "Done processing sample GEO020414_10\n",
      "Done processing sample GEO020414_11\n",
      "Done processing sample GEO020414_11_300\n",
      "Done processing sample GEO020414_13\n",
      "Done processing sample GEO020414_13_300\n",
      "Done processing sample GEO020414_14\n",
      "Done processing sample GEO020414_14_300\n",
      "Done processing sample GEO020414_15\n",
      "Done processing sample GEO020414_15_300\n",
      "Done processing sample GEO020414_16\n",
      "Done processing sample GEO020414_16_300\n",
      "Done processing sample GEO020414_17\n",
      "Done processing sample GEO020414_17_300\n",
      "Done processing sample GEO020414_2\n",
      "Done processing sample GEO020414_23\n",
      "Done processing sample GEO020414_23_300\n",
      "Done processing sample GEO020414_24\n",
      "Done processing sample GEO020414_24_300\n",
      "Done processing sample GEO020414_25\n",
      "Done processing sample GEO020414_25_300\n",
      "Done processing sample GEO020414_26\n",
      "Done processing sample GEO020414_27\n",
      "Done processing sample GEO020414_29\n",
      "Done processing sample GEO020414_3\n",
      "Done processing sample GEO020414_30\n",
      "Done processing sample GEO020414_4\n",
      "Done processing sample GEO020414_5\n",
      "Done processing sample GEO020414_6\n",
      "Done processing sample GEO020414_7\n",
      "Done processing sample GEO020414_8\n",
      "Done processing sample GEO020414_8_300\n",
      "Done processing sample GEO020414_9\n",
      "Done processing sample GEO020414_9_300\n",
      "Done processing sample GEO020414_10_2\n",
      "Done processing sample GEO020414_30_2\n",
      "Done processing sample GEO020414_13_2\n"
     ]
    }
   ],
   "source": [
    "for sample in samplelist:\n",
    "    fastq = open(\"/media/mfisher5/M_Backup/Pacific cod/DataAnalysis/PCod-Korea-repo/samplesT142/\" + sample + \".fq\", \"r\")\n",
    "    fastqout= open(\"KORsamplesT92/\" + sample + \"_92bp.fq\", \"w\")\n",
    "    for line in fastq:\n",
    "        if line.startswith(\"@\"):\n",
    "            fastqout.write(line)\n",
    "        elif line.startswith(\"+\"):\n",
    "            fastqout.write(line)\n",
    "        else:\n",
    "            linelist = list(line)\n",
    "            if len(linelist) > 1:\n",
    "                newseq = \"\".join(linelist[0:92])\n",
    "                fastqout.write(newseq + \"\\n\")\n",
    "            else:\n",
    "                print \"the sequence did not split into a list by basepair!\"\n",
    "    fastq.close()\n",
    "    fastqout.close()\n",
    "    print \"Done processing sample \" + sample"
   ]
  },
  {
   "cell_type": "code",
   "execution_count": null,
   "metadata": {
    "collapsed": true
   },
   "outputs": [],
   "source": []
  }
 ],
 "metadata": {
  "anaconda-cloud": {},
  "kernelspec": {
   "display_name": "Python 2",
   "language": "python",
   "name": "python2"
  },
  "language_info": {
   "codemirror_mode": {
    "name": "ipython",
    "version": 2
   },
   "file_extension": ".py",
   "mimetype": "text/x-python",
   "name": "python",
   "nbconvert_exporter": "python",
   "pygments_lexer": "ipython2",
   "version": "2.7.13"
  }
 },
 "nbformat": 4,
 "nbformat_minor": 1
}
