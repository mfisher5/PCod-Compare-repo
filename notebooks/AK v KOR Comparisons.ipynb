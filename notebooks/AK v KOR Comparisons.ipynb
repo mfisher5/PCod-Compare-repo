{
 "cells": [
  {
   "cell_type": "markdown",
   "metadata": {},
   "source": [
    "## Alaska PCod v. Korea PCod comparison\n",
    "\n",
    "The Alaskan PCod data has much fewer final filtered loci than the Korean PCod data, despite the processing steps being the same. To explore this further, I BLASTed both final filtered genepop files against each other, and then BLASTed both double-filtered reference databases against each other. \n",
    "\n",
    "<br>\n",
    "<br>\n",
    "### I. BLAST final filtered genepop files against each other\n",
    "\n",
    "### 1) Create fasta files from the final filtered genepop files\n",
    "\n",
    "**Alaska**"
   ]
  },
  {
   "cell_type": "code",
   "execution_count": 1,
   "metadata": {
    "collapsed": false,
    "scrolled": true
   },
   "outputs": [
    {
     "name": "stdout",
     "output_type": "stream",
     "text": [
      "/mnt/hgfs/Pacific cod/DataAnalysis/PCod-US-repo/stacks_b2_wgenome\n"
     ]
    }
   ],
   "source": [
    "cd ../stacks_b2_wgenome"
   ]
  },
  {
   "cell_type": "code",
   "execution_count": 12,
   "metadata": {
    "collapsed": false
   },
   "outputs": [
    {
     "name": "stdout",
     "output_type": "stream",
     "text": [
      "### This python script will create a list of loci from the `populations` output genepop file ###\r\n",
      "\r\n",
      "## ARGUMENTS: \r\n",
      "#ARG 1 - genepop file from `populations`. \r\n",
      "#ARG 2 - the .catalog file output from `cstacks` (unzipped)\r\n",
      "\r\n",
      "\r\n",
      "import sys\r\n",
      "\r\n",
      "#open the genepop file\r\n"
     ]
    }
   ],
   "source": [
    "!head ../scripts/genBOWTIEfasta_from_actualGENEPOP.py"
   ]
  },
  {
   "cell_type": "code",
   "execution_count": 11,
   "metadata": {
    "collapsed": false
   },
   "outputs": [
    {
     "name": "stdout",
     "output_type": "stream",
     "text": [
      "-----\n",
      "Reading loci from file:\n",
      "batch_2_filteredMAF_filteredLoci_filteredIndivids.txt\n",
      "Alaska PCod final genepop batch 2\n",
      "\n",
      "\n",
      "Using sequences from catalog file:\n",
      "batch_2.catalog.tags.tsv\n",
      "\n",
      "Writing new fasta file...\n"
     ]
    }
   ],
   "source": [
    "!python ../scripts/genBOWTIEfasta_from_actualGENEPOP.py \\\n",
    "batch_2_filteredMAF_filteredLoci_filteredIndivids.txt \\\n",
    "batch_2.catalog.tags.tsv"
   ]
  },
  {
   "cell_type": "code",
   "execution_count": 13,
   "metadata": {
    "collapsed": false,
    "scrolled": true
   },
   "outputs": [
    {
     "name": "stdout",
     "output_type": "stream",
     "text": [
      ">7\r\n",
      "TGCAGGTCTCCTTTCTTGGGCAGCAGAGTGAGCACAGCCCTCCTGCAGCTCTGTGGGAGAGAGGAGCGCTCAAAGCTCTGCATGTCTTCCTT\r\n",
      ">23\r\n",
      "TGCAGGTGTTTCCGAGTCCTGCTAGCGTTCCCGAGATTCCCCGCGGGAGTCCTGTCCACACTATTCTAACTTTCACACATTATTTTTAAAGT\r\n",
      ">27\r\n",
      "TGCAGGTTCTCGGGGACGTTCTCCTGGATCTGTACCGCTCGCTCAAGTGGGCGGTGCGCTCGGACCCGGATCCGGTCACCGTGCTCCACGCC\r\n",
      ">35\r\n",
      "TGCAGGAAAATACCTTACTTTATTATCTACAAACTACTACTCATCCACAATTTCTCACCTCAAAATATTTTTTCAATGGCAAAGGCGTCCGT\r\n",
      ">55\r\n",
      "TGCAGGAATTCAGCAGCGGTGGCTGCGACATGATGCTCTGGGCTGTAGGGGCTCTCGGCAACACTATCCCTGGCCAAAGTGTACATGGACAG\r\n"
     ]
    }
   ],
   "source": [
    "!head AK_for_KORblast.fa"
   ]
  },
  {
   "cell_type": "code",
   "execution_count": 17,
   "metadata": {
    "collapsed": false
   },
   "outputs": [],
   "source": [
    "!mv AK_for_KORblast.fa AKb2_for_KORblast.fa"
   ]
  },
  {
   "cell_type": "markdown",
   "metadata": {},
   "source": [
    "<br>\n",
    "<br>\n",
    "\n",
    "**Korea**"
   ]
  },
  {
   "cell_type": "code",
   "execution_count": 44,
   "metadata": {
    "collapsed": false
   },
   "outputs": [
    {
     "name": "stdout",
     "output_type": "stream",
     "text": [
      "/mnt/hgfs/Pacific cod/DataAnalysis/PCod-Korea-repo/stacks_b4_wgenome\n"
     ]
    }
   ],
   "source": [
    "cd /mnt/hgfs/Pacific\\ cod/DataAnalysis/PCod-Korea-repo/stacks_b4_wgenome"
   ]
  },
  {
   "cell_type": "code",
   "execution_count": 46,
   "metadata": {
    "collapsed": false
   },
   "outputs": [
    {
     "name": "stdout",
     "output_type": "stream",
     "text": [
      "-----\n",
      "Reading loci from file:\n",
      "batch_4_filteredMAF_filteredLoci_filteredIndivids_filteredHWE_gen.txt\n",
      "PCod Korea Lanes 1-4 final filtered genepop\n",
      "\n",
      "\n",
      "Using sequences from catalog file:\n",
      "batch_4.catalog.tags.tsv\n",
      "\n",
      "Writing new fasta file...\n"
     ]
    }
   ],
   "source": [
    "!python ../scripts/genBOWTIEfasta_from_actualGENEPOP.py \\\n",
    "batch_4_filteredMAF_filteredLoci_filteredIndivids_filteredHWE_gen.txt \\\n",
    "batch_4.catalog.tags.tsv"
   ]
  },
  {
   "cell_type": "markdown",
   "metadata": {},
   "source": [
    "\n",
    "<br>\n",
    "<br>\n",
    "### 2) Build BLAST database with final filtered Korea fasta file"
   ]
  },
  {
   "cell_type": "code",
   "execution_count": 47,
   "metadata": {
    "collapsed": false
   },
   "outputs": [
    {
     "name": "stdout",
     "output_type": "stream",
     "text": [
      "\n",
      "\n",
      "Building a new DB, current time: 06/13/2017 12:48:14\n",
      "New DB name:   /mnt/hgfs/Pacific cod/DataAnalysis/PCod-Korea-repo/stacks_b4_wgenome/KOR_b4_FinalfFilteredDB\n",
      "New DB title:  KORb4_final_filtered.fa\n",
      "Sequence type: Nucleotide\n",
      "Keep Linkouts: T\n",
      "Keep MBits: T\n",
      "Maximum file size: 1000000000B\n",
      "Adding sequences from FASTA; added 6959 sequences in 0.13215 seconds.\n"
     ]
    }
   ],
   "source": [
    "!makeblastdb -in KORb4_final_filtered.fa \\\n",
    "-parse_seqids \\\n",
    "-dbtype nucl \\\n",
    "-out KOR_b4_FinalfFilteredDB"
   ]
  },
  {
   "cell_type": "markdown",
   "metadata": {},
   "source": [
    "\n",
    "\n",
    "<br>\n",
    "### 3) BLAST the Alaska final filtered fasta against the new Korean BLAST database"
   ]
  },
  {
   "cell_type": "code",
   "execution_count": 51,
   "metadata": {
    "collapsed": false
   },
   "outputs": [
    {
     "data": {
      "text/plain": [
       "u'/mnt/hgfs/Pacific cod/DataAnalysis/PCod-Korea-repo/stacks_b4_wgenome'"
      ]
     },
     "execution_count": 51,
     "metadata": {},
     "output_type": "execute_result"
    }
   ],
   "source": [
    "pwd"
   ]
  },
  {
   "cell_type": "code",
   "execution_count": 53,
   "metadata": {
    "collapsed": true
   },
   "outputs": [],
   "source": [
    "!blastn -query ../../PCod-US-repo/stacks_b2_wgenome/AKb2_for_KORblast.fa \\\n",
    "-db KOR_b4_FinalfFilteredDB \\\n",
    "-out ../../PCod-US-repo/stacks_b2_wgenome/AKb2_BLASTedTo_KORb4_out.fa \\\n",
    "-outfmt 10"
   ]
  },
  {
   "cell_type": "code",
   "execution_count": 54,
   "metadata": {
    "collapsed": false
   },
   "outputs": [
    {
     "name": "stdout",
     "output_type": "stream",
     "text": [
      "/mnt/hgfs/Pacific cod/DataAnalysis/PCod-US-repo/stacks_b2_wgenome\n"
     ]
    }
   ],
   "source": [
    "cd ../../PCod-US-repo/stacks_b2_wgenome"
   ]
  },
  {
   "cell_type": "code",
   "execution_count": 58,
   "metadata": {
    "collapsed": false,
    "scrolled": true
   },
   "outputs": [
    {
     "name": "stdout",
     "output_type": "stream",
     "text": [
      "919\r\n"
     ]
    }
   ],
   "source": [
    "!cat AKb2_BLASTedTo_KORb4_out.fa | sed 's/,/ /' | awk '{print $1}' | sort | uniq | wc -l"
   ]
  },
  {
   "cell_type": "code",
   "execution_count": 46,
   "metadata": {
    "collapsed": false
   },
   "outputs": [
    {
     "data": {
      "text/plain": [
       "0.31205432937181665"
      ]
     },
     "execution_count": 46,
     "metadata": {},
     "output_type": "execute_result"
    }
   ],
   "source": [
    "float(919)/float(2945)"
   ]
  },
  {
   "cell_type": "markdown",
   "metadata": {},
   "source": [
    "\n",
    "<br>\n",
    "** Number of Final Filtered Loci: **\n",
    "\n",
    "** Korea: 7,663 loci**\n",
    "\n",
    "** Alaska: 2,945 loci**\n",
    "\n",
    "** MATCHES: 919 --31.2% of AK loci **"
   ]
  },
  {
   "cell_type": "code",
   "execution_count": 74,
   "metadata": {
    "collapsed": false
   },
   "outputs": [
    {
     "data": {
      "text/plain": [
       "u'/mnt/hgfs/Pacific cod/DataAnalysis/PCod-Korea-repo/stacks_b4_wgenome/refgenome'"
      ]
     },
     "execution_count": 74,
     "metadata": {},
     "output_type": "execute_result"
    }
   ],
   "source": [
    "pwd"
   ]
  },
  {
   "cell_type": "code",
   "execution_count": 1,
   "metadata": {
    "collapsed": false
   },
   "outputs": [
    {
     "name": "stdout",
     "output_type": "stream",
     "text": [
      "/mnt/hgfs/Pacific cod/DataAnalysis/PCod-US-repo/stacks_b2_wgenome\n"
     ]
    }
   ],
   "source": [
    "cd /mnt/hgfs/Pacific\\ cod/DataAnalysis/PCod-US-repo/stacks_b2_wgenome"
   ]
  },
  {
   "cell_type": "code",
   "execution_count": 2,
   "metadata": {
    "collapsed": false
   },
   "outputs": [],
   "source": [
    "# create a dictionary with the # of times each AK locus is matched to a KOR locus\n",
    "myfile = open(\"AKb2_BLASTedTo_KORb4_out.fa\", \"r\")\n",
    "\n",
    "uniqueloci = {}\n",
    "\n",
    "for line in myfile:\n",
    "    locus = line.strip().split(\",\")[0]\n",
    "    if locus not in uniqueloci:\n",
    "        uniqueloci[locus] = 1\n",
    "    elif locus in uniqueloci:\n",
    "        count = uniqueloci[locus]\n",
    "        newcount = int(count) + 1\n",
    "        uniqueloci[locus] = newcount\n",
    "        \n",
    "myfile.close()"
   ]
  },
  {
   "cell_type": "code",
   "execution_count": 3,
   "metadata": {
    "collapsed": false
   },
   "outputs": [
    {
     "name": "stdout",
     "output_type": "stream",
     "text": [
      "<type 'float'>\n"
     ]
    }
   ],
   "source": [
    "#extract counts from dictionary\n",
    "vals = uniqueloci.values()\n",
    "match_counts = []\n",
    "for val in vals:\n",
    "    match_counts.append(float(val))\n",
    "print type(match_counts[20])"
   ]
  },
  {
   "cell_type": "code",
   "execution_count": 23,
   "metadata": {
    "collapsed": false
   },
   "outputs": [
    {
     "data": {
      "text/plain": [
       "56.0"
      ]
     },
     "execution_count": 23,
     "metadata": {},
     "output_type": "execute_result"
    }
   ],
   "source": [
    "max(match_counts)"
   ]
  },
  {
   "cell_type": "code",
   "execution_count": 7,
   "metadata": {
    "collapsed": false
   },
   "outputs": [],
   "source": [
    "import matplotlib.pyplot as plt\n",
    "import numpy as np"
   ]
  },
  {
   "cell_type": "code",
   "execution_count": 31,
   "metadata": {
    "collapsed": false
   },
   "outputs": [
    {
     "data": {
      "image/png": "[encoded data removed]",
      "text/plain": [
       "<matplotlib.figure.Figure at 0x7fae897cc150>"
      ]
     },
     "metadata": {},
     "output_type": "display_data"
    }
   ],
   "source": [
    "#plot frequency of counts\n",
    "plt.hist(match_counts, bins = np.arange(1,60,1), color = \"darkcyan\")\n",
    "plt.suptitle(\"Number of KOR Loci matched to Each AK Locus\")\n",
    "plt.xlabel(\"# of Loci\")\n",
    "plt.ylabel(\"Frequency\")\n",
    "plt.show()"
   ]
  },
  {
   "cell_type": "code",
   "execution_count": 32,
   "metadata": {
    "collapsed": true
   },
   "outputs": [],
   "source": [
    "plt.close()"
   ]
  },
  {
   "cell_type": "code",
   "execution_count": 33,
   "metadata": {
    "collapsed": false,
    "scrolled": true
   },
   "outputs": [
    {
     "data": {
      "image/png": "[encoded data removed]",
      "text/plain": [
       "<matplotlib.figure.Figure at 0x7fae89809890>"
      ]
     },
     "metadata": {},
     "output_type": "display_data"
    }
   ],
   "source": [
    "plt.hist([num for num in match_counts if num > 2] , bins = np.arange(1,60,1), color = \"darkcyan\")\n",
    "plt.suptitle(\"Number of KOR Loci matched to Each AK Locus (For n > 2)\")\n",
    "plt.xlabel(\"# of Loci\")\n",
    "plt.ylabel(\"Frequency\")\n",
    "plt.show()"
   ]
  },
  {
   "cell_type": "code",
   "execution_count": 34,
   "metadata": {
    "collapsed": true
   },
   "outputs": [],
   "source": [
    "plt.close()"
   ]
  },
  {
   "cell_type": "markdown",
   "metadata": {},
   "source": [
    "\n",
    "\n",
    "\n",
    "\n",
    "\n",
    "\n",
    "<br>\n",
    "\n",
    "\n",
    "<br>\n",
    "\n",
    "### II. BLAST each reference database against the other\n",
    "\n",
    "I'm going to BLAST the AK batch 2 fasta against the KOR batch 4 database.\n",
    "\n",
    "I already have BLAST reference databases built from BOWTIE filtered files. But I need a BLAST reference database from BOWTIE and BLAST filtered files. \n",
    "\n",
    "\n",
    "### 1) Build BLAST database from KOR blast & bowtie filtered output file\n",
    "\n",
    "This was the fasta file that I converted to a `.sam` file to align each individual to before `pstacks`."
   ]
  },
  {
   "cell_type": "code",
   "execution_count": 59,
   "metadata": {
    "collapsed": false
   },
   "outputs": [
    {
     "data": {
      "text/plain": [
       "u'/mnt/hgfs/Pacific cod/DataAnalysis/PCod-US-repo/stacks_b2_wgenome'"
      ]
     },
     "execution_count": 59,
     "metadata": {},
     "output_type": "execute_result"
    }
   ],
   "source": [
    "pwd"
   ]
  },
  {
   "cell_type": "code",
   "execution_count": 60,
   "metadata": {
    "collapsed": false
   },
   "outputs": [
    {
     "name": "stdout",
     "output_type": "stream",
     "text": [
      "/mnt/hgfs/Pacific cod/DataAnalysis/PCod-Korea-repo/stacks_b4_wgenome\n"
     ]
    }
   ],
   "source": [
    "cd ../../PCod-Korea-repo/stacks_b4_wgenome"
   ]
  },
  {
   "cell_type": "code",
   "execution_count": 61,
   "metadata": {
    "collapsed": false
   },
   "outputs": [
    {
     "name": "stdout",
     "output_type": "stream",
     "text": [
      "/mnt/hgfs/Pacific cod/DataAnalysis/PCod-Korea-repo/stacks_b4_wgenome/refgenome\n"
     ]
    }
   ],
   "source": [
    "cd refgenome/"
   ]
  },
  {
   "cell_type": "code",
   "execution_count": 62,
   "metadata": {
    "collapsed": false
   },
   "outputs": [
    {
     "name": "stdout",
     "output_type": "stream",
     "text": [
      "\n",
      "\n",
      "Building a new DB, current time: 06/13/2017 13:04:09\n",
      "New DB name:   /mnt/hgfs/Pacific cod/DataAnalysis/PCod-Korea-repo/stacks_b4_wgenome/refgenome/batch_4_BOWTIEBLASTfilteredDB\n",
      "New DB title:  batch_4_BOWTIE_BLAST_filtered.fa\n",
      "Sequence type: Nucleotide\n",
      "Keep Linkouts: T\n",
      "Keep MBits: T\n",
      "Maximum file size: 1000000000B\n",
      "Adding sequences from FASTA; added 25221 sequences in 0.458242 seconds.\n"
     ]
    }
   ],
   "source": [
    "!makeblastdb -in batch_4_BOWTIE_BLAST_filtered.fa \\\n",
    "-parse_seqids \\\n",
    "-dbtype nucl \\\n",
    "-out batch_4_BOWTIEBLASTfilteredDB"
   ]
  },
  {
   "cell_type": "markdown",
   "metadata": {},
   "source": [
    "### 2) BLAST AK batch 2 against new KOR batch 4 database\n",
    "\n",
    "AK batch 2 - this is the file that was filtered through BOWTIE and BLAST that I converted to a .sam file to align each individual to before pstacks.\n"
   ]
  },
  {
   "cell_type": "code",
   "execution_count": 63,
   "metadata": {
    "collapsed": false
   },
   "outputs": [
    {
     "data": {
      "text/plain": [
       "u'/mnt/hgfs/Pacific cod/DataAnalysis/PCod-Korea-repo/stacks_b4_wgenome/refgenome'"
      ]
     },
     "execution_count": 63,
     "metadata": {},
     "output_type": "execute_result"
    }
   ],
   "source": [
    "pwd"
   ]
  },
  {
   "cell_type": "code",
   "execution_count": 64,
   "metadata": {
    "collapsed": true
   },
   "outputs": [],
   "source": [
    "!blastn -query ../../../PCod-US-repo/stacks_b2/refgenome/batch_2_BOWTIE_BLAST_filtered.fa \\\n",
    "-db batch_4_BOWTIEBLASTfilteredDB \\\n",
    "-out ../../../PCod-US-repo/stacks_b2_wgenome/AKb2DB_BLASTedTo_KORb4DB_out.fa \\\n",
    "-outfmt 10"
   ]
  },
  {
   "cell_type": "code",
   "execution_count": 66,
   "metadata": {
    "collapsed": false
   },
   "outputs": [
    {
     "name": "stdout",
     "output_type": "stream",
     "text": [
      "/mnt/hgfs/Pacific cod/DataAnalysis/PCod-US-repo/stacks_b2_wgenome\n"
     ]
    }
   ],
   "source": [
    "cd ../../../PCod-US-repo/stacks_b2_wgenome"
   ]
  },
  {
   "cell_type": "code",
   "execution_count": 68,
   "metadata": {
    "collapsed": false
   },
   "outputs": [
    {
     "name": "stdout",
     "output_type": "stream",
     "text": [
      "14693\r\n"
     ]
    }
   ],
   "source": [
    "!cat AKb2DB_BLASTedTo_KORb4DB_out.fa | sed 's/,/ /' | awk '{print $1}' | sort | uniq | wc -l"
   ]
  },
  {
   "cell_type": "code",
   "execution_count": 45,
   "metadata": {
    "collapsed": false
   },
   "outputs": [
    {
     "data": {
      "text/plain": [
       "0.7531395766056692"
      ]
     },
     "execution_count": 45,
     "metadata": {},
     "output_type": "execute_result"
    }
   ],
   "source": [
    "float(14693)/float(19509)"
   ]
  },
  {
   "cell_type": "markdown",
   "metadata": {},
   "source": [
    "**Number of Loci in BOWTIE & BLAST filtered DB fasta files:**\n",
    "\n",
    "** Korea: 25,221 loci**\n",
    "\n",
    "** Alaska: 19,509 loci**\n",
    "\n",
    "**MATCHES: 14,693 -- 75.3% of AK Loci**\n",
    "\n",
    "\n",
    "<br>"
   ]
  },
  {
   "cell_type": "code",
   "execution_count": 69,
   "metadata": {
    "collapsed": false
   },
   "outputs": [
    {
     "name": "stdout",
     "output_type": "stream",
     "text": [
      "/mnt/hgfs/Pacific cod/DataAnalysis/PCod-US-repo/stacks_b2/refgenome\n"
     ]
    }
   ],
   "source": [
    "cd ../stacks_b2/refgenome/"
   ]
  },
  {
   "cell_type": "code",
   "execution_count": 71,
   "metadata": {
    "collapsed": false
   },
   "outputs": [
    {
     "name": "stdout",
     "output_type": "stream",
     "text": [
      "19509\r\n"
     ]
    }
   ],
   "source": [
    "!grep \"^>\" batch_2_BOWTIE_BLAST_filtered.fa | wc -l"
   ]
  },
  {
   "cell_type": "code",
   "execution_count": 72,
   "metadata": {
    "collapsed": false
   },
   "outputs": [
    {
     "name": "stdout",
     "output_type": "stream",
     "text": [
      "/mnt/hgfs/Pacific cod/DataAnalysis/PCod-Korea-repo/stacks_b4_wgenome/refgenome\n"
     ]
    }
   ],
   "source": [
    "cd ../../../PCod-Korea-repo/stacks_b4_wgenome/refgenome/"
   ]
  },
  {
   "cell_type": "code",
   "execution_count": 73,
   "metadata": {
    "collapsed": false
   },
   "outputs": [
    {
     "name": "stdout",
     "output_type": "stream",
     "text": [
      "25221\r\n"
     ]
    }
   ],
   "source": [
    "!grep \"^>\" batch_4_BOWTIE_BLAST_filtered.fa | wc -l"
   ]
  },
  {
   "cell_type": "code",
   "execution_count": 14,
   "metadata": {
    "collapsed": false
   },
   "outputs": [
    {
     "name": "stdout",
     "output_type": "stream",
     "text": [
      "/mnt/hgfs/Pacific cod/DataAnalysis/PCod-US-repo/stacks_b2_wgenome\n"
     ]
    }
   ],
   "source": [
    "cd /mnt/hgfs/Pacific\\ cod/DataAnalysis/PCod-US-repo/stacks_b2_wgenome"
   ]
  },
  {
   "cell_type": "code",
   "execution_count": 35,
   "metadata": {
    "collapsed": true
   },
   "outputs": [],
   "source": [
    "# create a dictionary with the # of times each AK locus is matched to a KOR locus\n",
    "myfile = open(\"AKb2DB_BLASTedTo_KORb4DB_out.fa\", \"r\")\n",
    "\n",
    "uniqueloci = {}\n",
    "\n",
    "for line in myfile:\n",
    "    locus = line.strip().split(\",\")[0]\n",
    "    if locus not in uniqueloci:\n",
    "        uniqueloci[locus] = 1\n",
    "    elif locus in uniqueloci:\n",
    "        count = uniqueloci[locus]\n",
    "        newcount = int(count) + 1\n",
    "        uniqueloci[locus] = newcount\n",
    "        \n",
    "myfile.close()"
   ]
  },
  {
   "cell_type": "code",
   "execution_count": 36,
   "metadata": {
    "collapsed": false
   },
   "outputs": [
    {
     "name": "stdout",
     "output_type": "stream",
     "text": [
      "<type 'float'>\n"
     ]
    }
   ],
   "source": [
    "#extract counts from dictionary\n",
    "vals = uniqueloci.values()\n",
    "match_counts = []\n",
    "for val in vals:\n",
    "    match_counts.append(float(val))\n",
    "print type(match_counts[20])"
   ]
  },
  {
   "cell_type": "code",
   "execution_count": 37,
   "metadata": {
    "collapsed": false
   },
   "outputs": [
    {
     "data": {
      "text/plain": [
       "56.0"
      ]
     },
     "execution_count": 37,
     "metadata": {},
     "output_type": "execute_result"
    }
   ],
   "source": [
    "max(match_counts)"
   ]
  },
  {
   "cell_type": "code",
   "execution_count": 38,
   "metadata": {
    "collapsed": true
   },
   "outputs": [],
   "source": [
    "import numpy as np\n",
    "import matplotlib.pyplot as plt"
   ]
  },
  {
   "cell_type": "code",
   "execution_count": 41,
   "metadata": {
    "collapsed": false
   },
   "outputs": [
    {
     "data": {
      "image/png": "[encoded data removed]",
      "text/plain": [
       "<matplotlib.figure.Figure at 0x7fae89c81c50>"
      ]
     },
     "metadata": {},
     "output_type": "display_data"
    }
   ],
   "source": [
    "#plot frequency of counts\n",
    "plt.hist(match_counts, bins = np.arange(1,60,1), color = \"darkcyan\")\n",
    "plt.suptitle(\"Number of KOR Loci matched to Each AK Locus\")\n",
    "plt.xlabel(\"# of Loci\")\n",
    "plt.ylabel(\"Frequency\")\n",
    "plt.show()"
   ]
  },
  {
   "cell_type": "code",
   "execution_count": 42,
   "metadata": {
    "collapsed": true
   },
   "outputs": [],
   "source": [
    "plt.close()"
   ]
  },
  {
   "cell_type": "code",
   "execution_count": 43,
   "metadata": {
    "collapsed": false,
    "scrolled": true
   },
   "outputs": [
    {
     "data": {
      "image/png": "[encoded data removed]",
      "text/plain": [
       "<matplotlib.figure.Figure at 0x7fae8a056790>"
      ]
     },
     "metadata": {},
     "output_type": "display_data"
    }
   ],
   "source": [
    "plt.hist([num for num in match_counts if num >2], bins = np.arange(1,60,1), color = \"darkcyan\")\n",
    "plt.suptitle(\"Number of KOR Loci matched to Each AK Locus (For n > 2)\")\n",
    "plt.xlabel(\"# of Loci\")\n",
    "plt.ylabel(\"Frequency\")\n",
    "plt.show()"
   ]
  },
  {
   "cell_type": "code",
   "execution_count": 44,
   "metadata": {
    "collapsed": true
   },
   "outputs": [],
   "source": [
    "plt.close()"
   ]
  },
  {
   "cell_type": "markdown",
   "metadata": {},
   "source": [
    "\n",
    "\n",
    "<br>\n",
    "\n",
    "<br>\n",
    "\n",
    "#### I'm now curious if the cod gene that Dan has been looking at is (a) present and (b) polymorphic in either, or both, populations. \n",
    "\n",
    "**KOR final filtered genepop**"
   ]
  },
  {
   "cell_type": "code",
   "execution_count": 59,
   "metadata": {
    "collapsed": false
   },
   "outputs": [
    {
     "data": {
      "text/plain": [
       "u'/mnt/hgfs/Pacific cod/DataAnalysis/PCod-US-repo/stacks_b2_wgenome/refgenome'"
      ]
     },
     "execution_count": 59,
     "metadata": {},
     "output_type": "execute_result"
    }
   ],
   "source": [
    "pwd"
   ]
  },
  {
   "cell_type": "code",
   "execution_count": 61,
   "metadata": {
    "collapsed": false
   },
   "outputs": [
    {
     "name": "stdout",
     "output_type": "stream",
     "text": [
      "/mnt/hgfs/Pacific cod/DataAnalysis/PCod-Korea-repo/stacks_b4_wgenome\n"
     ]
    }
   ],
   "source": [
    "cd ../../../PCod-Korea-repo/stacks_b4_wgenome"
   ]
  },
  {
   "cell_type": "code",
   "execution_count": 64,
   "metadata": {
    "collapsed": false
   },
   "outputs": [],
   "source": [
    "!blastn -query ../analyses/CodGene.fa \\\n",
    "-db KOR_b4_FinalfFilteredDB \\\n",
    "-out ../analyses/CodGene_to_KORb4finalDB.fa \\"
   ]
  },
  {
   "cell_type": "markdown",
   "metadata": {},
   "source": [
    "\n",
    "**AK final filtered genepop**"
   ]
  },
  {
   "cell_type": "code",
   "execution_count": 53,
   "metadata": {
    "collapsed": false
   },
   "outputs": [
    {
     "name": "stdout",
     "output_type": "stream",
     "text": [
      "/mnt/hgfs/Pacific cod/DataAnalysis/PCod-US-repo/stacks_b2_wgenome\n"
     ]
    }
   ],
   "source": [
    "cd ../../../PCod-US-repo/stacks_b2_wgenome"
   ]
  },
  {
   "cell_type": "code",
   "execution_count": 54,
   "metadata": {
    "collapsed": true
   },
   "outputs": [],
   "source": [
    "!mkdir refgenome"
   ]
  },
  {
   "cell_type": "code",
   "execution_count": 55,
   "metadata": {
    "collapsed": false
   },
   "outputs": [
    {
     "name": "stdout",
     "output_type": "stream",
     "text": [
      "/mnt/hgfs/Pacific cod/DataAnalysis/PCod-US-repo/stacks_b2_wgenome/refgenome\n"
     ]
    }
   ],
   "source": [
    "cd refgenome"
   ]
  },
  {
   "cell_type": "code",
   "execution_count": 57,
   "metadata": {
    "collapsed": false
   },
   "outputs": [
    {
     "name": "stdout",
     "output_type": "stream",
     "text": [
      "\n",
      "\n",
      "Building a new DB, current time: 06/13/2017 14:36:24\n",
      "New DB name:   /mnt/hgfs/Pacific cod/DataAnalysis/PCod-US-repo/stacks_b2_wgenome/refgenome/AK_b2_FinalFilteredDB\n",
      "New DB title:  AKb2_for_KORblast.fa\n",
      "Sequence type: Nucleotide\n",
      "Keep Linkouts: T\n",
      "Keep MBits: T\n",
      "Maximum file size: 1000000000B\n",
      "Adding sequences from FASTA; added 2945 sequences in 0.054538 seconds.\n"
     ]
    }
   ],
   "source": [
    "!makeblastdb -in AKb2_for_KORblast.fa \\\n",
    "-parse_seqids \\\n",
    "-dbtype nucl \\\n",
    "-out AK_b2_FinalFilteredDB"
   ]
  },
  {
   "cell_type": "code",
   "execution_count": 58,
   "metadata": {
    "collapsed": true
   },
   "outputs": [],
   "source": [
    "!blastn -query ../../analyses/CodGene.fa \\\n",
    "-db AK_b2_FinalFilteredDB \\\n",
    "-out ../../analyses/CodGene_to_AKb2finalDB.fa \\"
   ]
  },
  {
   "cell_type": "markdown",
   "metadata": {},
   "source": [
    "\n",
    "<br>\n",
    "**No hits found in either final filtered genepop file... which mean that the gene is not polymorphic in either population. But is it in the reference database for either population?**"
   ]
  },
  {
   "cell_type": "code",
   "execution_count": 65,
   "metadata": {
    "collapsed": false
   },
   "outputs": [
    {
     "data": {
      "text/plain": [
       "u'/mnt/hgfs/Pacific cod/DataAnalysis/PCod-Korea-repo/stacks_b4_wgenome'"
      ]
     },
     "execution_count": 65,
     "metadata": {},
     "output_type": "execute_result"
    }
   ],
   "source": [
    "pwd"
   ]
  },
  {
   "cell_type": "code",
   "execution_count": 66,
   "metadata": {
    "collapsed": false
   },
   "outputs": [
    {
     "name": "stdout",
     "output_type": "stream",
     "text": [
      "/mnt/hgfs/Pacific cod/DataAnalysis/PCod-Korea-repo/stacks_b4_wgenome/refgenome\n"
     ]
    }
   ],
   "source": [
    "cd refgenome"
   ]
  },
  {
   "cell_type": "code",
   "execution_count": 67,
   "metadata": {
    "collapsed": true
   },
   "outputs": [],
   "source": [
    "!blastn -query ../../analyses/CodGene.fa \\\n",
    "-db batch_4_BOWTIEBLASTfilteredDB \\\n",
    "-out ../../analyses/CodGene_to_KORb4refDB.fa \\"
   ]
  },
  {
   "cell_type": "code",
   "execution_count": 68,
   "metadata": {
    "collapsed": false
   },
   "outputs": [
    {
     "name": "stdout",
     "output_type": "stream",
     "text": [
      "/mnt/hgfs/Pacific cod/DataAnalysis/PCod-US-repo/stacks_b2\n"
     ]
    }
   ],
   "source": [
    "cd ../../../PCod-US-repo/stacks_b2"
   ]
  },
  {
   "cell_type": "code",
   "execution_count": 69,
   "metadata": {
    "collapsed": false
   },
   "outputs": [
    {
     "name": "stdout",
     "output_type": "stream",
     "text": [
      "/mnt/hgfs/Pacific cod/DataAnalysis/PCod-US-repo/stacks_b2/refgenome\n"
     ]
    }
   ],
   "source": [
    "cd refgenome"
   ]
  },
  {
   "cell_type": "code",
   "execution_count": 70,
   "metadata": {
    "collapsed": false
   },
   "outputs": [
    {
     "name": "stdout",
     "output_type": "stream",
     "text": [
      "\n",
      "\n",
      "Building a new DB, current time: 06/13/2017 14:41:35\n",
      "New DB name:   /mnt/hgfs/Pacific cod/DataAnalysis/PCod-US-repo/stacks_b2/refgenome/batch_2_BOWTIE_BLAST_filteredDB\n",
      "New DB title:  batch_2_BOWTIE_BLAST_filtered.fa\n",
      "Sequence type: Nucleotide\n",
      "Keep Linkouts: T\n",
      "Keep MBits: T\n",
      "Maximum file size: 1000000000B\n",
      "Adding sequences from FASTA; added 19509 sequences in 0.341612 seconds.\n"
     ]
    }
   ],
   "source": [
    "!makeblastdb -in batch_2_BOWTIE_BLAST_filtered.fa \\\n",
    "-parse_seqids \\\n",
    "-dbtype nucl \\\n",
    "-out batch_2_BOWTIE_BLAST_filteredDB"
   ]
  },
  {
   "cell_type": "code",
   "execution_count": 71,
   "metadata": {
    "collapsed": true
   },
   "outputs": [],
   "source": [
    "!blastn -query ../../analyses/CodGene.fa \\\n",
    "-db batch_2_BOWTIE_BLAST_filteredDB \\\n",
    "-out ../../analyses/CodGene_to_AKb2refDB.fa \\"
   ]
  },
  {
   "cell_type": "markdown",
   "metadata": {},
   "source": [
    "\n",
    "<br>\n",
    "<br>\n",
    "\n",
    "** The gene can be found in both reference databases.**"
   ]
  },
  {
   "cell_type": "code",
   "execution_count": null,
   "metadata": {
    "collapsed": true
   },
   "outputs": [],
   "source": []
  }
 ],
 "metadata": {
  "anaconda-cloud": {},
  "kernelspec": {
   "display_name": "Python [default]",
   "language": "python",
   "name": "python2"
  },
  "language_info": {
   "codemirror_mode": {
    "name": "ipython",
    "version": 2
   },
   "file_extension": ".py",
   "mimetype": "text/x-python",
   "name": "python",
   "nbconvert_exporter": "python",
   "pygments_lexer": "ipython2",
   "version": "2.7.12"
  }
 },
 "nbformat": 4,
 "nbformat_minor": 1
}
