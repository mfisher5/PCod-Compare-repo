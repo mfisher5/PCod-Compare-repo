{
 "cells": [
  {
   "cell_type": "markdown",
   "metadata": {},
   "source": [
    "## Sliding Window Analysis of Heterozygosity\n",
    "\n",
    "I need to conduct a sliding window analysis on per-locus heterozygosity in the eastern Pacific and western Pacific populations of cod. \n",
    "\n",
    "I did all of the steps for this analysis in R, as follows. \n",
    "\n",
    "\n",
    "#### West: 3/29/2018\n",
    "#### East: 3/30/2018\n",
    "#### Plotting: 4/2/2018\n",
    "<br>\n",
    "\n",
    "### 1. Calculate per-locus heterozygosity\n",
    "\n",
    "I used `adegenet` to load my genepop file into R as a `genind` object, and then used `hierfstat` to calculate per locus heterozygosity for the eastern and western populations individually, with the `basic.stats` function. \n",
    "\n",
    "I then manipulated the data frame so that I had an output file with two columns: the locus name, and the observed heterozygosity\n",
    "\n",
    "[Calculate_Heterozygosity_perLocus.R](https://github.com/mfisher5/PCod-Compare-repo/blob/master/analyses/SlidingWindow/Calculate_Heterozygosity_perLocus.R)\n",
    "<br>\n",
    "[West_Ho_perLocus.txt output file](https://github.com/mfisher5/PCod-Compare-repo/blob/master/analyses/SlidingWindow/West_Ho_perLocus.txt)\n",
    "\n",
    "\n",
    "<br>\n",
    "<br>\n",
    "\n",
    "### 2. Conduct Sliding Window Analysis\n",
    "\n",
    "This was completed with some small adjustments to my original sliding window analysis script. \n",
    "\n",
    "[SlidingWindow_Ho_West_MF.R](https://github.com/mfisher5/PCod-Compare-repo/blob/master/analyses/SlidingWindow/SlidingWindow_Ho_West_MF.R)\n",
    "\n",
    "Input files:\n",
    "<br>\n",
    "[batch_8_final_filtered_alignments_summary.txt]()\n",
    "<br>\n",
    "[West_Ho_perLocus.txt](https://github.com/mfisher5/PCod-Compare-repo/blob/master/analyses/SlidingWindow/West_Ho_perLocus.txt)\n",
    "\n",
    "\n",
    "Output file:\n",
    "<br>\n",
    "[Sliding Window Analysis Output](https://github.com/mfisher5/PCod-Compare-repo/blob/master/analyses/SlidingWindow/batch_8_final_filtered_west_HETEROZYGOSITY_kernel_smoothing_1e%2B05_bootstraps_sigma_250000_div150.txt)\n",
    "\n",
    "*Note that in the output file, the sliding window analysis function in R automatically labels the metric as 'Fst/Fct'. I manually re-labeled that column as 'Het' in the above output file.*\n",
    "\n",
    "<br>\n",
    "\n",
    "### 3. Plot Sliding Window Analysis\n",
    "\n",
    "This function is slightly different from my other SWA plotting functions, since I don't need to visualize the bootstrapping intervals; I just want the average line. I also want to be able to plot East pop and West pop heterozygosity on the same chart, with a legend indicating which line is which. \n",
    "\n",
    "[Plot_SlidingWindowAnalysis_FstHet_Function.R](https://github.com/mfisher5/PCod-Compare-repo/blob/master/analyses/SlidingWindow/Plot_SlidingWindowAnalysis_FstHet_Function.R)\n",
    "\n",
    "[Plot_SlidingWindowAnalysis_Functions.R](https://github.com/mfisher5/PCod-Compare-repo/blob/master/analyses/SlidingWindow/Plot_SlidingWindowAnalysis_Functions.R)\n",
    "\n",
    "[Plot_Heterozygosity_SlidingWindow.R](https://github.com/mfisher5/PCod-Compare-repo/blob/master/analyses/SlidingWindow/Plot_Heterozygosity_SlidingWindow.R)\n",
    "\n",
    "<br>\n",
    "\n",
    "#### Example output graph: just heterozygosity\n",
    "\n",
    "![img-het-swa-lg01](https://github.com/mfisher5/PCod-Compare-repo/blob/master/analyses/SlidingWindow/Heterozygosity/SWA_Het_East_West_overlay_LG01.png?raw=true)\n",
    "\n",
    "\n",
    "#### Example output graph: heterozygosity with East v. West Fst Sliding Window Analysis\n",
    "\n",
    "![img-het-eastvwest-lg01](https://github.com/mfisher5/PCod-Compare-repo/blob/master/analyses/SlidingWindow/plots/EastWest/EastvWest_Het_LG01.png?raw=true)\n",
    "\n",
    "![img-het-eastvwest-lg08](https://github.com/mfisher5/PCod-Compare-repo/blob/master/analyses/SlidingWindow/plots/EastWest/EastvWest_Het_LG08.png?raw=true)"
   ]
  },
  {
   "cell_type": "code",
   "execution_count": null,
   "metadata": {
    "collapsed": true
   },
   "outputs": [],
   "source": []
  }
 ],
 "metadata": {
  "kernelspec": {
   "display_name": "Python 2",
   "language": "python",
   "name": "python2"
  },
  "language_info": {
   "codemirror_mode": {
    "name": "ipython",
    "version": 2
   },
   "file_extension": ".py",
   "mimetype": "text/x-python",
   "name": "python",
   "nbconvert_exporter": "python",
   "pygments_lexer": "ipython2",
   "version": "2.7.13"
  }
 },
 "nbformat": 4,
 "nbformat_minor": 2
}
