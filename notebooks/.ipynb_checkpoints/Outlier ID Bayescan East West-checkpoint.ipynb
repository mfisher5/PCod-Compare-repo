{
 "cells": [
  {
   "cell_type": "markdown",
   "metadata": {},
   "source": [
    "# Identifying Outlier Loci with Bayescan, across Eastern & Western pops\n",
    "#### stacks batch 8\n",
    "\n",
    "This notebook contains procedures and code used to identify outliers in the final filtered genepop file. This includes:\n",
    "\n",
    "1. East v. West by sampling site (12 populations in input file)\n",
    "    - priors 100\n",
    "    - priors 1000\n",
    "2. East v. West by site in east, by region in west (8 populations in input file)\n",
    "    - priors 100\n",
    "    - priors 1000\n",
    "<br>\n",
    "\n",
    "**Programs used: **\n",
    "<br>\n",
    "`Bayescan v2.1 `\n",
    "<br>\n",
    "\n",
    "\n",
    "\n",
    "\n",
    "<br>\n",
    "## part 1. \n",
    "[Download](http://cmpg.unibe.ch/software/BayeScan/download.html) includes executable scripts and PDF manual.\n",
    "\n",
    "**(1) Download [PGDSpider](http://www.cmpg.unibe.ch/software/PGDSpider/).** Bayescan uses its own type of input file. They suggest using PGD spider to convert genepop files into this file format\n",
    "\n",
    "**(2) Convert genepop to Bayescan format.** In For SNP data, this can either be a \"codominant\" file format or a \"SNP genotype matrix\" (per Bayescan's user manual). They suggest that if you are not directly interested in Fis, you use SNPs as regular codominant data. In PGDspider, this is just a matter of choosing the file format and file names for the input and ouput files, and then selecting \"SNP\" in two short questions for the SPID file. Note that using an old SPID file here caused an error; I had to create a new one\n",
    "\n",
    "### (3) Run Bayescan using the Windows GUI.\n",
    "I used the following parameters for both runs, with the exception of the prior odds. Prior was run first as 100, then as 1000. \n",
    "\n",
    "![img-bay-start](https://github.com/mfisher5/PCod-Compare-repo/blob/master/notebooks/notebook_pics/bayescan_p100.png?raw=true)\n",
    "[link to bayescan's verification file](https://github.com/mfisher5/PCod-Compare-repo/blob/master/analyses/outliers/Bayescan/batch_8_BAYESCAN_output_eastwest_Verif.txt)\n",
    "\n",
    "Note that I have changed the default \"sample size\" to 20K. This is because in the PCod paper Gruenthal et al. (in review), they reported using 20,000 iterations. according to the Bayescan manual, the \"Number of outputted iterations, default 5000\" appears to be \"sample size\" in the gui and \"-n\" on the command line. \n",
    "\n",
    "<br>\n",
    "\n",
    "These are the input files: \n",
    "<br>\n",
    "[East v. West by site input file]()\n",
    "<br>\n",
    "[East v. West by site / by reg input file]()\n",
    "\n",
    "<br>\n",
    "<br>\n",
    "\n",
    "\n",
    " #### East v. West\n",
    " **RUN 1:** by sampling site, prior odds of 100 (3/30/2018)\n",
    " <br>\n",
    " **RUN 2:** by sampling site, prior odds of 1000 (3/30/2018)\n",
    " <br>\n",
    " **RUN 3:** by site in east, by region in west, prior odds of 100 \n",
    " <br>\n",
    " **RUN 4:** by site in east, by region in west, prior odds of 1000 \n",
    " \n",
    "\n",
    "\n",
    " \n",
    "<br>\n",
    "#### 3/24/2018\n",
    "\n",
    "### (4) Interpreting Bayescan Output.\n",
    "This can be done in R. I use [this R script](https://github.com/mfisher5/PCod-Korea-repo/blob/master/analyses/R/Bayescan_KorPCod_MF.R) \n",
    "\n",
    "The R script includes two options: \n",
    "1.  Use the original Bayescan plotting functions. To do this, you will need the script [Bayescan_plot](https://github.com/mfisher5/PCod-Korea-repo/blob/master/analyses/R/BAYESCAN_plot_R.r). Since PGDspider changes the loci names, you will then need to (1) copy the R console output which lists outlier loci, and (2) use the python script [bayescan_to_stacks_locus_IDs_outliers.py](https://github.com/mfisher5/PCod-Korea-repo/blob/master/analyses/Outliers/bayescan_to_stacks_locus_IDs_outliers.py) to rename loci. \n",
    "    - pro: provides posterior distribution of fst\n",
    "    - con: harder to customize the outlier plot. labeled loci in outlier plot do not correspond to actual loci names. provides a list of outlier loci names only to console.\n",
    "\n",
    "\n",
    "2. Use an alternative plotting function I made with ggplot. You will first need to run the python script [bayescan_to_stacks_locus_IDs.py](https://github.com/mfisher5/PCod-Korea-repo/blob/master/analyses/Outliers/bayescan_to_stacks_locus_IDs.py) (see below) to generate the input file for this. \n",
    "    - pro: creates an input file that is nicely formatted. uses stacks loci names in R, so loci names on outlier plot correspond to actual loci names. will output a file with outlier loci names and all other information included in Bayescan's FST file. \n",
    "    - con: will not provide posterior distribution of fst. \n",
    "    \n",
    "<br>\n",
    "In this notebook, I went with option 2."
   ]
  },
  {
   "cell_type": "code",
   "execution_count": 1,
   "metadata": {},
   "outputs": [
    {
     "data": {
      "text/plain": [
       "u'/mnt/hgfs/PCod-Compare-repo/notebooks'"
      ]
     },
     "execution_count": 1,
     "metadata": {},
     "output_type": "execute_result"
    }
   ],
   "source": [
    "pwd"
   ]
  },
  {
   "cell_type": "code",
   "execution_count": 2,
   "metadata": {},
   "outputs": [
    {
     "name": "stdout",
     "output_type": "stream",
     "text": [
      "/mnt/hgfs/PCod-Compare-repo/analyses/Outliers\n"
     ]
    }
   ],
   "source": [
    "cd ../analyses/Outliers"
   ]
  },
  {
   "cell_type": "code",
   "execution_count": 3,
   "metadata": {},
   "outputs": [
    {
     "name": "stdout",
     "output_type": "stream",
     "text": [
      "usage: bayescan_to_stacks_locus_IDs.py [-h] [-i INPUT] [-gen GENEPOP]\r\n",
      "                                       [-o OUTPUT] [-s SEPARATOR]\r\n",
      "\r\n",
      "Match bayescan outlier loci IDs to the actual stacks IDs (if PGD spider was\r\n",
      "used for file conversion).\r\n",
      "\r\n",
      "optional arguments:\r\n",
      "  -h, --help            show this help message and exit\r\n",
      "  -i INPUT, --input INPUT\r\n",
      "                        fst text file output from bayescan\r\n",
      "  -gen GENEPOP, --genepop GENEPOP\r\n",
      "                        the genepop file used in PGD spyder to create BAYESCAN\r\n",
      "                        input file\r\n",
      "  -o OUTPUT, --output OUTPUT\r\n",
      "                        output text file\r\n",
      "  -s SEPARATOR, --separator SEPARATOR\r\n",
      "                        separator used in genepop file [comma/newline]\r\n"
     ]
    }
   ],
   "source": [
    "!python bayescan_to_stacks_locus_IDs.py -h"
   ]
  },
  {
   "cell_type": "markdown",
   "metadata": {},
   "source": [
    "#### East v. West p100"
   ]
  },
  {
   "cell_type": "code",
   "execution_count": 6,
   "metadata": {},
   "outputs": [
    {
     "name": "stdout",
     "output_type": "stream",
     "text": [
      "indexing stacks loci...\n",
      "You have  4286  loci.\n",
      "copying over BAYESCAN output..\n",
      "Copied over  4286  loci.\n"
     ]
    }
   ],
   "source": [
    "!python bayescan_to_stacks_locus_IDs.py \\\n",
    "-i Bayescan/batch_8_eastwest_p100_output_fst.txt \\\n",
    "-gen ../alignment/batch_8_final_filtered_aligned_genepop.txt \\\n",
    "-s \"newline\" \\\n",
    "-o Bayescan/batch_8_eastwest_Bayescan_p100_fst_stacksIDs.txt"
   ]
  },
  {
   "cell_type": "markdown",
   "metadata": {},
   "source": [
    "#### East v. West p1000"
   ]
  },
  {
   "cell_type": "code",
   "execution_count": 7,
   "metadata": {},
   "outputs": [
    {
     "name": "stdout",
     "output_type": "stream",
     "text": [
      "indexing stacks loci...\n",
      "You have  4286  loci.\n",
      "copying over BAYESCAN output..\n",
      "Copied over  4286  loci.\n"
     ]
    }
   ],
   "source": [
    "!python bayescan_to_stacks_locus_IDs.py \\\n",
    "-i Bayescan/batch_8_eastwest_p1K_output_fst.txt \\\n",
    "-gen ../alignment/batch_8_final_filtered_aligned_genepop.txt \\\n",
    "-s \"newline\" \\\n",
    "-o Bayescan/batch_8_eastwest_Bayescan_p1K_fst_stacksIDs.txt"
   ]
  },
  {
   "cell_type": "markdown",
   "metadata": {},
   "source": [
    "#### West p100"
   ]
  },
  {
   "cell_type": "code",
   "execution_count": 8,
   "metadata": {},
   "outputs": [
    {
     "name": "stdout",
     "output_type": "stream",
     "text": [
      "indexing stacks loci...\n",
      "You have  4286  loci.\n",
      "copying over BAYESCAN output..\n",
      "Copied over  4286  loci.\n"
     ]
    }
   ],
   "source": [
    "!python bayescan_to_stacks_locus_IDs.py \\\n",
    "-i Bayescan/batch_8_west_Bayescan_p100_output_fst.txt \\\n",
    "-gen ../alignment/batch_8_final_filtered_aligned_genepop.txt \\\n",
    "-s \"newline\" \\\n",
    "-o Bayescan/batch_8_west_Bayescan_p100_fst_stacksIDs.txt"
   ]
  },
  {
   "cell_type": "markdown",
   "metadata": {},
   "source": [
    "#### West p1000"
   ]
  },
  {
   "cell_type": "code",
   "execution_count": 9,
   "metadata": {},
   "outputs": [
    {
     "name": "stdout",
     "output_type": "stream",
     "text": [
      "indexing stacks loci...\n",
      "You have  4286  loci.\n",
      "copying over BAYESCAN output..\n",
      "Copied over  4286  loci.\n"
     ]
    }
   ],
   "source": [
    "!python bayescan_to_stacks_locus_IDs.py \\\n",
    "-i Bayescan/batch_8_west_Bayescan_p1K_output_fst.txt \\\n",
    "-gen ../alignment/batch_8_final_filtered_aligned_genepop.txt \\\n",
    "-s \"newline\" \\\n",
    "-o Bayescan/batch_8_west_Bayescan_p1K_fst_stacksIDs.txt"
   ]
  },
  {
   "cell_type": "markdown",
   "metadata": {},
   "source": [
    "** Now switch over to R and use the R script [Bayescan_KorPCod_MF](https://github.com/mfisher5/PCod-Korea-repo/blob/master/analyses/R/Bayescan_KorPCod_MF.R)**\n",
    "\n",
    "<br>\n",
    "#### OUTLIERS:\n",
    "So Bayescan didn't detect *any* outliers between east and west, or within the western populations. This is incorrect, based on previous analyses. My guess is that this is because the input files only had two populations. I'm going to change the inputs so that east v. west is broken down into the following populations:\n",
    "- \"West\": Korea south, Korea west\n",
    "- \"East\": Kodiak, Adak, WashCoast, Hecate Strait, Prince William Sound, Unimak Pass\n",
    "\n",
    "The west is broken down by sampling site, without temporal replicates listed separately:\n",
    "- Pohang, Geoje (2014 & 2015), Namhae, Jinhae Bay (early & late), Yellow Sea Block, Boryeong\n",
    "\n",
    "\n",
    "\n",
    "______________________________________________________________________________________________\n",
    "## part 2.\n",
    "\n",
    "#### 3/24/2018\n",
    "\n",
    "### (3) Run Bayescan using the Windows GUI.\n",
    "I used the following parameters for both runs, with the exception of the prior odds. Prior was run first as 100, then as 1000. \n",
    "\n",
    "![img-bay-start](https://github.com/mfisher5/PCod-Compare-repo/blob/master/notebooks/notebook_pics/bayescan_p100.png?raw=true)\n",
    "[link to bayescan's verification file](https://github.com/mfisher5/PCod-Compare-repo/blob/master/analyses/outliers/Bayescan/batch_8_BAYESCAN_output_eastwest_Verif.txt)\n",
    "\n",
    "Note that I have changed the default \"sample size\" to 20K. This is because in the PCod paper Gruenthal et al. (in review), they reported using 20,000 iterations. according to the Bayescan manual, the \"Number of outputted iterations, default 5000\" appears to be \"sample size\" in the gui and \"-n\" on the command line. \n",
    "\n",
    "<br>\n",
    "\n",
    "These are the input files: \n",
    "<br>\n",
    "[East v. West input file](https://github.com/mfisher5/PCod-Compare-repo/blob/master/analyses/outliers/Bayescan/batch_8_eastwest_Bayescan_input)\n",
    "<br>\n",
    "[West input file](https://github.com/mfisher5/PCod-Compare-repo/blob/master/analyses/outliers/Bayescan/batch_8_west_Bayescan_input)\n",
    "\n",
    "<br>\n",
    "<br>\n",
    "\n",
    "\n",
    " #### East v. West\n",
    " **RUN 1:** prior odds of 100 (3/23/2018)\n",
    " <br>\n",
    " **RUN 2:** prior odds of 1000 (3/23/2018)\n",
    " \n",
    " #### West\n",
    " **RUN 1:** prior odds of 100 (3/23/2018)\n",
    " <br>\n",
    " **RUN 2:** prior odds of 1000 (3/23/2018)\n"
   ]
  },
  {
   "cell_type": "code",
   "execution_count": 1,
   "metadata": {},
   "outputs": [
    {
     "data": {
      "text/plain": [
       "u'/mnt/hgfs/PCod-Compare-repo/notebooks'"
      ]
     },
     "execution_count": 1,
     "metadata": {},
     "output_type": "execute_result"
    }
   ],
   "source": [
    "pwd"
   ]
  },
  {
   "cell_type": "code",
   "execution_count": 2,
   "metadata": {},
   "outputs": [
    {
     "name": "stdout",
     "output_type": "stream",
     "text": [
      "/mnt/hgfs/PCod-Compare-repo/analyses/outliers\n"
     ]
    }
   ],
   "source": [
    "cd ../analyses/outliers/"
   ]
  },
  {
   "cell_type": "code",
   "execution_count": 4,
   "metadata": {},
   "outputs": [
    {
     "name": "stdout",
     "output_type": "stream",
     "text": [
      "indexing stacks loci...\n",
      "You have  4286  loci.\n",
      "copying over BAYESCAN output..\n",
      "Copied over  4286  loci.\n"
     ]
    }
   ],
   "source": [
    "!python bayescan_to_stacks_locus_IDs.py \\\n",
    "-i Bayescan/batch_8_eastwest_bypop_Bayescan_p100_output_fst.txt \\\n",
    "-gen Bayescan/batch_8_final_filtered_aligned_genepop_eastwest_bypop.txt \\\n",
    "-s \"newline\" \\\n",
    "-o Bayescan/batch_8_eastwest_bypop_Bayescan_p100_fst_stacksIDs.txt"
   ]
  },
  {
   "cell_type": "code",
   "execution_count": 5,
   "metadata": {},
   "outputs": [
    {
     "name": "stdout",
     "output_type": "stream",
     "text": [
      "indexing stacks loci...\n",
      "You have  4286  loci.\n",
      "copying over BAYESCAN output..\n",
      "Copied over  4286  loci.\n"
     ]
    }
   ],
   "source": [
    "!python bayescan_to_stacks_locus_IDs.py \\\n",
    "-i Bayescan/batch_8_eastwest_bypop_Bayescan_p1K_output_fst.txt \\\n",
    "-gen Bayescan/batch_8_final_filtered_aligned_genepop_eastwest_bypop.txt \\\n",
    "-s \"newline\" \\\n",
    "-o Bayescan/batch_8_eastwest_bypop_Bayescan_p1K_fst_stacksIDs.txt"
   ]
  },
  {
   "cell_type": "code",
   "execution_count": 6,
   "metadata": {},
   "outputs": [
    {
     "name": "stdout",
     "output_type": "stream",
     "text": [
      "indexing stacks loci...\r\n",
      "You have  4286  loci.\r\n",
      "copying over BAYESCAN output..\r\n",
      "Copied over  4286  loci.\r\n"
     ]
    }
   ],
   "source": [
    "!python bayescan_to_stacks_locus_IDs.py \\\n",
    "-i Bayescan/batch_8_eastwest_bypop_Bayescan_p1K_output_fst.txt \\\n",
    "-gen Bayescan/batch_8_final_filtered_aligned_genepop_eastwest_bypop.txt \\\n",
    "-s \"newline\" \\\n",
    "-o Bayescan/batch_8_eastwest_bypop_Bayescan_p1K_fst_stacksIDs.txt"
   ]
  },
  {
   "cell_type": "code",
   "execution_count": 7,
   "metadata": {},
   "outputs": [
    {
     "name": "stdout",
     "output_type": "stream",
     "text": [
      "indexing stacks loci...\n",
      "You have  4286  loci.\n",
      "copying over BAYESCAN output..\n",
      "Copied over  4286  loci.\n"
     ]
    }
   ],
   "source": [
    "!python bayescan_to_stacks_locus_IDs.py \\\n",
    "-i Bayescan/batch_8_eastwest_bypop_Bayescan_p100_output_fst.txt \\\n",
    "-gen Bayescan/batch_8_final_filtered_aligned_genepop_eastwest_bypop.txt \\\n",
    "-s \"newline\" \\\n",
    "-o Bayescan/batch_8_eastwest_bypop_Bayescan_p100_fst_stacksIDs.txt"
   ]
  },
  {
   "cell_type": "markdown",
   "metadata": {},
   "source": [
    "<br>\n",
    "### part 2. outliers\n",
    "\n",
    "**East v. West**: prior 100 - 318; prior 1000 - 192\n",
    "<br>\n",
    "**West**: 2 outliers\n",
    "\n",
    "<br>\n",
    "## part 3.\n",
    "\n",
    "I'm curious to see how many additional outliers I get when I add in the Salish Sea populations, and when I then run all sampling sites as different populations v. running all regions as populations. I completed two re-runs of Bayescan"
   ]
  },
  {
   "cell_type": "code",
   "execution_count": 8,
   "metadata": {},
   "outputs": [
    {
     "data": {
      "text/plain": [
       "u'/mnt/hgfs/PCod-Compare-repo/analyses/outliers'"
      ]
     },
     "execution_count": 8,
     "metadata": {},
     "output_type": "execute_result"
    }
   ],
   "source": [
    "pwd"
   ]
  },
  {
   "cell_type": "markdown",
   "metadata": {},
   "source": [
    "** All 17 sampling sites; each site its own population **"
   ]
  },
  {
   "cell_type": "code",
   "execution_count": 11,
   "metadata": {},
   "outputs": [
    {
     "name": "stdout",
     "output_type": "stream",
     "text": [
      "indexing stacks loci...\n",
      "You have  4286  loci.\n",
      "copying over BAYESCAN output..\n",
      "Copied over  4286  loci.\n"
     ]
    }
   ],
   "source": [
    "!python bayescan_to_stacks_locus_IDs.py \\\n",
    "-i batch_8_all_Bayescan_p100_rerun_output_fst.txt \\\n",
    "-gen Bayescan/batch_8_final_filtered_aligned_genepop_eastwest_rerun.txt \\\n",
    "-s \"newline\" \\\n",
    "-o batch_8_all_Bayescan_p100_rerun_fst_stacksIDs.txt"
   ]
  },
  {
   "cell_type": "markdown",
   "metadata": {},
   "source": [
    "**All 17 sampling sites; **\n",
    "<br>\n",
    "**West population by region**\n",
    "<br>\n",
    "**East population coastal sites each own pop; salish sea one pop**"
   ]
  },
  {
   "cell_type": "code",
   "execution_count": 12,
   "metadata": {},
   "outputs": [
    {
     "name": "stdout",
     "output_type": "stream",
     "text": [
      "indexing stacks loci...\n",
      "You have  4286  loci.\n",
      "copying over BAYESCAN output..\n",
      "Copied over  4286  loci.\n"
     ]
    }
   ],
   "source": [
    "!python bayescan_to_stacks_locus_IDs.py \\\n",
    "-i batch_8_all_byreg_Bayescan_p100_rerun_output_fst.txt \\\n",
    "-gen Bayescan/batch_8_final_filtered_aligned_genepop_eastwest_byreg_rerun.txt \\\n",
    "-s \"newline\" \\\n",
    "-o batch_8_all_byreg_Bayescan_p100_rerun_fst_stacksIDs.txt"
   ]
  },
  {
   "cell_type": "code",
   "execution_count": null,
   "metadata": {
    "collapsed": true
   },
   "outputs": [],
   "source": []
  }
 ],
 "metadata": {
  "kernelspec": {
   "display_name": "Python 2",
   "language": "python",
   "name": "python2"
  },
  "language_info": {
   "codemirror_mode": {
    "name": "ipython",
    "version": 2
   },
   "file_extension": ".py",
   "mimetype": "text/x-python",
   "name": "python",
   "nbconvert_exporter": "python",
   "pygments_lexer": "ipython2",
   "version": "2.7.13"
  }
 },
 "nbformat": 4,
 "nbformat_minor": 2
}
