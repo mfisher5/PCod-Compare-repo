{
 "cells": [
  {
   "cell_type": "markdown",
   "metadata": {},
   "source": [
    "## Marker Number in Sliding Window Analysis\n",
    "\n",
    "<br>\n",
    "Although the function for sliding window analysis is fantastic, it will calculate an average even if there is only 1 marker in the window. Since this isn't really an average, I want to remove these positions from the plotting input. In order to do that, I must go through the sliding window analysis output and put \"NA\" in any row which has fewer than 2 markers contributing to the average. \n",
    "\n",
    "<br>\n",
    "\n",
    "This notebook contains the following: \n",
    "1. Histogram of the number of markers per sliding window\n",
    "2. R Script for filtering averages with fewer than 2 markers\n",
    "\n",
    "\n",
    "<br>\n",
    "<br>\n",
    "#### 3/24/2018\n",
    "\n",
    "<br>\n",
    "![img-eastvwest](https://github.com/mfisher5/PCod-Compare-repo/blob/master/analyses/SlidingWindow/swa_markers_per_window_eastwest.png?raw=true)\n",
    "\n",
    "\n",
    "<br>\n",
    "![img-west](https://github.com/mfisher5/PCod-Compare-repo/blob/master/analyses/SlidingWindow/swa_markers_per_window_west.png?raw=true)\n",
    "\n",
    "\n",
    "<br>\n",
    "![img-east](https://github.com/mfisher5/PCod-Compare-repo/blob/master/analyses/SlidingWindow/swa_markers_per_window_east.png?raw=true)"
   ]
  },
  {
   "cell_type": "markdown",
   "metadata": {},
   "source": [
    "### Filter based on marker density\n",
    "\n",
    "This R script will take as input the (1) input file for sliding window analysis, which it uses to calculate marker density, and (2) the output file from sliding window analysis, which it will filter per the designated cutoff. \n",
    "\n",
    "\n",
    "Code in this script partly sourced from another R script by Charlie Waters. \n",
    "\n",
    "\n",
    "**Script**: [R script](https://github.com/mfisher5/PCod-Compare-repo/blob/master/analyses/SlidingWindow/Filter_Marker_Density_SlidingWindow_MF.R)\n",
    "<br>\n",
    "\n",
    "**Example Input**: [Sorted SWA Input](https://github.com/mfisher5/PCod-Compare-repo/blob/master/analyses/SlidingWindow/batch_8_SWA_input_west_sorted.txt), [SWA Output File](https://github.com/mfisher5/PCod-Compare-repo/blob/master/analyses/SlidingWindow/EastvWest/batch_8_SWA_eastwest_output_kernel_smoothing_1e%2B05_bootstraps_sigma_250000_div150.txt)\n",
    "<br>\n",
    "\n",
    "**Example Output**: [SWA Output Filtered](https://github.com/mfisher5/PCod-Compare-repo/blob/master/analyses/SlidingWindow/EastvWest/batch_8_SWA_eastwest_output_kernel_smoothing_1e%2B5_bootstraps_sigma_250000_div15_FILTERED.txt)\n",
    "\n",
    "<br>\n",
    "<br>\n",
    "\n",
    "I set my cutoff at 2 markers.\n",
    "\n",
    "**Number of data points removed**:\n",
    "<br> \n",
    "East v. West = 45 \n",
    "<br>\n",
    "West = 72\n",
    "<br>\n",
    "East = 105"
   ]
  },
  {
   "cell_type": "code",
   "execution_count": null,
   "metadata": {
    "collapsed": true
   },
   "outputs": [],
   "source": []
  }
 ],
 "metadata": {
  "kernelspec": {
   "display_name": "Python 2",
   "language": "python",
   "name": "python2"
  },
  "language_info": {
   "codemirror_mode": {
    "name": "ipython",
    "version": 2
   },
   "file_extension": ".py",
   "mimetype": "text/x-python",
   "name": "python",
   "nbconvert_exporter": "python",
   "pygments_lexer": "ipython2",
   "version": "2.7.13"
  }
 },
 "nbformat": 4,
 "nbformat_minor": 2
}
