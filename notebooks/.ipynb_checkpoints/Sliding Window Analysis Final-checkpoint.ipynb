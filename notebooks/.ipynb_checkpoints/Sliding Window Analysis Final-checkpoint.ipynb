{
 "cells": [
  {
   "cell_type": "markdown",
   "metadata": {},
   "source": [
    "# Sliding window analysis\n",
    "\n",
    "#### Batch 8 final \n",
    "\n",
    "<br>\n",
    "This notebook contains the first two out of three steps to conduct a sliding window analysis of the FST of aligned Pacific cod loci across the Atlantic cod genome. \n",
    "\n",
    "**Procedure is based on:** Hohenlohe PA et al. (2010) PlOsGenetics 6(2):e1000862\n",
    "\n",
    "**Scripts were borrowed from:** Charlie Waters, Marine Brieuc, Kot Ono\n",
    "\n",
    "**Programs used:** `R v3.4.0`, `python v2.7`, `genepop v4.2`\n",
    "\n",
    "<br>\n",
    "**Steps: **\n",
    "<br>\n",
    "[\n",
    "1. Calculate FST using Genepop\n",
    "2. Prepare an input file for R with PCod locus ID, ACod chromosome, alignment position, and FST\n",
    "3. Run Analysis in R\n",
    "4. Python plots: exploring number / density of markers\n",
    "5. Plotting Genome Scans in R (basic, with # markers per window, with outlier loci)\n",
    "\n",
    "]\n",
    "<br>\n",
    "x 3: One for east-west comparison, one for within-west FST, one for within-east (coastline only) FST\n",
    "\n",
    "<br>\n",
    "\n",
    "#### 3/23/2018\n",
    "(rerun with final filtered file)\n",
    "\n",
    "<br>\n",
    "\n",
    "## 1. Calculate FST\n",
    "\n",
    "Genepop `Option 6 >> Suboption 2`: Estimating spatial structure: Allele identity (F-statistics) For all population pairs\n",
    "<br>\n",
    "I did this with the genepop files: \n",
    "\n",
    "1. Two populations: sampling sites split into east (US/CAN) and west (Korea)\n",
    "2. Two populations: sampling sites of the western group split into regions (west / south , where I have the most samples)\n",
    "3. Six populations: coastal sampling sites of the eastern group (no Salish Sea)\n",
    "<br>\n",
    "\n",
    "\n",
    "### Distribution of FST and parsed file with FST values\n",
    "\n",
    "**East v. West**"
   ]
  },
  {
   "cell_type": "code",
   "execution_count": 4,
   "metadata": {},
   "outputs": [
    {
     "name": "stdout",
     "output_type": "stream",
     "text": [
      "/mnt/hgfs/PCod-Compare-repo/analyses/SlidingWindow\n"
     ]
    }
   ],
   "source": [
    "cd ../analyses/SlidingWindow/"
   ]
  },
  {
   "cell_type": "code",
   "execution_count": 5,
   "metadata": {},
   "outputs": [
    {
     "name": "stdout",
     "output_type": "stream",
     "text": [
      "Fst was not calculated for  0  loci.\n"
     ]
    }
   ],
   "source": [
    "###################### objects ###############################\n",
    "myfile = \"batch_8_final_filtered_aligned_genepop_eastwest.txt.ST2\" # genepop output\n",
    "newfile = \"batch_8_final_filtered_aligned_genepop_eastwest_parsed.txt\" # parsed output from this script\n",
    "###############################################################\n",
    "\n",
    "# open file and read all lines into a string \n",
    "infile = open(myfile, \"r\")\n",
    "lines = infile.read()\n",
    "infile.close()\n",
    "\n",
    "# split the string into a list, with each element starting with \"Locus:\"\n",
    "linelist = lines.split(\"Locus:\")[1:]\n",
    "\n",
    "# save the locus name and FST from each element into a dictionary\n",
    "fst_dict = {}\n",
    "for i in linelist:\n",
    "    ilist = i.strip().split()\n",
    "    fst_dict[ilist[0].split(\"_\")[0]] = ilist[5]\n",
    "\n",
    "# write to output file\n",
    "outfile = open(newfile, \"w\")\n",
    "outfile.write(\"Locus\\tFst\\n\")\n",
    "\n",
    "fst_list = []\n",
    "fst_NA = 0\n",
    "for i in fst_dict.keys():\n",
    "    if fst_dict[i] == \"-\":\n",
    "        fst_NA += 1\n",
    "    else:\n",
    "        fst_list.append(fst_dict[i])\n",
    "        outfile.write(i + \"\\t\" + fst_dict[i] + \"\\n\")\n",
    "outfile.close()\n",
    "\n",
    "print \"Fst was not calculated for \", fst_NA, \" loci.\""
   ]
  },
  {
   "cell_type": "markdown",
   "metadata": {},
   "source": [
    "Verify number of loci parsed:"
   ]
  },
  {
   "cell_type": "code",
   "execution_count": 6,
   "metadata": {},
   "outputs": [
    {
     "data": {
      "text/plain": [
       "4286"
      ]
     },
     "execution_count": 6,
     "metadata": {},
     "output_type": "execute_result"
    }
   ],
   "source": [
    "len(fst_dict.keys())"
   ]
  },
  {
   "cell_type": "markdown",
   "metadata": {},
   "source": [
    "Plot"
   ]
  },
  {
   "cell_type": "code",
   "execution_count": 7,
   "metadata": {},
   "outputs": [
    {
     "data": {
      "image/png": "[encoded data removed]",
      "text/plain": [
       "<matplotlib.figure.Figure at 0x7f6dfdd20f50>"
      ]
     },
     "metadata": {},
     "output_type": "display_data"
    }
   ],
   "source": [
    "import matplotlib.pyplot as plt\n",
    "import numpy as np\n",
    "plt.hist([float(i) for i in fst_list])\n",
    "plt.suptitle(\"By Locus FST Values East v. West\")\n",
    "plt.xlabel(\"FST values\")\n",
    "plt.ylabel(\"# of Loci\")\n",
    "plt.show()"
   ]
  },
  {
   "cell_type": "code",
   "execution_count": 8,
   "metadata": {
    "collapsed": true
   },
   "outputs": [],
   "source": [
    "plt.close()"
   ]
  },
  {
   "cell_type": "markdown",
   "metadata": {},
   "source": [
    "** West **"
   ]
  },
  {
   "cell_type": "code",
   "execution_count": 9,
   "metadata": {},
   "outputs": [
    {
     "name": "stdout",
     "output_type": "stream",
     "text": [
      "Fst was not calculated for  1127  loci.\n"
     ]
    }
   ],
   "source": [
    "###################### objects ###############################\n",
    "myfile = \"batch_8_final_filtered_aligned_genepop_west.txt.ST2\" # genepop output\n",
    "newfile = \"batch_8_final_filtered_aligned_genepop_west_parsed.txt\" # parsed output from this script\n",
    "###############################################################\n",
    "\n",
    "# open file and read all lines into a string \n",
    "infile = open(myfile, \"r\")\n",
    "lines = infile.read()\n",
    "infile.close()\n",
    "\n",
    "# split the string into a list, with each element starting with \"Locus:\"\n",
    "linelist = lines.split(\"Locus:\")[1:]\n",
    "\n",
    "# save the locus name and FST from each element into a dictionary\n",
    "fst_dict = {}\n",
    "for i in linelist:\n",
    "    ilist = i.strip().split()\n",
    "    fst_dict[ilist[0].split(\"_\")[0]] = ilist[5]\n",
    "\n",
    "# write to output file\n",
    "outfile = open(newfile, \"w\")\n",
    "outfile.write(\"Locus\\tFst\\n\")\n",
    "\n",
    "fst_list = []\n",
    "fst_NA = 0\n",
    "for i in fst_dict.keys():\n",
    "    if fst_dict[i] == \"-\":\n",
    "        fst_NA += 1\n",
    "    else:\n",
    "        fst_list.append(fst_dict[i])\n",
    "        outfile.write(i + \"\\t\" + fst_dict[i] + \"\\n\")\n",
    "outfile.close()\n",
    "\n",
    "print \"Fst was not calculated for \", fst_NA, \" loci.\""
   ]
  },
  {
   "cell_type": "markdown",
   "metadata": {},
   "source": [
    "Verify number of loci parsed:"
   ]
  },
  {
   "cell_type": "code",
   "execution_count": 10,
   "metadata": {},
   "outputs": [
    {
     "data": {
      "text/plain": [
       "4286"
      ]
     },
     "execution_count": 10,
     "metadata": {},
     "output_type": "execute_result"
    }
   ],
   "source": [
    "len(fst_dict.keys())"
   ]
  },
  {
   "cell_type": "markdown",
   "metadata": {},
   "source": [
    "Plot"
   ]
  },
  {
   "cell_type": "code",
   "execution_count": 11,
   "metadata": {},
   "outputs": [
    {
     "data": {
      "image/png": "[encoded data removed]",
      "text/plain": [
       "<matplotlib.figure.Figure at 0x7f6e14649e90>"
      ]
     },
     "metadata": {},
     "output_type": "display_data"
    }
   ],
   "source": [
    "import matplotlib.pyplot as plt\n",
    "import numpy as np\n",
    "plt.hist([float(i) for i in fst_list])\n",
    "plt.suptitle(\"By Locus FST Values West\\n(southern v. western coast)\")\n",
    "plt.xlabel(\"FST values\")\n",
    "plt.ylabel(\"# of Loci\")\n",
    "plt.show()"
   ]
  },
  {
   "cell_type": "code",
   "execution_count": 12,
   "metadata": {
    "collapsed": true
   },
   "outputs": [],
   "source": [
    "plt.close()"
   ]
  },
  {
   "cell_type": "markdown",
   "metadata": {},
   "source": [
    "#### East, Coastal\n",
    "\n",
    "Global Fst, using Genepop `option 6 >> suboption 1`"
   ]
  },
  {
   "cell_type": "code",
   "execution_count": null,
   "metadata": {
    "collapsed": true
   },
   "outputs": [],
   "source": []
  },
  {
   "cell_type": "markdown",
   "metadata": {},
   "source": [
    "<br>\n",
    "<br>\n",
    "\n",
    "## 2. Create Input file for R\n",
    "\n",
    "There are two steps here. First, I need to parse out the alignment information from my filtered .sam file. Then I need to concatenate that file with my parsed FST file, keeping only the loci where FST is available. \n",
    "\n",
    "<br>\n",
    "### Parse Alignment\n"
   ]
  },
  {
   "cell_type": "code",
   "execution_count": 13,
   "metadata": {
    "collapsed": true
   },
   "outputs": [],
   "source": [
    "###################### objects ###############################\n",
    "myfile = \"../alignment/batch_8_final_filtered_gadMor2LG_filteredMQ.sam\" # genepop output\n",
    "newfile = \"batch_8_final_filtered_alignments_summary.txt\" # parsed output from this script\n",
    "###############################################################\n",
    "\n",
    "infile = open(myfile, \"r\")\n",
    "outfile = open(newfile, \"w\")\n",
    "outfile.write(\"Locus\\tLG\\tPosition\\n\")\n",
    "for line in infile:\n",
    "    linelist = line.strip().split()\n",
    "    new_list = [linelist[0].strip(\"Locus\"), linelist[2], linelist[3]]\n",
    "    outfile.write(\"\\t\".join(new_list) + \"\\n\")\n",
    "infile.close()\n",
    "outfile.close()"
   ]
  },
  {
   "cell_type": "markdown",
   "metadata": {},
   "source": [
    "### Join Files\n",
    "\n",
    "I did this step in RStudio. It is the beginning of the Sliding Window Analysis R script (generic version [here](https://github.com/mfisher5/PCod-Compare-repo/blob/master/analyses/SlidingWindow/SlidingWindow_MF.R)).\n",
    "\n",
    "<br>\n",
    "<br>\n",
    "\n",
    "## 3. Run sliding window analysis in R\n",
    "\n",
    "\n",
    "I used the following R scripts and input files: \n",
    "\n",
    "East v. West [R Script](https://github.com/mfisher5/PCod-Compare-repo/blob/master/analyses/SlidingWindow/SlidingWindow_EastWest_MF.R), [Input File](https://github.com/mfisher5/PCod-Compare-repo/blob/master/analyses/SlidingWindow/EastvWest/batch_8_final_filtered_SWA_input_eastwest.txt)\n",
    "<br>\n",
    "West [R Script](https://github.com/mfisher5/PCod-Compare-repo/blob/master/analyses/SlidingWindow/SlidingWindow_West_MF.R), [Input File](https://github.com/mfisher5/PCod-Compare-repo/blob/master/analyses/SlidingWindow/West/batch_8_final_filtered_SWA_input_west_2reg.txt)\n",
    "<br>\n",
    "East [R Script](https://github.com/mfisher5/PCod-Compare-repo/blob/master/analyses/SlidingWindow/SlidingWindow_East_MF.R), [Input File](https://github.com/mfisher5/PCod-Compare-repo/blob/master/analyses/SlidingWindow/West/batch_8_final_filtered_SWA_input_east.txt)\n",
    "<br>\n",
    "*Note that input files were sorted by chromosome and position within the sliding window analysis script.*\n",
    "\n",
    "<br>\n",
    "#### more on sliding window analysis:\n",
    "\n",
    "Sliding window analysis uses a \"kernel-smoothing moving average.\" The width of the window and the weight of each point are defined using a Gaussian function (`exp(-(-p-c)^2/2(sigma^2)`). Bootstrap resampling is used to assign significance values to moving average values of FST (or whatever population-level statistic you are working with).\n",
    "<br>\n",
    "\n",
    "There are three variable parameters that need to be defined: \n",
    "\n",
    "1. Sigma - the variance in the Gaussian function. The weighted average window is truncated at `3*sigma` for computational efficiency. Hohenlohe et al. (2010) used a sigma = 150 kb\n",
    "2. Step size - how many base pairs the window moves over before it repeats the calculation of a weighted average. In the R code, \"divisions\" is specified instead of step side. Hohenlohe et al. (2010) used a step size = 100 kb. *with a step size of 100kb, and about 20 million base pairs per linkage group, Hohenlohe et al. (2010) end up with approximately 200 divisions.*\n",
    "3. Replicates used in bootstrapping - Hohenlohe et al. (2010) tested out 100, 1000, 10000, 1 million, 10 million. Charlie uses 1 million. \n",
    "\n",
    "\n",
    "<br>\n",
    "\n",
    "\n",
    "For my first final through of the analysis, I'm going to use the following parameters for the R code:\n",
    "1. Sigma - 250kb\n",
    "2. Divisions - 150\n",
    "3. Bootstrap replicates - 100,000 \n",
    "\n",
    "<br>\n",
    "#### 150 divisions = what step size per linkage group?\n",
    "\n",
    "\n"
   ]
  },
  {
   "cell_type": "code",
   "execution_count": 1,
   "metadata": {},
   "outputs": [
    {
     "name": "stdout",
     "output_type": "stream",
     "text": [
      "/mnt/hgfs/PCod-Compare-repo/ACod_reference\n"
     ]
    }
   ],
   "source": [
    "cd ../ACod_reference/"
   ]
  },
  {
   "cell_type": "code",
   "execution_count": 7,
   "metadata": {},
   "outputs": [
    {
     "name": "stdout",
     "output_type": "stream",
     "text": [
      "Step Sizes in Kilobases\n"
     ]
    },
    {
     "data": {
      "text/plain": [
       "[150.06869333333333,\n",
       " 160.99422,\n",
       " 155.09769333333332,\n",
       " 144.90468666666666,\n",
       " 169.21542666666667,\n",
       " 178.6459066666667,\n",
       " 208.21918,\n",
       " 169.76413333333332,\n",
       " 160.49370000000002,\n",
       " 232.03548,\n",
       " 196.34036666666668,\n",
       " 160.36270666666667,\n",
       " 188.69301333333334,\n",
       " 150.3617,\n",
       " 141.17506666666668,\n",
       " 195.31288,\n",
       " 177.31972666666667,\n",
       " 207.28828666666666,\n",
       " 127.66138000000001,\n",
       " 168.69537333333332,\n",
       " 192.95311999999998,\n",
       " 181.98649333333336,\n",
       " 171.17823333333334]"
      ]
     },
     "execution_count": 7,
     "metadata": {},
     "output_type": "execute_result"
    }
   ],
   "source": [
    "########### objects #############\n",
    "infile = open(\"lg_scaff_lengths.txt\", \"r\")\n",
    "step_sizes = []\n",
    "#################################\n",
    "\n",
    "infile.readline() # header\n",
    "line = infile.readline()\n",
    "while line.startswith(\"LG\"):\n",
    "    length = int(line.strip().split()[1])\n",
    "    step_sizes.append(float(length)/float(150)/float(1000))\n",
    "    line = infile.readline()\n",
    "infile.close()\n",
    "\n",
    "print \"Step Sizes in Kilobases\"\n",
    "step_sizes"
   ]
  },
  {
   "cell_type": "markdown",
   "metadata": {},
   "source": [
    "\n",
    "<br>\n",
    "<br>\n",
    "<br>\n",
    "\n",
    "\n",
    "\n",
    "## 4. Markers per LG\n",
    "\n",
    "How many markers were aligned to each linkage group?\n",
    "\n",
    "** East v. West **"
   ]
  },
  {
   "cell_type": "code",
   "execution_count": 3,
   "metadata": {},
   "outputs": [
    {
     "data": {
      "text/plain": [
       "u'/mnt/hgfs/PCod-Compare-repo/notebooks'"
      ]
     },
     "execution_count": 3,
     "metadata": {},
     "output_type": "execute_result"
    }
   ],
   "source": [
    "pwd"
   ]
  },
  {
   "cell_type": "code",
   "execution_count": 8,
   "metadata": {},
   "outputs": [
    {
     "name": "stdout",
     "output_type": "stream",
     "text": [
      "/mnt/hgfs/PCod-Compare-repo/analyses/SlidingWindow\n"
     ]
    }
   ],
   "source": [
    "cd ../analyses/SlidingWindow/"
   ]
  },
  {
   "cell_type": "code",
   "execution_count": 10,
   "metadata": {
    "collapsed": true
   },
   "outputs": [],
   "source": [
    "###################### objects ###############################\n",
    "myfile = \"batch_8_final_filtered_aligned_SWA_input_eastwest_globalFst_sorted.txt\"\n",
    "###############################################################\n",
    "\n",
    "# read all lines in infile into object\n",
    "infile = open(myfile, \"r\")\n",
    "lines = infile.readlines()\n",
    "infile.close()\n",
    "\n",
    "# get chromosome numbers\n",
    "chrom_list = []\n",
    "for line in lines[1:]:\n",
    "    # note that all chromosome names start with \"LG\"\n",
    "    newchrom = line.split(\"LG\")[1].split(\"\\t\")[0]\n",
    "    if newchrom not in chrom_list:\n",
    "        chrom_list.append(newchrom)\n",
    "\n",
    "# count occurrance\n",
    "counts = []\n",
    "all_lines = \",\".join(lines)\n",
    "for chrom in chrom_list:\n",
    "    n_markers = all_lines.count(\"LG\" + chrom)\n",
    "    counts.append(n_markers)"
   ]
  },
  {
   "cell_type": "code",
   "execution_count": 11,
   "metadata": {},
   "outputs": [
    {
     "data": {
      "image/png": "[encoded data removed]",
      "text/plain": [
       "<matplotlib.figure.Figure at 0x7f47e52dfad0>"
      ]
     },
     "metadata": {},
     "output_type": "display_data"
    }
   ],
   "source": [
    "import matplotlib.pyplot as plt\n",
    "import numpy as np\n",
    "plt.hist([float(i) for i in counts])\n",
    "plt.suptitle(\"# Markers per Linkage Group\")\n",
    "plt.xlabel(\"# Markers\")\n",
    "plt.ylabel(\"# Linkage Groups\")\n",
    "plt.show()"
   ]
  },
  {
   "cell_type": "code",
   "execution_count": 12,
   "metadata": {
    "collapsed": true
   },
   "outputs": [],
   "source": [
    "plt.close()"
   ]
  },
  {
   "cell_type": "markdown",
   "metadata": {},
   "source": [
    "<br>\n",
    "<br>\n",
    "** West**"
   ]
  },
  {
   "cell_type": "code",
   "execution_count": 13,
   "metadata": {
    "collapsed": true
   },
   "outputs": [],
   "source": [
    "###################### objects ###############################\n",
    "myfile = \"West/batch_8_SWA_input_west_sorted.txt\"\n",
    "###############################################################\n",
    "\n",
    "# read all lines in infile into object\n",
    "infile = open(myfile, \"r\")\n",
    "lines = infile.readlines()\n",
    "infile.close()\n",
    "\n",
    "# get chromosome numbers\n",
    "chrom_list = []\n",
    "for line in lines[1:]:\n",
    "    # note that all chromosome names start with \"LG\"\n",
    "    newchrom = line.split(\"LG\")[1].split(\"\\t\")[0]\n",
    "    if newchrom not in chrom_list:\n",
    "        chrom_list.append(newchrom)\n",
    "\n",
    "# count occurrance\n",
    "counts = []\n",
    "all_lines = \",\".join(lines)\n",
    "for chrom in chrom_list:\n",
    "    n_markers = all_lines.count(\"LG\" + chrom)\n",
    "    counts.append(n_markers)"
   ]
  },
  {
   "cell_type": "code",
   "execution_count": 14,
   "metadata": {},
   "outputs": [
    {
     "data": {
      "image/png": "[encoded data removed]",
      "text/plain": [
       "<matplotlib.figure.Figure at 0x7f47d84eb7d0>"
      ]
     },
     "metadata": {},
     "output_type": "display_data"
    }
   ],
   "source": [
    "import matplotlib.pyplot as plt\n",
    "import numpy as np\n",
    "plt.hist([float(i) for i in counts])\n",
    "plt.suptitle(\"# Markers per Linkage Group\")\n",
    "plt.xlabel(\"# Markers\")\n",
    "plt.ylabel(\"# Linkage Groups\")\n",
    "plt.show()"
   ]
  },
  {
   "cell_type": "code",
   "execution_count": 15,
   "metadata": {
    "collapsed": true
   },
   "outputs": [],
   "source": [
    "plt.close()"
   ]
  },
  {
   "cell_type": "markdown",
   "metadata": {},
   "source": [
    "<br>\n",
    "<br>\n",
    "** East**"
   ]
  },
  {
   "cell_type": "code",
   "execution_count": 16,
   "metadata": {
    "collapsed": true
   },
   "outputs": [],
   "source": [
    "###################### objects ###############################\n",
    "myfile = \"East/batch_8_SWA_input_east_sorted.txt\"\n",
    "###############################################################\n",
    "\n",
    "# read all lines in infile into object\n",
    "infile = open(myfile, \"r\")\n",
    "lines = infile.readlines()\n",
    "infile.close()\n",
    "\n",
    "# get chromosome numbers\n",
    "chrom_list = []\n",
    "for line in lines[1:]:\n",
    "    # note that all chromosome names start with \"LG\"\n",
    "    newchrom = line.split(\"LG\")[1].split(\"\\t\")[0]\n",
    "    if newchrom not in chrom_list:\n",
    "        chrom_list.append(newchrom)\n",
    "\n",
    "# count occurrance\n",
    "counts = []\n",
    "all_lines = \",\".join(lines)\n",
    "for chrom in chrom_list:\n",
    "    n_markers = all_lines.count(\"LG\" + chrom)\n",
    "    counts.append(n_markers)"
   ]
  },
  {
   "cell_type": "code",
   "execution_count": 17,
   "metadata": {},
   "outputs": [
    {
     "data": {
      "image/png": "[encoded data removed]",
      "text/plain": [
       "<matplotlib.figure.Figure at 0x7f47d8369350>"
      ]
     },
     "metadata": {},
     "output_type": "display_data"
    }
   ],
   "source": [
    "import matplotlib.pyplot as plt\n",
    "import numpy as np\n",
    "plt.hist([float(i) for i in counts])\n",
    "plt.suptitle(\"# Markers per Linkage Group\")\n",
    "plt.xlabel(\"# Markers\")\n",
    "plt.ylabel(\"# Linkage Groups\")\n",
    "plt.show()"
   ]
  },
  {
   "cell_type": "code",
   "execution_count": 18,
   "metadata": {
    "collapsed": true
   },
   "outputs": [],
   "source": [
    "plt.close()"
   ]
  },
  {
   "cell_type": "markdown",
   "metadata": {
    "collapsed": true
   },
   "source": [
    "<br>\n",
    "<br>\n",
    "______________________________\n",
    "\n",
    "## Sliding Window Analysis Across Genome\n",
    "\n",
    "The first sliding window analysis was run on location data by linkage group. I also wanted to run a sliding window analysis across the entire genome, rather than separated by linkage group. In order to do this, I [calculated the cumulative position](https://github.com/mfisher5/PCod-Compare-repo/blob/master/analyses/SlidingWindow/calc_cumulative_position.xlsx) of each locus using the total lengths of each linkage group.\n",
    "\n",
    "I then re-ran sliding window analysis for all comparisons. \n",
    "\n",
    "I used **3450 divisions** (150 divisions per linkage group) and the same window size as above, **250kb**.\n",
    "\n",
    "\n",
    "\n",
    "East v. West [R Script](https://github.com/mfisher5/PCod-Compare-repo/blob/master/analyses/SlidingWindow/SlidingWindow_EastWest_MF.R), [Input File](https://github.com/mfisher5/PCod-Compare-repo/blob/master/analyses/SlidingWindow/EastvWest/batch_8_final_filtered_SWA_input_eastwest_sorted_cpos.txt)\n",
    "<br>\n",
    "West [R Script](https://github.com/mfisher5/PCod-Compare-repo/blob/master/analyses/SlidingWindow/SlidingWindow_West_MF.R), [Input File](https://github.com/mfisher5/PCod-Compare-repo/blob/master/analyses/SlidingWindow/West/batch_8_final_filtered_SWA_input_west_2reg_sorted_cpos.txt)"
   ]
  },
  {
   "cell_type": "markdown",
   "metadata": {},
   "source": [
    "<br>\n",
    "<br>\n",
    "<br>\n",
    "________________________\n",
    "\n",
    "\n",
    "#### 4/4/2018\n",
    "\n",
    "\n",
    "## Sliding Window Analysis Rerun: East v. West"
   ]
  },
  {
   "cell_type": "markdown",
   "metadata": {
    "collapsed": true
   },
   "source": [
    "Genepop `Option 6 >> Suboption 1`: Estimating spatial structure: Allele identity (F-statistics) For all populations [global Fst]\n",
    "<br>\n",
    "I did this with the genepop files: \n",
    "\n",
    "1. Twelve populations: all sampling sites across east (US/CAN coastline) and west (Korea)\n",
    "\n",
    "\n",
    "*This created null Fst values that I did not have in my original pairwise calculations. The R script that I ran had to filter out these null values, giving me a total of 4,231 loci instead of 4,286*\n",
    "\n",
    "\n",
    "### Distribution of FST and parsed file with FST values\n",
    "\n",
    "I copied over the chart at the end of the genepop file into excel, and then moved over only the columns with locus name and Fst into a text file.\n"
   ]
  },
  {
   "cell_type": "code",
   "execution_count": 1,
   "metadata": {},
   "outputs": [
    {
     "data": {
      "text/plain": [
       "u'/mnt/hgfs/PCod-Compare-repo/notebooks'"
      ]
     },
     "execution_count": 1,
     "metadata": {},
     "output_type": "execute_result"
    }
   ],
   "source": [
    "pwd"
   ]
  },
  {
   "cell_type": "code",
   "execution_count": 2,
   "metadata": {},
   "outputs": [
    {
     "name": "stdout",
     "output_type": "stream",
     "text": [
      "/mnt/hgfs/PCod-Compare-repo/analyses/SlidingWindow\n"
     ]
    }
   ],
   "source": [
    "cd ../analyses/SlidingWindow/"
   ]
  },
  {
   "cell_type": "code",
   "execution_count": 5,
   "metadata": {},
   "outputs": [
    {
     "name": "stdout",
     "output_type": "stream",
     "text": [
      "Loci that were missing Fst values (out of 4,862):\n",
      "55\n"
     ]
    },
    {
     "data": {
      "image/png": "[encoded data removed]",
      "text/plain": [
       "<matplotlib.figure.Figure at 0x7fa81c1b8890>"
      ]
     },
     "metadata": {},
     "output_type": "display_data"
    }
   ],
   "source": [
    "############ objects #############\n",
    "infile = open(\"EastvWest/batch_8_final_filtered_aligned_genepop_eastwest_globalFst_parsed.txt\")\n",
    "###################################\n",
    "\n",
    "infile.readline() # header\n",
    "\n",
    "fst = []\n",
    "count = 0\n",
    "for line in infile:\n",
    "    newfst = line.strip().split()[1]\n",
    "    if newfst != \"-\":\n",
    "        fst.append(newfst)\n",
    "    else:\n",
    "        count += 1\n",
    "infile.close()\n",
    "print \"Loci that were missing Fst values (out of 4,862):\"\n",
    "print count\n",
    "\n",
    "import matplotlib.pyplot as plt\n",
    "import numpy as np\n",
    "import matplotlib.pyplot as plt\n",
    "import numpy as np\n",
    "plt.hist([float(i) for i in fst])\n",
    "plt.suptitle(\"By Locus FST Values East v. West\\n(global FST)\")\n",
    "plt.xlabel(\"FST values\")\n",
    "plt.ylabel(\"# of Loci\")\n",
    "plt.show()"
   ]
  },
  {
   "cell_type": "code",
   "execution_count": 6,
   "metadata": {
    "collapsed": true
   },
   "outputs": [],
   "source": [
    "plt.close()"
   ]
  },
  {
   "cell_type": "markdown",
   "metadata": {},
   "source": [
    "### 2. Create input file for R\n",
    "\n",
    "I already created the alignment summary file that I need to join to my Fst file. \n",
    "\n",
    "I did the joining step in RStudio. It is the beginning of the Sliding Window Analysis R script (generic version [here](https://github.com/mfisher5/PCod-Compare-repo/blob/master/analyses/SlidingWindow/SlidingWindow_MF.R)).\n",
    "\n",
    "<br>\n",
    "<br>\n",
    "\n",
    "### 3. Run analysis in R\n",
    "\n",
    "\n",
    "I used the following R scripts and input files: \n",
    "\n",
    "East v. West [R Script](https://github.com/mfisher5/PCod-Compare-repo/blob/master/analyses/SlidingWindow/SlidingWindow_EastWest_globalFST_MF.R), [Input File](https://github.com/mfisher5/PCod-Compare-repo/blob/master/analyses/SlidingWindow/EastvWest/batch_8_final_filtered_aligned_SWA_input_eastwest_globalFst_sorted.txt)"
   ]
  },
  {
   "cell_type": "code",
   "execution_count": null,
   "metadata": {
    "collapsed": true
   },
   "outputs": [],
   "source": []
  },
  {
   "cell_type": "markdown",
   "metadata": {},
   "source": [
    "\n",
    "\n",
    "\n",
    "\n",
    "### 4. Markers per LG\n",
    "\n",
    "How many markers were aligned to each linkage group?\n",
    "\n",
    "** East v. West **"
   ]
  },
  {
   "cell_type": "code",
   "execution_count": 19,
   "metadata": {},
   "outputs": [
    {
     "data": {
      "text/plain": [
       "u'/mnt/hgfs/PCod-Compare-repo/analyses/SlidingWindow'"
      ]
     },
     "execution_count": 19,
     "metadata": {},
     "output_type": "execute_result"
    }
   ],
   "source": [
    "pwd"
   ]
  },
  {
   "cell_type": "code",
   "execution_count": 20,
   "metadata": {
    "collapsed": true
   },
   "outputs": [],
   "source": [
    "###################### objects ###############################\n",
    "myfile = \"batch_8_final_filtered_aligned_SWA_input_eastwest_globalFst_sorted.txt\"\n",
    "###############################################################\n",
    "\n",
    "# read all lines in infile into object\n",
    "infile = open(myfile, \"r\")\n",
    "lines = infile.readlines()\n",
    "infile.close()\n",
    "\n",
    "# get chromosome numbers\n",
    "chrom_list = []\n",
    "for line in lines[1:]:\n",
    "    # note that all chromosome names start with \"LG\"\n",
    "    newchrom = line.split(\"LG\")[1].split(\"\\t\")[0]\n",
    "    if newchrom not in chrom_list:\n",
    "        chrom_list.append(newchrom)\n",
    "\n",
    "# count occurrance\n",
    "counts = []\n",
    "all_lines = \",\".join(lines)\n",
    "for chrom in chrom_list:\n",
    "    n_markers = all_lines.count(\"LG\" + chrom)\n",
    "    counts.append(n_markers)"
   ]
  },
  {
   "cell_type": "code",
   "execution_count": 21,
   "metadata": {},
   "outputs": [
    {
     "data": {
      "image/png": "[encoded data removed]",
      "text/plain": [
       "<matplotlib.figure.Figure at 0x7f47d837d390>"
      ]
     },
     "metadata": {},
     "output_type": "display_data"
    }
   ],
   "source": [
    "import matplotlib.pyplot as plt\n",
    "import numpy as np\n",
    "plt.hist([float(i) for i in counts])\n",
    "plt.suptitle(\"# Markers per Linkage Group\")\n",
    "plt.xlabel(\"# Markers\")\n",
    "plt.ylabel(\"# Linkage Groups\")\n",
    "plt.show()"
   ]
  },
  {
   "cell_type": "code",
   "execution_count": 22,
   "metadata": {
    "collapsed": true
   },
   "outputs": [],
   "source": [
    "plt.close()"
   ]
  },
  {
   "cell_type": "code",
   "execution_count": null,
   "metadata": {
    "collapsed": true
   },
   "outputs": [],
   "source": []
  },
  {
   "cell_type": "markdown",
   "metadata": {},
   "source": [
    "<br>\n",
    "<br>\n",
    "<br>\n",
    "________________________\n",
    "\n",
    "\n",
    "#### 4/4/2018\n",
    "\n",
    "\n",
    "## Sliding Window Analysis Rerun: West"
   ]
  },
  {
   "cell_type": "markdown",
   "metadata": {
    "collapsed": true
   },
   "source": [
    "Genepop `Option 6 >> Suboption 1`: Estimating spatial structure: Allele identity (F-statistics) For all populations [global Fst]\n",
    "<br>\n",
    "I did this with the genepop files: \n",
    "\n",
    "1. Seven populations: all sampling sites along western and southern coastline (JB one site, GE two sites)\n",
    "\n",
    "\n",
    "*This created null Fst values that I did not have in my original pairwise calculations. I filtered these out by hand in excel, giving me 3,414 loci instead of 4,286*\n",
    "\n",
    "\n",
    "### Distribution of FST and parsed file with FST values\n",
    "\n",
    "I copied over the chart at the end of the genepop file into excel, and then moved over only the columns with locus name and Fst into a text file.\n"
   ]
  },
  {
   "cell_type": "code",
   "execution_count": 1,
   "metadata": {},
   "outputs": [
    {
     "data": {
      "text/plain": [
       "u'/mnt/hgfs/PCod-Compare-repo/notebooks'"
      ]
     },
     "execution_count": 1,
     "metadata": {},
     "output_type": "execute_result"
    }
   ],
   "source": [
    "pwd"
   ]
  },
  {
   "cell_type": "code",
   "execution_count": 2,
   "metadata": {},
   "outputs": [
    {
     "name": "stdout",
     "output_type": "stream",
     "text": [
      "/mnt/hgfs/PCod-Compare-repo/analyses/SlidingWindow\n"
     ]
    }
   ],
   "source": [
    "cd ../analyses/SlidingWindow/"
   ]
  },
  {
   "cell_type": "code",
   "execution_count": 5,
   "metadata": {},
   "outputs": [
    {
     "name": "stdout",
     "output_type": "stream",
     "text": [
      "Loci that were missing Fst values (out of 4,862):\n",
      "0\n"
     ]
    },
    {
     "data": {
      "image/png": "[encoded data removed]",
      "text/plain": [
       "<matplotlib.figure.Figure at 0x7ff0a41ccf10>"
      ]
     },
     "metadata": {},
     "output_type": "display_data"
    }
   ],
   "source": [
    "############ objects #############\n",
    "infile = open(\"West/batch_8_final_filtered_aligned_genepop_west_parsed_globalFst.txt\")\n",
    "###################################\n",
    "\n",
    "infile.readline() # header\n",
    "\n",
    "fst = []\n",
    "count = 0\n",
    "for line in infile:\n",
    "    newfst = line.strip().split()[1]\n",
    "    if newfst != \"-\":\n",
    "        fst.append(newfst)\n",
    "    else:\n",
    "        count += 1\n",
    "infile.close()\n",
    "print \"Loci that were missing Fst values (out of 4,862):\"\n",
    "print count\n",
    "\n",
    "import matplotlib.pyplot as plt\n",
    "import numpy as np\n",
    "import matplotlib.pyplot as plt\n",
    "import numpy as np\n",
    "plt.hist([float(i) for i in fst])\n",
    "plt.suptitle(\"By Locus FST Values West\\n(global FST)\")\n",
    "plt.xlabel(\"FST values\")\n",
    "plt.ylabel(\"# of Loci\")\n",
    "plt.show()"
   ]
  },
  {
   "cell_type": "code",
   "execution_count": 6,
   "metadata": {
    "collapsed": true
   },
   "outputs": [],
   "source": [
    "plt.close()"
   ]
  },
  {
   "cell_type": "code",
   "execution_count": null,
   "metadata": {
    "collapsed": true
   },
   "outputs": [],
   "source": []
  }
 ],
 "metadata": {
  "kernelspec": {
   "display_name": "Python 2",
   "language": "python",
   "name": "python2"
  },
  "language_info": {
   "codemirror_mode": {
    "name": "ipython",
    "version": 2
   },
   "file_extension": ".py",
   "mimetype": "text/x-python",
   "name": "python",
   "nbconvert_exporter": "python",
   "pygments_lexer": "ipython2",
   "version": "2.7.13"
  }
 },
 "nbformat": 4,
 "nbformat_minor": 2
}
