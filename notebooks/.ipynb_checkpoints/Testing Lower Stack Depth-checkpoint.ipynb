{
 "cells": [
  {
   "cell_type": "markdown",
   "metadata": {},
   "source": [
    "## Testing Lower Stack Depth\n",
    "\n",
    "In my combined data set for batch 1, I encountered a lot of missing genotypes in the Alaskan samples. The hypothesis is that this is because lower stack depth is preventing pstacks from genotyping individuals at a locus (not that the cat locus isn't being aligned to in the original .sam files). So I want to see if using a lower stack depth for pstacks is going to help genotype Alaskan individuals. But first I need to make sure that we can *trust* the genotypes generated with a lower stack depth. \n",
    "\n",
    "\n",
    "In this notebook, I ...\n",
    "1. subset n = 50 Korean individuals\n",
    "2. subsample the reads in the `.sam` alignment files in those individuals\n",
    "3. run my new, subsampled data files through stacks: pstacks --> sstacks --> populations\n",
    "4. extract from the populations output file the SNPs that were genotyped in `batch 1`\n",
    "5. compare genotypes between batches for the subset of individuals\n",
    "\n",
    "\n",
    "<br>\n",
    "#### 9/20/2017\n",
    "<br>\n",
    "### Step One: Subset Korean individuals\n",
    "\n"
   ]
  },
  {
   "cell_type": "code",
   "execution_count": 1,
   "metadata": {
    "collapsed": false
   },
   "outputs": [
    {
     "name": "stdout",
     "output_type": "stream",
     "text": [
      "/mnt/hgfs/Pacific cod/DataAnalysis/PCod-Compare-repo\n"
     ]
    }
   ],
   "source": [
    "cd ../"
   ]
  },
  {
   "cell_type": "code",
   "execution_count": 4,
   "metadata": {
    "collapsed": true
   },
   "outputs": [],
   "source": [
    "import random\n",
    "\n",
    "# create a list of 50 random numbers\n",
    "index = random.sample(range(0,325,1), 50)\n",
    "\n",
    "popmap = open(\"scripts/PopMap_KOR.txt\", \"r\")\n",
    "new_popmap = open(\"scripts/PopMap_KOR_subset.txt\", \"w\")\n",
    "\n",
    "# if the line number in the popmap is in the list of 50 random numbers, write out that sample to the new popmap\n",
    "i = 0\n",
    "for line in popmap:\n",
    "    if i in index:\n",
    "        new_popmap.write(line)\n",
    "    i += 1\n",
    "popmap.close()\n",
    "new_popmap.close()"
   ]
  },
  {
   "cell_type": "markdown",
   "metadata": {},
   "source": [
    "### Step Two: Subsample reads from each individual's .sam file\n",
    "\n",
    "in order to do this, I must come up with a proportion of the .sam files that I want to keep, to make the Korean files approximately the same size as Alaskan files. \n",
    "\n",
    "In the excel file `readsVtags_KOR_batch1` I took the top 10 `.sam` files with the largest number of reads from each population. I then divided each pair: AK # reads / KOR # reads, and took the average. \n",
    "\n",
    "The proportion I ended up with was `0.87`."
   ]
  },
  {
   "cell_type": "code",
   "execution_count": 19,
   "metadata": {
    "collapsed": false
   },
   "outputs": [
    {
     "name": "stdout",
     "output_type": "stream",
     "text": [
      "/mnt/hgfs/Pacific cod/DataAnalysis/PCod-Compare-repo\n"
     ]
    }
   ],
   "source": [
    "cd ../"
   ]
  },
  {
   "cell_type": "code",
   "execution_count": 24,
   "metadata": {
    "collapsed": false
   },
   "outputs": [],
   "source": [
    "## First, I need to unzip the sam files for these individuals ##\n",
    "infile = open(\"scripts/PopMap_KOR_subset.txt\", \"r\")\n",
    "bash_array = []\n",
    "for line in infile:\n",
    "    bash_array.append(line.strip().split()[0] + \".sam.gz\")\n",
    "infile.close()\n",
    "\n",
    "outfile = open(\"scripts/gunzip_Korean_subset.sh\", \"w\")\n",
    "outfile.write(\"#!/bin/bash\\n\")\n",
    "for sample in bash_array:\n",
    "    outfile.write(\"gzip -d ../../PCod-Korea-repo/stacks_b7_wgenome/\" + sample + \"\\n\")\n",
    "outfile.close()"
   ]
  },
  {
   "cell_type": "code",
   "execution_count": 25,
   "metadata": {
    "collapsed": false,
    "scrolled": true
   },
   "outputs": [
    {
     "name": "stdout",
     "output_type": "stream",
     "text": [
      "#!/bin/bash\r\n",
      "gzip -d ../../PCod-Korea-repo/stacks_b7_wgenome/PO010715_26.sam.gz\r\n",
      "gzip -d ../../PCod-Korea-repo/stacks_b7_wgenome/PO010715_27.1.sam.gz\r\n",
      "gzip -d ../../PCod-Korea-repo/stacks_b7_wgenome/PO020515_10.1.sam.gz\r\n",
      "gzip -d ../../PCod-Korea-repo/stacks_b7_wgenome/PO031715_04.sam.gz\r\n",
      "gzip -d ../../PCod-Korea-repo/stacks_b7_wgenome/PO031715_23.sam.gz\r\n",
      "gzip -d ../../PCod-Korea-repo/stacks_b7_wgenome/PO010715_07_rep.sam.gz\r\n",
      "gzip -d ../../PCod-Korea-repo/stacks_b7_wgenome/GE011215_08.1.sam.gz\r\n",
      "gzip -d ../../PCod-Korea-repo/stacks_b7_wgenome/GE011215_30.1.sam.gz\r\n",
      "gzip -d ../../PCod-Korea-repo/stacks_b7_wgenome/GE012315_05.1.sam.gz\r\n"
     ]
    }
   ],
   "source": [
    "!head scripts/gunzip_Korean_subset.sh"
   ]
  },
  {
   "cell_type": "code",
   "execution_count": 29,
   "metadata": {
    "collapsed": false
   },
   "outputs": [
    {
     "data": {
      "text/plain": [
       "u'/mnt/hgfs/Pacific cod/DataAnalysis/PCod-Compare-repo'"
      ]
     },
     "execution_count": 29,
     "metadata": {},
     "output_type": "execute_result"
    }
   ],
   "source": [
    "pwd"
   ]
  },
  {
   "cell_type": "code",
   "execution_count": 30,
   "metadata": {
    "collapsed": true
   },
   "outputs": [],
   "source": [
    "!mkdir stacks_b2_wgenome"
   ]
  },
  {
   "cell_type": "code",
   "execution_count": 35,
   "metadata": {
    "collapsed": false,
    "scrolled": true
   },
   "outputs": [
    {
     "name": "stdout",
     "output_type": "stream",
     "text": [
      "read in sample list.\n",
      "created new file for sample  PO010715_26\n",
      "created new file for sample  PO010715_27.1\n",
      "created new file for sample  PO020515_10.1\n",
      "created new file for sample  PO031715_04\n",
      "created new file for sample  PO031715_23\n",
      "created new file for sample  PO010715_07_rep\n",
      "created new file for sample  GE011215_08.1\n",
      "created new file for sample  GE011215_30.1\n",
      "created new file for sample  GE012315_05.1\n",
      "created new file for sample  GE012315_10.1\n",
      "created new file for sample  GEO012315_02\n",
      "created new file for sample  GEO012315_12\n",
      "created new file for sample  GEO012315_18\n",
      "created new file for sample  GEO012315_21\n",
      "created new file for sample  GE012315_11_2\n",
      "created new file for sample  GE011215_11\n",
      "created new file for sample  NA021015_02.1\n",
      "created new file for sample  NA021015_10.1\n",
      "created new file for sample  NA021015_25\n",
      "created new file for sample  YS_121316_18\n",
      "created new file for sample  YS_121316_28\n",
      "created new file for sample  YS_121316_29\n",
      "created new file for sample  YS_121316_21_2\n",
      "created new file for sample  JUK07_14\n",
      "created new file for sample  JUK07_15\n",
      "created new file for sample  JUK07_29.1\n",
      "created new file for sample  JUK07_32\n",
      "created new file for sample  JUK07_13\n",
      "created new file for sample  JUK07_12\n",
      "created new file for sample  JB121807_01\n",
      "created new file for sample  JB121807_05\n",
      "created new file for sample  JB121807_12.1\n",
      "created new file for sample  JB121807_19.1\n",
      "created new file for sample  JB121807_25\n",
      "created new file for sample  JB121807_33.1\n",
      "created new file for sample  JB121807_41.1\n",
      "created new file for sample  JB121807_05_2\n",
      "created new file for sample  JB121807_23_2\n",
      "created new file for sample  JB021108_25.1\n",
      "created new file for sample  JB021108_45\n",
      "created new file for sample  JB021108_46_rep.1\n",
      "created new file for sample  JB021108_48.1\n",
      "created new file for sample  BOR07_07.1\n",
      "created new file for sample  BOR07_10.1\n",
      "created new file for sample  BOR07_12.1\n",
      "created new file for sample  GEO020414_11\n",
      "created new file for sample  GEO020414_16\n",
      "created new file for sample  GEO020414_2\n",
      "created new file for sample  GEO020414_27\n",
      "created new file for sample  GEO020414_4\n"
     ]
    }
   ],
   "source": [
    "## Subsampling ##\n",
    "\n",
    "popmap = open(\"scripts/PopMap_KOR_subset.txt\", \"r\")\n",
    "\n",
    "#create sample list\n",
    "sample_List = []\n",
    "for line in popmap:\n",
    "    sample_List.append(line.strip().split()[0])\n",
    "popmap.close()\n",
    "print \"read in sample list.\"\n",
    "\n",
    "proportion = 0.50\n",
    "\n",
    "\n",
    "for sample in sample_List:\n",
    "    # find length of samfile\n",
    "    samfile = open(\"../PCod-Korea-repo/stacks_b7_wgenome/\" + sample + \".sam\", \"r\")\n",
    "    nlines = 0\n",
    "    for line in samfile:\n",
    "        nlines += 1\n",
    "    keeplines = float(proportion) * float(nlines)\n",
    "    samfile.close()\n",
    "    \n",
    "    # write new samfile, abbreviated\n",
    "    samfile = open(\"../PCod-Korea-repo/stacks_b7_wgenome/\" + sample + \".sam\", \"r\")\n",
    "    newfile = open(\"stacks_b2_wgenome/\" + sample + \"_subset.sam\", \"w\")\n",
    "    count = 0\n",
    "    line = samfile.readline()\n",
    "    while line.startswith(\"@\"):\n",
    "        newfile.write(line)\n",
    "        line = samfile.readline()\n",
    "    while count < keeplines:\n",
    "        newfile.write(samfile.readline())\n",
    "        count += 1\n",
    "    samfile.close()\n",
    "    newfile.close()\n",
    "    print \"created new file for sample \", sample"
   ]
  },
  {
   "cell_type": "markdown",
   "metadata": {},
   "source": [
    "### Run pstacks through populations"
   ]
  },
  {
   "cell_type": "code",
   "execution_count": 48,
   "metadata": {
    "collapsed": false
   },
   "outputs": [
    {
     "data": {
      "text/plain": [
       "u'/mnt/hgfs/Pacific cod/DataAnalysis/PCod-Compare-repo/scripts'"
      ]
     },
     "execution_count": 48,
     "metadata": {},
     "output_type": "execute_result"
    }
   ],
   "source": [
    "pwd"
   ]
  },
  {
   "cell_type": "code",
   "execution_count": 49,
   "metadata": {
    "collapsed": false
   },
   "outputs": [],
   "source": [
    "!python pstacks_populations_genShell_KORdepthSubset_9-21.py PopMap_KOR_subset.txt"
   ]
  },
  {
   "cell_type": "code",
   "execution_count": 50,
   "metadata": {
    "collapsed": false
   },
   "outputs": [
    {
     "name": "stdout",
     "output_type": "stream",
     "text": [
      "#!/bin/bash\r\n",
      "\r\n",
      "#pstacks\r\n",
      "pstacks -t sam -f ../stacks_b2_wgenome/PO010715_26_subset.sam -o ../stacks_b2_wgenome -i 1000 -m 3 -p 6 --model_type bounded 2>> ../stacks_b2_wgenome/pstacks_out_b2_wgenome\r\n",
      "pstacks -t sam -f ../stacks_b2_wgenome/PO010715_27.1_subset.sam -o ../stacks_b2_wgenome -i 1001 -m 3 -p 6 --model_type bounded 2>> ../stacks_b2_wgenome/pstacks_out_b2_wgenome\r\n",
      "pstacks -t sam -f ../stacks_b2_wgenome/PO020515_10.1_subset.sam -o ../stacks_b2_wgenome -i 1002 -m 3 -p 6 --model_type bounded 2>> ../stacks_b2_wgenome/pstacks_out_b2_wgenome\r\n",
      "pstacks -t sam -f ../stacks_b2_wgenome/PO031715_04_subset.sam -o ../stacks_b2_wgenome -i 1003 -m 3 -p 6 --model_type bounded 2>> ../stacks_b2_wgenome/pstacks_out_b2_wgenome\r\n",
      "pstacks -t sam -f ../stacks_b2_wgenome/PO031715_23_subset.sam -o ../stacks_b2_wgenome -i 1004 -m 3 -p 6 --model_type bounded 2>> ../stacks_b2_wgenome/pstacks_out_b2_wgenome\r\n",
      "pstacks -t sam -f ../stacks_b2_wgenome/PO010715_07_rep_subset.sam -o ../stacks_b2_wgenome -i 1005 -m 3 -p 6 --model_type bounded 2>> ../stacks_b2_wgenome/pstacks_out_b2_wgenome\r\n",
      "pstacks -t sam -f ../stacks_b2_wgenome/GE011215_08.1_subset.sam -o ../stacks_b2_wgenome -i 1006 -m 3 -p 6 --model_type bounded 2>> ../stacks_b2_wgenome/pstacks_out_b2_wgenome\r\n"
     ]
    }
   ],
   "source": [
    "!head pstacks_populations_KORsubsetDepth_9-20.sh"
   ]
  },
  {
   "cell_type": "code",
   "execution_count": null,
   "metadata": {
    "collapsed": true
   },
   "outputs": [],
   "source": [
    "# in terminal:\n",
    "./pstacks_populations_KORdepthSubset_9-20.sh"
   ]
  },
  {
   "cell_type": "markdown",
   "metadata": {},
   "source": [
    "<br>\n",
    "### Get a list of the locus_snp pairs selected in batch 1"
   ]
  },
  {
   "cell_type": "markdown",
   "metadata": {},
   "source": [
    "#### 9/21/2017"
   ]
  },
  {
   "cell_type": "code",
   "execution_count": 19,
   "metadata": {
    "collapsed": false,
    "scrolled": true
   },
   "outputs": [
    {
     "data": {
      "text/plain": [
       "u'/mnt/hgfs/Pacific cod/DataAnalysis/PCod-Compare-repo'"
      ]
     },
     "execution_count": 19,
     "metadata": {},
     "output_type": "execute_result"
    }
   ],
   "source": [
    "pwd"
   ]
  },
  {
   "cell_type": "code",
   "execution_count": 30,
   "metadata": {
    "collapsed": false
   },
   "outputs": [
    {
     "name": "stdout",
     "output_type": "stream",
     "text": [
      "/mnt/hgfs/Pacific cod/DataAnalysis/PCod-Compare-repo/scripts\n"
     ]
    }
   ],
   "source": [
    "cd scripts"
   ]
  },
  {
   "cell_type": "code",
   "execution_count": 31,
   "metadata": {
    "collapsed": true
   },
   "outputs": [],
   "source": [
    "infile = open(\"../stacks_b1_wgenome/batch_1.genepop\", \"r\")\n",
    "infile.readline()\n",
    "loci_list = infile.readline().split(\",\")"
   ]
  },
  {
   "cell_type": "code",
   "execution_count": 32,
   "metadata": {
    "collapsed": false
   },
   "outputs": [
    {
     "name": "stdout",
     "output_type": "stream",
     "text": [
      "22054\n"
     ]
    }
   ],
   "source": [
    "print len(loci_list)"
   ]
  },
  {
   "cell_type": "markdown",
   "metadata": {},
   "source": [
    "### Extract only those locus_snp pairs from batch 2 genepop\n",
    "\n",
    "I used the `write_random_snp` model for populations in batch 1, so I need to extract the loci / snp pairs from batch 2 (where populations genotyped all snps at a locus).\n"
   ]
  },
  {
   "cell_type": "code",
   "execution_count": 33,
   "metadata": {
    "collapsed": true
   },
   "outputs": [],
   "source": [
    "# open files\n",
    "infile = open(\"../stacks_b2_wgenome/batch_2.genepop\", \"r\")\n",
    "outfile = open(\"../stacks_b2_wgenome/batch_2_matched.genepop\", \"w\")\n",
    "\n",
    "# write genepop header and locus names to new file\n",
    "header = infile.readline()\n",
    "outfile.write(header)\n",
    "outfile.write(\",\".join(loci_list) + \"\\n\")\n",
    "\n",
    "# find indices of locus_snp pairs from batch 2 genepop that match batch 1 locus_snp pairs\n",
    "snps = infile.readline()\n",
    "snp_list_b2 = snps.strip().split(\",\")\n"
   ]
  },
  {
   "cell_type": "code",
   "execution_count": 34,
   "metadata": {
    "collapsed": false
   },
   "outputs": [
    {
     "name": "stdout",
     "output_type": "stream",
     "text": [
      "22531\n"
     ]
    }
   ],
   "source": [
    "print len(snp_list_b2)"
   ]
  },
  {
   "cell_type": "code",
   "execution_count": 35,
   "metadata": {
    "collapsed": false
   },
   "outputs": [
    {
     "name": "stdout",
     "output_type": "stream",
     "text": [
      "22527\n"
     ]
    }
   ],
   "source": [
    "# open files\n",
    "infile = open(\"../stacks_b2_wgenome/batch_2.genepop\", \"r\")\n",
    "outfile = open(\"../stacks_b2_wgenome/batch_2_matched.genepop\", \"w\")\n",
    "\n",
    "# write genepop header and locus names to new file\n",
    "header = infile.readline()\n",
    "outfile.write(header)\n",
    "outfile.write(\",\".join(loci_list) + \"\\n\")\n",
    "\n",
    "# find indices of locus_snp pairs from batch 2 genepop that match batch 1 locus_snp pairs\n",
    "snps = infile.readline()\n",
    "snp_list_b2 = snps.strip().split(\",\")\n",
    "\n",
    "indices = []\n",
    "index = 0\n",
    "\n",
    "snps_kept = []\n",
    "snps_removed = []\n",
    "\n",
    "for snp in snp_list_b2:\n",
    "    if snp in loci_list:\n",
    "        indices.append(index)\n",
    "        snps_kept.append(snp)\n",
    "    elif snp not in loci_list:\n",
    "        snps_removed.append(snp)    \n",
    "    index += 1\n",
    "\n",
    "print indices[len(indices)-1]"
   ]
  },
  {
   "cell_type": "code",
   "execution_count": 36,
   "metadata": {
    "collapsed": false,
    "scrolled": true
   },
   "outputs": [
    {
     "name": "stdout",
     "output_type": "stream",
     "text": [
      "10481\n"
     ]
    }
   ],
   "source": [
    "print len(indices)"
   ]
  },
  {
   "cell_type": "code",
   "execution_count": 37,
   "metadata": {
    "collapsed": false,
    "scrolled": true
   },
   "outputs": [
    {
     "name": "stdout",
     "output_type": "stream",
     "text": [
      "10481\n"
     ]
    }
   ],
   "source": [
    "print len(snps_kept)"
   ]
  },
  {
   "cell_type": "code",
   "execution_count": 38,
   "metadata": {
    "collapsed": false
   },
   "outputs": [
    {
     "name": "stdout",
     "output_type": "stream",
     "text": [
      "12050\n"
     ]
    }
   ],
   "source": [
    "print len(snps_removed)"
   ]
  },
  {
   "cell_type": "code",
   "execution_count": 39,
   "metadata": {
    "collapsed": false
   },
   "outputs": [
    {
     "name": "stdout",
     "output_type": "stream",
     "text": [
      "snps in the batch 1 genepop that were not identified in the batch 2 genepop:\n",
      "11573\n"
     ]
    }
   ],
   "source": [
    "print \"snps in the batch 1 genepop that were not identified in the batch 2 genepop:\"\n",
    "print len([i for i in loci_list if i not in snp_list_b2])"
   ]
  },
  {
   "cell_type": "markdown",
   "metadata": {},
   "source": [
    "<br>\n",
    "\n",
    "*could this have something to do with the settings in populations??*\n",
    "\n",
    "### RERUN POPULATIONS WITH LESS STRINGENT FLAGS TO RETAIN MAXIMUM NUMBER OF LOCI"
   ]
  },
  {
   "cell_type": "code",
   "execution_count": 53,
   "metadata": {
    "collapsed": false
   },
   "outputs": [
    {
     "data": {
      "text/plain": [
       "u'/mnt/hgfs/Pacific cod/DataAnalysis/PCod-Compare-repo/scripts'"
      ]
     },
     "execution_count": 53,
     "metadata": {},
     "output_type": "execute_result"
    }
   ],
   "source": [
    "pwd"
   ]
  },
  {
   "cell_type": "code",
   "execution_count": 54,
   "metadata": {
    "collapsed": false
   },
   "outputs": [
    {
     "name": "stdout",
     "output_type": "stream",
     "text": [
      "/mnt/hgfs/Pacific cod/DataAnalysis/PCod-Compare-repo\n"
     ]
    }
   ],
   "source": [
    "cd ../"
   ]
  },
  {
   "cell_type": "code",
   "execution_count": 55,
   "metadata": {
    "collapsed": false
   },
   "outputs": [],
   "source": [
    "!populations -b 2 -P stacks_b2_wgenome -M scripts/PopMap_KOR_subset_populations.txt -t 36 -r 0 -p 0 -m 10 --genepop --fasta 2>> poopulations_out_b2wgenome_p2"
   ]
  },
  {
   "cell_type": "markdown",
   "metadata": {},
   "source": [
    "### Get a list of the locus_snp pairs selected in batch 1\n",
    "#### attempt # 2"
   ]
  },
  {
   "cell_type": "code",
   "execution_count": null,
   "metadata": {
    "collapsed": true
   },
   "outputs": [],
   "source": [
    "cd ../scripts"
   ]
  },
  {
   "cell_type": "code",
   "execution_count": 4,
   "metadata": {
    "collapsed": false
   },
   "outputs": [
    {
     "data": {
      "text/plain": [
       "u'/mnt/hgfs/Pacific cod/DataAnalysis/PCod-Compare-repo/scripts'"
      ]
     },
     "execution_count": 4,
     "metadata": {},
     "output_type": "execute_result"
    }
   ],
   "source": [
    "pwd"
   ]
  },
  {
   "cell_type": "code",
   "execution_count": 5,
   "metadata": {
    "collapsed": true
   },
   "outputs": [],
   "source": [
    "infile = open(\"../stacks_b1_wgenome/batch_1.genepop\", \"r\")\n",
    "infile.readline()\n",
    "loci_list = infile.readline().split(\",\")"
   ]
  },
  {
   "cell_type": "code",
   "execution_count": 6,
   "metadata": {
    "collapsed": false
   },
   "outputs": [
    {
     "name": "stdout",
     "output_type": "stream",
     "text": [
      "22054\n"
     ]
    }
   ],
   "source": [
    "print len(loci_list)"
   ]
  },
  {
   "cell_type": "markdown",
   "metadata": {},
   "source": [
    "### Extract only those locus_snp pairs from batch 2 genepop\n",
    "\n",
    "I used the write_random_snp model for populations in batch 1, so I need to extract the loci / snp pairs from batch 2 (where populations genotyped all snps at a locus).\n",
    "\n",
    "**Attempt # 2**"
   ]
  },
  {
   "cell_type": "code",
   "execution_count": 7,
   "metadata": {
    "collapsed": false
   },
   "outputs": [
    {
     "name": "stdout",
     "output_type": "stream",
     "text": [
      "26179\n"
     ]
    }
   ],
   "source": [
    "# open files\n",
    "infile = open(\"../stacks_b2_wgenome/batch_2.genepop\", \"r\")\n",
    "\n",
    "# write genepop header to new file\n",
    "header = infile.readline()\n",
    "\n",
    "# find indices of locus_snp pairs from batch 2 genepop that match batch 1 locus_snp pairs\n",
    "snps = infile.readline()\n",
    "snp_list_b2 = snps.strip().split(\",\")\n",
    "\n",
    "indices = []\n",
    "index = 0\n",
    "\n",
    "snps_kept = []\n",
    "snps_removed = []\n",
    "\n",
    "for snp in snp_list_b2:\n",
    "    if snp in loci_list:\n",
    "        indices.append(index)\n",
    "        snps_kept.append(snp)\n",
    "    elif snp not in loci_list:\n",
    "        snps_removed.append(snp)    \n",
    "    index += 1\n",
    "\n",
    "print indices[len(indices)-1]"
   ]
  },
  {
   "cell_type": "code",
   "execution_count": 8,
   "metadata": {
    "collapsed": true
   },
   "outputs": [],
   "source": [
    "infile.close()"
   ]
  },
  {
   "cell_type": "code",
   "execution_count": 9,
   "metadata": {
    "collapsed": false
   },
   "outputs": [
    {
     "name": "stdout",
     "output_type": "stream",
     "text": [
      "11496\n"
     ]
    }
   ],
   "source": [
    "print len(indices)"
   ]
  },
  {
   "cell_type": "code",
   "execution_count": 10,
   "metadata": {
    "collapsed": false
   },
   "outputs": [
    {
     "name": "stdout",
     "output_type": "stream",
     "text": [
      "11496\n"
     ]
    }
   ],
   "source": [
    "print len(snps_kept)"
   ]
  },
  {
   "cell_type": "code",
   "execution_count": 11,
   "metadata": {
    "collapsed": false
   },
   "outputs": [
    {
     "name": "stdout",
     "output_type": "stream",
     "text": [
      "14705\n"
     ]
    }
   ],
   "source": [
    "print len(snps_removed)"
   ]
  },
  {
   "cell_type": "code",
   "execution_count": 12,
   "metadata": {
    "collapsed": false
   },
   "outputs": [
    {
     "name": "stdout",
     "output_type": "stream",
     "text": [
      "snps in the batch 1 genepop that were not identified in the batch 2 genepop:\n",
      "10558\n"
     ]
    }
   ],
   "source": [
    "print \"snps in the batch 1 genepop that were not identified in the batch 2 genepop:\"\n",
    "print len([i for i in loci_list if i not in snp_list_b2])"
   ]
  },
  {
   "cell_type": "markdown",
   "metadata": {},
   "source": [
    "### create new batch 2 genepop with only matching snps"
   ]
  },
  {
   "cell_type": "code",
   "execution_count": 13,
   "metadata": {
    "collapsed": true
   },
   "outputs": [],
   "source": [
    "# write genotypes for each individual into the new file IF the index of the genotypes is in the indices list\n",
    "infile = open(\"../stacks_b2_wgenome/batch_2.genepop\", \"r\")\n",
    "outfile = open(\"../stacks_b2_wgenome/batch_2_matched.genepop\", \"w\")\n",
    "\n",
    "header = infile.readline()\n",
    "outfile.write(header)\n",
    "infile.readline() #loci list line\n",
    "outfile.write(\",\".join(snps_kept) + \"\\n\")\n",
    "\n",
    "\n",
    "\n",
    "outfile2 = open(\"index_check.txt\", \"w\")\n",
    "\n",
    "for line in infile:\n",
    "    index_check = \"\"\n",
    "    if line.startswith(\"pop\"):\n",
    "        outfile.write(line)\n",
    "    else:\n",
    "        linelist = line.strip().split(\"\\t\")\n",
    "        outfile.write(linelist[0] + \"\\t\") #writes individual name to outfile\n",
    "        sample_index = 0\n",
    "        for i in range(1,len(linelist)):\n",
    "            if sample_index in indices and sample_index != 26179:\n",
    "                outfile.write(linelist[i] + \"\\t\")\n",
    "                index_check += \",\" + str(sample_index)\n",
    "            elif sample_index in indices and sample_index == 26179:\n",
    "                outfile.write(linelist[i] + \"\\n\")\n",
    "                index_check += \",\" + str(sample_index)\n",
    "            sample_index += 1\n",
    "    outfile2.write(index_check + \"\\n\")\n",
    "infile.close()\n",
    "outfile.close()    \n",
    "outfile2.close()   "
   ]
  },
  {
   "cell_type": "markdown",
   "metadata": {},
   "source": [
    "### create new batch 1 genepop with only matching snps"
   ]
  },
  {
   "cell_type": "code",
   "execution_count": 14,
   "metadata": {
    "collapsed": false
   },
   "outputs": [
    {
     "name": "stdout",
     "output_type": "stream",
     "text": [
      "11496\n",
      "11496\n",
      "22047\n"
     ]
    }
   ],
   "source": [
    "# open files\n",
    "infile = open(\"../stacks_b1_wgenome/batch_1.genepop\", \"r\")\n",
    "\n",
    "#skip over header\n",
    "header = infile.readline()\n",
    "\n",
    "# find indices of loci in the list \"snps_kept\"\n",
    "index_1 = 0\n",
    "indices_1 = []\n",
    "loci_list = infile.readline().strip().split(\",\") #infile: read up to loci\n",
    "for locus in loci_list:\n",
    "    if locus in snps_kept:\n",
    "        indices_1.append(index_1)\n",
    "    index_1 += 1\n",
    "infile.close()\n",
    "    \n",
    "print len(snps_kept)\n",
    "print len(indices_1)\n",
    "print indices_1[len(indices_1) -1]"
   ]
  },
  {
   "cell_type": "code",
   "execution_count": 15,
   "metadata": {
    "collapsed": false
   },
   "outputs": [
    {
     "data": {
      "text/plain": [
       "u'/mnt/hgfs/Pacific cod/DataAnalysis/PCod-Compare-repo/scripts'"
      ]
     },
     "execution_count": 15,
     "metadata": {},
     "output_type": "execute_result"
    }
   ],
   "source": [
    "pwd"
   ]
  },
  {
   "cell_type": "code",
   "execution_count": 23,
   "metadata": {
    "collapsed": false
   },
   "outputs": [],
   "source": [
    "# write genotypes for each individual into the new file IF the index of the genotypes is in the indices list\n",
    "infile = open(\"../stacks_b1_wgenome/batch_1.genepop\", \"r\")\n",
    "header = infile.readline()\n",
    "infile.readline() # skip over loci list\n",
    "\n",
    "## open output file a write in header\n",
    "outfile = open(\"../stacks_b1_wgenome/batch_1_matched.genepop\", \"w\")\n",
    "outfile.write(header)\n",
    "\n",
    "## write in loci_snp pairs \n",
    "outfile.write(\",\".join(snps_kept) + \"\\n\")\n",
    "\n",
    "\n",
    "#create sample list\n",
    "popmap = open(\"PopMap_KOR_subset.txt\", \"r\")\n",
    "sample_List = []\n",
    "for line in popmap:\n",
    "    sample_List.append(line.strip().split()[0] + \",\")\n",
    "popmap.close()\n",
    "\n",
    "\n",
    "outfile2 = open(\"index_check_batch1.txt\", \"w\")\n",
    "\n",
    "for line in infile:\n",
    "    index_check = \"\"\n",
    "    if line.startswith(\"pop\"):\n",
    "        outfile.write(line)\n",
    "    else:\n",
    "        linelist = line.strip().split(\"\\t\")\n",
    "        if linelist[0] in sample_List:\n",
    "            outfile.write(linelist[0] + \"\\t\") #writes individual name to outfile\n",
    "            sample_index = 0\n",
    "            for i in range(1,len(linelist)):\n",
    "                if sample_index in indices_1 and sample_index != 22047:\n",
    "                    outfile.write(linelist[i] + \"\\t\")\n",
    "                    index_check += \",\" + str(sample_index)\n",
    "                elif sample_index in indices_1 and sample_index == 22047:\n",
    "                    outfile.write(linelist[i] + \"\\n\")\n",
    "                    index_check += \",\" + str(sample_index)\n",
    "                sample_index += 1\n",
    "        outfile2.write(index_check + \"\\n\")\n",
    "infile.close()\n",
    "outfile.close()    \n",
    "outfile2.close()"
   ]
  },
  {
   "cell_type": "markdown",
   "metadata": {},
   "source": [
    "\n",
    "### Compare genotypes at each locus"
   ]
  },
  {
   "cell_type": "code",
   "execution_count": 1,
   "metadata": {
    "collapsed": false
   },
   "outputs": [
    {
     "data": {
      "text/plain": [
       "u'/mnt/hgfs/Pacific cod/DataAnalysis/PCod-Compare-repo/notebooks'"
      ]
     },
     "execution_count": 1,
     "metadata": {},
     "output_type": "execute_result"
    }
   ],
   "source": [
    "pwd"
   ]
  },
  {
   "cell_type": "code",
   "execution_count": 2,
   "metadata": {
    "collapsed": false
   },
   "outputs": [
    {
     "name": "stdout",
     "output_type": "stream",
     "text": [
      "/mnt/hgfs/Pacific cod/DataAnalysis/PCod-Compare-repo\n"
     ]
    }
   ],
   "source": [
    "cd ../"
   ]
  },
  {
   "cell_type": "code",
   "execution_count": 3,
   "metadata": {
    "collapsed": false
   },
   "outputs": [],
   "source": [
    "gen1 = open(\"stacks_b1_wgenome/batch_1_matched.genepop\", \"r\")\n",
    "gen2 = open(\"stacks_b2_wgenome/batch_2_matched.genepop\", \"r\")\n",
    "\n",
    "#skip over header of genepop\n",
    "gen1.readline()\n",
    "gen2.readline()\n",
    "\n",
    "#check to make sure that all needed locus_snp pairs are present in batch 2 genepop\n",
    "loci1 = gen1.readline().strip().split(\",\")\n",
    "loci2 = gen2.readline().strip().split(\",\")\n",
    "for i in loci1:\n",
    "    if i not in loci2: \n",
    "        print \"oh no! You're missing locus \", i, \" in your batch 2 file.\"\n",
    "\n",
    "# make a dictionary where the key is the sample and the value is a list of genotypes\n",
    "import collections\n",
    "\n",
    "b2_genotype_dict = collections.OrderedDict()\n",
    "for line in gen2:\n",
    "    linelist = line.strip().split()\n",
    "    if len(linelist) > 1:\n",
    "        sample_name = linelist[0].strip(\"_subset,\")\n",
    "        b2_genotype_dict[sample_name] = linelist[1:]\n",
    "gen2.close()      \n",
    "        \n",
    "b1_genotype_dict = collections.OrderedDict()\n",
    "for line in gen1:\n",
    "    linelist = line.strip().split()\n",
    "    if len(linelist) > 1:\n",
    "        sample_name = linelist[0].strip(\",\")\n",
    "        if sample_name in b2_genotype_dict.keys():\n",
    "            b1_genotype_dict[sample_name] = linelist[1:]\n",
    "gen1.close()"
   ]
  },
  {
   "cell_type": "code",
   "execution_count": 4,
   "metadata": {
    "collapsed": false
   },
   "outputs": [
    {
     "name": "stdout",
     "output_type": "stream",
     "text": [
      "['PO010715_07_rep', 'PO010715_26', 'PO010715_27.1', 'PO020515_10.1', 'PO031715_04', 'PO031715_23', 'GE011215_08.1', 'GE011215_11', 'GE011215_30.1', 'GE012315_05.1', 'GE012315_10.1', 'GE012315_11_2', 'GEO012315_02', 'GEO012315_12', 'GEO012315_18', 'GEO012315_21', 'NA021015_02.1', 'NA021015_10.1', 'NA021015_25', 'YS_121316_18', 'YS_121316_21_2', 'YS_121316_28', 'YS_121316_29', 'JUK07_12', 'JUK07_13', 'JUK07_14', 'JUK07_15', 'JUK07_29.1', 'JUK07_32', 'JB121807_01', 'JB121807_05', 'JB121807_05_2', 'JB121807_12.1', 'JB121807_19.1', 'JB121807_23_2', 'JB121807_25', 'JB121807_33.1', 'JB121807_41.1', 'JB021108_25.1', 'JB021108_45', 'JB021108_46_rep.1', 'JB021108_48.1', 'BOR07_07.1', 'BOR07_10.1', 'BOR07_12.1', 'GEO020414_11', 'GEO020414_16', 'GEO020414_2', 'GEO020414_27', 'GEO020414_4']\n"
     ]
    }
   ],
   "source": [
    "print b1_genotype_dict.keys()"
   ]
  },
  {
   "cell_type": "code",
   "execution_count": 5,
   "metadata": {
    "collapsed": false
   },
   "outputs": [
    {
     "name": "stdout",
     "output_type": "stream",
     "text": [
      "['PO010715_07_rep', 'PO010715_26', 'PO010715_27.1', 'PO020515_10.1', 'PO031715_04', 'PO031715_23', 'GE011215_08.1', 'GE011215_11', 'GE011215_30.1', 'GE012315_05.1', 'GE012315_10.1', 'GE012315_11_2', 'GEO012315_02', 'GEO012315_12', 'GEO012315_18', 'GEO012315_21', 'NA021015_02.1', 'NA021015_10.1', 'NA021015_25', 'YS_121316_18', 'YS_121316_21_2', 'YS_121316_28', 'YS_121316_29', 'JUK07_12', 'JUK07_13', 'JUK07_14', 'JUK07_15', 'JUK07_29.1', 'JUK07_32', 'JB121807_01', 'JB121807_05_2', 'JB121807_05', 'JB121807_12.1', 'JB121807_19.1', 'JB121807_23_2', 'JB121807_25', 'JB121807_33.1', 'JB121807_41.1', 'JB021108_25.1', 'JB021108_45', 'JB021108_46_rep.1', 'JB021108_48.1', 'BOR07_07.1', 'BOR07_10.1', 'BOR07_12.1', 'GEO020414_11', 'GEO020414_16', 'GEO020414_27', 'GEO020414_2', 'GEO020414_4']\n"
     ]
    }
   ],
   "source": [
    "print b2_genotype_dict.keys()"
   ]
  },
  {
   "cell_type": "code",
   "execution_count": 6,
   "metadata": {
    "collapsed": false
   },
   "outputs": [
    {
     "name": "stdout",
     "output_type": "stream",
     "text": [
      "11496\n"
     ]
    }
   ],
   "source": [
    "print len(b2_genotype_dict['PO010715_07_rep'])"
   ]
  },
  {
   "cell_type": "code",
   "execution_count": 7,
   "metadata": {
    "collapsed": false
   },
   "outputs": [
    {
     "name": "stdout",
     "output_type": "stream",
     "text": [
      "11496\n"
     ]
    }
   ],
   "source": [
    "print len(b1_genotype_dict['PO010715_07_rep'])"
   ]
  },
  {
   "cell_type": "code",
   "execution_count": 8,
   "metadata": {
    "collapsed": false
   },
   "outputs": [],
   "source": [
    "outfile = open(\"stacks_pipeline_analyses/analyses_AK_LowGenotypeRate/compare_KOR_genos_Depths3v10.txt\", \"w\")\n",
    "\n",
    "# write to an output file:\n",
    "## --- (0) sample name\n",
    "## --- (1) number of genotyped loci in batch 1\n",
    "## --- (2) number of genotyped loci in batch 2\n",
    "\n",
    "# calculate and write to output file:\n",
    "## --- (3) number of same genotypes (includes missing genotypes)\n",
    "## --- (4) number of same genotypes (does not include missing genotypes)\n",
    "\n",
    "# calculate and write to output file:\n",
    "## --- (5) number of different genotypes\n",
    "## --- (5) number of different genotypes het in batch 1 --> hom in batch 2\n",
    "## --- (6) number of different genotypes hom in batch 1 --> het in batch 2\n",
    "## --- (7) number of different genotypes hom in batch 1 --> diff hom in batch 2\n",
    "## --- (8) number of different genotypes het in batch 1 --> diff het in batch 2\n",
    "## --- (9) number of different genotypes b/c batch 1 is missing, batch 2 is het\n",
    "## --- (10) number of different genotypes b/c batch 1 is missing, batch 2 is hom\n",
    "## --- (11) number of different genotypes b/c batch 2 is missing, batch 1 is het\n",
    "## --- (12) number of different genotypes b/c batch 2 is missing, batch 2 is hom\n",
    "\n",
    "outfile.write(\"sample\\tgenotyped.b1\\tgenotyped.b2\\tsame.genos.wmissing\\tsame.genos\\tdiff.genos\")\n",
    "outfile.write(\"\\tdiff.het_hom\\tdiff.hom_het\\tdiff.het_het\\tdiff.hom_hom\\tdiff.miss_het\\tdiff.miss_hom\\tdiff.het_miss\\tdiff.hom_miss\\n\")\n",
    "\n",
    "\n",
    "for sample in b2_genotype_dict.keys():\n",
    "    outfile.write(sample + \"\\t\")\n",
    "    b2_genotypes = b2_genotype_dict[sample]\n",
    "    b1_genotypes = b1_genotype_dict[sample]\n",
    "    if len(b2_genotypes) != len(b1_genotypes):\n",
    "        print \"crap! you don't have the same number of genotypes in your batches.\"\n",
    "        break\n",
    "    # write to an output file: sample name, number genotyped per batch\n",
    "    b1_genotyped = len([i for i in b1_genotypes if i != \"0000\"])\n",
    "    b2_genotyped = len([i for i in b2_genotypes if i != \"0000\"])\n",
    "    outfile.write(str(b1_genotyped) + \"\\t\" + str(b2_genotyped) + \"\\t\")\n",
    "    # calculate and write to output file: matches and mismatches\n",
    "    matched_wmissing = 0\n",
    "    matched = 0\n",
    "    different = 0\n",
    "    diff_het_hom = 0\n",
    "    diff_hom_het = 0\n",
    "    diff_het_het = 0\n",
    "    diff_hom_hom = 0\n",
    "    diff_miss_hom = 0\n",
    "    diff_miss_het = 0\n",
    "    diff_het_miss = 0\n",
    "    diff_hom_miss = 0\n",
    "    for i in range(0, len(b1_genotypes)):\n",
    "        # number of matching genotypes, with and without missing genotypes\n",
    "        if b2_genotypes[i] == b1_genotypes[i]:\n",
    "            if b2_genotypes[i] != \"0000\":\n",
    "                matched += 1\n",
    "                matched_wmissing += 1\n",
    "            elif b2_genotypes[i] == \"0000\":\n",
    "                matched_wmissing += 1\n",
    "        # differing pairs, and the type of difference between them\n",
    "        elif b2_genotypes[i] != b1_genotypes[i]:\n",
    "            different += 1\n",
    "            # if b1 is missing genotype\n",
    "            if b1_genotypes[i] == \"0000\":\n",
    "                if b2_genotypes[i][0:2] != b2_genotypes[i][2:]:\n",
    "                    diff_miss_het += 1\n",
    "                elif b2_genotypes[i][0:2] == b2_genotypes[i][2:]:\n",
    "                    diff_miss_hom += 1\n",
    "                else: \n",
    "                    print \"your code is effed up! b1 missing\"\n",
    "            # if b2 is missing genotype\n",
    "            elif b2_genotypes[i] == \"0000\":\n",
    "                if b1_genotypes[i][0:2] != b1_genotypes[i][2:]:\n",
    "                    diff_het_miss += 1\n",
    "                elif b1_genotypes[i][0:2] == b1_genotypes[i][2:]:\n",
    "                    diff_hom_miss += 1\n",
    "                else: \n",
    "                    print \"your code is effed up! b2 missing\"\n",
    "            # het --> het / hom\n",
    "            elif b1_genotypes[i][0:2] != b1_genotypes[i][2:]:\n",
    "                if b2_genotypes[i][0:2] == b2_genotypes[i][2:]:\n",
    "                    diff_het_hom += 1\n",
    "                elif b2_genotypes[i][0:2] != b2_genotypes[i][2:]:\n",
    "                    diff_het_het += 1\n",
    "            # hom --> het / hom\n",
    "            elif b1_genotypes[i][0:2] == b1_genotypes[i][2:]:\n",
    "                if b2_genotypes[i][0:2] != b2_genotypes[i][2:]:\n",
    "                    diff_hom_het += 1\n",
    "                elif b2_genotypes[i][0:2] == b2_genotypes[i][2:]:\n",
    "                    diff_hom_hom += 1\n",
    "            \n",
    "    outfile.write(str(matched_wmissing) + \"\\t\" + str(matched) + \"\\t\" + str(different) + \"\\t\")\n",
    "    outfile.write(str(diff_het_hom) + \"\\t\" + str(diff_hom_het) + \"\\t\" + str(diff_het_het) + \"\\t\" + str(diff_hom_hom) + \"\\t\")\n",
    "    outfile.write(str(diff_miss_het) + \"\\t\" + str(diff_miss_hom) + \"\\t\" + str(diff_het_miss) + \"\\t\" + str(diff_hom_miss) + \"\\n\")\n",
    "\n",
    "outfile.close()"
   ]
  },
  {
   "cell_type": "markdown",
   "metadata": {},
   "source": [
    "I checked the output manually in excel, and it matches up!"
   ]
  },
  {
   "cell_type": "markdown",
   "metadata": {
    "collapsed": true
   },
   "source": [
    "![img-overall](https://github.com/mfisher5/PCod-Compare-repo/blob/master/stacks_pipeline_analyses/analyses_AK_LowGenotypeRate/GenoComparison_plot1.png?raw=true)\n",
    "![img-differences](https://github.com/mfisher5/PCod-Compare-repo/blob/master/stacks_pipeline_analyses/analyses_AK_LowGenotypeRate/GenoComparison_Mismatches.png?raw=true)"
   ]
  },
  {
   "cell_type": "code",
   "execution_count": null,
   "metadata": {
    "collapsed": true
   },
   "outputs": [],
   "source": []
  }
 ],
 "metadata": {
  "anaconda-cloud": {},
  "kernelspec": {
   "display_name": "Python [default]",
   "language": "python",
   "name": "python2"
  },
  "language_info": {
   "codemirror_mode": {
    "name": "ipython",
    "version": 2
   },
   "file_extension": ".py",
   "mimetype": "text/x-python",
   "name": "python",
   "nbconvert_exporter": "python",
   "pygments_lexer": "ipython2",
   "version": "2.7.12"
  }
 },
 "nbformat": 4,
 "nbformat_minor": 1
}
