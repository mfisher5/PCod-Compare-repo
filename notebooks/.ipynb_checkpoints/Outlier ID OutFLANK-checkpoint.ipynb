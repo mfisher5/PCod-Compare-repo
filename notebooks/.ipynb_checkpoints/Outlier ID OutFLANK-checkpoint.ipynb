{
 "cells": [
  {
   "cell_type": "markdown",
   "metadata": {},
   "source": [
    "# Identifying Outlier Loci with Bayescan\n",
    "#### stacks batch 8\n",
    "\n",
    "This notebook contains procedures and code used to identify outliers in the final filtered genepop file. This includes:\n",
    "\n",
    "1. East v. West\n",
    "2. West, south / west coast\n",
    "\n",
    "\n",
    "<br>\n",
    "\n",
    "**Programs used: **\n",
    "<br>\n",
    "[Github](https://github.com/whitlock/OutFLANK/blob/master/R/OutFLANK.R) \n",
    "\n",
    "[PDF Manual](https://github.com/whitlock/OutFLANK/blob/master/OutFLANK%20readme.pdf)\n",
    "\n",
    "\n",
    "<br>\n",
    "\n",
    "### (1) Convert Genepop file to OutFLANK file format.\n",
    "Luckily, OutFLANK has a nice R function for this. However, you still need to manipulate your Genepop file to a certain file format to put it into that R function. the following python script will take a genepop file and a population map, and output three of the inputs for the OutFLANK function `MakeDiploidFSTMat()`. This is: \n",
    "1. a file containing a matrix of individuals (rows) x loci (columns) without headings. Alleles are coded in a `0`,`1`, `2`, `9` format. \n",
    "2. a file where each locus name is on a new line, as a string. This can be read directly into R as a list\n",
    "3. a file where each sample's population name is on a new line (same order as matrix rows). This can also be read directly into R as a list. \n",
    "\n",
    "<br>\n",
    "The script below has one issue: it only works if all loci are coded with `0101` / `0202` genotypes. This is NOT the case when stacks called genotypes. As a result, I used an extra R script to convert my stacks genotypes to the `0101/0202` format. \n",
    "\n"
   ]
  },
  {
   "cell_type": "code",
   "execution_count": 1,
   "metadata": {},
   "outputs": [
    {
     "data": {
      "text/plain": [
       "u'/mnt/hgfs/PCod-Compare-repo/notebooks'"
      ]
     },
     "execution_count": 1,
     "metadata": {},
     "output_type": "execute_result"
    }
   ],
   "source": [
    "pwd"
   ]
  },
  {
   "cell_type": "code",
   "execution_count": 2,
   "metadata": {
    "scrolled": true
   },
   "outputs": [
    {
     "name": "stdout",
     "output_type": "stream",
     "text": [
      "/mnt/hgfs/PCod-Compare-repo/analyses/outliers\n"
     ]
    }
   ],
   "source": [
    "cd ../analyses/outliers"
   ]
  },
  {
   "cell_type": "code",
   "execution_count": 3,
   "metadata": {},
   "outputs": [
    {
     "name": "stdout",
     "output_type": "stream",
     "text": [
      "usage: convert_genepop_to_SNPmat.py [-h] [-i INPUT] [-p POPMAP] [-o OUTPUT]\r\n",
      "                                    [-ol OUTLOCUSNAMES] [-op OUTPOPNAMES]\r\n",
      "\r\n",
      "produce SNPmat file, and files containing loci / population lists for OutFLANK\r\n",
      "outlier analysis.\r\n",
      "\r\n",
      "optional arguments:\r\n",
      "  -h, --help            show this help message and exit\r\n",
      "  -i INPUT, --input INPUT\r\n",
      "                        genepop file that you want to run through OutFLANK\r\n",
      "  -p POPMAP, --popmap POPMAP\r\n",
      "                        population map from stacks (each line has sample - tab\r\n",
      "                        - population\r\n",
      "  -o OUTPUT, --output OUTPUT\r\n",
      "                        bash shell script file name. must have file extension\r\n",
      "                        .sh\r\n",
      "  -ol OUTLOCUSNAMES, --outLocusNames OUTLOCUSNAMES\r\n",
      "                        text file with the name of each locus on each line, to\r\n",
      "                        be read into R\r\n",
      "  -op OUTPOPNAMES, --outPopNames OUTPOPNAMES\r\n",
      "                        text file with the name of each sample's population on\r\n",
      "                        each line, to be read into R\r\n"
     ]
    }
   ],
   "source": [
    "!python convert_genepop_to_SNPmat.py -h"
   ]
  },
  {
   "cell_type": "code",
   "execution_count": 21,
   "metadata": {},
   "outputs": [
    {
     "name": "stdout",
     "output_type": "stream",
     "text": [
      "Subsample of loci 2018-03-23 13:45:35\n",
      "\n",
      "Done creating SNPmat file.\n"
     ]
    }
   ],
   "source": [
    "!python convert_genepop_to_SNPmat.py \\\n",
    "-i OutFLANK/batch_8_final_filtered_aligned_genepop_forOutflank_eastwest_bypop.txt \\\n",
    "-p ../../scripts/PopMap_EastWest_bypop.txt \\\n",
    "-o OutFLANK/batch_8_eastwest_SNPmat.txt \\\n",
    "-ol OutFLANK/batch_8_eastwest_SNPmat_locusnames.txt \\\n",
    "-op OutFLANK/batch_8_eastwest_SNPmat_popnames.txt"
   ]
  },
  {
   "cell_type": "code",
   "execution_count": 18,
   "metadata": {},
   "outputs": [
    {
     "name": "stdout",
     "output_type": "stream",
     "text": [
      "Subsample of loci 2018-03-23 13:45:35\n",
      "\n",
      "Done creating SNPmat file.\n"
     ]
    }
   ],
   "source": [
    "!python convert_genepop_to_SNPmat.py \\\n",
    "-i OutFLANK/batch_8_final_filtered_aligned_genepop_forOutflank_west.txt \\\n",
    "-p ../../scripts/PopMap_West_bypop.txt \\\n",
    "-o OutFLANK/batch_8_west_bypop_SNPmat.txt \\\n",
    "-ol OutFLANK/batch_8_west_bypop_SNPmat_locusnames.txt \\\n",
    "-op OutFLANK/batch_8_west_bypop_SNPmat_popnames.txt"
   ]
  },
  {
   "cell_type": "code",
   "execution_count": 19,
   "metadata": {},
   "outputs": [
    {
     "name": "stdout",
     "output_type": "stream",
     "text": [
      "Subsample of loci 2018-03-23 13:45:35\n",
      "\n",
      "Done creating SNPmat file.\n"
     ]
    }
   ],
   "source": [
    "!python convert_genepop_to_SNPmat.py \\\n",
    "-i OutFLANK/batch_8_final_filtered_aligned_genepop_forOutflank_east.txt \\\n",
    "-p ../../scripts/PopMap_EastCoastal.txt \\\n",
    "-o OutFLANK/batch_8_east_SNPmat.txt \\\n",
    "-ol OutFLANK/batch_8_east_SNPmat_locusnames.txt \\\n",
    "-op OutFLANK/batch_8_east_SNPmat_popnames.txt"
   ]
  },
  {
   "cell_type": "markdown",
   "metadata": {},
   "source": [
    "<br>\n",
    "\n",
    "\n",
    "**(2) Run OutFLANK and produce summary file containing outliers.** I used [this R script](https://github.com/mfisher5/PCod-Korea-repo/blob/master/analyses/R/OutFLANK_KorPCod_MF.R), which is well annotated. \n",
    "<br>\n",
    "\n",
    "\n",
    "<br>\n",
    "### OutFLANK output\n",
    "\n",
    "**East v. West**: found NO OUTLIERS\n",
    "<br>\n",
    "**West**: found 17 outliers\n",
    "<br>\n",
    "**East Coastal**: found 64 outliers\n",
    "\n",
    "\n",
    "<br>\n",
    "### lesson from OutFLANK:\n",
    "When I ran the western sites as two populations (south, west), I didn't get any outliers. For OutFLANK to detect outliers, I had to go back to my \"PopMap\" files that I made for the SNPmat file conversions above, and have each sampling site as its own populations. "
   ]
  },
  {
   "cell_type": "code",
   "execution_count": null,
   "metadata": {
    "collapsed": true
   },
   "outputs": [],
   "source": []
  }
 ],
 "metadata": {
  "kernelspec": {
   "display_name": "Python 2",
   "language": "python",
   "name": "python2"
  },
  "language_info": {
   "codemirror_mode": {
    "name": "ipython",
    "version": 2
   },
   "file_extension": ".py",
   "mimetype": "text/x-python",
   "name": "python",
   "nbconvert_exporter": "python",
   "pygments_lexer": "ipython2",
   "version": "2.7.13"
  }
 },
 "nbformat": 4,
 "nbformat_minor": 2
}
