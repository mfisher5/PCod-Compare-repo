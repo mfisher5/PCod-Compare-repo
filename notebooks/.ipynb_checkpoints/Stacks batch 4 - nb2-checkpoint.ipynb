{
 "cells": [
  {
   "cell_type": "markdown",
   "metadata": {},
   "source": [
    "## Stacks batch 3 - align Korean samples to reference, run `pstacks`\n",
    "\n",
    "<br>\n",
    "\n",
    "In this notebook, I take the newly trimmed fastq files for the Korean samples (now 92bp long) and then running `pstacks` on the new alignment files.\n",
    "\n",
    "\n",
    "<br>\n",
    "\n",
    "#### 10/19/2017\n",
    "\n",
    "### alignment to reference"
   ]
  },
  {
   "cell_type": "code",
   "execution_count": 1,
   "metadata": {},
   "outputs": [
    {
     "name": "stdout",
     "output_type": "stream",
     "text": [
      "/mnt/hgfs/PCod-Compare-repo/scripts\n"
     ]
    }
   ],
   "source": [
    "cd ../scripts"
   ]
  },
  {
   "cell_type": "code",
   "execution_count": 4,
   "metadata": {
    "scrolled": false
   },
   "outputs": [
    {
     "name": "stdout",
     "output_type": "stream",
     "text": [
      "###### Generate Shell Script to Align all FastQ Data Files to BOWTIE ref genome ######\r\n",
      "\r\n",
      "## MF 3/9/2017\r\n",
      "## Edited 5/2/2017 for Korean Cod Data, for UNZIPPED FASTQ FILES\r\n",
      "## Edited 10/19/2017 for trimmed Korean samples\r\n",
      "\r\n",
      "\r\n",
      "\r\n",
      "## At Command Line: python cstacks_populations_genShell.py ARG1 ARG2 ARG3 ARG4 ARG5\r\n",
      "##---- ARG1 = complete sample list file\r\n",
      "##---- ARG2 = relative path to bowtie ref database, including file name without filetype suffix\r\n",
      "##---- ARG3 = relative path to stacks fastq files, output from process_radtags\r\n",
      "##---- ARG4 = batch #\r\n",
      "##---- ARG5 = relative path to where you want the .sam files to go\r\n",
      "\r\n",
      "\r\n",
      "############################################################################\r\n",
      "\r\n",
      "\r\n",
      "import sys\r\n"
     ]
    }
   ],
   "source": [
    "!head -n 20 RefGenome_BOWTIEalign_genshell5-2.py"
   ]
  },
  {
   "cell_type": "code",
   "execution_count": 5,
   "metadata": {
    "collapsed": true
   },
   "outputs": [],
   "source": [
    "!mkdir ../stacks_b4_wgenome"
   ]
  },
  {
   "cell_type": "code",
   "execution_count": 9,
   "metadata": {
    "collapsed": true
   },
   "outputs": [],
   "source": [
    "!python RefGenome_BOWTIEalign_genshell5-2.py \\\n",
    "PopMap_KOR.txt \\\n",
    "../refgenome/batch_7 \\\n",
    "../KORsamplesT92 \\\n",
    "4 \\\n",
    "../stacks_b4_wgenome"
   ]
  },
  {
   "cell_type": "code",
   "execution_count": 10,
   "metadata": {
    "scrolled": true
   },
   "outputs": [
    {
     "name": "stdout",
     "output_type": "stream",
     "text": [
      "#!/bin/bash\r\n",
      "\r\n",
      "bowtie -q -v 3 -norc --sam ../refgenome/batch_7 ../KORsamplesT92/PO010715_02_92bp.fq ../stacks_b4_wgenome/PO010715_02_92bp.sam\r\n",
      "bowtie -q -v 3 -norc --sam ../refgenome/batch_7 ../KORsamplesT92/PO010715_02_rep_92bp.fq ../stacks_b4_wgenome/PO010715_02_rep_92bp.sam\r\n",
      "bowtie -q -v 3 -norc --sam ../refgenome/batch_7 ../KORsamplesT92/PO010715_04_92bp.fq ../stacks_b4_wgenome/PO010715_04_92bp.sam\r\n",
      "bowtie -q -v 3 -norc --sam ../refgenome/batch_7 ../KORsamplesT92/PO010715_06.1_92bp.fq ../stacks_b4_wgenome/PO010715_06.1_92bp.sam\r\n",
      "bowtie -q -v 3 -norc --sam ../refgenome/batch_7 ../KORsamplesT92/PO010715_08.1_92bp.fq ../stacks_b4_wgenome/PO010715_08.1_92bp.sam\r\n",
      "bowtie -q -v 3 -norc --sam ../refgenome/batch_7 ../KORsamplesT92/PO010715_10.1_92bp.fq ../stacks_b4_wgenome/PO010715_10.1_92bp.sam\r\n",
      "bowtie -q -v 3 -norc --sam ../refgenome/batch_7 ../KORsamplesT92/PO010715_11.1_92bp.fq ../stacks_b4_wgenome/PO010715_11.1_92bp.sam\r\n",
      "bowtie -q -v 3 -norc --sam ../refgenome/batch_7 ../KORsamplesT92/PO010715_12_92bp.fq ../stacks_b4_wgenome/PO010715_12_92bp.sam\r\n"
     ]
    }
   ],
   "source": [
    "!head RefGenome_BOWTIEalign_batch4.sh"
   ]
  },
  {
   "cell_type": "code",
   "execution_count": null,
   "metadata": {
    "collapsed": true
   },
   "outputs": [],
   "source": [
    "# run in terminal\n",
    "./RefGenome_BOWTIEalign_batch4.sh"
   ]
  },
  {
   "cell_type": "markdown",
   "metadata": {},
   "source": [
    "<br>\n",
    "#### 10/23/2017\n",
    "<br>\n",
    "### pstacks"
   ]
  },
  {
   "cell_type": "code",
   "execution_count": 1,
   "metadata": {},
   "outputs": [
    {
     "name": "stdout",
     "output_type": "stream",
     "text": [
      "/mnt/hgfs/PCod-Compare-repo/scripts\n"
     ]
    }
   ],
   "source": [
    "cd ../scripts"
   ]
  },
  {
   "cell_type": "code",
   "execution_count": 3,
   "metadata": {},
   "outputs": [
    {
     "name": "stdout",
     "output_type": "stream",
     "text": [
      "###### Generate Shell Script to Run pstacks --> populations ######\r\n",
      "\r\n",
      "## MF 3/10/2017\r\n",
      "## For US Cod Data\r\n",
      "\r\n",
      "## Edited by MF 5/3/2017 for Korea PCod Data\r\n",
      "## Edited 6/25/2017 for Korea PCod Data\r\n",
      "## Edited 10/9/2017 for combined data \r\n",
      "\r\n",
      "\r\n",
      "\r\n",
      "## At Command Line: python cstacks_populations_genShell_7-6 ARG1\r\n",
      "##---- ARG1 = Alaska sample list file (population map)\r\n",
      "\r\n",
      "\r\n"
     ]
    }
   ],
   "source": [
    "!head -n 15 pstacks_genShell_m3_10-20_kor.py"
   ]
  },
  {
   "cell_type": "code",
   "execution_count": 4,
   "metadata": {
    "collapsed": true
   },
   "outputs": [],
   "source": [
    "!python pstacks_genShell_m3_10-20_kor.py PopMap_KOR.txt"
   ]
  },
  {
   "cell_type": "code",
   "execution_count": null,
   "metadata": {
    "collapsed": true
   },
   "outputs": [],
   "source": [
    "# run in terminal\n",
    "./pstacks_m3_10-20_kor.sh"
   ]
  },
  {
   "cell_type": "markdown",
   "metadata": {},
   "source": [
    "<br>\n",
    "#### 10/24/2017\n",
    "<br>\n",
    "### cstacks -> populations\n",
    "\n",
    "#### cstacks\n",
    "-n 1 \n",
    "<br>\n",
    "10 individuals per population\n",
    "\n",
    "\n",
    "#### populations\n",
    "-t 36\n",
    "<br>\n",
    "-r 0.8\n",
    "<br>\n",
    "-p 3\n",
    "<br>\n",
    "-m 10\n",
    "<br>\n",
    "--write_random_snp"
   ]
  },
  {
   "cell_type": "code",
   "execution_count": 1,
   "metadata": {},
   "outputs": [
    {
     "name": "stdout",
     "output_type": "stream",
     "text": [
      "/mnt/hgfs/PCod-Compare-repo/scripts\n"
     ]
    }
   ],
   "source": [
    "cd ../scripts"
   ]
  },
  {
   "cell_type": "code",
   "execution_count": null,
   "metadata": {
    "collapsed": true
   },
   "outputs": [],
   "source": [
    "# run in terminal\n",
    "./cstacks_populations_batch4_10-22.sh"
   ]
  },
  {
   "cell_type": "markdown",
   "metadata": {},
   "source": [
    "<br>\n",
    "<br>\n",
    "\n",
    "### `populations` output check\n",
    "\n",
    "Ok, so the missing data in the Alaska samples isn't totally fixed. \n",
    "\n",
    "I did a few quick calculations in excel and found that: \n",
    "* 5 KOD03 samples had an average of 44% missing genotypes (~7,000 out of 16,000 loci)\n",
    "* 5 Geoje 14 samples had an average of 7.6% missing genotypes (~1,000 out of 16,000 loci)\n",
    "* 5 Jinhae Bay 07 (E) samples had an average of 49% missing genotypes (samples that were retained in Korea batch 8)\n",
    "* I noticed that for a few of the loci where most, if not all, of the AK samples were missing genotypes, the JB07 / JB08 samples (had the least amount of data out of the Korean data set because of low DNA quantity) were also missing genotypes.\n",
    "\n",
    "I think that it's worth going through the filtering steps with this batch to see how many loci I end up retaining.  \n",
    "Based on the stats above, especially the comparison of the AK samples to my low quantity KOR samples, it's possible that I'll be able to retain most Alaska samples and still get more loci than prior runs. "
   ]
  },
  {
   "cell_type": "code",
   "execution_count": null,
   "metadata": {
    "collapsed": true
   },
   "outputs": [],
   "source": []
  }
 ],
 "metadata": {
  "kernelspec": {
   "display_name": "Python 2",
   "language": "python",
   "name": "python2"
  },
  "language_info": {
   "codemirror_mode": {
    "name": "ipython",
    "version": 2
   },
   "file_extension": ".py",
   "mimetype": "text/x-python",
   "name": "python",
   "nbconvert_exporter": "python",
   "pygments_lexer": "ipython2",
   "version": "2.7.13"
  }
 },
 "nbformat": 4,
 "nbformat_minor": 2
}
