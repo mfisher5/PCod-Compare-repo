{
 "cells": [
  {
   "cell_type": "markdown",
   "metadata": {},
   "source": [
    "### Stacks batch 1 (east-west comparison) - notebook 2\n",
    "\n",
    "\n",
    "This notebook contains filtering steps for stacks batch 1 files. Filtering is as follows: \n",
    "\n",
    "\n",
    "\n",
    "\n",
    "(1) Convert populations genepop output into a 2x2 chart, with loci as headers.\n",
    "\n",
    "(2) Filter out loci with too much missing data\n",
    "\n",
    "(3) Filter for minor allele frequency\n",
    "\n",
    "(4) Filter individuals for missing data\n",
    "\n",
    "(5) Filter for loci out of HWE\n",
    "\n",
    "<br>\n",
    "\n",
    "This is the first time that I am using these scripts / doing this kind of filtering, so there will probably be some visuals throughout this notebook to help me make decisions on what to do next. \n",
    "\n",
    "<br>\n",
    "#### 8/28/2017\n",
    "<br>\n",
    "### conversion to matrix"
   ]
  },
  {
   "cell_type": "code",
   "execution_count": 1,
   "metadata": {
    "collapsed": false
   },
   "outputs": [
    {
     "data": {
      "text/plain": [
       "u'/mnt/hgfs/Pacific cod/DataAnalysis/PCod-Compare-repo/notebooks'"
      ]
     },
     "execution_count": 1,
     "metadata": {},
     "output_type": "execute_result"
    }
   ],
   "source": [
    "pwd"
   ]
  },
  {
   "cell_type": "code",
   "execution_count": 2,
   "metadata": {
    "collapsed": false
   },
   "outputs": [
    {
     "name": "stdout",
     "output_type": "stream",
     "text": [
      "/mnt/hgfs/Pacific cod/DataAnalysis/PCod-Compare-repo/scripts\n"
     ]
    }
   ],
   "source": [
    "cd ../scripts"
   ]
  },
  {
   "cell_type": "code",
   "execution_count": 4,
   "metadata": {
    "collapsed": false
   },
   "outputs": [
    {
     "name": "stdout",
     "output_type": "stream",
     "text": [
      "/mnt/hgfs/Pacific cod/DataAnalysis/PCod-Compare-repo/scripts/PostStacksFilter_rSNP\n"
     ]
    }
   ],
   "source": [
    "cd PostStacksFilter_rSNP/"
   ]
  },
  {
   "cell_type": "code",
   "execution_count": 8,
   "metadata": {
    "collapsed": false
   },
   "outputs": [
    {
     "name": "stdout",
     "output_type": "stream",
     "text": [
      "### Make 2 x 2 matrix out of 'populations' genepop file ###\r\n",
      "\r\n",
      "## MF 8/25/2017\r\n",
      "## Step 1 for Post-Stacks filtering with random SNP\r\n",
      "\r\n",
      "\r\n",
      "#################################################################################\r\n",
      "\r\n",
      "import argparse \r\n",
      "\r\n",
      "parser = argparse.ArgumentParser(description=\"convert populations genepop file into matrix for further filtering\")\r\n",
      "\r\n",
      "parser.add_argument(\"-g\", \"--genepop\", help=\"genepop file from populations\")\r\n",
      "parser.add_argument(\"-o\", \"--output\", help=\"output file\")\r\n",
      "parser.add_argument(\"-s\", \"--stacks_path\", help=\"path to the directory containing your stacks files\")\r\n",
      "\r\n",
      "args = parser.parse_args()\r\n",
      "\r\n",
      "#open files\r\n",
      "infile = open(args.stacks_path + \"/\" + args.genepop, \"r\")\r\n"
     ]
    }
   ],
   "source": [
    "!head -n 20 convert_genepop_to_matrix.py"
   ]
  },
  {
   "cell_type": "code",
   "execution_count": 10,
   "metadata": {
    "collapsed": false,
    "scrolled": true
   },
   "outputs": [
    {
     "name": "stdout",
     "output_type": "stream",
     "text": [
      "working with genepop file:  batch_1.genepop\n",
      "Stacks version 1.44; Genepop version 4.1.3; August 27, 2017\n",
      "\n",
      "writing loci to output file...\n",
      "writing genotypes to output file...\n",
      "done.\n"
     ]
    }
   ],
   "source": [
    "!python convert_genepop_to_matrix.py \\\n",
    "-g batch_1.genepop \\\n",
    "-o batch_1_genotypes.txt \\\n",
    "-s ../../stacks_b1_wgenome"
   ]
  },
  {
   "cell_type": "markdown",
   "metadata": {},
   "source": [
    "### Number of alleles per SNP before filtering\n",
    "\n",
    "\n",
    "The following code uses the intermediate output file produced by the python script above. This output file will be deleted by the next filtering step's python script."
   ]
  },
  {
   "cell_type": "code",
   "execution_count": 32,
   "metadata": {
    "collapsed": true
   },
   "outputs": [],
   "source": [
    "infile = open(\"temp_transposed_genotypes.txt\", \"r\")\n",
    "\n",
    "infile.readline()\n",
    "transition = 0\n",
    "transversion = 0\n",
    "# 1 - A, 2 - C, 3 - G, 4 - T\n",
    "\n",
    "for mystring in infile:\n",
    "    stripped_string = mystring.strip('\\n')\n",
    "    all_genotypes = stripped_string.split(' ')[1:] #subset genotypes only from line\n",
    "    alleles = []\n",
    "    all_n_alleles = []\n",
    "    for genotype in all_genotypes:\n",
    "        a1 = int(genotype[0:2]) #separate genotype into two alleles\n",
    "        a2 = int(genotype[2:])\n",
    "        if a1 not in alleles and a1 != 0: #append allele to list IF it is unique and not 0\n",
    "            alleles.append(a1)\n",
    "        if a2 not in alleles and a2 != 0:\n",
    "            alleles.append(a2)\n",
    "    if (1 in alleles and 3 in alleles) or (2 in alleles and 4 in alleles):\n",
    "        transition += 1\n",
    "    elif (1 in alleles and 2 in alleles) or (3 in alleles and 4 in alleles):\n",
    "        transversion += 1\n",
    "    n_alleles = len(alleles) #find total number of alleles at locus \n",
    "    all_n_alleles.append(n_alleles) #append that number to list\n",
    "infile.close()"
   ]
  },
  {
   "cell_type": "code",
   "execution_count": 33,
   "metadata": {
    "collapsed": true
   },
   "outputs": [],
   "source": [
    "import numpy as np\n",
    "import matplotlib.pyplot as plt"
   ]
  },
  {
   "cell_type": "code",
   "execution_count": 34,
   "metadata": {
    "collapsed": false,
    "scrolled": true
   },
   "outputs": [
    {
     "data": {
      "image/png": "[encoded data removed]",
      "text/plain": [
       "<matplotlib.figure.Figure at 0x7f7947e702d0>"
      ]
     },
     "metadata": {},
     "output_type": "display_data"
    }
   ],
   "source": [
    "plt.hist(all_n_alleles, color = \"darkcyan\", alpha = 0.75)\n",
    "plt.suptitle(\"Number of Alleles per SNP\")\n",
    "plt.xlabel(\"Number of Alleles\")\n",
    "plt.ylabel(\"% of SNPS\")\n",
    "plt.show()"
   ]
  },
  {
   "cell_type": "code",
   "execution_count": 35,
   "metadata": {
    "collapsed": true
   },
   "outputs": [],
   "source": [
    "plt.close()"
   ]
  },
  {
   "cell_type": "code",
   "execution_count": 36,
   "metadata": {
    "collapsed": false
   },
   "outputs": [
    {
     "name": "stdout",
     "output_type": "stream",
     "text": [
      "0\n"
     ]
    }
   ],
   "source": [
    "print len([i for i in all_n_alleles if i > 2])"
   ]
  },
  {
   "cell_type": "code",
   "execution_count": 37,
   "metadata": {
    "collapsed": false
   },
   "outputs": [
    {
     "name": "stdout",
     "output_type": "stream",
     "text": [
      "transitions:  8751\n",
      "transversions:  10035\n"
     ]
    }
   ],
   "source": [
    "print \"transitions: \", transition\n",
    "print \"transversions: \", transversion"
   ]
  },
  {
   "cell_type": "markdown",
   "metadata": {},
   "source": [
    "**Why only biallelic SNPs?**\n",
    "\n",
    "Out of 6k loci in the Alaskan data, Kristen had 20 triallelic SNPs. So with ~12,000 loci, I would expect to see around 40 triallelic SNPs. But I don't see any. This also happened in my Korean popgen data. \n",
    "\n",
    "I want to make sure that this is not some kind of error before continuing. I'm going to try to find the loci from Kristen's data that contained triallelic SNPs in my own data. "
   ]
  },
  {
   "cell_type": "code",
   "execution_count": 38,
   "metadata": {
    "collapsed": false
   },
   "outputs": [
    {
     "name": "stdout",
     "output_type": "stream",
     "text": [
      "/mnt/hgfs/Pacific cod/DataAnalysis/PCod-Compare-repo/stacks_b1_wgenome\n"
     ]
    }
   ],
   "source": [
    "cd ../../stacks_b1_wgenome/"
   ]
  },
  {
   "cell_type": "code",
   "execution_count": 44,
   "metadata": {
    "collapsed": false
   },
   "outputs": [
    {
     "name": "stdout",
     "output_type": "stream",
     "text": [
      "0\t1\t18392\t39147\t0\t+\tconsensus\t0\t13_18652,26_18257,30_18213,27_18243,23_18295,1_18427,8_18242,22_18263,10_18313,21_18185,39_18337,65_18353,43_18239,47_18250,66_18114,64_18175,45_18294,40_18273,49_18320,67_18132,85_18275,87_18227,82_18259,86_18308,78_18380,84_18266,80_18258,83_18206,81_18213,79_18327,94_18270,113_18186,120_18255,103_18168,91_18206,112_18134,95_18223,98_18341,99_18214,101_18229,142_18094,143_18102,156_18168,122_18215,129_18080,141_18122,134_17980,139_17971,126_18183,138_17963,189_18081,180_18095,191_17552,186_17914,169_18058,182_17886,159_18217,167_18249,173_17681,185_18210,227_18141,214_18263,236_18261,250_18276,222_18234,243_18212,234_18218,225_18464,251_18225,254_18159,308_18294,319_18258,316_18192,293_18268,323_18141,314_18114,306_18278,295_18175,301_18218,321_18260,280_18214,277_18319,288_18199,278_18263,273_18241,275_18145,268_18204,270_18202,274_18197,283_18205,337_17967,347_17841,341_17838,361_17882,345_17889,358_17696,351_17639,369_17890,335_17841,364_17672,385_17727,425_17780,395_17660,413_17808,407_17623,381_17525,406_17705,418_17574,412_17612,402_17657,433_17890,443_17821,465_17780,441_17752,447_17566,454_17640,457_17759,450_17513,437_17733,460_17493,490_17900,489_17899,505_17903,479_17906,495_17692,513_17875,491_17841,502_17581,487_17764,485_17787,645_17956,635_17964,642_17894,640_17871,637_17768,719_17776,707_17800,710_17611,652_17734,724_17593,570_17931,611_17910,575_17864,598_17672,576_17717,596_17715,614_17777,629_17737,595_17546,618_17748,583_17842,613_17800,597_17525,615_17492,612_17498,581_17444,593_17590,600_17478,573_17415,577_17450,681_17830,692_17777,686_17493,701_17774,667_17765,671_17535,685_17528,684_17623,666_17682,694_17631\tTGCAGGGCAGGAGGCTGTTGGGGTCGGTCTATGTAAGGAGCTGTGGACGAGCATAGCAAGGCACCTTTGACATGCATTTACTGCGAGCTAGCTGACATACCAGTCACACGACATCTCCCTGCTCCTAAACACACCTCACACG\t0\t0\t0\t0\r\n"
     ]
    }
   ],
   "source": [
    "!grep \"TGCAGGGCAGGAGGCTGTTGGGGTCG\" batch_1.catalog.tags.tsv"
   ]
  },
  {
   "cell_type": "code",
   "execution_count": null,
   "metadata": {
    "collapsed": true
   },
   "outputs": [],
   "source": [
    "# .catalog.snps.tsv file\n",
    "0\t1\t18392\t84\tE\t0\tT\tG\tA\t-\n",
    "0\t1\t18392\t111\tE\t0\tC\tA\t-\t-"
   ]
  },
  {
   "cell_type": "markdown",
   "metadata": {},
   "source": [
    "Populations randomly chose the SNP at position 111. "
   ]
  },
  {
   "cell_type": "code",
   "execution_count": 49,
   "metadata": {
    "collapsed": false
   },
   "outputs": [
    {
     "name": "stdout",
     "output_type": "stream",
     "text": [
      "0\t1\t16545\t3551\t0\t+\tconsensus\t0\t13_16742,26_16386,30_16339,27_16375,23_16417,1_16536,8_16377,22_16400,10_16436,21_16329,39_16454,65_16473,43_16368,47_16380,66_16260,64_16314,45_16412,40_16409,49_16439,67_16272,85_16402,87_16354,82_16387,86_16441,78_16499,84_16399,80_16392,83_16340,81_16353,79_16443,94_16403,113_16320,120_16387,103_16309,91_16336,112_16277,95_16351,98_16461,99_16345,101_16359,142_16228,143_16244,156_16303,122_16345,129_16232,141_16262,134_16134,139_16131,126_16322,138_16121,189_16235,180_16239,191_15773,186_16076,169_16216,182_16048,159_16345,167_16372,173_15870,185_16337,227_16277,214_16395,236_16382,250_16395,222_16367,243_16344,234_16346,225_16574,251_16366,254_16295,308_16414,319_16386,316_16329,293_16409,323_16286,314_16272,306_16404,295_16313,301_16356,321_16393,280_16351,277_16440,288_16332,278_16392,273_16363,275_16285,268_16330,270_16340,274_16334,283_16338,337_16130,347_16012,341_16021,361_16055,345_16062,358_15881,351_15830,369_16064,335_16017,364_15858,385_15905,425_15966,395_15845,413_15991,407_15822,381_15736,406_15898,418_15786,412_15804,402_15856,433_16059,443_15991,465_15960,441_15941,447_15761,454_15827,457_15939,450_15710,437_15909,460_15697,490_16073,489_16073,505_16067,479_16067,495_15884,513_16048,491_16022,502_15777,487_15944,485_15971,645_16108,635_16131,642_16064,640_16044,637_15951,719_15964,707_15971,710_15810,652_15920,724_15792,570_16094,611_16079,575_16034,598_15857,576_15895,596_15898,614_15961,629_15917,595_15748,618_15933,583_16014,613_15979,597_15726,615_15697,612_15693,581_15649,593_15786,600_15677,573_15622,577_15661,681_16004,692_15959,686_15701,701_15951,667_15941,671_15736,685_15731,684_15813,666_15872,694_15826\tTGCAGGACATTCAAACTTCAGTCCGTTTTTTTCGGATTATTGCGGCCAAAAATCCTTTGGCAGCTCAAGTGAAGTGAAATATACAATCCTGTGTTTGCACTAATTTTGTTTGAATGATCAAAAAACTGTAATATGGATTATT\t0\t0\t0\t0\r\n"
     ]
    }
   ],
   "source": [
    "!grep \"TGCAGGACATTCAAACTTCAGTCCGTT\" batch_1.catalog.tags.tsv"
   ]
  },
  {
   "cell_type": "code",
   "execution_count": null,
   "metadata": {
    "collapsed": true
   },
   "outputs": [],
   "source": [
    "#catalog.snps.tsv file\n",
    "0\t1\t16545\t43\tE\t0\tG\tA\t-\t-\n",
    "0\t1\t16545\t54\tE\t0\tC\tA\t-\t-"
   ]
  },
  {
   "cell_type": "code",
   "execution_count": 50,
   "metadata": {
    "collapsed": false
   },
   "outputs": [
    {
     "name": "stdout",
     "output_type": "stream",
     "text": [
      "0\t1\t6310\t19617\t0\t+\tconsensus\t0\t13_6377,26_6246,30_6224,27_6246,23_6246,1_6296,8_6237,22_6256,10_6265,21_6242,39_6269,65_6276,43_6235,47_6245,66_6193,64_6220,45_6258,40_6257,49_6251,67_6191,85_6241,87_6239,82_6242,86_6268,78_6299,84_6239,80_6239,83_6225,81_6228,79_6260,94_6257,113_6238,120_6250,103_6203,91_6221,112_6202,95_6221,98_6269,99_6228,101_6240,142_6185,143_6200,156_6215,122_6236,129_6175,141_6201,134_6163,139_6144,126_6216,138_6153,189_6185,180_6197,191_6031,186_6116,169_6181,182_6132,159_6215,167_6239,173_6048,185_6224,227_6190,214_6247,236_6240,250_6255,222_6234,243_6227,234_6208,225_6308,251_6246,254_6187,308_6247,319_6242,316_6218,293_6246,323_6202,314_6203,306_6250,295_6199,301_6228,321_6238,280_6231,277_6254,288_6232,278_6233,273_6225,275_6204,268_6230,270_6231,274_6224,283_6222,337_6131,347_6070,341_6087,361_6095,345_6100,358_6038,351_6024,369_6101,335_6089,364_6037,385_6053,425_6062,395_6019,413_6079,407_6017,381_5986,406_6046,418_6003,412_6014,402_6029,433_6103,443_6079,465_6071,441_6057,447_5999,454_6024,457_6066,450_5977,437_6044,460_5965,490_6116,489_6099,505_6100,479_6101,495_6043,513_6106,491_6090,502_6005,487_6070,485_6076,645_6128,635_6128,642_6106,640_6098,637_6055,719_6077,707_6079,710_6009,652_6060,724_6004,570_6107,611_6124,575_6095,598_6031,576_6047,596_6046,614_6071,629_6051,595_6002,618_6053,583_6099,613_6073,597_5997,615_5973,612_5991,581_5931,593_6015,600_5979,573_5931,577_5964,681_6090,692_6067,686_5956,701_6064,667_6054,671_5983,685_5983,684_6006,666_6031,694_6029\tTGCAGGAGAGAGGCGGGAAACACGGCCGCCCCGCACACCAAGCTGCCGGCAGACGTAAACAAAATGCTGTTTCTGAAGGGTGTGTATGAAGCACCATCCGGACAGAACAAAGTTGCTTACGCAGAACTGAACATTACATACA\t0\t0\t0\t0\r\n"
     ]
    }
   ],
   "source": [
    "!grep \"TGCAGGAGAGAGGCGGGAAACACGG\" batch_1.catalog.tags.tsv"
   ]
  },
  {
   "cell_type": "code",
   "execution_count": null,
   "metadata": {
    "collapsed": true
   },
   "outputs": [],
   "source": [
    "#catalog.snps.tsv file\n",
    "0\t1\t6310\t39\tE\t0\tA\tT\t-\t-\n",
    "0\t1\t6310\t47\tE\t0\tA\tG\t-\t-\n",
    "0\t1\t6310\t56\tE\t0\tG\tA\t-\t-\n",
    "0\t1\t6310\t65\tE\t0\tA\tG\t-\t-\n",
    "0\t1\t6310\t80\tE\t0\tT\tG\tC\t-\n",
    "0\t1\t6310\t84\tE\t0\tC\tT\t-\t-\n",
    "0\t1\t6310\t140\tE\t0\tA\tC\t-\t-"
   ]
  },
  {
   "cell_type": "markdown",
   "metadata": {},
   "source": [
    "Populations randomly chose the SNP at position 47.\n",
    "\n",
    "<br>\n",
    "<br>\n",
    "So how many triallelic SNPs are there in my data, that just aren't being chosen at `populations`?"
   ]
  },
  {
   "cell_type": "code",
   "execution_count": 1,
   "metadata": {
    "collapsed": false
   },
   "outputs": [
    {
     "name": "stdout",
     "output_type": "stream",
     "text": [
      "/mnt/hgfs/Pacific cod/DataAnalysis/PCod-Compare-repo/stacks_b1_wgenome\n"
     ]
    }
   ],
   "source": [
    "cd ../stacks_b1_wgenome"
   ]
  },
  {
   "cell_type": "code",
   "execution_count": 2,
   "metadata": {
    "collapsed": true
   },
   "outputs": [],
   "source": [
    "infile = open(\"batch_1.catalog.snps.tsv\", \"r\")\n",
    "infile.readline()\n",
    "n_alleles_list = []\n",
    "for line in infile:\n",
    "    linelist = line.strip().split()\n",
    "    alleles = linelist[6:9]\n",
    "    n_alleles = len([i for i in alleles if i != \"-\"])\n",
    "    n_alleles_list.append(n_alleles)\n",
    "infile.close()"
   ]
  },
  {
   "cell_type": "code",
   "execution_count": 3,
   "metadata": {
    "collapsed": true
   },
   "outputs": [],
   "source": [
    "import numpy as np\n",
    "import matplotlib.pyplot as plt"
   ]
  },
  {
   "cell_type": "code",
   "execution_count": 4,
   "metadata": {
    "collapsed": false
   },
   "outputs": [
    {
     "data": {
      "image/png": "[encoded data removed]",
      "text/plain": [
       "<matplotlib.figure.Figure at 0x7f75b0dda490>"
      ]
     },
     "metadata": {},
     "output_type": "display_data"
    }
   ],
   "source": [
    "plt.hist(n_alleles_list, bins=np.arange(0,5,1)+0.5, color=\"darkcyan\")\n",
    "plt.suptitle(\"Number of Alleles per SNP, Pacific cod\")\n",
    "plt.xlabel(\"Number of Alleles\")\n",
    "plt.ylabel(\"Number of SNPs\")\n",
    "plt.show()"
   ]
  },
  {
   "cell_type": "code",
   "execution_count": 8,
   "metadata": {
    "collapsed": false
   },
   "outputs": [
    {
     "name": "stdout",
     "output_type": "stream",
     "text": [
      "The number of SNPs with 3 alleles is: \n",
      "746\n",
      "out of  63604  total snps\n"
     ]
    }
   ],
   "source": [
    "print \"The number of SNPs with 3 alleles is: \"\n",
    "print len([i for i in n_alleles_list if i >2])\n",
    "print \"out of \", len(n_alleles_list), \" total snps\""
   ]
  },
  {
   "cell_type": "markdown",
   "metadata": {},
   "source": [
    "<br>\n",
    "<br>\n",
    "What I think is happening: \n",
    "1. My run of stacks did retain loci that contain triallelic SNPs that show up in Kristen's data, but because I am using `write_random_snp`, a different SNP may be put out in the final data set\n",
    "2. Kristen did not specify a minimum stack depth of m = 10. This is the \"minimum stack depth required for individuals at a locus.\" It is possible that at some loci, the individuals with the third SNP had low stack depth, and so were not retained for analyzing this particular locus?"
   ]
  },
  {
   "cell_type": "markdown",
   "metadata": {},
   "source": [
    "### Filter loci for missing data"
   ]
  },
  {
   "cell_type": "code",
   "execution_count": 54,
   "metadata": {
    "collapsed": false
   },
   "outputs": [
    {
     "data": {
      "text/plain": [
       "u'/mnt/hgfs/Pacific cod/DataAnalysis/PCod-Compare-repo/stacks_b1_wgenome'"
      ]
     },
     "execution_count": 54,
     "metadata": {},
     "output_type": "execute_result"
    }
   ],
   "source": [
    "pwd"
   ]
  },
  {
   "cell_type": "code",
   "execution_count": 55,
   "metadata": {
    "collapsed": false
   },
   "outputs": [
    {
     "name": "stdout",
     "output_type": "stream",
     "text": [
      "/mnt/hgfs/Pacific cod/DataAnalysis/PCod-Compare-repo/scripts/PostStacksFilter_rSNP\n"
     ]
    }
   ],
   "source": [
    "cd ../scripts/PostStacksFilter_rSNP/"
   ]
  },
  {
   "cell_type": "code",
   "execution_count": 60,
   "metadata": {
    "collapsed": false
   },
   "outputs": [
    {
     "name": "stdout",
     "output_type": "stream",
     "text": [
      "usage: filter_loci_missing_data.py [-h] [-f INPUT] [-og OUTPUT_GOOD]\r\n",
      "                                   [-ob OUTPUT_BAD] [-op OUTPUT_PROPORTIONS]\r\n",
      "                                   [-s STACKS_PATH] [-p PERCENT]\r\n",
      "\r\n",
      "convert populations genepop file into matrix for further filtering\r\n",
      "\r\n",
      "optional arguments:\r\n",
      "  -h, --help            show this help message and exit\r\n",
      "  -f INPUT, --input INPUT\r\n",
      "                        genotype file in 2 x 2 matrix\r\n",
      "  -og OUTPUT_GOOD, --output_good OUTPUT_GOOD\r\n",
      "                        output file containing 'good' loci\r\n",
      "  -ob OUTPUT_BAD, --output_bad OUTPUT_BAD\r\n",
      "                        output file containing 'bad' loci\r\n",
      "  -op OUTPUT_PROPORTIONS, --output_proportions OUTPUT_PROPORTIONS\r\n",
      "                        output file containing the missing data per locus\r\n",
      "  -s STACKS_PATH, --stacks_path STACKS_PATH\r\n",
      "                        path to the directory containing your stacks files\r\n",
      "  -p PERCENT, --percent PERCENT\r\n",
      "                        threshold to remove missing data: ___ percent or more\r\n",
      "                        missing genotypes\r\n"
     ]
    }
   ],
   "source": [
    "!python filter_loci_missing_data.py -h "
   ]
  },
  {
   "cell_type": "code",
   "execution_count": 63,
   "metadata": {
    "collapsed": false
   },
   "outputs": [
    {
     "name": "stdout",
     "output_type": "stream",
     "text": [
      "Transposing matrix...\n",
      "calculating 'good' and 'bad' loci...\n",
      "Deleting temporary file...\n",
      "writing 'good' and 'bad' loci to files...\n",
      "done.\n",
      "Total loci:  22054\n",
      "Loci retained:  3112\n",
      "Loci removed:  18942\n",
      "Missing data info per locus can be found in the 'proportions' output file.\n"
     ]
    }
   ],
   "source": [
    "!python filter_loci_missing_data.py \\\n",
    "-f batch_1_genotypes.txt \\\n",
    "-og batch_1.filteredLoci \\\n",
    "-ob batch_1.filteredLoci_bad \\\n",
    "-op batch_1_filteredLoci_props20.txt \\\n",
    "-s ../../stacks_b1_wgenome \\\n",
    "-p 0.20"
   ]
  },
  {
   "cell_type": "markdown",
   "metadata": {},
   "source": [
    "Wow, that's a lot of loci filtered out for missing data. My guess is that it's because loci that are common in the Korean population aren't as common among Alaskan individuals? I did have a fairly low threshold in populations for the minimum number of populations required for a locus to be processed (3 out of 17). Let's take a look at the distribution and pick a new threshold value. "
   ]
  },
  {
   "cell_type": "code",
   "execution_count": 64,
   "metadata": {
    "collapsed": true
   },
   "outputs": [],
   "source": [
    "infile = open(\"../../stacks_b1_wgenome/batch_1_filteredLoci_props20.txt\")\n",
    "p_missing_list = []\n",
    "infile.readline()\n",
    "for line in infile:\n",
    "    p_missing_list.append(float(line.strip().split()[2]))\n",
    "infile.close()\n",
    "\n",
    "import numpy as np\n",
    "import matplotlib.pyplot as plt"
   ]
  },
  {
   "cell_type": "code",
   "execution_count": 65,
   "metadata": {
    "collapsed": false
   },
   "outputs": [
    {
     "data": {
      "image/png": "[encoded data removed]",
      "text/plain": [
       "<matplotlib.figure.Figure at 0x7f794849c850>"
      ]
     },
     "metadata": {},
     "output_type": "display_data"
    }
   ],
   "source": [
    "plt.hist(p_missing_list, color=\"darkcyan\", alpha= 0.80)\n",
    "plt.suptitle(\"% Missing Genotypes, by Locus\")\n",
    "plt.xlabel(\"% of Genotypes Missing\")\n",
    "plt.show()"
   ]
  },
  {
   "cell_type": "code",
   "execution_count": 66,
   "metadata": {
    "collapsed": true
   },
   "outputs": [],
   "source": [
    "plt.close()"
   ]
  },
  {
   "cell_type": "code",
   "execution_count": 71,
   "metadata": {
    "collapsed": false
   },
   "outputs": [
    {
     "name": "stdout",
     "output_type": "stream",
     "text": [
      "5668\n"
     ]
    }
   ],
   "source": [
    "# How many loci would I retain if the threshold was at 0.50?\n",
    "print len([i for i in p_missing_list if i < 0.50])"
   ]
  },
  {
   "cell_type": "code",
   "execution_count": 73,
   "metadata": {
    "collapsed": false
   },
   "outputs": [
    {
     "name": "stdout",
     "output_type": "stream",
     "text": [
      "13709\n"
     ]
    }
   ],
   "source": [
    "# How many loci would I retain if the threshold was at 0.60?\n",
    "print len([i for i in p_missing_list if i < 0.60])"
   ]
  },
  {
   "cell_type": "markdown",
   "metadata": {},
   "source": [
    "Ok, I'm going to continue on with a threshold of 0.60. I know it's not nearly stringent enough, but I need to see how many loci get cut because of MAF. "
   ]
  },
  {
   "cell_type": "code",
   "execution_count": 74,
   "metadata": {
    "collapsed": false
   },
   "outputs": [
    {
     "name": "stdout",
     "output_type": "stream",
     "text": [
      "Transposing matrix...\n",
      "calculating 'good' and 'bad' loci...\n",
      "Deleting temporary file...\n",
      "writing 'good' and 'bad' loci to files...\n",
      "done.\n",
      "Total loci:  22054\n",
      "Loci retained:  13709\n",
      "Loci removed:  8345\n",
      "Missing data info per locus can be found in the 'proportions' output file.\n"
     ]
    }
   ],
   "source": [
    "!python filter_loci_missing_data.py \\\n",
    "-f batch_1_genotypes.txt \\\n",
    "-og batch_1.filteredLoci \\\n",
    "-ob batch_1.filteredLoci_bad \\\n",
    "-op batch_1_filteredLoci_props60.txt \\\n",
    "-s ../../stacks_b1_wgenome \\\n",
    "-p 0.60"
   ]
  },
  {
   "cell_type": "markdown",
   "metadata": {},
   "source": [
    "### Convert filtered matrix file into genepop file\n",
    "\n",
    "I need to use the population map for this script to generate column indices. ** Before running this script, check your populations output **. If there are any individuals left out of population level analyses because of a lot of missing data, then this will mess up the column indices. \n",
    "\n",
    "I had one individual, `JB07_07`, removed during populations. From here on, I will use the population map file `PopMap_combo_2.txt`, which was edited to reflect this removal. \n",
    "\n",
    "Also note that this python script runs in two parts. The first part is contained within the first script below. The second part is a second python script that is generated and then called from within the first script below. "
   ]
  },
  {
   "cell_type": "code",
   "execution_count": 75,
   "metadata": {
    "collapsed": false
   },
   "outputs": [
    {
     "data": {
      "text/plain": [
       "u'/mnt/hgfs/Pacific cod/DataAnalysis/PCod-Compare-repo/scripts/PostStacksFilter_rSNP'"
      ]
     },
     "execution_count": 75,
     "metadata": {},
     "output_type": "execute_result"
    }
   ],
   "source": [
    "pwd"
   ]
  },
  {
   "cell_type": "code",
   "execution_count": 76,
   "metadata": {
    "collapsed": false,
    "scrolled": true
   },
   "outputs": [
    {
     "name": "stdout",
     "output_type": "stream",
     "text": [
      "usage: matrix_conversion_forGENEPOP.py [-h] [-f INPUT] [-o OUTPUT] [-m POPMAP]\r\n",
      "                                       [-pm PATH_POPMAP] [-ps PATH_STACKS]\r\n",
      "                                       [-t TITLE]\r\n",
      "\r\n",
      "convert matrix file (samples as column headers) to a genepop file.\r\n",
      "\r\n",
      "optional arguments:\r\n",
      "  -h, --help            show this help message and exit\r\n",
      "  -f INPUT, --input INPUT\r\n",
      "                        2 x 2 matrix file with samples as column headers, one\r\n",
      "                        row per locus.\r\n",
      "  -o OUTPUT, --output OUTPUT\r\n",
      "                        output file in genepop format\r\n",
      "  -m POPMAP, --popmap POPMAP\r\n",
      "                        population map file\r\n",
      "  -pm PATH_POPMAP, --path_popmap PATH_POPMAP\r\n",
      "                        path to population map file\r\n",
      "  -ps PATH_STACKS, --path_stacks PATH_STACKS\r\n",
      "                        path to stacks files, including input file\r\n",
      "  -t TITLE, --title TITLE\r\n",
      "                        title for your genepop file\r\n"
     ]
    }
   ],
   "source": [
    "!python matrix_conversion_forGENEPOP.py -h"
   ]
  },
  {
   "cell_type": "markdown",
   "metadata": {},
   "source": [
    "#### 8/29/2017"
   ]
  },
  {
   "cell_type": "code",
   "execution_count": 2,
   "metadata": {
    "collapsed": false
   },
   "outputs": [
    {
     "name": "stdout",
     "output_type": "stream",
     "text": [
      "/mnt/hgfs/Pacific cod/DataAnalysis/PCod-Compare-repo/scripts/PostStacksFilter_rSNP\n"
     ]
    }
   ],
   "source": [
    "cd ../scripts/PostStacksFilter_rSNP/"
   ]
  },
  {
   "cell_type": "code",
   "execution_count": 7,
   "metadata": {
    "collapsed": false
   },
   "outputs": [
    {
     "name": "stdout",
     "output_type": "stream",
     "text": [
      "You have 17 populations.\n",
      "These are your populations, with the number of samples in each:\n",
      "OrderedDict([('Pohang15', 34), ('Geoje15', 37), ('Namhae15', 19), ('YellowSea16', 30), ('Jukbyeon07', 37), ('JinhaeBay07', 52), ('JinhaeBay08', 56), ('Boryeong07', 24), ('Geoje14', 36), ('Kodiak03', 48), ('Adak06', 48), ('WashCoast05', 48), ('HecStrait04', 48), ('SalishSea12_13', 42), ('JuandeFuca12', 23), ('PWSound12', 48), ('UnimakPass03', 48)])\n",
      "creating script for part 2...\n",
      "calling script for part 2...\n",
      "transposing genotypes matrix...\n",
      "writing loci into genepop file...\n",
      "writing genotypes into genepop file by population...\n",
      "done.\n"
     ]
    }
   ],
   "source": [
    "!python matrix_conversion_forGENEPOP.py \\\n",
    "-f batch_1.filteredLoci \\\n",
    "-o batch_1_filteredLoci.txt \\\n",
    "-m PopMap_combo_2.txt \\\n",
    "-pm ../ \\\n",
    "-ps ../../stacks_b1_wgenome \\\n",
    "-t \"PCod Genepop File for MAF Filtering, Korean + Alaskan Data batch 1\""
   ]
  },
  {
   "cell_type": "markdown",
   "metadata": {},
   "source": [
    "**Checked the genotypes for the first and last samples in each population** to make sure that the script is copying over genotypes correctly. It did! The excel spreadsheet used to check can be found in the `stacks_pipeline_analyses` folder, as `check_matrix_to_genepop_PostStacksFilter.xlsx`"
   ]
  },
  {
   "cell_type": "markdown",
   "metadata": {
    "collapsed": true
   },
   "source": [
    "<br>\n",
    "<br>\n",
    "### Filter for MAF\n",
    "\n",
    "#### STEP ONE: Run GENEPOP\n",
    "\n",
    "Option 5 >> Suboption 1 to produce allele frequencies per locus. \n",
    "\n",
    "This will produce an output file `.INF` that has allele frequencies. \n",
    "<br>\n",
    "\n",
    "#### STEP TWO: Parse GENEPOP output\n",
    "\n",
    "Towards the end of the `.INF` file, allele frequencies are listed by population by locus, with one frequency table per locus. The script below parses this section into an \"output frequency\" file "
   ]
  },
  {
   "cell_type": "code",
   "execution_count": 29,
   "metadata": {
    "collapsed": false
   },
   "outputs": [
    {
     "data": {
      "text/plain": [
       "u'/mnt/hgfs/Pacific cod/DataAnalysis/PCod-Compare-repo/scripts/PostStacksFilter_rSNP'"
      ]
     },
     "execution_count": 29,
     "metadata": {},
     "output_type": "execute_result"
    }
   ],
   "source": [
    "pwd"
   ]
  },
  {
   "cell_type": "code",
   "execution_count": 30,
   "metadata": {
    "collapsed": false
   },
   "outputs": [
    {
     "name": "stdout",
     "output_type": "stream",
     "text": [
      "usage: parse_INF_file.py [-h] [-f INPUT] [-p PATH_STACKS] [-pop POPS_LIST]\r\n",
      "                         [-b BATCH]\r\n",
      "\r\n",
      "parse .INF file from genepop to get allele frequences by population by locus\r\n",
      "\r\n",
      "optional arguments:\r\n",
      "  -h, --help            show this help message and exit\r\n",
      "  -f INPUT, --input INPUT\r\n",
      "                        .INF file\r\n",
      "  -p PATH_STACKS, --path_stacks PATH_STACKS\r\n",
      "                        path to stacks files, including .INF file\r\n",
      "  -pop POPS_LIST, --pops_list POPS_LIST\r\n",
      "                        list of population names, in quotation marks. make\r\n",
      "                        sure this is in the same order as the populations\r\n",
      "                        listed in the .INF output file! (aka the order of your\r\n",
      "                        populations in your pop map file)\r\n",
      "  -b BATCH, --batch BATCH\r\n",
      "                        stacks batch number\r\n"
     ]
    }
   ],
   "source": [
    "!python parse_INF_file.py -h"
   ]
  },
  {
   "cell_type": "code",
   "execution_count": 46,
   "metadata": {
    "collapsed": false
   },
   "outputs": [
    {
     "name": "stdout",
     "output_type": "stream",
     "text": [
      "You have a maximum of  3  alleles at one or more of your loci.\r\n",
      "17  populations detected.\r\n",
      "Heading written to output file. Now parsing allele frequencies...\r\n",
      "Done.\r\n",
      "Parsed allele frequencies in  4  loci.\r\n"
     ]
    }
   ],
   "source": [
    "# first with a small test file...\n",
    "!python parse_INF_file.py \\\n",
    "-f test_INF_parse.txt \\\n",
    "-p ../PostStacksFilter_rSNP \\\n",
    "-pop \"POH GEO NAM YS JUK JBE JBL BOR GEO14 KOD AK WC HS SS JDF PWS UP\" \\\n",
    "-b 1"
   ]
  },
  {
   "cell_type": "code",
   "execution_count": 48,
   "metadata": {
    "collapsed": false
   },
   "outputs": [
    {
     "name": "stdout",
     "output_type": "stream",
     "text": [
      "You have a maximum of  2  alleles at one or more of your loci.\n",
      "17  populations detected.\n",
      "Heading written to output file. Now parsing allele frequencies...\n",
      "Done.\n",
      "Parsed allele frequencies in  13709  loci.\n"
     ]
    }
   ],
   "source": [
    "# now with the real file\n",
    "!python parse_INF_file.py \\\n",
    "-f batch_1_filteredLoci.txt.INF \\\n",
    "-p ../../stacks_b1_wgenome \\\n",
    "-pop \"POH GEO NAM YS JUK JBE JBL BOR GEO14 KOD AK WC HS SS JDF PWS UP\" \\\n",
    "-b 1"
   ]
  },
  {
   "cell_type": "markdown",
   "metadata": {},
   "source": [
    "<br>\n",
    "I checked the frequencies listed for the first three loci, and the .INF file matches the parsed file! All loci were written to output.\n",
    "\n",
    "While I was checking the output, I noticed something interesting for locus 5_81. Of the 5 populations with that locus, three are fixed for the first allele, and 2 have an allele frequency of 0.988 for the first allele. Could the 0.013 frequency be a genotyping error? That means only one individual in those populations actually has the second allele. Seems low... \n",
    "\n",
    "<br>\n",
    "\n",
    "#### STEP THREE: Use parsed INF file to filter matrix file of genotypes. "
   ]
  },
  {
   "cell_type": "code",
   "execution_count": 57,
   "metadata": {
    "collapsed": false
   },
   "outputs": [
    {
     "name": "stdout",
     "output_type": "stream",
     "text": [
      "usage: filter_for_MAF_from_parsedINF.py [-h] [-inf INFINPUT]\r\n",
      "                                        [-mat MATRIXINPUT] [-og OUTPUT_GOOD]\r\n",
      "                                        [-ob OUTPUT_BAD]\r\n",
      "                                        [-ofg OUTPUTFREQS_GOOD]\r\n",
      "                                        [-ofb OUTPUTFREQS_BAD]\r\n",
      "                                        [-p PATH_STACKS] [-a ALLELES]\r\n",
      "                                        [-b BATCH]\r\n",
      "\r\n",
      "filter for MAF using parsed .INF genepop file.\r\n",
      "\r\n",
      "optional arguments:\r\n",
      "  -h, --help            show this help message and exit\r\n",
      "  -inf INFINPUT, --INFinput INFINPUT\r\n",
      "                        parsed .INF file\r\n",
      "  -mat MATRIXINPUT, --MATRIXinput MATRIXINPUT\r\n",
      "                        half filtered matrix file that was used to make\r\n",
      "                        genepop file\r\n",
      "  -og OUTPUT_GOOD, --output_good OUTPUT_GOOD\r\n",
      "                        output file, good loci\r\n",
      "  -ob OUTPUT_BAD, --output_bad OUTPUT_BAD\r\n",
      "                        output file, bad loci\r\n",
      "  -ofg OUTPUTFREQS_GOOD, --outputfreqs_good OUTPUTFREQS_GOOD\r\n",
      "                        output file, frequencies of good loci\r\n",
      "  -ofb OUTPUTFREQS_BAD, --outputfreqs_bad OUTPUTFREQS_BAD\r\n",
      "                        output file, frequencies of bad loci\r\n",
      "  -p PATH_STACKS, --path_stacks PATH_STACKS\r\n",
      "                        path to stacks files, including .INF file\r\n",
      "  -a ALLELES, --alleles ALLELES\r\n",
      "                        maximum number of alleles; this should have been\r\n",
      "                        printed out during the parsing script.\r\n",
      "  -b BATCH, --batch BATCH\r\n",
      "                        stacks batch number\r\n"
     ]
    }
   ],
   "source": [
    "!python filter_for_MAF_from_parsedINF.py -h"
   ]
  },
  {
   "cell_type": "code",
   "execution_count": 82,
   "metadata": {
    "collapsed": false
   },
   "outputs": [
    {
     "name": "stdout",
     "output_type": "stream",
     "text": [
      "6246  loci written to filtered output file.\r\n",
      "Filtered out  7463  loci.\r\n"
     ]
    }
   ],
   "source": [
    "!python filter_for_MAF_from_parsedINF.py \\\n",
    "-inf batch_1_parseINF.txt \\\n",
    "-mat batch_1.filteredLoci \\\n",
    "-og batch_1.filteredLoci_filteredMAF \\\n",
    "-ob batch_1.filteredLoci_filteredMAF_badloci \\\n",
    "-ofg batch_1.filteredLoci_filteredMAF_goodFreqs \\\n",
    "-ofb batch_1.filteredLoci_filteredMAF_badFreqs \\\n",
    "-p ../../stacks_b1_wgenome \\\n",
    "-a 2 \\\n",
    "-b 1"
   ]
  },
  {
   "cell_type": "markdown",
   "metadata": {},
   "source": [
    "** Check to make sure that the filtering worked correctly **\n",
    "\n",
    "(1) Did every locus get written to one file or the other?"
   ]
  },
  {
   "cell_type": "code",
   "execution_count": 83,
   "metadata": {
    "collapsed": false
   },
   "outputs": [
    {
     "data": {
      "text/plain": [
       "True"
      ]
     },
     "execution_count": 83,
     "metadata": {},
     "output_type": "execute_result"
    }
   ],
   "source": [
    "infile1 = open(\"../../stacks_b1_wgenome/batch_1.filteredLoci_filteredMAF_goodfreqs\", \"r\")\n",
    "infile2 = open(\"../../stacks_b1_wgenome/batch_1.filteredLoci_filteredMAF_badfreqs\", \"r\")\n",
    "checkfile = open(\"../../stacks_b1_wgenome/batch_1.filteredLoci_filteredMAF_goodfreqs\", \"r\")\n",
    "\n",
    "loci_out = []\n",
    "loci_in = []\n",
    "infile1.readline()\n",
    "infile2.readline()\n",
    "checkfile.readline()\n",
    "for line in infile1:\n",
    "    loci_out.append(line.strip().split()[0])\n",
    "infile1.close()\n",
    "for line in infile2:\n",
    "    loci_out.append(line.strip().split()[0])\n",
    "infile2.close()\n",
    "for line in checkfile:\n",
    "    loci_in.append(line.strip().split()[0])\n",
    "checkfile.close()\n",
    "\n",
    "all(l in loci_out for l in loci_in)"
   ]
  },
  {
   "cell_type": "markdown",
   "metadata": {},
   "source": [
    "(2) Did every locus that was filtered out have allele frequencies of >0.95 or <0.05 for every allele in every population?"
   ]
  },
  {
   "cell_type": "code",
   "execution_count": 84,
   "metadata": {
    "collapsed": true
   },
   "outputs": [],
   "source": [
    "infile = open(\"../../stacks_b1_wgenome/batch_1.filteredLoci_filteredMAF_badfreqs\", \"r\")\n",
    "infile.readline()\n",
    "for line in infile:\n",
    "    alleles = line.strip().split()[1:]\n",
    "    if any(a > 0.05 and a < 0.95 for a in alleles):\n",
    "        print \"you messed up at locus \", line.strip().split()[0]"
   ]
  },
  {
   "cell_type": "markdown",
   "metadata": {},
   "source": [
    "(3) Did every locus in the \"bad frequency\" file get written to the \"bad loci\" file, and every locus in the \"good frequency\" file get written to the \"good loci\" file?"
   ]
  },
  {
   "cell_type": "code",
   "execution_count": 85,
   "metadata": {
    "collapsed": false
   },
   "outputs": [
    {
     "name": "stdout",
     "output_type": "stream",
     "text": [
      "True\n",
      "True\n",
      "True\n",
      "True\n"
     ]
    }
   ],
   "source": [
    "checkfile = open(\"../../stacks_b1_wgenome/batch_1.filteredLoci_filteredMAF_badfreqs\", \"r\")\n",
    "infile = open(\"../../stacks_b1_wgenome/batch_1.filteredLoci_filteredMAF_badloci\", \"r\")\n",
    "infile.readline()\n",
    "checkfile.readline()\n",
    "loci_list_in = []\n",
    "for line in infile:\n",
    "    loci_list_in.append(line.strip().split()[0])\n",
    "infile.close()\n",
    "loci_list_check = []\n",
    "for line in checkfile:\n",
    "    loci_list_check.append(line.strip().split()[0])\n",
    "checkfile.close()\n",
    "print all(locus in loci_list_in for locus in loci_list_check)\n",
    "print all(locus in loci_list_check for locus in loci_list_in)\n",
    "\n",
    "checkfile = open(\"../../stacks_b1_wgenome/batch_1.filteredLoci_filteredMAF_goodfreqs\", \"r\")\n",
    "infile = open(\"../../stacks_b1_wgenome/batch_1.filteredLoci_filteredMAF\", \"r\")\n",
    "infile.readline()\n",
    "checkfile.readline()\n",
    "loci_list_in = []\n",
    "for line in infile:\n",
    "    loci_list_in.append(line.strip().split()[0])\n",
    "infile.close()\n",
    "loci_list_check = []\n",
    "for line in checkfile:\n",
    "    loci_list_check.append(line.strip().split()[0])\n",
    "checkfile.close()\n",
    "print all(locus in loci_list_in for locus in loci_list_check)\n",
    "print all(locus in loci_list_check for locus in loci_list_in)\n"
   ]
  },
  {
   "cell_type": "markdown",
   "metadata": {},
   "source": [
    "**6246 loci remaining**"
   ]
  },
  {
   "cell_type": "markdown",
   "metadata": {},
   "source": [
    "<br>\n",
    "<br>\n",
    "<br>\n",
    "\n",
    "### Filter Individuals for Missing Data\n",
    "\n",
    "This will filter out individuals with too many missing genotypes. "
   ]
  },
  {
   "cell_type": "code",
   "execution_count": 86,
   "metadata": {
    "collapsed": false
   },
   "outputs": [
    {
     "name": "stdout",
     "output_type": "stream",
     "text": [
      "usage: filter_individs_missing_data.py [-h] [-f INPUT] [-og OUTPUT_GOOD]\r\n",
      "                                       [-ob OUTPUT_BAD]\r\n",
      "                                       [-op OUTPUT_PROPORTIONS]\r\n",
      "                                       [-s STACKS_PATH] [-p PERCENT]\r\n",
      "\r\n",
      "filter individuals for missing data\r\n",
      "\r\n",
      "optional arguments:\r\n",
      "  -h, --help            show this help message and exit\r\n",
      "  -f INPUT, --input INPUT\r\n",
      "                        genotype file in 2 x 2 matrix\r\n",
      "  -og OUTPUT_GOOD, --output_good OUTPUT_GOOD\r\n",
      "                        output file containing 'good' loci\r\n",
      "  -ob OUTPUT_BAD, --output_bad OUTPUT_BAD\r\n",
      "                        output file containing 'bad' loci\r\n",
      "  -op OUTPUT_PROPORTIONS, --output_proportions OUTPUT_PROPORTIONS\r\n",
      "                        output file containing the missing data per individual\r\n",
      "  -s STACKS_PATH, --stacks_path STACKS_PATH\r\n",
      "                        path to the directory containing your stacks files\r\n",
      "  -p PERCENT, --percent PERCENT\r\n",
      "                        threshold to remove missing data: ___ percent or more\r\n",
      "                        loci missing genotypes\r\n"
     ]
    }
   ],
   "source": [
    "!python filter_individs_missing_data.py -h "
   ]
  },
  {
   "cell_type": "code",
   "execution_count": 88,
   "metadata": {
    "collapsed": false
   },
   "outputs": [
    {
     "name": "stdout",
     "output_type": "stream",
     "text": [
      "Transposing matrix...\n",
      "calculating which individuals are missing too much data...\n",
      "Deleting temporary file...\n",
      "writing individuals to files...\n",
      "done.\n",
      "Total individuals processed:  678\n",
      "Individuals retained:  292\n",
      "Individuals removed:  386\n",
      "Missing data info per individual can be found in the 'proportions' output file.\n"
     ]
    }
   ],
   "source": [
    "!python filter_individs_missing_data.py \\\n",
    "-f batch_1.filteredLoci_filteredMAF \\\n",
    "-og batch_1.filteredLoci_filteredMAF_filteredIndivids \\\n",
    "-ob batch_1.filteredLoci_filteredMAF_filteredIndivids_bad \\\n",
    "-op batch_1.filteredLoci_filteredMAF_filteredIndivids_props20.txt \\\n",
    "-s ../../stacks_b1_wgenome \\\n",
    "-p 0.20"
   ]
  },
  {
   "cell_type": "markdown",
   "metadata": {},
   "source": [
    "So nearly all individuals from the Alaskan population will get filtered out at my usual missing data threshold. "
   ]
  },
  {
   "cell_type": "code",
   "execution_count": 89,
   "metadata": {
    "collapsed": true
   },
   "outputs": [],
   "source": [
    "infile = open(\"../../stacks_b1_wgenome/batch_1.filteredLoci_filteredMAF_filteredIndivids_props20.txt\")\n",
    "p_missing_list = []\n",
    "infile.readline()\n",
    "for line in infile:\n",
    "    p_missing_list.append(float(line.strip().split()[2]))\n",
    "infile.close()\n",
    "\n",
    "import numpy as np\n",
    "import matplotlib.pyplot as plt"
   ]
  },
  {
   "cell_type": "code",
   "execution_count": 90,
   "metadata": {
    "collapsed": false
   },
   "outputs": [
    {
     "data": {
      "image/png": "[encoded data removed]",
      "text/plain": [
       "<matplotlib.figure.Figure at 0x7f9c364712d0>"
      ]
     },
     "metadata": {},
     "output_type": "display_data"
    }
   ],
   "source": [
    "plt.hist(p_missing_list, color=\"darkcyan\", alpha= 0.80)\n",
    "plt.suptitle(\"% Missing Genotypes, by Individual\")\n",
    "plt.xlabel(\"% of Genotypes Missing\")\n",
    "plt.show()"
   ]
  },
  {
   "cell_type": "code",
   "execution_count": 91,
   "metadata": {
    "collapsed": true
   },
   "outputs": [],
   "source": [
    "plt.close()"
   ]
  },
  {
   "cell_type": "markdown",
   "metadata": {},
   "source": [
    "#### 6246 loci remaining.\n",
    "\n",
    "#### 292 individuals remaining."
   ]
  },
  {
   "cell_type": "markdown",
   "metadata": {},
   "source": [
    "If I match my loci missing data threshold of 0.60..."
   ]
  },
  {
   "cell_type": "code",
   "execution_count": 98,
   "metadata": {
    "collapsed": false,
    "scrolled": true
   },
   "outputs": [
    {
     "name": "stdout",
     "output_type": "stream",
     "text": [
      "Transposing matrix...\n",
      "calculating which individuals are missing too much data...\n",
      "Deleting temporary file...\n",
      "writing individuals to files...\n",
      "done.\n",
      "Total individuals processed:  678\n",
      "Individuals retained:  358\n",
      "Individuals removed:  320\n",
      "Missing data info per individual can be found in the 'proportions' output file.\n"
     ]
    }
   ],
   "source": [
    "!python filter_individs_missing_data.py \\\n",
    "-f batch_1.filteredLoci_filteredMAF \\\n",
    "-og batch_1.filteredLoci_filteredMAF_filteredIndivids60 \\\n",
    "-ob batch_1.filteredLoci_filteredMAF_filteredIndivids60_bad \\\n",
    "-op batch_1.filteredLoci_filteredMAF_filteredIndivids_props60.txt \\\n",
    "-s ../../stacks_b1_wgenome \\\n",
    "-p 0.60"
   ]
  },
  {
   "cell_type": "markdown",
   "metadata": {},
   "source": [
    "#### 6246 loci remaining.\n",
    "#### 358 individuals remaining."
   ]
  },
  {
   "cell_type": "markdown",
   "metadata": {},
   "source": [
    "The removal of a lot of individuals probably has to do with the large amount of missing data allowed per locus (0.60)"
   ]
  },
  {
   "cell_type": "markdown",
   "metadata": {},
   "source": [
    "### Return to loci / individuals missing data filtering"
   ]
  },
  {
   "cell_type": "code",
   "execution_count": 96,
   "metadata": {
    "collapsed": false
   },
   "outputs": [
    {
     "name": "stdout",
     "output_type": "stream",
     "text": [
      "calculating 'good' and 'bad' loci...\n",
      "writing 'good' and 'bad' loci to files...\n",
      "done.\n",
      "Total loci:  6246\n",
      "Loci retained:  1415\n",
      "Loci removed:  4831\n",
      "Missing data info per locus can be found in the 'proportions' output file.\n"
     ]
    }
   ],
   "source": [
    "!python filter_loci_missing_data_postMAF.py \\\n",
    "-f batch_1.filteredLoci_filteredMAF \\\n",
    "-og batch_1.filteredLoci_filteredMAF_Loci2 \\\n",
    "-ob batch_1.filteredLoci_filteredMAF_Loci2_bad \\\n",
    "-op batch_1_filteredLoci_filteredMAF_Loci2_props20.txt \\\n",
    "-s ../../stacks_b1_wgenome \\\n",
    "-p 0.20"
   ]
  },
  {
   "cell_type": "code",
   "execution_count": 97,
   "metadata": {
    "collapsed": false
   },
   "outputs": [
    {
     "name": "stdout",
     "output_type": "stream",
     "text": [
      "Transposing matrix...\n",
      "calculating which individuals are missing too much data...\n",
      "Deleting temporary file...\n",
      "writing individuals to files...\n",
      "done.\n",
      "Total individuals processed:  678\n",
      "Individuals retained:  603\n",
      "Individuals removed:  75\n",
      "Missing data info per individual can be found in the 'proportions' output file.\n"
     ]
    }
   ],
   "source": [
    "!python filter_individs_missing_data.py \\\n",
    "-f batch_1.filteredLoci_filteredMAF_Loci2 \\\n",
    "-og batch_1.filteredLoci_filteredMAF_Loci2_filteredIndivids \\\n",
    "-ob batch_1.filteredLoci_filteredMAF_Loci2_filteredIndivids_bad \\\n",
    "-op batch_1.filteredLoci_filteredMAF__Loci2_filteredIndivids_props20.txt \\\n",
    "-s ../../stacks_b1_wgenome \\\n",
    "-p 0.20"
   ]
  },
  {
   "cell_type": "markdown",
   "metadata": {},
   "source": [
    "**Retain 1,415 Loci**\n",
    "\n",
    "**Retain 603 Individuals**"
   ]
  },
  {
   "cell_type": "markdown",
   "metadata": {},
   "source": [
    "Individuals that were filtered out:\n",
    "\n",
    "|----Population----|----Spawning Aggregate----|----# Removed----|----# Remaining----|\n",
    "|:----------------:|:------------------------:|:---------------:|:-----------------:|\n",
    "|KOR|Pohang|0|31|\n",
    "|KOR|Geoje 2015|0|34|\n",
    "|KOR|Namhae|0|16|\n",
    "|KOR|Yellow Sea Block|1|25|\n",
    "|KOR|Jukbyeon|2|31|\n",
    "|KOR|Jinhae Bay E|11|31|\n",
    "|KOR|Jinhae Bay L|7|38|\n",
    "|KOR|Boryeong|0|22|\n",
    "|KOR|Geoje 2014|1|22|\n",
    "|AK|Kodiak|4|44|\n",
    "|AK|Adak|16|32|\n",
    "|AK|Wash Coast|9|39|\n",
    "|AK|Hec Strait|5|43|\n",
    "|AK|Salish Sea|4|38|\n",
    "|AK|Juan de Fuca|2|21|\n",
    "|AK|PW Sound|1|47|\n",
    "|AK|Unimak|4|44|"
   ]
  },
  {
   "cell_type": "code",
   "execution_count": null,
   "metadata": {
    "collapsed": true
   },
   "outputs": [],
   "source": []
  }
 ],
 "metadata": {
  "anaconda-cloud": {},
  "kernelspec": {
   "display_name": "Python [default]",
   "language": "python",
   "name": "python2"
  },
  "language_info": {
   "codemirror_mode": {
    "name": "ipython",
    "version": 2
   },
   "file_extension": ".py",
   "mimetype": "text/x-python",
   "name": "python",
   "nbconvert_exporter": "python",
   "pygments_lexer": "ipython2",
   "version": "2.7.12"
  }
 },
 "nbformat": 4,
 "nbformat_minor": 1
}
