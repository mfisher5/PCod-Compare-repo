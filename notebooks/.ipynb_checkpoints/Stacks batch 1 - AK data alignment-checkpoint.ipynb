{
 "cells": [
  {
   "cell_type": "markdown",
   "metadata": {},
   "source": [
    "## Stacks batch 1 - Alaskan data alignment to Korean reference\n",
    "\n",
    "\n",
    "I cannot run the stacks pipeline batch 1 for the combined data until I have the Alaskan data aligned to the Korean reference. I'll do this using `BOWTIE` and then run `pstacks` on those samples. At the end of these alignments, I'll look at: \n",
    "1. the number of reads per individual in Alaskan v. Korean data\n",
    "2. the number of stacks perindividual in Alaskan v. Korean data\n",
    "\n",
    "To determine if using a reference built with Korean data only allows Alaskan samples to retain enough information. \n",
    "\n",
    "<br>\n",
    "<br>\n",
    "<br>\n",
    "\n",
    "#### 8/23/2017\n",
    "### Bowtie Alignments"
   ]
  },
  {
   "cell_type": "code",
   "execution_count": 1,
   "metadata": {
    "collapsed": false
   },
   "outputs": [
    {
     "name": "stdout",
     "output_type": "stream",
     "text": [
      "/mnt/hgfs/Pacific cod/DataAnalysis/PCod-Compare-repo/scripts\n"
     ]
    }
   ],
   "source": [
    "cd ../scripts"
   ]
  },
  {
   "cell_type": "code",
   "execution_count": 3,
   "metadata": {
    "collapsed": false
   },
   "outputs": [
    {
     "name": "stdout",
     "output_type": "stream",
     "text": [
      "###### Generate Shell Script to Align all FastQ Data Files to BOWTIE ref genome ######\r\n",
      "\r\n",
      "## MF 3/9/2017\r\n",
      "## Edited 5/2/2017 for Korean Cod Data, for UNZIPPED FASTQ FILES\r\n",
      "\r\n",
      "\r\n",
      "\r\n",
      "## At Command Line: python cstacks_populations_genShell.py ARG1 ARG2 ARG3 ARG4 ARG5\r\n",
      "##---- ARG1 = complete sample list file\r\n",
      "##---- ARG2 = relative path to bowtie ref database, including file name without filetype suffix\r\n",
      "##---- ARG3 = relative path to stacks fastq files, output from process_radtags\r\n",
      "##---- ARG4 = batch #\r\n",
      "##---- ARG5 = relative path to where you want the .sam files to go\r\n",
      "\r\n",
      "\r\n"
     ]
    }
   ],
   "source": [
    "!head -n 15 RefGenome_BOWTIEalign_genshell5-2.py"
   ]
  },
  {
   "cell_type": "code",
   "execution_count": 4,
   "metadata": {
    "collapsed": true
   },
   "outputs": [],
   "source": [
    "!python RefGenome_BOWTIEalign_genshell5-2.py \\\n",
    "PopMap.txt \\\n",
    "/mnt/hgfs/Pacific\\ cod/DataAnalysis/PCod-Compare-repo/refgenome/batch_7_ref_genome \\\n",
    "/media/mfisher5/New\\ Volume/Mary/Stacks/PCod-US-repo/samplesT92 \\\n",
    "1 \\\n",
    "/mnt/hgfs/Pacific\\ cod/DataAnalysis/PCod-Compare-repo/stacks_b1_wgenome"
   ]
  },
  {
   "cell_type": "code",
   "execution_count": 6,
   "metadata": {
    "collapsed": false
   },
   "outputs": [
    {
     "name": "stdout",
     "output_type": "stream",
     "text": [
      "#!/bin/bash\r\n",
      "\r\n",
      "bowtie -q -v 3 -norc --sam /mnt/hgfs/Pacific\\ cod/DataAnalysis/PCod-Compare-repo/refgenome/batch_7_ref_genome /media/mfisher5/New\\ Volume/Mary/Stacks/PCod-US-repo/samplesT92/KOD03_035.fq /mnt/hgfs/Pacific\\ cod/DataAnalysis/PCod-Compare-repo/stacks_b1_wgenome/KOD03_035.sam\r\n",
      "bowtie -q -v 3 -norc --sam /mnt/hgfs/Pacific\\ cod/DataAnalysis/PCod-Compare-repo/refgenome/batch_7_ref_genome /media/mfisher5/New\\ Volume/Mary/Stacks/PCod-US-repo/samplesT92/KOD03_051.fq /mnt/hgfs/Pacific\\ cod/DataAnalysis/PCod-Compare-repo/stacks_b1_wgenome/KOD03_051.sam\r\n",
      "bowtie -q -v 3 -norc --sam /mnt/hgfs/Pacific\\ cod/DataAnalysis/PCod-Compare-repo/refgenome/batch_7_ref_genome /media/mfisher5/New\\ Volume/Mary/Stacks/PCod-US-repo/samplesT92/KOD03_052.fq /mnt/hgfs/Pacific\\ cod/DataAnalysis/PCod-Compare-repo/stacks_b1_wgenome/KOD03_052.sam\r\n",
      "bowtie -q -v 3 -norc --sam /mnt/hgfs/Pacific\\ cod/DataAnalysis/PCod-Compare-repo/refgenome/batch_7_ref_genome /media/mfisher5/New\\ Volume/Mary/Stacks/PCod-US-repo/samplesT92/KOD03_053.fq /mnt/hgfs/Pacific\\ cod/DataAnalysis/PCod-Compare-repo/stacks_b1_wgenome/KOD03_053.sam\r\n",
      "bowtie -q -v 3 -norc --sam /mnt/hgfs/Pacific\\ cod/DataAnalysis/PCod-Compare-repo/refgenome/batch_7_ref_genome /media/mfisher5/New\\ Volume/Mary/Stacks/PCod-US-repo/samplesT92/KOD03_054.fq /mnt/hgfs/Pacific\\ cod/DataAnalysis/PCod-Compare-repo/stacks_b1_wgenome/KOD03_054.sam\r\n",
      "bowtie -q -v 3 -norc --sam /mnt/hgfs/Pacific\\ cod/DataAnalysis/PCod-Compare-repo/refgenome/batch_7_ref_genome /media/mfisher5/New\\ Volume/Mary/Stacks/PCod-US-repo/samplesT92/KOD03_055.fq /mnt/hgfs/Pacific\\ cod/DataAnalysis/PCod-Compare-repo/stacks_b1_wgenome/KOD03_055.sam\r\n",
      "bowtie -q -v 3 -norc --sam /mnt/hgfs/Pacific\\ cod/DataAnalysis/PCod-Compare-repo/refgenome/batch_7_ref_genome /media/mfisher5/New\\ Volume/Mary/Stacks/PCod-US-repo/samplesT92/KOD03_056.fq /mnt/hgfs/Pacific\\ cod/DataAnalysis/PCod-Compare-repo/stacks_b1_wgenome/KOD03_056.sam\r\n",
      "bowtie -q -v 3 -norc --sam /mnt/hgfs/Pacific\\ cod/DataAnalysis/PCod-Compare-repo/refgenome/batch_7_ref_genome /media/mfisher5/New\\ Volume/Mary/Stacks/PCod-US-repo/samplesT92/KOD03_057.fq /mnt/hgfs/Pacific\\ cod/DataAnalysis/PCod-Compare-repo/stacks_b1_wgenome/KOD03_057.sam\r\n"
     ]
    }
   ],
   "source": [
    "!head RefGenome_BOWTIEalign_batch1.sh"
   ]
  },
  {
   "cell_type": "markdown",
   "metadata": {
    "collapsed": true
   },
   "source": [
    "<br>\n",
    "<br>\n",
    "\n",
    "### Comparing retained reads\n",
    "    \n",
    "I'm not sure how well the Alaskan samples will do aligned to the Korean reference, so I want to compare the number of retained reads per sample in the Alaskan dataset to the number of retained reads per sample in the Korean dataset. \n"
   ]
  },
  {
   "cell_type": "code",
   "execution_count": 1,
   "metadata": {
    "collapsed": false
   },
   "outputs": [
    {
     "data": {
      "text/plain": [
       "u'/mnt/hgfs/Pacific cod/DataAnalysis/PCod-Compare-repo/notebooks'"
      ]
     },
     "execution_count": 1,
     "metadata": {},
     "output_type": "execute_result"
    }
   ],
   "source": [
    "pwd"
   ]
  },
  {
   "cell_type": "code",
   "execution_count": 2,
   "metadata": {
    "collapsed": false
   },
   "outputs": [],
   "source": [
    "# parse the command line output from the bowtie alignment for the korean files \n",
    "#into a list of percents (percent reads that aligned)\n",
    "infile = open(\"../../PCod-Korea-repo/stacks_b7_wgenome/bowtie_output_b7\", \"r\")\n",
    "p_align = []\n",
    "for line in infile:\n",
    "    if line.startswith(\"# reads with at least one reported alignment\"):\n",
    "        linelist = line.strip().split(\" \")\n",
    "        raw_percent = linelist[9]\n",
    "        list_percent = list(linelist[9])[1:5]\n",
    "        percent = \"\".join(list_percent)\n",
    "        p_align.append(float(percent))\n",
    "infile.close()"
   ]
  },
  {
   "cell_type": "code",
   "execution_count": 3,
   "metadata": {
    "collapsed": false
   },
   "outputs": [],
   "source": [
    "import matplotlib.pyplot as plt"
   ]
  },
  {
   "cell_type": "code",
   "execution_count": 4,
   "metadata": {
    "collapsed": true
   },
   "outputs": [],
   "source": [
    "import numpy as np"
   ]
  },
  {
   "cell_type": "code",
   "execution_count": 5,
   "metadata": {
    "collapsed": false
   },
   "outputs": [],
   "source": [
    "# parse the command line output from the bowtie alignment for the alaskan files \n",
    "#into a list of percents (percent reads that aligned)\n",
    "infile = open(\"../stacks_b1_wgenome/bowtie_output_ak_b1.txt\", \"r\")\n",
    "p_align_ak = []\n",
    "for line in infile:\n",
    "    if line.startswith(\"# reads with at least one reported alignment\"):\n",
    "        linelist = line.strip().split(\" \")\n",
    "        raw_percent = linelist[9]\n",
    "        list_percent = list(linelist[9])[1:5]\n",
    "        percent = \"\".join(list_percent)\n",
    "        p_align_ak.append(float(percent))\n",
    "infile.close()"
   ]
  },
  {
   "cell_type": "code",
   "execution_count": 6,
   "metadata": {
    "collapsed": false
   },
   "outputs": [
    {
     "data": {
      "image/png": "[encoded data removed]",
      "text/plain": [
       "<matplotlib.figure.Figure at 0x7fb2c95ad810>"
      ]
     },
     "metadata": {},
     "output_type": "display_data"
    }
   ],
   "source": [
    "plt.hist(p_align_ak, bins = np.arange(0, 70, 5), alpha = 0.5, color = \"darkcyan\", label = \"AK data\")\n",
    "plt.hist(p_align, bins = np.arange(0, 70, 5), alpha = 0.5, label = \"KOR data\")\n",
    "plt.suptitle(\"Percent of reads aligned to reference per sample\")\n",
    "plt.xlabel(\"Percent of Reads Aligned\")\n",
    "plt.ylabel(\"# of Samples\")\n",
    "plt.legend(loc='upper left')\n",
    "plt.show()"
   ]
  },
  {
   "cell_type": "code",
   "execution_count": 7,
   "metadata": {
    "collapsed": true
   },
   "outputs": [],
   "source": [
    "plt.close()"
   ]
  },
  {
   "cell_type": "markdown",
   "metadata": {},
   "source": [
    "<br>\n",
    "<br>\n",
    "So clearly, a greater percentage of reads are aligning in the Korean samples than the Alaskan samples. But does that mean that the Alaskan samples with 40-50% reads aligning will be thrown out in the final analysis? \n",
    "\n",
    "To answer this, I'm going to look at the samples in the Korean data that had only 40-50% of their reads align, and then see if they were retained after the batch 6 final filtering "
   ]
  },
  {
   "cell_type": "code",
   "execution_count": 22,
   "metadata": {
    "collapsed": true
   },
   "outputs": [],
   "source": [
    "# parse popmap file\n",
    "infile = open(\"../../PCod-Korea-repo/scripts/PopMap_L1-5.txt\", \"r\")\n",
    "sampleList = []\n",
    "for line in infile:\n",
    "    sampleList.append(line.strip().split()[0])\n",
    "infile.close()"
   ]
  },
  {
   "cell_type": "code",
   "execution_count": 24,
   "metadata": {
    "collapsed": true
   },
   "outputs": [],
   "source": [
    "# match percentages <50% in the list with their samples names using list index\n",
    "indices = []\n",
    "\n",
    "i = 0\n",
    "for p in p_align:\n",
    "    if p < 50.0:\n",
    "        indices.append(i)\n",
    "        i += 1\n",
    "    else:\n",
    "        i += 1"
   ]
  },
  {
   "cell_type": "code",
   "execution_count": 26,
   "metadata": {
    "collapsed": false
   },
   "outputs": [],
   "source": [
    "#create list of sample names \n",
    "low_read_samples = []\n",
    "for index in indices:\n",
    "    low_read_samples.append(sampleList[index])"
   ]
  },
  {
   "cell_type": "code",
   "execution_count": 29,
   "metadata": {
    "collapsed": false
   },
   "outputs": [
    {
     "name": "stdout",
     "output_type": "stream",
     "text": [
      "samples retained in batch 6:  30\n",
      "samples removed in batch 6:  20\n"
     ]
    }
   ],
   "source": [
    "# check the filtered sample list from batch 6 to see if any low read counts samples retained\n",
    "infile = open(\"../../PCod-Korea-repo/scripts/PopMap_L1-4_mdFilter_b6.txt\", \"r\")\n",
    "retained = 0\n",
    "for line in infile:\n",
    "    new_samp = line.strip().split()[0]\n",
    "    if new_samp in low_read_samples:\n",
    "        retained += 1\n",
    "infile.close()\n",
    "\n",
    "print \"samples retained in batch 6: \", retained\n",
    "print \"samples removed in batch 6: \", len(low_read_samples) - retained"
   ]
  },
  {
   "cell_type": "markdown",
   "metadata": {},
   "source": [
    "Ok, so it's not out of the question for samples to be retained despite having a lot of reads dropped when aligning to the genome. "
   ]
  },
  {
   "cell_type": "markdown",
   "metadata": {
    "collapsed": true
   },
   "source": [
    "### Number of alignments reported to output, Korean data v. Alaskan data"
   ]
  },
  {
   "cell_type": "code",
   "execution_count": 34,
   "metadata": {
    "collapsed": false
   },
   "outputs": [],
   "source": [
    "# parse the command line output from the bowtie alignment for the korean files \n",
    "#into a list of # reads (# reads that aligned)\n",
    "infile = open(\"../../PCod-Korea-repo/stacks_b7_wgenome/bowtie_output_b7\", \"r\")\n",
    "n_align_kor = []\n",
    "for line in infile:\n",
    "    if line.startswith(\"Reported\"):\n",
    "        linelist = line.strip().split(\" \")\n",
    "        count = float(linelist[1])\n",
    "        n_align_kor.append(float(count))\n",
    "infile.close()"
   ]
  },
  {
   "cell_type": "code",
   "execution_count": 35,
   "metadata": {
    "collapsed": false
   },
   "outputs": [],
   "source": [
    "# parse the original shell script to get a list of samples in the same order\n",
    "# as they were on the command line\n",
    "infile = open(\"../../PCod-Korea-repo/scripts/RefGenome_BOWTIEalign_batch7.sh\", \"r\")\n",
    "\n",
    "samples_kor = []\n",
    "for line in infile:\n",
    "    if line.startswith(\"bowtie\"):\n",
    "        linelist = line.strip().split(\" \")\n",
    "        stringlist = linelist[7].split(\"/\")\n",
    "        sample_file = stringlist[2]\n",
    "        samples_kor.append(sample_file)\n",
    "infile.close()"
   ]
  },
  {
   "cell_type": "code",
   "execution_count": 36,
   "metadata": {
    "collapsed": false
   },
   "outputs": [
    {
     "data": {
      "text/plain": [
       "['PO010715_02.fq',\n",
       " 'PO010715_02_rep.fq',\n",
       " 'PO010715_04.fq',\n",
       " 'PO010715_06.1.fq',\n",
       " 'PO010715_08.1.fq']"
      ]
     },
     "execution_count": 36,
     "metadata": {},
     "output_type": "execute_result"
    }
   ],
   "source": [
    "samples_kor[0:5]"
   ]
  },
  {
   "cell_type": "code",
   "execution_count": 37,
   "metadata": {
    "collapsed": true
   },
   "outputs": [],
   "source": [
    "import collections\n",
    "counts_dict_kor = collections.OrderedDict()\n",
    "for i in range(0, len(samples_kor)):\n",
    "    counts_dict_kor[samples_kor[i]] = n_align_kor[i]"
   ]
  },
  {
   "cell_type": "code",
   "execution_count": 38,
   "metadata": {
    "collapsed": false,
    "scrolled": false
   },
   "outputs": [
    {
     "data": {
      "text/plain": [
       "3557889.0"
      ]
     },
     "execution_count": 38,
     "metadata": {},
     "output_type": "execute_result"
    }
   ],
   "source": [
    "counts_dict_kor['PO010715_02.fq']"
   ]
  },
  {
   "cell_type": "code",
   "execution_count": 40,
   "metadata": {
    "collapsed": false
   },
   "outputs": [],
   "source": [
    "outfile = open(\"../scripts/sam_readcounts_b1_kor.txt\", \"w\")\n",
    "for locus in counts_dict_kor.keys():\n",
    "    outfile.write(locus + \"\\t\" + str(counts_dict_kor[locus])+\"\\n\")\n",
    "outfile.close()"
   ]
  },
  {
   "cell_type": "markdown",
   "metadata": {},
   "source": [
    "#### 8/24/2017"
   ]
  },
  {
   "cell_type": "code",
   "execution_count": 11,
   "metadata": {
    "collapsed": false
   },
   "outputs": [],
   "source": [
    "# parse the command line output from the bowtie alignment for the korean files \n",
    "#into a list of # reads (# reads that aligned)\n",
    "infile = open(\"../stacks_b1_wgenome/bowtie_output_ak_b1.txt\", \"r\")\n",
    "n_align_ak = []\n",
    "for line in infile:\n",
    "    if line.startswith(\"Reported\"):\n",
    "        linelist = line.strip().split(\" \")\n",
    "        count = float(linelist[1])\n",
    "        n_align_ak.append(float(count))\n",
    "infile.close()"
   ]
  },
  {
   "cell_type": "code",
   "execution_count": 12,
   "metadata": {
    "collapsed": false
   },
   "outputs": [
    {
     "data": {
      "text/plain": [
       "u'/mnt/hgfs/Pacific cod/DataAnalysis/PCod-Compare-repo/notebooks'"
      ]
     },
     "execution_count": 12,
     "metadata": {},
     "output_type": "execute_result"
    }
   ],
   "source": [
    "pwd"
   ]
  },
  {
   "cell_type": "code",
   "execution_count": 13,
   "metadata": {
    "collapsed": false
   },
   "outputs": [],
   "source": [
    "# parse the original shell script to get a list of samples in the same order\n",
    "# as they were on the command line\n",
    "infile = open(\"../scripts/PopMap.txt\", \"r\")\n",
    "\n",
    "samples_ak = []\n",
    "for line in infile:\n",
    "    sample_file = line.strip().split()[0]\n",
    "    samples_ak.append(sample_file)\n",
    "infile.close()"
   ]
  },
  {
   "cell_type": "code",
   "execution_count": 14,
   "metadata": {
    "collapsed": false
   },
   "outputs": [],
   "source": [
    "import collections\n",
    "counts_dict_ak = collections.OrderedDict()\n",
    "for i in range(0, len(samples_ak)):\n",
    "    counts_dict_ak[samples_ak[i]] = n_align_ak[i]"
   ]
  },
  {
   "cell_type": "code",
   "execution_count": 15,
   "metadata": {
    "collapsed": false
   },
   "outputs": [],
   "source": [
    "outfile = open(\"sam_readcounts_b1.txt\", \"w\")\n",
    "for locus in counts_dict_ak.keys():\n",
    "    outfile.write(locus + \"\\t\" + str(counts_dict_ak[locus]) + \"\\n\")\n",
    "outfile.close()"
   ]
  },
  {
   "cell_type": "code",
   "execution_count": 22,
   "metadata": {
    "collapsed": true
   },
   "outputs": [],
   "source": [
    "import numpy as np\n",
    "import matplotlib.pyplot as plt"
   ]
  },
  {
   "cell_type": "code",
   "execution_count": 26,
   "metadata": {
    "collapsed": false
   },
   "outputs": [],
   "source": [
    "n_align_ak_1mill = []\n",
    "for i in n_align_ak:\n",
    "    n_align_ak_1mill.append(float(i)/float(1000000))\n",
    "n_align_kor_1mill = []\n",
    "for i in n_align_kor:\n",
    "    n_align_kor_1mill.append(float(i)/float(1000000))"
   ]
  },
  {
   "cell_type": "code",
   "execution_count": 29,
   "metadata": {
    "collapsed": false,
    "scrolled": true
   },
   "outputs": [
    {
     "data": {
      "image/png": "[encoded data removed]",
      "text/plain": [
       "<matplotlib.figure.Figure at 0x7f924a6976d0>"
      ]
     },
     "metadata": {},
     "output_type": "display_data"
    }
   ],
   "source": [
    "plt.hist(n_align_ak_1mill, alpha = 0.5, color = \"darkcyan\", label = \"AK data\")\n",
    "plt.hist(n_align_kor_1mill, alpha = 0.5, label = \"KOR data\")\n",
    "plt.suptitle(\"Number of reads aligned to reference per sample\")\n",
    "plt.xlabel(\"# of Reads Aligned ( x 1mill)\")\n",
    "plt.ylabel(\"# of Samples\")\n",
    "plt.legend(loc='upper right')\n",
    "plt.show()"
   ]
  },
  {
   "cell_type": "code",
   "execution_count": 30,
   "metadata": {
    "collapsed": true
   },
   "outputs": [],
   "source": [
    "plt.close()"
   ]
  },
  {
   "cell_type": "code",
   "execution_count": null,
   "metadata": {
    "collapsed": true
   },
   "outputs": [],
   "source": [
    "print sum(n_align_ak)/len(n_align_ak)"
   ]
  },
  {
   "cell_type": "markdown",
   "metadata": {},
   "source": [
    "<br>\n",
    "<br>\n",
    "\n",
    "### % aligned reads by population\n",
    "\n",
    "As bowtie was running, I noticed that most of the `PI` samples had less than 5% of their reads retained. So I want to see if there how important the population-level difference in the % of reads retained per individual might be. \n",
    "\n",
    "![img-sam-reads-compare](https://github.com/mfisher5/PCod-Compare-repo/blob/master/stacks_pipeline_analyses/n_reads_samfiles_AKvKOR_b1.png?raw=true)\n",
    "\n",
    "\n",
    "<br>\n",
    "<br>"
   ]
  },
  {
   "cell_type": "markdown",
   "metadata": {},
   "source": [
    "### Number of stacks after pstacks, Alaskan v. Korean data"
   ]
  },
  {
   "cell_type": "code",
   "execution_count": 31,
   "metadata": {
    "collapsed": false
   },
   "outputs": [
    {
     "data": {
      "text/plain": [
       "u'/mnt/hgfs/Pacific cod/DataAnalysis/PCod-Compare-repo/notebooks'"
      ]
     },
     "execution_count": 31,
     "metadata": {},
     "output_type": "execute_result"
    }
   ],
   "source": [
    "pwd"
   ]
  },
  {
   "cell_type": "code",
   "execution_count": 32,
   "metadata": {
    "collapsed": false
   },
   "outputs": [
    {
     "name": "stdout",
     "output_type": "stream",
     "text": [
      "/mnt/hgfs/Pacific cod/DataAnalysis/PCod-Compare-repo/scripts\n"
     ]
    }
   ],
   "source": [
    "cd ../scripts"
   ]
  },
  {
   "cell_type": "code",
   "execution_count": 33,
   "metadata": {
    "collapsed": false
   },
   "outputs": [
    {
     "name": "stdout",
     "output_type": "stream",
     "text": [
      "### This script counts the number of loci in each ustacks tags file ###\r\n",
      "\r\n",
      "\r\n",
      "import argparse \r\n",
      "\r\n",
      "parser = argparse.ArgumentParser(description=\"count number of consensus seqs in .tags files\")\r\n",
      "\r\n",
      "parser.add_argument(\"-s\", \"--samples\", help=\"file with list of samples\")\r\n",
      "parser.add_argument(\"-d\", \"--directory\", help=\"stacks directory with tags files; can be local path, don't include final '/'\")\r\n",
      "parser.add_argument(\"-o\", \"--output\", help=\"output file name with local path\")\r\n"
     ]
    }
   ],
   "source": [
    "!head countloci_tagsfiles.py"
   ]
  },
  {
   "cell_type": "code",
   "execution_count": null,
   "metadata": {
    "collapsed": true
   },
   "outputs": [],
   "source": [
    "#run in terminal\n",
    "python countloci_tagsfiles.py -s PopMap.txt -d ../stacks_b1_wgenome -o locicounts_b1_ak.txt"
   ]
  },
  {
   "cell_type": "markdown",
   "metadata": {},
   "source": [
    "#### 8/25/2017"
   ]
  },
  {
   "cell_type": "code",
   "execution_count": 1,
   "metadata": {
    "collapsed": false
   },
   "outputs": [
    {
     "data": {
      "text/plain": [
       "u'/mnt/hgfs/Pacific cod/DataAnalysis/PCod-Compare-repo/notebooks'"
      ]
     },
     "execution_count": 1,
     "metadata": {},
     "output_type": "execute_result"
    }
   ],
   "source": [
    "pwd"
   ]
  },
  {
   "cell_type": "code",
   "execution_count": 2,
   "metadata": {
    "collapsed": false
   },
   "outputs": [
    {
     "name": "stdout",
     "output_type": "stream",
     "text": [
      "/mnt/hgfs/Pacific cod/DataAnalysis/PCod-Compare-repo/scripts\n"
     ]
    }
   ],
   "source": [
    "cd ../scripts"
   ]
  },
  {
   "cell_type": "code",
   "execution_count": 27,
   "metadata": {
    "collapsed": false
   },
   "outputs": [],
   "source": [
    "infile = open(\"locicounts_b1_ak.txt\", \"r\")\n",
    "\n",
    "infile.readline()\n",
    "\n",
    "import collections\n",
    "loci_counts_dict = collections.OrderedDict()\n",
    "for line in infile:\n",
    "    sample = line.strip().split()[0]\n",
    "    count = int(line.strip().split()[1])\n",
    "    loci_counts_dict[sample] = count\n",
    "infile.close()\n",
    "\n",
    "\n",
    "loci_counts_ak = []\n",
    "for sample in loci_counts_dict.keys():\n",
    "    loci_counts_ak.append(loci_counts_dict[sample])"
   ]
  },
  {
   "cell_type": "code",
   "execution_count": 28,
   "metadata": {
    "collapsed": false
   },
   "outputs": [],
   "source": [
    "infile = open(\"locicounts_b1_kor.txt\", \"r\")\n",
    "\n",
    "infile.readline()\n",
    "infile.readline()\n",
    "loci_counts_kor = []\n",
    "\n",
    "import collections\n",
    "loci_counts_dict = collections.OrderedDict()\n",
    "for line in infile:\n",
    "    sample = line.strip().split()[0]\n",
    "    count = int(line.strip().split()[1])\n",
    "    loci_counts_dict[sample] = count\n",
    "infile.close()\n",
    "\n",
    "\n",
    "for sample in loci_counts_dict.keys():\n",
    "    loci_counts_kor.append(loci_counts_dict[sample])"
   ]
  },
  {
   "cell_type": "code",
   "execution_count": 29,
   "metadata": {
    "collapsed": true
   },
   "outputs": [],
   "source": [
    "import numpy as np\n",
    "import matplotlib.pyplot as plt"
   ]
  },
  {
   "cell_type": "code",
   "execution_count": 30,
   "metadata": {
    "collapsed": false
   },
   "outputs": [],
   "source": [
    "loci_counts_ak_1t = []\n",
    "loci_counts_kor_1t = []\n",
    "\n",
    "for i in loci_counts_ak:\n",
    "    loci_counts_ak_1t.append(float(i)/float(1000))\n",
    "for i in loci_counts_kor:\n",
    "    loci_counts_kor_1t.append(float(i)/float(1000))"
   ]
  },
  {
   "cell_type": "code",
   "execution_count": 34,
   "metadata": {
    "collapsed": false
   },
   "outputs": [
    {
     "data": {
      "image/png": "[encoded data removed]",
      "text/plain": [
       "<matplotlib.figure.Figure at 0x7ff078bf9550>"
      ]
     },
     "metadata": {},
     "output_type": "display_data"
    }
   ],
   "source": [
    "plt.hist(loci_counts_ak_1t, alpha = 0.5, color = \"darkcyan\", label = \"AK data\")\n",
    "plt.hist(loci_counts_kor_1t, alpha = 0.5, label = \"KOR data\")\n",
    "plt.suptitle(\"Number of reads aligned to reference per sample\")\n",
    "plt.xlabel(\"# of Loci Aligned ( x 1000)\")\n",
    "plt.ylabel(\"# of Samples\")\n",
    "plt.legend(loc='upper right')\n",
    "plt.show()"
   ]
  },
  {
   "cell_type": "code",
   "execution_count": 35,
   "metadata": {
    "collapsed": true
   },
   "outputs": [],
   "source": [
    "plt.close()"
   ]
  },
  {
   "cell_type": "markdown",
   "metadata": {},
   "source": [
    "### Number loci comparison by population"
   ]
  },
  {
   "cell_type": "markdown",
   "metadata": {},
   "source": [
    "![img-loci-counts-compare-bypop](https://github.com/mfisher5/PCod-Compare-repo/blob/master/stacks_pipeline_analyses/n_loci_tagsfiles_AKvKOR_b1.png?raw=true)"
   ]
  },
  {
   "cell_type": "markdown",
   "metadata": {
    "collapsed": true
   },
   "source": [
    "### PWS test set\n",
    "\n",
    "#### 8/27/2017"
   ]
  },
  {
   "cell_type": "code",
   "execution_count": 1,
   "metadata": {
    "collapsed": false
   },
   "outputs": [
    {
     "name": "stdout",
     "output_type": "stream",
     "text": [
      "/mnt/hgfs/Pacific cod/DataAnalysis/PCod-Compare-repo/scripts\n"
     ]
    }
   ],
   "source": [
    "cd ../scripts"
   ]
  },
  {
   "cell_type": "code",
   "execution_count": 2,
   "metadata": {
    "collapsed": true
   },
   "outputs": [],
   "source": [
    "# parse the command line output from the bowtie alignment for the korean files \n",
    "#into a list of # reads (# reads that aligned)\n",
    "infile = open(\"PWStest_bowtie_output.txt\", \"r\")\n",
    "n_align_pws = []\n",
    "for line in infile:\n",
    "    if line.startswith(\"Reported\"):\n",
    "        linelist = line.strip().split(\" \")\n",
    "        count = float(linelist[1])\n",
    "        n_align_pws.append(float(count))\n",
    "infile.close()"
   ]
  },
  {
   "cell_type": "code",
   "execution_count": 3,
   "metadata": {
    "collapsed": true
   },
   "outputs": [],
   "source": [
    "# parse the original shell script to get a list of samples in the same order\n",
    "# as they were on the command line\n",
    "infile = open(\"../../PCod-US-repo/scripts/barcodesL6_PWStest.txt\", \"r\")\n",
    "\n",
    "samples_pws = []\n",
    "for line in infile:\n",
    "    sample_file = line.strip().split()[1]\n",
    "    samples_pws.append(sample_file)\n",
    "infile.close()"
   ]
  },
  {
   "cell_type": "code",
   "execution_count": 4,
   "metadata": {
    "collapsed": true
   },
   "outputs": [],
   "source": [
    "import collections\n",
    "counts_dict_pws = collections.OrderedDict()\n",
    "for i in range(0, len(samples_pws)):\n",
    "    counts_dict_pws[samples_pws[i]] = n_align_pws[i]"
   ]
  },
  {
   "cell_type": "code",
   "execution_count": 5,
   "metadata": {
    "collapsed": true
   },
   "outputs": [],
   "source": [
    "outfile = open(\"sam_readcounts_b1.txt\", \"a\")\n",
    "for locus in counts_dict_pws.keys():\n",
    "    outfile.write(locus + \"\\t\" + str(counts_dict_pws[locus]) + \"\\n\")\n",
    "outfile.close()"
   ]
  },
  {
   "cell_type": "code",
   "execution_count": null,
   "metadata": {
    "collapsed": true
   },
   "outputs": [],
   "source": []
  }
 ],
 "metadata": {
  "anaconda-cloud": {},
  "kernelspec": {
   "display_name": "Python [default]",
   "language": "python",
   "name": "python2"
  },
  "language_info": {
   "codemirror_mode": {
    "name": "ipython",
    "version": 2
   },
   "file_extension": ".py",
   "mimetype": "text/x-python",
   "name": "python",
   "nbconvert_exporter": "python",
   "pygments_lexer": "ipython2",
   "version": "2.7.12"
  }
 },
 "nbformat": 4,
 "nbformat_minor": 1
}
