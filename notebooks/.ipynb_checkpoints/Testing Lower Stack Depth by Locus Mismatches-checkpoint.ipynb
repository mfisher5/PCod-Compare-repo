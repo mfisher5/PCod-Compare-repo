{
 "cells": [
  {
   "cell_type": "markdown",
   "metadata": {},
   "source": [
    "### Per Locus Mismatches in Comparison between Stack depth 3 v 10 simulation\n",
    "\n",
    "In my combined data set for batch 1, I encountered a lot of missing genotypes in the Alaskan samples. The hypothesis is that this is because lower stack depth is preventing pstacks from genotyping individuals at a locus (not that the cat locus isn't being aligned to in the original .sam files). So I want to see if using a lower stack depth for pstacks is going to help genotype Alaskan individuals. But first I need to make sure that we can trust the genotypes generated with a lower stack depth.\n",
    "\n",
    "<br>\n",
    "I want to look at the per locus mismatches between the full size file / depth 10 and the half size file / depth 3. \n",
    "\n",
    "<br>\n",
    "Even though I won't be using Marine's script for this project, I do want to compare both with and without the correction, just out of curiosity. \n",
    "\n",
    "<br>\n",
    "I already have genotype files with only matched loci in them, so I can go straight to the comparison code. \n",
    "\n",
    "<br>\n",
    "#### 10/4/2017\n",
    "\n",
    "### Stacks genotypes\n",
    "\n",
    "I think that the way I'll do this is to make a dictionary: key is the locus ID #, and value is a list containing the information: # of individuals where both full and half size replicates are both genotyped, # of individuals mismatches (NOT including missing data), # of individuals matched, # of times one replicate was missing data, # of times more than one replicate was missing data. "
   ]
  },
  {
   "cell_type": "code",
   "execution_count": 1,
   "metadata": {
    "collapsed": false
   },
   "outputs": [
    {
     "data": {
      "text/plain": [
       "u'/mnt/hgfs/Pacific cod/DataAnalysis/PCod-Compare-repo/notebooks'"
      ]
     },
     "execution_count": 1,
     "metadata": {},
     "output_type": "execute_result"
    }
   ],
   "source": [
    "pwd"
   ]
  },
  {
   "cell_type": "code",
   "execution_count": 2,
   "metadata": {
    "collapsed": false
   },
   "outputs": [
    {
     "name": "stdout",
     "output_type": "stream",
     "text": [
      "/mnt/hgfs/Pacific cod/DataAnalysis/PCod-Compare-repo\n"
     ]
    }
   ],
   "source": [
    "cd ../"
   ]
  },
  {
   "cell_type": "code",
   "execution_count": 3,
   "metadata": {
    "collapsed": false
   },
   "outputs": [
    {
     "name": "stdout",
     "output_type": "stream",
     "text": [
      "These are your sample names:\n",
      "['PO010715_26', 'PO010715_27.1', 'PO020515_10.1', 'PO031715_04', 'PO031715_23', 'PO010715_07_rep', 'GE011215_08.1', 'GE011215_30.1', 'GE012315_05.1', 'GE012315_10.1', 'GEO012315_02', 'GEO012315_12', 'GEO012315_18', 'GEO012315_21', 'GE012315_11_2', 'GE011215_11', 'NA021015_02.1', 'NA021015_10.1', 'NA021015_25', 'YS_121316_18', 'YS_121316_28', 'YS_121316_29', 'YS_121316_21_2', 'JUK07_14', 'JUK07_15', 'JUK07_29.1', 'JUK07_32', 'JUK07_13', 'JUK07_12', 'JB121807_01', 'JB121807_05', 'JB121807_12.1', 'JB121807_19.1', 'JB121807_25', 'JB121807_33.1', 'JB121807_41.1', 'JB121807_05_2', 'JB121807_23_2', 'JB021108_25.1', 'JB021108_45', 'JB021108_46_rep.1', 'JB021108_48.1', 'BOR07_07.1', 'BOR07_10.1', 'BOR07_12.1', 'GEO020414_11', 'GEO020414_16', 'GEO020414_2', 'GEO020414_27', 'GEO020414_4']\n",
      "1  loci are missing from one of your matched files.\n",
      "[[]]\n",
      "sample  PO010715_26  processed.  11496  genotypes in sample.\n",
      "sample  PO010715_27.1  processed.  11496  genotypes in sample.\n",
      "sample  PO020515_10.1  processed.  11496  genotypes in sample.\n",
      "sample  PO031715_04  processed.  11496  genotypes in sample.\n",
      "sample  PO031715_23  processed.  11496  genotypes in sample.\n",
      "sample  PO010715_07_rep  processed.  11496  genotypes in sample.\n",
      "sample  GE011215_08.1  processed.  11496  genotypes in sample.\n",
      "sample  GE011215_30.1  processed.  11496  genotypes in sample.\n",
      "sample  GE012315_05.1  processed.  11496  genotypes in sample.\n",
      "sample  GE012315_10.1  processed.  11496  genotypes in sample.\n",
      "sample  GEO012315_02  processed.  11496  genotypes in sample.\n",
      "sample  GEO012315_12  processed.  11496  genotypes in sample.\n",
      "sample  GEO012315_18  processed.  11496  genotypes in sample.\n",
      "sample  GEO012315_21  processed.  11496  genotypes in sample.\n",
      "sample  GE012315_11_2  processed.  11496  genotypes in sample.\n",
      "sample  GE011215_11  processed.  11496  genotypes in sample.\n",
      "sample  NA021015_02.1  processed.  11496  genotypes in sample.\n",
      "sample  NA021015_10.1  processed.  11496  genotypes in sample.\n",
      "sample  NA021015_25  processed.  11496  genotypes in sample.\n",
      "sample  YS_121316_18  processed.  11496  genotypes in sample.\n",
      "sample  YS_121316_28  processed.  11496  genotypes in sample.\n",
      "sample  YS_121316_29  processed.  11496  genotypes in sample.\n",
      "sample  YS_121316_21_2  processed.  11496  genotypes in sample.\n",
      "sample  JUK07_14  processed.  11496  genotypes in sample.\n",
      "sample  JUK07_15  processed.  11496  genotypes in sample.\n",
      "sample  JUK07_29.1  processed.  11496  genotypes in sample.\n",
      "sample  JUK07_32  processed.  11496  genotypes in sample.\n",
      "sample  JUK07_13  processed.  11496  genotypes in sample.\n",
      "sample  JUK07_12  processed.  11496  genotypes in sample.\n",
      "sample  JB121807_01  processed.  11496  genotypes in sample.\n",
      "sample  JB121807_05  processed.  11496  genotypes in sample.\n",
      "sample  JB121807_12.1  processed.  11496  genotypes in sample.\n",
      "sample  JB121807_19.1  processed.  11496  genotypes in sample.\n",
      "sample  JB121807_25  processed.  11496  genotypes in sample.\n",
      "sample  JB121807_33.1  processed.  11496  genotypes in sample.\n",
      "sample  JB121807_41.1  processed.  11496  genotypes in sample.\n",
      "sample  JB121807_05_2  processed.  11496  genotypes in sample.\n",
      "sample  JB121807_23_2  processed.  11496  genotypes in sample.\n",
      "sample  JB021108_25.1  processed.  11496  genotypes in sample.\n",
      "sample  JB021108_45  processed.  11496  genotypes in sample.\n",
      "sample  JB021108_46_rep.1  processed.  11496  genotypes in sample.\n",
      "sample  JB021108_48.1  processed.  11496  genotypes in sample.\n",
      "sample  BOR07_07.1  processed.  11496  genotypes in sample.\n",
      "sample  BOR07_10.1  processed.  11496  genotypes in sample.\n",
      "sample  BOR07_12.1  processed.  11496  genotypes in sample.\n",
      "sample  GEO020414_11  processed.  11496  genotypes in sample.\n",
      "sample  GEO020414_16  processed.  11496  genotypes in sample.\n",
      "sample  GEO020414_2  processed.  11496  genotypes in sample.\n",
      "sample  GEO020414_27  processed.  11496  genotypes in sample.\n",
      "sample  GEO020414_4  processed.  11496  genotypes in sample.\n"
     ]
    }
   ],
   "source": [
    "## open up a sample list file\n",
    "infile = open(\"scripts/PopMap_KOR_subset_populations.txt\", \"r\")\n",
    "sampleList = []\n",
    "for line in infile:\n",
    "    sampleList.append(line.strip().split()[0].strip(\"_subset\"))\n",
    "infile.close()\n",
    "print \"These are your sample names:\"\n",
    "print sampleList\n",
    "\n",
    "## open up the genepop files\n",
    "batch1 = open(\"stacks_b1_wgenome/batch_1_matched.genepop\", \"r\")\n",
    "batch2 = open(\"stacks_b2_wgenome/batch_2_matched.genepop\", \"r\")\n",
    "\n",
    "## initiate dictionary\n",
    "import collections\n",
    "bylocus_dict = collections.OrderedDict() #with an ordered dict, I can use indices to call certain loci\n",
    "\n",
    "## read loci into dictionary as keys\n",
    "batch1.readline()\n",
    "locisnp_list = batch1.readline().strip().split(\",\")\n",
    "loci_list1 = [i.split(\"_\")[0] for i in locisnp_list]\n",
    "batch1.close()\n",
    "\n",
    "batch2.readline()\n",
    "locisnp_list2 = batch2.readline().strip().split(\",\")\n",
    "loci_list2 = [i.split(\"_\")[0] for i in locisnp_list2]\n",
    "batch2.close()\n",
    "\n",
    "## check to make sure that only matching loci were included in files\n",
    "not_matched_loci = [i for i in loci_list1 if i not in loci_list2]\n",
    "not_matched_loci.append([i for i in loci_list2 if i not in loci_list1])\n",
    "print len(not_matched_loci), \" loci are missing from one of your matched files.\" #(want to see 0)\n",
    "print not_matched_loci\n",
    "\n",
    "\n",
    "## calculate mismatches\n",
    "for sample in sampleList:\n",
    "    ## open up the genepop files\n",
    "    batch1 = open(\"stacks_b1_wgenome/batch_1_matched.genepop\", \"r\")\n",
    "    batch2 = open(\"stacks_b2_wgenome/batch_2_matched.genepop\", \"r\")\n",
    "    ## find that sample's genotypes in both file and save only genotypes as a list\n",
    "    for line in batch1: \n",
    "        if line.startswith(sample):\n",
    "            b1_genotypes = line.strip().split(\"\\t\")[1:]\n",
    "    for line in batch2: \n",
    "        if line.startswith(sample):\n",
    "            b2_genotypes = line.strip().split(\"\\t\")[1:]\n",
    "    batch1.close()\n",
    "    batch2.close()\n",
    "    # initiate list to save coded mismatch type\n",
    "    coded = []\n",
    "    ## add appropriate code to list based on comparison of two genotypes\n",
    "    #--- 0 = both missing\n",
    "    #--- 1 = batch 1 missing\n",
    "    #--- 2 = batch 2 missing\n",
    "    #--- 3 = both genotyped\n",
    "    #--- 4 = both genotyped, matched\n",
    "    #--- 5 = both genotyped, mismatch because of hom --> hom\n",
    "    #--- 6 = both genotyped, mismatched because of hom --> het\n",
    "    #--- 7 = both genotyped, mismatched because of het --> hom\n",
    "    for i in range(0,len(b1_genotypes)):\n",
    "        if b1_genotypes[i] == b2_genotypes[i]:\n",
    "            # if genotypes matched and neither are missing\n",
    "            if b1_genotypes[i] != \"0000\":\n",
    "                coded.append(4)\n",
    "            elif b1_genotypes[i] == \"0000\":\n",
    "                coded.append(0)\n",
    "        # if genotypes don't match\n",
    "        elif b1_genotypes[i] != b2_genotypes[i]:\n",
    "            # if they are mismatched because one is missing\n",
    "            if b1_genotypes[i] == \"0000\":\n",
    "                coded.append(1)\n",
    "            elif b2_genotypes[i] == \"0000\":\n",
    "                coded.append(2)\n",
    "            # if they are mismatched and neither are missing\n",
    "            else:\n",
    "                # b1 het (b2 must be hom)\n",
    "                if b1_genotypes[i][0:2] != b1_genotypes[i][2:]:\n",
    "                    coded.append(7)\n",
    "                # b1 hom\n",
    "                elif b1_genotypes[i][0:2] == b1_genotypes[i][2:]:\n",
    "                    # b2 hom\n",
    "                    if b2_genotypes[i][0:2] == b2_genotypes[i][2:]:\n",
    "                        coded.append(5)\n",
    "                    # b2 het\n",
    "                    elif b2_genotypes[i][0:2] != b2_genotypes[i][2:]:\n",
    "                        coded.append(6)\n",
    "    # this only works because the index # is the same in the loci list and in the sample-specific coded list\n",
    "    # append the sample-specific code to the appropriate locus' list and re-save it into the dictionary\n",
    "    for i in range(0, len(loci_list1)):\n",
    "        if loci_list1[i] not in bylocus_dict.keys():\n",
    "            bylocus_dict[loci_list1[i]] = [coded[i]]\n",
    "        elif loci_list1[i] in bylocus_dict.keys():\n",
    "            codelist = bylocus_dict[loci_list1[i]]\n",
    "            codelist.append(coded[i])\n",
    "            bylocus_dict[loci_list1[i]] = codelist\n",
    "    print \"sample \", sample, \" processed. \", len(coded), \" genotypes in sample.\"\n",
    "## now I have a dictionary where each locus has a code for each sample pair\n"
   ]
  },
  {
   "cell_type": "code",
   "execution_count": 12,
   "metadata": {
    "collapsed": false
   },
   "outputs": [],
   "source": [
    "## open outfile\n",
    "outfile = open(\"stacks_pipeline_analyses/analyses_AK_LowGenotypeRate/compare_KOR_genos_Depths3v10_byLocus.txt\", \"w\")\n",
    "outfile.write(\"per locus comparison. all values as proportions\\n\")\n",
    "outfile.write(\"locus_ID\\tn_pairs\\tboth_miss\\tb1_miss\\tb2_miss\\tboth_genotyped\\tmatched\\tdiff_homhom\\tdiff_homhet\\tdiff_hethom\\n\")\n",
    "\n",
    "for locus in bylocus_dict.keys():\n",
    "    coded = bylocus_dict[locus]\n",
    "    n_pairs = len(coded)\n",
    "    p_miss = float(len([i for i in coded if i == 0]))/float(n_pairs)\n",
    "    p_missb1 = float(len([i for i in coded if i == 1]))/float(n_pairs)\n",
    "    p_missb2 = float(len([i for i in coded if i == 2]))/float(n_pairs)\n",
    "    n_matched = float(len([i for i in coded if i == 4]))\n",
    "    n_mismatch_homhom = float(len([i for i in coded if i == 5]))\n",
    "    n_mismatch_homhet = float(len([i for i in coded if i == 6]))\n",
    "    n_mismatch_hethom = float(len([i for i in coded if i == 7]))\n",
    "    n_genod = n_matched + n_mismatch_homhom + n_mismatch_homhet + n_mismatch_hethom + 0.000000000000000001\n",
    "    #note that some loci may not be genotyped at any individuals; this is not filtered data\n",
    "    p_genod = float(n_genod)/float(n_pairs)\n",
    "    p_genod_matched = n_matched/float(n_genod)\n",
    "    p_genod_mismatch_homhom = n_mismatch_homhom/float(n_genod)\n",
    "    p_genod_mismatch_homhet = n_mismatch_homhet/float(n_genod)\n",
    "    p_genod_mismatch_hethom = n_mismatch_hethom/float(n_genod)\n",
    "    outfile.write(locus + \"\\t\" + str(n_pairs) + \"\\t\" + str(p_miss) + \"\\t\" + str(p_missb1) + \"\\t\" + str(p_missb2) + \"\\t\" + str(p_genod) + \"\\t\")\n",
    "    outfile.write(str(p_genod_matched) + \"\\t\" + str(p_genod_mismatch_homhom) + \"\\t\" + str(p_genod_mismatch_homhet) + \"\\t\" + str(p_genod_mismatch_hethom) + \"\\n\")\n",
    "\n",
    "outfile.close()"
   ]
  },
  {
   "cell_type": "code",
   "execution_count": 13,
   "metadata": {
    "collapsed": false
   },
   "outputs": [
    {
     "name": "stdout",
     "output_type": "stream",
     "text": [
      "per locus comparison. all values as proportions\r\n",
      "locus_ID\tn_pairs\tboth_miss\tb1_miss\tb2_miss\tboth_genotyped\tmatched\tdiff_homhom\tdiff_homhet\tdiff_hethom\r\n",
      "2\t50\t0.1\t0.1\t0.06\t0.74\t1.0\t0.0\t0.0\t0.0\r\n",
      "3\t50\t0.0\t0.0\t0.0\t1.0\t1.0\t0.0\t0.0\t0.0\r\n",
      "5\t50\t0.18\t0.12\t0.04\t0.66\t0.939393939394\t0.030303030303\t0.0\t0.030303030303\r\n",
      "10\t50\t0.0\t0.0\t0.04\t0.96\t1.0\t0.0\t0.0\t0.0\r\n",
      "11\t50\t0.0\t0.0\t0.02\t0.98\t1.0\t0.0\t0.0\t0.0\r\n",
      "13\t50\t0.06\t0.14\t0.06\t0.74\t1.0\t0.0\t0.0\t0.0\r\n",
      "16\t50\t0.0\t0.0\t0.0\t1.0\t1.0\t0.0\t0.0\t0.0\r\n",
      "17\t50\t0.0\t0.0\t0.08\t0.92\t1.0\t0.0\t0.0\t0.0\r\n"
     ]
    }
   ],
   "source": [
    "!head stacks_pipeline_analyses/analyses_AK_LowGenotypeRate/compare_KOR_genos_Depths3v10_byLocus.txt"
   ]
  },
  {
   "cell_type": "code",
   "execution_count": 21,
   "metadata": {
    "collapsed": false
   },
   "outputs": [],
   "source": [
    "infile = open(\"stacks_pipeline_analyses/analyses_AK_LowGenotypeRate/compare_KOR_genos_Depths3v10_byLocus.txt\", \"r\")\n",
    "infile.readline()\n",
    "infile.readline()\n",
    "loci_list = []\n",
    "p_diff = []\n",
    "for line in infile:\n",
    "    linelist = line.strip().split()\n",
    "    if linelist[5] > 0.0000000001:\n",
    "        loci_list.append(int(linelist[0]))\n",
    "        p_diff.append((float(linelist[7]) + float(linelist[8]) + float(linelist[9])))\n",
    "infile.close()"
   ]
  },
  {
   "cell_type": "markdown",
   "metadata": {},
   "source": [
    "<br>\n",
    "<br>\n",
    "\n",
    "### PLOT\n",
    "\n",
    "<br>\n",
    "The plot below shows the locus ID along the x axis, and along the y axis shows the proportion of individuals that had different genotypes at that locus. \n",
    "\n",
    "\"different genotypes\" = the genotype given to the individual when using the original file was different from the genotype given to the individual when only a subset of data was used. The individual had to be genotyped from *both* files in order for this metric to be calculated."
   ]
  },
  {
   "cell_type": "code",
   "execution_count": 22,
   "metadata": {
    "collapsed": false
   },
   "outputs": [
    {
     "data": {
      "image/png": "[encoded data removed]",
      "text/plain": [
       "<matplotlib.figure.Figure at 0x7fcbd6bca910>"
      ]
     },
     "metadata": {},
     "output_type": "display_data"
    }
   ],
   "source": [
    "import numpy as np\n",
    "import matplotlib.pyplot as plt\n",
    "plt.scatter(loci_list, p_diff)\n",
    "plt.suptitle(\"Proportion Mismatched Genotypes\\n by Locus\")\n",
    "plt.xlabel(\"Locus ID\")\n",
    "plt.ylabel(\"Prop. Individuals w/ Mismatched \")\n",
    "plt.show()"
   ]
  },
  {
   "cell_type": "code",
   "execution_count": 23,
   "metadata": {
    "collapsed": false
   },
   "outputs": [],
   "source": [
    "plt.close()"
   ]
  },
  {
   "cell_type": "markdown",
   "metadata": {},
   "source": [
    "#### Check to see if loci with > 0.15 individuals mismatched were retained through filtering:\n"
   ]
  },
  {
   "cell_type": "code",
   "execution_count": 26,
   "metadata": {
    "collapsed": false
   },
   "outputs": [
    {
     "name": "stdout",
     "output_type": "stream",
     "text": [
      "Loci with mismatch rate greater than 0.15 (more than 7 individuals mismatched)\n",
      "1147\n",
      "1291\n",
      "3972\n",
      "4235\n",
      "4300\n",
      "5229\n",
      "6614\n",
      "6703\n",
      "8014\n",
      "9571\n",
      "11361\n",
      "11385\n",
      "11445\n"
     ]
    }
   ],
   "source": [
    "print \"Loci with mismatch rate greater than 0.15 (more than 7 individuals mismatched)\"\n",
    "for i, j in enumerate(p_diff):\n",
    "    if j > 0.15:\n",
    "        print i"
   ]
  },
  {
   "cell_type": "markdown",
   "metadata": {},
   "source": [
    "<br>\n",
    "<br>\n",
    "\n",
    "\n",
    "### Marine's correction script"
   ]
  },
  {
   "cell_type": "markdown",
   "metadata": {},
   "source": [
    "*In batch 2, I need to convert Marine's \"ab\" genotype scheme to \"0101\" before i can compare the two files*"
   ]
  },
  {
   "cell_type": "code",
   "execution_count": 42,
   "metadata": {
    "collapsed": false
   },
   "outputs": [],
   "source": [
    "!python scripts/PostStacksFiltering/genepop_conversion_corrected.py \\\n",
    "stacks_b2_wgenome/batch_2_matched.CorrectedGenotypes_biallelic.txt \\\n",
    "stacks_b2_wgenome/batch_2_matched.CorrectedGenotypes_biallelic_gen.txt"
   ]
  },
  {
   "cell_type": "code",
   "execution_count": 49,
   "metadata": {
    "collapsed": false,
    "scrolled": true
   },
   "outputs": [
    {
     "name": "stdout",
     "output_type": "stream",
     "text": [
      "These are your sample names:\n",
      "['PO010715_26', 'PO010715_27.1', 'PO020515_10.1', 'PO031715_04', 'PO031715_23', 'PO010715_07_rep', 'GE011215_08.1', 'GE011215_30.1', 'GE012315_05.1', 'GE012315_10.1', 'GEO012315_02', 'GEO012315_12', 'GEO012315_18', 'GEO012315_21', 'GE012315_11_2', 'GE011215_11', 'NA021015_02.1', 'NA021015_10.1', 'NA021015_25', 'YS_121316_18', 'YS_121316_28', 'YS_121316_29', 'YS_121316_21_2', 'JUK07_14', 'JUK07_15', 'JUK07_29.1', 'JUK07_32', 'JUK07_13', 'JUK07_12', 'JB121807_01', 'JB121807_05', 'JB121807_12.1', 'JB121807_19.1', 'JB121807_25', 'JB121807_33.1', 'JB121807_41.1', 'JB121807_05_2', 'JB121807_23_2', 'JB021108_25.1', 'JB021108_45', 'JB021108_46_rep.1', 'JB021108_48.1', 'BOR07_07.1', 'BOR07_10.1', 'BOR07_12.1', 'GEO020414_11', 'GEO020414_16', 'GEO020414_2', 'GEO020414_27', 'GEO020414_4']\n",
      "1  loci are missing from one of your matched files.\n",
      "[[]]\n",
      "sample  PO010715_26  processed.  6937  genotypes in sample.\n",
      "sample  PO010715_27.1  processed.  6937  genotypes in sample.\n",
      "sample  PO020515_10.1  processed.  6937  genotypes in sample.\n",
      "sample  PO031715_04  processed.  6937  genotypes in sample.\n",
      "sample  PO031715_23  processed.  6937  genotypes in sample.\n",
      "sample  PO010715_07_rep  processed.  6937  genotypes in sample.\n",
      "sample  GE011215_08.1  processed.  6937  genotypes in sample.\n",
      "sample  GE011215_30.1  processed.  6937  genotypes in sample.\n",
      "sample  GE012315_05.1  processed.  6937  genotypes in sample.\n",
      "sample  GE012315_10.1  processed.  6937  genotypes in sample.\n",
      "sample  GEO012315_02  processed.  6937  genotypes in sample.\n",
      "sample  GEO012315_12  processed.  6937  genotypes in sample.\n",
      "sample  GEO012315_18  processed.  6937  genotypes in sample.\n",
      "sample  GEO012315_21  processed.  6937  genotypes in sample.\n",
      "sample  GE012315_11_2  processed.  6937  genotypes in sample.\n",
      "sample  GE011215_11  processed.  6937  genotypes in sample.\n",
      "sample  NA021015_02.1  processed.  6937  genotypes in sample.\n",
      "sample  NA021015_10.1  processed.  6937  genotypes in sample.\n",
      "sample  NA021015_25  processed.  6937  genotypes in sample.\n",
      "sample  YS_121316_18  processed.  6937  genotypes in sample.\n",
      "sample  YS_121316_28  processed.  6937  genotypes in sample.\n",
      "sample  YS_121316_29  processed.  6937  genotypes in sample.\n",
      "sample  YS_121316_21_2  processed.  6937  genotypes in sample.\n",
      "sample  JUK07_14  processed.  6937  genotypes in sample.\n",
      "sample  JUK07_15  processed.  6937  genotypes in sample.\n",
      "sample  JUK07_29.1  processed.  6937  genotypes in sample.\n",
      "sample  JUK07_32  processed.  6937  genotypes in sample.\n",
      "sample  JUK07_13  processed.  6937  genotypes in sample.\n",
      "sample  JUK07_12  processed.  6937  genotypes in sample.\n",
      "sample  JB121807_01  processed.  6937  genotypes in sample.\n",
      "sample  JB121807_05  processed.  6937  genotypes in sample.\n",
      "sample  JB121807_12.1  processed.  6937  genotypes in sample.\n",
      "sample  JB121807_19.1  processed.  6937  genotypes in sample.\n",
      "sample  JB121807_25  processed.  6937  genotypes in sample.\n",
      "sample  JB121807_33.1  processed.  6937  genotypes in sample.\n",
      "sample  JB121807_41.1  processed.  6937  genotypes in sample.\n",
      "sample  JB121807_05_2  processed.  6937  genotypes in sample.\n",
      "sample  JB121807_23_2  processed.  6937  genotypes in sample.\n",
      "sample  JB021108_25.1  processed.  6937  genotypes in sample.\n",
      "sample  JB021108_45  processed.  6937  genotypes in sample.\n",
      "sample  JB021108_46_rep.1  processed.  6937  genotypes in sample.\n",
      "sample  JB021108_48.1  processed.  6937  genotypes in sample.\n",
      "sample  BOR07_07.1  processed.  6937  genotypes in sample.\n",
      "sample  BOR07_10.1  processed.  6937  genotypes in sample.\n",
      "sample  BOR07_12.1  processed.  6937  genotypes in sample.\n",
      "sample  GEO020414_11  processed.  6937  genotypes in sample.\n",
      "sample  GEO020414_16  processed.  6937  genotypes in sample.\n",
      "sample  GEO020414_2  processed.  6937  genotypes in sample.\n",
      "sample  GEO020414_27  processed.  6937  genotypes in sample.\n",
      "sample  GEO020414_4  processed.  6937  genotypes in sample.\n"
     ]
    }
   ],
   "source": [
    "## open up a sample list file\n",
    "infile = open(\"scripts/PopMap_KOR_subset_populations.txt\", \"r\")\n",
    "sampleList = []\n",
    "for line in infile:\n",
    "    sampleList.append(line.strip().split()[0].strip(\"_subset\"))\n",
    "infile.close()\n",
    "print \"These are your sample names:\"\n",
    "print sampleList\n",
    "\n",
    "## open up the genepop files\n",
    "batch1 = open(\"stacks_b1_wgenome/batch_1_matched.CorrectedGenotypes_biallelic.txt\", \"r\")\n",
    "batch2 = open(\"stacks_b2_wgenome/batch_2_matched.CorrectedGenotypes_biallelic_gen.txt\", \"r\")\n",
    "\n",
    "## initiate dictionary\n",
    "import collections\n",
    "bylocus_MB_dict = collections.OrderedDict() #with an ordered dict, I can use indices to call certain loci\n",
    "\n",
    "## read loci into dictionary as keys\n",
    "\n",
    "loci_list1 = batch1.readline().strip().split()\n",
    "batch1.close()\n",
    "\n",
    "\n",
    "loci_list2 = batch2.readline().strip().split()\n",
    "batch2.close()\n",
    "\n",
    "## check to make sure that only matching loci were included in files\n",
    "not_matched_loci = [i for i in loci_list1 if i not in loci_list2]\n",
    "not_matched_loci.append([i for i in loci_list2 if i not in loci_list1])\n",
    "print len(not_matched_loci), \" loci are missing from one of your matched files.\" #(want to see 0)\n",
    "print not_matched_loci\n",
    "\n",
    "\n",
    "## calculate mismatches\n",
    "for sample in sampleList:\n",
    "    ## open up the genepop files\n",
    "    batch1 = open(\"stacks_b1_wgenome/batch_1_matched.CorrectedGenotypes_biallelic.txt\", \"r\")\n",
    "    batch2 = open(\"stacks_b2_wgenome/batch_2_matched.CorrectedGenotypes_biallelic.txt\", \"r\")\n",
    "    ## find that sample's genotypes in both file and save only genotypes as a list\n",
    "    for line in batch1: \n",
    "        if line.startswith(sample):\n",
    "            b1_genotypes = line.strip().split()[1:]\n",
    "    for line in batch2: \n",
    "        if line.startswith(sample):\n",
    "            b2_genotypes = line.strip().split()[1:]\n",
    "    batch1.close()\n",
    "    batch2.close()\n",
    "    # initiate list to save coded mismatch type\n",
    "    coded = []\n",
    "    ## add appropriate code to list based on comparison of two genotypes\n",
    "    #--- 0 = both missing\n",
    "    #--- 1 = batch 1 missing\n",
    "    #--- 2 = batch 2 missing\n",
    "    #--- 3 = both genotyped\n",
    "    #--- 4 = both genotyped, matched\n",
    "    #--- 5 = both genotyped, mismatch because of hom --> hom\n",
    "    #--- 6 = both genotyped, mismatched because of hom --> het\n",
    "    #--- 7 = both genotyped, mismatched because of het --> hom\n",
    "    for i in range(0,len(b1_genotypes)):\n",
    "        if b1_genotypes[i] == b2_genotypes[i]:\n",
    "            # if genotypes matched and neither are missing\n",
    "            if b1_genotypes[i] != \"0000\":\n",
    "                coded.append(4)\n",
    "            elif b1_genotypes[i] == \"0000\":\n",
    "                coded.append(0)\n",
    "        # if genotypes don't match\n",
    "        elif b1_genotypes[i] != b2_genotypes[i]:\n",
    "            # if they are mismatched because one is missing\n",
    "            if b1_genotypes[i] == \"0000\":\n",
    "                coded.append(1)\n",
    "            elif b2_genotypes[i] == \"0000\":\n",
    "                coded.append(2)\n",
    "            # if they are mismatched and neither are missing\n",
    "            else:\n",
    "                # b1 het (b2 must be hom)\n",
    "                if b1_genotypes[i][0:2] != b1_genotypes[i][2:]:\n",
    "                    coded.append(7)\n",
    "                # b1 hom\n",
    "                elif b1_genotypes[i][0:2] == b1_genotypes[i][2:]:\n",
    "                    # b2 hom\n",
    "                    if b2_genotypes[i][0:2] == b2_genotypes[i][2:]:\n",
    "                        coded.append(5)\n",
    "                    # b2 het\n",
    "                    elif b2_genotypes[i][0:2] != b2_genotypes[i][2:]:\n",
    "                        coded.append(6)\n",
    "    # this only works because the index # is the same in the loci list and in the sample-specific coded list\n",
    "    # append the sample-specific code to the appropriate locus' list and re-save it into the dictionary\n",
    "    for i in range(0, len(loci_list1)-1):\n",
    "        if loci_list1[i] not in bylocus_MB_dict.keys():\n",
    "            bylocus_MB_dict[loci_list1[i]] = [coded[i]]\n",
    "        elif loci_list1[i] in bylocus_MB_dict.keys():\n",
    "            codelist = bylocus_MB_dict[loci_list1[i]]\n",
    "            codelist.append(coded[i])\n",
    "            bylocus_MB_dict[loci_list1[i]] = codelist\n",
    "    print \"sample \", sample, \" processed. \", len(coded), \" genotypes in sample.\"\n",
    "## now I have a dictionary where each locus has a code for each sample pair\n"
   ]
  },
  {
   "cell_type": "code",
   "execution_count": 51,
   "metadata": {
    "collapsed": false
   },
   "outputs": [],
   "source": [
    "## open outfile\n",
    "outfile = open(\"stacks_pipeline_analyses/analyses_AK_LowGenotypeRate/compare_KOR_genos_Depths3v10_byLocus_MB.txt\", \"w\")\n",
    "outfile.write(\"per locus comparison. all values as proportions\\n\")\n",
    "outfile.write(\"locus_ID\\tn_pairs\\tboth_miss\\tb1_miss\\tb2_miss\\tboth_genotyped\\tmatched\\tdiff_homhom\\tdiff_homhet\\tdiff_hethom\\n\")\n",
    "\n",
    "for locus in bylocus_MB_dict.keys():\n",
    "    coded = bylocus_MB_dict[locus]\n",
    "    n_pairs = len(coded)\n",
    "    p_miss = float(len([i for i in coded if i == 0]))/float(n_pairs)\n",
    "    p_missb1 = float(len([i for i in coded if i == 1]))/float(n_pairs)\n",
    "    p_missb2 = float(len([i for i in coded if i == 2]))/float(n_pairs)\n",
    "    n_matched = float(len([i for i in coded if i == 4]))\n",
    "    n_mismatch_homhom = float(len([i for i in coded if i == 5]))\n",
    "    n_mismatch_homhet = float(len([i for i in coded if i == 6]))\n",
    "    n_mismatch_hethom = float(len([i for i in coded if i == 7]))\n",
    "    n_genod = n_matched + n_mismatch_homhom + n_mismatch_homhet + n_mismatch_hethom + 0.000000000000000001\n",
    "    #note that some loci may not be genotyped at any individuals; this is not filtered data\n",
    "    p_genod = float(n_genod)/float(n_pairs)\n",
    "    p_genod_matched = n_matched/float(n_genod)\n",
    "    p_genod_mismatch_homhom = n_mismatch_homhom/float(n_genod)\n",
    "    p_genod_mismatch_homhet = n_mismatch_homhet/float(n_genod)\n",
    "    p_genod_mismatch_hethom = n_mismatch_hethom/float(n_genod)\n",
    "    outfile.write(locus + \"\\t\" + str(n_pairs) + \"\\t\" + str(p_miss) + \"\\t\" + str(p_missb1) + \"\\t\" + str(p_missb2) + \"\\t\" + str(p_genod) + \"\\t\")\n",
    "    outfile.write(str(p_genod_matched) + \"\\t\" + str(p_genod_mismatch_homhom) + \"\\t\" + str(p_genod_mismatch_homhet) + \"\\t\" + str(p_genod_mismatch_hethom) + \"\\n\")\n",
    "\n",
    "outfile.close()"
   ]
  },
  {
   "cell_type": "code",
   "execution_count": 53,
   "metadata": {
    "collapsed": false
   },
   "outputs": [
    {
     "name": "stdout",
     "output_type": "stream",
     "text": [
      "per locus comparison. all values as proportions\r\n",
      "locus_ID\tn_pairs\tboth_miss\tb1_miss\tb2_miss\tboth_genotyped\tmatched\tdiff_homhom\tdiff_homhet\tdiff_hethom\r\n",
      "10000\t50\t0.0\t0.1\t0.0\t0.9\t0.0\t0.0\t0.733333333333\t0.266666666667\r\n",
      "10004\t50\t0.0\t0.02\t0.0\t0.98\t0.0\t0.0\t0.918367346939\t0.0816326530612\r\n",
      "10011\t50\t0.0\t0.1\t0.0\t0.9\t0.0\t0.0\t0.4\t0.6\r\n",
      "10012\t50\t0.0\t1.0\t0.0\t2e-20\t0.0\t0.0\t0.0\t0.0\r\n",
      "10016\t50\t0.0\t0.06\t0.0\t0.94\t0.0\t0.0\t0.851063829787\t0.148936170213\r\n",
      "10018\t50\t0.0\t0.0\t0.0\t1.0\t0.0\t0.0\t1.0\t0.0\r\n",
      "10019\t50\t0.0\t0.02\t0.0\t0.98\t0.0\t0.0\t0.897959183673\t0.102040816327\r\n",
      "10023\t50\t0.0\t0.0\t0.0\t1.0\t0.0\t0.0\t1.0\t0.0\r\n"
     ]
    }
   ],
   "source": [
    "!head stacks_pipeline_analyses/analyses_AK_LowGenotypeRate/compare_KOR_genos_Depths3v10_byLocus_MB.txt"
   ]
  },
  {
   "cell_type": "code",
   "execution_count": 54,
   "metadata": {
    "collapsed": true
   },
   "outputs": [],
   "source": [
    "infile = open(\"stacks_pipeline_analyses/analyses_AK_LowGenotypeRate/compare_KOR_genos_Depths3v10_byLocus.txt\", \"r\")\n",
    "infile.readline()\n",
    "infile.readline()\n",
    "loci_list = []\n",
    "p_diff = []\n",
    "for line in infile:\n",
    "    linelist = line.strip().split()\n",
    "    if linelist[5] > 0.0000000001:\n",
    "        loci_list.append(int(linelist[0]))\n",
    "        p_diff.append((float(linelist[7]) + float(linelist[8]) + float(linelist[9])))\n",
    "infile.close()"
   ]
  },
  {
   "cell_type": "markdown",
   "metadata": {},
   "source": [
    "### PLOT\n",
    "\n",
    "The plot below shows the locus ID along the x axis, and along the y axis shows the proportion of individuals that had different genotypes at that locus.\n",
    "\n",
    "\"different genotypes\" = the genotype given to the individual when using the original file was different from the genotype given to the individual when only a subset of data was used. The individual had to be genotyped from both files in order for this metric to be calculated."
   ]
  },
  {
   "cell_type": "code",
   "execution_count": 55,
   "metadata": {
    "collapsed": false
   },
   "outputs": [
    {
     "data": {
      "image/png": "[encoded data removed]",
      "text/plain": [
       "<matplotlib.figure.Figure at 0x7fcbbf6530d0>"
      ]
     },
     "metadata": {},
     "output_type": "display_data"
    }
   ],
   "source": [
    "import numpy as np\n",
    "import matplotlib.pyplot as plt\n",
    "plt.scatter(loci_list, p_diff)\n",
    "plt.suptitle(\"Proportion Mismatched Genotypes\\n by Locus\")\n",
    "plt.xlabel(\"Locus ID\")\n",
    "plt.ylabel(\"Prop. Individuals w/ Mismatched \")\n",
    "plt.show()"
   ]
  },
  {
   "cell_type": "code",
   "execution_count": 56,
   "metadata": {
    "collapsed": true
   },
   "outputs": [],
   "source": [
    "plt.close()"
   ]
  },
  {
   "cell_type": "code",
   "execution_count": 57,
   "metadata": {
    "collapsed": false
   },
   "outputs": [
    {
     "name": "stdout",
     "output_type": "stream",
     "text": [
      "Loci with mismatch rate greater than 0.15 (more than 7 individuals mismatched)\n",
      "1147\n",
      "1291\n",
      "3972\n",
      "4235\n",
      "4300\n",
      "5229\n",
      "6614\n",
      "6703\n",
      "8014\n",
      "9571\n",
      "11361\n",
      "11385\n",
      "11445\n"
     ]
    }
   ],
   "source": [
    "print \"Loci with mismatch rate greater than 0.15 (more than 7 individuals mismatched)\"\n",
    "for i, j in enumerate(p_diff):\n",
    "    if j > 0.15:\n",
    "        print i"
   ]
  },
  {
   "cell_type": "code",
   "execution_count": null,
   "metadata": {
    "collapsed": true
   },
   "outputs": [],
   "source": []
  }
 ],
 "metadata": {
  "anaconda-cloud": {},
  "kernelspec": {
   "display_name": "Python [default]",
   "language": "python",
   "name": "python2"
  },
  "language_info": {
   "codemirror_mode": {
    "name": "ipython",
    "version": 2
   },
   "file_extension": ".py",
   "mimetype": "text/x-python",
   "name": "python",
   "nbconvert_exporter": "python",
   "pygments_lexer": "ipython2",
   "version": "2.7.12"
  }
 },
 "nbformat": 4,
 "nbformat_minor": 1
}
