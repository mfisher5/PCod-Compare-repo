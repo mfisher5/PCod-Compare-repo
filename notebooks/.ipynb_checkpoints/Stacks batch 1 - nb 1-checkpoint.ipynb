{
 "cells": [
  {
   "cell_type": "markdown",
   "metadata": {},
   "source": [
    "## Stacks batch 1 (east-west comparisons) - notebook 1\n",
    "\n",
    "\n",
    "Contained in this notebook: \n",
    "1. `pstacks` run of Alaskan data+\n",
    "2. `cstacks` through `populations` run of the combined dataset.\n",
    "\n",
    "<BR>\n",
    "<Br>\n",
    "\n"
   ]
  },
  {
   "cell_type": "code",
   "execution_count": 1,
   "metadata": {
    "collapsed": false
   },
   "outputs": [
    {
     "data": {
      "text/plain": [
       "u'/mnt/hgfs/Pacific cod/DataAnalysis/PCod-Compare-repo/notebooks'"
      ]
     },
     "execution_count": 1,
     "metadata": {},
     "output_type": "execute_result"
    }
   ],
   "source": [
    "pwd"
   ]
  },
  {
   "cell_type": "code",
   "execution_count": 2,
   "metadata": {
    "collapsed": false
   },
   "outputs": [
    {
     "name": "stdout",
     "output_type": "stream",
     "text": [
      "/mnt/hgfs/Pacific cod/DataAnalysis/PCod-Compare-repo/scripts\n"
     ]
    }
   ],
   "source": [
    "cd ../scripts"
   ]
  },
  {
   "cell_type": "code",
   "execution_count": 4,
   "metadata": {
    "collapsed": false
   },
   "outputs": [
    {
     "name": "stdout",
     "output_type": "stream",
     "text": [
      "###### Generate Shell Script to Run pstacks --> populations ######\r\n",
      "\r\n",
      "## MF 3/10/2017\r\n",
      "## For US Cod Data\r\n",
      "\r\n",
      "## Edited by MF 5/3/2017 for Korea PCod Data\r\n",
      "## Edited 6/25/2017 for Korea PCod Data, 8/21/2017 to include batch number as an argument\r\n",
      "\r\n",
      "## At Command Line: python cstacks_populations_genShell_7-6 ARG1 ARG2\r\n",
      "##---- ARG1 = complete sample list file, can be population map\r\n",
      "##---- ARG2 = batch number\r\n",
      "\r\n",
      "\r\n",
      "#############################################################################\r\n",
      "\r\n"
     ]
    }
   ],
   "source": [
    "!head -n 15 pstacks_genShell_8-23.py"
   ]
  },
  {
   "cell_type": "code",
   "execution_count": 5,
   "metadata": {
    "collapsed": true
   },
   "outputs": [],
   "source": [
    "!python pstacks_genShell_8-23.py \\\n",
    "PopMap.txt \\\n",
    "1"
   ]
  },
  {
   "cell_type": "code",
   "execution_count": 6,
   "metadata": {
    "collapsed": false
   },
   "outputs": [
    {
     "name": "stdout",
     "output_type": "stream",
     "text": [
      "\r\n",
      "#pstacks\r\n",
      "pstacks -t sam -f ../stacks_b1_wgenome/KOD03_035.sam -o ../stacks_b1_wgenome -i 330 -m 10 -p 6 --model_type bounded 2>> ../stacks_b1_wgenome/pstacks_out_b1_wgenome\r\n",
      "pstacks -t sam -f ../stacks_b1_wgenome/KOD03_051.sam -o ../stacks_b1_wgenome -i 331 -m 10 -p 6 --model_type bounded 2>> ../stacks_b1_wgenome/pstacks_out_b1_wgenome\r\n",
      "pstacks -t sam -f ../stacks_b1_wgenome/KOD03_052.sam -o ../stacks_b1_wgenome -i 332 -m 10 -p 6 --model_type bounded 2>> ../stacks_b1_wgenome/pstacks_out_b1_wgenome\r\n",
      "pstacks -t sam -f ../stacks_b1_wgenome/KOD03_053.sam -o ../stacks_b1_wgenome -i 333 -m 10 -p 6 --model_type bounded 2>> ../stacks_b1_wgenome/pstacks_out_b1_wgenome\r\n",
      "pstacks -t sam -f ../stacks_b1_wgenome/KOD03_054.sam -o ../stacks_b1_wgenome -i 334 -m 10 -p 6 --model_type bounded 2>> ../stacks_b1_wgenome/pstacks_out_b1_wgenome\r\n",
      "pstacks -t sam -f ../stacks_b1_wgenome/KOD03_055.sam -o ../stacks_b1_wgenome -i 335 -m 10 -p 6 --model_type bounded 2>> ../stacks_b1_wgenome/pstacks_out_b1_wgenome\r\n",
      "pstacks -t sam -f ../stacks_b1_wgenome/KOD03_056.sam -o ../stacks_b1_wgenome -i 336 -m 10 -p 6 --model_type bounded 2>> ../stacks_b1_wgenome/pstacks_out_b1_wgenome\r\n",
      "pstacks -t sam -f ../stacks_b1_wgenome/KOD03_057.sam -o ../stacks_b1_wgenome -i 337 -m 10 -p 6 --model_type bounded 2>> ../stacks_b1_wgenome/pstacks_out_b1_wgenome\r\n"
     ]
    }
   ],
   "source": [
    "!head pstacks_b1.sh"
   ]
  },
  {
   "cell_type": "code",
   "execution_count": null,
   "metadata": {
    "collapsed": true
   },
   "outputs": [],
   "source": [
    "#ran in terminal\n",
    "./pstacks_b1.sh"
   ]
  },
  {
   "cell_type": "markdown",
   "metadata": {},
   "source": [
    "#### PWS test set samples, 8/27/2017\n",
    "\n",
    "These samples were added late (n = 24) for Prince WIlliam Sound. \n"
   ]
  },
  {
   "cell_type": "code",
   "execution_count": null,
   "metadata": {
    "collapsed": true
   },
   "outputs": [],
   "source": [
    "cd ../scripts"
   ]
  },
  {
   "cell_type": "code",
   "execution_count": null,
   "metadata": {
    "collapsed": true
   },
   "outputs": [],
   "source": [
    "python pstacks_genShell_PWStest.py ../../PCod-US-repo/scripts/barcodesL6_PWStest.txt"
   ]
  },
  {
   "cell_type": "code",
   "execution_count": null,
   "metadata": {
    "collapsed": true
   },
   "outputs": [],
   "source": [
    "./pstacks_PWStest.sh"
   ]
  },
  {
   "cell_type": "markdown",
   "metadata": {},
   "source": [
    "### cstacks --> populations\n",
    "\n",
    "In getting ready for `cstacks`, I was comparing the removed contaminated samples from the in prep paper to my own samples, to avoid added contaminated individuals to my cstacks catalog. I noticed that two of the contaminated samples in the list `SS12_014` and `SS12_015`, were from a population designation that I don't have in my sample set. I referred to the manuscript draft, which wrote that:\n",
    "\n",
    "*The 2012 Salish Sea regional sample was collected in US waters and was comprised of 23 fish from the Strait of Juan de Fuca, 12 fish from the central Puget Sound, one fish from San Juan Island, and 12 fish from the southern Georgia Basin.  A separate set of 17 fish was collected in Canadian waters in the northern Georgia Basin in 2013.  The Puget Sound, San Juan Island, and Georgia Basin fish were combined into a Salish Sea sample (SS12/13), and the Strait of Juan de Fuca sample was denoted JDF12*\n",
    "\n",
    "So I have Georgia Basin fish, as `GS13`. But the population that I thought was the Puget Sound, `PS12`, has 48 samples when it should have only 12. The population that I thought was Prince William Sound, `PWS12`, only has 12 fish. So I think that `PS12` is actually `PrinceWilliamSound12`, and `PWS12` is actually `PugetSound12`. When I checked Kristen's original barcode file, she had the `PS` fish on their own sheet (n = 48), and the `PWS` fish were on a sheet with the `GS` fish (n = 12). \n",
    "\n",
    "**For cstacks through populations, I will combine the GS and PWS fish into a single population.** This means that the 10 individuals with the greatest read / tag depth *between the two* will be used for the cstacks catalog. \n",
    "<br>\n",
    "\n",
    "\n",
    "My next issue is the name change of the populations. I don't know which fish (`PWS` or `GS`) were used as `SS12_001-012`, and which were used as `SS12_012-024`. Or if another naming scheme was used when combining them. Or if the `GS` fish went first, then the one sample from the San Juans that I don't have, then the `PWS` fish. \n",
    "\n",
    "The contaminated individuals are conveniently labeled as `SS12_14` and `SS12_15`.\n",
    "\n",
    "After cross-referencing the `genalex_6442 LH2` file, tab `IH` with the plates on the MERlab google drive inventories spreadsheet, it seems like although the population is called \"Salish Sea 12/13,\" the actual sample naming scheme distinguishes between `SS13` and `SS12`. In the genalex file, there are individuals listed as SS12_014 and SS13_001, on \"KG plate 2\" and \"KG plate 5\" respectively. Looking at the MERlab inventories spreadsheet, the second DNA extraction plate that Kristen did was HS04_PS12_02, and the fifth plate that she did was FS09_GS13_05. So the SS12 sample corresponds to the PS12 sample, and the SS13 sample corresponds to the GS13 sample. (putting aside the naming switch that occurs in her barcode files between PS and PWS). So that means I can... \n",
    "\n",
    "**Remove samples `PWS12_014` and `PWS12_015` from the cstacks catalog**.\n",
    "\n",
    "Except that I'm second guessing myself, so I also removed `PWS12_75`, `PS12_14` from the catalog too. "
   ]
  },
  {
   "cell_type": "code",
   "execution_count": 1,
   "metadata": {
    "collapsed": false
   },
   "outputs": [
    {
     "data": {
      "text/plain": [
       "u'/mnt/hgfs/Pacific cod/DataAnalysis/PCod-Compare-repo/notebooks'"
      ]
     },
     "execution_count": 1,
     "metadata": {},
     "output_type": "execute_result"
    }
   ],
   "source": [
    "pwd"
   ]
  },
  {
   "cell_type": "code",
   "execution_count": 2,
   "metadata": {
    "collapsed": false
   },
   "outputs": [
    {
     "name": "stdout",
     "output_type": "stream",
     "text": [
      "/mnt/hgfs/Pacific cod/DataAnalysis/PCod-Compare-repo/scripts\n"
     ]
    }
   ],
   "source": [
    "cd ../scripts"
   ]
  },
  {
   "cell_type": "code",
   "execution_count": 8,
   "metadata": {
    "collapsed": false
   },
   "outputs": [
    {
     "name": "stdout",
     "output_type": "stream",
     "text": [
      "###### Generate Shell Script to Run pstacks --> populations ######\r\n",
      "\r\n",
      "## MF 3/10/2017\r\n",
      "## For US Cod Data\r\n",
      "\r\n",
      "## Edited by MF 5/3/2017 for Korea PCod Data\r\n",
      "## Edited 6/25/2017 for Korea PCod Data\r\n",
      "## Edited 7/5/2017\r\n",
      "\r\n",
      "\r\n",
      "\r\n",
      "## At Command Line: python cstacks_populations_genShell_7-6 ARG1 ARG2\r\n",
      "##---- ARG1 = complete sample list file\r\n",
      "##---- ARG2 = sample list for building cstacks catalog\r\n",
      "\r\n",
      "\r\n",
      "#############################################################################\r\n",
      "\r\n",
      "\r\n",
      "import sys\r\n"
     ]
    }
   ],
   "source": [
    "!head -n 20 cstacks_populations_genShell_b1.py"
   ]
  },
  {
   "cell_type": "code",
   "execution_count": 11,
   "metadata": {
    "collapsed": false
   },
   "outputs": [],
   "source": [
    "!python cstacks_populations_genShell_b1.py \\\n",
    "PopMap_combo.txt \\\n",
    "samples_for_cstacks_combo_b1.txt"
   ]
  },
  {
   "cell_type": "code",
   "execution_count": null,
   "metadata": {
    "collapsed": true
   },
   "outputs": [],
   "source": [
    "./cstacks_populations_8-24.sh"
   ]
  },
  {
   "cell_type": "markdown",
   "metadata": {},
   "source": [
    "<br>\n",
    "<br>\n",
    "\n",
    "### cstacks --> populations rerun\n",
    "\n",
    "From Kristen: \n",
    "1. PWS samples are Prince William Sound samples. I only have 24 because I did not include the remaining 24 that were part of the \"test\" set. I went back and ran radtags, bowtie, pstacks on these additional 24 samples\n",
    "2. PS12 samples were split into two separate sample sets: PS12_001 - 0025 (Salish Sea 12-13) and PS12_026-050 (Juan de Fuca). \n",
    "3. The first 25 PS12 samples were combined with the GS13 samples to form the Salish Sea 12-13 population. \n",
    "\n",
    "All of these changes are reflected in the updated population map and samples for cstacks files:\n",
    "\n",
    "`PopMap_combo.txt` (Alaska samples only were in `PopMap_AK_edit.txt`)\n",
    "\n",
    "`samples_for_cstacks_combo_b1.txt`"
   ]
  },
  {
   "cell_type": "code",
   "execution_count": 2,
   "metadata": {
    "collapsed": false
   },
   "outputs": [
    {
     "data": {
      "text/plain": [
       "u'/mnt/hgfs/Pacific cod/DataAnalysis/PCod-Compare-repo/notebooks'"
      ]
     },
     "execution_count": 2,
     "metadata": {},
     "output_type": "execute_result"
    }
   ],
   "source": [
    "pwd"
   ]
  },
  {
   "cell_type": "code",
   "execution_count": 3,
   "metadata": {
    "collapsed": false
   },
   "outputs": [
    {
     "name": "stdout",
     "output_type": "stream",
     "text": [
      "/mnt/hgfs/Pacific cod/DataAnalysis/PCod-Compare-repo/scripts\n"
     ]
    }
   ],
   "source": [
    "cd ../scripts"
   ]
  },
  {
   "cell_type": "code",
   "execution_count": 4,
   "metadata": {
    "collapsed": false
   },
   "outputs": [],
   "source": [
    "!python cstacks_populations_genShell_b1.py PopMap_combo.txt samples_for_cstacks_combo_b1.txt"
   ]
  },
  {
   "cell_type": "code",
   "execution_count": 5,
   "metadata": {
    "collapsed": false
   },
   "outputs": [
    {
     "name": "stdout",
     "output_type": "stream",
     "text": [
      "#!/bin/bash\r\n",
      "#cstacks\r\n",
      "cstacks -b 1 -s ../stacks_b1_wgenome/PO010715_28.1 -s ../stacks_b1_wgenome/PO031715_03 -s ../stacks_b1_wgenome/PO031715_23 -s ../stacks_b1_wgenome/PO031715_04 -s ../stacks_b1_wgenome/PO020515_15.1 -s ../stacks_b1_wgenome/PO010715_02 -s ../stacks_b1_wgenome/PO010715_12 -s ../stacks_b1_wgenome/PO020515_14.1 -s ../stacks_b1_wgenome/PO010715_19.1 -s ../stacks_b1_wgenome/PO020515_10.1 -s ../stacks_b1_wgenome/GE011215_10.1 -s ../stacks_b1_wgenome/GEO012315_12 -s ../stacks_b1_wgenome/GE011215_18 -s ../stacks_b1_wgenome/GE011215_22 -s ../stacks_b1_wgenome/GEO012315_18 -s ../stacks_b1_wgenome/GEO012315_02 -s ../stacks_b1_wgenome/GE011215_20.1 -s ../stacks_b1_wgenome/GE011215_14.1 -s ../stacks_b1_wgenome/GE011215_28 -s ../stacks_b1_wgenome/GEO012315_21 -s ../stacks_b1_wgenome/NA021015_25 -s ../stacks_b1_wgenome/NA021015_30 -s ../stacks_b1_wgenome/NA021015_21.1 -s ../stacks_b1_wgenome/NA021015_26 -s ../stacks_b1_wgenome/NA021015_13.1 -s ../stacks_b1_wgenome/NA021015_23 -s ../stacks_b1_wgenome/NA021015_16.1 -s ../stacks_b1_wgenome/NA021015_22.1 -s ../stacks_b1_wgenome/NA021015_17.1 -s ../stacks_b1_wgenome/NA021015_14.1 -s ../stacks_b1_wgenome/YS_121316_13 -s ../stacks_b1_wgenome/YS121315_16 -s ../stacks_b1_wgenome/YS_121316_07 -s ../stacks_b1_wgenome/YS_121316_26 -s ../stacks_b1_wgenome/YS_121316_01 -s ../stacks_b1_wgenome/YS121315_15 -s ../stacks_b1_wgenome/YS_121316_17 -s ../stacks_b1_wgenome/YS_121316_21 -s ../stacks_b1_wgenome/YS_121316_22 -s ../stacks_b1_wgenome/YS_121316_24 -s ../stacks_b1_wgenome/JUK07_30 -s ../stacks_b1_wgenome/JUK07_32 -s ../stacks_b1_wgenome/JUK07_08 -s ../stacks_b1_wgenome/JUK07_02.1 -s ../stacks_b1_wgenome/JUK07_15 -s ../stacks_b1_wgenome/JUK07_29.1 -s ../stacks_b1_wgenome/JUK07_19 -s ../stacks_b1_wgenome/JUK07_27 -s ../stacks_b1_wgenome/JUK07_09.1 -s ../stacks_b1_wgenome/JUK07_26 -s ../stacks_b1_wgenome/JB121807_44 -s ../stacks_b1_wgenome/JB121807_31.1 -s ../stacks_b1_wgenome/JB121807_46 -s ../stacks_b1_wgenome/JB121807_38.1 -s ../stacks_b1_wgenome/JB121807_14.1 -s ../stacks_b1_wgenome/JB121807_33.1 -s ../stacks_b1_wgenome/JB121807_03.1 -s ../stacks_b1_wgenome/JB121807_11.1 -s ../stacks_b1_wgenome/JB121807_21.1 -s ../stacks_b1_wgenome/JB121807_37 -s ../stacks_b1_wgenome/JB021108_19.1 -s ../stacks_b1_wgenome/JB021108_05 -s ../stacks_b1_wgenome/JB021108_32 -s ../stacks_b1_wgenome/JB021108_45 -s ../stacks_b1_wgenome/JB021108_12.1 -s ../stacks_b1_wgenome/JB021108_37.1 -s ../stacks_b1_wgenome/JB021108_30 -s ../stacks_b1_wgenome/JB021108_16 -s ../stacks_b1_wgenome/JB021108_46.1 -s ../stacks_b1_wgenome/JB021108_48.1 -s ../stacks_b1_wgenome/GEO020414_24_300 -s ../stacks_b1_wgenome/GEO020414_7 -s ../stacks_b1_wgenome/GEO020414_4 -s ../stacks_b1_wgenome/GEO020414_11_300 -s ../stacks_b1_wgenome/GEO020414_9_300 -s ../stacks_b1_wgenome/GEO020414_3 -s ../stacks_b1_wgenome/GEO020414_23_300 -s ../stacks_b1_wgenome/GEO020414_13_300 -s ../stacks_b1_wgenome/GEO020414_16_300 -s ../stacks_b1_wgenome/GEO020414_8_300 -s ../stacks_b1_wgenome/BOR07_14 -s ../stacks_b1_wgenome/BOR07_11.1 -s ../stacks_b1_wgenome/BOR07_22 -s ../stacks_b1_wgenome/BOR07_12.1 -s ../stacks_b1_wgenome/BOR07_07.1 -s ../stacks_b1_wgenome/BOR07_09 -s ../stacks_b1_wgenome/BOR07_02.1 -s ../stacks_b1_wgenome/BOR07_04 -s ../stacks_b1_wgenome/BOR07_08.1 -s ../stacks_b1_wgenome/BOR07_17.1 -s ../stacks_b1_wgenome/KOD03_057 -s ../stacks_b1_wgenome/KOD03_067 -s ../stacks_b1_wgenome/KOD03_061 -s ../stacks_b1_wgenome/KOD03_081 -s ../stacks_b1_wgenome/KOD03_065 -s ../stacks_b1_wgenome/KOD03_078 -s ../stacks_b1_wgenome/KOD03_071 -s ../stacks_b1_wgenome/KOD03_089 -s ../stacks_b1_wgenome/KOD03_055 -s ../stacks_b1_wgenome/KOD03_084 -s ../stacks_b1_wgenome/AD06_008 -s ../stacks_b1_wgenome/AD06_048 -s ../stacks_b1_wgenome/AD06_018 -s ../stacks_b1_wgenome/AD06_036 -s ../stacks_b1_wgenome/AD06_030 -s ../stacks_b1_wgenome/AD06_004 -s ../stacks_b1_wgenome/AD06_029 -s ../stacks_b1_wgenome/AD06_041 -s ../stacks_b1_wgenome/AD06_035 -s ../stacks_b1_wgenome/AD06_025 -s ../stacks_b1_wgenome/WC05_008 -s ../stacks_b1_wgenome/WC05_018 -s ../stacks_b1_wgenome/WC05_040 -s ../stacks_b1_wgenome/WC05_016 -s ../stacks_b1_wgenome/WC05_022 -s ../stacks_b1_wgenome/WC05_029 -s ../stacks_b1_wgenome/WC05_032 -s ../stacks_b1_wgenome/WC05_025 -s ../stacks_b1_wgenome/WC05_012 -s ../stacks_b1_wgenome/WC05_035 -s ../stacks_b1_wgenome/HS04_017 -s ../stacks_b1_wgenome/HS04_016 -s ../stacks_b1_wgenome/HS04_032 -s ../stacks_b1_wgenome/HS04_006 -s ../stacks_b1_wgenome/HS04_022 -s ../stacks_b1_wgenome/HS04_040 -s ../stacks_b1_wgenome/HS04_018 -s ../stacks_b1_wgenome/HS04_029 -s ../stacks_b1_wgenome/HS04_014 -s ../stacks_b1_wgenome/HS04_012 -s ../stacks_b1_wgenome/PWS12_017 -s ../stacks_b1_wgenome/PWS12_002 -s ../stacks_b1_wgenome/PWS12_014 -s ../stacks_b1_wgenome/PWS12_010 -s ../stacks_b1_wgenome/PWS12_005 -s ../stacks_b1_wgenome/PWS12_054 -s ../stacks_b1_wgenome/PWS12_001 -s ../stacks_b1_wgenome/PWS12_008 -s ../stacks_b1_wgenome/PWS12_079 -s ../stacks_b1_wgenome/PWS12_066 -s ../stacks_b1_wgenome/PS12_008 -s ../stacks_b1_wgenome/PS12_017 -s ../stacks_b1_wgenome/PS12_006 -s ../stacks_b1_wgenome/PS12_022 -s ../stacks_b1_wgenome/PS12_016 -s ../stacks_b1_wgenome/PS12_012 -s ../stacks_b1_wgenome/PS12_018 -s ../stacks_b1_wgenome/GS13_012 -s ../stacks_b1_wgenome/PS12_020 -s ../stacks_b1_wgenome/GS13_001 -s ../stacks_b1_wgenome/PS12_040 -s ../stacks_b1_wgenome/PS12_032 -s ../stacks_b1_wgenome/PS12_029 -s ../stacks_b1_wgenome/PS12_035 -s ../stacks_b1_wgenome/PS12_047 -s ../stacks_b1_wgenome/PS12_037 -s ../stacks_b1_wgenome/PS12_027 -s ../stacks_b1_wgenome/PS12_046 -s ../stacks_b1_wgenome/PS12_036 -s ../stacks_b1_wgenome/PS12_033 -s ../stacks_b1_wgenome/UP03_036 -s ../stacks_b1_wgenome/UP03_030 -s ../stacks_b1_wgenome/UP03_029 -s ../stacks_b1_wgenome/UP03_008 -s ../stacks_b1_wgenome/UP03_018 -s ../stacks_b1_wgenome/UP03_003 -s ../stacks_b1_wgenome/UP03_021 -s ../stacks_b1_wgenome/UP03_013 -s ../stacks_b1_wgenome/UP03_010 -s ../stacks_b1_wgenome/UP03_046 -o ../stacks_b1_wgenome -g -p 6 2>> cstacks_out_b1_wgenome\r\n",
      "\r\n",
      "\r\n",
      "#sstacks\r\n",
      "sstacks -b 1 -c ../stacks_b1_wgenome/batch_1 -s ../stacks_b1_wgenome/PO010715_02 -o ../stacks_b1_wgenome -p 6 2>> sstacks_out_b1_wgenome\r\n",
      "sstacks -b 1 -c ../stacks_b1_wgenome/batch_1 -s ../stacks_b1_wgenome/PO010715_02_rep -o ../stacks_b1_wgenome -p 6 2>> sstacks_out_b1_wgenome\r\n",
      "sstacks -b 1 -c ../stacks_b1_wgenome/batch_1 -s ../stacks_b1_wgenome/PO010715_04 -o ../stacks_b1_wgenome -p 6 2>> sstacks_out_b1_wgenome\r\n",
      "sstacks -b 1 -c ../stacks_b1_wgenome/batch_1 -s ../stacks_b1_wgenome/PO010715_06.1 -o ../stacks_b1_wgenome -p 6 2>> sstacks_out_b1_wgenome\r\n"
     ]
    }
   ],
   "source": [
    "!head cstacks_populations_8-24.sh"
   ]
  },
  {
   "cell_type": "code",
   "execution_count": null,
   "metadata": {
    "collapsed": true
   },
   "outputs": [],
   "source": []
  }
 ],
 "metadata": {
  "anaconda-cloud": {},
  "kernelspec": {
   "display_name": "Python [default]",
   "language": "python",
   "name": "python2"
  },
  "language_info": {
   "codemirror_mode": {
    "name": "ipython",
    "version": 2
   },
   "file_extension": ".py",
   "mimetype": "text/x-python",
   "name": "python",
   "nbconvert_exporter": "python",
   "pygments_lexer": "ipython2",
   "version": "2.7.12"
  }
 },
 "nbformat": 4,
 "nbformat_minor": 1
}
