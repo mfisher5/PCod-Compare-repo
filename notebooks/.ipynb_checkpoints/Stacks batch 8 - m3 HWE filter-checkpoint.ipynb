{
 "cells": [
  {
   "cell_type": "markdown",
   "metadata": {},
   "source": [
    "## Stacks batch 8 - m3 uncorrected, HWE filter\n",
    "<br>\n",
    "\n",
    "The steps in this notebook are based on [this prior notebook]().\n",
    "\n",
    "\n",
    "\n",
    "<br>\n",
    "#### 2/5/2018\n",
    "\n",
    "<Br>\n",
    "### Convert matrix to genepop\n",
    "\n",
    "My matrix currently has loci as column headers and individs as rows. I need individuals as columns going into the conversion script"
   ]
  },
  {
   "cell_type": "code",
   "execution_count": 1,
   "metadata": {},
   "outputs": [
    {
     "name": "stdout",
     "output_type": "stream",
     "text": [
      "/mnt/hgfs/PCod-Compare-repo/scripts/PostStacksFilter_rSNP\n"
     ]
    }
   ],
   "source": [
    "cd ../scripts/PostStacksFilter_rSNP/"
   ]
  },
  {
   "cell_type": "code",
   "execution_count": 2,
   "metadata": {
    "collapsed": true
   },
   "outputs": [],
   "source": [
    "!python transpose.py ../../stacks_b8_wgenome_r05/batch_8_filteredMAF_filteredLoci30_filteredIndivids.txt \\\n",
    "../../stacks_b8_wgenome_r05/batch_8_filteredMAF_filteredLoci30_filteredIndivids_transposed.txt"
   ]
  },
  {
   "cell_type": "code",
   "execution_count": 3,
   "metadata": {},
   "outputs": [
    {
     "name": "stdout",
     "output_type": "stream",
     "text": [
      "usage: csv_conversion_forGENEPOP.py [-h] [-f INPUT] [-o OUTPUT] [-m POPMAP]\r\n",
      "                                    [-pm PATH_POPMAP] [-ps PATH_STACKS]\r\n",
      "                                    [-t TITLE] [-split SPLIT_BY]\r\n",
      "\r\n",
      "convert matrix file (samples as column headers) to a genepop file.\r\n",
      "\r\n",
      "optional arguments:\r\n",
      "  -h, --help            show this help message and exit\r\n",
      "  -f INPUT, --input INPUT\r\n",
      "                        2 x 2 matrix file with samples as column headers, one\r\n",
      "                        row per locus.\r\n",
      "  -o OUTPUT, --output OUTPUT\r\n",
      "                        output file in genepop format\r\n",
      "  -m POPMAP, --popmap POPMAP\r\n",
      "                        population map file\r\n",
      "  -pm PATH_POPMAP, --path_popmap PATH_POPMAP\r\n",
      "                        path to population map file\r\n",
      "  -ps PATH_STACKS, --path_stacks PATH_STACKS\r\n",
      "                        path to stacks files, including input file\r\n",
      "  -t TITLE, --title TITLE\r\n",
      "                        title for your genepop file\r\n",
      "  -split SPLIT_BY, --split_by SPLIT_BY\r\n",
      "                        split contents of each line by... ['tab' / 'space']\r\n"
     ]
    }
   ],
   "source": [
    "!python csv_conversion_forGENEPOP.py -h"
   ]
  },
  {
   "cell_type": "code",
   "execution_count": 4,
   "metadata": {},
   "outputs": [
    {
     "name": "stdout",
     "output_type": "stream",
     "text": [
      "You have 17 populations.\n",
      "These are your populations, with the number of samples in each:\n",
      "OrderedDict([('Pohang15', 34), ('Geoje15', 37), ('Namhae15', 19), ('YellowSea16', 30), ('Jukbyeon07', 37), ('JinhaeBay07', 46), ('JinhaeBay08', 47), ('Boryeong07', 24), ('Geoje14', 35), ('Kodiak03', 46), ('Adak06', 44), ('WashCoast05', 48), ('HecStrait04', 48), ('SalishSea12_13', 42), ('JuandeFuca12', 23), ('PWSound12', 48), ('UnimakPass03', 47)])\n",
      "creating script for part 2...\n",
      "calling script for part 2...\n",
      "transposing genotypes matrix...\n",
      "writing loci into genepop file...\n",
      "writing genotypes into genepop file by population...\n",
      "done.\n"
     ]
    }
   ],
   "source": [
    "!python csv_conversion_forGENEPOP.py \\\n",
    "-f batch_8_filteredMAF_filteredLoci30_filteredIndivids_transposed.txt \\\n",
    "-o batch_8_filteredMAF_filteredLoci30_filteredIndivids_genepop.txt \\\n",
    "-m PopMap_combo_b8_filterIndivids.txt \\\n",
    "-pm ../ \\\n",
    "-ps ../../stacks_b8_wgenome_r05 \\\n",
    "-t \"Korea + Alaska Data, stacks batch 8, m3 uncorrected, filtered (w/o HWE filtering)\" \\\n",
    "-s \"space\""
   ]
  },
  {
   "cell_type": "markdown",
   "metadata": {},
   "source": [
    "### Run genepop\n",
    "\n",
    "`option 1 >> suboption 3`"
   ]
  },
  {
   "cell_type": "code",
   "execution_count": 5,
   "metadata": {},
   "outputs": [
    {
     "name": "stdout",
     "output_type": "stream",
     "text": [
      "/mnt/hgfs/PCod-Compare-repo\n"
     ]
    }
   ],
   "source": [
    "cd ../../"
   ]
  },
  {
   "cell_type": "code",
   "execution_count": 7,
   "metadata": {},
   "outputs": [
    {
     "name": "stdout",
     "output_type": "stream",
     "text": [
      "/mnt/hgfs/PCod-Compare-repo/analyses\n"
     ]
    }
   ],
   "source": [
    "cd analyses"
   ]
  },
  {
   "cell_type": "code",
   "execution_count": 8,
   "metadata": {},
   "outputs": [
    {
     "name": "stdout",
     "output_type": "stream",
     "text": [
      "/mnt/hgfs/PCod-Compare-repo/analyses/genepop_HWE\n"
     ]
    }
   ],
   "source": [
    "cd genepop_HWE"
   ]
  },
  {
   "cell_type": "markdown",
   "metadata": {},
   "source": [
    "### Parse genepop"
   ]
  },
  {
   "cell_type": "code",
   "execution_count": 9,
   "metadata": {},
   "outputs": [
    {
     "name": "stdout",
     "output_type": "stream",
     "text": [
      "usage: parse_genepop_HWEbylocus.py [-h] [-p P] [-op OUTPUTPVAL]\r\n",
      "                                   [-of OUTPUTFIS]\r\n",
      "\r\n",
      "optional arguments:\r\n",
      "  -h, --help            show this help message and exit\r\n",
      "  -p P, --P P           path & name of .P file output from genepop\r\n",
      "  -op OUTPUTPVAL, --OUTPUTpval OUTPUTPVAL\r\n",
      "                        path & name of the output file for the parsed HWE\r\n",
      "                        pvalues\r\n",
      "  -of OUTPUTFIS, --OUTPUTfis OUTPUTFIS\r\n",
      "                        path & name of the output file for the parsed Fis\r\n",
      "                        values\r\n"
     ]
    }
   ],
   "source": [
    "!python parse_genepop_HWEbylocus.py -h"
   ]
  },
  {
   "cell_type": "code",
   "execution_count": 10,
   "metadata": {},
   "outputs": [
    {
     "name": "stdout",
     "output_type": "stream",
     "text": [
      "generating dictionaries of pvalues and fis values...\n",
      "writing output to files...\n",
      "done.\n"
     ]
    }
   ],
   "source": [
    "!python parse_genepop_HWEbylocus.py \\\n",
    "-p batch_8_filteredMAF_filteredLoci30_filteredIndivids_genepop.txt.P \\\n",
    "-op batch_8_parsed_HWEpvals.txt \\\n",
    "-of batch_8_parsed_FISpvals.txt"
   ]
  },
  {
   "cell_type": "code",
   "execution_count": 11,
   "metadata": {
    "collapsed": true
   },
   "outputs": [],
   "source": [
    "infile = open(\"batch_8_parsed_HWEpvals.txt\", \"r\")\n",
    "\n",
    "percents = []\n",
    "loci_list = []\n",
    "na_count = 0\n",
    "\n",
    "for line in infile:\n",
    "    if \"locus\" not in line:\n",
    "        if line.strip().split()[10] != \"NA\":\n",
    "            new_percent = float(line.strip().split()[18])\n",
    "            percents.append(new_percent)\n",
    "            loci_list.append(line.strip().split()[0])\n",
    "        else:\n",
    "            na_count += 1\n",
    "\n",
    "infile.close()"
   ]
  },
  {
   "cell_type": "code",
   "execution_count": 12,
   "metadata": {},
   "outputs": [
    {
     "data": {
      "image/png": "[encoded data removed]",
      "text/plain": [
       "<matplotlib.figure.Figure at 0x7fa3d451d2d0>"
      ]
     },
     "metadata": {},
     "output_type": "display_data"
    }
   ],
   "source": [
    "import numpy as np\n",
    "import matplotlib.pyplot as plt\n",
    "\n",
    "plt.hist(percents, bins = np.arange(-0.1, 1, .0625)+0.05, color = \"darkcyan\")\n",
    "plt.suptitle(\"Distribution of % of populations out of HWE\")\n",
    "plt.xlabel(\"% of populations out of HWE (by locus)\")\n",
    "plt.ylabel(\"# Loci\")\n",
    "plt.show()"
   ]
  },
  {
   "cell_type": "code",
   "execution_count": 13,
   "metadata": {
    "collapsed": true
   },
   "outputs": [],
   "source": [
    "plt.close()"
   ]
  },
  {
   "cell_type": "markdown",
   "metadata": {},
   "source": [
    "<br>\n",
    "\n",
    "### Use multiple testing technique to generate chi-square value for each locus"
   ]
  },
  {
   "cell_type": "code",
   "execution_count": 14,
   "metadata": {
    "collapsed": true
   },
   "outputs": [],
   "source": [
    "from scipy.stats import chisqprob\n",
    "import numpy as np"
   ]
  },
  {
   "cell_type": "code",
   "execution_count": 15,
   "metadata": {},
   "outputs": [
    {
     "name": "stderr",
     "output_type": "stream",
     "text": [
      "/home/mfisher5/anaconda2/lib/python2.7/site-packages/ipykernel_launcher.py:30: DeprecationWarning: `chisqprob` is deprecated!\n",
      "stats.chisqprob is deprecated in scipy 0.17.0; use stats.distributions.chi2.sf instead.\n"
     ]
    },
    {
     "name": "stdout",
     "output_type": "stream",
     "text": [
      "You have  1057  loci out of HWE.\n"
     ]
    }
   ],
   "source": [
    "## STEP ONE: conduct chisquare and determine loci out of HWE. \n",
    "## write results to a file and save a list of the loci out of HWE. \n",
    "\n",
    "infile = open(\"batch_8_parsed_HWEpvals.txt\", \"r\")\n",
    "outfile = open(\"batch_8_parsed_HWEchisquare.txt\", \"w\")\n",
    "\n",
    "outfile.write(\"locus\\tChiSquare\\tdf\\tpvalue\\n\")\n",
    "\n",
    "sig_count = 0\n",
    "loci_to_discard = []\n",
    "\n",
    "for line in infile:\n",
    "    if \"locus\" not in line:\n",
    "        linelist= line.strip().split()\n",
    "        outfile.write(linelist[0]) #write locus name to outfile\n",
    "        sum = 0 #sum of ln(pvals)\n",
    "        n_pops = 0 # number of pops with pvals (some will have NAs)\n",
    "        for i in range(1,17):\n",
    "            if linelist[i] != \"NA\" and float(linelist[i]) == 0.0:\n",
    "                newval = np.log(float(0.00000000001))\n",
    "                sum += newval\n",
    "                n_pops += 1\n",
    "            elif linelist[i] != \"NA\" and float(linelist[i]) != 0.0:\n",
    "                newval = np.log(float(linelist[i]))\n",
    "                sum += newval\n",
    "                n_pops += 1\n",
    "        chisquare = float(-2) * float(sum)\n",
    "        df = n_pops * 2\n",
    "        outfile.write(\"\\t\" + str(chisquare) + \"\\t\" + str(df))\n",
    "        pvalue = chisqprob(chisquare,df)\n",
    "        if pvalue < 0.05:\n",
    "            sig_count += 1\n",
    "            loci_to_discard.append(linelist[0])\n",
    "        outfile.write(\"\\t\" + str(pvalue) + \"\\n\")\n",
    "infile.close()\n",
    "outfile.close()\n",
    "\n",
    "print \"You have \", sig_count, \" loci out of HWE.\""
   ]
  },
  {
   "cell_type": "code",
   "execution_count": 16,
   "metadata": {},
   "outputs": [
    {
     "name": "stdout",
     "output_type": "stream",
     "text": [
      "5682  loci written to output file.\n"
     ]
    }
   ],
   "source": [
    "## STEP TWO: rewrite the file of HWEpvals by locus by population, \n",
    "## excluding those loci out of HWE. \n",
    "\n",
    "infile = open(\"batch_8_parsed_HWEpvals.txt\", \"r\")\n",
    "outfile = open(\"batch_8_HWEpvals_filtered.txt\", \"w\")\n",
    "\n",
    "locus_count = 0\n",
    "\n",
    "for line in infile:\n",
    "    if line.startswith(\"#\"):\n",
    "        outfile.write(\"# parsed GENEPOP output, HWE p-values by locus by population FILTERED #\\n\")\n",
    "    elif line.startswith(\"locus\"):\n",
    "        outfile.write(line)\n",
    "    else:\n",
    "        locus = line.strip().split()[0]\n",
    "        if locus not in loci_to_discard:\n",
    "            outfile.write(line)\n",
    "            locus_count += 1\n",
    "infile.close()\n",
    "outfile.close()\n",
    "print locus_count, \" loci written to output file.\""
   ]
  },
  {
   "cell_type": "markdown",
   "metadata": {},
   "source": [
    "<br>\n",
    "### filter file"
   ]
  },
  {
   "cell_type": "code",
   "execution_count": 17,
   "metadata": {},
   "outputs": [
    {
     "data": {
      "text/plain": [
       "u'/mnt/hgfs/PCod-Compare-repo/analyses/genepop_HWE'"
      ]
     },
     "execution_count": 17,
     "metadata": {},
     "output_type": "execute_result"
    }
   ],
   "source": [
    "pwd"
   ]
  },
  {
   "cell_type": "code",
   "execution_count": 18,
   "metadata": {},
   "outputs": [
    {
     "name": "stdout",
     "output_type": "stream",
     "text": [
      "/mnt/hgfs/PCod-Compare-repo\n"
     ]
    }
   ],
   "source": [
    "cd ../../"
   ]
  },
  {
   "cell_type": "code",
   "execution_count": 19,
   "metadata": {
    "scrolled": true
   },
   "outputs": [
    {
     "name": "stdout",
     "output_type": "stream",
     "text": [
      "Preparing to copy  5682  loci from old file\n",
      "\n",
      "Wrote  5682  loci to new matrix file.\n",
      "Removed  1057  loci.\n",
      "All loci to keep were copied.\n"
     ]
    }
   ],
   "source": [
    "old = open(\"stacks_b8_wgenome_r05/batch_8_filteredMAF_filteredLoci30_filteredIndivids.txt\", \"r\")\n",
    "locifile = open(\"analyses/genepop_HWE/batch_8_HWEpvals_filtered.txt\", \"r\")\n",
    "new = open(\"stacks_b8_wgenome_r05/batch_8_filteredMAF_filteredLoci30_filteredIndivids_filteredHWE.txt\", \"w\")\n",
    "blacklisted = open(\"stacks_b8_wgenome_r05/batch_8_filteredMAF_filteredLoci30_filteredIndivids_filteredHWE_BAD.txt\", \"w\")\n",
    "\n",
    "## Note that my matrix file here has loci as column header, so I need to transpose it!\n",
    "data_matrix = []\n",
    "for line in old:\n",
    "\ttmp_line = ''\n",
    "\ttmp_line += line.strip()\n",
    "\tdata_matrix.append(tmp_line.split(' '))\n",
    "old.close()\n",
    "\n",
    "transposed = zip(*data_matrix)\n",
    "\n",
    "#write sample names to new file\n",
    "new.write(\"\\t\".join(transposed[0]) + \"\\n\")\n",
    "blacklisted.write(\"\\t\".join(transposed[0]) + \"\\n\")\n",
    "\n",
    "#get list of loci that should be retained\n",
    "loci_to_keep = []\n",
    "\n",
    "for line in locifile: \n",
    "    if \"locus\" not in line:\n",
    "        loci_to_keep.append(line.strip().split()[0]) \n",
    "locifile.close()\n",
    "\n",
    "print \"Preparing to copy \", len(loci_to_keep), \" loci from old file\"\n",
    "print \"\"\n",
    "\n",
    "\n",
    "cp_count = 0\n",
    "rm_count = 0\n",
    "loci_kept = []\n",
    "\n",
    "for line in transposed[1:]: \n",
    "    locusID = line[0]\n",
    "    if locusID in loci_to_keep:\n",
    "        new.write(\"\\t\".join(line) + \"\\n\")\n",
    "        cp_count += 1\n",
    "        loci_kept.append(locusID)\n",
    "    else:\n",
    "        blacklisted.write(\"\\t\".join(line) + \"\\n\")\n",
    "        rm_count += 1\n",
    "new.close()\n",
    "blacklisted.close()\n",
    "\n",
    "print \"Wrote \", cp_count, \" loci to new matrix file.\"\n",
    "print \"Removed \", rm_count, \" loci.\"\n",
    "\n",
    "if len([i for i in loci_to_keep if i in loci_kept]) == len(loci_to_keep):\n",
    "    print \"All loci to keep were copied.\"\n",
    "else:\n",
    "    print \"uhoh! not all loci to keep were copied.\"\n",
    "    print \"the following loci were not copied over:\"\n",
    "    print [i for i in loci_to_keep if i not in loci_kept]"
   ]
  },
  {
   "cell_type": "code",
   "execution_count": 20,
   "metadata": {},
   "outputs": [
    {
     "data": {
      "text/plain": [
       "4625"
      ]
     },
     "execution_count": 20,
     "metadata": {},
     "output_type": "execute_result"
    }
   ],
   "source": [
    "5682-1057"
   ]
  },
  {
   "cell_type": "markdown",
   "metadata": {},
   "source": [
    "<br>\n",
    "\n",
    "### new distribution"
   ]
  },
  {
   "cell_type": "code",
   "execution_count": 21,
   "metadata": {},
   "outputs": [
    {
     "name": "stdout",
     "output_type": "stream",
     "text": [
      "/mnt/hgfs/PCod-Compare-repo/analyses/genepop_HWE\n"
     ]
    }
   ],
   "source": [
    "cd analyses/genepop_HWE"
   ]
  },
  {
   "cell_type": "code",
   "execution_count": 22,
   "metadata": {
    "collapsed": true
   },
   "outputs": [],
   "source": [
    "infile = open(\"batch_8_HWEpvals_filtered.txt\", \"r\")\n",
    "\n",
    "percents = []\n",
    "loci_list = []\n",
    "\n",
    "for line in infile:\n",
    "    if \"locus\" not in line and \"#\" not in line:\n",
    "        num = line.strip().split()[18]\n",
    "        if num != \"NA\":\n",
    "            new_percent = float(num)\n",
    "            percents.append(new_percent)\n",
    "            loci_list.append(line.strip().split()[0])\n",
    "\n",
    "infile.close()"
   ]
  },
  {
   "cell_type": "code",
   "execution_count": 23,
   "metadata": {},
   "outputs": [
    {
     "data": {
      "image/png": "[encoded data removed]",
      "text/plain": [
       "<matplotlib.figure.Figure at 0x7fa3ac39f110>"
      ]
     },
     "metadata": {},
     "output_type": "display_data"
    }
   ],
   "source": [
    "plt.hist(percents, bins = np.arange(-0.1, 1.1, .05)+0.05, color = \"darkcyan\")\n",
    "plt.suptitle(\"POST HWE FILTER: Distribution of % of populations out of HWE\")\n",
    "plt.xlabel(\"% of populations out of HWE (by locus)\")\n",
    "plt.ylabel(\"# Loci\")\n",
    "plt.show()"
   ]
  },
  {
   "cell_type": "code",
   "execution_count": 24,
   "metadata": {
    "collapsed": true
   },
   "outputs": [],
   "source": [
    "plt.close()"
   ]
  },
  {
   "cell_type": "markdown",
   "metadata": {},
   "source": [
    "<br>\n",
    "<br>\n",
    "### convert matrix to genepop file"
   ]
  },
  {
   "cell_type": "code",
   "execution_count": 25,
   "metadata": {},
   "outputs": [
    {
     "data": {
      "text/plain": [
       "u'/mnt/hgfs/PCod-Compare-repo/analyses/genepop_HWE'"
      ]
     },
     "execution_count": 25,
     "metadata": {},
     "output_type": "execute_result"
    }
   ],
   "source": [
    "pwd"
   ]
  },
  {
   "cell_type": "code",
   "execution_count": 26,
   "metadata": {},
   "outputs": [
    {
     "name": "stdout",
     "output_type": "stream",
     "text": [
      "/mnt/hgfs/PCod-Compare-repo/scripts/PostStacksFilter_rSNP\n"
     ]
    }
   ],
   "source": [
    "cd ../../scripts/PostStacksFilter_rSNP/"
   ]
  },
  {
   "cell_type": "code",
   "execution_count": 27,
   "metadata": {},
   "outputs": [
    {
     "name": "stdout",
     "output_type": "stream",
     "text": [
      "usage: csv_conversion_forGENEPOP.py [-h] [-f INPUT] [-o OUTPUT] [-m POPMAP]\r\n",
      "                                    [-pm PATH_POPMAP] [-ps PATH_STACKS]\r\n",
      "                                    [-t TITLE] [-split SPLIT_BY]\r\n",
      "\r\n",
      "convert matrix file (samples as column headers) to a genepop file.\r\n",
      "\r\n",
      "optional arguments:\r\n",
      "  -h, --help            show this help message and exit\r\n",
      "  -f INPUT, --input INPUT\r\n",
      "                        2 x 2 matrix file with samples as column headers, one\r\n",
      "                        row per locus.\r\n",
      "  -o OUTPUT, --output OUTPUT\r\n",
      "                        output file in genepop format\r\n",
      "  -m POPMAP, --popmap POPMAP\r\n",
      "                        population map file\r\n",
      "  -pm PATH_POPMAP, --path_popmap PATH_POPMAP\r\n",
      "                        path to population map file\r\n",
      "  -ps PATH_STACKS, --path_stacks PATH_STACKS\r\n",
      "                        path to stacks files, including input file\r\n",
      "  -t TITLE, --title TITLE\r\n",
      "                        title for your genepop file\r\n",
      "  -split SPLIT_BY, --split_by SPLIT_BY\r\n",
      "                        split contents of each line by... ['tab' / 'space']\r\n"
     ]
    }
   ],
   "source": [
    "!python csv_conversion_forGENEPOP.py -h"
   ]
  },
  {
   "cell_type": "code",
   "execution_count": 28,
   "metadata": {},
   "outputs": [
    {
     "name": "stdout",
     "output_type": "stream",
     "text": [
      "You have 17 populations.\n",
      "These are your populations, with the number of samples in each:\n",
      "OrderedDict([('Pohang15', 34), ('Geoje15', 37), ('Namhae15', 19), ('YellowSea16', 30), ('Jukbyeon07', 37), ('JinhaeBay07', 46), ('JinhaeBay08', 47), ('Boryeong07', 24), ('Geoje14', 35), ('Kodiak03', 46), ('Adak06', 44), ('WashCoast05', 48), ('HecStrait04', 48), ('SalishSea12_13', 42), ('JuandeFuca12', 23), ('PWSound12', 48), ('UnimakPass03', 47)])\n",
      "creating script for part 2...\n",
      "calling script for part 2...\n",
      "transposing genotypes matrix...\n",
      "writing loci into genepop file...\n",
      "writing genotypes into genepop file by population...\n",
      "done.\n"
     ]
    }
   ],
   "source": [
    "!python csv_conversion_forGENEPOP.py \\\n",
    "-f batch_8_filteredMAF_filteredLoci30_filteredIndivids_filteredHWE.txt \\\n",
    "-o batch_8_filteredMAF_filteredLoci30_filteredIndivids_filteredHWE_genepop.txt \\\n",
    "-m PopMap_combo_b8_filterIndivids.txt \\\n",
    "-pm ../ \\\n",
    "-ps ../../stacks_b8_wgenome_r05 \\\n",
    "-t \"Korea + Alaska Data Final Genepop, stacks batch 8, uncorrected m3 filtered (MAF / Loci / Individs / HWE)\" \\\n",
    "-s \"tab\""
   ]
  },
  {
   "cell_type": "markdown",
   "metadata": {},
   "source": [
    "<br>\n",
    "\n",
    "### FINAL GENEPOP FILE:\n",
    "### batch_8_filteredMAF_filteredLoci30_filteredIndivids_filteredHWE_genepop.txt\n",
    "#### 4625  loci\n"
   ]
  },
  {
   "cell_type": "code",
   "execution_count": null,
   "metadata": {
    "collapsed": true
   },
   "outputs": [],
   "source": []
  }
 ],
 "metadata": {
  "kernelspec": {
   "display_name": "Python 2",
   "language": "python",
   "name": "python2"
  },
  "language_info": {
   "codemirror_mode": {
    "name": "ipython",
    "version": 2
   },
   "file_extension": ".py",
   "mimetype": "text/x-python",
   "name": "python",
   "nbconvert_exporter": "python",
   "pygments_lexer": "ipython2",
   "version": "2.7.13"
  }
 },
 "nbformat": 4,
 "nbformat_minor": 2
}
