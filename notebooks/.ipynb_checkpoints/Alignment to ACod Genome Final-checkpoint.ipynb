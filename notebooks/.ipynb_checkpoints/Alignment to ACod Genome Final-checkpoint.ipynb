{
 "cells": [
  {
   "cell_type": "markdown",
   "metadata": {},
   "source": [
    "## Alignment of RAD loci to Atlantic cod Genome\n",
    "\n",
    "#### Stacks batch 8 final\n",
    "<br>\n",
    "\n",
    "**Genome:** gadMor2 (see [gadMor2 notebook](https://github.com/mfisher5/PCod-Compare-repo/blob/master/notebooks/gadMor2%20Genome.ipynb))\n",
    "\n",
    "**Software:** bowtie2, samtools v1.6, stacks v1.44, python 2.7\n",
    "\n",
    "**Steps:**\n",
    "\n",
    "1. Create fasta file using the final genepop for each batch + reference catalog of loci from cstacks\n",
    "2. Create a database that only includes full linkage groups from gadMor2\n",
    "3. Align fasta files to database\n",
    "4. Filter alignments by mapping quality (cutoff MQ > 10)\n",
    "5. Make new genepop of only aligned loci\n",
    "\n",
    "\n",
    "<br>\n",
    "<br>\n",
    "\n",
    "#### 3/14/2018\n",
    "\n",
    "### 1. Make Fasta File from Genepop, Catalog"
   ]
  },
  {
   "cell_type": "code",
   "execution_count": 1,
   "metadata": {},
   "outputs": [
    {
     "name": "stdout",
     "output_type": "stream",
     "text": [
      "/mnt/hgfs/PCod-Compare-repo/scripts\n"
     ]
    }
   ],
   "source": [
    "cd ../scripts"
   ]
  },
  {
   "cell_type": "code",
   "execution_count": 3,
   "metadata": {},
   "outputs": [
    {
     "name": "stdout",
     "output_type": "stream",
     "text": [
      "usage: genBOWTIEfasta_from_genepop.py [-h] [-i INPUT] [-o OUTPUT] [-c CATALOG]\r\n",
      "                                      [-s GEN_SEP] [-p PATH]\r\n",
      "\r\n",
      "create fasta file out of a 2x2 matrix with loci as column headers, individuals\r\n",
      "as rows\r\n",
      "\r\n",
      "optional arguments:\r\n",
      "  -h, --help            show this help message and exit\r\n",
      "  -i INPUT, --input INPUT\r\n",
      "                        input, filtered genepop file.\r\n",
      "  -o OUTPUT, --output OUTPUT\r\n",
      "                        output file, in fasta format\r\n",
      "  -c CATALOG, --catalog CATALOG\r\n",
      "                        stacks batch.catalog.tags.tsv file\r\n",
      "  -s GEN_SEP, --gen_sep GEN_SEP\r\n",
      "                        how are loci in the genepop file separated?\r\n",
      "                        [comma/newline]\r\n",
      "  -p PATH, --path PATH  path to stacks files, including matrix and catalog\r\n",
      "                        input files\r\n"
     ]
    }
   ],
   "source": [
    "!python genBOWTIEfasta_from_genepop.py -h"
   ]
  },
  {
   "cell_type": "code",
   "execution_count": 6,
   "metadata": {},
   "outputs": [
    {
     "name": "stdout",
     "output_type": "stream",
     "text": [
      "Reading loci from genepop:\n",
      "batch_8_filteredMAF_filteredIndivids30_filteredLoci30_filteredHWE_filteredCR_genepop.txt\n",
      "--\n",
      "Discovered  5683  loci in matrix file.\n",
      "--\n",
      "Reading sequences from file:\n",
      "batch_8.catalog.tags.tsv\n",
      "Writing new fasta file...\n",
      "Done.\n"
     ]
    }
   ],
   "source": [
    "!python genBOWTIEfasta_from_genepop.py \\\n",
    "-i batch_8_filteredMAF_filteredIndivids30_filteredLoci30_filteredHWE_filteredCR_genepop.txt \\\n",
    "-o batch_8_final_filtered_seqs.fasta \\\n",
    "-c batch_8.catalog.tags.tsv \\\n",
    "-s newline \\\n",
    "-p ../stacks_b8_wgenome_r05"
   ]
  },
  {
   "cell_type": "code",
   "execution_count": 7,
   "metadata": {},
   "outputs": [
    {
     "name": "stdout",
     "output_type": "stream",
     "text": [
      ">3\r\n",
      "TGCAGGACCCCCAGACATCCAGTGTTGTACTGGAGTATTTCAGGAGATCAGATGCTCGCACTCTAAGCCAACTAATGTCGACCCCTATGGCC\r\n",
      ">5\r\n",
      "TGCAGGCGTGCTCTCTCCTTCCCTCTTGGTCTTGGCACTGACCAGTCTCTCGTTGATGACCTTCACCTTCTCCGTGGCCTCCGCCAGCTTAA\r\n",
      ">6\r\n",
      "TGCAGGACTAAAAATCCACCAGGCCTGTGGAGTTCAGACGATAGAAAAAGACTTTCCACTGTGGCCACCGTCCTGCTTCACTGTTGGCTTGG\r\n",
      ">11\r\n",
      "TGCAGGAGGGAGGGTCTGTGCACACGTGGGGAAACATGTGACGCGTGTTTATGAGCATGCAGAGCTGATGGATGGATGGATCTGGGCTCAGC\r\n",
      ">16\r\n",
      "TGCAGGACAGAGCCCCATCTAAGCATATTCCTCGTTTTAAATAGTCTCCTCACCCTGTCATGCACTCCCCCCTTTGCTCTCAGGGGATTATT\r\n"
     ]
    }
   ],
   "source": [
    "!head ../stacks_b8_wgenome_r05/batch_8_final_filtered_seqs.fasta"
   ]
  },
  {
   "cell_type": "markdown",
   "metadata": {},
   "source": [
    "I wanted to make sure that I could delineate my locus names in the bowtie2 output files; to do so, I manually added \"Locus\" onto each locus number."
   ]
  },
  {
   "cell_type": "code",
   "execution_count": 8,
   "metadata": {},
   "outputs": [
    {
     "name": "stdout",
     "output_type": "stream",
     "text": [
      ">Locus3\r\n",
      "TGCAGGACCCCCAGACATCCAGTGTTGTACTGGAGTATTTCAGGAGATCAGATGCTCGCACTCTAAGCCAACTAATGTCGACCCCTATGGCC\r\n",
      ">Locus5\r\n",
      "TGCAGGCGTGCTCTCTCCTTCCCTCTTGGTCTTGGCACTGACCAGTCTCTCGTTGATGACCTTCACCTTCTCCGTGGCCTCCGCCAGCTTAA\r\n",
      ">Locus6\r\n",
      "TGCAGGACTAAAAATCCACCAGGCCTGTGGAGTTCAGACGATAGAAAAAGACTTTCCACTGTGGCCACCGTCCTGCTTCACTGTTGGCTTGG\r\n",
      ">Locus11\r\n",
      "TGCAGGAGGGAGGGTCTGTGCACACGTGGGGAAACATGTGACGCGTGTTTATGAGCATGCAGAGCTGATGGATGGATGGATCTGGGCTCAGC\r\n",
      ">Locus16\r\n",
      "TGCAGGACAGAGCCCCATCTAAGCATATTCCTCGTTTTAAATAGTCTCCTCACCCTGTCATGCACTCCCCCCTTTGCTCTCAGGGGATTATT\r\n"
     ]
    }
   ],
   "source": [
    "!head ../stacks_b8_wgenome_r05/batch_8_final_filtered_seqs.fasta"
   ]
  },
  {
   "cell_type": "markdown",
   "metadata": {},
   "source": [
    "<br>\n",
    "### 2. build bowtie2 database for gadMor2\n",
    "\n",
    "\n",
    "I actually already did this! See [Batches 4 and 8 Alignment notebook](https://github.com/mfisher5/PCod-Compare-repo/blob/master/notebooks/Align%20to%20ACod%20Genome%20-%20Batches%204%20and%208.ipynb)\n",
    "\n",
    "\n",
    "\n",
    "<br>\n",
    "<br>\n",
    "### 3. Align fasta to gadMor2"
   ]
  },
  {
   "cell_type": "code",
   "execution_count": 9,
   "metadata": {},
   "outputs": [
    {
     "data": {
      "text/plain": [
       "u'/mnt/hgfs/PCod-Compare-repo/scripts'"
      ]
     },
     "execution_count": 9,
     "metadata": {},
     "output_type": "execute_result"
    }
   ],
   "source": [
    "pwd"
   ]
  },
  {
   "cell_type": "code",
   "execution_count": 10,
   "metadata": {},
   "outputs": [
    {
     "name": "stdout",
     "output_type": "stream",
     "text": [
      "/mnt/hgfs/PCod-Compare-repo\n"
     ]
    }
   ],
   "source": [
    "cd ../"
   ]
  },
  {
   "cell_type": "code",
   "execution_count": 11,
   "metadata": {},
   "outputs": [
    {
     "name": "stdout",
     "output_type": "stream",
     "text": [
      "5683 reads; of these:\r\n",
      "  5683 (100.00%) were unpaired; of these:\r\n",
      "    588 (10.35%) aligned 0 times\r\n",
      "    4699 (82.69%) aligned exactly 1 time\r\n",
      "    396 (6.97%) aligned >1 times\r\n",
      "89.65% overall alignment rate\r\n"
     ]
    }
   ],
   "source": [
    "!bowtie2 -f \\\n",
    "-x ACod_reference/gadMor2_LG \\\n",
    "-U stacks_b8_wgenome_r05/batch_8_final_filtered_seqs.fasta \\\n",
    "-S analyses/alignment/batch_8_final_filtered_gadMor2LG.sam"
   ]
  },
  {
   "cell_type": "markdown",
   "metadata": {},
   "source": [
    "**Total Aligned Loci:** 5095\n",
    "<br>\n",
    "**Proportion Aligned Loci:** 0.8965"
   ]
  },
  {
   "cell_type": "markdown",
   "metadata": {},
   "source": [
    "<br>\n",
    "### 4. Filter for Mapping Quality > 10\n",
    "\n",
    "**Plot MQ Distribution**"
   ]
  },
  {
   "cell_type": "code",
   "execution_count": 16,
   "metadata": {},
   "outputs": [
    {
     "name": "stdout",
     "output_type": "stream",
     "text": [
      "/mnt/hgfs/PCod-Compare-repo/analyses/alignment\n"
     ]
    }
   ],
   "source": [
    "cd analyses/alignment"
   ]
  },
  {
   "cell_type": "code",
   "execution_count": 17,
   "metadata": {
    "collapsed": true
   },
   "outputs": [],
   "source": [
    "infile = open(\"batch_8_final_filtered_gadMor2LG.sam\", \"r\")\n",
    "line = infile.readline()\n",
    "while line.startswith(\"@\"):\n",
    "    line = infile.readline()\n",
    "    \n",
    "map_scores = []\n",
    "for line in infile:\n",
    "    score = line.strip().split()[4]\n",
    "    map_scores.append(int(score))\n",
    "infile.close()"
   ]
  },
  {
   "cell_type": "code",
   "execution_count": 18,
   "metadata": {},
   "outputs": [
    {
     "data": {
      "image/png": "[encoded data removed]",
      "text/plain": [
       "<matplotlib.figure.Figure at 0x7f5ba8d1fb90>"
      ]
     },
     "metadata": {},
     "output_type": "display_data"
    }
   ],
   "source": [
    "import matplotlib.pyplot as plt\n",
    "import numpy as np\n",
    "plt.hist(map_scores)\n",
    "plt.suptitle(\"Final ACod Alignment Scores (Bowtie2)\")\n",
    "plt.xlabel(\"Mapping Quality Score\")\n",
    "plt.ylabel(\"# Alignments\")\n",
    "plt.show()"
   ]
  },
  {
   "cell_type": "code",
   "execution_count": 19,
   "metadata": {
    "collapsed": true
   },
   "outputs": [],
   "source": [
    "plt.close()"
   ]
  },
  {
   "cell_type": "markdown",
   "metadata": {},
   "source": [
    "**Filter at Cutoff of 10**"
   ]
  },
  {
   "cell_type": "code",
   "execution_count": 20,
   "metadata": {
    "collapsed": true
   },
   "outputs": [],
   "source": [
    "!samtools view -Sq 10 batch_8_final_filtered_gadMor2LG.sam \\\n",
    ">> batch_8_final_filtered_gadMor2LG_filteredMQ.sam"
   ]
  },
  {
   "cell_type": "markdown",
   "metadata": {},
   "source": [
    "*Note that using samtools in this way removes the header from the file!*"
   ]
  },
  {
   "cell_type": "markdown",
   "metadata": {},
   "source": [
    "**Distribution of Retained Alignment Scores**\n",
    "**AND: did I retain loci that aligned more than twice?**"
   ]
  },
  {
   "cell_type": "code",
   "execution_count": 28,
   "metadata": {
    "collapsed": true
   },
   "outputs": [],
   "source": [
    "infile = open(\"batch_8_final_filtered_gadMor2LG_filteredMQ.sam\", \"r\")\n",
    "as_dict_8 = {}\n",
    "new_map_scores = []\n",
    "for line in infile:\n",
    "    new_as = line.strip().split()[11].split(\":\")[2]\n",
    "    locus = line.strip().split()[0]\n",
    "    score = line.strip().split()[4]\n",
    "    new_map_scores.append(int(score))\n",
    "    if locus not in as_dict_8.keys():\n",
    "        as_dict_8[locus] = new_as\n",
    "    else: \n",
    "        print \"Error! You have retained multiple alignments for locus: \" + locus\n",
    "infile.close()\n",
    "\n",
    "as_list_8 = [int(as_dict_8[i]) for i in as_dict_8.keys()]"
   ]
  },
  {
   "cell_type": "code",
   "execution_count": 29,
   "metadata": {},
   "outputs": [
    {
     "data": {
      "image/png": "[encoded data removed]",
      "text/plain": [
       "<matplotlib.figure.Figure at 0x7f5b9233e550>"
      ]
     },
     "metadata": {},
     "output_type": "display_data"
    }
   ],
   "source": [
    "plt.hist(as_list_8)\n",
    "plt.suptitle(\"Distribution of Alignment Scores\\nAfter MQ filtering - Batch 8\")\n",
    "plt.xlabel(\"Alignment Score\")\n",
    "plt.ylabel(\"# Loci\")\n",
    "plt.show()"
   ]
  },
  {
   "cell_type": "code",
   "execution_count": 30,
   "metadata": {
    "collapsed": true
   },
   "outputs": [],
   "source": [
    "plt.close()"
   ]
  },
  {
   "cell_type": "code",
   "execution_count": 33,
   "metadata": {},
   "outputs": [
    {
     "data": {
      "image/png": "[encoded data removed]",
      "text/plain": [
       "<matplotlib.figure.Figure at 0x7f5b921b30d0>"
      ]
     },
     "metadata": {},
     "output_type": "display_data"
    }
   ],
   "source": [
    "plt.hist(new_map_scores)\n",
    "plt.suptitle(\"Final Mapping Quality Scores\\nAfter MQ Filtering\")\n",
    "plt.xlabel(\"Mapping Quality Score\")\n",
    "plt.ylabel(\"# Alignments\")\n",
    "plt.show()"
   ]
  },
  {
   "cell_type": "code",
   "execution_count": 34,
   "metadata": {
    "collapsed": true
   },
   "outputs": [],
   "source": [
    "plt.close()"
   ]
  },
  {
   "cell_type": "markdown",
   "metadata": {},
   "source": [
    "How many loci do I have?"
   ]
  },
  {
   "cell_type": "code",
   "execution_count": 35,
   "metadata": {},
   "outputs": [
    {
     "name": "stdout",
     "output_type": "stream",
     "text": [
      "4286\n"
     ]
    }
   ],
   "source": [
    "print len(as_dict_8.keys())"
   ]
  },
  {
   "cell_type": "markdown",
   "metadata": {},
   "source": [
    "### Number of loci to Align: 4,286\n",
    "\n",
    "<br>\n",
    "### 5. Filter to new genepop\n",
    "\n",
    "First I need a list of the loci to keep:\n"
   ]
  },
  {
   "cell_type": "code",
   "execution_count": 1,
   "metadata": {},
   "outputs": [
    {
     "data": {
      "text/plain": [
       "u'/mnt/hgfs/PCod-Compare-repo/notebooks'"
      ]
     },
     "execution_count": 1,
     "metadata": {},
     "output_type": "execute_result"
    }
   ],
   "source": [
    "pwd"
   ]
  },
  {
   "cell_type": "code",
   "execution_count": 2,
   "metadata": {},
   "outputs": [
    {
     "name": "stdout",
     "output_type": "stream",
     "text": [
      "/mnt/hgfs/PCod-Compare-repo/analyses/alignment\n"
     ]
    }
   ],
   "source": [
    "cd ../analyses/alignment/"
   ]
  },
  {
   "cell_type": "code",
   "execution_count": 3,
   "metadata": {},
   "outputs": [
    {
     "name": "stdout",
     "output_type": "stream",
     "text": [
      "retrieving loci that aligned...\n",
      "You have  4286  aligned loci.\n",
      "Wrote output file with list of  4286  loci names.\n"
     ]
    }
   ],
   "source": [
    "##################### objects ###################\n",
    "samfile = \"batch_8_final_filtered_gadMor2LG_filteredMQ.sam\"\n",
    "genepop = \"../../stacks_b8_wgenome_r05/batch_8_filteredMAF_filteredIndivids30_filteredLoci30_filteredHWE_filteredCR_genepop.txt\"\n",
    "locusfile = \"batch_8_final_filtered_loci_aligned.txt\"\n",
    "##################################################\n",
    "\n",
    "# make a dictionary out of the loci in the genepop file to correlate locus with snp position\n",
    "gen = open(genepop, \"r\")\n",
    "loci_dict = {}\n",
    "header = True\n",
    "line = gen.readline()\n",
    "while 'Pop' not in line:\n",
    "    if header == True:\n",
    "        header = False\n",
    "        line=gen.readline()\n",
    "    else:\n",
    "        locus = line.strip().split(\"_\")[0]\n",
    "        snp = line.strip().split(\"_\")[1]\n",
    "        loci_dict[locus] = snp\n",
    "        line=gen.readline()\n",
    "gen.close()\n",
    "\n",
    "# make a list of loci that aligned\n",
    "print \"retrieving loci that aligned...\"\n",
    "infile = open(samfile, \"r\")\n",
    "loci_list = []\n",
    "line=infile.readline()\n",
    "while line:\n",
    "    locusname = line.strip().split()[0]\n",
    "    locus=locusname.strip(\"Locus\")\n",
    "    loci_list.append(locus)\n",
    "    line=infile.readline()\n",
    "infile.close()\n",
    "print \"You have \", len(loci_list), \" aligned loci.\"\n",
    "\n",
    "# join loci that aligned with their snp positions\n",
    "loci_snp_list = []\n",
    "for locus in loci_list:\n",
    "    snp = loci_dict[locus]\n",
    "    newlocus= locus + \"_\" + snp\n",
    "    loci_snp_list.append(newlocus)\n",
    "    \n",
    "# write those out to a new file\n",
    "outfile = open(locusfile, \"w\")\n",
    "for i in loci_snp_list:\n",
    "    outfile.write(i + \"\\n\")\n",
    "outfile.close() \n",
    "print \"Wrote output file with list of \", len(loci_snp_list), \" loci names.\"\n",
    "    "
   ]
  },
  {
   "cell_type": "markdown",
   "metadata": {},
   "source": [
    "I can then do the subsetting using an interactive script that Dan Drinan wrote:"
   ]
  },
  {
   "cell_type": "code",
   "execution_count": 6,
   "metadata": {},
   "outputs": [
    {
     "data": {
      "text/plain": [
       "u'/mnt/hgfs/PCod-Compare-repo/analyses/alignment'"
      ]
     },
     "execution_count": 6,
     "metadata": {},
     "output_type": "execute_result"
    }
   ],
   "source": [
    "pwd"
   ]
  },
  {
   "cell_type": "code",
   "execution_count": 7,
   "metadata": {},
   "outputs": [
    {
     "name": "stdout",
     "output_type": "stream",
     "text": [
      "/mnt/hgfs/PCod-Compare-repo/scripts\n"
     ]
    }
   ],
   "source": [
    "cd ../../scripts"
   ]
  },
  {
   "cell_type": "code",
   "execution_count": 8,
   "metadata": {},
   "outputs": [
    {
     "name": "stdout",
     "output_type": "stream",
     "text": [
      "\r",
      "\r\n",
      "\r",
      "\r\n",
      "\r",
      "\r\n",
      "\r",
      "\r\n",
      "\r",
      "\r\n",
      "\r",
      "\r\n",
      "################################################################################\r",
      "\r\n",
      "#   \r",
      "\r\n",
      "# subsetGenepop.py\r",
      "\r\n",
      "#\r",
      "\r\n",
      "# Daniel Drinan <ddrinan@uw.edu> 2016-12-06\r",
      "\r\n",
      "#\r",
      "\r\n",
      "# Script to subset loci from a GENEPOP file.\r",
      "\r\n",
      "# \r",
      "\r\n",
      "# Usage:\r",
      "\r\n",
      "# $> python subsetGenepop.py\r",
      "\r\n",
      "#\r",
      "\r\n",
      "################################################################################\r",
      "\r\n",
      "\r",
      "\r\n",
      "\r",
      "\r\n"
     ]
    }
   ],
   "source": [
    "!head -n 20 subsetGenepop.py"
   ]
  },
  {
   "cell_type": "markdown",
   "metadata": {},
   "source": [
    "I save my genepop with aligned loci as:\n",
    "\n",
    "### batch_8_final_filtered_aligned_genepop.txt\n",
    "\n",
    "The genepop is saved in both the `analyses/alignment` and `stacks_b8_wgenome_r05` folders."
   ]
  },
  {
   "cell_type": "code",
   "execution_count": null,
   "metadata": {
    "collapsed": true
   },
   "outputs": [],
   "source": []
  }
 ],
 "metadata": {
  "kernelspec": {
   "display_name": "Python 2",
   "language": "python",
   "name": "python2"
  },
  "language_info": {
   "codemirror_mode": {
    "name": "ipython",
    "version": 2
   },
   "file_extension": ".py",
   "mimetype": "text/x-python",
   "name": "python",
   "nbconvert_exporter": "python",
   "pygments_lexer": "ipython2",
   "version": "2.7.13"
  }
 },
 "nbformat": 4,
 "nbformat_minor": 2
}
