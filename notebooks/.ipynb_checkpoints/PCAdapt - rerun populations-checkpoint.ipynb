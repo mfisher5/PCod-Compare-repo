{
 "cells": [
  {
   "cell_type": "markdown",
   "metadata": {},
   "source": [
    "## PCAdapt - rerun populations\n",
    "\n",
    "\n",
    "I'd like to use PCAdapt to identify groups of loci whose allele frequencies are related to population structure in the eastern and western populations. However, PCAdapt requires a VCF file input, which I do not have. In order to produce one, I am going to rerun `populations` and output *both* a VCF file and a genepop file.\n",
    "\n",
    "Since I am interested in within-population differentiation, and the VM doesn't have enough memory to run all of my individuals together, I'll run `populations` separately for the eastern and the western population.\n",
    "\n",
    "To make the new populations runs comparable to the data that I already have, I used text files that identified which individuals (filtered) and loci (filtered, aligned) that `populations` should process. This also means that the extra INFO columns of the VCF file will be specific to my subsetted data, rather than the entire `populations` output. This is important for running `PCAdapt`. \n",
    "\n",
    "<br>\n",
    "I had to run `populations` using the computer in MAR , since my VM did not have enough memory (would kill the process as it was trying to write out the VCF file). \n",
    "Although this computer originally had stacks v1.4.7, I *uninstalled* this version and reinstalled **stacks v1.44**, which I what I used in the rest of my data analysis. I did verify at the command line that the correction version of stacks was being called using `populations --version`. \n",
    "\n",
    "\n",
    "<br>\n",
    "**Input files:**\n",
    "<br>\n",
    "[east individuals]()\n",
    "<br>\n",
    "[west individuals]()\n",
    "<br>\n",
    "[loci to process]()"
   ]
  },
  {
   "cell_type": "code",
   "execution_count": 1,
   "metadata": {},
   "outputs": [
    {
     "name": "stdout",
     "output_type": "stream",
     "text": [
      "/mnt/hgfs/PCod-Compare-repo\n"
     ]
    }
   ],
   "source": [
    "cd ../"
   ]
  },
  {
   "cell_type": "code",
   "execution_count": null,
   "metadata": {
    "collapsed": true
   },
   "outputs": [],
   "source": [
    "populations -b 8 \\\n",
    "-P stacks_b8_wgenome_r05 \\\n",
    "-M scripts/PopMap_EastCoastal.txt \\\n",
    "-W scripts/batch_8_final_filtered_aligned_loci_snps.txt \\\n",
    "-t 36 -r 0.5 -p 3 -m 3 --genepop --fasta --vcf 2>> populations_vcf_AK.txt"
   ]
  },
  {
   "cell_type": "markdown",
   "metadata": {},
   "source": [
    "*Moved populations output files into fold `populations_vcf_AK`*"
   ]
  },
  {
   "cell_type": "code",
   "execution_count": null,
   "metadata": {
    "collapsed": true
   },
   "outputs": [],
   "source": [
    "populations -b 8 \\\n",
    "-P stacks_b8_wgenome_r05 \\\n",
    "-M scripts/PopMap_West_bypop.txt \\\n",
    "-W scripts/batch_8_final_filtered_aligned_loci_snps.txt \\\n",
    "-t 36 -r 0.5 -p 3 -m 3 --genepop --fasta --vcf 2>> populations_vcf_KOR.txt"
   ]
  },
  {
   "cell_type": "markdown",
   "metadata": {},
   "source": [
    "*Moved populations output files into fold `populations_vcf_KOR`*"
   ]
  },
  {
   "cell_type": "code",
   "execution_count": null,
   "metadata": {
    "collapsed": true
   },
   "outputs": [],
   "source": []
  }
 ],
 "metadata": {
  "kernelspec": {
   "display_name": "Python 2",
   "language": "python",
   "name": "python2"
  },
  "language_info": {
   "codemirror_mode": {
    "name": "ipython",
    "version": 2
   },
   "file_extension": ".py",
   "mimetype": "text/x-python",
   "name": "python",
   "nbconvert_exporter": "python",
   "pygments_lexer": "ipython2",
   "version": "2.7.13"
  }
 },
 "nbformat": 4,
 "nbformat_minor": 2
}
