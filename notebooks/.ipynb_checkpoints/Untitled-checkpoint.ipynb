{
 "cells": [
  {
   "cell_type": "code",
   "execution_count": 1,
   "metadata": {},
   "outputs": [
    {
     "data": {
      "text/plain": [
       "u'/mnt/hgfs/PCod-Compare-repo/notebooks'"
      ]
     },
     "execution_count": 1,
     "metadata": {},
     "output_type": "execute_result"
    }
   ],
   "source": [
    "pwd"
   ]
  },
  {
   "cell_type": "code",
   "execution_count": 2,
   "metadata": {},
   "outputs": [
    {
     "name": "stdout",
     "output_type": "stream",
     "text": [
      "/mnt/hgfs/PCod-Compare-repo\n"
     ]
    }
   ],
   "source": [
    "cd ../"
   ]
  },
  {
   "cell_type": "code",
   "execution_count": 3,
   "metadata": {},
   "outputs": [
    {
     "name": "stdout",
     "output_type": "stream",
     "text": [
      "\u001b[0m\u001b[34;42mACod_reference\u001b[0m/                         \u001b[01;32msamtools_depth_testing.txt\u001b[0m*\r\n",
      "\u001b[01;32mACod_reference_old.7z\u001b[0m*                  \u001b[01;32msamtools_sort_depth.sh\u001b[0m*\r\n",
      "\u001b[34;42mAKsamplesT92\u001b[0m/                           \u001b[34;42mscripts\u001b[0m/\r\n",
      "\u001b[34;42manalyses\u001b[0m/                               \u001b[34;42mstacks_b1_wgenome\u001b[0m/\r\n",
      "\u001b[01;32mbatch4_fis_diveRsity.png\u001b[0m*               \u001b[34;42mstacks_b2_wgenome\u001b[0m/\r\n",
      "\u001b[01;32mbatch4_Fis_plot.png\u001b[0m*                    \u001b[34;42mstacks_b4_wgenome\u001b[0m/\r\n",
      "\u001b[34;42mKORsamplesT92\u001b[0m/                          \u001b[34;42mstacks_b5_wgenome\u001b[0m/\r\n",
      "\u001b[34;42mnotebooks\u001b[0m/                              \u001b[34;42mstacks_b6_wgenome_haplotypes\u001b[0m/\r\n",
      "\u001b[01;32mREADME.md\u001b[0m*                              \u001b[34;42mstacks_b7_wgenome_haplotypes_r05\u001b[0m/\r\n",
      "\u001b[34;42mrefgenome\u001b[0m/                              \u001b[34;42mstacks_b8_wgenome_r05\u001b[0m/\r\n",
      "\u001b[34;42mresults\u001b[0m/                                \u001b[34;42mstacks_pipeline_analyses\u001b[0m/\r\n",
      "\u001b[01;32msam_mappedreadcounts_b2_KORsubset.txt\u001b[0m*  \u001b[01;32mtpcp_buttons.txt\u001b[0m*\r\n",
      "\u001b[01;32msamtools_depth_testing_pipeline.txt\u001b[0m*\r\n"
     ]
    }
   ],
   "source": [
    "ls"
   ]
  },
  {
   "cell_type": "code",
   "execution_count": 9,
   "metadata": {
    "collapsed": true
   },
   "outputs": [],
   "source": [
    "infile = open(\"tpcp_buttons.txt\", \"r\")\n",
    "all_lines = infile.read().strip().split(\"Full Text\")\n",
    "infile.close()"
   ]
  },
  {
   "cell_type": "code",
   "execution_count": 11,
   "metadata": {
    "scrolled": true
   },
   "outputs": [
    {
     "name": "stdout",
     "output_type": "stream",
     "text": [
      "\r\n",
      "/featured-agriculture/2017/4/17/request-for-comments-on-identifying-regulatory-reform-initiatives-bxxc6\r\n",
      "https://www.globalchange.gov/notices\r\n",
      "2\r\n",
      "4\r\n",
      "25%\r\n",
      "\n"
     ]
    }
   ],
   "source": [
    "print all_lines[1]"
   ]
  },
  {
   "cell_type": "code",
   "execution_count": 12,
   "metadata": {},
   "outputs": [
    {
     "name": "stdout",
     "output_type": "stream",
     "text": [
      "['/featured-agriculture/2017/4/17/request-for-comments-on-identifying-regulatory-reform-initiatives-bxxc6', 'https://www.globalchange.gov/notices', '2', '4', '25%']\n"
     ]
    }
   ],
   "source": [
    "print all_lines[1].split()"
   ]
  },
  {
   "cell_type": "code",
   "execution_count": 15,
   "metadata": {
    "collapsed": true
   },
   "outputs": [],
   "source": [
    "full_count = 0\n",
    "for i in all_lines[1:]:\n",
    "    newcount = int(i.split()[2])\n",
    "    full_count += newcount"
   ]
  },
  {
   "cell_type": "code",
   "execution_count": 16,
   "metadata": {},
   "outputs": [
    {
     "data": {
      "text/plain": [
       "76"
      ]
     },
     "execution_count": 16,
     "metadata": {},
     "output_type": "execute_result"
    }
   ],
   "source": [
    "full_count"
   ]
  },
  {
   "cell_type": "code",
   "execution_count": null,
   "metadata": {
    "collapsed": true
   },
   "outputs": [],
   "source": []
  }
 ],
 "metadata": {
  "kernelspec": {
   "display_name": "Python 2",
   "language": "python",
   "name": "python2"
  },
  "language_info": {
   "codemirror_mode": {
    "name": "ipython",
    "version": 2
   },
   "file_extension": ".py",
   "mimetype": "text/x-python",
   "name": "python",
   "nbconvert_exporter": "python",
   "pygments_lexer": "ipython2",
   "version": "2.7.13"
  }
 },
 "nbformat": 4,
 "nbformat_minor": 2
}
