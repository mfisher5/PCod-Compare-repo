{
 "cells": [
  {
   "cell_type": "markdown",
   "metadata": {},
   "source": [
    "## Size & Frequency of Genomic Islands\n",
    "\n",
    "I need to calculate how the size and frequency of genomic islands changes throughout my three comparisons: within-East, within-West, and East v. West. Although this is specifically focused on genomic islands of divergence, since I have the data, I'll be looking at regions with significant evidence of balancing selection as well. \n",
    "\n",
    "\n",
    "The full sequence of steps:\n",
    "\n",
    "1. Conduct sliding window analyses on per locus Fst values \n",
    "   - [Sliding Window Analysis Final](https://github.com/mfisher5/PCod-Compare-repo/blob/master/notebooks/Sliding%20Window%20Analysis%20Final.ipynb) and [Marker Number in Sliding Window Analysis](https://github.com/mfisher5/PCod-Compare-repo/blob/master/notebooks/Marker%20Number%20in%20Sliding%20Window%20Analysis.ipynb) for filtering\n",
    "2. Identify regions with significantly high (or low) Fst - with significance defined by 95% confidence interval\n",
    "  - [Marker Function in Sliding Window Analysis](https://github.com/mfisher5/PCod-Compare-repo/blob/master/notebooks/Marker%20Function%20in%20Sliding%20Window%20Analysis.ipynb)\n",
    "3. Count the number of genomic islands on each linkage group\n",
    "4. Find the width of each genomic island and take an average\n",
    "\n",
    "<br>\n",
    "\n",
    "**Frequency** was defined as (1) the average number of genomic islands on each linkage group, and (2) the total number of genomic islands across all linkage groups\n",
    "\n",
    "**Size** or **Width** was calculated using the base-pair position of the sliding window at the beginning of the region, and the base-pair position of the sliding window at the end of the region. \n",
    "\n",
    "<br>\n",
    "\n",
    "### Counting the number of genomic islands on each linkage group\n",
    "\n",
    "This was very low tech - I used a combination of the [plots](https://github.com/mfisher5/PCod-Compare-repo/tree/master/analyses/SlidingWindow/plots) and the output from [Marker Function in Sliding Window Analysis](https://github.com/mfisher5/PCod-Compare-repo/blob/master/notebooks/Marker%20Function%20in%20Sliding%20Window%20Analysis.ipynb), which gave me a data frame of all windows that were above or below the 95% confidence interval. \n",
    "\n",
    "I kept track of the number of islands per linkage group (both divergence and balancing selection) in a text file.\n",
    "\n",
    "\n",
    "\n",
    "#### 4/3/2018 \n",
    "### Eastern population"
   ]
  },
  {
   "cell_type": "code",
   "execution_count": 1,
   "metadata": {},
   "outputs": [
    {
     "name": "stdout",
     "output_type": "stream",
     "text": [
      "/mnt/hgfs/PCod-Compare-repo/analyses/SlidingWindow\n"
     ]
    }
   ],
   "source": [
    "cd ../analyses/SlidingWindow/"
   ]
  },
  {
   "cell_type": "code",
   "execution_count": 2,
   "metadata": {},
   "outputs": [
    {
     "name": "stdout",
     "output_type": "stream",
     "text": [
      "LG\tn_windows\tstart\tend\r",
      "\r\n",
      "2\t4\t8313814.483\t8756130.013\r",
      "\r\n",
      "3\t4\t1644844.154\t2187160.617\r",
      "\r\n",
      "4\t1\t9477754.55\t9477754.55\r",
      "\r\n",
      "4\t2\t10795984.95\t11015690.02\r",
      "\r\n",
      "4\t1\t11674805.22\t11674805.22\r",
      "\r\n",
      "4\t3\t13652150.83\t14091560.96\r",
      "\r\n",
      "5\t2\t23074706.45\t23225122\r",
      "\r\n",
      "6\t5\t20743835.56\t21380688.63\r",
      "\r\n",
      "7\t5\t2166048.906\t2949247.51\r",
      "\r\n"
     ]
    }
   ],
   "source": [
    "!head batch_8_east_islands.txt"
   ]
  },
  {
   "cell_type": "code",
   "execution_count": 23,
   "metadata": {
    "collapsed": true
   },
   "outputs": [],
   "source": [
    "#### read in data ####\n",
    "infile = open(\"batch_8_east_islands.txt\", \"r\")\n",
    "infile.readline()\n",
    "lgs = []\n",
    "n_windows = []\n",
    "for line in infile:\n",
    "    lgs.append(int(line.strip().split()[0]))\n",
    "    n_windows.append(int(line.strip().split()[1]))\n",
    "infile.close()"
   ]
  },
  {
   "cell_type": "markdown",
   "metadata": {},
   "source": [
    "#### Island Counts"
   ]
  },
  {
   "cell_type": "code",
   "execution_count": 16,
   "metadata": {},
   "outputs": [
    {
     "data": {
      "image/png": "[encoded data removed]",
      "text/plain": [
       "<matplotlib.figure.Figure at 0x7f2690beaed0>"
      ]
     },
     "metadata": {},
     "output_type": "display_data"
    }
   ],
   "source": [
    "#### islands per linkage group ####\n",
    "import matplotlib.pyplot as plt\n",
    "import numpy as np\n",
    "plt.hist(lgs, bins=np.arange(0,23,1))\n",
    "plt.xlabel(\"A.Cod Linkage Group\")\n",
    "plt.ylabel(\"Number of Islands\")\n",
    "plt.suptitle(\"Eastern Population\")\n",
    "plt.show()"
   ]
  },
  {
   "cell_type": "code",
   "execution_count": 17,
   "metadata": {
    "collapsed": true
   },
   "outputs": [],
   "source": [
    "plt.close()"
   ]
  },
  {
   "cell_type": "code",
   "execution_count": 20,
   "metadata": {},
   "outputs": [
    {
     "data": {
      "image/png": "[encoded data removed]",
      "text/plain": [
       "<matplotlib.figure.Figure at 0x7f2690bea350>"
      ]
     },
     "metadata": {},
     "output_type": "display_data"
    }
   ],
   "source": [
    "#### islands per linkage group histogram ####\n",
    "unique_lgs = set(lgs)\n",
    "island_counts = []\n",
    "for lg in unique_lgs:\n",
    "    island_counts.append(len([i for i in lgs if i == lg]))\n",
    "\n",
    "\n",
    "plt.hist(island_counts)\n",
    "plt.xlabel(\"Number of Islands / LG\")\n",
    "plt.ylabel(\"Number of Linkage Groups\")\n",
    "plt.suptitle(\"Eastern Population\")\n",
    "plt.show()"
   ]
  },
  {
   "cell_type": "code",
   "execution_count": 21,
   "metadata": {},
   "outputs": [],
   "source": [
    "plt.close()"
   ]
  },
  {
   "cell_type": "markdown",
   "metadata": {},
   "source": [
    "#### Island Width"
   ]
  },
  {
   "cell_type": "code",
   "execution_count": 26,
   "metadata": {},
   "outputs": [
    {
     "data": {
      "image/png": "[encoded data removed]",
      "text/plain": [
       "<matplotlib.figure.Figure at 0x7f2690b1ee90>"
      ]
     },
     "metadata": {},
     "output_type": "display_data"
    }
   ],
   "source": [
    "#### island width per linkage group ####\n",
    "plt.hist(n_windows, bins=np.arange(0,23,1))\n",
    "plt.xlabel(\"Width of Island (N Windows)\")\n",
    "plt.ylabel(\"Number of Islands\")\n",
    "plt.suptitle(\"Eastern Population\")\n",
    "plt.show()"
   ]
  },
  {
   "cell_type": "code",
   "execution_count": 27,
   "metadata": {
    "collapsed": true
   },
   "outputs": [],
   "source": [
    "plt.close()"
   ]
  },
  {
   "cell_type": "code",
   "execution_count": null,
   "metadata": {
    "collapsed": true
   },
   "outputs": [],
   "source": []
  }
 ],
 "metadata": {
  "kernelspec": {
   "display_name": "Python 2",
   "language": "python",
   "name": "python2"
  },
  "language_info": {
   "codemirror_mode": {
    "name": "ipython",
    "version": 2
   },
   "file_extension": ".py",
   "mimetype": "text/x-python",
   "name": "python",
   "nbconvert_exporter": "python",
   "pygments_lexer": "ipython2",
   "version": "2.7.13"
  }
 },
 "nbformat": 4,
 "nbformat_minor": 2
}
