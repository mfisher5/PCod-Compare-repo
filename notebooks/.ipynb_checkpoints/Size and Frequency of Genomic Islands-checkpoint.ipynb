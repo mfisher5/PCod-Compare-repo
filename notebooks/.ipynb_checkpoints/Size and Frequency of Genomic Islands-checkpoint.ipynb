{
 "cells": [
  {
   "cell_type": "markdown",
   "metadata": {},
   "source": [
    "## Size & Frequency of Genomic Islands\n",
    "\n",
    "I need to calculate how the size and frequency of genomic islands changes throughout my three comparisons: within-East, within-West, and East v. West. Although this is specifically focused on genomic islands of divergence, since I have the data, I'll be looking at regions with significant evidence of balancing selection as well. \n",
    "\n",
    "\n",
    "The full sequence of steps:\n",
    "\n",
    "1. Conduct sliding window analyses on per locus Fst values \n",
    "   - [Sliding Window Analysis Final](https://github.com/mfisher5/PCod-Compare-repo/blob/master/notebooks/Sliding%20Window%20Analysis%20Final.ipynb) and [Marker Number in Sliding Window Analysis](https://github.com/mfisher5/PCod-Compare-repo/blob/master/notebooks/Marker%20Number%20in%20Sliding%20Window%20Analysis.ipynb) for filtering\n",
    "2. Identify regions with significantly high (or low) Fst - with significance defined by 95% confidence interval\n",
    "  - [Marker Function in Sliding Window Analysis](https://github.com/mfisher5/PCod-Compare-repo/blob/master/notebooks/Marker%20Function%20in%20Sliding%20Window%20Analysis.ipynb)\n",
    "3. Count the number of genomic islands on each linkage group\n",
    "4. Find the width of each genomic island and take an average\n",
    "\n",
    "<br>\n",
    "\n",
    "**Frequency** was defined as (1) the average number of genomic islands on each linkage group, and (2) the total number of genomic islands across all linkage groups\n",
    "\n",
    "**Size** or **Width** was calculated using the base-pair position of the sliding window at the beginning of the region, and the base-pair position of the sliding window at the end of the region. \n",
    "\n",
    "<br>\n",
    "#### 4/2/2018\n",
    "### Counting the number of genomic islands on each linkage group\n",
    "\n",
    "This was very low tech - I used a combination of the [plots](https://github.com/mfisher5/PCod-Compare-repo/tree/master/analyses/SlidingWindow/plots) and the output from [Marker Function in Sliding Window Analysis](https://github.com/mfisher5/PCod-Compare-repo/blob/master/notebooks/Marker%20Function%20in%20Sliding%20Window%20Analysis.ipynb), which gave me a data frame of all windows that were above or below the 95% confidence interval. \n",
    "\n",
    "I kept track of the number of islands per linkage group (both divergence and balancing selection) in a text file."
   ]
  },
  {
   "cell_type": "code",
   "execution_count": null,
   "metadata": {
    "collapsed": true
   },
   "outputs": [],
   "source": []
  }
 ],
 "metadata": {
  "kernelspec": {
   "display_name": "Python 2",
   "language": "python",
   "name": "python2"
  },
  "language_info": {
   "codemirror_mode": {
    "name": "ipython",
    "version": 2
   },
   "file_extension": ".py",
   "mimetype": "text/x-python",
   "name": "python",
   "nbconvert_exporter": "python",
   "pygments_lexer": "ipython2",
   "version": "2.7.13"
  }
 },
 "nbformat": 4,
 "nbformat_minor": 2
}
