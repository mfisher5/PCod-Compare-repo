{
 "cells": [
  {
   "cell_type": "markdown",
   "metadata": {},
   "source": [
    "## Basic BOWTIE 2 alignment of reference databases to Atlantic cod genome\n",
    "\n",
    "\n",
    "I want to practice working with alignment data AND see how many Korean / Alaskan loci will align to each other and the Atlantic cod genome, to get an idea of what I will be working with when trying to generate per-locus Fst v. distance along genome plots. \n",
    "\n",
    "In this notebook:\n",
    "1. BOWTIE 2 alignment of Korean cod reference to Atlantic cod, Alaskan cod reference to Atlantic cod. \n",
    "2. Convert the .sam alignment files into indexed & sorted .bam files so that I can load the data into Integrative Genome Viewer (IGV). \n",
    "3. Learn how to use BEDTOOLS to align the alignment data! warning: it gets a little messy here because I was playing around with different settings, tags and file types. I also made the mistake of doing my first BEDTOOLS alignments with the loci that aligned to one or more places in the Atlantic cod genome, rather than filtering out those that aligned more than once. You can pretty much just skip this part. \n",
    "4. Find loci that aligned uniquely to Atlantic cod genome, then use BEDTOOLS to align those loci to each other. Filter for unique alignments. Convert BEDTOOLS output file (single file) to two separate .sam files for Alaskan and Korean Pacific cod. \n",
    "\n",
    "\n",
    "<br>\n",
    "<br>\n",
    "<br>\n",
    "<br>\n",
    "\n",
    "\n",
    "#### 8/1/2017\n",
    "\n",
    "\n",
    "\n",
    "### (1a) Make BOWTIE 2 database from Atlantic cod genome\n",
    "The Atlantic cod genome was downloaded from Ensembl, [here](ftp://ftp.ensembl.org/pub/release-89/fasta/gadus_morhua/dna). I chose the `.dna.toplevel.fa.gz`.\n"
   ]
  },
  {
   "cell_type": "code",
   "execution_count": 1,
   "metadata": {
    "collapsed": false
   },
   "outputs": [
    {
     "data": {
      "text/plain": [
       "u'/mnt/hgfs/Pacific cod/DataAnalysis/PCod-Compare-repo/notebooks'"
      ]
     },
     "execution_count": 1,
     "metadata": {},
     "output_type": "execute_result"
    }
   ],
   "source": [
    "pwd"
   ]
  },
  {
   "cell_type": "code",
   "execution_count": 2,
   "metadata": {
    "collapsed": false
   },
   "outputs": [
    {
     "name": "stdout",
     "output_type": "stream",
     "text": [
      "/mnt/hgfs/Pacific cod/DataAnalysis/PCod-Compare-repo\n"
     ]
    }
   ],
   "source": [
    "cd ../"
   ]
  },
  {
   "cell_type": "code",
   "execution_count": 3,
   "metadata": {
    "collapsed": false,
    "scrolled": true
   },
   "outputs": [
    {
     "name": "stdout",
     "output_type": "stream",
     "text": [
      "\u001b[0m\u001b[34;42mACod_reference\u001b[0m/  \u001b[34;42mbowtie2-2.3.2\u001b[0m/   \u001b[34;42mfasta_inputs\u001b[0m/  \u001b[34;42mscripts\u001b[0m/\r\n",
      "\u001b[34;42mblast_outputs\u001b[0m/   \u001b[34;42mbowtie_outputs\u001b[0m/  \u001b[34;42mnotebooks\u001b[0m/\r\n"
     ]
    }
   ],
   "source": [
    "ls"
   ]
  },
  {
   "cell_type": "code",
   "execution_count": 4,
   "metadata": {
    "collapsed": false
   },
   "outputs": [
    {
     "name": "stdout",
     "output_type": "stream",
     "text": [
      "/mnt/hgfs/Pacific cod/DataAnalysis/PCod-Compare-repo/ACod_reference\n"
     ]
    }
   ],
   "source": [
    "cd ACod_reference"
   ]
  },
  {
   "cell_type": "code",
   "execution_count": 5,
   "metadata": {
    "collapsed": false
   },
   "outputs": [
    {
     "name": "stdout",
     "output_type": "stream",
     "text": [
      "\u001b[0m\u001b[01;32mGadus_morhua.1.bt2\u001b[0m*                        \u001b[01;32mGadus_morhua.nin\u001b[0m*\r\n",
      "\u001b[01;32mGadus_morhua.2.bt2\u001b[0m*                        \u001b[01;32mGadus_morhua.nog\u001b[0m*\r\n",
      "\u001b[01;32mGadus_morhua.3.bt2\u001b[0m*                        \u001b[01;32mGadus_morhua.nsd\u001b[0m*\r\n",
      "\u001b[01;32mGadus_morhua.4.bt2\u001b[0m*                        \u001b[01;32mGadus_morhua.nsi\u001b[0m*\r\n",
      "\u001b[01;32mGadus_morhua.gadMor1.dna.toplevel.fa\u001b[0m*      \u001b[01;32mGadus_morhua.nsq\u001b[0m*\r\n",
      "\u001b[01;32mGadus_morhua.gadMor1.dna.toplevel.fa.fai\u001b[0m*  \u001b[01;32mGadus_morhua.rev.1.bt2\u001b[0m*\r\n",
      "\u001b[01;32mGadus_morhua.nhr\u001b[0m*                          \u001b[01;32mGadus_morhua.rev.2.bt2\u001b[0m*\r\n"
     ]
    }
   ],
   "source": [
    "ls"
   ]
  },
  {
   "cell_type": "markdown",
   "metadata": {},
   "source": [
    "** BOWTIE 2 database files: end in `.bt2`.** See [this notebook](https://github.com/mfisher5/PCod-Compare-repo/blob/master/notebooks/Visualizing%20Alignments%20with%20IGV.ipynb) for creating BOWTIE 2 databases. Short code:\n",
    "\n",
    "\n",
    "`!bowtie2-build \\\n",
    "ACod_reference/Gadus_morhua.gadMor1.dna.toplevel.fa \\ #genome fasta file\n",
    "ACod_reference/Gadus_morhua #where you want the database files to go`"
   ]
  },
  {
   "cell_type": "markdown",
   "metadata": {},
   "source": [
    "<br>\n",
    "\n",
    "\n",
    "### (1b) Retrieve fasta files from reference databases\n",
    "\n",
    "The needed fasta files were produced when the reference databases were built. In my file structure, they are `batch_X_BOWTIE_BLAST_filtered.fa`\n",
    "\n",
    "The Alaskan fasta file was created in [this notebook](https://github.com/mfisher5/PCod-US-repo/blob/master/notebooks/Stacks%20batch%202%20-%20nb2.ipynb). \n",
    "\n",
    "\n",
    "The Korean fasta file was created in [this notebook](https://github.com/mfisher5/PCod-Korea-repo/blob/master/notebooks/Stacks%20batch%206%20-%20nb%201.ipynb)\n",
    "<br>\n"
   ]
  },
  {
   "cell_type": "code",
   "execution_count": 6,
   "metadata": {
    "collapsed": false
   },
   "outputs": [
    {
     "data": {
      "text/plain": [
       "u'/mnt/hgfs/Pacific cod/DataAnalysis/PCod-Compare-repo/ACod_reference'"
      ]
     },
     "execution_count": 6,
     "metadata": {},
     "output_type": "execute_result"
    }
   ],
   "source": [
    "pwd"
   ]
  },
  {
   "cell_type": "code",
   "execution_count": 7,
   "metadata": {
    "collapsed": false
   },
   "outputs": [
    {
     "name": "stdout",
     "output_type": "stream",
     "text": [
      "/mnt/hgfs/Pacific cod/DataAnalysis/PCod-US-repo/stacks_b2/refgenome\n"
     ]
    }
   ],
   "source": [
    "cd ../../PCod-US-repo/stacks_b2/refgenome"
   ]
  },
  {
   "cell_type": "code",
   "execution_count": 10,
   "metadata": {
    "collapsed": false
   },
   "outputs": [],
   "source": [
    "!cp batch_2_BOWTIE_BLAST_filtered.fa ../../../PCod-Compare-repo/fasta_inputs"
   ]
  },
  {
   "cell_type": "code",
   "execution_count": 11,
   "metadata": {
    "collapsed": false
   },
   "outputs": [
    {
     "name": "stdout",
     "output_type": "stream",
     "text": [
      "/mnt/hgfs/Pacific cod/DataAnalysis/PCod-Compare-repo/fasta_inputs\n"
     ]
    }
   ],
   "source": [
    "cd ../../../PCod-Compare-repo/fasta_inputs"
   ]
  },
  {
   "cell_type": "code",
   "execution_count": 12,
   "metadata": {
    "collapsed": true
   },
   "outputs": [],
   "source": [
    "!mv batch_2_BOWTIE_BLAST_filtered.fa AKb2_filtered_refgenome.fa"
   ]
  },
  {
   "cell_type": "code",
   "execution_count": 14,
   "metadata": {
    "collapsed": false
   },
   "outputs": [
    {
     "name": "stdout",
     "output_type": "stream",
     "text": [
      "/mnt/hgfs/Pacific cod/DataAnalysis/PCod-Korea-repo/stacks_b6/refgenome\n"
     ]
    }
   ],
   "source": [
    "cd ../../PCod-Korea-repo/stacks_b6/refgenome"
   ]
  },
  {
   "cell_type": "code",
   "execution_count": 15,
   "metadata": {
    "collapsed": false
   },
   "outputs": [],
   "source": [
    "!cp batch_6_BOWTIE_BLAST_filtered.fa ../../../PCod-Compare-repo/fasta_inputs"
   ]
  },
  {
   "cell_type": "code",
   "execution_count": 16,
   "metadata": {
    "collapsed": false
   },
   "outputs": [
    {
     "name": "stdout",
     "output_type": "stream",
     "text": [
      "/mnt/hgfs/Pacific cod/DataAnalysis/PCod-Compare-repo/fasta_inputs\n"
     ]
    }
   ],
   "source": [
    "cd ../../../PCod-Compare-repo/fasta_inputs"
   ]
  },
  {
   "cell_type": "code",
   "execution_count": 17,
   "metadata": {
    "collapsed": true
   },
   "outputs": [],
   "source": [
    "!mv batch_6_BOWTIE_BLAST_filtered.fa KORb6_filtered_refgenome.fa"
   ]
  },
  {
   "cell_type": "code",
   "execution_count": 18,
   "metadata": {
    "collapsed": false
   },
   "outputs": [
    {
     "name": "stdout",
     "output_type": "stream",
     "text": [
      "\u001b[0m\u001b[01;32mAKb2_filtered_refgenome.fa\u001b[0m*  \u001b[01;32mKORb6_filtered_refgenome.fa\u001b[0m*\r\n",
      "\u001b[01;32mAK_batch2_FinalFiltered.fa\u001b[0m*  \u001b[01;32mKOR_batch6_FinalFiltered.fa\u001b[0m*\r\n"
     ]
    }
   ],
   "source": [
    "ls"
   ]
  },
  {
   "cell_type": "markdown",
   "metadata": {},
   "source": [
    "\n",
    "\n",
    "<br>\n",
    "### (1c) Align the Korean and Alaskan files against the Atlantic cod database"
   ]
  },
  {
   "cell_type": "code",
   "execution_count": 19,
   "metadata": {
    "collapsed": false
   },
   "outputs": [
    {
     "name": "stdout",
     "output_type": "stream",
     "text": [
      "/mnt/hgfs/Pacific cod/DataAnalysis/PCod-Compare-repo\n"
     ]
    }
   ],
   "source": [
    "cd ../"
   ]
  },
  {
   "cell_type": "code",
   "execution_count": 25,
   "metadata": {
    "collapsed": false
   },
   "outputs": [
    {
     "name": "stdout",
     "output_type": "stream",
     "text": [
      "25214 reads; of these:\r\n",
      "  25214 (100.00%) were unpaired; of these:\r\n",
      "    3117 (12.36%) aligned 0 times\r\n",
      "    19809 (78.56%) aligned exactly 1 time\r\n",
      "    2288 (9.07%) aligned >1 times\r\n",
      "87.64% overall alignment rate\r\n"
     ]
    }
   ],
   "source": [
    "!bowtie2 -f \\\n",
    "-x ACod_reference/Gadus_morhua \\\n",
    "-U fasta_inputs/KORb6_filtered_refgenome.fa \\\n",
    "-S bowtie_outputs/KORb6_filtered_refgenome_BOWTIEto_ACod.sam"
   ]
  },
  {
   "cell_type": "code",
   "execution_count": 26,
   "metadata": {
    "collapsed": false,
    "scrolled": true
   },
   "outputs": [
    {
     "name": "stdout",
     "output_type": "stream",
     "text": [
      "19509 reads; of these:\r\n",
      "  19509 (100.00%) were unpaired; of these:\r\n",
      "    2369 (12.14%) aligned 0 times\r\n",
      "    15187 (77.85%) aligned exactly 1 time\r\n",
      "    1953 (10.01%) aligned >1 times\r\n",
      "87.86% overall alignment rate\r\n"
     ]
    }
   ],
   "source": [
    "!bowtie2 -f \\\n",
    "-x ACod_reference/Gadus_morhua \\\n",
    "-U fasta_inputs/AKb2_filtered_refgenome.fa \\\n",
    "-S bowtie_outputs/AKb2_filtered_refgenome_BOWTIEto_ACod.sam"
   ]
  },
  {
   "cell_type": "markdown",
   "metadata": {},
   "source": [
    "\n",
    "<br>\n",
    "### (2) Convert to sorted and indexed `.bam` file"
   ]
  },
  {
   "cell_type": "code",
   "execution_count": 27,
   "metadata": {
    "collapsed": false
   },
   "outputs": [
    {
     "name": "stdout",
     "output_type": "stream",
     "text": [
      "/mnt/hgfs/Pacific cod/DataAnalysis/PCod-Compare-repo/bowtie_outputs\n"
     ]
    }
   ],
   "source": [
    "cd bowtie_outputs/"
   ]
  },
  {
   "cell_type": "code",
   "execution_count": 28,
   "metadata": {
    "collapsed": true
   },
   "outputs": [],
   "source": [
    "#sam to bam\n",
    "!samtools view -bS KORb6_filtered_refgenome_BOWTIEto_ACod.sam > KORb6_filtered_refgenome_BOWTIEto_ACod.bam "
   ]
  },
  {
   "cell_type": "code",
   "execution_count": 29,
   "metadata": {
    "collapsed": true
   },
   "outputs": [],
   "source": [
    "#sam to bam\n",
    "!samtools view -bS AKb2_filtered_refgenome_BOWTIEto_ACod.sam > AKb2_filtered_refgenome_BOWTIEto_ACod.bam"
   ]
  },
  {
   "cell_type": "code",
   "execution_count": 30,
   "metadata": {
    "collapsed": true
   },
   "outputs": [],
   "source": [
    "#sort\n",
    "!samtools sort KORb6_filtered_refgenome_BOWTIEto_ACod.bam -o KORb6_filtered_refgenome_BOWTIEto_ACod_sorted.bam"
   ]
  },
  {
   "cell_type": "code",
   "execution_count": 31,
   "metadata": {
    "collapsed": true
   },
   "outputs": [],
   "source": [
    "#sort\n",
    "!samtools sort AKb2_filtered_refgenome_BOWTIEto_ACod.bam -o AKb2_filtered_refgenome_BOWTIEto_ACod_sorted.bam "
   ]
  },
  {
   "cell_type": "code",
   "execution_count": 33,
   "metadata": {
    "collapsed": true
   },
   "outputs": [],
   "source": [
    "#index\n",
    "!samtools index KORb6_filtered_refgenome_BOWTIEto_ACod_sorted.bam KORb6_filtered_refgenome_BOWTIEto_ACod_sorted.bai"
   ]
  },
  {
   "cell_type": "code",
   "execution_count": 34,
   "metadata": {
    "collapsed": false
   },
   "outputs": [],
   "source": [
    "#index\n",
    "!samtools index AKb2_filtered_refgenome_BOWTIEto_ACod_sorted.bam AKb2_filtered_refgenome_BOWTIEto_ACod_sorted.bai"
   ]
  },
  {
   "cell_type": "markdown",
   "metadata": {},
   "source": [
    "\n",
    "\n",
    "<br>\n",
    "<br>\n",
    "\n",
    "### (3) BEDtools / SAMtools\n",
    "\n",
    "In addition to loading these sequences into IGV, I'm going to mess around with BEDtools and SAMtools to see if I can get some useful information out of these files. \n",
    "\n",
    "<br>\n",
    "**`bedtools intersect`:** The BEDTools intersect subcommand computes the overlaps between two sets of ranges. I'm thinking I can use this to find the overlaps between Alaskan and Korean code alignments. while the examples use `.bed` files, the [documentation](http://bedtools.readthedocs.io/en/latest/content/general-usage.html) says that this particular command does support input in `.bam` format. \n",
    "\n",
    "If you are interested in converting from `.bam` to `.bed`, then you can just use the following line of code: \n",
    "\n",
    "`bedtools bamtobed -i File.bam >> File.bed`"
   ]
  },
  {
   "cell_type": "code",
   "execution_count": null,
   "metadata": {
    "collapsed": true
   },
   "outputs": [],
   "source": [
    "#install bedtools\n",
    "sudo apt-get install bedtools"
   ]
  },
  {
   "cell_type": "markdown",
   "metadata": {},
   "source": [
    "I'm going to attempt this with the optional settings that will write out the original entry for file A (-wa) and the original entry for file B (-wb) for each overlap. Note that I have to specify `.bed` output, otherwise the program will default to `.bam` output (input file type). With `.bam` output, you cannot use the option `-wb`. "
   ]
  },
  {
   "cell_type": "code",
   "execution_count": 2,
   "metadata": {
    "collapsed": false
   },
   "outputs": [
    {
     "name": "stdout",
     "output_type": "stream",
     "text": [
      "/mnt/hgfs/Pacific cod/DataAnalysis/PCod-Compare-repo/bowtie_outputs\n"
     ]
    }
   ],
   "source": [
    "cd ../bowtie_outputs/"
   ]
  },
  {
   "cell_type": "code",
   "execution_count": 31,
   "metadata": {
    "collapsed": false
   },
   "outputs": [],
   "source": [
    "!bedtools intersect -a AKb2_filtered_refgenome_BOWTIEto_ACod.bam \\ #query file\n",
    "-b KORb6_filtered_refgenome_BOWTIEto_ACod.bam \\ #database file\n",
    "-wa \\\n",
    "-wb \\\n",
    "-names Korea \\\n",
    "-bed >> KORb6_AKb2_refgenomes_BOWTIEto_ACod_intersect.bed"
   ]
  },
  {
   "cell_type": "code",
   "execution_count": 33,
   "metadata": {
    "collapsed": false,
    "scrolled": false
   },
   "outputs": [
    {
     "name": "stdout",
     "output_type": "stream",
     "text": [
      "GeneScaffold_4551\t470556\t470647\t35236\t3\t+\t470556\t470647\t0,0,0\t1\t91,\t0,\tGeneScaffold_4551\t470419\t470560\t403\t40\t-\r\n",
      "GeneScaffold_4551\t470556\t470647\t35236\t3\t+\t470556\t470647\t0,0,0\t1\t91,\t0,\tGeneScaffold_4551\t470556\t470694\t35529\t0\t+\r\n",
      "GeneScaffold_377\t418275\t418367\t35237\t42\t-\t418275\t418367\t0,0,0\t1\t92,\t0,\tGeneScaffold_377\t418225\t418367\t18655\t42\t-\r\n",
      "GeneScaffold_2068\t27560\t27652\t35234\t39\t-\t27560\t27652\t0,0,0\t1\t92,\t0,\tGeneScaffold_2068\t27648\t27790\t38400\t21\t+\r\n",
      "GeneScaffold_2068\t27560\t27652\t35234\t39\t-\t27560\t27652\t0,0,0\t1\t92,\t0,\tGeneScaffold_2068\t27510\t27652\t30181\t21\t-\r\n",
      "GeneScaffold_2817\t439946\t440038\t35235\t40\t-\t439946\t440038\t0,0,0\t1\t92,\t0,\tGeneScaffold_2817\t440034\t440176\t39202\t42\t+\r\n",
      "GeneScaffold_2817\t439946\t440038\t35235\t40\t-\t439946\t440038\t0,0,0\t1\t92,\t0,\tGeneScaffold_2817\t439896\t440038\t34146\t40\t-\r\n",
      "contig546082\t158\t252\t33017\t1\t-\t158\t252\t0,0,0\t1\t94,\t0,\tcontig546082\t97\t252\t20687\t0\t-\r\n",
      "GeneScaffold_77\t32024\t32115\t35541\t8\t+\t32024\t32115\t0,0,0\t1\t91,\t0,\tGeneScaffold_77\t32024\t32165\t4662\t23\t+\r\n",
      "GeneScaffold_77\t32024\t32115\t35541\t8\t+\t32024\t32115\t0,0,0\t1\t91,\t0,\tGeneScaffold_77\t31886\t32028\t39738\t24\t-\r\n"
     ]
    }
   ],
   "source": [
    "!head KORb6_AKb2_refgenomes_BOWTIEto_ACod_intersect.bed"
   ]
  },
  {
   "cell_type": "markdown",
   "metadata": {},
   "source": [
    "How many total alignments were made? "
   ]
  },
  {
   "cell_type": "code",
   "execution_count": 2,
   "metadata": {
    "collapsed": false
   },
   "outputs": [
    {
     "name": "stdout",
     "output_type": "stream",
     "text": [
      "21252\r\n"
     ]
    }
   ],
   "source": [
    "!grep \"\\n\" KORb6_AKb2_refgenomes_BOWTIEto_ACod_intersect.bed | wc -l"
   ]
  },
  {
   "cell_type": "markdown",
   "metadata": {},
   "source": [
    "Interpreting `bedtools intersect` output: \n"
   ]
  },
  {
   "cell_type": "markdown",
   "metadata": {},
   "source": [
    "\n",
    "|   Chromosome/Scaffold Name   |   Start Position (KOR)  |   End Position (KOR)   |   BED name (KOR) | score 0-1000 (KOR) | strand (KOR) | thick start | thick end | item RGB | # exons | exon sizes | exon starts | Chromosome/Scaffold Name | Start Position (AK) | End Position (AK) | BED name (AK) | score 0-1000 (AK) | strand (AK) |\n",
    "|:-----:|:-----:|:----:|:-----:|:----:|:-----:|:-----:|:-----:|:-----:|:-----:|:-----:|:-----:|:-----:|:-----:|:-----:|:-----:|:-----:|:-----:|\n",
    "|GeneScaffold_4551\t|470556\t|470647\t|35236\t| 3\t|+\t |470556\t| 470647 |\t0,0,0\t| 1\t| 91, |\t0, | GeneScaffold_4551\t| 470419\t| 470560\t| 403\t| 40\t| - |"
   ]
  },
  {
   "cell_type": "markdown",
   "metadata": {},
   "source": [
    "Let's take a look at that location in IGV:\n",
    "\n",
    "![img-igv-scaffold4551-overlap](https://github.com/mfisher5/PCod-Compare-repo/blob/master/notebooks/notebook_pics/IGV_AK_KOR_refgenomes_overlap_GeneScaffold4551.png?raw=true)\n",
    "\n",
    "\n",
    "YESSSSS IT EXISTS!!!!! \n",
    "\n",
    "I also noticed quite a few other overlaps as I was scrolling through that scaffold. I think that I can check on the total number using `grep` on the `.bed` file. "
   ]
  },
  {
   "cell_type": "code",
   "execution_count": 34,
   "metadata": {
    "collapsed": false
   },
   "outputs": [
    {
     "name": "stdout",
     "output_type": "stream",
     "text": [
      "22\r\n"
     ]
    }
   ],
   "source": [
    "!grep \"GeneScaffold_4551\" KORb6_AKb2_refgenomes_BOWTIEto_ACod_intersect.bed | wc -l"
   ]
  },
  {
   "cell_type": "markdown",
   "metadata": {},
   "source": [
    "\n",
    "\n",
    "<br>\n",
    "<br>\n",
    "<br>\n",
    "Ok, now I want to know how many unique Alaskan sequences mapped to a single Korean locus. I think I'll just use python for this. \n",
    "\n",
    "#### 8/2/2017\n",
    "\n",
    "Which sequences aligned to only one location?"
   ]
  },
  {
   "cell_type": "markdown",
   "metadata": {},
   "source": [
    "|   Chromosome/Scaffold Name   |   Start Position (KOR)  |   End Position (KOR)   |   BED name (KOR) | score 0-1000 (KOR) | strand (KOR) | thick start | thick end | item RGB | # exons | exon sizes | exon starts |\n",
    "|:-----:|:-----:|:----:|:-----:|:----:|:-----:|:-----:|:-----:|:-----:|:-----:|:-----:|:-----:|\n",
    "|GeneScaffold_4551\t|470556\t|470647\t|35236\t| 3\t|+\t |470556\t| 470647 |\t0,0,0\t| 1\t| 91, |\t0, | \n",
    "| 0 | 1 | 2 |  3 | 4 | 5 | 6 | 7 | 8 | 9 | 10 | 11 |\n",
    "\n",
    "\n",
    "\n",
    "| Chromosome/Scaffold Name | Start Position (AK) | End Position (AK) | BED name (AK) | score 0-1000 (AK) | strand (AK) |\n",
    "|:-----:|:-----:|:-----:|:-----:|:-----:|:-----:|\n",
    "|GeneScaffold_4551\t| 470419\t| 470560\t| 403\t| 40\t| - |\n",
    "| 12 |  13 | 14 | 15 | 16 | 17 |"
   ]
  },
  {
   "cell_type": "code",
   "execution_count": 5,
   "metadata": {
    "collapsed": false
   },
   "outputs": [
    {
     "name": "stdout",
     "output_type": "stream",
     "text": [
      "/mnt/hgfs/Pacific cod/DataAnalysis/PCod-Compare-repo/bowtie_outputs\n"
     ]
    }
   ],
   "source": [
    "cd ../bowtie_outputs"
   ]
  },
  {
   "cell_type": "code",
   "execution_count": 6,
   "metadata": {
    "collapsed": true
   },
   "outputs": [],
   "source": [
    "infile = open(\"KORb6_AKb2_refgenomes_BOWTIEto_ACod_intersect.bed\", \"r\")\n",
    "\n",
    "#since my Alaskan sequences were the query, the dictionary will have the KEY as the ALASKAN BED name\n",
    "ak_align_dict = {}\n",
    "\n",
    "for line in infile:\n",
    "    linelist = line.strip().split()\n",
    "    kor = linelist[3]\n",
    "    ak = linelist[15]\n",
    "    if ak not in ak_align_dict.keys():\n",
    "        ak_align_dict[ak] = [kor]\n",
    "    elif ak in ak_align_dict.keys():\n",
    "        kor_ids = ak_align_dict[ak]\n",
    "        kor_ids.append(kor)\n",
    "        ak_align_dict[ak] = kor_ids\n",
    "infile.close()"
   ]
  },
  {
   "cell_type": "code",
   "execution_count": 7,
   "metadata": {
    "collapsed": false
   },
   "outputs": [
    {
     "name": "stdout",
     "output_type": "stream",
     "text": [
      "15854\n"
     ]
    }
   ],
   "source": [
    "print len(ak_align_dict.keys())"
   ]
  },
  {
   "cell_type": "markdown",
   "metadata": {},
   "source": [
    "I need to check to make sure that is correct ... what if the BED name isn't indicative of the actual sequence name? Lets see if I can use some code in bedtools that I took from [this thread](https://www.biostars.org/p/155015/). "
   ]
  },
  {
   "cell_type": "code",
   "execution_count": 8,
   "metadata": {
    "collapsed": true
   },
   "outputs": [],
   "source": [
    "!bedtools intersect -wa -bed -a AKb2_filtered_refgenome_BOWTIEto_ACod.bam -b KORb6_filtered_refgenome_BOWTIEto_ACod.bam | sort | uniq > KORb6_AKb2_refgenomes_BOWTIEto_ACod_intersect_sort_unique.bed "
   ]
  },
  {
   "cell_type": "code",
   "execution_count": 9,
   "metadata": {
    "collapsed": false
   },
   "outputs": [
    {
     "name": "stdout",
     "output_type": "stream",
     "text": [
      "13922\r\n"
     ]
    }
   ],
   "source": [
    "!grep \"\\n\" KORb6_AKb2_refgenomes_BOWTIEto_ACod_intersect_sort_unique.bed | wc -l"
   ]
  },
  {
   "cell_type": "markdown",
   "metadata": {},
   "source": [
    "What if I use the flag \"unique\"?"
   ]
  },
  {
   "cell_type": "code",
   "execution_count": 11,
   "metadata": {
    "collapsed": false
   },
   "outputs": [],
   "source": [
    "!bedtools intersect -a AKb2_filtered_refgenome_BOWTIEto_ACod.bam \\\n",
    "-b KORb6_filtered_refgenome_BOWTIEto_ACod.bam \\\n",
    "-wa \\\n",
    "-wb \\\n",
    "-names Korea \\\n",
    "-u \\\n",
    "-bed >> KORb6_AKb2_refgenomes_BOWTIEto_ACod_intersect_unique.bed"
   ]
  },
  {
   "cell_type": "code",
   "execution_count": 12,
   "metadata": {
    "collapsed": false
   },
   "outputs": [
    {
     "name": "stdout",
     "output_type": "stream",
     "text": [
      "13922\r\n"
     ]
    }
   ],
   "source": [
    "!grep \"\\n\" KORb6_AKb2_refgenomes_BOWTIEto_ACod_intersect_unique.bed | wc -l"
   ]
  },
  {
   "cell_type": "markdown",
   "metadata": {},
   "source": [
    "Well, at least I know that the flag \"unique\" and the pipe to \"unique\" do the same thing...."
   ]
  },
  {
   "cell_type": "markdown",
   "metadata": {},
   "source": [
    "<br>\n",
    "Crap - I just realized something. What if I need to go back to the original .sam files, filter out any sequences from BOWTIE 2 that aligned to the Atlantic cod genome more than once, and THEN use `bedtools intersect -u`?\n",
    "\n",
    "<br>\n",
    "\n",
    "### Unique alignments: Alaskan and Korean to Atlantic cod genome >> filter for unique alignments >> Alaskan and Korean cod to each other \n",
    "\n",
    "<br>\n",
    "**filter out sequences that aligned to more than one location in the Atlantic cod genome**\n",
    "\n",
    "I think that I can just do this with some bash lines that will remove any locus that appears more than once. I also need to remove the heading lines. "
   ]
  },
  {
   "cell_type": "code",
   "execution_count": 21,
   "metadata": {
    "collapsed": true
   },
   "outputs": [],
   "source": [
    "!grep -v ^@ AKb2_filtered_refgenome_BOWTIEto_ACod.sam > AKb2_filtered_refgenome_BOWTIEto_ACod_nohead.sam"
   ]
  },
  {
   "cell_type": "code",
   "execution_count": 22,
   "metadata": {
    "collapsed": true
   },
   "outputs": [],
   "source": [
    "!grep -v ^@ KORb6_filtered_refgenome_BOWTIEto_ACod.sam > KORb6_filtered_refgenome_BOWTIEto_ACod_nohead.sam"
   ]
  },
  {
   "cell_type": "code",
   "execution_count": 24,
   "metadata": {
    "collapsed": false
   },
   "outputs": [],
   "source": [
    "!awk -F'|' 'NR==FNR{c[$3$4]++;next};c[$1$3$4] > 0' AKb2_filtered_refgenome_BOWTIEto_ACod_nohead.sam KORb6_filtered_refgenome_BOWTIEto_ACod_nohead.sam"
   ]
  },
  {
   "cell_type": "markdown",
   "metadata": {},
   "source": [
    "**convert sam files to bam files**"
   ]
  },
  {
   "cell_type": "code",
   "execution_count": 25,
   "metadata": {
    "collapsed": false
   },
   "outputs": [
    {
     "name": "stdout",
     "output_type": "stream",
     "text": [
      "[E::sam_parse1] missing SAM header\r\n",
      "[W::sam_read1] Parse error at line 1\r\n",
      "[main_samview] truncated file.\r\n"
     ]
    }
   ],
   "source": [
    "#sam to bam\n",
    "!samtools view -bS KORb6_filtered_refgenome_BOWTIEto_ACod_nohead.sam > KORb6_filtered_refgenome_BOWTIEto_ACod_nohead.bam "
   ]
  },
  {
   "cell_type": "markdown",
   "metadata": {},
   "source": [
    "crap. let me go back and use python to concatenate the `no-head` unique files and the header from the original `.sam` file. "
   ]
  },
  {
   "cell_type": "code",
   "execution_count": 27,
   "metadata": {
    "collapsed": true
   },
   "outputs": [],
   "source": [
    "infile = open(\"AKb2_filtered_refgenome_BOWTIEto_ACod_nohead.sam\", \"r\") #this file has only unique loci, but no head\n",
    "headerfile = open(\"AKb2_filtered_refgenome_BOWTIEto_ACod.sam\", \"r\") #this file has all header lines\n",
    "outfile = open(\"AKb2_filtered_refgenome_BOWTIEto_ACod_unique.sam\", \"w\")\n",
    "\n",
    "ref_seqs_retained = []\n",
    "for line in infile:\n",
    "    ref = line.strip().split()[2]\n",
    "    if ref not in ref_seqs_retained:\n",
    "        ref_seqs_retained.append(ref)\n",
    "infile.close()\n",
    "\n",
    "output = \"\"\n",
    "for line in headerfile:\n",
    "    if line.startswith(\"@\"):\n",
    "        linelist = line.strip().split(\":\")\n",
    "        ref = linelist[1].split(\"\\t\")[0]\n",
    "        if ref in ref_seqs_retained:\n",
    "            outfile.write(line)\n",
    "headerfile.close()\n",
    "\n",
    "infile = open(\"AKb2_filtered_refgenome_BOWTIEto_ACod_nohead.sam\", \"r\")\n",
    "for line in infile:\n",
    "    outfile.write(line)\n",
    "infile.close()\n",
    "outfile.close()\n"
   ]
  },
  {
   "cell_type": "code",
   "execution_count": 29,
   "metadata": {
    "collapsed": false
   },
   "outputs": [],
   "source": [
    "!samtools view -bS AKb2_filtered_refgenome_BOWTIEto_ACod_unique.sam > AKb2_filtered_refgenome_BOWTIEto_ACod_unique.bam "
   ]
  },
  {
   "cell_type": "code",
   "execution_count": 30,
   "metadata": {
    "collapsed": true
   },
   "outputs": [],
   "source": [
    "infile = open(\"KORb6_filtered_refgenome_BOWTIEto_ACod_nohead.sam\", \"r\")\n",
    "headerfile = open(\"KORb6_filtered_refgenome_BOWTIEto_ACod.sam\", \"r\")\n",
    "outfile = open(\"KORb6_filtered_refgenome_BOWTIEto_ACod_unique.sam\", \"w\")\n",
    "\n",
    "ref_seqs_retained = []\n",
    "for line in infile:\n",
    "    ref = line.strip().split()[2]\n",
    "    if ref not in ref_seqs_retained:\n",
    "        ref_seqs_retained.append(ref)\n",
    "infile.close()\n",
    "\n",
    "output = \"\"\n",
    "for line in headerfile:\n",
    "    if line.startswith(\"@\"):\n",
    "        linelist = line.strip().split(\":\")\n",
    "        ref = linelist[1].split(\"\\t\")[0]\n",
    "        if ref in ref_seqs_retained:\n",
    "            outfile.write(line)\n",
    "headerfile.close()\n",
    "\n",
    "infile = open(\"KORb6_filtered_refgenome_BOWTIEto_ACod_nohead.sam\", \"r\")\n",
    "for line in infile:\n",
    "    outfile.write(line)\n",
    "infile.close()\n",
    "outfile.close()\n"
   ]
  },
  {
   "cell_type": "code",
   "execution_count": 31,
   "metadata": {
    "collapsed": true
   },
   "outputs": [],
   "source": [
    "!samtools view -bS KORb6_filtered_refgenome_BOWTIEto_ACod_unique.sam > KORb6_filtered_refgenome_BOWTIEto_ACod_unique.bam "
   ]
  },
  {
   "cell_type": "markdown",
   "metadata": {},
   "source": [
    "**use bedtools intersect with the -u flag**\n",
    "\n",
    "Ok, so if I'm using bedtools correctly, this code will: \n",
    "\n",
    "1. Figure out which Alaskan loci map to the Korean loci\n",
    "2. Only retain the first alignments for each Alaskan locus (In other words, just report the fact at least one overlap was found in B)\n",
    "3. Return a file that contains not only the scaffold / contig name, but also the loci names of the Alaskan sequence that was aligned."
   ]
  },
  {
   "cell_type": "code",
   "execution_count": 36,
   "metadata": {
    "collapsed": false
   },
   "outputs": [],
   "source": [
    "!bedtools intersect -a AKb2_filtered_refgenome_BOWTIEto_ACod_unique.bam \\\n",
    "-b KORb6_filtered_refgenome_BOWTIEto_ACod_unique.bam \\\n",
    "-wa \\\n",
    "-wb \\\n",
    "-u \\\n",
    "-bed >> KORb6_AKb2_refgenomes_BOWTIEto_ACod_unique_intersect_AKalignatleastonce.bed"
   ]
  },
  {
   "cell_type": "markdown",
   "metadata": {},
   "source": [
    "**use bedtools intersect with the -wa -wb flag**\n",
    "\n",
    "Ok, so if I'm using bedtools correctly, this code will: \n",
    "\n",
    "1. Figure out which Alaskan loci map to the Korean loci\n",
    "3. Return a file that contains not only the scaffold / contig name, but also the loci names of the Alaskan sequence that was aligned (second) and the name of the Korean sequence that it aligned to (first)."
   ]
  },
  {
   "cell_type": "code",
   "execution_count": 37,
   "metadata": {
    "collapsed": true
   },
   "outputs": [],
   "source": [
    "!bedtools intersect -a AKb2_filtered_refgenome_BOWTIEto_ACod_unique.bam \\\n",
    "-b KORb6_filtered_refgenome_BOWTIEto_ACod_unique.bam \\\n",
    "-wa \\\n",
    "-wb \\\n",
    "-bed >> KORb6_AKb2_refgenomes_BOWTIEto_ACod_unique_intersect_all.bed"
   ]
  },
  {
   "cell_type": "markdown",
   "metadata": {},
   "source": [
    "**remove Alaskan sequences that aligned to more than one Korean sequence (if this happened at all) from the `all` bed file**"
   ]
  },
  {
   "cell_type": "markdown",
   "metadata": {},
   "source": [
    "|   Chromosome/Scaffold Name   |   Start Position (KOR)  |   End Position (KOR)   |   BED name (KOR) | score 0-1000 (KOR) | strand (KOR) | thick start | thick end | item RGB | # exons | exon sizes | exon starts |\n",
    "|:-----:|:-----:|:----:|:-----:|:----:|:-----:|:-----:|:-----:|:-----:|:-----:|:-----:|:-----:|\n",
    "|GeneScaffold_4551\t|470556\t|470647\t|35236\t| 3\t|+\t |470556\t| 470647 |\t0,0,0\t| 1\t| 91, |\t0, | \n",
    "| 0 | 1 | 2 |  3 | 4 | 5 | 6 | 7 | 8 | 9 | 10 | 11 |\n",
    "\n",
    "\n",
    "\n",
    "| Chromosome/Scaffold Name | Start Position (AK) | End Position (AK) | BED name (AK) | score 0-1000 (AK) | strand (AK) |\n",
    "|:-----:|:-----:|:-----:|:-----:|:-----:|:-----:|\n",
    "|GeneScaffold_4551\t| 470419\t| 470560\t| 403\t| 40\t| - |\n",
    "| 12 |  13 | 14 | 15 | 16 | 17 |"
   ]
  },
  {
   "cell_type": "code",
   "execution_count": 1,
   "metadata": {
    "collapsed": false
   },
   "outputs": [
    {
     "data": {
      "text/plain": [
       "u'/mnt/hgfs/Pacific cod/DataAnalysis/PCod-Compare-repo/notebooks'"
      ]
     },
     "execution_count": 1,
     "metadata": {},
     "output_type": "execute_result"
    }
   ],
   "source": [
    "pwd"
   ]
  },
  {
   "cell_type": "code",
   "execution_count": 2,
   "metadata": {
    "collapsed": false
   },
   "outputs": [
    {
     "name": "stdout",
     "output_type": "stream",
     "text": [
      "/mnt/hgfs/Pacific cod/DataAnalysis/PCod-Compare-repo/bowtie_outputs\n"
     ]
    }
   ],
   "source": [
    "cd ../bowtie_outputs/"
   ]
  },
  {
   "cell_type": "code",
   "execution_count": 3,
   "metadata": {
    "collapsed": false
   },
   "outputs": [],
   "source": [
    "infile = open(\"KORb6_AKb2_refgenomes_BOWTIEto_ACod_unique_intersect_all.bed\", \"r\")\n",
    "\n",
    "ak_loci_dict = {}\n",
    "ak_kor_matches = {}\n",
    "\n",
    "for line in infile:\n",
    "    linelist= line.strip().split()\n",
    "    aklocus = linelist[15]\n",
    "    korlocus = linelist[3]\n",
    "    if aklocus not in ak_loci_dict:\n",
    "        ak_loci_dict[aklocus] = 1\n",
    "        ak_kor_matches[aklocus] = [korlocus]\n",
    "    elif aklocus in ak_loci_dict:\n",
    "        count = ak_loci_dict[aklocus]\n",
    "        count += 1\n",
    "        ak_loci_dict[aklocus] = count\n",
    "        korlist = ak_kor_matches[aklocus]\n",
    "        korlist.append(korlocus)\n",
    "        ak_kor_matches[aklocus] = korlist\n",
    "infile.close()"
   ]
  },
  {
   "cell_type": "code",
   "execution_count": 4,
   "metadata": {
    "collapsed": true
   },
   "outputs": [],
   "source": [
    "matches_counts = []\n",
    "for key in ak_loci_dict.keys():\n",
    "    matches_counts.append(ak_loci_dict[key])"
   ]
  },
  {
   "cell_type": "code",
   "execution_count": 5,
   "metadata": {
    "collapsed": true
   },
   "outputs": [],
   "source": [
    "import numpy as np\n",
    "import matplotlib.pyplot as plt"
   ]
  },
  {
   "cell_type": "code",
   "execution_count": 6,
   "metadata": {
    "collapsed": false
   },
   "outputs": [
    {
     "data": {
      "image/png": "[encoded data removed]",
      "text/plain": [
       "<matplotlib.figure.Figure at 0x7fdf6fcb1f50>"
      ]
     },
     "metadata": {},
     "output_type": "display_data"
    }
   ],
   "source": [
    "plt.hist(matches_counts, color = \"darkcyan\")\n",
    "plt.suptitle(\"Number of Korean Loci each Alaskan Loci Matched to\")\n",
    "plt.xlabel(\"# of Korean Loci Matches\")\n",
    "plt.ylabel(\"Frequency\")\n",
    "plt.show()"
   ]
  },
  {
   "cell_type": "code",
   "execution_count": 7,
   "metadata": {
    "collapsed": true
   },
   "outputs": [],
   "source": [
    "plt.close()"
   ]
  },
  {
   "cell_type": "code",
   "execution_count": 10,
   "metadata": {
    "collapsed": false
   },
   "outputs": [
    {
     "name": "stdout",
     "output_type": "stream",
     "text": [
      "['35236']\n"
     ]
    }
   ],
   "source": [
    "# just to check to make sure that I'm doing this right...\n",
    "print ak_kor_matches['403']"
   ]
  },
  {
   "cell_type": "markdown",
   "metadata": {},
   "source": [
    "yay!! It matches the first line of the file!!\n",
    "\n",
    "Ok, so now I want a `.bed` file of only the loci that uniquely align. So I need to filter out by Alaskan locus. "
   ]
  },
  {
   "cell_type": "code",
   "execution_count": 11,
   "metadata": {
    "collapsed": true
   },
   "outputs": [],
   "source": [
    "# make a list of the Alaskan loci that only matched to one Korean locus\n",
    "unique_loci = []\n",
    "duplicate_loci = []\n",
    "for locus in ak_loci_dict.keys():\n",
    "    if ak_loci_dict[locus] == 1:\n",
    "        unique_loci.append(locus)\n",
    "    elif ak_loci_dict[locus] != 1 and locus not in duplicate_loci:\n",
    "        duplicate_loci.append(locus)"
   ]
  },
  {
   "cell_type": "code",
   "execution_count": 12,
   "metadata": {
    "collapsed": true
   },
   "outputs": [],
   "source": [
    "infile = open(\"KORb6_AKb2_refgenomes_BOWTIEto_ACod_unique_intersect_all.bed\", \"r\")\n",
    "unique_outfile = open(\"KORb6_AKb2_refgenomes_BOWTIEto_ACod_unique_intersect_all_filtered.bed\", \"w\")\n",
    "duplicate_outfile = open(\"KORb6_AKb2_refgenomes_BOWTIEto_ACod_unique_intersect_all_duplicates.bed\", \"w\")\n",
    "\n",
    "count = 0 \n",
    "\n",
    "for line in infile:\n",
    "    count += 1\n",
    "    aklocus = line.strip().split()[15]\n",
    "    if aklocus in unique_loci:\n",
    "        unique_outfile.write(line)\n",
    "    elif aklocus in duplicate_loci:\n",
    "        duplicate_outfile.write(line)\n",
    "    else:\n",
    "        print \"error processing locus \", aklocus, \"on line \", count\n",
    "infile.close()\n",
    "unique_outfile.close()\n",
    "duplicate_outfile.close()"
   ]
  },
  {
   "cell_type": "code",
   "execution_count": 13,
   "metadata": {
    "collapsed": false
   },
   "outputs": [
    {
     "name": "stdout",
     "output_type": "stream",
     "text": [
      "9755\r\n"
     ]
    }
   ],
   "source": [
    "!grep \"\\n\" KORb6_AKb2_refgenomes_BOWTIEto_ACod_unique_intersect_all_filtered.bed | wc -l"
   ]
  },
  {
   "cell_type": "markdown",
   "metadata": {},
   "source": [
    "### So I end up with 9,755 loci present in both Alaskan and Korean reference genomes that align (1) uniquely to the Atlantic cod genome, and (2) overlap uniquely to each other.\n",
    "\n",
    "\n",
    "<br>\n",
    "<br>\n",
    "\n",
    "**Let's take a look at the mapping quality scores:**\n",
    "\n",
    "Mapping scores are in columns `4` and `16`. These are the mapping scores for aligning (1) Korean cod to Atlantic cod genome, and (2) Alaskan cod to Atlantic cod genome. \n",
    "\n",
    "Mapping quality scores are carried over from `bowtie 2`. Technically, the score (0-1000) given in a `.bed` file can be any string. However, Natalie and I did some research online and believe that the ones in the `bed intersect` output are from the original `.sam` files put out by `bowtie 2`. Some helpful links about mapping quality scores in `bowtie` and how they connect to the scores put out by `bedtools`: [this thread on bio.sourceforge.net](http://bowtie-bio.sourceforge.net/bowtie2/manual.shtml#the-bowtie2-aligner), [this thread on mapping v. alignment scores](http://seqanswers.com/forums/showthread.php?t=66634), the [bedtools manual- keyword search score](https://media.readthedocs.org/pdf/bedtools/latest/bedtools.pdf), and [this guy's bioinformatics blog](http://www.acgt.me/blog/2014/12/16/understanding-mapq-scores-in-sam-files-does-37-42). \n"
   ]
  },
  {
   "cell_type": "code",
   "execution_count": 1,
   "metadata": {
    "collapsed": false
   },
   "outputs": [
    {
     "data": {
      "text/plain": [
       "u'/mnt/hgfs/Pacific cod/DataAnalysis/PCod-Compare-repo/notebooks'"
      ]
     },
     "execution_count": 1,
     "metadata": {},
     "output_type": "execute_result"
    }
   ],
   "source": [
    "pwd"
   ]
  },
  {
   "cell_type": "code",
   "execution_count": 2,
   "metadata": {
    "collapsed": false
   },
   "outputs": [
    {
     "name": "stdout",
     "output_type": "stream",
     "text": [
      "/mnt/hgfs/Pacific cod/DataAnalysis/PCod-Compare-repo/bowtie_outputs\n"
     ]
    }
   ],
   "source": [
    "cd ../bowtie_outputs/"
   ]
  },
  {
   "cell_type": "markdown",
   "metadata": {},
   "source": [
    "First, for the final filtered bed file"
   ]
  },
  {
   "cell_type": "code",
   "execution_count": 6,
   "metadata": {
    "collapsed": true
   },
   "outputs": [],
   "source": [
    "#open the filtered bed file\n",
    "infile = open(\"KORb6_AKb2_refgenomes_BOWTIEto_ACod_unique_intersect_all_filtered.bed\", \"r\")\n",
    "\n",
    "kor_scores = []\n",
    "ak_scores = []\n",
    "\n",
    "#save each score in its respective list as a number\n",
    "for line in infile: \n",
    "    linelist = line.strip().split()\n",
    "    kor_scores.append(float(linelist[4]))\n",
    "    ak_scores.append(float(linelist[16]))\n",
    "infile.close()"
   ]
  },
  {
   "cell_type": "code",
   "execution_count": 7,
   "metadata": {
    "collapsed": true
   },
   "outputs": [],
   "source": [
    "import matplotlib.pyplot as plt\n",
    "import numpy as np"
   ]
  },
  {
   "cell_type": "code",
   "execution_count": 38,
   "metadata": {
    "collapsed": false
   },
   "outputs": [
    {
     "data": {
      "image/png": "[encoded data removed]",
      "text/plain": [
       "<matplotlib.figure.Figure at 0x7f1280960b10>"
      ]
     },
     "metadata": {},
     "output_type": "display_data"
    }
   ],
   "source": [
    "plt.hist(kor_scores,alpha = 0.5, bins = np.arange(0,50,1), color = \"g\", label = \"kor\")\n",
    "plt.hist(ak_scores,alpha = 0.5, bins = np.arange(0,50,1), color = \"c\", label = \"ak\")\n",
    "plt.legend(loc = \"upper left\")\n",
    "plt.suptitle(\"BED file scores, Alaskan and Korea Final Alignment Seqs\\nUniquely aligned to ACod & Each Other\")\n",
    "plt.xlabel(\"Mapping Quality Score\")\n",
    "plt.show()"
   ]
  },
  {
   "cell_type": "code",
   "execution_count": 39,
   "metadata": {
    "collapsed": true
   },
   "outputs": [],
   "source": [
    "plt.close()"
   ]
  },
  {
   "cell_type": "markdown",
   "metadata": {},
   "source": [
    "Now I want to look at the `.sam` file output scores. "
   ]
  },
  {
   "cell_type": "code",
   "execution_count": 16,
   "metadata": {
    "collapsed": false
   },
   "outputs": [],
   "source": [
    "infile = open(\"KORb6_filtered_refgenome_BOWTIEto_ACod_unique.sam\", \"r\")\n",
    "\n",
    "mapqual_kor = []\n",
    "\n",
    "for line in infile:\n",
    "    if not line.startswith(\"@\"):\n",
    "        score = line.strip().split()[4]\n",
    "        mapqual_kor.append(float(score))\n",
    "infile.close()\n",
    "\n",
    "infile = open(\"AKb2_filtered_refgenome_BOWTIEto_ACod_unique.sam\", \"r\")\n",
    "\n",
    "mapqual_ak = []\n",
    "\n",
    "for line in infile:\n",
    "    if not line.startswith(\"@\"):\n",
    "        score = line.strip().split()[4]\n",
    "        mapqual_ak.append(float(score))\n",
    "infile.close()"
   ]
  },
  {
   "cell_type": "code",
   "execution_count": 40,
   "metadata": {
    "collapsed": false
   },
   "outputs": [
    {
     "data": {
      "image/png": "[encoded data removed]",
      "text/plain": [
       "<matplotlib.figure.Figure at 0x7f12818a3250>"
      ]
     },
     "metadata": {},
     "output_type": "display_data"
    }
   ],
   "source": [
    "plt.hist(mapqual_kor,alpha = 0.5, bins = np.arange(0,50,1), color = \"g\", label = \"kor\")\n",
    "plt.hist(mapqual_ak,alpha = 0.5, bins = np.arange(0,50,1), color = \"c\", label = \"ak\")\n",
    "plt.suptitle(\"SAM mapping quality scores, Alaskan and Korea Seqs\\nUniquely aligned to Atlantic cod\")\n",
    "plt.xlabel(\"Mapping Quality Score\")\n",
    "plt.legend(loc = \"upper left\")\n",
    "plt.show()"
   ]
  },
  {
   "cell_type": "code",
   "execution_count": 41,
   "metadata": {
    "collapsed": true
   },
   "outputs": [],
   "source": [
    "plt.close()"
   ]
  },
  {
   "cell_type": "markdown",
   "metadata": {},
   "source": [
    "Ok, so which of these reads are believably mapped? What does the quality score actually mean?"
   ]
  },
  {
   "cell_type": "code",
   "execution_count": 42,
   "metadata": {
    "collapsed": false
   },
   "outputs": [],
   "source": [
    "x = np.linspace(0.00001,1,10000)\n",
    "y = -10*np.log10(x)"
   ]
  },
  {
   "cell_type": "code",
   "execution_count": 43,
   "metadata": {
    "collapsed": false
   },
   "outputs": [
    {
     "data": {
      "image/png": "[encoded data removed]",
      "text/plain": [
       "<matplotlib.figure.Figure at 0x7f1280e17890>"
      ]
     },
     "metadata": {},
     "output_type": "display_data"
    }
   ],
   "source": [
    "plt.plot(y,x)\n",
    "plt.ylabel(\"Probability the mapping position is wrong\")\n",
    "plt.xlabel(\"SAM mapping quality score\")\n",
    "plt.show()"
   ]
  },
  {
   "cell_type": "code",
   "execution_count": 44,
   "metadata": {
    "collapsed": true
   },
   "outputs": [],
   "source": [
    "plt.close()"
   ]
  },
  {
   "cell_type": "markdown",
   "metadata": {
    "collapsed": true
   },
   "source": [
    "### Create `.sam` files that only contain the Korean or Alaskan loci from the 9,755 sequences above."
   ]
  },
  {
   "cell_type": "markdown",
   "metadata": {},
   "source": [
    "\n",
    "|   Chromosome/Scaffold Name   |   Start Position (KOR)  |   End Position (KOR)   |   BED name (KOR) | score 0-1000 (KOR) | strand (KOR) | thick start | thick end | item RGB | # exons | exon sizes | exon starts |\n",
    "|:-----:|:-----:|:----:|:-----:|:----:|:-----:|:-----:|:-----:|:-----:|:-----:|:-----:|:-----:|\n",
    "|GeneScaffold_4551\t|470556\t|470647\t|35236\t| 3\t|+\t |470556\t| 470647 |\t0,0,0\t| 1\t| 91, |\t0, | \n",
    "| 0 | 1 | 2 |  3 | 4 | 5 | 6 | 7 | 8 | 9 | 10 | 11 |\n",
    "\n",
    "\n",
    "\n",
    "| Chromosome/Scaffold Name | Start Position (AK) | End Position (AK) | BED name (AK) | score 0-1000 (AK) | strand (AK) |\n",
    "|:-----:|:-----:|:-----:|:-----:|:-----:|:-----:|\n",
    "|GeneScaffold_4551\t| 470419\t| 470560\t| 403\t| 40\t| - |\n",
    "| 12 |  13 | 14 | 15 | 16 | 17 |"
   ]
  },
  {
   "cell_type": "code",
   "execution_count": 21,
   "metadata": {
    "collapsed": false
   },
   "outputs": [
    {
     "name": "stdout",
     "output_type": "stream",
     "text": [
      "/mnt/hgfs/Pacific cod/DataAnalysis/PCod-Compare-repo/bowtie_outputs\n"
     ]
    }
   ],
   "source": [
    "cd ../bowtie_outputs/"
   ]
  },
  {
   "cell_type": "code",
   "execution_count": 22,
   "metadata": {
    "collapsed": false
   },
   "outputs": [],
   "source": [
    "#open the filtered bed file\n",
    "infile = open(\"KORb6_AKb2_refgenomes_BOWTIEto_ACod_unique_intersect_all_filtered.bed\", \"r\")\n",
    "#open the sam files that contain loci with unique alignments to the ACod genome\n",
    "aksam_in = open(\"AKb2_filtered_refgenome_BOWTIEto_ACod_unique.sam\", \"r\")\n",
    "korsam_in = open(\"KORb6_filtered_refgenome_BOWTIEto_ACod_unique.sam\", \"r\")\n",
    "#open new sam files that will contain loci with unique alignments to ACod genome AND to opposite PCod population.\n",
    "aksam_out = open(\"AKb2_filtered_refgenome_BOWTIEto_ACod_unique_BEDtoKOR_filtered.sam\", \"w\")\n",
    "korsam_out = open(\"KORb6_filtered_refgenome_BOWTIEto_ACod_unique_BEDtoAK_filtered.sam\", \"w\")\n",
    "#open new sam files that will contain loci filtered out because they do not align to the other PCod population.\n",
    "aksam_out_bad = open(\"AKb2_filtered_refgenome_BOWTIEto_ACod_unique_BEDtoKOR_filteredOUT.sam\", \"w\")\n",
    "korsam_out_bad = open(\"KORb6_filtered_refgenome_BOWTIEto_ACod_unique_BEDtoAK_filteredOUT.sam\", \"w\")\n",
    "\n",
    "\n",
    "count = 0 \n",
    "\n",
    "\n",
    "#initiate lists for each PCod locus to keep in main text of sam file, \n",
    "#and each corresponding ACod locus to keep in heading of sam file\n",
    "akloci_list = []\n",
    "korloci_list = []\n",
    "akref_list = []\n",
    "korref_list = []\n",
    "\n",
    "#add to each list based on final filtered bed file\n",
    "for line in infile:\n",
    "    count += 1\n",
    "    linelist = line.strip().split()\n",
    "    aklocus = linelist[15]\n",
    "    akloci_list.append(aklocus)\n",
    "    korlocus = linelist[3]\n",
    "    korloci_list.append(korlocus)\n",
    "    korref = linelist[0]\n",
    "    korref_list.append(korref)\n",
    "infile.close()\n",
    "\n",
    "#go through the alaskan sam input file and write out only those lines corresponding to PCod / ACod loci found above\n",
    "#Version 2: get references needed from sam file lines\n",
    "maintext = \"\"\n",
    "maintext_bad = \"\"\n",
    "akref_list = []\n",
    "for line in aksam_in:\n",
    "    if not line.startswith(\"@\"):\n",
    "        if line.strip().split()[0] in akloci_list:\n",
    "            maintext += line\n",
    "            ref = line.strip().split()[2]\n",
    "            akref_list.append(ref)\n",
    "        else:\n",
    "            maintext_bad += line\n",
    "aksam_in.close()\n",
    "\n",
    "aksam_in = open(\"AKb2_filtered_refgenome_BOWTIEto_ACod_unique.sam\", \"r\")\n",
    "header = \"\"\n",
    "header_bad = \"\"\n",
    "refs_split = []\n",
    "for line in aksam_in:\n",
    "    if line.startswith(\"@\"):\n",
    "        linelist = line.strip().split(\":\")\n",
    "        ref = linelist[1].split(\"\\t\")[0]\n",
    "        refs_split.append(ref)\n",
    "        if ref in akref_list:\n",
    "            header += line\n",
    "        else:\n",
    "            header_bad += line\n",
    "aksam_out.write(header + maintext)\n",
    "aksam_out_bad.write(header_bad + maintext_bad)\n",
    "aksam_out.close()\n",
    "aksam_out_bad.close()\n",
    "\n",
    "#go through the korean sam input file and write out only those lines corresponding to PCod / ACod loci found above\n",
    "#Version 1: get references needed from bed file lines\n",
    "for line in korsam_in:\n",
    "    if line.startswith(\"@\"):\n",
    "        linelist = line.strip().split(\":\")\n",
    "        ref = linelist[1].split(\"\\t\")[0]\n",
    "        if ref in korref_list:\n",
    "            korsam_out.write(line)\n",
    "        else:\n",
    "            korsam_out_bad.write(line)\n",
    "    else:\n",
    "        if line.strip().split()[0] in korloci_list:\n",
    "            korsam_out.write(line)\n",
    "        else:\n",
    "            korsam_out_bad.write(line)\n",
    "korsam_in.close()\n",
    "korsam_out.close()\n",
    "korsam_out_bad.close()"
   ]
  },
  {
   "cell_type": "code",
   "execution_count": 24,
   "metadata": {
    "collapsed": false
   },
   "outputs": [
    {
     "name": "stdout",
     "output_type": "stream",
     "text": [
      "You are missing  430  reference sequences from your header.\n"
     ]
    }
   ],
   "source": [
    "#make sure every reference name included in the main text of the file is also in the header\n",
    "infile = open(\"AKb2_filtered_refgenome_BOWTIEto_ACod_unique_BEDtoKOR_filtered.sam\", \"r\")\n",
    "\n",
    "refs_needed = []\n",
    "\n",
    "for line in infile:\n",
    "    if not line.startswith(\"@\"):\n",
    "        refs_needed.append(line.strip().split()[2])\n",
    "infile.close()\n",
    "\n",
    "\n",
    "        \n",
    "infile = open(\"AKb2_filtered_refgenome_BOWTIEto_ACod_unique_BEDtoKOR_filtered.sam\", \"r\")\n",
    "\n",
    "refs_included = []\n",
    "\n",
    "for line in infile:\n",
    "    if line.startswith(\"@\"):\n",
    "        linelist = line.strip().split(\":\")\n",
    "        ref = linelist[1].split(\"\\t\")[0]\n",
    "        refs_included.append(ref)\n",
    "infile.close()\n",
    "\n",
    "\n",
    "mismatch = 0\n",
    "for ref in refs_needed:\n",
    "    if ref not in refs_included:\n",
    "        mismatch += 1\n",
    "print \"You are missing \", mismatch, \" reference sequences from your header.\"\n"
   ]
  },
  {
   "cell_type": "code",
   "execution_count": 20,
   "metadata": {
    "collapsed": false
   },
   "outputs": [
    {
     "name": "stdout",
     "output_type": "stream",
     "text": [
      "You are missing  958  reference sequences from your header.\n"
     ]
    }
   ],
   "source": [
    "#make sure every reference name included in the main text of the file is also in the header\n",
    "infile = open(\"KORb6_filtered_refgenome_BOWTIEto_ACod_unique_BEDtoAK_filtered.sam\", \"r\")\n",
    "\n",
    "refs_needed = []\n",
    "\n",
    "for line in infile:\n",
    "    if not line.startswith(\"@\"):\n",
    "        refs_needed.append(line.strip().split()[2])\n",
    "infile.close()\n",
    "\n",
    "\n",
    "        \n",
    "infile = open(\"KORb6_filtered_refgenome_BOWTIEto_ACod_unique_BEDtoAK_filtered.sam\", \"r\")\n",
    "\n",
    "refs_included = []\n",
    "\n",
    "for line in infile:\n",
    "    if line.startswith(\"@\"):\n",
    "        linelist = line.strip().split(\":\")\n",
    "        ref = linelist[1].split(\"\\t\")[0]\n",
    "        refs_included.append(ref)\n",
    "infile.close()\n",
    "\n",
    "\n",
    "mismatch = 0\n",
    "for ref in refs_needed:\n",
    "    if ref not in refs_included:\n",
    "        mismatch += 1\n",
    "print \"You are missing \", mismatch, \" reference sequences from your header.\""
   ]
  },
  {
   "cell_type": "code",
   "execution_count": 29,
   "metadata": {
    "collapsed": true
   },
   "outputs": [],
   "source": [
    "#sam to bam\n",
    "!samtools view -bS AKb2_filtered_refgenome_BOWTIEto_ACod.sam > AKb2_filtered_refgenome_BOWTIEto_ACod.bam"
   ]
  },
  {
   "cell_type": "code",
   "execution_count": 30,
   "metadata": {
    "collapsed": true
   },
   "outputs": [],
   "source": [
    "#sort\n",
    "!samtools sort KORb6_filtered_refgenome_BOWTIEto_ACod.bam -o KORb6_filtered_refgenome_BOWTIEto_ACod_sorted.bam"
   ]
  },
  {
   "cell_type": "code",
   "execution_count": 31,
   "metadata": {
    "collapsed": true
   },
   "outputs": [],
   "source": [
    "#sort\n",
    "!samtools sort AKb2_filtered_refgenome_BOWTIEto_ACod.bam -o AKb2_filtered_refgenome_BOWTIEto_ACod_sorted.bam "
   ]
  },
  {
   "cell_type": "code",
   "execution_count": 33,
   "metadata": {
    "collapsed": true
   },
   "outputs": [],
   "source": [
    "#index\n",
    "!samtools index KORb6_filtered_refgenome_BOWTIEto_ACod_sorted.bam KORb6_filtered_refgenome_BOWTIEto_ACod_sorted.bai"
   ]
  },
  {
   "cell_type": "code",
   "execution_count": 34,
   "metadata": {
    "collapsed": false
   },
   "outputs": [],
   "source": [
    "#index\n",
    "!samtools index AKb2_filtered_refgenome_BOWTIEto_ACod_sorted.bam AKb2_filtered_refgenome_BOWTIEto_ACod_sorted.bai"
   ]
  }
 ],
 "metadata": {
  "anaconda-cloud": {},
  "kernelspec": {
   "display_name": "Python [default]",
   "language": "python",
   "name": "python2"
  },
  "language_info": {
   "codemirror_mode": {
    "name": "ipython",
    "version": 2
   },
   "file_extension": ".py",
   "mimetype": "text/x-python",
   "name": "python",
   "nbconvert_exporter": "python",
   "pygments_lexer": "ipython2",
   "version": "2.7.12"
  }
 },
 "nbformat": 4,
 "nbformat_minor": 1
}
