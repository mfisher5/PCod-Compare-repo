{
 "cells": [
  {
   "cell_type": "markdown",
   "metadata": {},
   "source": [
    "## Why am I getting a lot of missing data in Alaskan samples?\n",
    "\n",
    "\n",
    "When I run my combined dataset using the Korean reference and a minimum stack depth of 10, I end up having a lot of missing genotypes in my Alaskan sample. This is drastically reducing the number of loci retained through filtering. \n",
    "\n",
    "This notebook explores whether this is a result of stack depth - and if it is, if I can reduce stack depth without getting high genotyping error. \n",
    "\n",
    "#### 8/30/2017\n",
    "\n",
    "<br>\n",
    "### (1) Are loci that are non-genotyped in Alaskan samples just absent from those samples? \n",
    "\n",
    "I took a subset of loci from the `populations` output. If the locus was not genotyped in the individual, I checked to see if the locus was missing. \n",
    "\n",
    "I then calculated a percentage: `[num. of loci that are not genotyped because they were missing] / [total num. loci not genotyped in that individual] `\n",
    "\n",
    "<br>\n",
    "<br>\n",
    "![img-code](https://github.com/mfisher5/PCod-Compare-repo/blob/master/notebooks/notebook_pics/old_code.png?raw=true)\n",
    "![img-plot](https://github.com/mfisher5/PCod-Compare-repo/blob/master/notebooks/notebook_pics/old_histogram.png?raw=true)\n"
   ]
  },
  {
   "cell_type": "markdown",
   "metadata": {},
   "source": [
    "#### 8/31/2017\n",
    "\n",
    "#### RERUN code to check that it worked correctly above"
   ]
  },
  {
   "cell_type": "code",
   "execution_count": 2,
   "metadata": {
    "collapsed": false
   },
   "outputs": [
    {
     "data": {
      "text/plain": [
       "u'/mnt/hgfs/Pacific cod/DataAnalysis/PCod-Compare-repo/notebooks'"
      ]
     },
     "execution_count": 2,
     "metadata": {},
     "output_type": "execute_result"
    }
   ],
   "source": [
    "pwd"
   ]
  },
  {
   "cell_type": "code",
   "execution_count": 3,
   "metadata": {
    "collapsed": false
   },
   "outputs": [
    {
     "name": "stdout",
     "output_type": "stream",
     "text": [
      "/mnt/hgfs/Pacific cod/DataAnalysis/PCod-Compare-repo\n"
     ]
    }
   ],
   "source": [
    "cd ../"
   ]
  },
  {
   "cell_type": "code",
   "execution_count": 23,
   "metadata": {
    "collapsed": false
   },
   "outputs": [
    {
     "name": "stdout",
     "output_type": "stream",
     "text": [
      "2000\n"
     ]
    }
   ],
   "source": [
    "## Get the loci of interest -- Create a dictionary of locus: SNP id ##\n",
    "infile = open(\"stacks_b1_wgenome/batch_1.filteredLoci\", \"r\")\n",
    "infile.readline()\n",
    "\n",
    "loci_snp_IDs = {}\n",
    "count = 0\n",
    "for line in infile:\n",
    "    if count < 2000:\n",
    "        locus_snp = line.strip().split()[0]\n",
    "        loci_snp_IDs[locus_snp.split(\"_\")[0]] = locus_snp.split(\"_\")[1]\n",
    "        count += 1\n",
    "    else:\n",
    "        break\n",
    "print len(loci_snp_IDs.keys())\n",
    "infile.close()"
   ]
  },
  {
   "cell_type": "code",
   "execution_count": 25,
   "metadata": {
    "collapsed": false
   },
   "outputs": [],
   "source": [
    "## For each locus, determine if the locus if genotyped in that individual ##\n",
    "## Then determine if the missing genotype is because the locus dne\n",
    "mapfile = open(\"scripts/PopMap_AK_edit.txt\", \"r\")\n",
    "individs = []\n",
    "for line in mapfile:\n",
    "    individs.append(line.strip().split()[0])\n",
    "\n",
    "locus_ids = loci_snp_IDs.keys()\n",
    "\n",
    "all_p_loci_notfound = []\n",
    "\n",
    "for individual in individs:\n",
    "    ## get a list of the loci that are not genotyped in the individual\n",
    "    genfile = open(\"stacks_b1_wgenome/batch_1.filteredLoci\", \"r\")\n",
    "    header_list = genfile.readline().strip().split()\n",
    "    col_index = 0\n",
    "    for sample in header_list:\n",
    "        if sample != individual:\n",
    "            col_index += 1\n",
    "        elif sample == individual:\n",
    "            break\n",
    "    genos_missing = []\n",
    "    for line in genfile:\n",
    "        linelist = line.strip().split()\n",
    "        locus_snp = linelist[0]\n",
    "        locus_id = locus_snp.split(\"_\")[0]\n",
    "        if locus_id in locus_ids:\n",
    "            genotype = linelist[col_index]\n",
    "            if genotype == \"0000\":\n",
    "                genos_missing.append(locus_id)\n",
    "    genfile.close()\n",
    "    ## of the loci that are NOT genotyped, find that locus in the matches file\n",
    "    mfile = open(\"stacks_b1_wgenome/\" + individual + \".matches.tsv\", \"r\")\n",
    "    loci_found = []\n",
    "    for line in mfile:\n",
    "        if not line.startswith(\"#\"):\n",
    "            cat_locus = line.strip().split()[2]\n",
    "            if cat_locus in genos_missing:\n",
    "                loci_found.append(cat_locus)\n",
    "    n_loci_missing = len(genos_missing) - len(loci_found)\n",
    "    p_loci_missing = float(n_loci_missing) / float(len(genos_missing))\n",
    "    all_p_loci_notfound.append(p_loci_missing)\n"
   ]
  },
  {
   "cell_type": "code",
   "execution_count": 26,
   "metadata": {
    "collapsed": true
   },
   "outputs": [],
   "source": [
    "import numpy as np\n",
    "import matplotlib.pyplot as plt"
   ]
  },
  {
   "cell_type": "code",
   "execution_count": 27,
   "metadata": {
    "collapsed": false,
    "scrolled": true
   },
   "outputs": [
    {
     "data": {
      "image/png": "[encoded data removed]",
      "text/plain": [
       "<matplotlib.figure.Figure at 0x7f77d49c4110>"
      ]
     },
     "metadata": {},
     "output_type": "display_data"
    }
   ],
   "source": [
    "plt.hist(all_p_loci_notfound, color = \"darkcyan\", alpha= 0.5)\n",
    "plt.suptitle(\"% of Loci not Genotyped that were Absent from Individual\")\n",
    "plt.xlabel(\"% Loci per Individual\")\n",
    "plt.ylabel(\"# Individuals\")\n",
    "plt.show()"
   ]
  },
  {
   "cell_type": "code",
   "execution_count": 28,
   "metadata": {
    "collapsed": true
   },
   "outputs": [],
   "source": [
    "plt.close()"
   ]
  },
  {
   "cell_type": "markdown",
   "metadata": {},
   "source": [
    "WHY DO THESE GRAPHS NOT MATCH???\n",
    "<br>\n",
    "\n",
    "\n",
    "<br>\n",
    "<br>\n",
    "<br>\n",
    "\n",
    "### (2) Stack depth for alleles in Alaskan samples for a subset of loci\n",
    "\n",
    "I took a subset of loci from the `populations` output, half of which were genotyped in most Alaskan samples and half of which were not genotyped in most Alaskan samples. I then looked at stack depth for alleles at each locus, genotyped v. non-genotyped. "
   ]
  },
  {
   "cell_type": "code",
   "execution_count": null,
   "metadata": {
    "collapsed": true
   },
   "outputs": [],
   "source": [
    "## For each locus, determine if the locus if genotyped in that individual ##\n",
    "## then find the stack depth of each allele at the genotyped snp\n",
    "mapfile = open(\"scripts/PopMap_AK_edit.txt\", \"r\")\n",
    "individs = []\n",
    "for line in mapfile:\n",
    "    individs.append(line.strip().split()[0])\n",
    "\n",
    "locus_ids = loci_snp_IDs.keys()\n",
    "\n",
    "all_stack_depths = []\n",
    "\n",
    "for individual in individs:\n",
    "    ## get a list of the loci that are not genotyped in the individual\n",
    "    genfile = open(\"stacks_b1_wgenome/batch_1.filteredLoci\", \"r\")\n",
    "    header_list = genfile.readline().strip().split()\n",
    "    col_index = 0\n",
    "    for sample in header_list:\n",
    "        if sample != individual:\n",
    "            col_index += 1\n",
    "        elif sample == individual:\n",
    "            break\n",
    "    genos_missing_locus = []\n",
    "    for line in genfile:\n",
    "        linelist = line.strip().split()\n",
    "        locus_snp = linelist[0]\n",
    "        locus_id = locus_snp.split(\"_\")[0]\n",
    "        if locus_id in locus_ids:\n",
    "            snp_id = locus_snp.split(\"_\")[1]\n",
    "            genotype = linelist[col_index]\n",
    "            if genotype == \"0000\":\n",
    "                genos_missing_locus.append(locus_id)\n",
    "    genfile.close()\n",
    "    ## of the loci that are NOT genotyped, get the sample locus id using the matches file\n",
    "    mfile = open(\"stacks_b1_wgenome/\" + individual + \".matches.tsv\", \"r\")\n",
    "    sample_loci_ids = []\n",
    "    for line in mfile:\n",
    "        if not line.startswith(\"#\"):\n",
    "            cat_locus = line.strip().split()[2]\n",
    "            if cat_locus in genos_missing_locus:\n",
    "                sample_locus = line.strip().split()[4]\n",
    "                if sample_locus not in sample_loci_ids:\n",
    "                    sample_loci_ids.append(sample_locus)  \n",
    "    mfile.close()\n",
    "    ## use the sample locus id to look up stack depth for that locus\n",
    "    afile = open(\"stacks_b1_wgenome/\" + individual + \".alleles.tsv\", \"r\")\n",
    "    stack_depths_dict = {}\n",
    "    for line in afile:\n",
    "        if not line.startswith(\"#\"):\n",
    "            linelist = line.strip().split()\n",
    "            if linelist[2] in sample_loci_ids:\n",
    "                if linelist[2] not in stack_depths_dict.keys():\n",
    "                    stack_depths_dict[linelist[2]] = int(linelist[5])\n",
    "                elif linelist[2] in stack_depths_dict.keys():\n",
    "                    old_count = stack_depths_dict[linelist[2]]\n",
    "                    old_count += int(linelist[5])\n",
    "                    stack_depths_dict[linelist[2]] = old_count\n",
    "    afile.close()\n",
    "    for locus in stack_depths_dict.keys():\n",
    "        all_stack_depths.append(stack_depths_dict[locus])"
   ]
  },
  {
   "cell_type": "code",
   "execution_count": 47,
   "metadata": {
    "collapsed": false
   },
   "outputs": [
    {
     "data": {
      "image/png": "[encoded data removed]",
      "text/plain": [
       "<matplotlib.figure.Figure at 0x7f78da19cdd0>"
      ]
     },
     "metadata": {},
     "output_type": "display_data"
    }
   ],
   "source": [
    "plt.hist(all_depth_counts, color = \"darkcyan\", alpha= 0.5)\n",
    "plt.suptitle(\"Stack depths of Loci that were Not Genotyped, by Individual\")\n",
    "plt.xlabel(\"Stack Depth\")\n",
    "plt.ylabel(\"# Loci\")\n",
    "plt.show()"
   ]
  },
  {
   "cell_type": "code",
   "execution_count": 48,
   "metadata": {
    "collapsed": true
   },
   "outputs": [],
   "source": [
    "plt.close()"
   ]
  },
  {
   "cell_type": "code",
   "execution_count": 54,
   "metadata": {
    "collapsed": false
   },
   "outputs": [
    {
     "name": "stdout",
     "output_type": "stream",
     "text": [
      "[37, 24, 28, 18, 40, 26, 36, 49, 45, 120, 28, 123, 39, 31, 20, 24, 62, 147, 64, 31, 36, 35, 38, 21, 38, 57, 59, 42, 15, 30, 16, 52, 28, 24, 17, 42, 18, 34, 822, 34, 23, 52, 44, 45, 63, 18, 53, 39, 37, 48, 53, 97, 13, 29, 19, 43, 31, 72, 37, 32, 22, 43, 24, 35, 35, 24, 85, 29, 49, 42, 48, 26, 49, 39, 41, 41, 43, 24, 31, 21, 37, 16, 58, 35, 24, 27, 45, 34, 12, 22, 29, 22, 28, 63, 356, 52, 37, 16, 34, 25, 36, 40, 15, 34, 32, 48, 36, 46, 28, 36, 46, 15, 33, 31, 30, 42, 15, 63, 30, 44, 32, 116, 40, 22, 31, 41, 44, 21, 37, 117, 29, 16, 20, 11, 86, 15, 28, 39, 53, 34, 56, 75, 31, 13, 275, 22, 26, 16, 16, 37, 24, 36, 100, 40, 37, 89, 14, 26, 12, 41, 44, 21, 45, 845, 49, 41, 19, 44, 30, 38, 13, 31, 28, 39, 23, 40, 24, 55, 27, 30, 53, 40, 31, 86, 30, 45, 14, 42, 22, 21, 49, 27, 17, 30, 22, 32, 69, 25, 49, 21, 28, 15, 32, 52, 36, 20, 38, 28, 21, 48, 55, 37, 20, 31, 24, 42, 37, 29, 43, 14, 16, 18, 29, 94, 23, 21, 27, 37, 39, 34, 45, 34, 34, 56, 28, 49, 36, 44, 53, 16, 56, 66, 36, 16, 29, 29, 21, 21, 51, 36, 33, 34, 27, 36, 34, 21, 29, 26, 25, 26, 30, 29, 44, 16, 62, 51, 13, 22, 45, 61, 37, 55, 32, 63, 31, 77, 19, 61, 36, 29, 25, 29, 36, 20, 23, 63, 33, 23, 55, 41, 29, 66, 25, 12, 26, 23, 40, 40, 64, 26, 57, 30]\n"
     ]
    }
   ],
   "source": [
    "print [i for i in all_depth_counts if i > 10]"
   ]
  },
  {
   "cell_type": "code",
   "execution_count": 55,
   "metadata": {
    "collapsed": false
   },
   "outputs": [
    {
     "name": "stdout",
     "output_type": "stream",
     "text": [
      "[120, 123, 147, 822, 356, 116, 117, 275, 845]\n"
     ]
    }
   ],
   "source": [
    "print [i for i in all_depth_counts if i > 100]"
   ]
  },
  {
   "cell_type": "markdown",
   "metadata": {},
   "source": [
    "#### RERUN THE SCRIPT ABOVE TO DOUBLE CHECK OUTPUT\n",
    "\n",
    "I have to rerun the script above because the power went out, and the notebook restarted..."
   ]
  },
  {
   "cell_type": "code",
   "execution_count": 2,
   "metadata": {
    "collapsed": false
   },
   "outputs": [
    {
     "name": "stdout",
     "output_type": "stream",
     "text": [
      "/mnt/hgfs/Pacific cod/DataAnalysis/PCod-Compare-repo\n"
     ]
    }
   ],
   "source": [
    "cd ../"
   ]
  },
  {
   "cell_type": "code",
   "execution_count": 7,
   "metadata": {
    "collapsed": false
   },
   "outputs": [
    {
     "name": "stdout",
     "output_type": "stream",
     "text": [
      "2000\n"
     ]
    }
   ],
   "source": [
    "## Get the loci of interest -- Create a dictionary of locus: SNP id ##\n",
    "infile = open(\"stacks_b1_wgenome/batch_1.filteredLoci\", \"r\")\n",
    "infile.readline()\n",
    "\n",
    "loci_snp_IDs = {}\n",
    "count = 0\n",
    "for line in infile:\n",
    "    if count < 2000:\n",
    "        locus_snp = line.strip().split()[0]\n",
    "        loci_snp_IDs[locus_snp.split(\"_\")[0]] = locus_snp.split(\"_\")[1]\n",
    "        count += 1\n",
    "    else:\n",
    "        break\n",
    "print len(loci_snp_IDs.keys())\n",
    "infile.close()"
   ]
  },
  {
   "cell_type": "code",
   "execution_count": 9,
   "metadata": {
    "collapsed": false
   },
   "outputs": [],
   "source": [
    "## For each locus, determine if the locus if genotyped in that individual ##\n",
    "## then find the stack depth of each allele at the genotyped snp\n",
    "mapfile = open(\"scripts/PopMap_AK_edit.txt\", \"r\")\n",
    "individs = []\n",
    "for line in mapfile:\n",
    "    individs.append(line.strip().split()[0])\n",
    "\n",
    "locus_ids = loci_snp_IDs.keys()\n",
    "\n",
    "all_stack_depths = []\n",
    "\n",
    "for individual in individs:\n",
    "    ## get a list of the loci that are not genotyped in the individual\n",
    "    genfile = open(\"stacks_b1_wgenome/batch_1.filteredLoci\", \"r\")\n",
    "    header_list = genfile.readline().strip().split()\n",
    "    col_index = 0\n",
    "    for sample in header_list:\n",
    "        if sample != individual:\n",
    "            col_index += 1\n",
    "        elif sample == individual:\n",
    "            break\n",
    "    genos_missing_locus = []\n",
    "    for line in genfile:\n",
    "        linelist = line.strip().split()\n",
    "        locus_snp = linelist[0]\n",
    "        locus_id = locus_snp.split(\"_\")[0]\n",
    "        snp_id = locus_snp.split(\"_\")[1]\n",
    "        genotype = linelist[col_index]\n",
    "        if genotype == \"0000\":\n",
    "            genos_missing_locus.append(locus_id)\n",
    "    genfile.close()\n",
    "    ## of the loci that are NOT genotyped, get the sample locus id using the matches file\n",
    "    mfile = open(\"stacks_b1_wgenome/\" + individual + \".matches.tsv\", \"r\")\n",
    "    sample_loci_ids = []\n",
    "    for line in mfile:\n",
    "        if not line.startswith(\"#\"):\n",
    "            cat_locus = line.strip().split()[2]\n",
    "            if cat_locus in genos_missing_locus:\n",
    "                sample_locus = line.strip().split()[4]\n",
    "                if sample_locus not in sample_loci_ids:\n",
    "                    sample_loci_ids.append(sample_locus)  \n",
    "    mfile.close()\n",
    "    ## use the sample locus id to look up stack depth for that locus\n",
    "    afile = open(\"stacks_b1_wgenome/\" + individual + \".alleles.tsv\", \"r\")\n",
    "    stack_depths_dict = {}\n",
    "    for line in afile:\n",
    "        if not line.startswith(\"#\"):\n",
    "            linelist = line.strip().split()\n",
    "            if linelist[2] in sample_loci_ids:\n",
    "                if linelist[2] not in stack_depths_dict.keys():\n",
    "                    stack_depths_dict[linelist[2]] = int(linelist[5])\n",
    "                elif linelist[2] in stack_depths_dict.keys():\n",
    "                    old_count = stack_depths_dict[linelist[2]]\n",
    "                    old_count += int(linelist[5])\n",
    "                    stack_depths_dict[linelist[2]] = old_count\n",
    "    afile.close()\n",
    "    for locus in stack_depths_dict.keys():\n",
    "        all_stack_depths.append(stack_depths_dict[locus])"
   ]
  },
  {
   "cell_type": "code",
   "execution_count": 12,
   "metadata": {
    "collapsed": true
   },
   "outputs": [],
   "source": [
    "import numpy as np\n",
    "import matplotlib.pyplot as plt"
   ]
  },
  {
   "cell_type": "code",
   "execution_count": 14,
   "metadata": {
    "collapsed": false
   },
   "outputs": [
    {
     "data": {
      "image/png": "[encoded data removed]",
      "text/plain": [
       "<matplotlib.figure.Figure at 0x7f78eea0d910>"
      ]
     },
     "metadata": {},
     "output_type": "display_data"
    }
   ],
   "source": [
    "plt.hist(all_stack_depths, color = \"darkcyan\", alpha= 0.5)\n",
    "plt.suptitle(\"Stack depths of Loci that were Not Genotyped, by Individual\")\n",
    "plt.xlabel(\"Stack Depth\")\n",
    "plt.ylabel(\"# Loci\")\n",
    "plt.show()"
   ]
  },
  {
   "cell_type": "code",
   "execution_count": 15,
   "metadata": {
    "collapsed": true
   },
   "outputs": [],
   "source": [
    "plt.close()"
   ]
  },
  {
   "cell_type": "markdown",
   "metadata": {
    "collapsed": true
   },
   "source": [
    "** WTF these are both the SAME scripts why are they producing different results????? **"
   ]
  },
  {
   "cell_type": "code",
   "execution_count": 1,
   "metadata": {
    "collapsed": false
   },
   "outputs": [
    {
     "name": "stdout",
     "output_type": "stream",
     "text": [
      "/mnt/hgfs/Pacific cod/DataAnalysis/PCod-Compare-repo/scripts\n"
     ]
    }
   ],
   "source": [
    "cd ../scripts"
   ]
  },
  {
   "cell_type": "code",
   "execution_count": 3,
   "metadata": {
    "collapsed": false
   },
   "outputs": [
    {
     "name": "stdout",
     "output_type": "stream",
     "text": [
      "/mnt/hgfs/Pacific cod/DataAnalysis/PCod-Compare-repo/scripts/PostStacksFilter_rSNP\n"
     ]
    }
   ],
   "source": [
    "cd PostStacksFilter_rSNP/"
   ]
  },
  {
   "cell_type": "code",
   "execution_count": 9,
   "metadata": {
    "collapsed": false
   },
   "outputs": [
    {
     "name": "stdout",
     "output_type": "stream",
     "text": [
      "this line got fucked up!\n",
      "line  42\n",
      "    ## use the sample locus id to look up stack depth for alleles at that snp\r\n",
      "\n"
     ]
    }
   ],
   "source": [
    "script1 = open(\"loci_missing_genotypes_depth_1.txt\", \"r\")\n",
    "script2 = open(\"loci_missing_genotypes_depth_2.txt\", \"r\")\n",
    "linecount = 0\n",
    "script1_list = script1.readlines()\n",
    "script2_list = script2.readlines()\n",
    "\n",
    "for i in range(0,len(script1_list)):\n",
    "    if script1_list[i] != script2_list[i]:\n",
    "        print \"this line got fucked up!\"\n",
    "        print \"line \", i\n",
    "        print script1_list[i]"
   ]
  },
  {
   "cell_type": "markdown",
   "metadata": {},
   "source": [
    "Ok, so they are definitely the same script.....\n",
    "\n",
    "I'm just going to rewrite the whole thing. See NOTEBOOK 2 "
   ]
  },
  {
   "cell_type": "code",
   "execution_count": null,
   "metadata": {
    "collapsed": true
   },
   "outputs": [],
   "source": []
  }
 ],
 "metadata": {
  "anaconda-cloud": {},
  "kernelspec": {
   "display_name": "Python [default]",
   "language": "python",
   "name": "python2"
  },
  "language_info": {
   "codemirror_mode": {
    "name": "ipython",
    "version": 2
   },
   "file_extension": ".py",
   "mimetype": "text/x-python",
   "name": "python",
   "nbconvert_exporter": "python",
   "pygments_lexer": "ipython2",
   "version": "2.7.12"
  }
 },
 "nbformat": 4,
 "nbformat_minor": 1
}
