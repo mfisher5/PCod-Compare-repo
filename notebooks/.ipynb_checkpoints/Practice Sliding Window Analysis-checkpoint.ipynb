{
 "cells": [
  {
   "cell_type": "markdown",
   "metadata": {},
   "source": [
    "## Sliding Window Analysis (practice)\n",
    "### for Manhattan Plots Fst v. Base Position\n",
    "\n",
    "In this notebook, I will be refining sliding window analysis for my data. \n",
    "\n",
    "\n",
    "<br>\n",
    "\n",
    "Procedure is based on: Hohenlohe PA et al. (2010) PlOsGenetics 6(2):e1000862\n",
    "\n",
    "Scripts were borrowed from: Charlie Waters, Marine Brieuc, Kot Ono\n",
    "\n",
    "<br>\n",
    "\n",
    "Programs used: `R v3.4.0`, `python v2.7`\n",
    "\n",
    "\n",
    "<br>\n",
    "### Step One: Alignment of Loci to Chromosome and Pairwise FST calculations\n",
    "\n",
    "I completed my alignment of Pacific cod sample data to Linkage Groups in the Atlantic cod chromosome in the Jupyter notebook [Align to ACod Genome - batches 4 & 8](https://github.com/mfisher5/PCod-Compare-repo/blob/master/notebooks/Align%20to%20ACod%20Genome%20-%20Batches%204%20and%208.ipynb)\n",
    "\n",
    "I calculated Fst using Genepop when creating Manhattan Plots, in the Jupyter notebook [Manhattan Plots - Batches 4 and 8](https://github.com/mfisher5/PCod-Compare-repo/blob/master/notebooks/Manhattan%20Plots%20-%20Batches%204%20and%208.ipynb)\n",
    "\n",
    "\n",
    "<br>\n",
    "### Step Two: Prepare input file for R Script\n",
    "\n",
    "The input file needs to be organized like the following:"
   ]
  },
  {
   "cell_type": "code",
   "execution_count": 1,
   "metadata": {},
   "outputs": [
    {
     "name": "stdout",
     "output_type": "stream",
     "text": [
      "/mnt/hgfs/PCod-Compare-repo/analyses/SlidingWindow/Charlie\n"
     ]
    }
   ],
   "source": [
    "cd ../analyses/SlidingWindow/Charlie/"
   ]
  },
  {
   "cell_type": "code",
   "execution_count": 2,
   "metadata": {},
   "outputs": [
    {
     "name": "stdout",
     "output_type": "stream",
     "text": [
      "Locus\tfst\tchromosome\tposition\r",
      "\r\n",
      "Ot010598_Ots01p\t-0.0078\tOts01\t0\r",
      "\r\n",
      "Ot018821_Ots01p\t-0.0087\tOts01\t0\r",
      "\r\n",
      "Ot036743_Ots01p\t0.0134\tOts01\t0\r",
      "\r\n",
      "Ot051272_Ots01p\t-0.012\tOts01\t0\r",
      "\r\n",
      "Ot052674_Ots01p\t0.0548\tOts01\t0\r",
      "\r\n",
      "Ot055731_Ots01p\t-0.0059\tOts01\t0\r",
      "\r\n",
      "Ot056394_Ots01p\t0.0581\tOts01\t0\r",
      "\r\n",
      "Ot016214_Ots01p\t-0.0104\tOts01\t0.01\r",
      "\r\n",
      "Ot040238_Ots01p\t0.0034\tOts01\t0.01\r",
      "\r\n"
     ]
    }
   ],
   "source": [
    "!head sliding_window_input_2010seg.txt"
   ]
  },
  {
   "cell_type": "markdown",
   "metadata": {},
   "source": [
    "I have already parsed my .sam file and the `.ST2` file output from `genepop` (see Jupyter notebook [Manhattan Plots - Batches 4 and 8](https://github.com/mfisher5/PCod-Compare-repo/blob/master/notebooks/Manhattan%20Plots%20-%20Batches%204%20and%208.ipynb))\n",
    "\n",
    "<br>\n",
    "This gave me the following files:"
   ]
  },
  {
   "cell_type": "code",
   "execution_count": 3,
   "metadata": {},
   "outputs": [
    {
     "name": "stdout",
     "output_type": "stream",
     "text": [
      "/mnt/hgfs/PCod-Compare-repo/analyses\n"
     ]
    }
   ],
   "source": [
    "cd ../../"
   ]
  },
  {
   "cell_type": "code",
   "execution_count": 4,
   "metadata": {},
   "outputs": [
    {
     "name": "stdout",
     "output_type": "stream",
     "text": [
      "Locus\tLG\tPosition\r\n",
      "3\tLG21\t18027708\r\n",
      "6\tLG10\t5565406\r\n",
      "11\tLG10\t22879220\r\n",
      "16\tLG21\t7743712\r\n",
      "18\tLG04\t17492843\r\n",
      "20\tLG01\t8417786\r\n",
      "36\tLG06\t19545065\r\n",
      "45\tLG08\t19539446\r\n",
      "63\tLG07\t8250504\r\n"
     ]
    }
   ],
   "source": [
    "!head ManhattanPlots/batch_4_filteredMQ_filteredAS_aligned_loci.txt"
   ]
  },
  {
   "cell_type": "code",
   "execution_count": 6,
   "metadata": {},
   "outputs": [
    {
     "name": "stdout",
     "output_type": "stream",
     "text": [
      "Locus\tFst\r\n",
      "23994\t0.0308\r\n",
      "19719\t0.0358\r\n",
      "5259\t0.0157\r\n",
      "3480\t0.2240\r\n",
      "22463\t0.0678\r\n",
      "19716\t0.0850\r\n",
      "16074\t0.0465\r\n",
      "11542\t0.0395\r\n",
      "21633\t0.0138\r\n"
     ]
    }
   ],
   "source": [
    "!head ../stacks_b4_wgenome/batch_4_MB_filteredMAF_filteredLoci50_filteredIndivids_filteredHWE_eastwest_fst_parsed.txt"
   ]
  },
  {
   "cell_type": "markdown",
   "metadata": {},
   "source": [
    "So I can join them using the following code in R:\n",
    "\n",
    "`setwd(\"D:/Pacific cod/DataAnalysis/PCod-Compare-repo/analyses/SlidingWindow\")`\n",
    "\n",
    "`infile <- read.delim(\"../ManhattanPlots/batch_8_filteredMQ_filteredAS_aligned_loci.txt\",header=TRUE)\n",
    "head(infile)`\n",
    "\n",
    "`fstfile <- read.delim(\"../../stacks_b8_wgenome_r05/batch_8_filteredMAF_filteredLoci30_filteredIndivids_filteredHWE_eastwest_fst_parsed.txt\",header=TRUE)\n",
    "head(fstfile)`\n",
    "\n",
    "`install.packages(\"dplyr\"); library(dplyr)`\n",
    "\n",
    "`align_data <- left_join(infile,fstfile)`\n",
    "\n",
    "<br>\n",
    "<br>\n",
    "And then replace the column headers so that they match the headers in Charlie's input file. The order of the columns doesn't matter in the R script for sliding window analysis:\n",
    "\n",
    "`colnames(align_data) <- c(\"Locus\", \"chromosome\", \"position\", \"fst\")`\n",
    " \n",
    " <br>\n",
    " <br>\n",
    " \n",
    "\n",
    "I then want to write out my new data frame to a file:\n",
    "\n",
    "`write.table(align_data, \"batch_8_MB_SLA_input.txt\", quote=FALSE, sep=\"\\t\")`"
   ]
  },
  {
   "cell_type": "code",
   "execution_count": 10,
   "metadata": {},
   "outputs": [
    {
     "data": {
      "text/plain": [
       "u'/mnt/hgfs/PCod-Compare-repo/analyses'"
      ]
     },
     "execution_count": 10,
     "metadata": {},
     "output_type": "execute_result"
    }
   ],
   "source": [
    "pwd"
   ]
  },
  {
   "cell_type": "code",
   "execution_count": 13,
   "metadata": {},
   "outputs": [
    {
     "name": "stdout",
     "output_type": "stream",
     "text": [
      "Locus\tchromosome\tposition\tfst\r",
      "\r\n",
      "1\t3\tLG21\t18027708\t0.039\r",
      "\r\n",
      "2\t6\tLG10\t5565406\t0.0456\r",
      "\r\n",
      "3\t11\tLG10\t22879220\t0.0343\r",
      "\r\n",
      "4\t16\tLG21\t7743712\t0.0414\r",
      "\r\n",
      "5\t18\tLG04\t17492843\t0.9551\r",
      "\r\n",
      "6\t20\tLG01\t8417786\t0.0302\r",
      "\r\n",
      "7\t36\tLG06\t19545065\t0.036\r",
      "\r\n",
      "8\t45\tLG08\t19539446\t0.0161\r",
      "\r\n",
      "9\t63\tLG07\t8250504\t0.1582\r",
      "\r\n"
     ]
    }
   ],
   "source": [
    "!head SlidingWindow/batch_4_MB_SLA_input.txt"
   ]
  },
  {
   "cell_type": "markdown",
   "metadata": {},
   "source": [
    "<br>\n",
    "<br>\n",
    "### Step Three: Choose Parameters for Analysis\n",
    "\n",
    "Sliding window analysis uses a \"kernel-smoothing moving average.\" The width of the window and the weight of each point are defined using a Gaussian function (`exp(-(-p-c)^2/2(sigma^2)`). Bootstrap resampling is used to assign significance values to moving average values of FST (or whatever population-level statistic you are working with).\n",
    "<br>\n",
    "\n",
    "There are three variable parameters that need to be defined: \n",
    "\n",
    "1. Sigma - the variance in the Gaussian function. The weighted average window is truncated at `3*sigma` for computational efficiency. Hohenlohe et al. (2010) used a sigma = 150 kb\n",
    "2. Step size - how many base pairs the window moves over before it repeats the calculation of a weighted average. In the R code, \"divisions\" is specified instead of step side. Hohenlohe et al. (2010) used a step size = 100 kb. *with a step size of 100kb, and about 20 million base pairs per linkage group, Hohenlohe et al. (2010) end up with approximately 200 divisions.*\n",
    "3. Replicates used in bootstrapping - Hohenlohe et al. (2010) tested out 100, 1000, 10000, 1 million, 10 million. Charlie uses 1 million. \n",
    "\n",
    "\n",
    "<br>\n",
    "\n",
    "\n",
    "For my first run through of the analysis, I'm going to use the following for the R code:\n",
    "1. Sigma - 150kb\n",
    "2. Divisions - 200\n",
    "3. Bootstrap replicates - 1 million \n",
    "\n",
    "\n",
    "<br>\n",
    "<br>\n",
    "### Step Four: Run R code \n",
    "\n",
    "[R Script SlidingWindow_MF.R](https://github.com/mfisher5/PCod-Compare-repo/blob/master/analyses/SlidingWindow/SlidingWindow_MF.R)\n",
    "\n",
    "<br>\n",
    "**Original Manhattan Plot:**\n",
    "\n",
    "[img-lg01-manhattan](https://github.com/mfisher5/PCod-Compare-repo/blob/master/analyses/ManhattanPlots/batch_8_manhattan_line_lg01.png?raw=true)\n",
    "\n",
    "<br>\n",
    "\n",
    "**SLIDING WINDOW ANALYSIS Using a sigma = 150kb on LG01:**\n",
    "![img-lg01-150](https://github.com/mfisher5/PCod-Compare-repo/blob/master/analyses/SlidingWindow/batch_8_LG01_SLA_150kb.png?raw=true)\n",
    "\n",
    "<br>\n",
    "**SLIDING WINDOW ANALYSIS Using a sigma = 200kb on LG01:**\n",
    "![img-lg01-200](https://github.com/mfisher5/PCod-Compare-repo/blob/master/analyses/SlidingWindow/batch_8_LG01_SLA_200kb.png?raw=true)\n",
    "\n",
    "<br>\n",
    "**SLIDING WINDOW ANALYSIS Using a sigma = 200kb, divisions = 150 on LG01:**\n",
    "\n",
    "![img-lg01-200-150d](https://github.com/mfisher5/PCod-Compare-repo/blob/master/analyses/SlidingWindow/batch_8_LG01_SLA_200kb_150d.png?raw=true)"
   ]
  },
  {
   "cell_type": "code",
   "execution_count": 1,
   "metadata": {},
   "outputs": [
    {
     "data": {
      "text/plain": [
       "3.9981690162869414"
      ]
     },
     "execution_count": 1,
     "metadata": {},
     "output_type": "execute_result"
    }
   ],
   "source": [
    "d = 150\n",
    "sigma = 200000\n",
    "# sliding window size / min. allowable size for sliding window\n",
    "float(3*sigma) / (float(22510304) / float(d))"
   ]
  },
  {
   "cell_type": "markdown",
   "metadata": {
    "collapsed": true
   },
   "source": [
    "<br>\n",
    "\n",
    "#### Sliding Window Analysis Parameters in the Literature\n",
    "\n",
    "\n",
    "\n",
    "\n",
    "|----Citation----|----Window Size----|----Step Size ----|----# Divisions per Chromosome----|\n",
    "|:--------------:|:------------------:|:----------------:|:-------------------------:|\n",
    "|Hohenlohe et al. (2010) PlOs Gen - stickleback | 200kb | 100kb| ~ 200 |\n",
    "|Larson et al. (2014) Evol. App. - salmon| 5cM | 1cM | ~100-150 (size of LG varies) |\n",
    "|Karlson et al. (2013) Mol. Ecol. - atlantic cod| 4kb | 2kb | NA (concatenated scaffolds of old genome) |\n",
    "|Nadeau et al. (2012) Phil Trans R. - butterflies| 10kb | 2kb | NA (concatenated scaffolds of old genome) |\n",
    "|Johnston et al. (2012) Mol. Ecol. - A salmon| 20 SNPs | NA | NA |\n",
    "|Anderson et al. (2012) PLos - zebrafish| 3 markers | 1 marker | NA |\n",
    "\n",
    "<br>\n",
    "\n",
    "|----Citation----|----Total # SNPs----|----# Loci per Chromosome ----|\n",
    "|:--------------:|:------------------:|:----------------:|:-------------------------:|\n",
    "|Hohenlohe et al. (2010) PlOs Gen| 45,000 | NA |\n",
    "|Larson et al. (2014) Evol. App.| 10,944 | NA |\n",
    "|Karlson et al. (2013) Mol. Ecol.| 321,342 | NA |\n",
    "|Johnston et al. (2012) Mol. Ecol. - A salmon| 4,353 | NA |\n",
    "|Anderson et al. (2012) PLos - zebrafish| ~36,000 | NA |\n",
    "\n",
    "<br>\n",
    "\n",
    "*notes:*\n",
    "* Larson et al. (2010) also required at least two SNPs present in window to run analysis. \n",
    "* Nadeau et al. (2012) removed all moving averages \"in which more than 90 per cent of the data were missing (i.e. less than 1 kb were present)\""
   ]
  },
  {
   "cell_type": "code",
   "execution_count": null,
   "metadata": {
    "collapsed": true
   },
   "outputs": [],
   "source": []
  }
 ],
 "metadata": {
  "kernelspec": {
   "display_name": "Python 2",
   "language": "python",
   "name": "python2"
  },
  "language_info": {
   "codemirror_mode": {
    "name": "ipython",
    "version": 2
   },
   "file_extension": ".py",
   "mimetype": "text/x-python",
   "name": "python",
   "nbconvert_exporter": "python",
   "pygments_lexer": "ipython2",
   "version": "2.7.13"
  }
 },
 "nbformat": 4,
 "nbformat_minor": 2
}
