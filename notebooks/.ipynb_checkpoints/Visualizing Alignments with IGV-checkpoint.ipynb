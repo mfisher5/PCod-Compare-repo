{
 "cells": [
  {
   "cell_type": "markdown",
   "metadata": {},
   "source": [
    "## Visualizing alignments with IGV\n",
    "\n",
    "#### 7/21/2017\n",
    "\n",
    "\n",
    "### IGV \n",
    "or Integrated Genomics Viewer, is a \"high-performance visualization tool for interactive exploration of large, integrated genomic datasets. It supports a wide variety of data types, including array-based and next-generation sequence data, and genomic annotations.\" It can be downloaded [here](http://software.broadinstitute.org/software/igv/download). I am using version `2.3.97`. \n",
    "\n",
    "\n",
    "\n",
    "### Objective: \n",
    "Visualize alignment of Alaskan and Pacific cod data to the Atlantic cod genome. I have created two fasta files that contain the consensus sequences for all loci retained after all filtering steps (MAF, missing data, HWE). Each population has its own file; there are `2945` sequences in the Alaskan fasta file (batch 2), and `6637` in the Korean fasta file (batch 6). I want to see how these files align to the Atlantic cod genome relative to each other.\n",
    "\n",
    "\n",
    "\n",
    "\n",
    "### Prep: \n",
    "\n",
    "**(1) Download and unzip IGV** - for now, I have the IGV executable in `Downloads` because I'm short on space on my drive. \n",
    "\n",
    "**(2) Load in Atlantic cod genome** - I had previously downloaded the Atlantic cod genome from Ensembl (see [this]() notebook). I used `Genomes >> Load Genome from File` on the top tool bar in the IGV gui to load in the Atlantic cod genome's fasta file. \n",
    "\n",
    "![IGV_img](https://github.com/mfisher5/PCod-Compare-repo/blob/master/notebooks/notebook_pics/IGV_loadgenome.png?raw=true)\n",
    "\n",
    "*Note that in order to actually see the sequences, you have to select a chromosome or scaffold from the top dropdown menu, and then zoom way in from kilo-basepairs. The sequence information shows up at about 1,286bp, but it is more readable when you zoom in to 50-150 bp *\n",
    "\n",
    "![IGV_zoomed_img](https://github.com/mfisher5/PCod-Compare-repo/blob/master/notebooks/notebook_pics/IGV_zoomed.png?raw=true)\n",
    "\n",
    "<br>\n",
    "\n",
    "<br>\n",
    "\n",
    "\n",
    "### Step 1: Use BOWTIE 2 to align Alaskan and Korean cod to Atlantic cod genome\n",
    "\n",
    "Using BOWTIE 2 allows you to output a `.sam` file, a filetype supported by IGV (it does not support the fasta files that come out f BLAST alignments). BOWTIE 2, unlike BOWTIE 1, allows for gapped alignments. "
   ]
  },
  {
   "cell_type": "code",
   "execution_count": 1,
   "metadata": {
    "collapsed": false
   },
   "outputs": [
    {
     "data": {
      "text/plain": [
       "u'/mnt/hgfs/Pacific cod/DataAnalysis/PCod-Compare-repo/notebooks'"
      ]
     },
     "execution_count": 1,
     "metadata": {},
     "output_type": "execute_result"
    }
   ],
   "source": [
    "pwd"
   ]
  },
  {
   "cell_type": "markdown",
   "metadata": {},
   "source": [
    "#### Build bowtie database with Atlantic cod genome"
   ]
  },
  {
   "cell_type": "code",
   "execution_count": 2,
   "metadata": {
    "collapsed": false
   },
   "outputs": [
    {
     "name": "stdout",
     "output_type": "stream",
     "text": [
      "/mnt/hgfs/Pacific cod/DataAnalysis/PCod-Compare-repo\n"
     ]
    }
   ],
   "source": [
    "cd ../"
   ]
  },
  {
   "cell_type": "code",
   "execution_count": 3,
   "metadata": {
    "collapsed": false,
    "scrolled": true
   },
   "outputs": [
    {
     "name": "stdout",
     "output_type": "stream",
     "text": [
      "\u001b[0m\u001b[34;42mACod_reference\u001b[0m/  \u001b[34;42mbowtie2-2.3.2-legacy\u001b[0m/  \u001b[34;42mnotebooks\u001b[0m/\r\n",
      "\u001b[34;42mblast_outputs\u001b[0m/   \u001b[34;42mfasta_inputs\u001b[0m/          \u001b[34;42mscripts\u001b[0m/\r\n"
     ]
    }
   ],
   "source": [
    "ls"
   ]
  },
  {
   "cell_type": "code",
   "execution_count": 6,
   "metadata": {
    "collapsed": false,
    "scrolled": true
   },
   "outputs": [
    {
     "name": "stdout",
     "output_type": "stream",
     "text": [
      "Settings:\n",
      "  Output files: \"ACod_reference/Gadus_morhua.*.bt2\"\n",
      "  Line rate: 6 (line is 64 bytes)\n",
      "  Lines per side: 1 (side is 64 bytes)\n",
      "  Offset rate: 4 (one in 16)\n",
      "  FTable chars: 10\n",
      "  Strings: unpacked\n",
      "  Max bucket size: default\n",
      "  Max bucket size, sqrt multiplier: default\n",
      "  Max bucket size, len divisor: 4\n",
      "  Difference-cover sample period: 1024\n",
      "  Endianness: little\n",
      "  Actual local endianness: little\n",
      "  Sanity checking: disabled\n",
      "  Assertions: disabled\n",
      "  Random seed: 0\n",
      "  Sizeofs: void*:8, int:4, long:8, size_t:8\n",
      "Input files DNA, FASTA:\n",
      "  ACod_reference/Gadus_morhua.gadMor1.dna.toplevel.fa\n",
      "Building a SMALL index\n",
      "Reading reference sizes\n",
      "  Time reading reference sizes: 00:00:07\n",
      "Calculating joined length\n",
      "Writing header\n",
      "Reserving space for joined string\n",
      "Joining reference sequences\n",
      "  Time to join reference sequences: 00:00:04\n",
      "bmax according to bmaxDivN setting: 152005464\n",
      "Using parameters --bmax 114004098 --dcv 1024\n",
      "  Doing ahead-of-time memory usage test\n",
      "  Passed!  Constructing with these parameters: --bmax 114004098 --dcv 1024\n",
      "Constructing suffix-array element generator\n",
      "Building DifferenceCoverSample\n",
      "  Building sPrime\n",
      "  Building sPrimeOrder\n",
      "  V-Sorting samples\n",
      "  V-Sorting samples time: 00:00:12\n",
      "  Allocating rank array\n",
      "  Ranking v-sort output\n",
      "  Ranking v-sort output time: 00:00:03\n",
      "  Invoking Larsson-Sadakane on ranks\n",
      "  Invoking Larsson-Sadakane on ranks time: 00:00:06\n",
      "  Sanity-checking and returning\n",
      "Building samples\n",
      "Reserving space for 12 sample suffixes\n",
      "Generating random suffixes\n",
      "QSorting 12 sample offsets, eliminating duplicates\n",
      "QSorting sample offsets, eliminating duplicates time: 00:00:00\n",
      "Multikey QSorting 12 samples\n",
      "  (Using difference cover)\n",
      "  Multikey QSorting samples time: 00:00:00\n",
      "Calculating bucket sizes\n",
      "  Binary sorting into buckets\n",
      "  10%\n",
      "  20%\n",
      "  30%\n",
      "  40%\n",
      "  50%\n",
      "  60%\n",
      "  70%\n",
      "  80%\n",
      "  90%\n",
      "  100%\n",
      "  Binary sorting into buckets time: 00:00:17\n",
      "Splitting and merging\n",
      "  Splitting and merging time: 00:00:00\n",
      "Avg bucket size: 8.68603e+07 (target: 114004097)\n",
      "Converting suffix-array elements to index image\n",
      "Allocating ftab, absorbFtab\n",
      "Entering Ebwt loop\n",
      "Getting block 1 of 7\n",
      "  Reserving size (114004098) for bucket\n",
      "  Calculating Z arrays\n",
      "  Calculating Z arrays time: 00:00:00\n",
      "  Entering block accumulator loop:\n",
      "  10%\n",
      "  20%\n",
      "  30%\n",
      "  40%\n",
      "  50%\n",
      "  60%\n",
      "  70%\n",
      "  80%\n",
      "  90%\n",
      "  100%\n",
      "  Block accumulator loop time: 00:00:04\n",
      "  Sorting block of length 86658270\n",
      "  (Using difference cover)\n",
      "  Sorting block time: 00:00:38\n",
      "Returning block of 86658271\n",
      "Getting block 2 of 7\n",
      "  Reserving size (114004098) for bucket\n",
      "  Calculating Z arrays\n",
      "  Calculating Z arrays time: 00:00:00\n",
      "  Entering block accumulator loop:\n",
      "  10%\n",
      "  20%\n",
      "  30%\n",
      "  40%\n",
      "  50%\n",
      "  60%\n",
      "  70%\n",
      "  80%\n",
      "  90%\n",
      "  100%\n",
      "  Block accumulator loop time: 00:00:07\n",
      "  Sorting block of length 99938915\n",
      "  (Using difference cover)\n",
      "  Sorting block time: 00:00:43\n",
      "Returning block of 99938916\n",
      "Getting block 3 of 7\n",
      "  Reserving size (114004098) for bucket\n",
      "  Calculating Z arrays\n",
      "  Calculating Z arrays time: 00:00:00\n",
      "  Entering block accumulator loop:\n",
      "  10%\n",
      "  20%\n",
      "  30%\n",
      "  40%\n",
      "  50%\n",
      "  60%\n",
      "  70%\n",
      "  80%\n",
      "  90%\n",
      "  100%\n",
      "  Block accumulator loop time: 00:00:06\n",
      "  Sorting block of length 89166367\n",
      "  (Using difference cover)\n",
      "  Sorting block time: 00:00:40\n",
      "Returning block of 89166368\n",
      "Getting block 4 of 7\n",
      "  Reserving size (114004098) for bucket\n",
      "  Calculating Z arrays\n",
      "  Calculating Z arrays time: 00:00:00\n",
      "  Entering block accumulator loop:\n",
      "  10%\n",
      "  20%\n",
      "  30%\n",
      "  40%\n",
      "  50%\n",
      "  60%\n",
      "  70%\n",
      "  80%\n",
      "  90%\n",
      "  100%\n",
      "  Block accumulator loop time: 00:00:07\n",
      "  Sorting block of length 113523636\n",
      "  (Using difference cover)\n",
      "  Sorting block time: 00:00:55\n",
      "Returning block of 113523637\n",
      "Getting block 5 of 7\n",
      "  Reserving size (114004098) for bucket\n",
      "  Calculating Z arrays\n",
      "  Calculating Z arrays time: 00:00:00\n",
      "  Entering block accumulator loop:\n",
      "  10%\n",
      "  20%\n",
      "  30%\n",
      "  40%\n",
      "  50%\n",
      "  60%\n",
      "  70%\n",
      "  80%\n",
      "  90%\n",
      "  100%\n",
      "  Block accumulator loop time: 00:00:06\n",
      "  Sorting block of length 77589086\n",
      "  (Using difference cover)\n",
      "  Sorting block time: 00:00:36\n",
      "Returning block of 77589087\n",
      "Getting block 6 of 7\n",
      "  Reserving size (114004098) for bucket\n",
      "  Calculating Z arrays\n",
      "  Calculating Z arrays time: 00:00:00\n",
      "  Entering block accumulator loop:\n",
      "  10%\n",
      "  20%\n",
      "  30%\n",
      "  40%\n",
      "  50%\n",
      "  60%\n",
      "  70%\n",
      "  80%\n",
      "  90%\n",
      "  100%\n",
      "  Block accumulator loop time: 00:00:05\n",
      "  Sorting block of length 51994946\n",
      "  (Using difference cover)\n",
      "  Sorting block time: 00:00:23\n",
      "Returning block of 51994947\n",
      "Getting block 7 of 7\n",
      "  Reserving size (114004098) for bucket\n",
      "  Calculating Z arrays\n",
      "  Calculating Z arrays time: 00:00:00\n",
      "  Entering block accumulator loop:\n",
      "  10%\n",
      "  20%\n",
      "  30%\n",
      "  40%\n",
      "  50%\n",
      "  60%\n",
      "  70%\n",
      "  80%\n",
      "  90%\n",
      "  100%\n",
      "  Block accumulator loop time: 00:00:04\n",
      "  Sorting block of length 89150633\n",
      "  (Using difference cover)\n",
      "  Sorting block time: 00:00:41\n",
      "Returning block of 89150634\n",
      "Exited Ebwt loop\n",
      "fchr[A]: 0\n",
      "fchr[C]: 166455558\n",
      "fchr[G]: 304471366\n",
      "fchr[T]: 443451205\n",
      "fchr[$]: 608021859\n",
      "Exiting Ebwt::buildToDisk()\n",
      "Returning from initFromVector\n",
      "Wrote 238115425 bytes to primary EBWT file: ACod_reference/Gadus_morhua.1.bt2\n",
      "Wrote 152005472 bytes to secondary EBWT file: ACod_reference/Gadus_morhua.2.bt2\n",
      "Re-opening _in1 and _in2 as input streams\n",
      "Returning from Ebwt constructor\n",
      "Headers:\n",
      "    len: 608021859\n",
      "    bwtLen: 608021860\n",
      "    sz: 152005465\n",
      "    bwtSz: 152005465\n",
      "    lineRate: 6\n",
      "    offRate: 4\n",
      "    offMask: 0xfffffff0\n",
      "    ftabChars: 10\n",
      "    eftabLen: 20\n",
      "    eftabSz: 80\n",
      "    ftabLen: 1048577\n",
      "    ftabSz: 4194308\n",
      "    offsLen: 38001367\n",
      "    offsSz: 152005468\n",
      "    lineSz: 64\n",
      "    sideSz: 64\n",
      "    sideBwtSz: 48\n",
      "    sideBwtLen: 192\n",
      "    numSides: 3166781\n",
      "    numLines: 3166781\n",
      "    ebwtTotLen: 202673984\n",
      "    ebwtTotSz: 202673984\n",
      "    color: 0\n",
      "    reverse: 0\n",
      "Total time for call to driver() for forward index: 00:08:26\n",
      "Reading reference sizes\n",
      "  Time reading reference sizes: 00:00:07\n",
      "Calculating joined length\n",
      "Writing header\n",
      "Reserving space for joined string\n",
      "Joining reference sequences\n",
      "  Time to join reference sequences: 00:00:03\n",
      "  Time to reverse reference sequence: 00:00:01\n",
      "bmax according to bmaxDivN setting: 152005464\n",
      "Using parameters --bmax 114004098 --dcv 1024\n",
      "  Doing ahead-of-time memory usage test\n",
      "  Passed!  Constructing with these parameters: --bmax 114004098 --dcv 1024\n",
      "Constructing suffix-array element generator\n",
      "Building DifferenceCoverSample\n",
      "  Building sPrime\n",
      "  Building sPrimeOrder\n",
      "  V-Sorting samples\n",
      "  V-Sorting samples time: 00:00:11\n",
      "  Allocating rank array\n",
      "  Ranking v-sort output\n",
      "  Ranking v-sort output time: 00:00:04\n",
      "  Invoking Larsson-Sadakane on ranks\n",
      "  Invoking Larsson-Sadakane on ranks time: 00:00:06\n",
      "  Sanity-checking and returning\n",
      "Building samples\n",
      "Reserving space for 12 sample suffixes\n",
      "Generating random suffixes\n",
      "QSorting 12 sample offsets, eliminating duplicates\n",
      "QSorting sample offsets, eliminating duplicates time: 00:00:00\n",
      "Multikey QSorting 12 samples\n",
      "  (Using difference cover)\n",
      "  Multikey QSorting samples time: 00:00:00\n",
      "Calculating bucket sizes\n",
      "  Binary sorting into buckets\n",
      "  10%\n",
      "  20%\n",
      "  30%\n",
      "  40%\n",
      "  50%\n",
      "  60%\n",
      "  70%\n",
      "  80%\n",
      "  90%\n",
      "  100%\n",
      "  Binary sorting into buckets time: 00:00:16\n",
      "Splitting and merging\n",
      "  Splitting and merging time: 00:00:00\n",
      "Split 1, merged 7; iterating...\n",
      "  Binary sorting into buckets\n",
      "  10%\n",
      "  20%\n",
      "  30%\n",
      "  40%\n",
      "  50%\n",
      "  60%\n",
      "  70%\n",
      "  80%\n",
      "  90%\n",
      "  100%\n",
      "  Binary sorting into buckets time: 00:00:14\n",
      "Splitting and merging\n",
      "  Splitting and merging time: 00:00:00\n",
      "Split 1, merged 0; iterating...\n",
      "  Binary sorting into buckets\n",
      "  10%\n",
      "  20%\n",
      "  30%\n",
      "  40%\n",
      "  50%\n",
      "  60%\n",
      "  70%\n",
      "  80%\n",
      "  90%\n",
      "  100%\n",
      "  Binary sorting into buckets time: 00:00:15\n",
      "Splitting and merging\n",
      "  Splitting and merging time: 00:00:00\n",
      "Avg bucket size: 7.60027e+07 (target: 114004097)\n",
      "Converting suffix-array elements to index image\n",
      "Allocating ftab, absorbFtab\n",
      "Entering Ebwt loop\n",
      "Getting block 1 of 8\n",
      "  Reserving size (114004098) for bucket\n",
      "  Calculating Z arrays\n",
      "  Calculating Z arrays time: 00:00:00\n",
      "  Entering block accumulator loop:\n",
      "  10%\n",
      "  20%\n",
      "  30%\n",
      "  40%\n",
      "  50%\n",
      "  60%\n",
      "  70%\n",
      "  80%\n",
      "  90%\n",
      "  100%\n",
      "  Block accumulator loop time: 00:00:03\n",
      "  Sorting block of length 45555087\n",
      "  (Using difference cover)\n",
      "  Sorting block time: 00:00:20\n",
      "Returning block of 45555088\n",
      "Getting block 2 of 8\n",
      "  Reserving size (114004098) for bucket\n",
      "  Calculating Z arrays\n",
      "  Calculating Z arrays time: 00:00:00\n",
      "  Entering block accumulator loop:\n",
      "  10%\n",
      "  20%\n",
      "  30%\n",
      "  40%\n",
      "  50%\n",
      "  60%\n",
      "  70%\n",
      "  80%\n",
      "  90%\n",
      "  100%\n",
      "  Block accumulator loop time: 00:00:05\n",
      "  Sorting block of length 83895122\n",
      "  (Using difference cover)\n",
      "  Sorting block time: 00:00:38\n",
      "Returning block of 83895123\n",
      "^C\n"
     ]
    }
   ],
   "source": [
    "!bowtie2-build ACod_reference/Gadus_morhua.gadMor1.dna.toplevel.fa ACod_reference/Gadus_morhua"
   ]
  },
  {
   "cell_type": "markdown",
   "metadata": {},
   "source": [
    "#### Align to bowtie db"
   ]
  },
  {
   "cell_type": "code",
   "execution_count": 9,
   "metadata": {
    "collapsed": true
   },
   "outputs": [],
   "source": [
    "!mkdir bowtie_outputs"
   ]
  },
  {
   "cell_type": "code",
   "execution_count": 11,
   "metadata": {
    "collapsed": false
   },
   "outputs": [
    {
     "name": "stdout",
     "output_type": "stream",
     "text": [
      "^C(ERR): bowtie2-align died with signal 2 (INT) \r\n",
      "\r\n"
     ]
    }
   ],
   "source": [
    "!bowtie2 -f \\\n",
    "-x ACod_reference/Gadus_morhua \\\n",
    "-U fasta_inputs/KOR_batch6_FinalFiltered.fa \\\n",
    "-S bowtie_outputs/KORb6_BLASTto_Acod.sam"
   ]
  },
  {
   "cell_type": "markdown",
   "metadata": {},
   "source": [
    "#### *Aside -- need to download and install samtools*\n",
    "\n",
    "To build and install Samtools, 'cd' to the samtools-1.x directory containing\n",
    "the package's source and type the following commands:\n",
    "\n",
    "`./configure` \n",
    "\n",
    "*The './configure' command checks your build environment and allows various optional functionality to be enabled* \n",
    "\n",
    "`make` \n",
    "\n",
    "*The 'make' command builds samtools and various miscellaneous utilities.*\n",
    "\n",
    "`make install` \n",
    "\n",
    "*The 'make install' command installs the samtools executable and various scripts and executables from misc/ and a manual page to /usr/local.*"
   ]
  },
  {
   "cell_type": "code",
   "execution_count": 14,
   "metadata": {
    "collapsed": false
   },
   "outputs": [
    {
     "name": "stdout",
     "output_type": "stream",
     "text": [
      "/home/mfisher5\n"
     ]
    }
   ],
   "source": [
    "cd ~"
   ]
  },
  {
   "cell_type": "code",
   "execution_count": 15,
   "metadata": {
    "collapsed": false
   },
   "outputs": [
    {
     "name": "stdout",
     "output_type": "stream",
     "text": [
      "/home/mfisher5/Downloads/samtools-1.5\n"
     ]
    }
   ],
   "source": [
    "cd Downloads/samtools-1.5/"
   ]
  },
  {
   "cell_type": "code",
   "execution_count": null,
   "metadata": {
    "collapsed": true
   },
   "outputs": [],
   "source": [
    "!./configure"
   ]
  },
  {
   "cell_type": "code",
   "execution_count": null,
   "metadata": {
    "collapsed": true
   },
   "outputs": [],
   "source": [
    "!make"
   ]
  },
  {
   "cell_type": "code",
   "execution_count": 20,
   "metadata": {
    "collapsed": false
   },
   "outputs": [
    {
     "name": "stdout",
     "output_type": "stream",
     "text": [
      "[sudo] password for mfisher5: \n",
      "\n"
     ]
    }
   ],
   "source": [
    "!sudo make install"
   ]
  },
  {
   "cell_type": "markdown",
   "metadata": {},
   "source": [
    "### Step Two: Convert `.sam` to indexed and sorted `.bam` file"
   ]
  },
  {
   "cell_type": "code",
   "execution_count": 21,
   "metadata": {
    "collapsed": false
   },
   "outputs": [
    {
     "name": "stdout",
     "output_type": "stream",
     "text": [
      "/home/mfisher5\n"
     ]
    }
   ],
   "source": [
    "cd ~"
   ]
  },
  {
   "cell_type": "code",
   "execution_count": 22,
   "metadata": {
    "collapsed": false
   },
   "outputs": [
    {
     "name": "stdout",
     "output_type": "stream",
     "text": [
      "/mnt/hgfs/Pacific cod\n"
     ]
    }
   ],
   "source": [
    "cd /mnt/hgfs/Pacific\\ cod"
   ]
  },
  {
   "cell_type": "code",
   "execution_count": 23,
   "metadata": {
    "collapsed": false
   },
   "outputs": [
    {
     "name": "stdout",
     "output_type": "stream",
     "text": [
      "/mnt/hgfs/Pacific cod/DataAnalysis/Pcod-Compare-repo\n"
     ]
    }
   ],
   "source": [
    "cd DataAnalysis/Pcod-Compare-repo"
   ]
  },
  {
   "cell_type": "code",
   "execution_count": 24,
   "metadata": {
    "collapsed": false
   },
   "outputs": [
    {
     "name": "stdout",
     "output_type": "stream",
     "text": [
      "/mnt/hgfs/Pacific cod/DataAnalysis/Pcod-Compare-repo/bowtie_outputs\n"
     ]
    }
   ],
   "source": [
    "cd bowtie_outputs"
   ]
  },
  {
   "cell_type": "code",
   "execution_count": 25,
   "metadata": {
    "collapsed": false
   },
   "outputs": [],
   "source": [
    "!samtools view -bS KORb6_BLASTto_Acod_DD.sam > KORb6_BLASTto_Acod_DD.bam"
   ]
  },
  {
   "cell_type": "markdown",
   "metadata": {},
   "source": [
    "#### First sort, then index, the `.bam` file"
   ]
  },
  {
   "cell_type": "code",
   "execution_count": 29,
   "metadata": {
    "collapsed": false
   },
   "outputs": [
    {
     "name": "stdout",
     "output_type": "stream",
     "text": [
      "\u001b[0m\u001b[01;32mKORb6_BLASTto_Acod_DD.bam\u001b[0m*  \u001b[01;32mKORb6_BLASTto_Acod_DD.sam\u001b[0m*  \u001b[01;32mKORb6_BLASTto_Acod.sam\u001b[0m*\r\n"
     ]
    }
   ],
   "source": [
    "ls"
   ]
  },
  {
   "cell_type": "code",
   "execution_count": 34,
   "metadata": {
    "collapsed": false
   },
   "outputs": [],
   "source": [
    "!samtools sort KORb6_BLASTto_Acod_DD.bam -o KORb6_BLASTto_Acod_sorted.bam #sort"
   ]
  },
  {
   "cell_type": "code",
   "execution_count": 36,
   "metadata": {
    "collapsed": false
   },
   "outputs": [],
   "source": [
    "!samtools index KORb6_BLASTto_Acod_sorted.bam KORb6_BLASTto_Acod_sorted.bai #index."
   ]
  },
  {
   "cell_type": "markdown",
   "metadata": {},
   "source": [
    "*Note that the `.bai` file has to be in the same file as the sorted `.bam` file for IGV to read correctly*"
   ]
  },
  {
   "cell_type": "markdown",
   "metadata": {},
   "source": [
    "### Step Three: Load `.bam` file into IGV\n",
    "\n",
    "This is super easy! Just go to \"File >> Load from file\" and select the `.bam` file. Note how it pops up in the left middle panel. \n",
    "\n",
    "![img-igv-file-loaded]()\n"
   ]
  },
  {
   "cell_type": "markdown",
   "metadata": {},
   "source": [
    "<br>\n",
    "\n",
    "#### 7/25/2017\n",
    "<br>\n",
    "\n",
    "\n",
    "### Exploring alignments\n",
    "\n",
    "I don't have great coverage of the genome with my alignments, so I want to go to a scaffold that has a lot of alignments and look at that. \n",
    "\n",
    "**Find scaffold with a lot of Pacific cod sequence alignments**\n",
    "\n",
    "I am going to use my blast output file for this. note that the default output is: `query seqid -- reference seqid -- percent of identical matches -- alignment length -- # of mismatch -- # of gap openings -- start of alignment in query -- end of alignment in query -- start of alignment in subject -- end of alignment in subject -- evalue -- bitscore`"
   ]
  },
  {
   "cell_type": "code",
   "execution_count": 1,
   "metadata": {
    "collapsed": false
   },
   "outputs": [
    {
     "data": {
      "text/plain": [
       "u'/mnt/hgfs/Pacific cod/DataAnalysis/PCod-Compare-repo/notebooks'"
      ]
     },
     "execution_count": 1,
     "metadata": {},
     "output_type": "execute_result"
    }
   ],
   "source": [
    "pwd"
   ]
  },
  {
   "cell_type": "code",
   "execution_count": 2,
   "metadata": {
    "collapsed": false
   },
   "outputs": [
    {
     "name": "stdout",
     "output_type": "stream",
     "text": [
      "/mnt/hgfs/Pacific cod/DataAnalysis/PCod-Compare-repo/blast_outputs\n"
     ]
    }
   ],
   "source": [
    "cd ../blast_outputs/"
   ]
  },
  {
   "cell_type": "code",
   "execution_count": 12,
   "metadata": {
    "collapsed": false
   },
   "outputs": [],
   "source": [
    "# use dictionary to keep track of how many times each genome scaffold appears in the alignment file\n",
    "myfile = open(\"KORb6_BLASTto_Acod_outfmt6.fa\", \"r\")\n",
    "\n",
    "KOR_align = {}\n",
    "\n",
    "for line in myfile:\n",
    "    scaffold = line.strip().split()[1]\n",
    "    if scaffold not in KOR_align.keys(): \n",
    "        KOR_align[scaffold] = 1\n",
    "    elif scaffold in KOR_align.keys():\n",
    "        count = KOR_align[scaffold]\n",
    "        count += 1\n",
    "        KOR_align[scaffold] = count\n",
    "    \n",
    "myfile.close()"
   ]
  },
  {
   "cell_type": "code",
   "execution_count": 13,
   "metadata": {
    "collapsed": true
   },
   "outputs": [],
   "source": [
    "all_counts = []\n",
    "for seq in KOR_align.keys():\n",
    "    all_counts.append(KOR_align[seq])"
   ]
  },
  {
   "cell_type": "code",
   "execution_count": 14,
   "metadata": {
    "collapsed": true
   },
   "outputs": [],
   "source": [
    "import numpy as np\n",
    "import matplotlib.pyplot as plt"
   ]
  },
  {
   "cell_type": "code",
   "execution_count": 17,
   "metadata": {
    "collapsed": false
   },
   "outputs": [
    {
     "data": {
      "image/png": "[encoded data removed]",
      "text/plain": [
       "<matplotlib.figure.Figure at 0x7f988c2fe350>"
      ]
     },
     "metadata": {},
     "output_type": "display_data"
    }
   ],
   "source": [
    "plt.hist(all_counts, bins = np.arange(0, 200, 5)+0.05, color = \"darkcyan\")\n",
    "plt.suptitle(\"Frequency of alignments per Korean locus (>5)\")\n",
    "plt.xlabel(\"# Alignments\")\n",
    "plt.ylabel(\"Frequency\")\n",
    "plt.show()"
   ]
  },
  {
   "cell_type": "code",
   "execution_count": 8,
   "metadata": {
    "collapsed": true
   },
   "outputs": [],
   "source": [
    "plt.close()"
   ]
  },
  {
   "cell_type": "markdown",
   "metadata": {},
   "source": [
    "Wow! so a few scaffolds are listed more than 150 times in my BLAST alignment file. assuming that this is representative of the BOWTIE alignment output, I'm going to select those scaffolds and take a look in IGV. "
   ]
  },
  {
   "cell_type": "code",
   "execution_count": 20,
   "metadata": {
    "collapsed": false
   },
   "outputs": [],
   "source": [
    "scaffold_list = []\n",
    "for scaffold in KOR_align.keys():\n",
    "    if KOR_align[scaffold] > 100:\n",
    "        scaffold_list.append(scaffold)"
   ]
  },
  {
   "cell_type": "code",
   "execution_count": 21,
   "metadata": {
    "collapsed": false
   },
   "outputs": [
    {
     "name": "stdout",
     "output_type": "stream",
     "text": [
      "['GeneScaffold_3590', 'GeneScaffold_1269']\n"
     ]
    }
   ],
   "source": [
    "print scaffold_list[0:5]"
   ]
  },
  {
   "cell_type": "markdown",
   "metadata": {},
   "source": [
    "So I went to GeneScaffold_3590 and zoomed in on 461,000 bp, since that is where my BLAST output file says that the alignment starts for at least one of the Korean sequences. It looked like this:\n",
    "\n",
    "![img-igv-scaffold3590](https://github.com/mfisher5/PCod-Compare-repo/blob/master/notebooks/notebook_pics/IGV_GeneScaffold_3590_zoomed.png?raw=true)\n",
    "\n",
    "<br>\n",
    "<br>\n",
    "SNPs can also show up in the sequences as color blocks (gray blocks indicate direct match with the reference genome). I found an aligned sequence with a SNP on the same gene scaffold, at ~532,750bp. \n",
    "\n",
    "![img-igv-scaffold3590snp](https://github.com/mfisher5/PCod-Compare-repo/blob/master/notebooks/notebook_pics/IGV_GeneScaffold_3590snp_zoomed.png?raw=true)"
   ]
  },
  {
   "cell_type": "markdown",
   "metadata": {},
   "source": [
    "### Alaskan PCod data\n",
    "\n",
    "I need to repeat the steps above for the Alaskan PCod populations:"
   ]
  },
  {
   "cell_type": "code",
   "execution_count": 22,
   "metadata": {
    "collapsed": false
   },
   "outputs": [
    {
     "name": "stdout",
     "output_type": "stream",
     "text": [
      "/mnt/hgfs/Pacific cod/DataAnalysis/PCod-Compare-repo\n"
     ]
    }
   ],
   "source": [
    "cd ../"
   ]
  },
  {
   "cell_type": "code",
   "execution_count": 24,
   "metadata": {
    "collapsed": false
   },
   "outputs": [
    {
     "name": "stdout",
     "output_type": "stream",
     "text": [
      "2945 reads; of these:\r\n",
      "  2945 (100.00%) were unpaired; of these:\r\n",
      "    267 (9.07%) aligned 0 times\r\n",
      "    2358 (80.07%) aligned exactly 1 time\r\n",
      "    320 (10.87%) aligned >1 times\r\n",
      "90.93% overall alignment rate\r\n"
     ]
    }
   ],
   "source": [
    "# ran at command line\n",
    "!bowtie2 -f \\\n",
    "-x ACod_reference/Gadus_morhua \\\n",
    "-U fasta_inputs/AK_batch2_FinalFiltered.fa \\\n",
    "-S bowtie_outputs/AKb2_BOWTIEto_Acod.sam"
   ]
  },
  {
   "cell_type": "code",
   "execution_count": 25,
   "metadata": {
    "collapsed": false
   },
   "outputs": [
    {
     "name": "stdout",
     "output_type": "stream",
     "text": [
      "/mnt/hgfs/Pacific cod/DataAnalysis/PCod-Compare-repo/bowtie_outputs\n"
     ]
    }
   ],
   "source": [
    "cd bowtie_outputs"
   ]
  },
  {
   "cell_type": "code",
   "execution_count": 27,
   "metadata": {
    "collapsed": false
   },
   "outputs": [],
   "source": [
    "!samtools view -bS AKb2_BOWTIEto_Acod.sam > AKb2_BOWTIEto_Acod.bam #sam to bam"
   ]
  },
  {
   "cell_type": "code",
   "execution_count": 28,
   "metadata": {
    "collapsed": true
   },
   "outputs": [],
   "source": [
    "!samtools sort AKb2_BOWTIEto_Acod.bam -o AKb2_BOWTIEto_Acod_sorted.bam #sort"
   ]
  },
  {
   "cell_type": "code",
   "execution_count": 30,
   "metadata": {
    "collapsed": false
   },
   "outputs": [],
   "source": [
    "!samtools index AKb2_BOWTIEto_Acod_sorted.bam AKb2_BOWTIEto_Acod_sorted.bai #index."
   ]
  },
  {
   "cell_type": "code",
   "execution_count": null,
   "metadata": {
    "collapsed": true
   },
   "outputs": [],
   "source": []
  }
 ],
 "metadata": {
  "kernelspec": {
   "display_name": "Python [default]",
   "language": "python",
   "name": "python2"
  },
  "language_info": {
   "codemirror_mode": {
    "name": "ipython",
    "version": 2
   },
   "file_extension": ".py",
   "mimetype": "text/x-python",
   "name": "python",
   "nbconvert_exporter": "python",
   "pygments_lexer": "ipython2",
   "version": "2.7.12"
  }
 },
 "nbformat": 4,
 "nbformat_minor": 1
}
