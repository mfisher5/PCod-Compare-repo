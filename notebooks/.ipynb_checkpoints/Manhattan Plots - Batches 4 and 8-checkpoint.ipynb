{
 "cells": [
  {
   "cell_type": "markdown",
   "metadata": {},
   "source": [
    "## Manhattan plots: Location on Linkage Group, Location v. FST\n",
    "\n",
    "\n",
    "\n",
    "\n",
    "1. Align final loci to the Atlantic cod genome, and filter for mapping quality (completed)\n",
    "2. Plot locations of loci on linkage groups to see density of alignments\n",
    "3. Calculate FST between east and west\n",
    "4. Plot locations of loci v. FST\n",
    "\n",
    "\n",
    "\n",
    "<br>\n",
    "<br>\n",
    "#### 2/8/2018\n",
    "\n",
    "### Aligned Loci Density\n",
    "\n",
    "\n",
    "#### 1: Create new text file only including locus -- linkage group -- location"
   ]
  },
  {
   "cell_type": "code",
   "execution_count": 1,
   "metadata": {
    "scrolled": true
   },
   "outputs": [
    {
     "data": {
      "text/plain": [
       "u'/mnt/hgfs/PCod-Compare-repo/notebooks'"
      ]
     },
     "execution_count": 1,
     "metadata": {},
     "output_type": "execute_result"
    }
   ],
   "source": [
    "pwd"
   ]
  },
  {
   "cell_type": "code",
   "execution_count": 2,
   "metadata": {},
   "outputs": [
    {
     "name": "stdout",
     "output_type": "stream",
     "text": [
      "/mnt/hgfs/PCod-Compare-repo\n"
     ]
    }
   ],
   "source": [
    "cd ../"
   ]
  },
  {
   "cell_type": "code",
   "execution_count": 3,
   "metadata": {
    "collapsed": true
   },
   "outputs": [],
   "source": [
    "infile = open(\"stacks_b4_wgenome/batch_4_filtered_gadMor2LG_filtered20_filteredAS.sam\", \"r\")\n",
    "outfile = open(\"analyses/ManhattanPlots/batch_4_filteredMQ_filteredAS_aligned_loci.txt\", \"w\")\n",
    "outfile.write(\"Locus\\tLG\\tPosition\\n\")\n",
    "for line in infile:\n",
    "    linelist = line.strip().split()\n",
    "    new_list = [linelist[0], linelist[2], linelist[3]]\n",
    "    outfile.write(\"\\t\".join(new_list) + \"\\n\")\n",
    "infile.close()\n",
    "outfile.close()"
   ]
  },
  {
   "cell_type": "code",
   "execution_count": 4,
   "metadata": {
    "collapsed": true
   },
   "outputs": [],
   "source": [
    "infile = open(\"stacks_b8_wgenome_r05/batch_8_m3_filtered_gadMor2LG_filtered20_filteredAS.sam\", \"r\")\n",
    "outfile = open(\"analyses/ManhattanPlots/batch_8_filteredMQ_filteredAS_aligned_loci.txt\", \"w\")\n",
    "outfile.write(\"Locus\\tLG\\tPosition\\n\")\n",
    "for line in infile:\n",
    "    linelist = line.strip().split()\n",
    "    new_list = [linelist[0], linelist[2], linelist[3]]\n",
    "    outfile.write(\"\\t\".join(new_list) + \"\\n\")\n",
    "infile.close()\n",
    "outfile.close()"
   ]
  },
  {
   "cell_type": "markdown",
   "metadata": {},
   "source": [
    "#### 2: Save total sizes of each linkage group"
   ]
  },
  {
   "cell_type": "code",
   "execution_count": 5,
   "metadata": {
    "collapsed": true
   },
   "outputs": [],
   "source": [
    "infile = open(\"ACod_reference/lg_scaff_lengths.txt\", \"r\")\n",
    "infile.readline() #header\n",
    "lgtl_dict = {}\n",
    "line = infile.readline()\n",
    "while line.startswith(\"LG\"):\n",
    "    lgtl_dict[line.strip().split()[0]] = int(line.strip().split()[1])\n",
    "    line = infile.readline()\n",
    "infile.close()"
   ]
  },
  {
   "cell_type": "code",
   "execution_count": 6,
   "metadata": {},
   "outputs": [
    {
     "name": "stdout",
     "output_type": "stream",
     "text": [
      "22510304\n"
     ]
    }
   ],
   "source": [
    "print lgtl_dict[\"LG21\"]"
   ]
  },
  {
   "cell_type": "markdown",
   "metadata": {},
   "source": [
    "<br>\n",
    "#### 3. How many loci per LG, and the average distance between them?\n",
    "\n",
    "*note that I could not use list comprehension here because of the ValueError \"too many values to unpack\"*\n",
    "\n",
    "\n",
    "#### Batch 4"
   ]
  },
  {
   "cell_type": "code",
   "execution_count": 28,
   "metadata": {
    "scrolled": true
   },
   "outputs": [
    {
     "name": "stdout",
     "output_type": "stream",
     "text": [
      "There are  104  loci aligned to  LG21\n",
      "The average distance (in base pairs) between loci is:  212904.68932 base pairs\n",
      " ---- \n",
      "There are  120  loci aligned to  LG20\n",
      "The average distance (in base pairs) between loci is:  195378.319328 base pairs\n",
      " ---- \n",
      "There are  103  loci aligned to  LG23\n",
      "The average distance (in base pairs) between loci is:  225112.794118 base pairs\n",
      " ---- \n",
      "There are  86  loci aligned to  LG22\n",
      "The average distance (in base pairs) between loci is:  248392.176471 base pairs\n",
      " ---- \n",
      "There are  111  loci aligned to  LG09\n",
      "The average distance (in base pairs) between loci is:  220169.481818 base pairs\n",
      " ---- \n",
      "There are  127  loci aligned to  LG08\n",
      "The average distance (in base pairs) between loci is:  208951.047619 base pairs\n",
      " ---- \n",
      "There are  119  loci aligned to  LG07\n",
      "The average distance (in base pairs) between loci is:  255226.559322 base pairs\n",
      " ---- \n",
      "There are  122  loci aligned to  LG06\n",
      "The average distance (in base pairs) between loci is:  196045.38843 base pairs\n",
      " ---- \n",
      "There are  105  loci aligned to  LG05\n",
      "The average distance (in base pairs) between loci is:  229922.278846 base pairs\n",
      " ---- \n",
      "There are  101  loci aligned to  LG04\n",
      "The average distance (in base pairs) between loci is:  342360.55 base pairs\n",
      " ---- \n",
      "There are  118  loci aligned to  LG03\n",
      "The average distance (in base pairs) between loci is:  245799.264957 base pairs\n",
      " ---- \n",
      "There are  80  loci aligned to  LG02\n",
      "The average distance (in base pairs) between loci is:  289817.620253 base pairs\n",
      " ---- \n",
      "There are  161  loci aligned to  LG01\n",
      "The average distance (in base pairs) between loci is:  174654.4125 base pairs\n",
      " ---- \n",
      "There are  108  loci aligned to  LG18\n",
      "The average distance (in base pairs) between loci is:  200441.158879 base pairs\n",
      " ---- \n",
      "There are  100  loci aligned to  LG19\n",
      "The average distance (in base pairs) between loci is:  206808.939394 base pairs\n",
      " ---- \n",
      "There are  132  loci aligned to  LG14\n",
      "The average distance (in base pairs) between loci is:  220371.946565 base pairs\n",
      " ---- \n",
      "There are  112  loci aligned to  LG15\n",
      "The average distance (in base pairs) between loci is:  219831.342342 base pairs\n",
      " ---- \n",
      "There are  129  loci aligned to  LG16\n",
      "The average distance (in base pairs) between loci is:  238903.101562 base pairs\n",
      " ---- \n",
      "There are  66  loci aligned to  LG17\n",
      "The average distance (in base pairs) between loci is:  270131.753846 base pairs\n",
      " ---- \n",
      "There are  93  loci aligned to  LG10\n",
      "The average distance (in base pairs) between loci is:  256987.891304 base pairs\n",
      " ---- \n",
      "There are  128  loci aligned to  LG11\n",
      "The average distance (in base pairs) between loci is:  218658.133858 base pairs\n",
      " ---- \n",
      "There are  111  loci aligned to  LG12\n",
      "The average distance (in base pairs) between loci is:  239012.472727 base pairs\n",
      " ---- \n",
      "There are  146  loci aligned to  LG13\n",
      "The average distance (in base pairs) between loci is:  169938.841379 base pairs\n",
      " ---- \n",
      "----\n",
      "The overall average distance (in base pairs) between loci is:  229818.268036  base pairs\n",
      "The overall average number of loci aligned per linkage group is:  112.260869565  loci\n"
     ]
    }
   ],
   "source": [
    "outfile = open(\"analyses/ManhattanPlots/batch_4_filteredMQ_filteredAS_alignment_summary.txt\", \"w\")\n",
    "avg_dist_list = []\n",
    "nloci_list = []\n",
    "outfile.write(\"LG\\tn_loci\\tavg_dist\\n\")\n",
    "for lg in lgtl_dict.keys():\n",
    "    new_pos_list = []\n",
    "    infile = open(\"analyses/ManhattanPlots/batch_4_filteredMQ_filteredAS_aligned_loci.txt\", \"r\")\n",
    "    for line in infile:\n",
    "        linelist = line.strip().split()\n",
    "        if linelist[1] == lg:\n",
    "            new_pos_list.append(linelist[2])\n",
    "    infile.close()\n",
    "    nloci_list.append(len(new_pos_list))\n",
    "    print \"There are \", len(new_pos_list), \" loci aligned to \", lg\n",
    "    \n",
    "    pos_list_sorted = sorted(new_pos_list, key=int)\n",
    "    all_distances = []\n",
    "    for i in range(0,len(pos_list_sorted) - 1):\n",
    "        new_dist = int(pos_list_sorted[i+1]) - int(pos_list_sorted[i])\n",
    "        all_distances.append(new_dist)\n",
    "    avg_dist = float(sum(all_distances))/float(len(all_distances))\n",
    "    avg_dist_list.append(avg_dist)\n",
    "    outfile.write(lg + \"\\t\" + str(len(new_pos_list)) + \"\\t\" + str(avg_dist) + \"\\n\")\n",
    "    print \"The average distance (in base pairs) between loci is: \", avg_dist, \"base pairs\"\n",
    "    print \" ---- \"\n",
    "outfile.close()\n",
    "\n",
    "print \"----\"\n",
    "print \"The overall average distance (in base pairs) between loci is: \", float(sum(avg_dist_list))/float(len(avg_dist_list)), \" base pairs\"\n",
    "print \"The overall average number of loci aligned per linkage group is: \", float(sum(nloci_list))/float(len(nloci_list)), \" loci\""
   ]
  },
  {
   "cell_type": "code",
   "execution_count": 18,
   "metadata": {
    "scrolled": true
   },
   "outputs": [
    {
     "data": {
      "image/png": "[encoded data removed]",
      "text/plain": [
       "<matplotlib.figure.Figure at 0x7f27f0a73790>"
      ]
     },
     "metadata": {},
     "output_type": "display_data"
    }
   ],
   "source": [
    "import matplotlib.pyplot as plt\n",
    "import numpy as np\n",
    "infile = open(\"analyses/ManhattanPlots/batch_4_filteredMQ_filteredAS_alignment_summary.txt\", \"r\")\n",
    "infile.readline()\n",
    "distances = []\n",
    "for line in infile:\n",
    "    distances.append(float(line.strip().split()[2]))\n",
    "infile.close()\n",
    "plt.hist(distances)\n",
    "plt.suptitle(\"Average Distance between Aligned Loci - batch 4\")\n",
    "plt.xlabel(\"base pairs\")\n",
    "plt.show()"
   ]
  },
  {
   "cell_type": "code",
   "execution_count": 19,
   "metadata": {
    "collapsed": true
   },
   "outputs": [],
   "source": [
    "plt.close()"
   ]
  },
  {
   "cell_type": "markdown",
   "metadata": {},
   "source": [
    "*For Comparison:* In Sodeland et al. (2016), they found...\n",
    "\n",
    "\"There was an average of 409 SNPs per chromosome, with a maximum of 554 (LG07) and a minimum of 279 (LG19)\"\n",
    "\n",
    "Genomic regions of elevated divergence were detected as: \n",
    "1. 205 SNPs in 13 Mb -- avg distance between = 63414.63 base pairs\n",
    "2. 85 SNPs in 5 Mb -- avg dist = 58823.53 base pairs\n",
    "3. 193 SNPs in 9.5 Mb -- avg dist = 49222.8 base pairs"
   ]
  },
  {
   "cell_type": "markdown",
   "metadata": {},
   "source": [
    "#### Batch 8"
   ]
  },
  {
   "cell_type": "code",
   "execution_count": 29,
   "metadata": {},
   "outputs": [
    {
     "name": "stdout",
     "output_type": "stream",
     "text": [
      "There are  152  loci aligned to  LG21\n",
      "The average distance (in base pairs) between loci is:  147912.496689 base pairs\n",
      " ---- \n",
      "There are  153  loci aligned to  LG20\n",
      "The average distance (in base pairs) between loci is:  158012.894737 base pairs\n",
      " ---- \n",
      "There are  151  loci aligned to  LG23\n",
      "The average distance (in base pairs) between loci is:  153076.7 base pairs\n",
      " ---- \n",
      "There are  142  loci aligned to  LG22\n",
      "The average distance (in base pairs) between loci is:  149739.964539 base pairs\n",
      " ---- \n",
      "There are  171  loci aligned to  LG09\n",
      "The average distance (in base pairs) between loci is:  143915.752941 base pairs\n",
      " ---- \n",
      "There are  165  loci aligned to  LG08\n",
      "The average distance (in base pairs) between loci is:  156345.981707 base pairs\n",
      " ---- \n",
      "There are  175  loci aligned to  LG07\n",
      "The average distance (in base pairs) between loci is:  174536.781609 base pairs\n",
      " ---- \n",
      "There are  152  loci aligned to  LG06\n",
      "The average distance (in base pairs) between loci is:  167038.258278 base pairs\n",
      " ---- \n",
      "There are  169  loci aligned to  LG05\n",
      "The average distance (in base pairs) between loci is:  142332.839286 base pairs\n",
      " ---- \n",
      "There are  160  loci aligned to  LG04\n",
      "The average distance (in base pairs) between loci is:  215321.100629 base pairs\n",
      " ---- \n",
      "There are  172  loci aligned to  LG03\n",
      "The average distance (in base pairs) between loci is:  168178.444444 base pairs\n",
      " ---- \n",
      "There are  142  loci aligned to  LG02\n",
      "The average distance (in base pairs) between loci is:  165998.524823 base pairs\n",
      " ---- \n",
      "There are  212  loci aligned to  LG01\n",
      "The average distance (in base pairs) between loci is:  132759.957346 base pairs\n",
      " ---- \n",
      "There are  153  loci aligned to  LG18\n",
      "The average distance (in base pairs) between loci is:  144369.552632 base pairs\n",
      " ---- \n",
      "There are  113  loci aligned to  LG19\n",
      "The average distance (in base pairs) between loci is:  183674.357143 base pairs\n",
      " ---- \n",
      "There are  206  loci aligned to  LG14\n",
      "The average distance (in base pairs) between loci is:  140823.04878 base pairs\n",
      " ---- \n",
      "There are  188  loci aligned to  LG15\n",
      "The average distance (in base pairs) between loci is:  139691.042781 base pairs\n",
      " ---- \n",
      "There are  178  loci aligned to  LG16\n",
      "The average distance (in base pairs) between loci is:  172766.084746 base pairs\n",
      " ---- \n",
      "There are  102  loci aligned to  LG17\n",
      "The average distance (in base pairs) between loci is:  183157.009901 base pairs\n",
      " ---- \n",
      "There are  143  loci aligned to  LG10\n",
      "The average distance (in base pairs) between loci is:  175566.838028 base pairs\n",
      " ---- \n",
      "There are  212  loci aligned to  LG11\n",
      "The average distance (in base pairs) between loci is:  131539.677725 base pairs\n",
      " ---- \n",
      "There are  143  loci aligned to  LG12\n",
      "The average distance (in base pairs) between loci is:  189072.93662 base pairs\n",
      " ---- \n",
      "There are  188  loci aligned to  LG13\n",
      "The average distance (in base pairs) between loci is:  134022.064171 base pairs\n",
      " ---- \n",
      "----\n",
      "The overall average distance (in base pairs) between loci is:  159558.796068  base pairs\n",
      "The overall average number of loci aligned per linkage group is:  162.695652174  loci\n"
     ]
    }
   ],
   "source": [
    "outfile = open(\"analyses/ManhattanPlots/batch_8_filteredMQ_filteredAS_alignment_summary.txt\", \"w\")\n",
    "outfile.write(\"LG\\tn_loci\\tavg_dist\\n\")\n",
    "avg_dist_list = []\n",
    "nloci_list = []\n",
    "for lg in lgtl_dict.keys():\n",
    "    new_pos_list = []\n",
    "    infile = open(\"analyses/ManhattanPlots/batch_8_filteredMQ_filteredAS_aligned_loci.txt\", \"r\")\n",
    "    for line in infile:\n",
    "        linelist = line.strip().split()\n",
    "        if linelist[1] == lg:\n",
    "            new_pos_list.append(linelist[2])\n",
    "    infile.close()\n",
    "    print \"There are \", len(new_pos_list), \" loci aligned to \", lg\n",
    "    nloci_list.append(len(new_pos_list))\n",
    "    \n",
    "    pos_list_sorted = sorted(new_pos_list, key=int)\n",
    "    all_distances = []\n",
    "    for i in range(0,len(pos_list_sorted) - 1):\n",
    "        new_dist = int(pos_list_sorted[i+1]) - int(pos_list_sorted[i])\n",
    "        all_distances.append(new_dist)\n",
    "    avg_dist = float(sum(all_distances))/float(len(all_distances))\n",
    "    outfile.write(lg + \"\\t\" + str(len(new_pos_list)) + \"\\t\" + str(avg_dist) + \"\\n\")\n",
    "    avg_dist_list.append(avg_dist)\n",
    "    print \"The average distance (in base pairs) between loci is: \", avg_dist, \"base pairs\"\n",
    "    print \" ---- \"\n",
    "outfile.close()\n",
    "\n",
    "\n",
    "print \"----\"\n",
    "print \"The overall average distance (in base pairs) between loci is: \", float(sum(avg_dist_list))/float(len(avg_dist_list)), \" base pairs\"\n",
    "print \"The overall average number of loci aligned per linkage group is: \", float(sum(nloci_list))/float(len(nloci_list)), \" loci\""
   ]
  },
  {
   "cell_type": "code",
   "execution_count": 30,
   "metadata": {},
   "outputs": [
    {
     "data": {
      "image/png": "[encoded data removed]",
      "text/plain": [
       "<matplotlib.figure.Figure at 0x7f27f13bb110>"
      ]
     },
     "metadata": {},
     "output_type": "display_data"
    }
   ],
   "source": [
    "import matplotlib.pyplot as plt\n",
    "import numpy as np\n",
    "infile = open(\"analyses/ManhattanPlots/batch_8_filteredMQ_filteredAS_alignment_summary.txt\", \"r\")\n",
    "infile.readline()\n",
    "distances = []\n",
    "for line in infile:\n",
    "    distances.append(float(line.strip().split()[2]))\n",
    "infile.close()\n",
    "plt.hist(distances)\n",
    "plt.suptitle(\"Average Distance between Aligned Loci - batch 8\")\n",
    "plt.xlabel(\"base pairs\")\n",
    "plt.show()"
   ]
  },
  {
   "cell_type": "code",
   "execution_count": 31,
   "metadata": {
    "collapsed": true
   },
   "outputs": [],
   "source": [
    "plt.close()"
   ]
  },
  {
   "cell_type": "markdown",
   "metadata": {},
   "source": [
    "*For Comparison:* In Sodeland et al. (2016), they found...\n",
    "\n",
    "\"There was an average of 409 SNPs per chromosome, with a maximum of 554 (LG07) and a minimum of 279 (LG19)\"\n",
    "\n",
    "Genomic regions of elevated divergence were detected as: \n",
    "1. 205 SNPs in 13 Mb -- avg distance between = 63414.63 base pairs\n",
    "2. 85 SNPs in 5 Mb -- avg dist = 58823.53 base pairs\n",
    "3. 193 SNPs in 9.5 Mb -- avg dist = 49222.8 base pairs"
   ]
  },
  {
   "cell_type": "markdown",
   "metadata": {},
   "source": [
    "<br>\n",
    "<br>\n",
    "### FST between east and west\n",
    "\n",
    "In order to do this, I first need to remove replicated and contaminated individuals from the Korean populations. I can do this using the text file that I created when working solely with the Korean data: `batch_8_samples_reps_contam_removed.txt`\n",
    "\n",
    "In genepop, option `6 >> 2`\n",
    "\n",
    "\n",
    "\n",
    "#### Batch 8"
   ]
  },
  {
   "cell_type": "code",
   "execution_count": 4,
   "metadata": {},
   "outputs": [
    {
     "data": {
      "text/plain": [
       "u'/mnt/hgfs/PCod-Compare-repo'"
      ]
     },
     "execution_count": 4,
     "metadata": {},
     "output_type": "execute_result"
    }
   ],
   "source": [
    "pwd"
   ]
  },
  {
   "cell_type": "code",
   "execution_count": 5,
   "metadata": {},
   "outputs": [
    {
     "name": "stdout",
     "output_type": "stream",
     "text": [
      "/mnt/hgfs/PCod-Compare-repo/stacks_b8_wgenome_r05\n"
     ]
    }
   ],
   "source": [
    "cd stacks_b8_wgenome_r05/"
   ]
  },
  {
   "cell_type": "code",
   "execution_count": 44,
   "metadata": {
    "collapsed": true
   },
   "outputs": [],
   "source": [
    "# open file and read all lines into a string \n",
    "infile = open(\"batch_8_filteredMAF_filteredLoci30_filteredIndivids_filteredHWE_genepop_noreps_eastwest.txt.ST2\", \"r\")\n",
    "lines = infile.read()\n",
    "infile.close()\n",
    "\n",
    "# split the string into a list, with each element starting with \"Locus:\"\n",
    "linelist = lines.split(\"Locus:\")[1:]\n",
    "\n",
    "# save the locus name and FST from each element into a dictionary\n",
    "fst_dict = {}\n",
    "for i in linelist:\n",
    "    ilist = i.strip().split()\n",
    "    fst_dict[ilist[0].split(\"_\")[0]] = ilist[5]\n",
    "\n",
    "# write to output file\n",
    "outfile = open(\"batch_8_filteredMAF_filteredLoci30_filteredIndivids_filteredHWE_eastwest_fst_parsed.txt\", \"w\")\n",
    "outfile.write(\"Locus\\tFst\\n\")\n",
    "\n",
    "fst_list = []\n",
    "for i in fst_dict.keys():\n",
    "    fst_list.append(fst_dict[i])\n",
    "    outfile.write(i + \"\\t\" + fst_dict[i] + \"\\n\")\n",
    "outfile.close()"
   ]
  },
  {
   "cell_type": "code",
   "execution_count": 45,
   "metadata": {},
   "outputs": [
    {
     "data": {
      "text/plain": [
       "5682"
      ]
     },
     "execution_count": 45,
     "metadata": {},
     "output_type": "execute_result"
    }
   ],
   "source": [
    "len(fst_dict.keys())"
   ]
  },
  {
   "cell_type": "code",
   "execution_count": 46,
   "metadata": {},
   "outputs": [
    {
     "data": {
      "text/plain": [
       "'0.0142'"
      ]
     },
     "execution_count": 46,
     "metadata": {},
     "output_type": "execute_result"
    }
   ],
   "source": [
    "fst_dict['3']"
   ]
  },
  {
   "cell_type": "code",
   "execution_count": 47,
   "metadata": {
    "scrolled": true
   },
   "outputs": [
    {
     "data": {
      "image/png": "[encoded data removed]",
      "text/plain": [
       "<matplotlib.figure.Figure at 0x7f9e8e337290>"
      ]
     },
     "metadata": {},
     "output_type": "display_data"
    }
   ],
   "source": [
    "import matplotlib.pyplot as plt\n",
    "import numpy as np\n",
    "plt.hist([float(i) for i in fst_list])\n",
    "plt.suptitle(\"By Locus FST Values East v. West, Batch8 m3\")\n",
    "plt.xlabel(\"FST values\")\n",
    "plt.ylabel(\"# of Loci\")\n",
    "plt.show()"
   ]
  },
  {
   "cell_type": "code",
   "execution_count": 48,
   "metadata": {
    "collapsed": true
   },
   "outputs": [],
   "source": [
    "plt.close()"
   ]
  },
  {
   "cell_type": "markdown",
   "metadata": {},
   "source": [
    "<br>\n",
    "<br>\n",
    "\n",
    "#### Batch 4"
   ]
  },
  {
   "cell_type": "code",
   "execution_count": 6,
   "metadata": {},
   "outputs": [
    {
     "name": "stdout",
     "output_type": "stream",
     "text": [
      "/mnt/hgfs/PCod-Compare-repo/stacks_b4_wgenome\n"
     ]
    }
   ],
   "source": [
    "cd ../stacks_b4_wgenome/"
   ]
  },
  {
   "cell_type": "code",
   "execution_count": 8,
   "metadata": {
    "collapsed": true
   },
   "outputs": [],
   "source": [
    "# open file and read all lines into a string \n",
    "infile = open(\"batch_4_MB_filteredMAF_filteredLoci50_filteredIndivids_filteredHWE_noreps_genepop_EASTWEST.txt.ST2\", \"r\")\n",
    "lines = infile.read()\n",
    "infile.close()\n",
    "\n",
    "# split the string into a list, with each element starting with \"Locus:\"\n",
    "linelist = lines.split(\"Locus:\")[1:]\n",
    "\n",
    "# save the locus name and FST from each element into a dictionary\n",
    "fst_dict = {}\n",
    "for i in linelist:\n",
    "    ilist = i.strip().split()\n",
    "    fst_dict[ilist[0].split(\"_\")[0]] = ilist[5]\n",
    "    if ilist[5] == \"-\":\n",
    "        print \"crap! check locus \" + ilist[0]\n",
    "\n",
    "# write to output file\n",
    "outfile = open(\"batch_4_MB_filteredMAF_filteredLoci50_filteredIndivids50_filteredHWE_eastwest_fst_parsed.txt\", \"w\")\n",
    "outfile.write(\"Locus\\tFst\\n\")\n",
    "\n",
    "fst_list = []\n",
    "for i in fst_dict.keys():\n",
    "    if fst_dict[i] != \"-\":\n",
    "        fst_list.append(fst_dict[i])\n",
    "    outfile.write(i + \"\\t\" + fst_dict[i] + \"\\n\")\n",
    "outfile.close()"
   ]
  },
  {
   "cell_type": "code",
   "execution_count": 10,
   "metadata": {},
   "outputs": [
    {
     "data": {
      "image/png": "[encoded data removed]",
      "text/plain": [
       "<matplotlib.figure.Figure at 0x7f7cce61e9d0>"
      ]
     },
     "metadata": {},
     "output_type": "display_data"
    }
   ],
   "source": [
    "import matplotlib.pyplot as plt\n",
    "import numpy as np\n",
    "plt.hist([float(i) for i in fst_list])\n",
    "plt.suptitle(\"By Locus FST Values East v. West, Batch4\")\n",
    "plt.xlabel(\"FST values\")\n",
    "plt.ylabel(\"# of Loci\")\n",
    "plt.show()"
   ]
  },
  {
   "cell_type": "code",
   "execution_count": 11,
   "metadata": {
    "collapsed": true
   },
   "outputs": [],
   "source": [
    "plt.close()"
   ]
  },
  {
   "cell_type": "markdown",
   "metadata": {},
   "source": [
    "<br>\n",
    "<br>\n",
    "\n",
    "### FST between Western Regions\n",
    "\n",
    "#### 2/15/2018\n",
    "\n",
    "#### Batch 8"
   ]
  },
  {
   "cell_type": "code",
   "execution_count": 1,
   "metadata": {
    "scrolled": true
   },
   "outputs": [
    {
     "data": {
      "text/plain": [
       "u'/mnt/hgfs/PCod-Compare-repo/notebooks'"
      ]
     },
     "execution_count": 1,
     "metadata": {},
     "output_type": "execute_result"
    }
   ],
   "source": [
    "pwd"
   ]
  },
  {
   "cell_type": "code",
   "execution_count": 2,
   "metadata": {},
   "outputs": [
    {
     "name": "stdout",
     "output_type": "stream",
     "text": [
      "/mnt/hgfs/PCod-Compare-repo/stacks_b8_wgenome_r05\n"
     ]
    }
   ],
   "source": [
    "cd ../stacks_b8_wgenome_r05"
   ]
  },
  {
   "cell_type": "code",
   "execution_count": 12,
   "metadata": {},
   "outputs": [
    {
     "name": "stdout",
     "output_type": "stream",
     "text": [
      "1292  loci out of  5682  are missing Fst values.\n"
     ]
    }
   ],
   "source": [
    "# open file and read all lines into a string \n",
    "infile = open(\"batch_8_filteredMAF_filteredLoci30_filteredIndivids_filteredHWE_genepop_noreps_west.txt.ST2\", \"r\")\n",
    "lines = infile.read()\n",
    "infile.close()\n",
    "\n",
    "# split the string into a list, with each element starting with \"Locus:\"\n",
    "linelist = lines.split(\"Locus:\")[1:]\n",
    "\n",
    "# save the locus name and FST from each element into a dictionary\n",
    "fst_dict = {}\n",
    "for i in linelist:\n",
    "    ilist = i.strip().split()\n",
    "    fst_dict[ilist[0].split(\"_\")[0]] = ilist[6]\n",
    "\n",
    "# write to output file\n",
    "outfile = open(\"batch_8_filteredMAF_filteredLoci30_filteredIndivids_filteredHWE_west_fst_parsed.txt\", \"w\")\n",
    "outfile.write(\"Locus\\tFst\\n\")\n",
    "\n",
    "fst_list = []\n",
    "fst_miss = 0\n",
    "total = 0\n",
    "for i in fst_dict.keys():\n",
    "    if fst_dict[i] != \"-\":\n",
    "        fst_list.append(fst_dict[i])\n",
    "    else:\n",
    "        fst_miss += 1\n",
    "    outfile.write(i + \"\\t\" + fst_dict[i] + \"\\n\")\n",
    "    total += 1\n",
    "outfile.close()\n",
    "print fst_miss, \" loci out of \", total, \" are missing Fst values.\""
   ]
  },
  {
   "cell_type": "code",
   "execution_count": 7,
   "metadata": {},
   "outputs": [
    {
     "data": {
      "image/png": "[encoded data removed]",
      "text/plain": [
       "<matplotlib.figure.Figure at 0x7fed1a8e5350>"
      ]
     },
     "metadata": {},
     "output_type": "display_data"
    }
   ],
   "source": [
    "import matplotlib.pyplot as plt\n",
    "import numpy as np\n",
    "plt.hist([float(i) for i in fst_list])\n",
    "plt.suptitle(\"By Locus FST Values between Western Regions, Batch8\")\n",
    "plt.xlabel(\"FST values\")\n",
    "plt.ylabel(\"# of Loci\")\n",
    "plt.show()"
   ]
  },
  {
   "cell_type": "code",
   "execution_count": 8,
   "metadata": {
    "collapsed": true
   },
   "outputs": [],
   "source": [
    "plt.close()"
   ]
  },
  {
   "cell_type": "code",
   "execution_count": null,
   "metadata": {
    "collapsed": true
   },
   "outputs": [],
   "source": []
  }
 ],
 "metadata": {
  "kernelspec": {
   "display_name": "Python 2",
   "language": "python",
   "name": "python2"
  },
  "language_info": {
   "codemirror_mode": {
    "name": "ipython",
    "version": 2
   },
   "file_extension": ".py",
   "mimetype": "text/x-python",
   "name": "python",
   "nbconvert_exporter": "python",
   "pygments_lexer": "ipython2",
   "version": "2.7.13"
  }
 },
 "nbformat": 4,
 "nbformat_minor": 2
}
