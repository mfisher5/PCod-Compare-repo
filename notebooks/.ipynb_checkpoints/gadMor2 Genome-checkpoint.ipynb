{
 "cells": [
  {
   "cell_type": "markdown",
   "metadata": {},
   "source": [
    "## New Atlantic Cod Genome\n",
    "\n",
    "The new Atlantic cod genome, gadMor2. \n",
    "\n",
    "I wanted to explore linkage groups and scaffolds in the new genome, and then isolate just linkage groups for bowtie2 alignment. \n",
    "\n",
    "<br>\n",
    "<br>\n",
    "<br>\n",
    "\n",
    "** How many independent scaffolds / chromosomes? **"
   ]
  },
  {
   "cell_type": "code",
   "execution_count": 1,
   "metadata": {},
   "outputs": [
    {
     "name": "stdout",
     "output_type": "stream",
     "text": [
      "/mnt/hgfs/PCod-Compare-repo/ACod_reference\n"
     ]
    }
   ],
   "source": [
    "cd ../ACod_reference"
   ]
  },
  {
   "cell_type": "code",
   "execution_count": 19,
   "metadata": {},
   "outputs": [
    {
     "name": "stdout",
     "output_type": "stream",
     "text": [
      "There are  8310  scaffolds in the new ACod reference genome. \n",
      "There are  8310  lines in this file.\n"
     ]
    }
   ],
   "source": [
    "infile = open(\"gadMor2.fasta\", \"r\")\n",
    "scaffolds_list = []\n",
    "nlines = 0\n",
    "for line in infile:\n",
    "    if line.startswith(\">\"):\n",
    "        nlines += 1\n",
    "        scaffold = line.strip().replace(\">\", \"\")\n",
    "        scaffolds_list.append(scaffold)\n",
    "infile.close()\n",
    "\n",
    "print \"There are \", len(set(scaffolds_list)), \" scaffolds in the new ACod reference genome. \"\n",
    "print \"There are \", str(nlines), \" lines in this file.\""
   ]
  },
  {
   "cell_type": "code",
   "execution_count": 25,
   "metadata": {},
   "outputs": [
    {
     "data": {
      "text/plain": [
       "['LG01',\n",
       " 'LG02',\n",
       " 'LG03',\n",
       " 'LG04',\n",
       " 'LG05',\n",
       " 'LG06',\n",
       " 'LG07',\n",
       " 'LG08',\n",
       " 'LG09',\n",
       " 'LG10',\n",
       " 'LG11',\n",
       " 'LG12',\n",
       " 'LG13',\n",
       " 'LG14',\n",
       " 'LG15',\n",
       " 'LG16',\n",
       " 'LG17',\n",
       " 'LG18',\n",
       " 'LG19',\n",
       " 'LG20',\n",
       " 'LG21',\n",
       " 'LG22',\n",
       " 'LG23',\n",
       " 'MT_genome',\n",
       " 'GmG20150304_scaffold_1408',\n",
       " 'GmG20150304_scaffold_1409',\n",
       " 'GmG20150304_scaffold_1410',\n",
       " 'GmG20150304_scaffold_1411',\n",
       " 'GmG20150304_scaffold_1412',\n",
       " 'GmG20150304_scaffold_1413']"
      ]
     },
     "execution_count": 25,
     "metadata": {},
     "output_type": "execute_result"
    }
   ],
   "source": [
    "scaffolds_list[0:30]"
   ]
  },
  {
   "cell_type": "markdown",
   "metadata": {},
   "source": [
    "<br>\n",
    "** Linkage Group and Scaffold Lengths**\n",
    "<br>\n",
    "*What proportion of the file is made from linkage groups, what proportion from scaffolds?*"
   ]
  },
  {
   "cell_type": "markdown",
   "metadata": {},
   "source": [
    "*What is the length of each linkage group / scaffold?*\n"
   ]
  },
  {
   "cell_type": "code",
   "execution_count": 41,
   "metadata": {},
   "outputs": [
    {
     "name": "stdout",
     "output_type": "stream",
     "text": [
      "Finished with Linkage Groups.\n",
      "Finished with Scaffolds.\n"
     ]
    }
   ],
   "source": [
    "infile = open(\"gadMor2.fasta\", \"r\")\n",
    "lg_dict = {}\n",
    "a = 0\n",
    "for line in infile:\n",
    "    if line.startswith(\">\") and a == 0:\n",
    "        lg = line.strip().replace(\">\", \"\")\n",
    "        a += 1\n",
    "        seq_length = 0\n",
    "    elif line.startswith(\">\") and a > 0 and a < 24:\n",
    "        lg_dict[lg] = seq_length\n",
    "        lg = line.strip().replace(\">\", \"\")\n",
    "        a += 1\n",
    "        seq_length = 0\n",
    "    elif line.startswith(\">\") and a > 24:\n",
    "        break\n",
    "    else:\n",
    "        bases = list(line.strip())\n",
    "        seq_length += len(bases)\n",
    "print \"Finished with Linkage Groups.\"\n",
    "infile.close()\n",
    "\n",
    "infile = open(\"gadMor2.fasta\", \"r\")\n",
    "a = 0\n",
    "scaff_dict = {}\n",
    "for line in infile:\n",
    "    if line.startswith(\">\") and a < 24:\n",
    "        a += 1\n",
    "    elif line.startswith(\">\") and a == 24:\n",
    "        scaffold = line.strip().replace(\">\", \"\")\n",
    "        seq_length = 0\n",
    "        a += 1\n",
    "    elif line.startswith(\">\") and a > 24:\n",
    "        scaff_dict[scaffold] = seq_length\n",
    "        scaffold = line.strip().replace(\">\", \"\")\n",
    "        seq_length = 0\n",
    "        a += 1\n",
    "    else:\n",
    "        bases = list(line.strip())\n",
    "        seq_length += len(bases)\n",
    "infile.close()\n",
    "print \"Finished with Scaffolds.\"\n",
    "\n",
    "outfile = open(\"lg_scaff_lengths.txt\", \"w\")\n",
    "outfile.write(\"LG/Scaff\\tSeq_Length\\n\")\n",
    "for i in lg_dict.keys():\n",
    "    outfile.write(i + \"\\t\" + str(lg_dict[i]) + \"\\n\")\n",
    "for i in scaff_dict.keys():\n",
    "    outfile.write(i + \"\\t\" + str(scaff_dict[i]) + \"\\n\")\n",
    "outfile.close()"
   ]
  },
  {
   "cell_type": "code",
   "execution_count": 42,
   "metadata": {
    "collapsed": true
   },
   "outputs": [],
   "source": [
    "lg_lengths = []\n",
    "for i in lg_dict.keys():\n",
    "    lg_lengths.append(lg_dict[i])\n",
    "scaff_lengths = []\n",
    "for i in scaff_dict.keys():\n",
    "    scaff_lengths.append(scaff_dict[i])"
   ]
  },
  {
   "cell_type": "code",
   "execution_count": 43,
   "metadata": {
    "collapsed": true
   },
   "outputs": [],
   "source": [
    "import matplotlib.pyplot as plt\n",
    "import numpy as np"
   ]
  },
  {
   "cell_type": "code",
   "execution_count": 46,
   "metadata": {},
   "outputs": [
    {
     "data": {
      "image/png": "[encoded data removed]",
      "text/plain": [
       "<matplotlib.figure.Figure at 0x7f7be1a0e310>"
      ]
     },
     "metadata": {},
     "output_type": "display_data"
    }
   ],
   "source": [
    "plt.hist(lg_lengths)\n",
    "plt.suptitle(\"Base Pairs per ACod Linkage Group\")\n",
    "plt.xlabel(\"# Base Pairs\")\n",
    "plt.ylabel(\"# LGs\")\n",
    "plt.show()"
   ]
  },
  {
   "cell_type": "code",
   "execution_count": 47,
   "metadata": {
    "collapsed": true
   },
   "outputs": [],
   "source": [
    "plt.close()"
   ]
  },
  {
   "cell_type": "code",
   "execution_count": 48,
   "metadata": {},
   "outputs": [
    {
     "data": {
      "image/png": "[encoded data removed]",
      "text/plain": [
       "<matplotlib.figure.Figure at 0x7f7be18d1750>"
      ]
     },
     "metadata": {},
     "output_type": "display_data"
    }
   ],
   "source": [
    "plt.hist(scaff_lengths)\n",
    "plt.suptitle(\"Base Pairs per ACod Scaffold\")\n",
    "plt.xlabel(\"# Base Pairs\")\n",
    "plt.ylabel(\"# Scaffolds\")\n",
    "plt.show()"
   ]
  },
  {
   "cell_type": "code",
   "execution_count": 49,
   "metadata": {
    "collapsed": true
   },
   "outputs": [],
   "source": [
    "plt.close()"
   ]
  },
  {
   "cell_type": "markdown",
   "metadata": {},
   "source": [
    "<br>\n",
    "\n",
    "** Make fasta file with just Linkage Groups**\n"
   ]
  },
  {
   "cell_type": "code",
   "execution_count": 1,
   "metadata": {},
   "outputs": [
    {
     "name": "stdout",
     "output_type": "stream",
     "text": [
      "/home/mfisher5\n"
     ]
    }
   ],
   "source": [
    "cd"
   ]
  },
  {
   "cell_type": "code",
   "execution_count": 2,
   "metadata": {},
   "outputs": [
    {
     "name": "stdout",
     "output_type": "stream",
     "text": [
      "/mnt/hgfs/PCod-Compare-repo/ACod_reference\n"
     ]
    }
   ],
   "source": [
    "cd /mnt/hgfs/PCod-Compare-repo/ACod_reference/"
   ]
  },
  {
   "cell_type": "code",
   "execution_count": 4,
   "metadata": {
    "collapsed": true
   },
   "outputs": [],
   "source": [
    "infile = open(\"gadMor2.fasta\", \"r\")\n",
    "outfile = open(\"gadMor2_LG.fasta\", \"w\")\n",
    "\n",
    "line = infile.readline()\n",
    "while 'MT_genome' not in line:\n",
    "    outfile.write(line)\n",
    "    line = infile.readline()\n",
    "infile.close()\n",
    "outfile.close()"
   ]
  },
  {
   "cell_type": "code",
   "execution_count": 5,
   "metadata": {},
   "outputs": [
    {
     "name": "stdout",
     "output_type": "stream",
     "text": [
      ">LG01\r\n",
      "TGCAAAATGCTTTTCAGAGCGCTAGATCACTTTTCAACCAACAATGTGTTTTTCACCTTA\r\n",
      "CATTGTTGATTTCGCTCAAAACTAATGTATTCCAACCCGGTATCACGCGATTGCGTGCTT\r\n",
      "ATGCGCACGAACGTTAATCTATTGAAGCGTGTTCCAGAGCACGATAGTCCGACTTTTCTC\r\n",
      "GTGCTACACAGAACGAAATGTAAACCAATGCATTCTGAATGGGAGTGTTCTCAGACAATT\r\n",
      "AACATGCTCCACAAAACGGTACGAGAGAGAGAGAGAAAGAGAGAGAGGGAGGGACAGAGA\r\n",
      "GAGAGAGAGCGAGAGGCTTCAGAAAGGGTGTGCGCAAATAGTACAGTGCACCCTAGTTAT\r\n",
      "GTTTATGCCAAAACCTCAAATGCTATATATATATATATTGCCTAATTATGTATATTGCCT\r\n",
      "ATACTGTATATATATATAGGCTATATATATAATTAGGCTATAATTATTTTATTTAGCGTG\r\n",
      "TCATGAGACAATCTATAGCCAAATTGTCGAAGATGCCCGAGAATCTCCGGAGATATCAGC\r\n"
     ]
    }
   ],
   "source": [
    "!head gadMor2_LG.fasta"
   ]
  },
  {
   "cell_type": "code",
   "execution_count": null,
   "metadata": {
    "collapsed": true
   },
   "outputs": [],
   "source": []
  }
 ],
 "metadata": {
  "kernelspec": {
   "display_name": "Python 2",
   "language": "python",
   "name": "python2"
  },
  "language_info": {
   "codemirror_mode": {
    "name": "ipython",
    "version": 2
   },
   "file_extension": ".py",
   "mimetype": "text/x-python",
   "name": "python",
   "nbconvert_exporter": "python",
   "pygments_lexer": "ipython2",
   "version": "2.7.13"
  }
 },
 "nbformat": 4,
 "nbformat_minor": 2
}
