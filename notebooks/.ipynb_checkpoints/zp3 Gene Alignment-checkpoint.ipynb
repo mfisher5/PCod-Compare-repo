{
 "cells": [
  {
   "cell_type": "markdown",
   "metadata": {},
   "source": [
    "## Alignment of the zp3 gene to Korean cod\n",
    "\n",
    "<br>\n",
    "Dan Drinan found that the zona pellucida gene was under intense selection in the eastern population. Could it also be under selection in the western population? I used `blastn` to align **(1)** the combination data set final filtered sequences, and **(2)** the batch 8 korean final filtered sequences. \n",
    "\n",
    "\n",
    "#### 4/25/2018\n",
    "\n",
    "\n",
    "<br>\n",
    "### Combination Data set to zp3"
   ]
  },
  {
   "cell_type": "code",
   "execution_count": 2,
   "metadata": {},
   "outputs": [
    {
     "data": {
      "text/plain": [
       "u'/mnt/hgfs/PCod-Compare-repo/notebooks'"
      ]
     },
     "execution_count": 2,
     "metadata": {},
     "output_type": "execute_result"
    }
   ],
   "source": [
    "pwd"
   ]
  },
  {
   "cell_type": "code",
   "execution_count": 3,
   "metadata": {
    "scrolled": true
   },
   "outputs": [
    {
     "name": "stdout",
     "output_type": "stream",
     "text": [
      "/mnt/hgfs/PCod-Compare-repo/zp3_gene\n"
     ]
    }
   ],
   "source": [
    "cd ../zp3_gene/"
   ]
  },
  {
   "cell_type": "markdown",
   "metadata": {},
   "source": [
    "#### Make blast database out of fasta file"
   ]
  },
  {
   "cell_type": "code",
   "execution_count": 6,
   "metadata": {
    "scrolled": true
   },
   "outputs": [
    {
     "name": "stdout",
     "output_type": "stream",
     "text": [
      "\r\n",
      "\r\n",
      "Building a new DB, current time: 04/25/2018 15:42:47\r\n",
      "New DB name:   /mnt/hgfs/PCod-Compare-repo/zp3_gene/zp3_gene\r\n",
      "New DB title:  zp3_gene.fa\r\n",
      "Sequence type: Nucleotide\r\n",
      "Keep Linkouts: T\r\n",
      "Keep MBits: T\r\n",
      "Maximum file size: 1000000000B\r\n",
      "Adding sequences from FASTA; added 6 sequences in 0.00393105 seconds.\r\n"
     ]
    }
   ],
   "source": [
    "!makeblastdb -in zp3_gene.fa \\\n",
    "-parse_seqids \\\n",
    "-dbtype nucl \\\n",
    "-out zp3_gene"
   ]
  },
  {
   "cell_type": "markdown",
   "metadata": {},
   "source": [
    "#### Query blast database"
   ]
  },
  {
   "cell_type": "code",
   "execution_count": 7,
   "metadata": {
    "collapsed": true
   },
   "outputs": [],
   "source": [
    "!blastn -query ../stacks_b8_wgenome_r05/batch_8_final_filtered_seqs.fasta \\\n",
    "-db zp3_gene \\\n",
    "-out batch_8_to_zp3"
   ]
  },
  {
   "cell_type": "markdown",
   "metadata": {},
   "source": [
    "*No hits*\n",
    "\n",
    "Let's look at the unfiltered fasta file out of the stacks pipeline"
   ]
  },
  {
   "cell_type": "markdown",
   "metadata": {},
   "source": [
    "#### Make blast db out of stacks fasta file (unfiltered)"
   ]
  },
  {
   "cell_type": "code",
   "execution_count": 34,
   "metadata": {
    "scrolled": false
   },
   "outputs": [
    {
     "name": "stdout",
     "output_type": "stream",
     "text": [
      "\n",
      "\n",
      "Building a new DB, current time: 04/25/2018 18:00:55\n",
      "New DB name:   /mnt/hgfs/PCod-Compare-repo/zp3_gene/COMBO_8_r05_stacks_out\n",
      "New DB title:  ../stacks_b8_wgenome_r05/final_populations_randomSNP/batch_8.fa\n",
      "Sequence type: Nucleotide\n",
      "Keep Linkouts: T\n",
      "Keep MBits: T\n",
      "Maximum file size: 1000000000B\n",
      "Adding sequences from FASTA; added 15733767 sequences in 429.921 seconds.\n"
     ]
    }
   ],
   "source": [
    "!makeblastdb -in ../stacks_b8_wgenome_r05/final_populations_randomSNP/batch_8.fa \\\n",
    "-parse_seqids \\\n",
    "-dbtype nucl \\\n",
    "-out COMBO_8_r05_stacks_out"
   ]
  },
  {
   "cell_type": "code",
   "execution_count": 35,
   "metadata": {
    "collapsed": true
   },
   "outputs": [],
   "source": [
    "!blastn -query zp3_gene.fa \\\n",
    "-db COMBO_8_r05_stacks_out \\\n",
    "-out COMBO_8_r05_stacksdb_to_zp3"
   ]
  },
  {
   "cell_type": "markdown",
   "metadata": {},
   "source": [
    "<br>\n",
    "### Korean cod data set to zp3\n",
    "\n",
    "I'm just going to use the raw fasta file out of the stacks pipeline. If something aligns, I'll put together a fasta file of my final, filtered sequences."
   ]
  },
  {
   "cell_type": "code",
   "execution_count": 9,
   "metadata": {},
   "outputs": [
    {
     "name": "stdout",
     "output_type": "stream",
     "text": [
      ">CLocus_1_Sample_1_Locus_1_Allele_0 [PO010715_02; 10001, 1, +]\r\n",
      "TGCAGGATCAACCTCTCAGGAGCCAAACCAACAGCCGTCCAGAGACATCGGGCGGGTGGTGCACCGTCCCGTGGGCCTGTAAAAAGCGCATCCGGCCTGAACGGTACTGGCCTAGGCGCCGACCGCGAGAGCGCGGCCAGCT\r\n",
      ">CLocus_1_Sample_2_Locus_1_Allele_0 [PO010715_02_rep; 10001, 1, +]\r\n",
      "TGCAGGATCAACCTCTCAGGAGCCAAACCAACAGCCGTCCAGAGACATCGGGCGGGTGGTGCACCGTCCCGTGGGCCTGTAAAAAGCGCATCCGGCCTGAACGGTACTGGCCTAGGCGCCGACCGCGAGAGCGCGGCCAGCT\r\n",
      ">CLocus_1_Sample_3_Locus_1_Allele_0 [PO010715_04; 10001, 1, +]\r\n",
      "TGCAGGATCAACCTCTCAGGAGCCAAACCAACAGCCGTCCAGAGACATCGGGCGGGTGGTGCACCGTCCCGTGGGCCTGTAAAAAGCGCATCCGGCCTGAACGGTACTGGCCTAGGCGCCGACCGCGAGAGCGCGGCCAGCT\r\n",
      ">CLocus_1_Sample_4_Locus_1_Allele_0 [PO010715_06.1; 10001, 1, +]\r\n",
      "TGCAGGATCAACCTCTCAGGAGCCAAACCAACAGCCGTCCAGAGACATCGGGCGGGTGGTGCACCGTCCCGTGGGCCTGTAAAAAGCGCATCCGGCCTGAACGGTACTGGCCTAGGCGCCGACCGCGAGAGCGCGGCCAGCT\r\n",
      ">CLocus_1_Sample_33_Locus_1_Allele_0 [PO010715_07; 10001, 1, +]\r\n",
      "TGCAGGATCAACCTCTCAGGAGCCAAACCAACAGCCGTCCAGAGACATCGGGCGGGTGGTGCACCGTCCCGTGGGCCTGTAAAAAGCGCATCCGGCCTGAACGGTACTGGCCTAGGCGCCGACCGCGAGAGCGCGGCCAGCT\r\n"
     ]
    }
   ],
   "source": [
    "!head ../../PCod-Korea-repo/stacks_b8_verif/batch_7.fa"
   ]
  },
  {
   "cell_type": "code",
   "execution_count": 10,
   "metadata": {},
   "outputs": [
    {
     "name": "stdout",
     "output_type": "stream",
     "text": [
      "^C\r\n"
     ]
    }
   ],
   "source": [
    "!blastn -query ../../PCod-Korea-repo/stacks_b8_verif/batch_7.fa \\\n",
    "-db zp3_gene \\\n",
    "-out KOR_batch_8_to_zp3"
   ]
  },
  {
   "cell_type": "code",
   "execution_count": 11,
   "metadata": {},
   "outputs": [
    {
     "name": "stdout",
     "output_type": "stream",
     "text": [
      "317\r\n"
     ]
    }
   ],
   "source": [
    "!grep \"Sequences producing significant alignments\" KOR_batch_8_to_zp3 | wc -l"
   ]
  },
  {
   "cell_type": "markdown",
   "metadata": {},
   "source": [
    "#### Create fasta file from MAF filtered output"
   ]
  },
  {
   "cell_type": "code",
   "execution_count": 19,
   "metadata": {
    "collapsed": true
   },
   "outputs": [],
   "source": [
    "### get list of loci from matrix file ###\n",
    "myfile = open(\"../../PCod-Korea-repo/stacks_b8_verif/batch_8.filteredMAF\", \"r\")\n",
    "loci_list = []\n",
    "myfile.readline() #header\n",
    "\n",
    "for line in myfile:\n",
    "    loci_list.append(line.strip().split(\",\")[0].split()[0])\n",
    "myfile.close()"
   ]
  },
  {
   "cell_type": "code",
   "execution_count": 20,
   "metadata": {
    "collapsed": true
   },
   "outputs": [],
   "source": [
    "### pull consensus sequences out of intermediate stacks output and write to a new fasta file ###\n",
    "myfile = open(\"../../PCod-Korea-repo/stacks_b8_verif/batch_7.catalog.tags.tsv\", \"r\")\n",
    "outfile = open(\"KOR_b8_verif_MAFfiltered_seqs.fa\", \"w\")\n",
    "\n",
    "for line in myfile:\n",
    "    locus = line.strip().split()[3]\n",
    "    if locus in loci_list:\n",
    "        seq = line.strip().split()[9]\n",
    "        outfile.write(\">\" + locus + \"\\n\" + seq + \"\\n\" )\n",
    "myfile.close()\n",
    "outfile.close()"
   ]
  },
  {
   "cell_type": "code",
   "execution_count": 21,
   "metadata": {
    "collapsed": true
   },
   "outputs": [],
   "source": [
    "!blastn -query KOR_b8_verif_MAFfiltered_seqs.fa \\\n",
    "-db zp3_gene \\\n",
    "-out KOR_batch_8_verif_MAFfiltered_to_zp3"
   ]
  },
  {
   "cell_type": "code",
   "execution_count": 23,
   "metadata": {},
   "outputs": [
    {
     "name": "stdout",
     "output_type": "stream",
     "text": [
      "0\r\n"
     ]
    }
   ],
   "source": [
    "!grep \"Sequences producing significant alignments\" KOR_batch_8_verif_MAFfiltered_to_zp3 | wc -l"
   ]
  },
  {
   "cell_type": "markdown",
   "metadata": {},
   "source": [
    "So any locus aligning to zp3 in stacks doesn't pass the MAF filter. let's look at the locus in the haplotypes file. \n",
    "\n",
    "#### Create database from stacks output file"
   ]
  },
  {
   "cell_type": "code",
   "execution_count": 28,
   "metadata": {},
   "outputs": [
    {
     "name": "stdout",
     "output_type": "stream",
     "text": [
      "\n",
      "\n",
      "Building a new DB, current time: 04/25/2018 16:15:12\n",
      "New DB name:   /mnt/hgfs/PCod-Compare-repo/zp3_gene/KOR_8_verif_stacks_out\n",
      "New DB title:  ../../PCod-Korea-repo/stacks_b8_verif/batch_7.fa\n",
      "Sequence type: Nucleotide\n",
      "Keep Linkouts: T\n",
      "Keep MBits: T\n",
      "Maximum file size: 1000000000B\n",
      "Adding sequences from FASTA; added 6422158 sequences in 211.112 seconds.\n"
     ]
    }
   ],
   "source": [
    "!makeblastdb -in ../../PCod-Korea-repo/stacks_b8_verif/batch_7.fa \\\n",
    "-parse_seqids \\\n",
    "-dbtype nucl \\\n",
    "-out KOR_8_verif_stacks_out"
   ]
  },
  {
   "cell_type": "code",
   "execution_count": 29,
   "metadata": {
    "collapsed": true
   },
   "outputs": [],
   "source": [
    "!blastn -query zp3_gene.fa \\\n",
    "-db KOR_8_verif_stacks_out \\\n",
    "-out KOR_8_verif_stacksdb_to_zp3"
   ]
  },
  {
   "cell_type": "markdown",
   "metadata": {},
   "source": [
    "#### zp3 aligned in multiple individuals to the catalog locus: 823"
   ]
  },
  {
   "cell_type": "markdown",
   "metadata": {},
   "source": [
    "### Finding zp3 in .haplotypes.tsv files\n",
    "\n",
    "So for both data sets, the zp3 gene is written out of populations but not maintained after filtering. looking at the .haplotypes.tsv files, this appears to be due to monomorphism at the random SNP chosen in the sequence. \n",
    "\n",
    "<br>\n",
    "\n",
    "### Re-running `populations`\n",
    "\n",
    "I'm going to re-run `populations` on the combo data set using haplotypes, to see if that retains the zp3 gene after filtering. "
   ]
  },
  {
   "cell_type": "code",
   "execution_count": 36,
   "metadata": {
    "scrolled": true
   },
   "outputs": [
    {
     "data": {
      "text/plain": [
       "u'/mnt/hgfs/PCod-Compare-repo/zp3_gene'"
      ]
     },
     "execution_count": 36,
     "metadata": {},
     "output_type": "execute_result"
    }
   ],
   "source": [
    "pwd"
   ]
  },
  {
   "cell_type": "code",
   "execution_count": 37,
   "metadata": {},
   "outputs": [
    {
     "name": "stdout",
     "output_type": "stream",
     "text": [
      "/mnt/hgfs/PCod-Compare-repo\n"
     ]
    }
   ],
   "source": [
    "cd ../"
   ]
  },
  {
   "cell_type": "code",
   "execution_count": null,
   "metadata": {
    "collapsed": true
   },
   "outputs": [],
   "source": [
    "!populations -b 8 \\\n",
    "-P stacks_b8_wgenome_r05 \\\n",
    "-M scripts/PopMap_combo_b4.txt \\\n",
    "-t 36 -r 0.5 -p 3 -m 3 \\\n",
    "--genepop --fasta 2>> stacks_b8_wgenome_r05/populations_out_b8_wgenome_HAPLOTYPES"
   ]
  },
  {
   "cell_type": "code",
   "execution_count": null,
   "metadata": {
    "collapsed": true
   },
   "outputs": [],
   "source": []
  }
 ],
 "metadata": {
  "kernelspec": {
   "display_name": "Python 2",
   "language": "python",
   "name": "python2"
  },
  "language_info": {
   "codemirror_mode": {
    "name": "ipython",
    "version": 2
   },
   "file_extension": ".py",
   "mimetype": "text/x-python",
   "name": "python",
   "nbconvert_exporter": "python",
   "pygments_lexer": "ipython2",
   "version": "2.7.13"
  }
 },
 "nbformat": 4,
 "nbformat_minor": 2
}
