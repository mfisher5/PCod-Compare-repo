{
 "cells": [
  {
   "cell_type": "markdown",
   "metadata": {},
   "source": [
    "# Identifying Outlier Loci with Bayescan, Eastern coastal sites\n",
    "#### stacks batch 8\n",
    "\n",
    "This notebook contains procedures and code used to identify outliers in the final filtered genepop file. This includes:\n",
    "\n",
    "1. prior 100\n",
    "2. prior 1000\n",
    "<br>\n",
    "\n",
    "**Programs used: **\n",
    "<br>\n",
    "`Bayescan v2.1 `\n",
    "<br>\n",
    "\n",
    "<br>\n",
    "<br>\n",
    "_________________________\n",
    "\n",
    "\n",
    "\n",
    "<br>\n",
    "[Download](http://cmpg.unibe.ch/software/BayeScan/download.html) includes executable scripts and PDF manual.\n",
    "\n",
    "**(1) Download [PGDSpider](http://www.cmpg.unibe.ch/software/PGDSpider/).** Bayescan uses its own type of input file. They suggest using PGD spider to convert genepop files into this file format\n",
    "\n",
    "**(2) Convert genepop to Bayescan format.** In For SNP data, this can either be a \"codominant\" file format or a \"SNP genotype matrix\" (per Bayescan's user manual). They suggest that if you are not directly interested in Fis, you use SNPs as regular codominant data. In PGDspider, this is just a matter of choosing the file format and file names for the input and ouput files, and then selecting \"SNP\" in two short questions for the SPID file. Note that using an old SPID file here caused an error; I had to create a new one\n",
    "\n",
    "### (3) Run Bayescan using the Windows GUI.\n",
    "I used the following parameters for both runs, with the exception of the prior odds. Prior was run first as 100, then as 1000. \n",
    "\n",
    "![img-bay-start](https://github.com/mfisher5/PCod-Compare-repo/blob/master/notebooks/notebook_pics/bayescan_p100.png?raw=true)\n",
    "[link to bayescan's verification file](https://github.com/mfisher5/PCod-Compare-repo/blob/master/analyses/outliers/Bayescan/batch_8_BAYESCAN_output_eastwest_Verif.txt)\n",
    "\n",
    "Note that I have changed the default \"sample size\" to 20K. This is because in the PCod paper Gruenthal et al. (in review), they reported using 20,000 iterations. according to the Bayescan manual, the \"Number of outputted iterations, default 5000\" appears to be \"sample size\" in the gui and \"-n\" on the command line. \n",
    "\n",
    "<br>\n",
    "\n",
    "[East coastal sites Bayescan input file](https://github.com/mfisher5/PCod-Compare-repo/blob/master/analyses/outliers/Bayescan/batch_8_east_coastal_bypop_Bayescan_input)\n",
    "\n",
    "\n",
    "<br>\n",
    "<br>\n",
    "\n",
    "\n",
    " #### East v. West\n",
    " **RUN 1:** prior odds of 100 (3/30/2018)\n",
    " <br>\n",
    " **RUN 2:** prior odds of 1000 ()\n",
    "\n",
    " \n",
    "\n",
    "\n",
    " \n",
    "<br>\n",
    "#### NOT COMPLETED\n",
    "\n",
    "### (4) Interpreting Bayescan Output.\n",
    "This can be done in R. I use [this R script](https://github.com/mfisher5/PCod-Korea-repo/blob/master/analyses/R/Bayescan_KorPCod_MF.R) \n",
    "\n",
    "The R script includes two options: \n",
    "1.  Use the original Bayescan plotting functions. To do this, you will need the script [Bayescan_plot](https://github.com/mfisher5/PCod-Korea-repo/blob/master/analyses/R/BAYESCAN_plot_R.r). Since PGDspider changes the loci names, you will then need to (1) copy the R console output which lists outlier loci, and (2) use the python script [bayescan_to_stacks_locus_IDs_outliers.py](https://github.com/mfisher5/PCod-Korea-repo/blob/master/analyses/Outliers/bayescan_to_stacks_locus_IDs_outliers.py) to rename loci. \n",
    "    - pro: provides posterior distribution of fst\n",
    "    - con: harder to customize the outlier plot. labeled loci in outlier plot do not correspond to actual loci names. provides a list of outlier loci names only to console.\n",
    "\n",
    "\n",
    "2. Use an alternative plotting function I made with ggplot. You will first need to run the python script [bayescan_to_stacks_locus_IDs.py](https://github.com/mfisher5/PCod-Korea-repo/blob/master/analyses/Outliers/bayescan_to_stacks_locus_IDs.py) (see below) to generate the input file for this. \n",
    "    - pro: creates an input file that is nicely formatted. uses stacks loci names in R, so loci names on outlier plot correspond to actual loci names. will output a file with outlier loci names and all other information included in Bayescan's FST file. \n",
    "    - con: will not provide posterior distribution of fst. \n",
    "    \n",
    "<br>\n",
    "In this notebook, I went with option 2."
   ]
  },
  {
   "cell_type": "code",
   "execution_count": 1,
   "metadata": {},
   "outputs": [
    {
     "data": {
      "text/plain": [
       "u'/mnt/hgfs/PCod-Compare-repo/notebooks'"
      ]
     },
     "execution_count": 1,
     "metadata": {},
     "output_type": "execute_result"
    }
   ],
   "source": [
    "pwd"
   ]
  },
  {
   "cell_type": "code",
   "execution_count": 2,
   "metadata": {},
   "outputs": [
    {
     "name": "stdout",
     "output_type": "stream",
     "text": [
      "/mnt/hgfs/PCod-Compare-repo/analyses/Outliers\n"
     ]
    }
   ],
   "source": [
    "cd ../analyses/Outliers"
   ]
  },
  {
   "cell_type": "code",
   "execution_count": 3,
   "metadata": {},
   "outputs": [
    {
     "name": "stdout",
     "output_type": "stream",
     "text": [
      "usage: bayescan_to_stacks_locus_IDs.py [-h] [-i INPUT] [-gen GENEPOP]\r\n",
      "                                       [-o OUTPUT] [-s SEPARATOR]\r\n",
      "\r\n",
      "Match bayescan outlier loci IDs to the actual stacks IDs (if PGD spider was\r\n",
      "used for file conversion).\r\n",
      "\r\n",
      "optional arguments:\r\n",
      "  -h, --help            show this help message and exit\r\n",
      "  -i INPUT, --input INPUT\r\n",
      "                        fst text file output from bayescan\r\n",
      "  -gen GENEPOP, --genepop GENEPOP\r\n",
      "                        the genepop file used in PGD spyder to create BAYESCAN\r\n",
      "                        input file\r\n",
      "  -o OUTPUT, --output OUTPUT\r\n",
      "                        output text file\r\n",
      "  -s SEPARATOR, --separator SEPARATOR\r\n",
      "                        separator used in genepop file [comma/newline]\r\n"
     ]
    }
   ],
   "source": [
    "!python bayescan_to_stacks_locus_IDs.py -h"
   ]
  },
  {
   "cell_type": "markdown",
   "metadata": {},
   "source": [
    "#### East p100"
   ]
  },
  {
   "cell_type": "code",
   "execution_count": 5,
   "metadata": {},
   "outputs": [
    {
     "name": "stdout",
     "output_type": "stream",
     "text": [
      "indexing stacks loci...\n",
      "You have  4286  loci.\n",
      "copying over BAYESCAN output..\n",
      "Copied over  4286  loci.\n"
     ]
    }
   ],
   "source": [
    "!python bayescan_to_stacks_locus_IDs.py \\\n",
    "-i Bayescan/batch_8_east_coastal_Bayescan_p100_output_fst.txt \\\n",
    "-gen Bayescan/batch_8_final_filtered_aligned_genepop_east.txt \\\n",
    "-s \"newline\" \\\n",
    "-o Bayescan/batch_8_east_coastal_Bayescan_p100_fst_stacksIDs.txt"
   ]
  },
  {
   "cell_type": "markdown",
   "metadata": {},
   "source": [
    "#### East p1000"
   ]
  },
  {
   "cell_type": "code",
   "execution_count": 6,
   "metadata": {},
   "outputs": [
    {
     "name": "stdout",
     "output_type": "stream",
     "text": [
      "indexing stacks loci...\n",
      "You have  4286  loci.\n",
      "copying over BAYESCAN output..\n",
      "Copied over  4286  loci.\n"
     ]
    }
   ],
   "source": [
    "!python bayescan_to_stacks_locus_IDs.py \\\n",
    "-i Bayescan/batch_8_east_coastal_Bayescan_p1K_output_fst.txt \\\n",
    "-gen Bayescan/batch_8_final_filtered_aligned_genepop_east.txt \\\n",
    "-s \"newline\" \\\n",
    "-o Bayescan/batch_8_east_coastal_Bayescan_p1K_fst_stacksIDs.txt"
   ]
  },
  {
   "cell_type": "markdown",
   "metadata": {},
   "source": [
    "** Now switch over to R and use the R script [Bayescan_KorPCod_MF](https://github.com/mfisher5/PCod-Korea-repo/blob/master/analyses/R/Bayescan_KorPCod_MF.R)**\n",
    "\n",
    "<br>\n",
    "#### OUTLIERS:\n",
    "\n",
    "p100: 26\n",
    "\n",
    "p1000: 17\n",
    "\n"
   ]
  },
  {
   "cell_type": "code",
   "execution_count": null,
   "metadata": {
    "collapsed": true
   },
   "outputs": [],
   "source": []
  }
 ],
 "metadata": {
  "kernelspec": {
   "display_name": "Python 2",
   "language": "python",
   "name": "python2"
  },
  "language_info": {
   "codemirror_mode": {
    "name": "ipython",
    "version": 2
   },
   "file_extension": ".py",
   "mimetype": "text/x-python",
   "name": "python",
   "nbconvert_exporter": "python",
   "pygments_lexer": "ipython2",
   "version": "2.7.13"
  }
 },
 "nbformat": 4,
 "nbformat_minor": 2
}
