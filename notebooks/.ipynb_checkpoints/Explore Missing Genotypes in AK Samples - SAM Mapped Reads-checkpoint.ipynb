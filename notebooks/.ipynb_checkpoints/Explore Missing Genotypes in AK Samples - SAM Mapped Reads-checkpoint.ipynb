{
 "cells": [
  {
   "cell_type": "markdown",
   "metadata": {},
   "source": [
    "## Exploring missing genotypes in Alaska samples, batch 1 - \n",
    "### Percent of SAM reads that were mapped to the reference, AK v. KOR\n",
    "\n",
    "\n",
    "\n",
    "To troubleshoot missing genotypes in AK samples for stacks batch 1, I'm going back to the original alignment to the reference genome. Looking at the number of loci identified per individual in `pstacks`, you can see a clear difference between Korean samples (most with the same # of loci present in the reference catalog) and the Alaskan samples (most with fewer than the # of loci present in the reference catalog). \n",
    "\n",
    "![img-n_loci-pstacks](https://github.com/mfisher5/PCod-Compare-repo/blob/master/stacks_pipeline_analyses/n_loci_tagsfiles_AKvKOR_b1.png?raw=true)\n",
    "\n",
    "Is this a read depth issue, or are the sequences for the loci just that different in the AK samples?\n",
    "\n",
    "### Mapped Reads in SAM files\n",
    "\n",
    "Comparing the # of mapped reads in each sam file\n",
    "\n",
    "process taken from [alvaralmstedt Github page](https://github.com/alvaralmstedt/Tutorials/wiki/Separating-mapped-and-unmapped-reads-from-libraries). I'll run through the whole thing with a single sample to check to make sure that it works correctly. "
   ]
  },
  {
   "cell_type": "code",
   "execution_count": 1,
   "metadata": {
    "collapsed": false
   },
   "outputs": [
    {
     "name": "stdout",
     "output_type": "stream",
     "text": [
      "/mnt/hgfs/Pacific cod/DataAnalysis/PCod-Compare-repo\n"
     ]
    }
   ],
   "source": [
    "cd ../"
   ]
  },
  {
   "cell_type": "code",
   "execution_count": 2,
   "metadata": {
    "collapsed": false
   },
   "outputs": [
    {
     "name": "stdout",
     "output_type": "stream",
     "text": [
      "/mnt/hgfs/Pacific cod/DataAnalysis/PCod-Compare-repo/stacks_b1_wgenome\n"
     ]
    }
   ],
   "source": [
    "cd stacks_b1_wgenome/"
   ]
  },
  {
   "cell_type": "code",
   "execution_count": 4,
   "metadata": {
    "collapsed": false
   },
   "outputs": [],
   "source": [
    "!samtools view -S -F4 UP03_001.sam > ../UP03_001_mapped.sam"
   ]
  },
  {
   "cell_type": "markdown",
   "metadata": {},
   "source": [
    "According to the Github page, \"These commands will look in the bam/sam file and extract reads depending on what is in column 4 in every line. Unmapped reads have “0” and mapped reads will have some other bigger number. -f4 will check for this “0” while -F4 will do the inverse, similar to the -v flag in grep.\""
   ]
  },
  {
   "cell_type": "code",
   "execution_count": 6,
   "metadata": {
    "collapsed": false
   },
   "outputs": [
    {
     "name": "stdout",
     "output_type": "stream",
     "text": [
      "2837736\r\n"
     ]
    }
   ],
   "source": [
    "!cat ../UP03_001_mapped.sam | wc -l"
   ]
  },
  {
   "cell_type": "code",
   "execution_count": 7,
   "metadata": {
    "collapsed": false
   },
   "outputs": [
    {
     "name": "stdout",
     "output_type": "stream",
     "text": [
      "5084845 + 0 in total (QC-passed reads + QC-failed reads)\r\n",
      "0 + 0 secondary\r\n",
      "0 + 0 supplementary\r\n",
      "0 + 0 duplicates\r\n",
      "2837736 + 0 mapped (55.81% : N/A)\r\n",
      "0 + 0 paired in sequencing\r\n",
      "0 + 0 read1\r\n",
      "0 + 0 read2\r\n",
      "0 + 0 properly paired (N/A : N/A)\r\n",
      "0 + 0 with itself and mate mapped\r\n",
      "0 + 0 singletons (N/A : N/A)\r\n",
      "0 + 0 with mate mapped to a different chr\r\n",
      "0 + 0 with mate mapped to a different chr (mapQ>=5)\r\n"
     ]
    }
   ],
   "source": [
    "# compared to flagstat output:\n",
    "!samtools flagstat UP03_001.sam"
   ]
  },
  {
   "cell_type": "code",
   "execution_count": 8,
   "metadata": {
    "collapsed": false
   },
   "outputs": [
    {
     "name": "stdout",
     "output_type": "stream",
     "text": [
      "2837736\r\n"
     ]
    }
   ],
   "source": [
    "# all of the above in one step:\n",
    "!samtools view -S -F4 UP03_001.sam | wc -l"
   ]
  },
  {
   "cell_type": "markdown",
   "metadata": {},
   "source": [
    "** To do this with all sam files, I use the following bash script:**"
   ]
  },
  {
   "cell_type": "code",
   "execution_count": 12,
   "metadata": {
    "collapsed": false
   },
   "outputs": [
    {
     "name": "stdout",
     "output_type": "stream",
     "text": [
      "#!/bin/bash\r",
      "\r\n",
      "\r",
      "\r\n",
      "###### THIS SHELL SCRIPT WILL PRODUCE THE # OF MAPPED SEQUENCES IN ALL SAM FILES IN A SPECIFIED FOLDER ######\r",
      "\r\n",
      "\r",
      "\r\n",
      "##MF 8/23/2017\r",
      "\r\n",
      "\r",
      "\r\n",
      "echo \"You must have `samtools` installed to run this script. If you do not have samtools installed, exit now.\"\r",
      "\r\n",
      "echo \"--\"\r",
      "\r\n",
      "echo \"What is the relative path to your .sam files?\"\r",
      "\r\n",
      "read PATH\r",
      "\r\n",
      "\r",
      "\r\n",
      "cd $PATH\r",
      "\r\n",
      "\r",
      "\r\n",
      "echo \"finding all 'sam' files\"\r",
      "\r\n",
      "sam_file_array=\"$(find . -name '*.sam')\"\r",
      "\r\n",
      "\r",
      "\r\n",
      "for file in $sam_file_array\r",
      "\r\n",
      "do\r",
      "\r\n",
      "\techo $file >> ../sam_mappedreadcounts_b1_AK.txt\r",
      "\r\n",
      "\tsamtools view $file | wc -l >> ../sam_mappedreadcounts_b1_AK.txt\r",
      "\r\n",
      "\tsamtools view -S -F4 $file | wc -l >> ../sam_mappedreadcounts_b1_AK.txt\r",
      "\r\n",
      "done\r",
      "\r\n"
     ]
    }
   ],
   "source": [
    "#for AK files\n",
    "!cat ../scripts/count_mapped_reads_samfile.sh"
   ]
  },
  {
   "cell_type": "code",
   "execution_count": 13,
   "metadata": {
    "collapsed": false
   },
   "outputs": [
    {
     "name": "stdout",
     "output_type": "stream",
     "text": [
      "#!/bin/bash\r\n",
      "\r\n",
      "###### THIS SHELL SCRIPT WILL PRODUCE THE # OF MAPPED SEQUENCES IN ALL SAM FILES IN A SPECIFIED FOLDER ######\r\n",
      "\r\n",
      "##MF 8/23/2017\r\n",
      "\r\n",
      "echo \"You must have `samtools` installed to run this script. If you do not have samtools installed, exit now.\"\r\n",
      "echo \"--\"\r\n",
      "echo \"What is the relative path to your .sam files?\"\r\n",
      "read DIRECTORY\r\n",
      "\r\n",
      "cd $DIRECTORY\r\n",
      "\r\n",
      "echo \"finding all 'sam' files\"\r\n",
      "sam_file_array=\"$(find . -name '*.sam')\"\r\n",
      "\r\n",
      "\r\n",
      "echo \"counting all reads / mapped reads in each samfile...\"\r\n",
      "\r\n",
      "for file in $sam_file_array\r\n",
      "do\r\n",
      "\tgzip -d $file\t\r\n",
      "\techo $file >> ../sam_mappedreadcounts_b1_AK.txt\r\n",
      "\tsamtools view $file | wc -l >> ../sam_mappedreadcounts_b1_AK.txt\r\n",
      "\tsamtools view -S -F4 $file | wc -l >> ../sam_mappedreadcounts_b1_AK.txt\r\n",
      "\tgzip $file\r\n",
      "\techo $file \"done\"\r\n",
      "done\r\n"
     ]
    }
   ],
   "source": [
    "#for KOR files\n",
    "!cat ../scripts/count_mapped_reads_gzipsamfile.sh"
   ]
  },
  {
   "cell_type": "markdown",
   "metadata": {},
   "source": [
    "<br>\n",
    "**Parse output**"
   ]
  },
  {
   "cell_type": "code",
   "execution_count": 1,
   "metadata": {
    "collapsed": false
   },
   "outputs": [
    {
     "name": "stdout",
     "output_type": "stream",
     "text": [
      "/mnt/hgfs/Pacific cod/DataAnalysis/PCod-Compare-repo\n"
     ]
    }
   ],
   "source": [
    "cd ../"
   ]
  },
  {
   "cell_type": "code",
   "execution_count": 2,
   "metadata": {
    "collapsed": false
   },
   "outputs": [],
   "source": [
    "AKinfile = open(\"sam_mappedreadcounts_b1_AK.txt\", \"r\")\n",
    "p_mapped_reads_ak = []\n",
    "count = 0\n",
    "for line in AKinfile:\n",
    "    if line.startswith(\"./\"):\n",
    "        count += 1\n",
    "        sample = line.strip()\n",
    "        if sample.startswith(\"./PI\"):\n",
    "            count = 0\n",
    "    elif count == 1:\n",
    "        total_reads = int(line.strip())\n",
    "        count += 1\n",
    "    elif count == 2:\n",
    "        mapped = int(line.strip())\n",
    "        p_mapped = float(mapped)/float(total_reads)\n",
    "        p_mapped_reads_ak.append(p_mapped)\n",
    "        if p_mapped < 0.10:\n",
    "            print sample\n",
    "        count = 0\n",
    "AKinfile.close()\n",
    "\n",
    "\n",
    "KORinfile = open(\"../PCod-Korea-repo/sam_mappedreadcounts_b7_KOR.txt\", \"r\")\n",
    "p_mapped_reads_kor = []\n",
    "count = 0\n",
    "for line in KORinfile:\n",
    "    if line.startswith(\"./\"):\n",
    "        count += 1\n",
    "    elif count == 1:\n",
    "        total_reads = int(line.strip())\n",
    "        count += 1\n",
    "    elif count == 2:\n",
    "        mapped = int(line.strip())\n",
    "        if total_reads > 0:\n",
    "            p_mapped = float(mapped)/float(total_reads)\n",
    "            p_mapped_reads_kor.append(p_mapped)\n",
    "        count = 0\n",
    "KORinfile.close()"
   ]
  },
  {
   "cell_type": "markdown",
   "metadata": {},
   "source": [
    "**Graph for comparison**"
   ]
  },
  {
   "cell_type": "code",
   "execution_count": 3,
   "metadata": {
    "collapsed": true
   },
   "outputs": [],
   "source": [
    "import numpy as np\n",
    "import matplotlib.pyplot as plt"
   ]
  },
  {
   "cell_type": "code",
   "execution_count": 9,
   "metadata": {
    "collapsed": false
   },
   "outputs": [
    {
     "data": {
      "image/png": "[encoded data removed]",
      "text/plain": [
       "<matplotlib.figure.Figure at 0x7f6d58ef23d0>"
      ]
     },
     "metadata": {},
     "output_type": "display_data"
    }
   ],
   "source": [
    "plt.hist(p_mapped_reads_ak, bins=np.arange(-0.10,0.90,0.1) + 0.05, color=\"darkcyan\", alpha = 0.5, label = \"alaska\")\n",
    "plt.hist(p_mapped_reads_kor, bins=np.arange(-0.10,0.90,0.1)+ 0.05, color=\"darkviolet\", alpha = 0.5, label = \"korea\")\n",
    "plt.legend()\n",
    "plt.suptitle(\"Proportion of reads mapped to Korean reference catalog\")\n",
    "plt.xlabel(\"Proportion of reads\")\n",
    "plt.ylabel(\"# Individuals\")\n",
    "plt.show()"
   ]
  },
  {
   "cell_type": "code",
   "execution_count": 10,
   "metadata": {
    "collapsed": false
   },
   "outputs": [],
   "source": [
    "plt.close()"
   ]
  },
  {
   "cell_type": "markdown",
   "metadata": {
    "collapsed": true
   },
   "source": [
    "#### 9/6/2017\n",
    "\n",
    "### Of the mapped reads, how many total locations in the reference catalog are being mapped to? \n",
    "\n",
    "A relatively similar number of reads are being mapped to the reference catalog between the Alaskan and Korean samples. And yet in pstacks I end up with fewer tags in the Alaskan samples. Is it possible that I have fewer loci with a read depth of 10+ in the Alaskan samples, but if I lower the stack depth parameter in `pstacks` I'll be abel to retain more loci? To look at this, I'll plot\n",
    "\n",
    "1. histogram of number of stacks in `pstacks` (loci I have now)\n",
    "\n",
    "2. histogram of number of catalog (potential loci after lowering stack depth)\n",
    "\n",
    "<br>\n",
    "### (1) Number of stacks in `pstacks`"
   ]
  },
  {
   "cell_type": "code",
   "execution_count": 11,
   "metadata": {
    "collapsed": false
   },
   "outputs": [
    {
     "name": "stdout",
     "output_type": "stream",
     "text": [
      "/mnt/hgfs/Pacific cod/DataAnalysis/PCod-Compare-repo/stacks_pipeline_analyses/analyses_AK_LowGenotypeRate\n"
     ]
    }
   ],
   "source": [
    "cd stacks_pipeline_analyses/analyses_AK_LowGenotypeRate/"
   ]
  },
  {
   "cell_type": "code",
   "execution_count": 12,
   "metadata": {
    "collapsed": true
   },
   "outputs": [],
   "source": [
    "infile = open(\"pstacks_stacks_comparison.txt\", \"r\")\n",
    "infile.readline()\n",
    "\n",
    "stacks_ak = []\n",
    "stacks_kor = []\n",
    "\n",
    "for line in infile:\n",
    "    linelist = line.strip().split()\n",
    "    if linelist[2] == \"AK\":\n",
    "        stacks_ak.append(float(linelist[1]))\n",
    "    elif linelist[2] == \"KOR\":\n",
    "        stacks_kor.append(float(linelist[1]))\n",
    "infile.close()"
   ]
  },
  {
   "cell_type": "code",
   "execution_count": 17,
   "metadata": {
    "collapsed": false
   },
   "outputs": [
    {
     "data": {
      "image/png": "[encoded data removed]",
      "text/plain": [
       "<matplotlib.figure.Figure at 0x7f6d58e6a650>"
      ]
     },
     "metadata": {},
     "output_type": "display_data"
    }
   ],
   "source": [
    "plt.hist(stacks_ak, bins=np.arange(-500,25000,500) + 250, color=\"darkcyan\", alpha = 0.5, label = \"alaska\")\n",
    "plt.hist(stacks_kor, bins=np.arange(-500,25000,500) + 250, color=\"darkviolet\", alpha = 0.5, label = \"korea\")\n",
    "plt.legend()\n",
    "plt.suptitle(\"Number of Stacks per Individual (pstacks)\")\n",
    "plt.xlabel(\"# of Stacks\")\n",
    "plt.ylabel(\"# Individuals\")\n",
    "plt.show()"
   ]
  },
  {
   "cell_type": "code",
   "execution_count": 18,
   "metadata": {
    "collapsed": true
   },
   "outputs": [],
   "source": [
    "plt.close()"
   ]
  },
  {
   "cell_type": "code",
   "execution_count": 19,
   "metadata": {
    "collapsed": false
   },
   "outputs": [
    {
     "data": {
      "text/plain": [
       "u'/mnt/hgfs/Pacific cod/DataAnalysis/PCod-Compare-repo/stacks_pipeline_analyses/analyses_AK_LowGenotypeRate'"
      ]
     },
     "execution_count": 19,
     "metadata": {},
     "output_type": "execute_result"
    }
   ],
   "source": [
    "pwd"
   ]
  },
  {
   "cell_type": "markdown",
   "metadata": {},
   "source": [
    "<br>\n",
    "<br>\n",
    "### (2) Catalog loci mapped in sam files\n",
    "\n",
    "Using a combination of `sort` and `depth`, I can get both the number of catalog loci mapped to in each individual, and the depth of coverage for each of those catalog loci (not taking into account quality metrics).\n",
    "\n",
    "Starting with a test:"
   ]
  },
  {
   "cell_type": "code",
   "execution_count": 20,
   "metadata": {
    "collapsed": false
   },
   "outputs": [
    {
     "name": "stdout",
     "output_type": "stream",
     "text": [
      "/mnt/hgfs/Pacific cod/DataAnalysis/PCod-Compare-repo\n"
     ]
    }
   ],
   "source": [
    "cd ../../"
   ]
  },
  {
   "cell_type": "code",
   "execution_count": 21,
   "metadata": {
    "collapsed": false
   },
   "outputs": [
    {
     "name": "stdout",
     "output_type": "stream",
     "text": [
      "@HD\tVN:1.0\tSO:unsorted\r\n",
      "@SQ\tSN:3480\tLN:142\r\n",
      "@SQ\tSN:11542\tLN:142\r\n",
      "@SQ\tSN:11540\tLN:142\r\n",
      "@SQ\tSN:11544\tLN:142\r\n",
      "@SQ\tSN:11545\tLN:142\r\n",
      "@SQ\tSN:5988\tLN:142\r\n",
      "@SQ\tSN:5989\tLN:142\r\n",
      "@SQ\tSN:19398\tLN:142\r\n",
      "@SQ\tSN:5982\tLN:142\r\n"
     ]
    }
   ],
   "source": [
    "!head stacks_b1_wgenome/WC05_001.sam"
   ]
  },
  {
   "cell_type": "code",
   "execution_count": 22,
   "metadata": {
    "collapsed": false,
    "scrolled": true
   },
   "outputs": [
    {
     "name": "stdout",
     "output_type": "stream",
     "text": [
      "2_2316_12085_100773/1\t4\t*\t0\t0\t*\t*\t0\t0\tTGCAGGACTTCAAGTTTACAGTGGAACACAGGGCAGAGAAGCTTCATGGGAACGCTGATGCCATGTCGAGAAGGGATGATTGCTGTTGGTCT\tAACCBC22@<A<<3<?7?+3+??33?A5A35?11)))9>BB9=9=7<===7)-5'5;6A>77).>7;<;3.35==;55(55=>>??3989=?\tXM:i:0\r\n",
      "2_2316_13737_100765/1\t0\t31518\t1\t255\t92M\t*\t0\t0\tTGCAGGGAAGACAGGTCTAGCTGGAAGAAGAGTAAGTGTACAGATTAGGGATTTTAATAAAAGATTTGGGTACTCTGGGTGTGTGTGTGTGT\tFEHFHHDFGEGHEHIFEEDHBHIFDBGG?BHI<B?DDADIIGGIGIJJGHHBFHJIIGDGGHGIIGHEEB?@BC>@CEA>88??B9<5<9A?\tXA:i:0\tMD:Z:92\tNM:i:0\r\n",
      "2_2316_15157_100806/1\t4\t*\t0\t0\t*\t*\t0\t0\tTGCAGGACTCATATTGCTTGCTCACTTTAAGAAATACTAGAACACCACAGCCCCTCATTAGTACAGTGGTCAGTATCCATTGGCCATGCATG\tDBDDH;FFGHIIE,,AFFHIEGFHHGIHHGIGH@FECGHIII>GDGECH>BCAGCGFHCEG@@GHGE=7=)=@;;B@DDCCA@(;>ACCACC\tXM:i:0\r\n",
      "2_2316_16087_100827/1\t4\t*\t0\t0\t*\t*\t0\t0\tTGCAGGTGTCTATGCTATCAAGTCTGGGTCAAACTGTGTCTGAGGGTCTAGTTGTTGCTGAAGAGCACTTCGGCAAGGCCAAATGTTTTGCT\tFDHHHHHJJJJJJ<FHIJJJIIIJJJJJHIJIJIIJGHIGIJFHIJHHHHIIJJIJJJIJGHHIIGEEEHFEDFBBABBD??CACBDDDBCC\tXM:i:0\r\n",
      "2_2316_18290_100835/1\t4\t*\t0\t0\t*\t*\t0\t0\tTGCAGGCCCACCGGAAAGACGTGATCAAGAGGCAGGATGTGATCTACGGTGAGGGCAACGCTTCCCCCTCTGCTTCTCGTCGTTTCTTTGCA\tDDFHHH@FHGGIH):CBHIIBBGHIIICHEGIGIIGG>FCECGHBEHFA?ADEEBCBC9;@?B@@??=B5ACACCCC@8<@BB@@CCC@AAC\tXM:i:0\r\n",
      "2_2316_18632_100793/1\t4\t*\t0\t0\t*\t*\t0\t0\tTGCAGGTGATATTTCACTCTTCTTCAGAGGCCCTGCTTTCAGAGGGGGTCTTGGTGGAGGGCAGAGCCGGGGGGGCACAGAATGAGTCAAGG\tFFHHHHAGIIJJJ,ACHIIJIJIJJJJIJJJJIJIJJJ9FGHGIIIIJABCHFHCDFFDDDDDD?ADDDDDDBBBDB??CACDCDDCDDDDD\tXM:i:0\r\n",
      "2_2316_19228_100837/1\t4\t*\t0\t0\t*\t*\t0\t0\tTGCAGGGCAAGTAGACATTGGCTTGTTCTACCAACTGCTGTTGAAATGAATGATCAATACATATAACAGATAGTGATAGTTATAGGTCTTTA\tDDFFFFD=E?BGE?3CFCDFIDFFE?:CC@D@?D;BG?GEFIFIEEDF==BB48=CC@=CEF4C7=@?C>A>@7?@;B);6;;@@C@@@>5;\tXM:i:0\r\n",
      "2_2316_19425_100768/1\t0\t14492\t1\t255\t92M\t*\t0\t0\tTGCAGGTACGTGTAAAGACCGGTGAGCTGATCCTGCCTTTGTGTCTGGGTCCAGTTGGGGCAGGTTCAGGCTGTTTCTGCTCCTCCAGGGCC\tFEHHHHHJJJGII+CHHIIJIJIIFIGEIIJJIJJIJIJJJHIIJIJJJHHIGHIHHHHFFDDD?CDDDCDDDBDDDDDDDDDDDDDDDD@B\tXA:i:0\tMD:Z:92\tNM:i:0\r\n",
      "2_2316_19863_100808/1\t4\t*\t0\t0\t*\t*\t0\t0\tTGCAGGACGCCCAATGCCTGCTGATATCACACCACAAGCCTGGCAGTGGAGACAGCGATGATCGCCTCCCTCTGGGTAATACGATAGTAGTA\tDDHHHHACFDFAF)):9CFF>F@F@GG9DFGEBBBDDFEEGIF@FH7@>DGEHEHE:==A>@CBB;?BB@??CCA99>(:3:80<<>::@@C\tXM:i:0\r\n",
      "2_2316_20998_100756/1\t4\t*\t0\t0\t*\t*\t0\t0\tTGCAGGTTGAAAAAATGTTCTTTTCCATGCTGCACATCATGGCCACAACCAATAGATGGAGGAACTCAACAGAAAAAGGACAAGACCGCACT\tFDHGHHHIJIIIJ+<CDHIIGGJIIGGHIIEIGIJGI>GGHJIJHGGHIHIHIIGJJIHIJFGHG<BFF@@ECEDDDDBDDCAB?9959><3\tXM:i:0\r\n"
     ]
    }
   ],
   "source": [
    "!tail stacks_b1_wgenome/WC05_001.sam"
   ]
  },
  {
   "cell_type": "code",
   "execution_count": 24,
   "metadata": {
    "collapsed": true
   },
   "outputs": [],
   "source": [
    "!samtools sort stacks_b1_wgenome/WC05_001.sam >> WC05_001_sorted.sam"
   ]
  },
  {
   "cell_type": "code",
   "execution_count": 25,
   "metadata": {
    "collapsed": false,
    "scrolled": true
   },
   "outputs": [],
   "source": [
    "!samtools depth WC05_001_sorted.sam >> samtools_depth_testing.txt"
   ]
  },
  {
   "cell_type": "code",
   "execution_count": 26,
   "metadata": {
    "collapsed": false
   },
   "outputs": [
    {
     "name": "stdout",
     "output_type": "stream",
     "text": [
      "18643\t1\t1\r\n",
      "18643\t2\t1\r\n",
      "18643\t3\t1\r\n",
      "18643\t4\t1\r\n",
      "18643\t5\t1\r\n",
      "18643\t6\t1\r\n",
      "18643\t7\t1\r\n",
      "18643\t8\t1\r\n",
      "18643\t9\t1\r\n",
      "18643\t10\t1\r\n"
     ]
    }
   ],
   "source": [
    "!head samtools_depth_testing.txt"
   ]
  },
  {
   "cell_type": "markdown",
   "metadata": {},
   "source": [
    "So what does this actually mean? According to [this thread](https://www.reddit.com/r/bioinformatics/comments/44mvvj/samtools_depth_question/): \n",
    "\n",
    "\"The depth command in the current version of samtools produces three tab delimited columns. The first column is the name of the reference sequence, the second column is the base index within the reference, and the third column is the depth of coverage for that base. The file is already sorted by base position. In your example, it is reporting that the reference \"gi|568815576|ref|NC_000022.11|\" (human chromosome 22) at base position 10510051 has two reads mapped to it.\"\n",
    "\n",
    "<br>\n",
    "Now to do for a subset of individuals from each population:"
   ]
  },
  {
   "cell_type": "code",
   "execution_count": 30,
   "metadata": {
    "collapsed": false,
    "scrolled": true
   },
   "outputs": [
    {
     "data": {
      "text/plain": [
       "u'/mnt/hgfs/Pacific cod/DataAnalysis/PCod-Compare-repo'"
      ]
     },
     "execution_count": 30,
     "metadata": {},
     "output_type": "execute_result"
    }
   ],
   "source": [
    "pwd"
   ]
  },
  {
   "cell_type": "code",
   "execution_count": 31,
   "metadata": {
    "collapsed": false
   },
   "outputs": [
    {
     "name": "stdout",
     "output_type": "stream",
     "text": [
      "/mnt/hgfs/Pacific cod/DataAnalysis/PCod-Compare-repo/stacks_pipeline_analyses/analyses_AK_LowGenotypeRate\n"
     ]
    }
   ],
   "source": [
    "cd stacks_pipeline_analyses/analyses_AK_LowGenotypeRate/"
   ]
  },
  {
   "cell_type": "markdown",
   "metadata": {},
   "source": [
    "**Alaskan samples**"
   ]
  },
  {
   "cell_type": "code",
   "execution_count": 39,
   "metadata": {
    "collapsed": false
   },
   "outputs": [],
   "source": [
    "shell = open(\"samtools_sort_depth.sh\", \"w\")\n",
    "individs = open(\"Alaskan_subset_individs.txt\", \"r\")\n",
    "\n",
    "shell.write(\"#!/bin/bash\\n\\n\")\n",
    "shell.write(\"## Sort a .sam file, and then determine the coverage at each catalog locus\\n#MF 9/6/2017\\n\\n\")\n",
    "for line in individs:\n",
    "    sample = line.strip()\n",
    "    shell.write(\"samtools sort \" + sample + \".sam >> \" + sample + \"_sorted.sam\\nsamtools depth \" + sample + \"_sorted.sam >> \" + sample + \"_depth.txt\\n\")\n",
    "    shell.write(\"rm \" + sample + \"_sorted.sam\\n\")\n",
    "    shell.write(\"echo '\" + sample + \"done.'\\n\\n\")\n",
    "individs.close()\n",
    "shell.close()"
   ]
  },
  {
   "cell_type": "code",
   "execution_count": 40,
   "metadata": {
    "collapsed": false
   },
   "outputs": [
    {
     "name": "stdout",
     "output_type": "stream",
     "text": [
      "#!/bin/bash\r\n",
      "\r\n",
      "## Sort a .sam file, and then determine the coverage at each catalog locus\r\n",
      "#MF 9/6/2017\r\n",
      "\r\n",
      "samtools sort KOD03_035.sam >> KOD03_035_sorted.sam\r\n",
      "samtools depth KOD03_035_sorted.sam >> KOD03_035_depth.txt\r\n",
      "rm KOD03_035_sorted.sam\r\n",
      "echo 'KOD03_035done.'\r\n",
      "\r\n"
     ]
    }
   ],
   "source": [
    "!head samtools_sort_depth.sh"
   ]
  },
  {
   "cell_type": "code",
   "execution_count": 41,
   "metadata": {
    "collapsed": true
   },
   "outputs": [],
   "source": [
    "!mv samtools_sort_depth.sh ../../stacks_b1_wgenome/samtools_sort_depth.sh"
   ]
  },
  {
   "cell_type": "code",
   "execution_count": 42,
   "metadata": {
    "collapsed": false
   },
   "outputs": [
    {
     "name": "stdout",
     "output_type": "stream",
     "text": [
      "/mnt/hgfs/Pacific cod/DataAnalysis/PCod-Compare-repo/stacks_b1_wgenome\n"
     ]
    }
   ],
   "source": [
    "cd ../../stacks_b1_wgenome"
   ]
  },
  {
   "cell_type": "code",
   "execution_count": null,
   "metadata": {
    "collapsed": true
   },
   "outputs": [],
   "source": [
    "./samtools_sort_depth.sh"
   ]
  },
  {
   "cell_type": "markdown",
   "metadata": {},
   "source": [
    "#### 9/6/2017\n",
    "\n",
    "#### HAD TO RERUN 9/7/2017 BECAUSE OF POWER OUTAGE"
   ]
  },
  {
   "cell_type": "code",
   "execution_count": 2,
   "metadata": {
    "collapsed": false
   },
   "outputs": [
    {
     "name": "stdout",
     "output_type": "stream",
     "text": [
      "/mnt/hgfs/Pacific cod/DataAnalysis/PCod-Compare-repo/stacks_pipeline_analyses/analyses_AK_LowGenotypeRate\n"
     ]
    }
   ],
   "source": [
    "cd ../stacks_pipeline_analyses/analyses_AK_LowGenotypeRate/"
   ]
  },
  {
   "cell_type": "code",
   "execution_count": 5,
   "metadata": {
    "collapsed": false
   },
   "outputs": [],
   "source": [
    "individs = open(\"Alaskan_subset_individs.txt\", \"r\")\n",
    "outfile = open(\"AK_catalogloci_depths.txt\", \"w\")\n",
    "outfile.write(\"sample\\tn_cat_loci\\tdepths\\n\")\n",
    "\n",
    "sample_list_ak = []\n",
    "for line in individs:\n",
    "\tsample_list_ak.append(line.strip())\n",
    "individs.close()\n",
    "\n",
    "catalog_loci_dict_ak = {}\n",
    "depth_dict_ak = {}\n",
    "n_cat_all_ak = []\n",
    "depth_all_ak = []\n",
    "\n",
    "for sample in sample_list_ak:\n",
    "    infile = open(\"../../stacks_b1_wgenome/\" + sample + \"_depth.txt\", \"r\")\n",
    "    sample_cat_loci = []\n",
    "    sample_depths = []\n",
    "    for line in infile:\n",
    "        linelist = line.strip().split()\n",
    "        if linelist[0] not in sample_cat_loci:\n",
    "            sample_cat_loci.append(linelist[0])\n",
    "            sample_depths.append(int(linelist[2]))\n",
    "    infile.close()\n",
    "    catalog_loci_dict_ak[sample] = sample_cat_loci\n",
    "    depth_dict_ak[sample] = sample_depths\n",
    "    outfile.write(sample + \"\\t\" + str(len(sample_cat_loci)) + \"\\t\" + \",\".join(str(x) for x in sample_depths) + \"\\n\")\n",
    "\n",
    "for sample in catalog_loci_dict_ak.keys():\n",
    "    n_cat_all_ak.append(len(catalog_loci_dict_ak[sample]))\n",
    "    depth_all_ak.append(depth_dict_ak[sample])\n",
    "outfile.close()"
   ]
  },
  {
   "cell_type": "markdown",
   "metadata": {},
   "source": [
    "**Korean samples**"
   ]
  },
  {
   "cell_type": "code",
   "execution_count": 53,
   "metadata": {
    "collapsed": false
   },
   "outputs": [],
   "source": [
    "\n",
    "shell = open(\"samtools_sort_depth_kor.sh\", \"w\")\n",
    "individs = open(\"Korean_subset_individs.txt\", \"r\")\n",
    "shell.write(\"#!/bin/bash\\n\\n\")\n",
    "shell.write(\"## Sort a .sam.gz file, and then determine the coverage at each catalog locus\\n#MF 9/6/2017\\n\\n\")\n",
    "for line in individs:\n",
    "    sample = line.strip()\n",
    "    shell.write(\"gzip -d \" + sample + \".sam.gz\\n\")\n",
    "    shell.write(\"samtools sort \" + sample + \".sam >> \" + sample + \"_sorted.sam\\nsamtools depth \" + sample + \"_sorted.sam >> \" + sample + \"_depth.txt\\n\")\n",
    "    shell.write(\"rm \" + sample + \"_sorted.sam\\n\")\n",
    "    shell.write(\"echo '\" + sample + \"done.'\\n\\n\")\n",
    "individs.close()\n",
    "shell.close()\n"
   ]
  },
  {
   "cell_type": "code",
   "execution_count": 54,
   "metadata": {
    "collapsed": true
   },
   "outputs": [],
   "source": [
    "!mv samtools_sort_depth_kor.sh ../../../PCod-Korea-repo/stacks_b7_wgenome/samtools_sort_depth_kor.sh"
   ]
  },
  {
   "cell_type": "code",
   "execution_count": 2,
   "metadata": {
    "collapsed": false
   },
   "outputs": [
    {
     "name": "stdout",
     "output_type": "stream",
     "text": [
      "/mnt/hgfs/Pacific cod/DataAnalysis/PCod-Compare-repo/stacks_pipeline_analyses/analyses_AK_LowGenotypeRate\n"
     ]
    }
   ],
   "source": [
    "cd ../stacks_pipeline_analyses/analyses_AK_LowGenotypeRate/"
   ]
  },
  {
   "cell_type": "code",
   "execution_count": 5,
   "metadata": {
    "collapsed": false,
    "scrolled": true
   },
   "outputs": [
    {
     "ename": "KeyboardInterrupt",
     "evalue": "",
     "output_type": "error",
     "traceback": [
      "\u001b[0;31m---------------------------------------------------------------------------\u001b[0m",
      "\u001b[0;31mKeyboardInterrupt\u001b[0m                         Traceback (most recent call last)",
      "\u001b[0;32m<ipython-input-5-e89a906a0ff2>\u001b[0m in \u001b[0;36m<module>\u001b[0;34m()\u001b[0m\n\u001b[1;32m     17\u001b[0m         \u001b[0;32mfor\u001b[0m \u001b[0mline\u001b[0m \u001b[0;32min\u001b[0m \u001b[0minfile\u001b[0m\u001b[0;34m:\u001b[0m\u001b[0;34m\u001b[0m\u001b[0m\n\u001b[1;32m     18\u001b[0m                 \u001b[0mlinelist\u001b[0m \u001b[0;34m=\u001b[0m \u001b[0mline\u001b[0m\u001b[0;34m.\u001b[0m\u001b[0mstrip\u001b[0m\u001b[0;34m(\u001b[0m\u001b[0;34m)\u001b[0m\u001b[0;34m.\u001b[0m\u001b[0msplit\u001b[0m\u001b[0;34m(\u001b[0m\u001b[0;34m)\u001b[0m\u001b[0;34m\u001b[0m\u001b[0m\n\u001b[0;32m---> 19\u001b[0;31m                 \u001b[0;32mif\u001b[0m \u001b[0mlinelist\u001b[0m\u001b[0;34m[\u001b[0m\u001b[0;36m0\u001b[0m\u001b[0;34m]\u001b[0m \u001b[0;32mnot\u001b[0m \u001b[0;32min\u001b[0m \u001b[0msample_cat_loci\u001b[0m\u001b[0;34m:\u001b[0m\u001b[0;34m\u001b[0m\u001b[0m\n\u001b[0m\u001b[1;32m     20\u001b[0m                         \u001b[0msample_cat_loci\u001b[0m\u001b[0;34m.\u001b[0m\u001b[0mappend\u001b[0m\u001b[0;34m(\u001b[0m\u001b[0mlinelist\u001b[0m\u001b[0;34m[\u001b[0m\u001b[0;36m0\u001b[0m\u001b[0;34m]\u001b[0m\u001b[0;34m)\u001b[0m\u001b[0;34m\u001b[0m\u001b[0m\n\u001b[1;32m     21\u001b[0m                         \u001b[0msample_depths\u001b[0m\u001b[0;34m.\u001b[0m\u001b[0mappend\u001b[0m\u001b[0;34m(\u001b[0m\u001b[0mint\u001b[0m\u001b[0;34m(\u001b[0m\u001b[0mlinelist\u001b[0m\u001b[0;34m[\u001b[0m\u001b[0;36m2\u001b[0m\u001b[0;34m]\u001b[0m\u001b[0;34m)\u001b[0m\u001b[0;34m)\u001b[0m\u001b[0;34m\u001b[0m\u001b[0m\n",
      "\u001b[0;31mKeyboardInterrupt\u001b[0m: "
     ]
    }
   ],
   "source": [
    "individs = open(\"Korean_subset_individs.txt\", \"r\")\n",
    "\n",
    "sample_list_kor = []\n",
    "for line in individs:\n",
    "\tsample_list_kor.append(line.strip())\n",
    "individs.close()\n",
    "\n",
    "catalog_loci_dict_kor = {}\n",
    "depth_dict_kor = {}\n",
    "n_cat_all_kor = []\n",
    "depth_all_kor = []\n",
    "\n",
    "for sample in sample_list_kor:\n",
    "\tinfile = open(\"../../../PCod-Korea-repo/stacks_b7_wgenome/\" + sample + \"_depth.txt\", \"r\")\n",
    "\tsample_cat_loci = []\n",
    "\tsample_depths = []\n",
    "\tfor line in infile:\n",
    "\t\tlinelist = line.strip().split()\n",
    "\t\tif linelist[0] not in sample_cat_loci:\n",
    "\t\t\tsample_cat_loci.append(linelist[0])\n",
    "\t\t\tsample_depths.append(int(linelist[2]))\n",
    "\tinfile.close()\n",
    "\tcatalog_loci_dict_kor[sample] = sample_cat_loci\n",
    "\tdepth_dict_kor[sample] = sample_depths\n",
    "\n",
    "for sample in catalog_loci_dict_kor.keys():\n",
    "\tn_cat_all_kor.append(len(catalog_loci_dict_kor[sample]))\n",
    "\tdepth_all_kor.append(depth_dict_kor[sample])"
   ]
  },
  {
   "cell_type": "markdown",
   "metadata": {},
   "source": [
    "*This code ran from 5:30 to 11:40PM*"
   ]
  },
  {
   "cell_type": "code",
   "execution_count": 6,
   "metadata": {
    "collapsed": false
   },
   "outputs": [
    {
     "name": "stdout",
     "output_type": "stream",
     "text": [
      "BOR07_05.1\n"
     ]
    }
   ],
   "source": [
    "print sample"
   ]
  },
  {
   "cell_type": "code",
   "execution_count": 9,
   "metadata": {
    "collapsed": false
   },
   "outputs": [
    {
     "name": "stdout",
     "output_type": "stream",
     "text": [
      "Done with sample BOR07_05.1\n",
      "Done with sample GEO020414_10\n",
      "Done with sample GEO020414_11\n",
      "Done with sample GEO020414_13\n"
     ]
    }
   ],
   "source": [
    "sample_list_kor_2 = [\"BOR07_05.1\", \"GEO020414_10\", \"GEO020414_11\", \"GEO020414_13\"]\n",
    "for sample in sample_list_kor_2:\n",
    "    infile = open(\"../../../PCod-Korea-repo/stacks_b7_wgenome/\" + sample + \"_depth.txt\", \"r\")\n",
    "    sample_cat_loci = []\n",
    "    sample_depths = []\n",
    "    for line in infile:\n",
    "        linelist = line.strip().split()\n",
    "        if linelist[0] not in sample_cat_loci:\n",
    "            sample_cat_loci.append(linelist[0])\n",
    "            sample_depths.append(int(linelist[2]))\n",
    "    infile.close()\n",
    "    catalog_loci_dict_kor[sample] = sample_cat_loci\n",
    "    depth_dict_kor[sample] = sample_depths\n",
    "    print \"Done with sample \" + sample\n",
    "\n",
    "for sample in catalog_loci_dict_kor.keys():\n",
    "    n_cat_all_kor.append(len(catalog_loci_dict_kor[sample]))\n",
    "    depth_all_kor.append(depth_dict_kor[sample])"
   ]
  },
  {
   "cell_type": "markdown",
   "metadata": {},
   "source": [
    "#### HAD TO RERUN 9/7/2017 BECAUSE OF POWER OUTAGE"
   ]
  },
  {
   "cell_type": "code",
   "execution_count": 6,
   "metadata": {
    "collapsed": false
   },
   "outputs": [
    {
     "data": {
      "text/plain": [
       "u'/mnt/hgfs/Pacific cod/DataAnalysis/PCod-Compare-repo/stacks_pipeline_analyses/analyses_AK_LowGenotypeRate'"
      ]
     },
     "execution_count": 6,
     "metadata": {},
     "output_type": "execute_result"
    }
   ],
   "source": [
    "pwd"
   ]
  },
  {
   "cell_type": "code",
   "execution_count": 7,
   "metadata": {
    "collapsed": false,
    "scrolled": true
   },
   "outputs": [
    {
     "name": "stdout",
     "output_type": "stream",
     "text": [
      "### This file with take the output of multiple `samtools depth` files and combine into a text file ###\r\n",
      "\r\n",
      "individs = open(\"Korean_subset_individs.txt\", \"r\")\r\n",
      "outfile = open(\"KOR_catalogloci_depths.txt\", \"w\")\r\n",
      "outfile.write(\"sample\\tn_cat_loci\\tdepths\\n\")\r\n",
      "\r\n",
      "\r\n",
      "sample_list_kor = []\r\n",
      "for line in individs:\r\n",
      "\tsample_list_kor.append(line.strip())\r\n"
     ]
    }
   ],
   "source": [
    "!head samfiles_coverage_calc.py"
   ]
  },
  {
   "cell_type": "code",
   "execution_count": null,
   "metadata": {
    "collapsed": true
   },
   "outputs": [],
   "source": [
    "#ran in terminal\n",
    "python samfiles_coverage_calc.py"
   ]
  },
  {
   "cell_type": "markdown",
   "metadata": {},
   "source": [
    "**Transfer data from KOR file into lists**"
   ]
  },
  {
   "cell_type": "code",
   "execution_count": 32,
   "metadata": {
    "collapsed": false
   },
   "outputs": [],
   "source": [
    "infile = open(\"KOR_catalogloci_depths_half.txt\", \"r\")\n",
    "\n",
    "infile.readline()\n",
    "\n",
    "n_cat_all_kor = []\n",
    "depth_all_kor = []\n",
    "\n",
    "for line in infile:\n",
    "    n_cat_all_kor.append(int(line.strip().split(\"\\t\")[1]))\n",
    "    depths = line.strip().split(\"\\t\")[2]\n",
    "    depths_list = depths.split(\",\")\n",
    "    depth_all_kor.append([int(i) for i in depths_list])\n",
    "infile.close()"
   ]
  },
  {
   "cell_type": "markdown",
   "metadata": {},
   "source": [
    "** Graphical Comparison **"
   ]
  },
  {
   "cell_type": "code",
   "execution_count": 33,
   "metadata": {
    "collapsed": true
   },
   "outputs": [],
   "source": [
    "import numpy as np\n",
    "import matplotlib.pyplot as plt"
   ]
  },
  {
   "cell_type": "code",
   "execution_count": 37,
   "metadata": {
    "collapsed": false,
    "scrolled": true
   },
   "outputs": [
    {
     "data": {
      "image/png": "[encoded data removed]",
      "text/plain": [
       "<matplotlib.figure.Figure at 0x7f39d5546a50>"
      ]
     },
     "metadata": {},
     "output_type": "display_data"
    }
   ],
   "source": [
    "plt.hist(n_cat_all_ak, bins=np.arange(10000,25000,500) + 250, color=\"darkcyan\", alpha = 0.5, label = \"alaska\")\n",
    "plt.hist(n_cat_all_kor, bins=np.arange(10000,25000,500) + 250, color=\"darkviolet\", alpha = 0.5, label = \"korea\")\n",
    "plt.legend(loc=2)\n",
    "plt.suptitle(\"Number of Catalog Loci per Individual (sam file)\")\n",
    "plt.xlabel(\"# of Loci\")\n",
    "plt.ylabel(\"# Individuals\")\n",
    "plt.show()"
   ]
  },
  {
   "cell_type": "code",
   "execution_count": 38,
   "metadata": {
    "collapsed": true
   },
   "outputs": [],
   "source": [
    "plt.close()"
   ]
  },
  {
   "cell_type": "code",
   "execution_count": 40,
   "metadata": {
    "collapsed": false
   },
   "outputs": [
    {
     "data": {
      "image/png": "[encoded data removed]",
      "text/plain": [
       "<matplotlib.figure.Figure at 0x7f39d54231d0>"
      ]
     },
     "metadata": {},
     "output_type": "display_data"
    }
   ],
   "source": [
    "plt.hist(n_cat_all_ak, bins=np.arange(20000,25000,500) + 250, color=\"darkcyan\", alpha = 0.5, label = \"alaska\")\n",
    "plt.hist(n_cat_all_kor, bins=np.arange(20000,25000,500) + 250, color=\"darkviolet\", alpha = 0.5, label = \"korea\")\n",
    "plt.legend(loc=2)\n",
    "plt.suptitle(\"Number of Catalog Loci per Individual (sam file) - ZOOM\")\n",
    "plt.xlabel(\"# of Loci\")\n",
    "plt.ylabel(\"# Individuals\")\n",
    "plt.show()"
   ]
  },
  {
   "cell_type": "code",
   "execution_count": 41,
   "metadata": {
    "collapsed": true
   },
   "outputs": [],
   "source": [
    "plt.close()"
   ]
  },
  {
   "cell_type": "markdown",
   "metadata": {},
   "source": [
    "** Change depth info from list of list into single list **"
   ]
  },
  {
   "cell_type": "code",
   "execution_count": 48,
   "metadata": {
    "collapsed": true
   },
   "outputs": [],
   "source": [
    "infile = open(\"KOR_catalogloci_depths_half.txt\", \"r\")\n",
    "\n",
    "infile.readline()\n",
    "\n",
    "depth_all_kor = []\n",
    "\n",
    "for line in infile:\n",
    "    depths_list = depths.split(\",\")\n",
    "    for i in depths_list:\n",
    "        depth_all_kor.append(int(i))\n",
    "infile.close()"
   ]
  },
  {
   "cell_type": "code",
   "execution_count": 50,
   "metadata": {
    "collapsed": false
   },
   "outputs": [],
   "source": [
    "depth_all_ak_edit = []\n",
    "for i in depth_all_ak:\n",
    "    for j in i:\n",
    "        depth_all_ak_edit.append(int(j))"
   ]
  },
  {
   "cell_type": "code",
   "execution_count": 63,
   "metadata": {
    "collapsed": false
   },
   "outputs": [
    {
     "data": {
      "image/png": "[encoded data removed]",
      "text/plain": [
       "<matplotlib.figure.Figure at 0x7f39d55b3f10>"
      ]
     },
     "metadata": {},
     "output_type": "display_data"
    }
   ],
   "source": [
    "plt.hist(depth_all_ak_edit, bins=np.arange(0,1000,10), color=\"darkcyan\", alpha = 0.5, label = \"alaska\")\n",
    "plt.hist(depth_all_kor, bins=np.arange(0,1000,10), color=\"darkviolet\", alpha = 0.5, label = \"korea\")\n",
    "plt.legend()\n",
    "plt.suptitle(\"Depth of each locus in each individual (sam file)\")\n",
    "plt.xlabel(\"# of Reads\")\n",
    "plt.ylabel(\"# Loci\")\n",
    "plt.show()"
   ]
  },
  {
   "cell_type": "code",
   "execution_count": 64,
   "metadata": {
    "collapsed": true
   },
   "outputs": [],
   "source": [
    "plt.close()"
   ]
  },
  {
   "cell_type": "code",
   "execution_count": 60,
   "metadata": {
    "collapsed": false
   },
   "outputs": [
    {
     "name": "stdout",
     "output_type": "stream",
     "text": [
      "average depth for alaskan subset:  52.0751354458\n",
      "average depth for korean subset:  86.6229441459\n"
     ]
    }
   ],
   "source": [
    "print \"average depth for alaskan subset: \", np.mean(depth_all_ak_edit)\n",
    "print \"average depth for korean subset: \", np.mean(depth_all_kor)"
   ]
  },
  {
   "cell_type": "code",
   "execution_count": 65,
   "metadata": {
    "collapsed": false
   },
   "outputs": [
    {
     "data": {
      "image/png": "[encoded data removed]",
      "text/plain": [
       "<matplotlib.figure.Figure at 0x7f39d5bba810>"
      ]
     },
     "metadata": {},
     "output_type": "display_data"
    }
   ],
   "source": [
    "plt.hist(depth_all_ak_edit, bins=np.arange(0,20,1), color=\"darkcyan\", alpha = 0.5, label = \"alaska\")\n",
    "plt.hist(depth_all_kor, bins=np.arange(0,20,1), color=\"darkviolet\", alpha = 0.5, label = \"korea\")\n",
    "plt.legend()\n",
    "plt.suptitle(\"Depth of each locus in each individual (sam file) - ZOOM\")\n",
    "plt.xlabel(\"# of Reads\")\n",
    "plt.ylabel(\"# Loci\")\n",
    "plt.show()"
   ]
  },
  {
   "cell_type": "code",
   "execution_count": 66,
   "metadata": {
    "collapsed": true
   },
   "outputs": [],
   "source": [
    "plt.close()"
   ]
  },
  {
   "cell_type": "code",
   "execution_count": null,
   "metadata": {
    "collapsed": true
   },
   "outputs": [],
   "source": []
  }
 ],
 "metadata": {
  "anaconda-cloud": {},
  "kernelspec": {
   "display_name": "Python [default]",
   "language": "python",
   "name": "python2"
  },
  "language_info": {
   "codemirror_mode": {
    "name": "ipython",
    "version": 2
   },
   "file_extension": ".py",
   "mimetype": "text/x-python",
   "name": "python",
   "nbconvert_exporter": "python",
   "pygments_lexer": "ipython2",
   "version": "2.7.12"
  }
 },
 "nbformat": 4,
 "nbformat_minor": 1
}
