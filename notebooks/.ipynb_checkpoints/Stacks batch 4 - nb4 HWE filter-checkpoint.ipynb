{
 "cells": [
  {
   "cell_type": "markdown",
   "metadata": {},
   "source": [
    "## Stacks batch 4 - notebook 4, HWE filtering\n",
    "<br>\n",
    "\n",
    "The steps in this notebook are based on [this prior notebook]().\n",
    "\n",
    "\n",
    "\n",
    "<br>\n",
    "#### 10/25/2017\n",
    "\n",
    "<Br>\n",
    "### Convert matrix to genepop\n",
    "\n",
    "My matrix currently has loci as column headers and individs as rows. I need individuals as columns going into the conversion script"
   ]
  },
  {
   "cell_type": "code",
   "execution_count": 1,
   "metadata": {},
   "outputs": [
    {
     "name": "stdout",
     "output_type": "stream",
     "text": [
      "/mnt/hgfs/PCod-Compare-repo/scripts/PostStacksFilter_rSNP\n"
     ]
    }
   ],
   "source": [
    "cd ../scripts/PostStacksFilter_rSNP/"
   ]
  },
  {
   "cell_type": "code",
   "execution_count": 3,
   "metadata": {},
   "outputs": [],
   "source": [
    "!python transpose.py ../../stacks_b4_wgenome/batch_4_filteredMAF_filteredLoci50_filteredIndivids50.txt \\\n",
    "../../stacks_b4_wgenome/batch_4_filteredMAF_filteredLoci50_filteredIndivids50_transposed.txt"
   ]
  },
  {
   "cell_type": "code",
   "execution_count": 9,
   "metadata": {},
   "outputs": [
    {
     "name": "stdout",
     "output_type": "stream",
     "text": [
      "usage: csv_conversion_forGENEPOP.py [-h] [-f INPUT] [-o OUTPUT] [-m POPMAP]\r\n",
      "                                    [-pm PATH_POPMAP] [-ps PATH_STACKS]\r\n",
      "                                    [-t TITLE] [-split SPLIT_BY]\r\n",
      "\r\n",
      "convert matrix file (samples as column headers) to a genepop file.\r\n",
      "\r\n",
      "optional arguments:\r\n",
      "  -h, --help            show this help message and exit\r\n",
      "  -f INPUT, --input INPUT\r\n",
      "                        2 x 2 matrix file with samples as column headers, one\r\n",
      "                        row per locus.\r\n",
      "  -o OUTPUT, --output OUTPUT\r\n",
      "                        output file in genepop format\r\n",
      "  -m POPMAP, --popmap POPMAP\r\n",
      "                        population map file\r\n",
      "  -pm PATH_POPMAP, --path_popmap PATH_POPMAP\r\n",
      "                        path to population map file\r\n",
      "  -ps PATH_STACKS, --path_stacks PATH_STACKS\r\n",
      "                        path to stacks files, including input file\r\n",
      "  -t TITLE, --title TITLE\r\n",
      "                        title for your genepop file\r\n",
      "  -split SPLIT_BY, --split_by SPLIT_BY\r\n",
      "                        split contents of each line by... ['tab' / 'space']\r\n"
     ]
    }
   ],
   "source": [
    "!python csv_conversion_forGENEPOP.py -h"
   ]
  },
  {
   "cell_type": "code",
   "execution_count": 14,
   "metadata": {},
   "outputs": [
    {
     "name": "stdout",
     "output_type": "stream",
     "text": [
      "You have 17 populations.\n",
      "These are your populations, with the number of samples in each:\n",
      "OrderedDict([('Pohang15', 34), ('Geoje15', 37), ('Namhae15', 19), ('YellowSea16', 30), ('Jukbyeon07', 37), ('JinhaeBay07', 47), ('JinhaeBay08', 52), ('Boryeong07', 24), ('Geoje14', 35), ('Kodiak03', 46), ('Adak06', 32), ('WashCoast05', 44), ('HecStrait04', 45), ('SalishSea12_13', 40), ('JuandeFuca12', 22), ('PWSound12', 47), ('UnimakPass03', 45)])\n",
      "creating script for part 2...\n",
      "calling script for part 2...\n",
      "transposing genotypes matrix...\n",
      "writing loci into genepop file...\n",
      "writing genotypes into genepop file by population...\n",
      "done.\n"
     ]
    }
   ],
   "source": [
    "!python csv_conversion_forGENEPOP.py \\\n",
    "-f batch_4_filteredMAF_filteredLoci50_filteredIndivids50_transposed.txt \\\n",
    "-o batch_4_filteredMAF_filteredLoci50_filteredIndivids50_genepop.txt \\\n",
    "-m PopMap_combo_b4_filterIndivids.txt \\\n",
    "-pm ../ \\\n",
    "-ps ../../stacks_b4_wgenome \\\n",
    "-t \"Korea + Alaska Data, stacks batch 4, filtered (w/o HWE filtering)\" \\\n",
    "-s \"space\""
   ]
  },
  {
   "cell_type": "markdown",
   "metadata": {},
   "source": [
    "### Run genepop\n",
    "\n",
    "`option 1 >> suboption 3`"
   ]
  },
  {
   "cell_type": "code",
   "execution_count": 16,
   "metadata": {},
   "outputs": [
    {
     "name": "stdout",
     "output_type": "stream",
     "text": [
      "/mnt/hgfs/PCod-Compare-repo\n"
     ]
    }
   ],
   "source": [
    "cd ../../"
   ]
  },
  {
   "cell_type": "code",
   "execution_count": 17,
   "metadata": {
    "collapsed": true
   },
   "outputs": [],
   "source": [
    "!mkdir analyses"
   ]
  },
  {
   "cell_type": "code",
   "execution_count": 18,
   "metadata": {},
   "outputs": [
    {
     "name": "stdout",
     "output_type": "stream",
     "text": [
      "/mnt/hgfs/PCod-Compare-repo/analyses\n"
     ]
    }
   ],
   "source": [
    "cd analyses"
   ]
  },
  {
   "cell_type": "code",
   "execution_count": 19,
   "metadata": {
    "collapsed": true
   },
   "outputs": [],
   "source": [
    "!mkdir genepop_HWE"
   ]
  },
  {
   "cell_type": "code",
   "execution_count": 20,
   "metadata": {},
   "outputs": [
    {
     "name": "stdout",
     "output_type": "stream",
     "text": [
      "/mnt/hgfs/PCod-Compare-repo/analyses/genepop_HWE\n"
     ]
    }
   ],
   "source": [
    "cd genepop_HWE"
   ]
  },
  {
   "cell_type": "code",
   "execution_count": 21,
   "metadata": {},
   "outputs": [
    {
     "name": "stdout",
     "output_type": "stream",
     "text": [
      "\u001b[0m\u001b[01;32mbatch_4_filteredMAF_filteredLoci50_filteredIndivids50_genepop.txt.P\u001b[0m*\r\n"
     ]
    }
   ],
   "source": [
    "ls"
   ]
  },
  {
   "cell_type": "markdown",
   "metadata": {},
   "source": [
    "### Parse genepop"
   ]
  },
  {
   "cell_type": "code",
   "execution_count": 23,
   "metadata": {},
   "outputs": [
    {
     "name": "stdout",
     "output_type": "stream",
     "text": [
      "usage: parse_genepop_HWEbylocus.py [-h] [-p P] [-op OUTPUTPVAL]\r\n",
      "                                   [-of OUTPUTFIS]\r\n",
      "\r\n",
      "optional arguments:\r\n",
      "  -h, --help            show this help message and exit\r\n",
      "  -p P, --P P           path & name of .P file output from genepop\r\n",
      "  -op OUTPUTPVAL, --OUTPUTpval OUTPUTPVAL\r\n",
      "                        path & name of the output file for the parsed HWE\r\n",
      "                        pvalues\r\n",
      "  -of OUTPUTFIS, --OUTPUTfis OUTPUTFIS\r\n",
      "                        path & name of the output file for the parsed Fis\r\n",
      "                        values\r\n"
     ]
    }
   ],
   "source": [
    "!python parse_genepop_HWEbylocus.py -h"
   ]
  },
  {
   "cell_type": "code",
   "execution_count": 42,
   "metadata": {},
   "outputs": [
    {
     "name": "stdout",
     "output_type": "stream",
     "text": [
      "generating dictionaries of pvalues and fis values...\n",
      "writing output to files...\n",
      "done.\n"
     ]
    }
   ],
   "source": [
    "!python parse_genepop_HWEbylocus.py \\\n",
    "-p batch_4_filteredMAF_filteredLoci50_filteredIndivids50_genepop.txt.P \\\n",
    "-op batch_4_parsed_HWEpvals.txt \\\n",
    "-of batch_4_parsed_FISpvals.txt"
   ]
  },
  {
   "cell_type": "code",
   "execution_count": 46,
   "metadata": {},
   "outputs": [],
   "source": [
    "infile = open(\"batch_4_parsed_HWEpvals.txt\", \"r\")\n",
    "\n",
    "percents = []\n",
    "loci_list = []\n",
    "na_count = 0\n",
    "\n",
    "for line in infile:\n",
    "    if \"locus\" not in line:\n",
    "        if line.strip().split()[10] != \"NA\":\n",
    "            new_percent = float(line.strip().split()[18])\n",
    "            percents.append(new_percent)\n",
    "            loci_list.append(line.strip().split()[0])\n",
    "        else:\n",
    "            na_count += 1\n",
    "\n",
    "infile.close()"
   ]
  },
  {
   "cell_type": "code",
   "execution_count": 47,
   "metadata": {},
   "outputs": [
    {
     "data": {
      "image/png": "[encoded data removed]",
      "text/plain": [
       "<matplotlib.figure.Figure at 0x7f700a851fd0>"
      ]
     },
     "metadata": {},
     "output_type": "display_data"
    }
   ],
   "source": [
    "import numpy as np\n",
    "import matplotlib.pyplot as plt\n",
    "\n",
    "plt.hist(percents, bins = np.arange(-0.1, 1, .0625)+0.05, color = \"darkcyan\")\n",
    "plt.suptitle(\"Distribution of % of populations out of HWE\")\n",
    "plt.xlabel(\"% of populations out of HWE (by locus)\")\n",
    "plt.ylabel(\"# Loci\")\n",
    "plt.show()"
   ]
  },
  {
   "cell_type": "code",
   "execution_count": 48,
   "metadata": {
    "collapsed": true
   },
   "outputs": [],
   "source": [
    "plt.close()"
   ]
  },
  {
   "cell_type": "markdown",
   "metadata": {},
   "source": [
    "<br>\n",
    "\n",
    "### Use multiple testing technique to generate chi-square value for each locus"
   ]
  },
  {
   "cell_type": "code",
   "execution_count": 50,
   "metadata": {
    "collapsed": true
   },
   "outputs": [],
   "source": [
    "from scipy.stats import chisqprob\n",
    "import numpy as np"
   ]
  },
  {
   "cell_type": "code",
   "execution_count": 52,
   "metadata": {},
   "outputs": [
    {
     "name": "stderr",
     "output_type": "stream",
     "text": [
      "/home/mfisher5/anaconda2/lib/python2.7/site-packages/ipykernel_launcher.py:30: DeprecationWarning: `chisqprob` is deprecated!\n",
      "stats.chisqprob is deprecated in scipy 0.17.0; use stats.distributions.chi2.sf instead.\n"
     ]
    },
    {
     "name": "stdout",
     "output_type": "stream",
     "text": [
      "You have  344  loci out of HWE.\n"
     ]
    }
   ],
   "source": [
    "## STEP ONE: conduct chisquare and determine loci out of HWE. \n",
    "## write results to a file and save a list of the loci out of HWE. \n",
    "\n",
    "infile = open(\"batch_4_parsed_HWEpvals.txt\", \"r\")\n",
    "outfile = open(\"batch_4_parsed_HWEchisquare.txt\", \"w\")\n",
    "\n",
    "outfile.write(\"locus\\tChiSquare\\tdf\\tpvalue\\n\")\n",
    "\n",
    "sig_count = 0\n",
    "loci_to_discard = []\n",
    "\n",
    "for line in infile:\n",
    "    if \"locus\" not in line:\n",
    "        linelist= line.strip().split()\n",
    "        outfile.write(linelist[0]) #write locus name to outfile\n",
    "        sum = 0 #sum of ln(pvals)\n",
    "        n_pops = 0 # number of pops with pvals (some will have NAs)\n",
    "        for i in range(1,17):\n",
    "            if linelist[i] != \"NA\" and float(linelist[i]) == 0.0:\n",
    "                newval = np.log(float(0.00000000001))\n",
    "                sum += newval\n",
    "                n_pops += 1\n",
    "            elif linelist[i] != \"NA\" and float(linelist[i]) != 0.0:\n",
    "                newval = np.log(float(linelist[i]))\n",
    "                sum += newval\n",
    "                n_pops += 1\n",
    "        chisquare = float(-2) * float(sum)\n",
    "        df = n_pops * 2\n",
    "        outfile.write(\"\\t\" + str(chisquare) + \"\\t\" + str(df))\n",
    "        pvalue = chisqprob(chisquare,df)\n",
    "        if pvalue < 0.05:\n",
    "            sig_count += 1\n",
    "            loci_to_discard.append(linelist[0])\n",
    "        outfile.write(\"\\t\" + str(pvalue) + \"\\n\")\n",
    "infile.close()\n",
    "outfile.close()\n",
    "\n",
    "print \"You have \", sig_count, \" loci out of HWE.\""
   ]
  },
  {
   "cell_type": "code",
   "execution_count": 53,
   "metadata": {},
   "outputs": [
    {
     "name": "stdout",
     "output_type": "stream",
     "text": [
      "2110  loci written to output file.\n"
     ]
    }
   ],
   "source": [
    "## STEP TWO: rewrite the file of HWEpvals by locus by population, \n",
    "## excluding those loci out of HWE. \n",
    "\n",
    "infile = open(\"batch_4_parsed_HWEpvals.txt\", \"r\")\n",
    "outfile = open(\"batch_4_HWEpvals_filtered.txt\", \"w\")\n",
    "\n",
    "locus_count = 0\n",
    "\n",
    "for line in infile:\n",
    "    if line.startswith(\"#\"):\n",
    "        outfile.write(\"# parsed GENEPOP output, HWE p-values by locus by population FILTERED #\\n\")\n",
    "    elif line.startswith(\"locus\"):\n",
    "        outfile.write(line)\n",
    "    else:\n",
    "        locus = line.strip().split()[0]\n",
    "        if locus not in loci_to_discard:\n",
    "            outfile.write(line)\n",
    "            locus_count += 1\n",
    "infile.close()\n",
    "outfile.close()\n",
    "print locus_count, \" loci written to output file.\""
   ]
  },
  {
   "cell_type": "markdown",
   "metadata": {},
   "source": [
    "<br>\n",
    "### filter file"
   ]
  },
  {
   "cell_type": "code",
   "execution_count": 54,
   "metadata": {},
   "outputs": [
    {
     "data": {
      "text/plain": [
       "u'/mnt/hgfs/PCod-Compare-repo/analyses/genepop_HWE'"
      ]
     },
     "execution_count": 54,
     "metadata": {},
     "output_type": "execute_result"
    }
   ],
   "source": [
    "pwd"
   ]
  },
  {
   "cell_type": "code",
   "execution_count": 55,
   "metadata": {},
   "outputs": [
    {
     "name": "stdout",
     "output_type": "stream",
     "text": [
      "/mnt/hgfs/PCod-Compare-repo\n"
     ]
    }
   ],
   "source": [
    "cd ../../"
   ]
  },
  {
   "cell_type": "code",
   "execution_count": 56,
   "metadata": {},
   "outputs": [
    {
     "name": "stdout",
     "output_type": "stream",
     "text": [
      "Preparing to copy  2110  loci from old file\n",
      "\n",
      "Wrote  2110  loci to new matrix file.\n",
      "Removed  344  loci.\n",
      "All loci to keep were copied.\n"
     ]
    }
   ],
   "source": [
    "old = open(\"stacks_b4_wgenome/batch_4_filteredMAF_filteredLoci50_filteredIndivids50.txt\", \"r\")\n",
    "locifile = open(\"analyses/genepop_HWE/batch_4_HWEpvals_filtered.txt\", \"r\")\n",
    "new = open(\"stacks_b4_wgenome/batch_4_filteredMAF_filteredLoci50_filteredIndivids50_filteredHWE.txt\", \"w\")\n",
    "blacklisted = open(\"stacks_b4_wgenome/batch_4_filteredMAF_filteredLoci50_filteredIndivids50_filteredHWE_BAD.txt\", \"w\")\n",
    "\n",
    "## Note that my matrix file here has loci as column header, so I need to transpose it!\n",
    "data_matrix = []\n",
    "for line in old:\n",
    "\ttmp_line = ''\n",
    "\ttmp_line += line.strip()\n",
    "\tdata_matrix.append(tmp_line.split(' '))\n",
    "old.close()\n",
    "\n",
    "transposed = zip(*data_matrix)\n",
    "\n",
    "#write sample names to new file\n",
    "new.write(\"\\t\".join(transposed[0]) + \"\\n\")\n",
    "blacklisted.write(\"\\t\".join(transposed[0]) + \"\\n\")\n",
    "\n",
    "#get list of loci that should be retained\n",
    "loci_to_keep = []\n",
    "\n",
    "for line in locifile: \n",
    "    if \"locus\" not in line:\n",
    "        loci_to_keep.append(line.strip().split()[0]) \n",
    "locifile.close()\n",
    "\n",
    "print \"Preparing to copy \", len(loci_to_keep), \" loci from old file\"\n",
    "print \"\"\n",
    "\n",
    "\n",
    "cp_count = 0\n",
    "rm_count = 0\n",
    "loci_kept = []\n",
    "\n",
    "for line in transposed[1:]: \n",
    "    locusID = line[0]\n",
    "    if locusID in loci_to_keep:\n",
    "        new.write(\"\\t\".join(line) + \"\\n\")\n",
    "        cp_count += 1\n",
    "        loci_kept.append(locusID)\n",
    "    else:\n",
    "        blacklisted.write(\"\\t\".join(line) + \"\\n\")\n",
    "        rm_count += 1\n",
    "new.close()\n",
    "blacklisted.close()\n",
    "\n",
    "print \"Wrote \", cp_count, \" loci to new matrix file.\"\n",
    "print \"Removed \", rm_count, \" loci.\"\n",
    "\n",
    "if len([i for i in loci_to_keep if i in loci_kept]) == len(loci_to_keep):\n",
    "    print \"All loci to keep were copied.\"\n",
    "else:\n",
    "    print \"uhoh! not all loci to keep were copied.\"\n",
    "    print \"the following loci were not copied over:\"\n",
    "    print [i for i in loci_to_keep if i not in loci_kept]"
   ]
  },
  {
   "cell_type": "markdown",
   "metadata": {},
   "source": [
    "<br>\n",
    "\n",
    "### new distribution"
   ]
  },
  {
   "cell_type": "code",
   "execution_count": 57,
   "metadata": {},
   "outputs": [
    {
     "name": "stdout",
     "output_type": "stream",
     "text": [
      "/mnt/hgfs/PCod-Compare-repo/analyses/genepop_HWE\n"
     ]
    }
   ],
   "source": [
    "cd analyses/genepop_HWE"
   ]
  },
  {
   "cell_type": "code",
   "execution_count": 58,
   "metadata": {},
   "outputs": [],
   "source": [
    "infile = open(\"batch_4_HWEpvals_filtered.txt\", \"r\")\n",
    "\n",
    "percents = []\n",
    "loci_list = []\n",
    "\n",
    "for line in infile:\n",
    "    if \"locus\" not in line and \"#\" not in line:\n",
    "        num = line.strip().split()[18]\n",
    "        if num != \"NA\":\n",
    "            new_percent = float(num)\n",
    "            percents.append(new_percent)\n",
    "            loci_list.append(line.strip().split()[0])\n",
    "\n",
    "infile.close()"
   ]
  },
  {
   "cell_type": "code",
   "execution_count": 59,
   "metadata": {},
   "outputs": [
    {
     "data": {
      "image/png": "[encoded data removed]",
      "text/plain": [
       "<matplotlib.figure.Figure at 0x7f6ffd99e690>"
      ]
     },
     "metadata": {},
     "output_type": "display_data"
    }
   ],
   "source": [
    "plt.hist(percents, bins = np.arange(-0.1, 1.1, .05)+0.05, color = \"darkcyan\")\n",
    "plt.suptitle(\"POST HWE FILTER: Distribution of % of populations out of HWE\")\n",
    "plt.xlabel(\"% of populations out of HWE (by locus)\")\n",
    "plt.ylabel(\"# Loci\")\n",
    "plt.show()"
   ]
  },
  {
   "cell_type": "code",
   "execution_count": 60,
   "metadata": {
    "collapsed": true
   },
   "outputs": [],
   "source": [
    "plt.close()"
   ]
  },
  {
   "cell_type": "markdown",
   "metadata": {},
   "source": [
    "<br>\n",
    "<br>\n",
    "### convert matrix to genepop file"
   ]
  },
  {
   "cell_type": "code",
   "execution_count": 61,
   "metadata": {},
   "outputs": [
    {
     "data": {
      "text/plain": [
       "u'/mnt/hgfs/PCod-Compare-repo/analyses/genepop_HWE'"
      ]
     },
     "execution_count": 61,
     "metadata": {},
     "output_type": "execute_result"
    }
   ],
   "source": [
    "pwd"
   ]
  },
  {
   "cell_type": "code",
   "execution_count": 62,
   "metadata": {},
   "outputs": [
    {
     "name": "stdout",
     "output_type": "stream",
     "text": [
      "/mnt/hgfs/PCod-Compare-repo/scripts/PostStacksFilter_rSNP\n"
     ]
    }
   ],
   "source": [
    "cd ../../scripts/PostStacksFilter_rSNP/"
   ]
  },
  {
   "cell_type": "code",
   "execution_count": 64,
   "metadata": {},
   "outputs": [
    {
     "name": "stdout",
     "output_type": "stream",
     "text": [
      "usage: csv_conversion_forGENEPOP.py [-h] [-f INPUT] [-o OUTPUT] [-m POPMAP]\r\n",
      "                                    [-pm PATH_POPMAP] [-ps PATH_STACKS]\r\n",
      "                                    [-t TITLE] [-split SPLIT_BY]\r\n",
      "\r\n",
      "convert matrix file (samples as column headers) to a genepop file.\r\n",
      "\r\n",
      "optional arguments:\r\n",
      "  -h, --help            show this help message and exit\r\n",
      "  -f INPUT, --input INPUT\r\n",
      "                        2 x 2 matrix file with samples as column headers, one\r\n",
      "                        row per locus.\r\n",
      "  -o OUTPUT, --output OUTPUT\r\n",
      "                        output file in genepop format\r\n",
      "  -m POPMAP, --popmap POPMAP\r\n",
      "                        population map file\r\n",
      "  -pm PATH_POPMAP, --path_popmap PATH_POPMAP\r\n",
      "                        path to population map file\r\n",
      "  -ps PATH_STACKS, --path_stacks PATH_STACKS\r\n",
      "                        path to stacks files, including input file\r\n",
      "  -t TITLE, --title TITLE\r\n",
      "                        title for your genepop file\r\n",
      "  -split SPLIT_BY, --split_by SPLIT_BY\r\n",
      "                        split contents of each line by... ['tab' / 'space']\r\n"
     ]
    }
   ],
   "source": [
    "!python csv_conversion_forGENEPOP.py -h"
   ]
  },
  {
   "cell_type": "code",
   "execution_count": 67,
   "metadata": {},
   "outputs": [
    {
     "name": "stdout",
     "output_type": "stream",
     "text": [
      "You have 17 populations.\n",
      "These are your populations, with the number of samples in each:\n",
      "OrderedDict([('Pohang15', 34), ('Geoje15', 37), ('Namhae15', 19), ('YellowSea16', 30), ('Jukbyeon07', 37), ('JinhaeBay07', 47), ('JinhaeBay08', 52), ('Boryeong07', 24), ('Geoje14', 35), ('Kodiak03', 46), ('Adak06', 32), ('WashCoast05', 44), ('HecStrait04', 45), ('SalishSea12_13', 40), ('JuandeFuca12', 22), ('PWSound12', 47), ('UnimakPass03', 45)])\n",
      "creating script for part 2...\n",
      "calling script for part 2...\n",
      "transposing genotypes matrix...\n",
      "writing loci into genepop file...\n",
      "writing genotypes into genepop file by population...\n",
      "done.\n"
     ]
    }
   ],
   "source": [
    "!python csv_conversion_forGENEPOP.py \\\n",
    "-f batch_4_filteredMAF_filteredLoci50_filteredIndivids50_filteredHWE.txt \\\n",
    "-o batch_4_filteredMAF_filteredLoci50_filteredIndivids50_filteredHWE_genepop.txt \\\n",
    "-m PopMap_combo_b4_filterIndivids.txt \\\n",
    "-pm ../ \\\n",
    "-ps ../../stacks_b4_wgenome \\\n",
    "-t \"Korea + Alaska Data Final Genepop, stacks batch 4, filtered (MAF / Loci / Individs / HWE)\" \\\n",
    "-s \"tab\""
   ]
  },
  {
   "cell_type": "markdown",
   "metadata": {},
   "source": [
    "<br>\n",
    "\n",
    "### FINAL GENEPOP FILE:\n",
    "### batch_4_filteredMAF_filteredLoci50_filteredIndivids50_filteredHWE_genepop.txt\n",
    "#### 2110  loci\n"
   ]
  },
  {
   "cell_type": "code",
   "execution_count": null,
   "metadata": {
    "collapsed": true
   },
   "outputs": [],
   "source": []
  }
 ],
 "metadata": {
  "kernelspec": {
   "display_name": "Python 2",
   "language": "python",
   "name": "python2"
  },
  "language_info": {
   "codemirror_mode": {
    "name": "ipython",
    "version": 2
   },
   "file_extension": ".py",
   "mimetype": "text/x-python",
   "name": "python",
   "nbconvert_exporter": "python",
   "pygments_lexer": "ipython2",
   "version": "2.7.13"
  }
 },
 "nbformat": 4,
 "nbformat_minor": 2
}
