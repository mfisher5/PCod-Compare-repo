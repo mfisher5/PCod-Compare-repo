{
 "cells": [
  {
   "cell_type": "markdown",
   "metadata": {},
   "source": [
    "## Stacks pipeline, batch 5 \n",
    "<br>\n",
    "<br>\n",
    "\n",
    "I started this batch at `cstacks`. Despite trimming the sequences to equal lengths, I'm still getting a lot of missing data at particular loci in the Alaskan samples. This may be because I am oversplitting loci, although I am unsure as to why this may be unidirectional (because I'm not seeing loci present in the Alaska samples that are not present in the Korean samples). I want to see if I can retain more loci by running `cstacks` with a mismatch parameter of `n 3` instead of the default, `n 1`.  "
   ]
  },
  {
   "cell_type": "code",
   "execution_count": null,
   "metadata": {
    "collapsed": true
   },
   "outputs": [],
   "source": []
  }
 ],
 "metadata": {
  "kernelspec": {
   "display_name": "Python 2",
   "language": "python",
   "name": "python2"
  },
  "language_info": {
   "codemirror_mode": {
    "name": "ipython",
    "version": 2
   },
   "file_extension": ".py",
   "mimetype": "text/x-python",
   "name": "python",
   "nbconvert_exporter": "python",
   "pygments_lexer": "ipython2",
   "version": "2.7.13"
  }
 },
 "nbformat": 4,
 "nbformat_minor": 2
}
