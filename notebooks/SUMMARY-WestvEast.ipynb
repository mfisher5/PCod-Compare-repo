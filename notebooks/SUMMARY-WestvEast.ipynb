{
 "cells": [
  {
   "cell_type": "markdown",
   "metadata": {},
   "source": [
    "## Summary Notebook\n",
    "### Western v. Eastern Population Data Comparisons\n",
    "\n",
    "\n",
    "I have been having issues combining data from western (Korean spawning aggregates) and eastern (AK / CAN / WashCoast spawning aggregates) Pacific cod populations. For an overview of the data analysis pipeline to combine these data sets, see [Stacks pipeline synthesis notebook](https://github.com/mfisher5/PCod-Compare-repo/blob/master/notebooks/Stacks%20pipeline%20synthesis.ipynb). \n",
    "\n",
    "The common problem that I seem to be running into is missing data in the eastern samples. Data is systematically missing - in all eastern individuals at certain loci. \n",
    "\n",
    "I have gone through several steps to attempt to remedy this issue, detailed below. \n",
    "\n",
    "**Parameters in Original Analysis**\n",
    "1. [Reference Genome](#refgenome)\n",
    "2. [Original stacks run - uncorrected genotypes](#orig)\n",
    "3. [Original stacks run - Corrected genotypes](#orig-corrected)\n",
    "<br>\n",
    "<br>\n",
    "\n",
    "**Troubleshooting**\n",
    "1. [Exploring missing data in original run](#md-batch4)\n",
    "2. [Simulation: Lowering stack depth for genotyping](#lowdepth-test)\n",
    "3. [Lowering `r` Parameter in Populations - batch 8](#batch8)\n",
    "4. [Exploring missing data in batch 8](#md-batch8)\n",
    "5. [Lowering `r` and `m` Parameter in Populations - batch 8 p.2](#batch8-m3)\n",
    "6. [Filtering Individuals First - batch 8 p.3](#batch8-individ)\n",
    "7. iPyrad (in progress)\n",
    "\n",
    "\n",
    "\n",
    "After reviewing all that I have done, I've come up with the following summary: \n",
    "\n",
    "- Using a less stringent missing data filter for individuals and loci (0.50 instead of 0.30) is necessary \n",
    "\n",
    "- Using a lower stack depth (m = 3) may be necessary to increase final number of loci retained. *However,* this would definitely require using stacks genotypes, uncorrected. My worry with this is that when I use uncorrected stacks genotypes, I (a) get a higher proportion of loci *not* genotyped in individuals *despite* adequate stack depth, and (b) get a higher proportion of loci systematically missing in the eastern population. \n",
    "\n",
    "- I'd like to look into the 3-7% loci missing systematically across eastern population, to see if there is a chromosomal inversion here. \n",
    "\n",
    "- Something else to keep in mind - I'm getting *super* low Fis values in batch 4 using Marine's correction script (nearly all are negative). See [Batch 4 - Fis notebook]().\n",
    "\n",
    "\n",
    "\n",
    "\n",
    "\n",
    "<br>\n",
    "<br>\n",
    "______________________________\n",
    "\n",
    "\n",
    "<a id='refgenome'></a>\n",
    "### Reference genome\n",
    "\n",
    "I am using a reference genome assembled de novo using only Korean samples. This reference genome was used successfully in an analysis which only included Korean samples, and resulted in a final data set with ~ 5,000 loci. \n",
    "\n",
    "For details, see [Reference Genome notebook](https://github.com/mfisher5/PCod-Korea-repo/blob/master/notebooks/Reference%20Genome.ipynb)\n",
    "\n",
    "To build the reference genome I used the following parameters: \n",
    "\n",
    "\n",
    "**ustacks:**\n",
    "\n",
    "`-r` \n",
    "`-d `\n",
    "`-m 10 `\n",
    "`-M 3 `\n",
    "`--model_type bounded `\n",
    "\n",
    "<br>\n",
    "**cstacks:**\n",
    "\n",
    "`-n 3 `\n",
    "\n",
    "<br>\n",
    "**populations:**\n",
    "\n",
    "`-t 36 `\n",
    "`-r 0.75 `\n",
    "`-m 10 `\n",
    "\n",
    "<br>\n",
    "**bowtie filtering:**\n",
    "\n",
    "`bowtie -f -v 3 --sam --sam-nohead \\`\n",
    "`batch_3 \\`\n",
    "`unfilteredBOWTIE.fa \\`\n",
    "`batch_3_BOWTIEout.sam`\n",
    "\n",
    "<br>\n",
    "**blast filtering:**\n",
    "\n",
    "After aligning to the blast database, I kept only loci that aligned only to themselves, or best aligned to themselves. \n",
    "\n",
    "<br>\n",
    "**final bowtie filtering:**\n",
    "\n",
    "I kept only loci that aligned once. \n",
    "\n",
    "\n",
    "\n",
    "<br>\n",
    "\n",
    "\n",
    "<br>\n",
    "\n",
    "<a id='orig'></a>\n",
    "### Original run (\"batch 4\"), Stacks genotypes uncorrected\n",
    "\n",
    "My original run of stacks started with eastern and western samples trimmed to 92 base pairs (eastern - from 100bp sequences; western - from 150bp sequences). \n",
    "\n",
    "**Bowtie: aligning fastq files to reference**\n",
    "\n",
    "`-q`\n",
    "`-v 3`\n",
    "`-norc`\n",
    "\n",
    "To see graphical comparisons of the # of reads aligned in AK v. KOR samples, see [Stacks batch 1 - AK alignment notebook](https://github.com/mfisher5/PCod-Compare-repo/blob/master/notebooks/Stacks%20batch%201%20-%20AK%20data%20alignment.ipynb). \n",
    "\n",
    "<br>\n",
    "**trimming .sam files for Korean samples**\n",
    "I aligned my original Korean fastq files, which were 142 bp long. So I went into the .sam files to trim alignments down to 92 bp. \n",
    "\n",
    "<br>\n",
    "**pstacks**\n",
    "\n",
    "`-m 3 `\n",
    "`-p 6 `\n",
    "`--model_type bounded `\n",
    "`--bound_high 0.05`\n",
    "\n",
    "<br>\n",
    "**cstacks**\n",
    "\n",
    "`-n 1`\n",
    "10 individuals per population used to produce catalog. \n",
    "\n",
    "<br>\n",
    "**populations**\n",
    "\n",
    "`-t 36`\n",
    "`-r 0.8`\n",
    "`-p 3`\n",
    "`-m 10`\n",
    "`--write_random_snp`\n",
    "\n",
    "<br>\n",
    "** filtering steps**\n",
    "\n",
    "1. Filtered for MAF\n",
    "2. Filtered out loci with missing data (cutoff 0.50)\n",
    "3. Filtered out individuals with missing data (cutoff 0.50)\n",
    "4. Filtered out loci out of HWE\n",
    "\n",
    "See % missing genotypes per locus / per individual in [Stacks batch 4 - notebook 3]()\n",
    "\n",
    "\n",
    "** final # of loci:** 2454\n",
    "\n",
    "** final # of individuals:** 636\n",
    "\n",
    "\n",
    "<br>\n",
    "\n",
    "** Stacks genepop output: Number of Loci per Individual **\n",
    "\n",
    "Note that this code is also saved in the script: [count_loci_perindivid_stacksgenepop.py]()"
   ]
  },
  {
   "cell_type": "code",
   "execution_count": 5,
   "metadata": {},
   "outputs": [
    {
     "name": "stdout",
     "output_type": "stream",
     "text": [
      "/mnt/hgfs/PCod-Compare-repo/stacks_b4_wgenome\n"
     ]
    }
   ],
   "source": [
    "cd ../stacks_b4_wgenome"
   ]
  },
  {
   "cell_type": "code",
   "execution_count": 12,
   "metadata": {
    "scrolled": true
   },
   "outputs": [
    {
     "data": {
      "image/png": "[encoded data removed]",
      "text/plain": [
       "<matplotlib.figure.Figure at 0x7f464983bcd0>"
      ]
     },
     "metadata": {},
     "output_type": "display_data"
    }
   ],
   "source": [
    "## get counts of loci per individual ##\n",
    "# define population indices by region \n",
    "KOR_indices = range(1,10)\n",
    "east_indices = range(10,18)\n",
    "\n",
    "pop_num = 0 #set first population index\n",
    "nloci_KOR = [] #initiate list for west pops\n",
    "nloci_east = [] #initiate list for east pops\n",
    "\n",
    "# open genepop file\n",
    "genepop = open(\"batch_4_genepop.txt\", \"r\")\n",
    "genepop.readline() # header line\n",
    "loci = genepop.readline()\n",
    "total_loci = len(loci.strip().split(\",\"))\n",
    "\n",
    "# go through lines in genepop and add nloci to region-specific list\n",
    "for line in genepop:\n",
    "    if \"pop\" in line:\n",
    "        pop_num += 1\n",
    "    else:\n",
    "        genotypes = line.strip().split(\"\\t\")[1:]\n",
    "        missing_loci = genotypes.count(\"0000\")\n",
    "        nloci_individ = total_loci - missing_loci\n",
    "        if pop_num in KOR_indices:\n",
    "            nloci_KOR.append(nloci_individ)\n",
    "        elif pop_num in east_indices:\n",
    "            nloci_east.append(nloci_individ)\n",
    "        else:\n",
    "            print \"Unknown population.\"\n",
    "    \n",
    "## plot ##\n",
    "import matplotlib.pyplot as plt\n",
    "import numpy as np\n",
    "plt.hist(nloci_east, alpha = 0.75, color = \"darkcyan\", label = \"east data\")\n",
    "plt.hist(nloci_KOR, alpha = 0.75, label = \"KOR data\")\n",
    "plt.suptitle(\"Number Loci Genotyped by Stacks\")\n",
    "plt.xlabel(\"Number Loci Genotyped\")\n",
    "plt.ylabel(\"# of Samples\")\n",
    "plt.legend(loc='upper left')\n",
    "plt.show()"
   ]
  },
  {
   "cell_type": "code",
   "execution_count": 13,
   "metadata": {
    "collapsed": true
   },
   "outputs": [],
   "source": [
    "plt.close()"
   ]
  },
  {
   "cell_type": "markdown",
   "metadata": {},
   "source": [
    "** Stacks genepop output: Number of Loci missing from all Alaskan populations **"
   ]
  },
  {
   "cell_type": "code",
   "execution_count": 60,
   "metadata": {},
   "outputs": [
    {
     "name": "stdout",
     "output_type": "stream",
     "text": [
      "680\n",
      "19217\n"
     ]
    }
   ],
   "source": [
    "!python ../scripts/transpose_genepop.py \\\n",
    "batch_4_genepop.txt \\\n",
    "batch_4_genepop_transposed.txt"
   ]
  },
  {
   "cell_type": "code",
   "execution_count": 68,
   "metadata": {},
   "outputs": [
    {
     "name": "stdout",
     "output_type": "stream",
     "text": [
      "There are  1400  loci missing systematically across eastern population\n",
      "This comprises  7.28559533722  percent of total loci.\n"
     ]
    }
   ],
   "source": [
    "## extract loci missing across alaskan individuals ##\n",
    "# open genepop file\n",
    "infile = open(\"batch_4_genepop_transposed.txt\", \"r\")\n",
    "infile.readline() # header\n",
    "\n",
    "# get list of loci missing systematically in eastern pops\n",
    "loci_missing = []\n",
    "for line in infile:\n",
    "    genotypes = line.strip().split()[1:]\n",
    "    if len(genotypes) < 326:\n",
    "        print line.strip().split()[0]\n",
    "    kor_genos = genotypes[0:326]\n",
    "    east_genos = genotypes[326:]\n",
    "    p_kor_missing = float(kor_genos.count(\"0000\")) / float(len(kor_genos))\n",
    "    p_east_missing = float(east_genos.count(\"0000\")) / float(len(east_genos))\n",
    "    if p_kor_missing < 0.30 and p_east_missing > 0.95:\n",
    "        loci_missing.append(line.strip().split(\" \")[0])\n",
    "infile.close()\n",
    "print \"There are \", len(loci_missing), \" loci missing systematically across eastern population\"\n",
    "print \"This comprises \", float(len(loci_missing)) / float(19216) * 100, \" percent of total loci.\""
   ]
  },
  {
   "cell_type": "markdown",
   "metadata": {},
   "source": [
    "<br>\n",
    "<br>\n",
    "**MAF filtered Stacks genepop output: Number of Loci missing from all Alaskan populations  **\n"
   ]
  },
  {
   "cell_type": "code",
   "execution_count": 85,
   "metadata": {},
   "outputs": [
    {
     "name": "stdout",
     "output_type": "stream",
     "text": [
      "There are  283  loci missing systematically across eastern population\n",
      "This comprises  7.075  percent of total loci.\n"
     ]
    }
   ],
   "source": [
    "## extract loci missing across alaskan individuals ##\n",
    "# open genepop file\n",
    "infile = open(\"batch_4_filteredMAF.txt\", \"r\")\n",
    "infile.readline() # header\n",
    "\n",
    "# get list of loci missing systematically in eastern pops\n",
    "loci_missing = []\n",
    "for line in infile:\n",
    "    genotypes = line.strip().split()[1:]\n",
    "    if len(genotypes) < 326:\n",
    "        print line.strip().split()[0]\n",
    "    kor_genos = genotypes[0:326]\n",
    "    east_genos = genotypes[326:]\n",
    "    p_kor_missing = float(kor_genos.count(\"0000\")) / float(len(kor_genos))\n",
    "    p_east_missing = float(east_genos.count(\"0000\")) / float(len(east_genos))\n",
    "    if p_kor_missing < 0.30 and p_east_missing > 0.95:\n",
    "        loci_missing.append(line.strip().split(\" \")[0])\n",
    "infile.close()\n",
    "print \"There are \", len(loci_missing), \" loci missing systematically across eastern population\"\n",
    "print \"This comprises \", float(len(loci_missing)) / float(4000) * 100, \" percent of total loci.\""
   ]
  },
  {
   "cell_type": "markdown",
   "metadata": {},
   "source": [
    "<br>\n",
    "<br>\n",
    "<a id='orig-corrected'></a>\n",
    "### Original run (\"batch 4\"), Corrected genotypes\n",
    "\n",
    "** filtering steps**\n",
    "\n",
    "1. Corrected Genotypes according to Marine's script\n",
    "2. Filtered for MAF\n",
    "3. Filtered out loci with missing data (cutoff 0.50)\n",
    "4. Filtered out individuals with missing data (cutoff 0.30)\n",
    "5. Filtered out loci out of HWE\n",
    "\n",
    "See % missing genotypes per locus / per individual in [Stacks batch 4 - nb5 ]()\n",
    "\n",
    "\n",
    "** final # of loci:** 3909\n",
    "\n",
    "** final # of individuals:** \n",
    "\n",
    "\n",
    "<br>"
   ]
  },
  {
   "cell_type": "markdown",
   "metadata": {},
   "source": [
    "** Corrected Genotypes: Loci genotyped per individual **"
   ]
  },
  {
   "cell_type": "code",
   "execution_count": 72,
   "metadata": {
    "scrolled": true
   },
   "outputs": [
    {
     "data": {
      "image/png": "[encoded data removed]",
      "text/plain": [
       "<matplotlib.figure.Figure at 0x7f46497a2450>"
      ]
     },
     "metadata": {},
     "output_type": "display_data"
    }
   ],
   "source": [
    "## get counts of loci per individual ##\n",
    "\n",
    "nloci_KOR = [] #initiate list for west pops\n",
    "nloci_east = [] #initiate list for east pops\n",
    "\n",
    "# open genepop file\n",
    "genepop = open(\"batch_4.CorrectedGenotypes_biallelic_genepop.txt\", \"r\")\n",
    "genepop.readline() # header line\n",
    "loci = genepop.readline()\n",
    "total_loci = len(loci.strip().split())\n",
    "\n",
    "# go through lines in genepop and add nloci to region-specific list\n",
    "count = 0\n",
    "for line in genepop:\n",
    "    count += 1\n",
    "    genotypes = line.strip().split(\"\\t\")[1:]\n",
    "    missing_loci = genotypes.count(\"0000\")\n",
    "    nloci_individ = total_loci - missing_loci\n",
    "    if count < 326:\n",
    "        nloci_KOR.append(nloci_individ)\n",
    "    else:\n",
    "        nloci_east.append(nloci_individ)\n",
    "    \n",
    "## plot ##\n",
    "import matplotlib.pyplot as plt\n",
    "import numpy as np\n",
    "plt.hist(nloci_east, alpha = 0.75, color = \"darkcyan\", label = \"east data\")\n",
    "plt.hist(nloci_KOR, alpha = 0.75, label = \"KOR data\")\n",
    "plt.suptitle(\"Number Loci Genotyped by Stacks\")\n",
    "plt.xlabel(\"Number Loci Genotyped\")\n",
    "plt.ylabel(\"# of Samples\")\n",
    "plt.legend(loc='upper left')\n",
    "plt.show()"
   ]
  },
  {
   "cell_type": "code",
   "execution_count": 80,
   "metadata": {
    "collapsed": true
   },
   "outputs": [],
   "source": [
    "plt.close()"
   ]
  },
  {
   "cell_type": "markdown",
   "metadata": {},
   "source": [
    "**Corrected Genotypes: Number of Loci missing from all Alaskan populations**\n"
   ]
  },
  {
   "cell_type": "code",
   "execution_count": 84,
   "metadata": {},
   "outputs": [
    {
     "name": "stdout",
     "output_type": "stream",
     "text": [
      "There are  310  loci missing systematically across eastern population\n",
      "This comprises  2.76835149134  percent of total loci.\n"
     ]
    }
   ],
   "source": [
    "## extract loci missing across alaskan individuals ##\n",
    "# open genepop file\n",
    "infile = open(\"batch_4.CorrectedGenotypes_biallelic_genepop_TRANSPOSED.txt\", \"r\")\n",
    "infile.readline() # header\n",
    "\n",
    "# get list of loci missing systematically in eastern pops\n",
    "loci_missing = []\n",
    "for line in infile:\n",
    "    genotypes = line.strip().split()[1:]\n",
    "    if len(genotypes) < 326:\n",
    "        print line.strip().split()[0]\n",
    "    kor_genos = genotypes[0:326]\n",
    "    east_genos = genotypes[326:]\n",
    "    p_kor_missing = float(kor_genos.count(\"0000\")) / float(len(kor_genos))\n",
    "    p_east_missing = float(east_genos.count(\"0000\")) / float(len(east_genos))\n",
    "    if p_kor_missing < 0.30 and p_east_missing > 0.95:\n",
    "        loci_missing.append(line.strip().split(\" \")[0])\n",
    "infile.close()\n",
    "print \"There are \", len(loci_missing), \" loci missing systematically across eastern population\"\n",
    "print \"This comprises \", float(len(loci_missing)) / float(11198) * 100, \" percent of total loci.\""
   ]
  },
  {
   "cell_type": "markdown",
   "metadata": {},
   "source": [
    "** MAF filtered Corrected Genotypes: Loci genotyped per individual **"
   ]
  },
  {
   "cell_type": "code",
   "execution_count": 79,
   "metadata": {},
   "outputs": [
    {
     "name": "stdout",
     "output_type": "stream",
     "text": [
      "5430\n",
      "680\n"
     ]
    }
   ],
   "source": [
    "!python ../scripts/transpose_MB_MAFfiltered.py \\\n",
    "batch_4_MB_filteredMAF.txt \\\n",
    "batch_4_MB_filteredMAF_transposed.txt"
   ]
  },
  {
   "cell_type": "markdown",
   "metadata": {},
   "source": [
    "*note - had to manually fix the last line of file to remove '\\n'*"
   ]
  },
  {
   "cell_type": "code",
   "execution_count": 81,
   "metadata": {
    "scrolled": true
   },
   "outputs": [
    {
     "data": {
      "image/png": "[encoded data removed]",
      "text/plain": [
       "<matplotlib.figure.Figure at 0x7f4670428e50>"
      ]
     },
     "metadata": {},
     "output_type": "display_data"
    }
   ],
   "source": [
    "## get counts of loci per individual ##\n",
    "\n",
    "nloci_KOR = [] #initiate list for west pops\n",
    "nloci_east = [] #initiate list for east pops\n",
    "\n",
    "# open genepop file\n",
    "genepop = open(\"batch_4.CorrectedGenotypes_biallelic_genepop.txt\", \"r\")\n",
    "genepop.readline() # header line\n",
    "loci = genepop.readline()\n",
    "total_loci = len(loci.strip().split())\n",
    "\n",
    "# go through lines in genepop and add nloci to region-specific list\n",
    "count = 0\n",
    "for line in genepop:\n",
    "    count += 1\n",
    "    genotypes = line.strip().split(\"\\t\")[1:]\n",
    "    missing_loci = genotypes.count(\"0000\")\n",
    "    nloci_individ = total_loci - missing_loci\n",
    "    if count < 326:\n",
    "        nloci_KOR.append(nloci_individ)\n",
    "    else:\n",
    "        nloci_east.append(nloci_individ)\n",
    "    \n",
    "## plot ##\n",
    "import matplotlib.pyplot as plt\n",
    "import numpy as np\n",
    "plt.hist(nloci_east, alpha = 0.75, color = \"darkcyan\", label = \"east data\")\n",
    "plt.hist(nloci_KOR, alpha = 0.75, label = \"KOR data\")\n",
    "plt.suptitle(\"Number Loci Genotyped by Stacks\")\n",
    "plt.xlabel(\"Number Loci Genotyped\")\n",
    "plt.ylabel(\"# of Samples\")\n",
    "plt.legend(loc='upper left')\n",
    "plt.show()"
   ]
  },
  {
   "cell_type": "code",
   "execution_count": 82,
   "metadata": {
    "collapsed": true
   },
   "outputs": [],
   "source": [
    "plt.close()"
   ]
  },
  {
   "cell_type": "markdown",
   "metadata": {},
   "source": [
    "**MAF filtered Corrected Genotypes: Number of Loci missing from all Alaskan populations**"
   ]
  },
  {
   "cell_type": "code",
   "execution_count": 75,
   "metadata": {},
   "outputs": [
    {
     "data": {
      "text/plain": [
       "u'/mnt/hgfs/PCod-Compare-repo/stacks_b4_wgenome'"
      ]
     },
     "execution_count": 75,
     "metadata": {},
     "output_type": "execute_result"
    }
   ],
   "source": [
    "pwd"
   ]
  },
  {
   "cell_type": "code",
   "execution_count": 83,
   "metadata": {},
   "outputs": [
    {
     "name": "stdout",
     "output_type": "stream",
     "text": [
      "There are  184  loci missing systematically across eastern population\n",
      "This comprises  3.38795801878  percent of total loci.\n"
     ]
    }
   ],
   "source": [
    "## extract loci missing across alaskan individuals ##\n",
    "# open genepop file\n",
    "infile = open(\"batch_4_MB_filteredMAF.txt\", \"r\")\n",
    "infile.readline() # header\n",
    "\n",
    "# get list of loci missing systematically in eastern pops\n",
    "loci_missing = []\n",
    "for line in infile:\n",
    "    genotypes = line.strip().split(\",\")[1:]\n",
    "    if len(genotypes) < 326:\n",
    "        print line.strip().split()[0]\n",
    "    kor_genos = genotypes[0:326]\n",
    "    east_genos = genotypes[326:]\n",
    "    p_kor_missing = float(kor_genos.count(\"0000\")) / float(len(kor_genos))\n",
    "    p_east_missing = float(east_genos.count(\"0000\")) / float(len(east_genos))\n",
    "    if p_kor_missing < 0.30 and p_east_missing > 0.95:\n",
    "        loci_missing.append(line.strip().split(\" \")[0])\n",
    "infile.close()\n",
    "print \"There are \", len(loci_missing), \" loci missing systematically across eastern population\"\n",
    "print \"This comprises \", float(len(loci_missing)) / float(5431) * 100, \" percent of total loci.\""
   ]
  },
  {
   "cell_type": "markdown",
   "metadata": {},
   "source": [
    "<br>\n",
    "<br>\n",
    "<br>\n",
    "\n",
    "\n",
    "<a id='md-batch4'></a>\n",
    "\n",
    "\n",
    "### Missing Data Explorations - Orig run (batch 4), Corrected Genotypes\n",
    "\n",
    "See [Stacks batch 4 - missing data notebook]()\n",
    "\n",
    "1. SNP position v. Missing Data: No apparent trend\n",
    "\n",
    "2. Of the loci missing systematically in eastern pop, what proportion are identified in .matches files? : Histogram showed average of > .50\n",
    "\n",
    "3. Of the loci missing systematically in eastern pop but identified in the .matches files, what is the stack depth recorded in the matches files for each individual?: Histogram showed that although majority had stack depth < 10, there were some with high stack depth that were note genotyped\n",
    "\n",
    "\n",
    "** Depth of each locus in sam files**\n",
    "\n",
    "Although batch 3 was run with samples not trimmed to the correct length, I think that several visuals produced from my data exploration for this batch are interesting. This includes: \n",
    "\n",
    "1. Number of reads assigned to each reference locus after bowtie alignment\n",
    "2. Number of reference loci aligned to in korean v. eastern populations\n",
    "\n",
    "See [Explore Missing Genotypes in AK Samples - SAM Mapped Reads]()"
   ]
  },
  {
   "cell_type": "markdown",
   "metadata": {},
   "source": [
    "<br>\n",
    "<br>\n",
    "<br>\n",
    "\n",
    "<a id='lowdepth-test'></a>\n",
    "\n",
    "### Genotyping with a stack depth of 3\n",
    "\n",
    "I ran a test to see how genotypes compare when they are called with a minimum stack depth of 3, less data, instead of 10, more data. \n",
    "\n",
    "To do this, I took a subset (n = 50) of my Korean samples, and then subsampled reads from their alignment files so that I only retained 50% of the original data (to simulate the eastern population's files). Note that even when I only took 50% of my Korean data, many individuals *still* had more data than the eastern samples. \n",
    "\n",
    "I first used stacks to genotyped the individuals, and then used Marine's correction script. \n",
    "\n",
    "I did the following analyses for both corrected and uncorrected genotypes: \n",
    "\n",
    "1. Of the loci that showed up in both stacks runs (\"shared\" loci), what proportion were genotyped from the original data files? What proportion were genotyped from the subsampled files?\n",
    "2. Of the shared loci, what proportion did *not* match?\n",
    "3. Of the shared loci that had genotypes that did *not* match, how frequently was this mismatch due to missing data in one or the other stacks runs?\n",
    "4. Of the shared loci that did *not* match, why did they differ? (het --> hom or hom --> het)?\n",
    "4. Were certain loci driving the higher proportion of mismatches?\n",
    "\n",
    "\n",
    "For original Jupyter notebooks, see folder labeled [batch3_1]()\n",
    "\n",
    "Graphs are also summarized in [Evernote, Summary:Subset Korean Data](http://www.evernote.com/l/AoqW-Fjzz_NJKbBw_cohu4QgDNkdA5bx2lM/)\n",
    "\n",
    "Major conclusions: \n",
    "- with corrected genotypes, a mean of 8% of loci which were genotyped in both runs did NOT have matching genotypes. Weirdly enough, this was mostly because of switching from one form of homozygote to the other. approximately 4% of this difference could be attributed to het --> hom or hom --> het\n",
    "- with uncorrected genotypes, this number was much lower - a mean of 0.2% of loci which were genotyped in both runs did NOT have matching genotypes. most, if not all, of this was due to hom --> het and het --> hom switching. "
   ]
  },
  {
   "cell_type": "markdown",
   "metadata": {
    "collapsed": true
   },
   "source": [
    "<br>\n",
    "<br>\n",
    "\n",
    "### Lowering r = 0.8 to r = 0.5 (batch 8) \n",
    "\n",
    "\n",
    "<br>\n",
    "\n",
    "I ran this with a `populations` m = 10 and then Marine's genotype correction script.\n"
   ]
  },
  {
   "cell_type": "markdown",
   "metadata": {
    "collapsed": true
   },
   "source": [
    "** Corrected genotypes: Number of Loci per Individual **"
   ]
  },
  {
   "cell_type": "code",
   "execution_count": 1,
   "metadata": {},
   "outputs": [
    {
     "name": "stdout",
     "output_type": "stream",
     "text": [
      "/mnt/hgfs/PCod-Compare-repo\n"
     ]
    }
   ],
   "source": [
    "cd ../"
   ]
  },
  {
   "cell_type": "code",
   "execution_count": 2,
   "metadata": {},
   "outputs": [
    {
     "name": "stdout",
     "output_type": "stream",
     "text": [
      "/mnt/hgfs/PCod-Compare-repo/stacks_b8_wgenome_r05/populations_m10\n"
     ]
    }
   ],
   "source": [
    "cd stacks_b8_wgenome_r05/populations_m10/"
   ]
  },
  {
   "cell_type": "code",
   "execution_count": 6,
   "metadata": {},
   "outputs": [
    {
     "data": {
      "image/png": "[encoded data removed]",
      "text/plain": [
       "<matplotlib.figure.Figure at 0x7f1a60282fd0>"
      ]
     },
     "metadata": {},
     "output_type": "display_data"
    }
   ],
   "source": [
    "## get counts of loci per individual ##\n",
    "\n",
    "nloci_KOR = [] #initiate list for west pops\n",
    "nloci_east = [] #initiate list for east pops\n",
    "\n",
    "# open genepop file\n",
    "genepop = open(\"batch_8.CorrectedGenotypes_biallelic_genepop.txt\", \"r\")\n",
    "genepop.readline() # header line\n",
    "loci = genepop.readline()\n",
    "total_loci = len(loci.strip().split())\n",
    "\n",
    "# go through lines in genepop and add nloci to region-specific list\n",
    "count = 0\n",
    "for line in genepop:\n",
    "    count += 1\n",
    "    genotypes = line.strip().split(\"\\t\")[1:]\n",
    "    missing_loci = genotypes.count(\"0000\")\n",
    "    nloci_individ = total_loci - missing_loci\n",
    "    if count < 326:\n",
    "        nloci_KOR.append(nloci_individ)\n",
    "    else:\n",
    "        nloci_east.append(nloci_individ)\n",
    "    \n",
    "## plot ##\n",
    "import matplotlib.pyplot as plt\n",
    "import numpy as np\n",
    "plt.hist(nloci_east, alpha = 0.75, color = \"darkcyan\", label = \"east data\")\n",
    "plt.hist(nloci_KOR, alpha = 0.75, label = \"KOR data\")\n",
    "plt.suptitle(\"Number Loci Genotyped by Stacks, Corrected\")\n",
    "plt.xlabel(\"Number Loci Genotyped\")\n",
    "plt.ylabel(\"# of Samples\")\n",
    "plt.legend(loc='upper left')\n",
    "plt.show()"
   ]
  },
  {
   "cell_type": "code",
   "execution_count": 7,
   "metadata": {
    "collapsed": true
   },
   "outputs": [],
   "source": [
    "plt.close()"
   ]
  },
  {
   "cell_type": "markdown",
   "metadata": {},
   "source": [
    "** Corrected Genotypes: Number of Loci missing systematically from AK/CAN populations**"
   ]
  },
  {
   "cell_type": "code",
   "execution_count": 5,
   "metadata": {},
   "outputs": [
    {
     "name": "stdout",
     "output_type": "stream",
     "text": [
      "There are  334  loci missing systematically across eastern population\n",
      "This comprises  2.98267547776  percent of total loci.\n"
     ]
    }
   ],
   "source": [
    "## extract loci missing across alaskan individuals ##\n",
    "# open genepop file\n",
    "infile = open(\"batch_8.CorrectedGenotypes_biallelic_genepop_TRANSPOSED.txt\", \"r\")\n",
    "infile.readline() # header\n",
    "\n",
    "# get list of loci missing systematically in eastern pops\n",
    "loci_missing = []\n",
    "for line in infile:\n",
    "    genotypes = line.strip().split()[1:]\n",
    "    if len(genotypes) < 326:\n",
    "        print line.strip().split()[0]\n",
    "    kor_genos = genotypes[0:326]\n",
    "    east_genos = genotypes[326:]\n",
    "    p_kor_missing = float(kor_genos.count(\"0000\")) / float(len(kor_genos))\n",
    "    p_east_missing = float(east_genos.count(\"0000\")) / float(len(east_genos))\n",
    "    if p_kor_missing < 0.30 and p_east_missing > 0.95:\n",
    "        loci_missing.append(line.strip().split(\" \")[0])\n",
    "infile.close()\n",
    "print \"There are \", len(loci_missing), \" loci missing systematically across eastern population\"\n",
    "\n",
    "print \"This comprises \", float(len(loci_missing)) / float(11198) * 100, \" percent of total loci.\""
   ]
  },
  {
   "cell_type": "markdown",
   "metadata": {},
   "source": [
    "\n",
    "<br>\n",
    "<br>\n",
    "\n",
    "<a id='md-batch8'></a>\n",
    "\n",
    "### Exploring missing data in batch 8 - m10 / -r 0.5, corrected genotypes\n",
    "\n",
    "I wanted to look into why I still had relatively few genotypes after running batch 8 with a minimum stack depth (`-m`) of 10, with genotypes corrected by Marine's script. \n",
    "\n",
    "<br>\n",
    "\n",
    "To do so, I did the following in the Jupyter notebook [Batch 8 - missing data](https://github.com/mfisher5/PCod-Compare-repo/blob/master/notebooks/Batch%208%20-%20missing%20data.ipynb):\n",
    "1. Plotted the missing data per individual after genotype correction and MAF filtering. I broke histograms down by population, so that I could see the difference in AK/CAN v. KOR samples. \n",
    "2. Plotted the number of loci found in each individual for the following steps: \n",
    "    * genepop out of populations, with stacks calling genotypes\n",
    "    * unfiltered genepop, corrected with Marine's script\n",
    "    * sstacks, with the original `-m 10` parameter\n",
    "    * sstacks, with a minimum stack depth of 5\n",
    "    \n",
    "    \n",
    "    \n",
    "** Main takeaways:**\n",
    "1. Plotting after genotype correction and MAF filtering: AK/CAN samples are definitely missing more genotypes per individual than Korean samples - they look similar to my Korean samples that had low DNA quantities / quality. \n",
    "2. The decrease in loci genotyped per sample (i.e. increase in missing data) appears to first occur at sstacks; this suggests that my depth parameter is the problem. "
   ]
  },
  {
   "cell_type": "markdown",
   "metadata": {},
   "source": [
    "<br>\n",
    "<br>\n",
    "<a id='batch8-m3'></a>\n",
    "\n",
    "### Batch 8 part 2: `-m 3` and uncorrected genotypes\n",
    "\n",
    "\n",
    "Given what I found above, I decided to run populations with a crazy low stack depth of 3. Because of the simulations that I did with the Korean data, and because her script was designed for stack depths of 5 / 10, I did not use Marine's correction script."
   ]
  },
  {
   "cell_type": "code",
   "execution_count": 1,
   "metadata": {},
   "outputs": [
    {
     "name": "stdout",
     "output_type": "stream",
     "text": [
      "/mnt/hgfs/PCod-Compare-repo/stacks_b8_wgenome_r05\n"
     ]
    }
   ],
   "source": [
    "cd ../stacks_b8_wgenome_r05"
   ]
  },
  {
   "cell_type": "code",
   "execution_count": 2,
   "metadata": {},
   "outputs": [
    {
     "data": {
      "image/png": "[encoded data removed]",
      "text/plain": [
       "<matplotlib.figure.Figure at 0x7fd73c7b1690>"
      ]
     },
     "metadata": {},
     "output_type": "display_data"
    }
   ],
   "source": [
    "## get counts of loci per individual ##\n",
    "# define population indices by region \n",
    "KOR_indices = range(1,10)\n",
    "east_indices = range(10,18)\n",
    "\n",
    "pop_num = 0 #set first population index\n",
    "nloci_KOR = [] #initiate list for west pops\n",
    "nloci_east = [] #initiate list for east pops\n",
    "\n",
    "# open genepop file\n",
    "genepop = open(\"batch_8.genepop\", \"r\")\n",
    "genepop.readline() # header line\n",
    "loci = genepop.readline()\n",
    "total_loci = len(loci.strip().split(\",\"))\n",
    "\n",
    "# go through lines in genepop and add nloci to region-specific list\n",
    "for line in genepop:\n",
    "    if \"pop\" in line:\n",
    "        pop_num += 1\n",
    "    else:\n",
    "        genotypes = line.strip().split(\"\\t\")[1:]\n",
    "        missing_loci = genotypes.count(\"0000\")\n",
    "        nloci_individ = total_loci - missing_loci\n",
    "        if pop_num in KOR_indices:\n",
    "            nloci_KOR.append(nloci_individ)\n",
    "        elif pop_num in east_indices:\n",
    "            nloci_east.append(nloci_individ)\n",
    "        else:\n",
    "            print \"Unknown population.\"\n",
    "    \n",
    "## plot ##\n",
    "import matplotlib.pyplot as plt\n",
    "import numpy as np\n",
    "plt.hist(nloci_east, alpha = 0.75, color = \"darkcyan\", label = \"east data\")\n",
    "plt.hist(nloci_KOR, alpha = 0.75, label = \"KOR data\")\n",
    "plt.suptitle(\"Number Loci Genotyped by Stacks\")\n",
    "plt.xlabel(\"Number Loci Genotyped\")\n",
    "plt.ylabel(\"# of Samples\")\n",
    "plt.legend(loc='upper left')\n",
    "plt.show()"
   ]
  },
  {
   "cell_type": "code",
   "execution_count": 3,
   "metadata": {
    "collapsed": true
   },
   "outputs": [],
   "source": [
    "plt.close()"
   ]
  },
  {
   "cell_type": "markdown",
   "metadata": {},
   "source": [
    "** Stacks genepop output: Number of Loci missing from all Alaskan populations **"
   ]
  },
  {
   "cell_type": "code",
   "execution_count": 4,
   "metadata": {},
   "outputs": [
    {
     "name": "stdout",
     "output_type": "stream",
     "text": [
      "680\n",
      "21019\n"
     ]
    }
   ],
   "source": [
    "!python ../scripts/transpose_genepop.py \\\n",
    "batch_8.genepop \\\n",
    "batch_8_genepop_transposed.txt"
   ]
  },
  {
   "cell_type": "code",
   "execution_count": 5,
   "metadata": {},
   "outputs": [
    {
     "name": "stdout",
     "output_type": "stream",
     "text": [
      "There are  1103  loci missing systematically across eastern population\n",
      "This comprises  5.74000832639  percent of total loci.\n"
     ]
    }
   ],
   "source": [
    "## extract loci missing across alaskan individuals ##\n",
    "# open genepop file\n",
    "infile = open(\"batch_8_genepop_transposed.txt\", \"r\")\n",
    "infile.readline() # header\n",
    "\n",
    "# get list of loci missing systematically in eastern pops\n",
    "loci_missing = []\n",
    "for line in infile:\n",
    "    genotypes = line.strip().split()[1:]\n",
    "    if len(genotypes) < 326:\n",
    "        print line.strip().split()[0]\n",
    "    kor_genos = genotypes[0:326]\n",
    "    east_genos = genotypes[326:]\n",
    "    p_kor_missing = float(kor_genos.count(\"0000\")) / float(len(kor_genos))\n",
    "    p_east_missing = float(east_genos.count(\"0000\")) / float(len(east_genos))\n",
    "    if p_kor_missing < 0.30 and p_east_missing > 0.95:\n",
    "        loci_missing.append(line.strip().split(\" \")[0])\n",
    "infile.close()\n",
    "print \"There are \", len(loci_missing), \" loci missing systematically across eastern population\"\n",
    "print \"This comprises \", float(len(loci_missing)) / float(19216) * 100, \" percent of total loci.\""
   ]
  },
  {
   "cell_type": "markdown",
   "metadata": {},
   "source": [
    "<br>\n",
    "<br>\n",
    "<br>\n",
    "\n",
    "<a id='batch8-individ'></a>\n",
    "\n",
    "### Batch 8 p.3 - filter individuals before loci  (`-m 10`, corrected)\n",
    "\n",
    "In my filtering process, I filter loci for missing data BEFORE I filter individuals for missing data. Given the results from my exploration into missing data above, I'm going to filter individuals first. Since I'm pooling populations on the same side of the Pacific, it shouldn't be too terrible even if I have to remove a decent number of individuals. \n",
    "\n",
    "*Note that the following loci counts are pre-HWE*\n",
    "\n",
    "By filtering individuals filtering individuals first:\n",
    "\n",
    "|---individual filter---|---loci filter---|---retained loci---|\n",
    "|:---------------------:|:---------------:|:-----------------:|\n",
    "|----0.50---|---0.50---|---4722---|\n",
    "|---0.30---|---0.50---|---4856---|\n",
    "\n",
    "\n",
    "Refer to the end of Jupyter notebook [Stacks batch 8 - MB filter](https://github.com/mfisher5/PCod-Compare-repo/blob/master/notebooks/batch8_pipeline/Stacks%20batch%208%20-%20MB%20Filter.ipynb)"
   ]
  },
  {
   "cell_type": "code",
   "execution_count": null,
   "metadata": {
    "collapsed": true
   },
   "outputs": [],
   "source": []
  }
 ],
 "metadata": {
  "kernelspec": {
   "display_name": "Python 2",
   "language": "python",
   "name": "python2"
  },
  "language_info": {
   "codemirror_mode": {
    "name": "ipython",
    "version": 2
   },
   "file_extension": ".py",
   "mimetype": "text/x-python",
   "name": "python",
   "nbconvert_exporter": "python",
   "pygments_lexer": "ipython2",
   "version": "2.7.13"
  }
 },
 "nbformat": 4,
 "nbformat_minor": 2
}
