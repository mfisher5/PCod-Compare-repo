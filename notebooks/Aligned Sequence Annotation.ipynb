{
 "cells": [
  {
   "cell_type": "markdown",
   "metadata": {},
   "source": [
    "## Sequence Annotation - Pacific cod to Atlantic cod Genome Alignment\n",
    "\n",
    "I aligned 4,286 loci to the Atlantic cod genome from my final run of stacks (batch 8). I want to retrieve annotations for any protein coding regions that these loci may have aligned to / near to, so that if I find any regions of interest during the sliding window analysis, I can check out the loci within that window. \n",
    "\n",
    "<br>\n",
    "Steps for this analysis:\n",
    "\n",
    "1. Convert .sam file to .bam file to .bed file\n",
    "3. Sort .bed file\n",
    "4. Download and sort the annotation file (previously completed in [this notebook](https://github.com/mfisher5/PCod-Korea-repo/blob/master/notebooks/Batch%208%20-%20Outlier%20Alignment%20verif.ipynb))\n",
    "5. Run closestBed\n",
    "\n",
    "<br>\n",
    "### Convert .sam file to .bed file"
   ]
  },
  {
   "cell_type": "code",
   "execution_count": 1,
   "metadata": {},
   "outputs": [
    {
     "name": "stdout",
     "output_type": "stream",
     "text": [
      "/mnt/hgfs/PCod-Compare-repo/analyses/alignment\n"
     ]
    }
   ],
   "source": [
    "cd ../analyses/alignment/"
   ]
  },
  {
   "cell_type": "markdown",
   "metadata": {},
   "source": [
    "*to run the following code, your .sam file must have a header*"
   ]
  },
  {
   "cell_type": "code",
   "execution_count": 5,
   "metadata": {
    "collapsed": true
   },
   "outputs": [],
   "source": [
    "!samtools view -S -b batch_8_final_filtered_gadMor2LG_filteredMQ.sam >> batch_8_final_filtered_gadMor2LG_filteredMQ.bam"
   ]
  },
  {
   "cell_type": "code",
   "execution_count": 6,
   "metadata": {
    "collapsed": true
   },
   "outputs": [],
   "source": [
    "!samtools sort batch_8_final_filtered_gadMor2LG_filteredMQ.bam \\\n",
    "-o batch_8_final_filtered_gadMor2LG_filteredMQ_sorted.bam"
   ]
  },
  {
   "cell_type": "markdown",
   "metadata": {},
   "source": [
    "*navigate into the bedtools 'bin' directory to run the bamToBed code*"
   ]
  },
  {
   "cell_type": "code",
   "execution_count": 7,
   "metadata": {},
   "outputs": [
    {
     "name": "stdout",
     "output_type": "stream",
     "text": [
      "/mnt/hgfs/PCod-Compare-repo/analyses/alignment/bedtools2\n"
     ]
    }
   ],
   "source": [
    "cd bedtools2/"
   ]
  },
  {
   "cell_type": "code",
   "execution_count": 9,
   "metadata": {},
   "outputs": [
    {
     "name": "stdout",
     "output_type": "stream",
     "text": [
      "/mnt/hgfs/PCod-Compare-repo/analyses/alignment/bedtools2/bin\n"
     ]
    }
   ],
   "source": [
    "cd bin"
   ]
  },
  {
   "cell_type": "code",
   "execution_count": 10,
   "metadata": {
    "collapsed": true
   },
   "outputs": [],
   "source": [
    "!./bamToBed -i ../../batch_8_final_filtered_gadMor2LG_filteredMQ_sorted.bam \\\n",
    ">> ../../batch_8_final_filtered_gadMor2LG_filteredMQ_sorted.bed"
   ]
  },
  {
   "cell_type": "markdown",
   "metadata": {},
   "source": [
    "<br>\n",
    "### Sort the .bed file"
   ]
  },
  {
   "cell_type": "code",
   "execution_count": 11,
   "metadata": {
    "collapsed": true
   },
   "outputs": [],
   "source": [
    "!./sortBed -i ../../batch_8_final_filtered_gadMor2LG_filteredMQ_sorted.bed \\\n",
    "> ../../batch_8_final_filtered_gadMor2LG_filteredMQ_sorted2.bed"
   ]
  },
  {
   "cell_type": "markdown",
   "metadata": {},
   "source": [
    "<br>\n",
    "### Download & Sort Annotation file (.gff)\n",
    "\n",
    "I completed this step previously; see [PCod-Korea Outlier Alignment notebook](https://github.com/mfisher5/PCod-Korea-repo/blob/master/notebooks/Batch%208%20-%20Outlier%20Alignment%20verif.ipynb)\n",
    "\n",
    "<br>\n",
    "<br>\n",
    "\n",
    "### closestBed\n",
    "\n",
    "DON'T USE BEDTOOLS V2.25 to run the closestBED command.\n",
    "\n",
    "`closest -a file.bed -b .gff -g table.tab -D b > outfile.bed`\n",
    "\n",
    "- Argument -D a: reports the closest featured in -b (ACod) WITH its distance from -a as an extra column. Will use negative distances to report upstream features. Reports in respect to -a, so \"upstream\" means that the ACod gene has a higher (start,stop) than the PCod sequence.\n",
    "\n",
    "- Argument -k: report the \"k\" closest hits. Default is 1\n",
    "<br>\n",
    "\n",
    "This must be done from within the bedtools2/bin folder."
   ]
  },
  {
   "cell_type": "code",
   "execution_count": 12,
   "metadata": {
    "collapsed": true
   },
   "outputs": [],
   "source": [
    "!./closestBed -a ../../batch_8_final_filtered_gadMor2LG_filteredMQ_sorted2.bed \\\n",
    "-b /mnt/hgfs/PCod-Compare-repo/ACod_reference/gadMor2_annotation_complete_genes_manualsort.gff \\\n",
    "-D a \\\n",
    "-k 2 \\\n",
    "-header \\\n",
    "> ../../batch_8_final_filtered_gadMor2LG_filteredMQ_sorted2_Annotations.bed"
   ]
  },
  {
   "cell_type": "markdown",
   "metadata": {
    "collapsed": true
   },
   "source": [
    "<br>\n",
    "_______________________________\n",
    "\n",
    "#### 3/26/2018\n",
    "\n",
    "### Remaining annotation\n",
    "\n",
    "Fun fact about the `gadMor2_annotation_complete.gff` file - it only contains annotation information for the following chromosomes:\n",
    "- LG02\n",
    "- LG06\n",
    "- LG08\n",
    "- LG09\n",
    "- LG11\n",
    "- LG14\n",
    "- LG15\n",
    "- LG17\n",
    "- LG23\n",
    "\n",
    "There is an additional file, `gadMor2_annotation_filtered.gff`, which contains annotation information for the remaining chromosomes. \n",
    "\n",
    "In order to avoid having doubled annotation information, I used `grep` to isolate the remaining chromosomes from the `filtered.gff` file into two files: \n",
    "\n",
    "`gadMor2_annotation_remainingLG.gff` : LG01 - LG12\n",
    "<br>\n",
    "`gadMor2_annotation_remainingLGp2.gff`: LG13 - LG22\n",
    "<br>"
   ]
  },
  {
   "cell_type": "code",
   "execution_count": 2,
   "metadata": {},
   "outputs": [
    {
     "name": "stdout",
     "output_type": "stream",
     "text": [
      "/mnt/hgfs/PCod-Compare-repo/ACod_reference\n"
     ]
    }
   ],
   "source": [
    "cd ../ACod_reference/"
   ]
  },
  {
   "cell_type": "code",
   "execution_count": null,
   "metadata": {
    "collapsed": true
   },
   "outputs": [],
   "source": [
    "!grep \"LG01\" gadMor2_annotation_filtered.gff >> gadMor2_annotation_remainingLG.gff"
   ]
  },
  {
   "cell_type": "markdown",
   "metadata": {},
   "source": [
    "These files are still too large to open in excel to sort for `closestBed`, so I again isolated lines that contained \"gene\"."
   ]
  },
  {
   "cell_type": "code",
   "execution_count": 3,
   "metadata": {},
   "outputs": [],
   "source": [
    "!grep \"gene\" gadMor2_annotation_remainingLG.gff >> gadMor2_annotation_remainingLG_gene.gff"
   ]
  },
  {
   "cell_type": "code",
   "execution_count": 4,
   "metadata": {
    "collapsed": true
   },
   "outputs": [],
   "source": [
    "!grep \"gene\" gadMor2_annotation_remainingLGp2.gff >> gadMor2_annotation_remainingLGp2_gene.gff"
   ]
  },
  {
   "cell_type": "markdown",
   "metadata": {},
   "source": [
    "#### Manual Sort of Remaining Annotation\n",
    "\n",
    "Because of the original file format and the way that I pulled out the original annotation, I don't need to manually sort by chromosome number and start position in excel. However, I do want to combine these two files."
   ]
  },
  {
   "cell_type": "code",
   "execution_count": 5,
   "metadata": {
    "collapsed": true
   },
   "outputs": [],
   "source": [
    "!cat gadMor2_annotation_remainingLGp2_gene.gff >> gadMor2_annotation_remainingLG_gene.gff"
   ]
  },
  {
   "cell_type": "markdown",
   "metadata": {},
   "source": [
    "#### Run closestBED"
   ]
  },
  {
   "cell_type": "code",
   "execution_count": 6,
   "metadata": {},
   "outputs": [
    {
     "name": "stdout",
     "output_type": "stream",
     "text": [
      "/mnt/hgfs/PCod-Compare-repo/analyses/alignment\n"
     ]
    }
   ],
   "source": [
    "cd ../analyses/alignment/"
   ]
  },
  {
   "cell_type": "code",
   "execution_count": 7,
   "metadata": {},
   "outputs": [
    {
     "name": "stdout",
     "output_type": "stream",
     "text": [
      "/mnt/hgfs/PCod-Compare-repo/analyses/alignment/bedtools2/bin\n"
     ]
    }
   ],
   "source": [
    "cd bedtools2/bin/"
   ]
  },
  {
   "cell_type": "code",
   "execution_count": 10,
   "metadata": {},
   "outputs": [],
   "source": [
    "!./closestBed -a ../../batch_8_final_filtered_gadMor2LG_filteredMQ_sorted2.bed \\\n",
    "-b /mnt/hgfs/PCod-Compare-repo/ACod_reference/gadMor2_annotation_remainingLG_gene.gff \\\n",
    "-D a \\\n",
    "-k 2 \\\n",
    "-header \\\n",
    "> ../../batch_8_final_filtered_gadMor2LG_filteredMQ_sorted2_Annotations_remainingLG.bed"
   ]
  },
  {
   "cell_type": "code",
   "execution_count": 11,
   "metadata": {
    "collapsed": true
   },
   "outputs": [],
   "source": [
    "!./closestBed -a ../../batch_8_final_filtered_gadMor2LG_filteredMQ_sorted2.bed \\\n",
    "-b /mnt/hgfs/PCod-Compare-repo/ACod_reference/gadMor2_annotation_LG01.gff \\\n",
    "-D a \\\n",
    "-k 2 \\\n",
    "-header \\\n",
    "> ../../batch_8_final_filtered_gadMor2LG_filteredMQ_sorted2_Annotations_LG01.bed"
   ]
  },
  {
   "cell_type": "code",
   "execution_count": null,
   "metadata": {
    "collapsed": true
   },
   "outputs": [],
   "source": []
  }
 ],
 "metadata": {
  "kernelspec": {
   "display_name": "Python 2",
   "language": "python",
   "name": "python2"
  },
  "language_info": {
   "codemirror_mode": {
    "name": "ipython",
    "version": 2
   },
   "file_extension": ".py",
   "mimetype": "text/x-python",
   "name": "python",
   "nbconvert_exporter": "python",
   "pygments_lexer": "ipython2",
   "version": "2.7.13"
  }
 },
 "nbformat": 4,
 "nbformat_minor": 2
}
