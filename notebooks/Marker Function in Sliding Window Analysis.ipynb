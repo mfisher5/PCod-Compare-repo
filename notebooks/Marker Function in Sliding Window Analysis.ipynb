{
 "cells": [
  {
   "cell_type": "markdown",
   "metadata": {},
   "source": [
    "## Marker Function in Sliding Window Analysis\n",
    "\n",
    "Sliding Window analysis reveals regions potentially under selection, when the moving average exceeds the bounds 95% confidence interval. The identity of the loci within these regions may give some clue as to why these regions are more or less differentiated than would be expected. \n",
    "\n",
    "Since all of my loci are aligned to the Atlantic cod genome, I can simply isolate the loci within SWA regions of interest, and then use the annotation file that I compiled in my [Aligned Sequence Annotation notebook](https://github.com/mfisher5/PCod-Compare-repo/blob/master/notebooks/Aligned%20Sequence%20Annotation.ipynb). \n",
    "\n",
    "<br>\n",
    "\n",
    "In order to do this, I wrote an R script that will produce a file which contains a list of sliding window average positions that were significantly differentiated, along with the number of markers used to compute that average AND the list of loci contained within that window. \n",
    "\n",
    "I can also use this file to verify the location of outlier loci in regions of interest. \n",
    "<br>\n",
    "\n",
    "**Scripts:** [R Script](https://github.com/mfisher5/PCod-Compare-repo/blob/master/analyses/SlidingWindow/ID_Outlier_Regions_SlidingWindow_MF.R), [Function Sourced](https://github.com/mfisher5/PCod-Compare-repo/blob/master/analyses/SlidingWindow/SlidingWindow_FindMarkers_Function.R)\n",
    "\n",
    "<br>\n",
    "The output looks like..."
   ]
  },
  {
   "cell_type": "code",
   "execution_count": 1,
   "metadata": {},
   "outputs": [
    {
     "name": "stdout",
     "output_type": "stream",
     "text": [
      "/mnt/hgfs/PCod-Compare-repo/analyses/SlidingWindow\n"
     ]
    }
   ],
   "source": [
    "cd ../analyses/SlidingWindow/"
   ]
  },
  {
   "cell_type": "code",
   "execution_count": 2,
   "metadata": {},
   "outputs": [
    {
     "name": "stdout",
     "output_type": "stream",
     "text": [
      "chromosome\tposition\tnum_markers\tloci_names\r",
      "\r\n",
      "LG01\t11788827.5234899\t11\t8789,11140,5753,9596,17561,23584,22978,1602,2780,13506,24673\r",
      "\r\n",
      "LG01\t11967469.0402685\t12\t11140,5753,9596,17561,23584,22978,1602,2780,13506,24673,21844,21720\r",
      "\r\n",
      "LG01\t12682035.1073825\t11\t13506,24673,21844,21720,9825,9456,17342,13276,7855,1176,23055\r",
      "\r\n",
      "LG01\t12860676.6241611\t15\t13506,24673,21844,21720,9825,9456,17342,13276,7855,1176,23055,17074,19716,15548,7573\r",
      "\r\n",
      "LG01\t16433506.9597315\t9\t16036,5925,12756,20222,16522,6077,15053,765,21518\r",
      "\r\n",
      "LG01\t16612148.4765101\t11\t5925,12756,20222,16522,6077,15053,765,21518,2990,24372,6225\r",
      "\r\n",
      "LG01\t16790789.9932886\t9\t6077,15053,765,21518,2990,24372,6225,23717,16441\r",
      "\r\n",
      "LG02\t4475821.5704698\t7\t20570,11304,14293,17606,23345,10191,13038\r",
      "\r\n",
      "LG02\t4623051.36912752\t6\t11304,14293,17606,23345,10191,13038\r",
      "\r\n"
     ]
    }
   ],
   "source": [
    "!head West_SWA_SelectionRegions_Markers.txt"
   ]
  },
  {
   "cell_type": "markdown",
   "metadata": {},
   "source": [
    "#### 3/24/2018: East v. West\n",
    "#### 3/24/2018: West"
   ]
  },
  {
   "cell_type": "code",
   "execution_count": null,
   "metadata": {
    "collapsed": true
   },
   "outputs": [],
   "source": []
  }
 ],
 "metadata": {
  "kernelspec": {
   "display_name": "Python 2",
   "language": "python",
   "name": "python2"
  },
  "language_info": {
   "codemirror_mode": {
    "name": "ipython",
    "version": 2
   },
   "file_extension": ".py",
   "mimetype": "text/x-python",
   "name": "python",
   "nbconvert_exporter": "python",
   "pygments_lexer": "ipython2",
   "version": "2.7.13"
  }
 },
 "nbformat": 4,
 "nbformat_minor": 2
}
