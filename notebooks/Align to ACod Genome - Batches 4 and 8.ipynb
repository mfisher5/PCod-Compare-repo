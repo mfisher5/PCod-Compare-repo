{
 "cells": [
  {
   "cell_type": "markdown",
   "metadata": {},
   "source": [
    "## Alignment to Atlantic cod genome\n",
    "\n",
    "### Batch 8 (m3, r = 0.5, uncorrected) and Batch 4 (m10, r = 0.8, corrected)\n",
    "\n",
    "\n",
    "I am going to align the final loci from these two batches to the *linkage groups* in the most recent Atlantic cod genome. \n",
    "\n",
    "<br>\n",
    "**Genome**: gadMor2 (see [this notebook](https://github.com/mfisher5/PCod-Compare-repo/blob/master/notebooks/New%20ACod%20%26%25Genome%26%25.ipynb))\n",
    "\n",
    "**Software:** bowtie2, samtools v1.6, stacks v1.44, python 2.7\n",
    "\n",
    "**Steps:**\n",
    "1. Create fasta file using the final genepop for each batch + reference catalog of loci from `cstacks`\n",
    "2. Create a database that only includes full linkage groups from gadMor2\n",
    "3. Align fasta files to database\n",
    "4. Generate presence / absence Manhattan plots)\n",
    "\n",
    "\n",
    "\n",
    "\n",
    "<br>\n",
    "<br>\n",
    "\n",
    "#### 2/7/2018\n",
    "\n",
    "### Make fasta file\n",
    "#### Batch 4"
   ]
  },
  {
   "cell_type": "code",
   "execution_count": 2,
   "metadata": {},
   "outputs": [
    {
     "name": "stdout",
     "output_type": "stream",
     "text": [
      "/mnt/hgfs/PCod-Compare-repo/scripts\n"
     ]
    }
   ],
   "source": [
    "cd ../scripts"
   ]
  },
  {
   "cell_type": "code",
   "execution_count": 10,
   "metadata": {},
   "outputs": [
    {
     "name": "stdout",
     "output_type": "stream",
     "text": [
      "usage: genBOWTIEfasta_from_matrix.py [-h] [-mat MATRIX] [-pos LOCI_POS]\r\n",
      "                                     [-cat CATALOG] [-fasta FASTA_OUTPUT]\r\n",
      "                                     [-p PATH]\r\n",
      "\r\n",
      "create fasta file out of a 2x2 matrix with loci as column headers, individuals\r\n",
      "as rows\r\n",
      "\r\n",
      "optional arguments:\r\n",
      "  -h, --help            show this help message and exit\r\n",
      "  -mat MATRIX, --matrix MATRIX\r\n",
      "                        filtered matrix file. Separation must be tab or comma\r\n",
      "  -pos LOCI_POS, --loci-pos LOCI_POS\r\n",
      "                        loci position in matrix. [rows/columns]\r\n",
      "  -cat CATALOG, --catalog CATALOG\r\n",
      "                        stacks batch.catalog.tags.tsv file\r\n",
      "  -fasta FASTA_OUTPUT, --fasta_output FASTA_OUTPUT\r\n",
      "                        output file, in fasta format\r\n",
      "  -p PATH, --path PATH  path to stacks files, including matrix and catalog\r\n",
      "                        input files\r\n"
     ]
    }
   ],
   "source": [
    "!python genBOWTIEfasta_from_matrix.py -h"
   ]
  },
  {
   "cell_type": "code",
   "execution_count": 13,
   "metadata": {},
   "outputs": [
    {
     "name": "stdout",
     "output_type": "stream",
     "text": [
      "Reading loci from file:\n",
      "batch_4_MB_filteredMAF_filteredLoci50_filteredIndivids_filteredHWE.txt\n",
      "--\n",
      "Discovered  3909  loci in matrix file.\n",
      "--\n",
      "Reading sequences from file:\n",
      "batch_4.catalog.tags.tsv\n",
      "Writing new fasta file...\n",
      "Done.\n"
     ]
    }
   ],
   "source": [
    "!python genBOWTIEfasta_from_matrix.py \\\n",
    "-mat batch_4_MB_filteredMAF_filteredLoci50_filteredIndivids_filteredHWE.txt \\\n",
    "-pos rows \\\n",
    "-cat batch_4.catalog.tags.tsv \\\n",
    "-fasta batch_4_filtered.fasta \\\n",
    "-p ../stacks_b4_wgenome"
   ]
  },
  {
   "cell_type": "code",
   "execution_count": 15,
   "metadata": {},
   "outputs": [
    {
     "name": "stdout",
     "output_type": "stream",
     "text": [
      ">2\r\n",
      "TGCAGGGGCCGCAGTGTGTCAGCTGACATGTTGGAGGAAGATGTCTGCTTAGAGAGGAAGATCTGGGGACGTGTATGTGTGTGCGTGTGTCT\r\n",
      ">3\r\n",
      "TGCAGGACCCCCAGACATCCAGTGTTGTACTGGAGTATTTCAGGAGATCAGATGCTCGCACTCTAAGCCAACTAATGTCGACCCCTATGGCC\r\n",
      ">6\r\n",
      "TGCAGGACTAAAAATCCACCAGGCCTGTGGAGTTCAGACGATAGAAAAAGACTTTCCACTGTGGCCACCGTCCTGCTTCACTGTTGGCTTGG\r\n",
      ">11\r\n",
      "TGCAGGAGGGAGGGTCTGTGCACACGTGGGGAAACATGTGACGCGTGTTTATGAGCATGCAGAGCTGATGGATGGATGGATCTGGGCTCAGC\r\n",
      ">14\r\n",
      "TGCAGGCCAGACGCCGCCCCACCTCCACAGCGAGAAACACTAAGCTAACCCTAACAATAAAATAAAGCAAATACATTGGAGGTAGTAGTATT\r\n"
     ]
    }
   ],
   "source": [
    "!head ../stacks_b4_wgenome/batch_4_filtered.fasta"
   ]
  },
  {
   "cell_type": "markdown",
   "metadata": {},
   "source": [
    "#### Batch 8, m3"
   ]
  },
  {
   "cell_type": "code",
   "execution_count": 17,
   "metadata": {},
   "outputs": [
    {
     "name": "stdout",
     "output_type": "stream",
     "text": [
      "Reading loci from file:\n",
      "batch_8_filteredMAF_filteredLoci30_filteredIndivids_filteredHWE.txt\n",
      "--\n",
      "Discovered  5682  loci in matrix file.\n",
      "--\n",
      "Reading sequences from file:\n",
      "batch_8.catalog.tags.tsv\n",
      "Writing new fasta file...\n",
      "Done.\n"
     ]
    }
   ],
   "source": [
    "!python genBOWTIEfasta_from_matrix.py \\\n",
    "-mat batch_8_filteredMAF_filteredLoci30_filteredIndivids_filteredHWE.txt \\\n",
    "-pos rows \\\n",
    "-cat batch_8.catalog.tags.tsv \\\n",
    "-fasta batch_8_m3_filtered.fasta \\\n",
    "-p ../stacks_b8_wgenome_r05"
   ]
  },
  {
   "cell_type": "code",
   "execution_count": 18,
   "metadata": {
    "scrolled": true
   },
   "outputs": [
    {
     "name": "stdout",
     "output_type": "stream",
     "text": [
      ">3\r\n",
      "TGCAGGACCCCCAGACATCCAGTGTTGTACTGGAGTATTTCAGGAGATCAGATGCTCGCACTCTAAGCCAACTAATGTCGACCCCTATGGCC\r\n",
      ">5\r\n",
      "TGCAGGCGTGCTCTCTCCTTCCCTCTTGGTCTTGGCACTGACCAGTCTCTCGTTGATGACCTTCACCTTCTCCGTGGCCTCCGCCAGCTTAA\r\n",
      ">6\r\n",
      "TGCAGGACTAAAAATCCACCAGGCCTGTGGAGTTCAGACGATAGAAAAAGACTTTCCACTGTGGCCACCGTCCTGCTTCACTGTTGGCTTGG\r\n",
      ">11\r\n",
      "TGCAGGAGGGAGGGTCTGTGCACACGTGGGGAAACATGTGACGCGTGTTTATGAGCATGCAGAGCTGATGGATGGATGGATCTGGGCTCAGC\r\n",
      ">16\r\n",
      "TGCAGGACAGAGCCCCATCTAAGCATATTCCTCGTTTTAAATAGTCTCCTCACCCTGTCATGCACTCCCCCCTTTGCTCTCAGGGGATTATT\r\n"
     ]
    }
   ],
   "source": [
    "!head ../stacks_b8_wgenome_r05/batch_8_m3_filtered.fasta"
   ]
  },
  {
   "cell_type": "markdown",
   "metadata": {},
   "source": [
    "<br>\n",
    "<br>\n",
    "### Build bowtie2 database\n",
    "While I have a bowtie2 database for the full gadMor2 genome, I only want to align to linkage groups. \n",
    "\n",
    "I built the database using an abbreviated gadMor2 fasta file created in [this notebook](https://github.com/mfisher5/PCod-Compare-repo/blob/master/notebooks/gadMor2%20Genome.ipynb)."
   ]
  },
  {
   "cell_type": "code",
   "execution_count": 20,
   "metadata": {},
   "outputs": [
    {
     "name": "stdout",
     "output_type": "stream",
     "text": [
      "/mnt/hgfs/PCod-Compare-repo\n"
     ]
    }
   ],
   "source": [
    "cd ../"
   ]
  },
  {
   "cell_type": "code",
   "execution_count": 21,
   "metadata": {},
   "outputs": [
    {
     "name": "stdout",
     "output_type": "stream",
     "text": [
      "Settings:\n",
      "  Output files: \"ACod_reference/gadMor2_LG.*.bt2\"\n",
      "  Line rate: 6 (line is 64 bytes)\n",
      "  Lines per side: 1 (side is 64 bytes)\n",
      "  Offset rate: 4 (one in 16)\n",
      "  FTable chars: 10\n",
      "  Strings: unpacked\n",
      "  Max bucket size: default\n",
      "  Max bucket size, sqrt multiplier: default\n",
      "  Max bucket size, len divisor: 4\n",
      "  Difference-cover sample period: 1024\n",
      "  Endianness: little\n",
      "  Actual local endianness: little\n",
      "  Sanity checking: disabled\n",
      "  Assertions: disabled\n",
      "  Random seed: 0\n",
      "  Sizeofs: void*:8, int:4, long:8, size_t:8\n",
      "Input files DNA, FASTA:\n",
      "  ACod_reference/gadMor2_LG.fasta\n",
      "Building a SMALL index\n",
      "Reading reference sizes\n",
      "  Time reading reference sizes: 00:00:07\n",
      "Calculating joined length\n",
      "Writing header\n",
      "Reserving space for joined string\n",
      "Joining reference sequences\n",
      "  Time to join reference sequences: 00:00:03\n",
      "bmax according to bmaxDivN setting: 147488545\n",
      "Using parameters --bmax 110616409 --dcv 1024\n",
      "  Doing ahead-of-time memory usage test\n",
      "  Passed!  Constructing with these parameters: --bmax 110616409 --dcv 1024\n",
      "Constructing suffix-array element generator\n",
      "Building DifferenceCoverSample\n",
      "  Building sPrime\n",
      "  Building sPrimeOrder\n",
      "  V-Sorting samples\n",
      "  V-Sorting samples time: 00:00:20\n",
      "  Allocating rank array\n",
      "  Ranking v-sort output\n",
      "  Ranking v-sort output time: 00:00:06\n",
      "  Invoking Larsson-Sadakane on ranks\n",
      "  Invoking Larsson-Sadakane on ranks time: 00:00:08\n",
      "  Sanity-checking and returning\n",
      "Building samples\n",
      "Reserving space for 12 sample suffixes\n",
      "Generating random suffixes\n",
      "QSorting 12 sample offsets, eliminating duplicates\n",
      "QSorting sample offsets, eliminating duplicates time: 00:00:00\n",
      "Multikey QSorting 12 samples\n",
      "  (Using difference cover)\n",
      "  Multikey QSorting samples time: 00:00:00\n",
      "Calculating bucket sizes\n",
      "  Binary sorting into buckets\n",
      "  10%\n",
      "  20%\n",
      "  30%\n",
      "  40%\n",
      "  50%\n",
      "  60%\n",
      "  70%\n",
      "  80%\n",
      "  90%\n",
      "  100%\n",
      "  Binary sorting into buckets time: 00:00:16\n",
      "Splitting and merging\n",
      "  Splitting and merging time: 00:00:00\n",
      "Split 2, merged 8; iterating...\n",
      "  Binary sorting into buckets\n",
      "  10%\n",
      "  20%\n",
      "  30%\n",
      "  40%\n",
      "  50%\n",
      "  60%\n",
      "  70%\n",
      "  80%\n",
      "  90%\n",
      "  100%\n",
      "  Binary sorting into buckets time: 00:00:14\n",
      "Splitting and merging\n",
      "  Splitting and merging time: 00:00:00\n",
      "Split 1, merged 0; iterating...\n",
      "  Binary sorting into buckets\n",
      "  10%\n",
      "  20%\n",
      "  30%\n",
      "  40%\n",
      "  50%\n",
      "  60%\n",
      "  70%\n",
      "  80%\n",
      "  90%\n",
      "  100%\n",
      "  Binary sorting into buckets time: 00:00:14\n",
      "Splitting and merging\n",
      "  Splitting and merging time: 00:00:00\n",
      "Split 1, merged 1; iterating...\n",
      "  Binary sorting into buckets\n",
      "  10%\n",
      "  20%\n",
      "  30%\n",
      "  40%\n",
      "  50%\n",
      "  60%\n",
      "  70%\n",
      "  80%\n",
      "  90%\n",
      "  100%\n",
      "  Binary sorting into buckets time: 00:00:14\n",
      "Splitting and merging\n",
      "  Splitting and merging time: 00:00:00\n",
      "Avg bucket size: 7.37443e+07 (target: 110616408)\n",
      "Converting suffix-array elements to index image\n",
      "Allocating ftab, absorbFtab\n",
      "Entering Ebwt loop\n",
      "Getting block 1 of 8\n",
      "  Reserving size (110616409) for bucket\n",
      "  Calculating Z arrays\n",
      "  Calculating Z arrays time: 00:00:00\n",
      "  Entering block accumulator loop:\n",
      "  10%\n",
      "  20%\n",
      "  30%\n",
      "  40%\n",
      "  50%\n",
      "  60%\n",
      "  70%\n",
      "  80%\n",
      "  90%\n",
      "  100%\n",
      "  Block accumulator loop time: 00:00:04\n",
      "  Sorting block of length 79305386\n",
      "  (Using difference cover)\n",
      "  Sorting block time: 00:00:48\n",
      "Returning block of 79305387\n",
      "Getting block 2 of 8\n",
      "  Reserving size (110616409) for bucket\n",
      "  Calculating Z arrays\n",
      "  Calculating Z arrays time: 00:00:00\n",
      "  Entering block accumulator loop:\n",
      "  10%\n",
      "  20%\n",
      "  30%\n",
      "  40%\n",
      "  50%\n",
      "  60%\n",
      "  70%\n",
      "  80%\n",
      "  90%\n",
      "  100%\n",
      "  Block accumulator loop time: 00:00:05\n",
      "  Sorting block of length 45499367\n",
      "  (Using difference cover)\n",
      "  Sorting block time: 00:00:26\n",
      "Returning block of 45499368\n",
      "Getting block 3 of 8\n",
      "  Reserving size (110616409) for bucket\n",
      "  Calculating Z arrays\n",
      "  Calculating Z arrays time: 00:00:00\n",
      "  Entering block accumulator loop:\n",
      "  10%\n",
      "  20%\n",
      "  30%\n",
      "  40%\n",
      "  50%\n",
      "  60%\n",
      "  70%\n",
      "  80%\n",
      "  90%\n",
      "  100%\n",
      "  Block accumulator loop time: 00:00:06\n",
      "  Sorting block of length 68267610\n",
      "  (Using difference cover)\n",
      "  Sorting block time: 00:00:42\n",
      "Returning block of 68267611\n",
      "Getting block 4 of 8\n",
      "  Reserving size (110616409) for bucket\n",
      "  Calculating Z arrays\n",
      "  Calculating Z arrays time: 00:00:00\n",
      "  Entering block accumulator loop:\n",
      "  10%\n",
      "  20%\n",
      "  30%\n",
      "  40%\n",
      "  50%\n",
      "  60%\n",
      "  70%\n",
      "  80%\n",
      "  90%\n",
      "  100%\n",
      "  Block accumulator loop time: 00:00:06\n",
      "  Sorting block of length 94561167\n",
      "  (Using difference cover)\n",
      "  Sorting block time: 00:01:01\n",
      "Returning block of 94561168\n",
      "Getting block 5 of 8\n",
      "  Reserving size (110616409) for bucket\n",
      "  Calculating Z arrays\n",
      "  Calculating Z arrays time: 00:00:00\n",
      "  Entering block accumulator loop:\n",
      "  10%\n",
      "  20%\n",
      "  30%\n",
      "  40%\n",
      "  50%\n",
      "  60%\n",
      "  70%\n",
      "  80%\n",
      "  90%\n",
      "  100%\n",
      "  Block accumulator loop time: 00:00:06\n",
      "  Sorting block of length 18505029\n",
      "  (Using difference cover)\n",
      "  Sorting block time: 00:00:11\n",
      "Returning block of 18505030\n",
      "Getting block 6 of 8\n",
      "  Reserving size (110616409) for bucket\n",
      "  Calculating Z arrays\n",
      "  Calculating Z arrays time: 00:00:00\n",
      "  Entering block accumulator loop:\n",
      "  10%\n",
      "  20%\n",
      "  30%\n",
      "  40%\n",
      "  50%\n",
      "  60%\n",
      "  70%\n",
      "  80%\n",
      "  90%\n",
      "  100%\n",
      "  Block accumulator loop time: 00:00:06\n",
      "  Sorting block of length 105478426\n",
      "  (Using difference cover)\n",
      "  Sorting block time: 00:01:02\n",
      "Returning block of 105478427\n",
      "Getting block 7 of 8\n",
      "  Reserving size (110616409) for bucket\n",
      "  Calculating Z arrays\n",
      "  Calculating Z arrays time: 00:00:00\n",
      "  Entering block accumulator loop:\n",
      "  10%\n",
      "  20%\n",
      "  30%\n",
      "  40%\n",
      "  50%\n",
      "  60%\n",
      "  70%\n",
      "  80%\n",
      "  90%\n",
      "  100%\n",
      "  Block accumulator loop time: 00:00:06\n",
      "  Sorting block of length 76536708\n",
      "  (Using difference cover)\n",
      "  Sorting block time: 00:00:43\n",
      "Returning block of 76536709\n",
      "Getting block 8 of 8\n",
      "  Reserving size (110616409) for bucket\n",
      "  Calculating Z arrays\n",
      "  Calculating Z arrays time: 00:00:00\n",
      "  Entering block accumulator loop:\n",
      "  10%\n",
      "  20%\n",
      "  30%\n",
      "  40%\n",
      "  50%\n",
      "  60%\n",
      "  70%\n",
      "  80%\n",
      "  90%\n",
      "  100%\n",
      "  Block accumulator loop time: 00:00:04\n",
      "  Sorting block of length 101800483\n",
      "  (Using difference cover)\n",
      "  Sorting block time: 00:01:00\n",
      "Returning block of 101800484\n",
      "Exited Ebwt loop\n",
      "fchr[A]: 0\n",
      "fchr[C]: 159204756\n",
      "fchr[G]: 294985894\n",
      "fchr[T]: 430773550\n",
      "fchr[$]: 589954183\n",
      "Exiting Ebwt::buildToDisk()\n",
      "Returning from initFromVector\n",
      "Wrote 201017136 bytes to primary EBWT file: ACod_reference/gadMor2_LG.1.bt2\n",
      "Wrote 147488552 bytes to secondary EBWT file: ACod_reference/gadMor2_LG.2.bt2\n",
      "Re-opening _in1 and _in2 as input streams\n",
      "Returning from Ebwt constructor\n",
      "Headers:\n",
      "    len: 589954183\n",
      "    bwtLen: 589954184\n",
      "    sz: 147488546\n",
      "    bwtSz: 147488546\n",
      "    lineRate: 6\n",
      "    offRate: 4\n",
      "    offMask: 0xfffffff0\n",
      "    ftabChars: 10\n",
      "    eftabLen: 20\n",
      "    eftabSz: 80\n",
      "    ftabLen: 1048577\n",
      "    ftabSz: 4194308\n",
      "    offsLen: 36872137\n",
      "    offsSz: 147488548\n",
      "    lineSz: 64\n",
      "    sideSz: 64\n",
      "    sideBwtSz: 48\n",
      "    sideBwtLen: 192\n",
      "    numSides: 3072679\n",
      "    numLines: 3072679\n",
      "    ebwtTotLen: 196651456\n",
      "    ebwtTotSz: 196651456\n",
      "    color: 0\n",
      "    reverse: 0\n",
      "Total time for call to driver() for forward index: 00:10:25\n",
      "Reading reference sizes\n",
      "  Time reading reference sizes: 00:00:05\n",
      "Calculating joined length\n",
      "Writing header\n",
      "Reserving space for joined string\n",
      "Joining reference sequences\n",
      "  Time to join reference sequences: 00:00:03\n",
      "  Time to reverse reference sequence: 00:00:00\n",
      "bmax according to bmaxDivN setting: 147488545\n",
      "Using parameters --bmax 110616409 --dcv 1024\n",
      "  Doing ahead-of-time memory usage test\n",
      "  Passed!  Constructing with these parameters: --bmax 110616409 --dcv 1024\n",
      "Constructing suffix-array element generator\n",
      "Building DifferenceCoverSample\n",
      "  Building sPrime\n",
      "  Building sPrimeOrder\n",
      "  V-Sorting samples\n",
      "  V-Sorting samples time: 00:00:18\n",
      "  Allocating rank array\n",
      "  Ranking v-sort output\n",
      "  Ranking v-sort output time: 00:00:07\n",
      "  Invoking Larsson-Sadakane on ranks\n",
      "  Invoking Larsson-Sadakane on ranks time: 00:00:08\n",
      "  Sanity-checking and returning\n",
      "Building samples\n",
      "Reserving space for 12 sample suffixes\n",
      "Generating random suffixes\n",
      "QSorting 12 sample offsets, eliminating duplicates\n",
      "QSorting sample offsets, eliminating duplicates time: 00:00:00\n",
      "Multikey QSorting 12 samples\n",
      "  (Using difference cover)\n",
      "  Multikey QSorting samples time: 00:00:00\n",
      "Calculating bucket sizes\n",
      "  Binary sorting into buckets\n",
      "  10%\n",
      "  20%\n",
      "  30%\n",
      "  40%\n",
      "  50%\n",
      "  60%\n",
      "  70%\n",
      "  80%\n",
      "  90%\n",
      "  100%\n",
      "  Binary sorting into buckets time: 00:00:16\n",
      "Splitting and merging\n",
      "  Splitting and merging time: 00:00:00\n",
      "Split 2, merged 7; iterating...\n",
      "  Binary sorting into buckets\n",
      "  10%\n",
      "  20%\n",
      "  30%\n",
      "  40%\n",
      "  50%\n",
      "  60%\n",
      "  70%\n",
      "  80%\n",
      "  90%\n",
      "  100%\n",
      "  Binary sorting into buckets time: 00:00:14\n",
      "Splitting and merging\n",
      "  Splitting and merging time: 00:00:00\n",
      "Split 1, merged 2; iterating...\n",
      "  Binary sorting into buckets\n"
     ]
    },
    {
     "name": "stdout",
     "output_type": "stream",
     "text": [
      "  10%\n",
      "  20%\n",
      "  30%\n",
      "  40%\n",
      "  50%\n",
      "  60%\n",
      "  70%\n",
      "  80%\n",
      "  90%\n",
      "  100%\n",
      "  Binary sorting into buckets time: 00:00:14\n",
      "Splitting and merging\n",
      "  Splitting and merging time: 00:00:00\n",
      "Avg bucket size: 8.42792e+07 (target: 110616408)\n",
      "Converting suffix-array elements to index image\n",
      "Allocating ftab, absorbFtab\n",
      "Entering Ebwt loop\n",
      "Getting block 1 of 7\n",
      "  Reserving size (110616409) for bucket\n",
      "  Calculating Z arrays\n",
      "  Calculating Z arrays time: 00:00:00\n",
      "  Entering block accumulator loop:\n",
      "  10%\n",
      "  20%\n",
      "  30%\n",
      "  40%\n",
      "  50%\n",
      "  60%\n",
      "  70%\n",
      "  80%\n",
      "  90%\n",
      "  100%\n",
      "  Block accumulator loop time: 00:00:04\n",
      "  Sorting block of length 90228323\n",
      "  (Using difference cover)\n",
      "  Sorting block time: 00:00:54\n",
      "Returning block of 90228324\n",
      "Getting block 2 of 7\n",
      "  Reserving size (110616409) for bucket\n",
      "  Calculating Z arrays\n",
      "  Calculating Z arrays time: 00:00:00\n",
      "  Entering block accumulator loop:\n",
      "  10%\n",
      "  20%\n",
      "  30%\n",
      "  40%\n",
      "  50%\n",
      "  60%\n",
      "  70%\n",
      "  80%\n",
      "  90%\n",
      "  100%\n",
      "  Block accumulator loop time: 00:00:05\n",
      "  Sorting block of length 55681498\n",
      "  (Using difference cover)\n",
      "  Sorting block time: 00:00:32\n",
      "Returning block of 55681499\n",
      "Getting block 3 of 7\n",
      "  Reserving size (110616409) for bucket\n",
      "  Calculating Z arrays\n",
      "  Calculating Z arrays time: 00:00:00\n",
      "  Entering block accumulator loop:\n",
      "  10%\n",
      "  20%\n",
      "  30%\n",
      "  40%\n",
      "  50%\n",
      "  60%\n",
      "  70%\n",
      "  80%\n",
      "  90%\n",
      "  100%\n",
      "  Block accumulator loop time: 00:00:06\n",
      "  Sorting block of length 65062772\n",
      "  (Using difference cover)\n",
      "  Sorting block time: 00:00:39\n",
      "Returning block of 65062773\n",
      "Getting block 4 of 7\n",
      "  Reserving size (110616409) for bucket\n",
      "  Calculating Z arrays\n",
      "  Calculating Z arrays time: 00:00:00\n",
      "  Entering block accumulator loop:\n",
      "  10%\n",
      "  20%\n",
      "  30%\n",
      "  40%\n",
      "  50%\n",
      "  60%\n",
      "  70%\n",
      "  80%\n",
      "  90%\n",
      "  100%\n",
      "  Block accumulator loop time: 00:00:06\n",
      "  Sorting block of length 105924548\n",
      "  (Using difference cover)\n",
      "  Sorting block time: 00:01:09\n",
      "Returning block of 105924549\n",
      "Getting block 5 of 7\n",
      "  Reserving size (110616409) for bucket\n",
      "  Calculating Z arrays\n",
      "  Calculating Z arrays time: 00:00:00\n",
      "  Entering block accumulator loop:\n",
      "  10%\n",
      "  20%\n",
      "  30%\n",
      "  40%\n",
      "  50%\n",
      "  60%\n",
      "  70%\n",
      "  80%\n",
      "  90%\n",
      "  100%\n",
      "  Block accumulator loop time: 00:00:06\n",
      "  Sorting block of length 104542661\n",
      "  (Using difference cover)\n",
      "  Sorting block time: 00:01:06\n",
      "Returning block of 104542662\n",
      "Getting block 6 of 7\n",
      "  Reserving size (110616409) for bucket\n",
      "  Calculating Z arrays\n",
      "  Calculating Z arrays time: 00:00:00\n",
      "  Entering block accumulator loop:\n",
      "  10%\n",
      "  20%\n",
      "  30%\n",
      "  40%\n",
      "  50%\n",
      "  60%\n",
      "  70%\n",
      "  80%\n",
      "  90%\n",
      "  100%\n",
      "  Block accumulator loop time: 00:00:07\n",
      "  Sorting block of length 70735885\n",
      "  (Using difference cover)\n",
      "  Sorting block time: 00:00:44\n",
      "Returning block of 70735886\n",
      "Getting block 7 of 7\n",
      "  Reserving size (110616409) for bucket\n",
      "  Calculating Z arrays\n",
      "  Calculating Z arrays time: 00:00:00\n",
      "  Entering block accumulator loop:\n",
      "  10%\n",
      "  20%\n",
      "  30%\n",
      "  40%\n",
      "  50%\n",
      "  60%\n",
      "  70%\n",
      "  80%\n",
      "  90%\n",
      "  100%\n",
      "  Block accumulator loop time: 00:00:05\n",
      "  Sorting block of length 97778490\n",
      "  (Using difference cover)\n",
      "  Sorting block time: 00:01:00\n",
      "Returning block of 97778491\n",
      "Exited Ebwt loop\n",
      "fchr[A]: 0\n",
      "fchr[C]: 159204756\n",
      "fchr[G]: 294985894\n",
      "fchr[T]: 430773550\n",
      "fchr[$]: 589954183\n",
      "Exiting Ebwt::buildToDisk()\n",
      "Returning from initFromVector\n",
      "Wrote 201017136 bytes to primary EBWT file: ACod_reference/gadMor2_LG.rev.1.bt2\n",
      "Wrote 147488552 bytes to secondary EBWT file: ACod_reference/gadMor2_LG.rev.2.bt2\n",
      "Re-opening _in1 and _in2 as input streams\n",
      "Returning from Ebwt constructor\n",
      "Headers:\n",
      "    len: 589954183\n",
      "    bwtLen: 589954184\n",
      "    sz: 147488546\n",
      "    bwtSz: 147488546\n",
      "    lineRate: 6\n",
      "    offRate: 4\n",
      "    offMask: 0xfffffff0\n",
      "    ftabChars: 10\n",
      "    eftabLen: 20\n",
      "    eftabSz: 80\n",
      "    ftabLen: 1048577\n",
      "    ftabSz: 4194308\n",
      "    offsLen: 36872137\n",
      "    offsSz: 147488548\n",
      "    lineSz: 64\n",
      "    sideSz: 64\n",
      "    sideBwtSz: 48\n",
      "    sideBwtLen: 192\n",
      "    numSides: 3072679\n",
      "    numLines: 3072679\n",
      "    ebwtTotLen: 196651456\n",
      "    ebwtTotSz: 196651456\n",
      "    color: 0\n",
      "    reverse: 1\n",
      "Total time for backward call to driver() for mirror index: 00:10:25\n"
     ]
    }
   ],
   "source": [
    "!bowtie2-build ACod_reference/gadMor2_LG.fasta ACod_reference/gadMor2_LG"
   ]
  },
  {
   "cell_type": "markdown",
   "metadata": {},
   "source": [
    "<br>\n",
    "<br>\n",
    "\n",
    "### Align to gadMor2_LG\n",
    "\n",
    "I want to use BOWTIE2 to align ONLY to the full linkage groups from the new Atlantic cod genome.\n",
    "\n",
    "#### Batch 4"
   ]
  },
  {
   "cell_type": "code",
   "execution_count": 1,
   "metadata": {},
   "outputs": [
    {
     "name": "stdout",
     "output_type": "stream",
     "text": [
      "/mnt/hgfs/PCod-Compare-repo\n"
     ]
    }
   ],
   "source": [
    "cd ../"
   ]
  },
  {
   "cell_type": "code",
   "execution_count": 2,
   "metadata": {
    "scrolled": true
   },
   "outputs": [
    {
     "name": "stdout",
     "output_type": "stream",
     "text": [
      "3909 reads; of these:\r\n",
      "  3909 (100.00%) were unpaired; of these:\r\n",
      "    433 (11.08%) aligned 0 times\r\n",
      "    3181 (81.38%) aligned exactly 1 time\r\n",
      "    295 (7.55%) aligned >1 times\r\n",
      "88.92% overall alignment rate\r\n"
     ]
    }
   ],
   "source": [
    "!bowtie2 -f \\\n",
    "-x ACod_reference/gadMor2_LG \\\n",
    "-U stacks_b4_wgenome/batch_4_filtered.fasta \\\n",
    "-S stacks_b4_wgenome/batch_4_filtered_gadMor2LG.sam"
   ]
  },
  {
   "cell_type": "code",
   "execution_count": 3,
   "metadata": {},
   "outputs": [
    {
     "name": "stdout",
     "output_type": "stream",
     "text": [
      "25667\t4\t*\t0\t0\t*\t*\t0\t0\tTGCAGGGTAAACATACAGCTACTCAGACAAACAACAAGCACGAGCGAAAAAAGGGTAAAAGGAATGGGGGCAGAGGCCTACAAAGTTGGAAA\tIIIIIIIIIIIIIIIIIIIIIIIIIIIIIIIIIIIIIIIIIIIIIIIIIIIIIIIIIIIIIIIIIIIIIIIIIIIIIIIIIIIIIIIIIIII\tYT:Z:UU\r\n",
      "25681\t4\t*\t0\t0\t*\t*\t0\t0\tTGCAGGTATGGGGCTTGTAAATCGTGATCTCACATCGCCATGACAGCAGCCATTTTGAAATAATATGAAGGGAGACTGTAGTTGTGTTTAAA\tIIIIIIIIIIIIIIIIIIIIIIIIIIIIIIIIIIIIIIIIIIIIIIIIIIIIIIIIIIIIIIIIIIIIIIIIIIIIIIIIIIIIIIIIIIII\tYT:Z:UU\r\n"
     ]
    }
   ],
   "source": [
    "!tail -n 2 stacks_b4_wgenome/batch_4_filtered_gadMor2LG.sam"
   ]
  },
  {
   "cell_type": "markdown",
   "metadata": {},
   "source": [
    "#### Batch 8"
   ]
  },
  {
   "cell_type": "code",
   "execution_count": 24,
   "metadata": {},
   "outputs": [
    {
     "name": "stdout",
     "output_type": "stream",
     "text": [
      "5682 reads; of these:\r\n",
      "  5682 (100.00%) were unpaired; of these:\r\n",
      "    596 (10.49%) aligned 0 times\r\n",
      "    4683 (82.42%) aligned exactly 1 time\r\n",
      "    403 (7.09%) aligned >1 times\r\n",
      "89.51% overall alignment rate\r\n"
     ]
    }
   ],
   "source": [
    "!bowtie2 -f \\\n",
    "-x ACod_reference/gadMor2_LG \\\n",
    "-U stacks_b8_wgenome_r05/batch_8_m3_filtered.fasta \\\n",
    "-S stacks_b8_wgenome_r05/batch_8_m3_filtered_gadMor2LG.sam"
   ]
  },
  {
   "cell_type": "code",
   "execution_count": 27,
   "metadata": {},
   "outputs": [
    {
     "name": "stdout",
     "output_type": "stream",
     "text": [
      "25667\t4\t*\t0\t0\t*\t*\t0\t0\tTGCAGGGTAAACATACAGCTACTCAGACAAACAACAAGCACGAGCGAAAAAAGGGTAAAAGGAATGGGGGCAGAGGCCTACAAAGTTGGAAA\tIIIIIIIIIIIIIIIIIIIIIIIIIIIIIIIIIIIIIIIIIIIIIIIIIIIIIIIIIIIIIIIIIIIIIIIIIIIIIIIIIIIIIIIIIIII\tYT:Z:UU\r\n",
      "25678\t4\t*\t0\t0\t*\t*\t0\t0\tTGCAGGTACCTGACCCCCCCCGTTGCTCAGGGGGTTTTCGCAGGTCAGCCCGGGACGGGGATTTAGTCCCTCTCCTTAGCCGGCCGTGATGG\tIIIIIIIIIIIIIIIIIIIIIIIIIIIIIIIIIIIIIIIIIIIIIIIIIIIIIIIIIIIIIIIIIIIIIIIIIIIIIIIIIIIIIIIIIIII\tYT:Z:UU\r\n"
     ]
    }
   ],
   "source": [
    "!tail -n 2 stacks_b8_wgenome_r05/batch_8_m3_filtered_gadMor2LG.sam"
   ]
  },
  {
   "cell_type": "markdown",
   "metadata": {},
   "source": [
    "<br>\n",
    "<br>\n",
    "\n",
    "### Filter Alignment Quality -- MQ > 10\n",
    "\n",
    "#### Mapping Quality Score Distribution"
   ]
  },
  {
   "cell_type": "code",
   "execution_count": 30,
   "metadata": {
    "collapsed": true
   },
   "outputs": [],
   "source": [
    "infile = open(\"stacks_b8_wgenome_r05/batch_8_m3_filtered_gadMor2LG.sam\", \"r\")\n",
    "line = infile.readline()\n",
    "while line.startswith(\"@\"):\n",
    "    line = infile.readline()\n",
    "    \n",
    "map_scores = []\n",
    "for line in infile:\n",
    "    score = line.strip().split()[4]\n",
    "    map_scores.append(int(score))\n",
    "infile.close()"
   ]
  },
  {
   "cell_type": "code",
   "execution_count": 31,
   "metadata": {
    "collapsed": true
   },
   "outputs": [],
   "source": [
    "import matplotlib.pyplot as plt\n",
    "import numpy as np"
   ]
  },
  {
   "cell_type": "code",
   "execution_count": 35,
   "metadata": {},
   "outputs": [
    {
     "data": {
      "image/png": "[encoded data removed]",
      "text/plain": [
       "<matplotlib.figure.Figure at 0x7f9a185b2ad0>"
      ]
     },
     "metadata": {},
     "output_type": "display_data"
    }
   ],
   "source": [
    "plt.hist(map_scores)\n",
    "plt.suptitle(\"Batch 8 ACod Alignment Scores (Bowtie2)\")\n",
    "plt.xlabel(\"Mapping Quality Score\")\n",
    "plt.ylabel(\"# Alignments\")\n",
    "plt.show()"
   ]
  },
  {
   "cell_type": "code",
   "execution_count": 36,
   "metadata": {
    "collapsed": true
   },
   "outputs": [],
   "source": [
    "plt.close()"
   ]
  },
  {
   "cell_type": "code",
   "execution_count": 38,
   "metadata": {},
   "outputs": [
    {
     "data": {
      "image/png": "[encoded data removed]",
      "text/plain": [
       "<matplotlib.figure.Figure at 0x7f9a184c0710>"
      ]
     },
     "metadata": {},
     "output_type": "display_data"
    }
   ],
   "source": [
    "infile = open(\"stacks_b4_wgenome/batch_4_filtered_gadMor2LG.sam\", \"r\")\n",
    "line = infile.readline()\n",
    "while line.startswith(\"@\"):\n",
    "    line = infile.readline()\n",
    "    \n",
    "map_scores = []\n",
    "for line in infile:\n",
    "    score = line.strip().split()[4]\n",
    "    map_scores.append(int(score))\n",
    "infile.close()\n",
    "\n",
    "\n",
    "plt.hist(map_scores)\n",
    "plt.suptitle(\"Batch 4 ACod Alignment Scores (Bowtie2)\")\n",
    "plt.xlabel(\"Mapping Quality Score\")\n",
    "plt.ylabel(\"# Alignments\")\n",
    "plt.show()"
   ]
  },
  {
   "cell_type": "code",
   "execution_count": 39,
   "metadata": {
    "collapsed": true
   },
   "outputs": [],
   "source": [
    "plt.close()"
   ]
  },
  {
   "cell_type": "markdown",
   "metadata": {},
   "source": [
    "#### Quality Score Filtering: Cutoff of 10"
   ]
  },
  {
   "cell_type": "code",
   "execution_count": 40,
   "metadata": {
    "collapsed": true
   },
   "outputs": [],
   "source": [
    "!samtools view -Sq 10 stacks_b4_wgenome/batch_4_filtered_gadMor2LG.sam \\\n",
    ">> stacks_b4_wgenome/batch_4_filtered_gadMor2LG_filtered.sam"
   ]
  },
  {
   "cell_type": "code",
   "execution_count": 42,
   "metadata": {
    "collapsed": true
   },
   "outputs": [],
   "source": [
    "!samtools view -Sq 10 stacks_b8_wgenome_r05/batch_8_m3_filtered_gadMor2LG.sam \\\n",
    ">> stacks_b8_wgenome_r05/batch_8_m3_filtered_gadMor2LG_filtered.sam"
   ]
  },
  {
   "cell_type": "markdown",
   "metadata": {},
   "source": [
    "*Note that using `samtools` in this way removes the header from the file!*"
   ]
  },
  {
   "cell_type": "code",
   "execution_count": 43,
   "metadata": {
    "scrolled": true
   },
   "outputs": [
    {
     "name": "stdout",
     "output_type": "stream",
     "text": [
      "3\t16\tLG21\t18027708\t42\t92M\t*\t0\t0\tGGCCATAGGGGTCGACATTAGTTGGCTTAGAGTGCGAGCATCTGATCTCCTGAAATACTCCAGTACAACACTGGATGTCTGGGGGTCCTGCA\tIIIIIIIIIIIIIIIIIIIIIIIIIIIIIIIIIIIIIIIIIIIIIIIIIIIIIIIIIIIIIIIIIIIIIIIIIIIIIIIIIIIIIIIIIIII\tAS:i:-6\tXN:i:0\tXM:i:1\tXO:i:0\tXG:i:0\tNM:i:1\tMD:Z:28T63\tYT:Z:UU\r\n",
      "5\t0\tLG11\t27261814\t24\t92M\t*\t0\t0\tTGCAGGCGTGCTCTCTCCTTCCCTCTTGGTCTTGGCACTGACCAGTCTCTCGTTGATGACCTTCACCTTCTCCGTGGCCTCCGCCAGCTTAA\tIIIIIIIIIIIIIIIIIIIIIIIIIIIIIIIIIIIIIIIIIIIIIIIIIIIIIIIIIIIIIIIIIIIIIIIIIIIIIIIIIIIIIIIIIIII\tAS:i:-18\tXN:i:0\tXM:i:3\tXO:i:0\tXG:i:0\tNM:i:3\tMD:Z:36G35T17C1\tYT:Z:UU\r\n",
      "6\t0\tLG10\t5565406\t42\t92M\t*\t0\t0\tTGCAGGACTAAAAATCCACCAGGCCTGTGGAGTTCAGACGATAGAAAAAGACTTTCCACTGTGGCCACCGTCCTGCTTCACTGTTGGCTTGG\tIIIIIIIIIIIIIIIIIIIIIIIIIIIIIIIIIIIIIIIIIIIIIIIIIIIIIIIIIIIIIIIIIIIIIIIIIIIIIIIIIIIIIIIIIIII\tAS:i:0\tXN:i:0\tXM:i:0\tXO:i:0\tXG:i:0\tNM:i:0\tMD:Z:92\tYT:Z:UU\r\n",
      "11\t16\tLG10\t22879220\t24\t92M\t*\t0\t0\tGCTGAGCCCAGATCCATCCATCCATCAGCTCTGCATGCTCATAAACACGCGTCACATGTTTCCCCACGTGTGCACAGACCCTCCCTCCTGCA\tIIIIIIIIIIIIIIIIIIIIIIIIIIIIIIIIIIIIIIIIIIIIIIIIIIIIIIIIIIIIIIIIIIIIIIIIIIIIIIIIIIIIIIIIIIII\tAS:i:-18\tXN:i:0\tXM:i:3\tXO:i:0\tXG:i:0\tNM:i:3\tMD:Z:34G12T25G18\tYT:Z:UU\r\n",
      "16\t16\tLG21\t7743712\t24\t92M\t*\t0\t0\tAATAATCCCCTGAGAGCAAAGGGGGGAGTGCATGACAGGGTGAGGAGACTATTTAAAACGAGGAATATGCTTAGATGGGGCTCTGTCCTGCA\tIIIIIIIIIIIIIIIIIIIIIIIIIIIIIIIIIIIIIIIIIIIIIIIIIIIIIIIIIIIIIIIIIIIIIIIIIIIIIIIIIIIIIIIIIIII\tAS:i:-18\tXN:i:0\tXM:i:3\tXO:i:0\tXG:i:0\tNM:i:3\tMD:Z:10C0C49A30\tYT:Z:UU\r\n",
      "19\t16\tLG21\t4032093\t40\t92M\t*\t0\t0\tTACATGCACACACCTACACGTACATGGTGCATGCAGACAAACAAACAACAGCCGACCACAAGCGGCGGCTGTGAGTGCCTGTGTTGCCTGCA\tIIIIIIIIIIIIIIIIIIIIIIIIIIIIIIIIIIIIIIIIIIIIIIIIIIIIIIIIIIIIIIIIIIIIIIIIIIIIIIIIIIIIIIIIIIII\tAS:i:-12\tXN:i:0\tXM:i:2\tXO:i:0\tXG:i:0\tNM:i:2\tMD:Z:12A53A25\tYT:Z:UU\r\n",
      "20\t0\tLG01\t8417786\t24\t92M\t*\t0\t0\tTGCAGGAGCCTCGGTCTCGGTGCAGCGCATGCGTTTCCCGTTTCAATGGTGTCGCCAATCCCAATCTGCCCTTTTGTGACTGAAGGGCTTGT\tIIIIIIIIIIIIIIIIIIIIIIIIIIIIIIIIIIIIIIIIIIIIIIIIIIIIIIIIIIIIIIIIIIIIIIIIIIIIIIIIIIIIIIIIIIII\tAS:i:-18\tXN:i:0\tXM:i:3\tXO:i:0\tXG:i:0\tNM:i:3\tMD:Z:18T6T46A19\tYT:Z:UU\r\n",
      "24\t0\tLG20\t9392547\t31\t92M\t*\t0\t0\tTGCAGGGTCAGGTTCAGTCTGTCCAAGTGACACAGCATGTCGACCAAAAAGGCCAGATCCATAATCCACTTGGGGTCAGAGAGCTCGGGATA\tIIIIIIIIIIIIIIIIIIIIIIIIIIIIIIIIIIIIIIIIIIIIIIIIIIIIIIIIIIIIIIIIIIIIIIIIIIIIIIIIIIIIIIIIIIII\tAS:i:0\tXS:i:-12\tXN:i:0\tXM:i:0\tXO:i:0\tXG:i:0\tNM:i:0\tMD:Z:92\tYT:Z:UU\r\n",
      "39\t0\tLG09\t17882115\t24\t92M\t*\t0\t0\tTGCAGGAACTGGGATCATATGGCCACACAGTCTTTACACACCTTGTTGACACAGGGGGATAAATCAGAGGTCCTTCTGTGTGTGTGTGTGTG\tIIIIIIIIIIIIIIIIIIIIIIIIIIIIIIIIIIIIIIIIIIIIIIIIIIIIIIIIIIIIIIIIIIIIIIIIIIIIIIIIIIIIIIIIIIII\tAS:i:-18\tXN:i:0\tXM:i:3\tXO:i:0\tXG:i:0\tNM:i:3\tMD:Z:35G18A11T25\tYT:Z:UU\r\n",
      "53\t16\tLG11\t26240806\t24\t92M\t*\t0\t0\tCCATGTCGCGCCTTGATGTCTCCACAGACAGGGAACGCCTTTGTCCAGAGAGGGAATCACTCCAACCGCTCCGGTCCCAGAAGAGCCCTGCA\tIIIIIIIIIIIIIIIIIIIIIIIIIIIIIIIIIIIIIIIIIIIIIIIIIIIIIIIIIIIIIIIIIIIIIIIIIIIIIIIIIIIIIIIIIIII\tAS:i:-18\tXN:i:0\tXM:i:3\tXO:i:0\tXG:i:0\tNM:i:3\tMD:Z:72A8C0T9\tYT:Z:UU\r\n"
     ]
    }
   ],
   "source": [
    "!head stacks_b8_wgenome_r05/batch_8_m3_filtered_gadMor2LG_filtered.sam"
   ]
  },
  {
   "cell_type": "markdown",
   "metadata": {},
   "source": [
    "#### Distribution of Alignment Scores of retained loci \n",
    "\n",
    "#### Batch 4"
   ]
  },
  {
   "cell_type": "code",
   "execution_count": 13,
   "metadata": {
    "collapsed": true
   },
   "outputs": [],
   "source": [
    "infile = open(\"stacks_b4_wgenome/batch_4_filtered_gadMor2LG_filtered.sam\", \"r\")\n",
    "as_dict = {}\n",
    "for line in infile:\n",
    "    new_as = line.strip().split()[11].split(\":\")[2]\n",
    "    locus = line.strip().split()[0]\n",
    "    if locus not in as_dict.keys():\n",
    "        as_dict[locus] = new_as\n",
    "    else: \n",
    "        print \"Error! You have retained multiple alignments for locus: \" + locus\n",
    "infile.close()\n",
    "\n",
    "as_list = [int(as_dict[i]) for i in as_dict.keys()]"
   ]
  },
  {
   "cell_type": "code",
   "execution_count": 14,
   "metadata": {},
   "outputs": [
    {
     "data": {
      "image/png": "[encoded data removed]",
      "text/plain": [
       "<matplotlib.figure.Figure at 0x7fd7e01a0110>"
      ]
     },
     "metadata": {},
     "output_type": "display_data"
    }
   ],
   "source": [
    "import matplotlib.pyplot as plt\n",
    "import numpy as np\n",
    "plt.hist(as_list)\n",
    "plt.suptitle(\"Distribution of Alignment Scores\\nAfter MQ filtering - Batch 4\")\n",
    "plt.xlabel(\"Alignment Score\")\n",
    "plt.ylabel(\"# Loci\")\n",
    "plt.show()"
   ]
  },
  {
   "cell_type": "code",
   "execution_count": 15,
   "metadata": {
    "collapsed": true
   },
   "outputs": [],
   "source": [
    "plt.close()"
   ]
  },
  {
   "cell_type": "markdown",
   "metadata": {},
   "source": [
    "#### Batch 8 "
   ]
  },
  {
   "cell_type": "code",
   "execution_count": 16,
   "metadata": {
    "collapsed": true
   },
   "outputs": [],
   "source": [
    "infile = open(\"stacks_b8_wgenome_r05/batch_8_m3_filtered_gadMor2LG_filtered.sam\", \"r\")\n",
    "as_dict_8 = {}\n",
    "for line in infile:\n",
    "    new_as = line.strip().split()[11].split(\":\")[2]\n",
    "    locus = line.strip().split()[0]\n",
    "    if locus not in as_dict_8.keys():\n",
    "        as_dict_8[locus] = new_as\n",
    "    else: \n",
    "        print \"Error! You have retained multiple alignments for locus: \" + locus\n",
    "infile.close()\n",
    "\n",
    "as_list_8 = [int(as_dict_8[i]) for i in as_dict_8.keys()]"
   ]
  },
  {
   "cell_type": "code",
   "execution_count": 17,
   "metadata": {
    "scrolled": true
   },
   "outputs": [
    {
     "data": {
      "image/png": "[encoded data removed]",
      "text/plain": [
       "<matplotlib.figure.Figure at 0x7fd7e00d5a50>"
      ]
     },
     "metadata": {},
     "output_type": "display_data"
    }
   ],
   "source": [
    "plt.hist(as_list_8)\n",
    "plt.suptitle(\"Distribution of Alignment Scores\\nAfter MQ filtering - Batch 8\")\n",
    "plt.xlabel(\"Alignment Score\")\n",
    "plt.ylabel(\"# Loci\")\n",
    "plt.show()"
   ]
  },
  {
   "cell_type": "code",
   "execution_count": 18,
   "metadata": {
    "collapsed": true
   },
   "outputs": [],
   "source": [
    "plt.close()"
   ]
  },
  {
   "cell_type": "markdown",
   "metadata": {},
   "source": [
    "\n",
    "#### How many alignments to each linkage group?\n",
    "#### Batch 4"
   ]
  },
  {
   "cell_type": "code",
   "execution_count": 54,
   "metadata": {
    "collapsed": true
   },
   "outputs": [],
   "source": [
    "infile = open(\"stacks_b4_wgenome/batch_4_filtered_gadMor2LG_filtered.sam\", \"r\")\n",
    "lg_dict = {}\n",
    "for line in infile:\n",
    "    lg = line.strip().split()[2]\n",
    "    if lg in lg_dict.keys():\n",
    "        count = lg_dict[lg]\n",
    "        count += 1\n",
    "        lg_dict[lg] = count\n",
    "    elif lg not in lg_dict.keys():\n",
    "        lg_dict[lg] = 1\n",
    "infile.close()\n",
    "\n",
    "lg_counts = []\n",
    "for i in lg_dict.keys():\n",
    "    lg_counts.append(lg_dict[i])"
   ]
  },
  {
   "cell_type": "code",
   "execution_count": 55,
   "metadata": {},
   "outputs": [
    {
     "data": {
      "image/png": "[encoded data removed]",
      "text/plain": [
       "<matplotlib.figure.Figure at 0x7f9a1850f3d0>"
      ]
     },
     "metadata": {},
     "output_type": "display_data"
    }
   ],
   "source": [
    "plt.hist(lg_counts)\n",
    "plt.suptitle(\"Number of Alignments per Linkage Group - Batch 4\")\n",
    "plt.xlabel(\"# Alignments\")\n",
    "plt.ylabel(\"# Linkage Groups\")\n",
    "plt.show()"
   ]
  },
  {
   "cell_type": "code",
   "execution_count": 56,
   "metadata": {
    "collapsed": true
   },
   "outputs": [],
   "source": [
    "plt.close()"
   ]
  },
  {
   "cell_type": "markdown",
   "metadata": {},
   "source": [
    "#### Batch 8"
   ]
  },
  {
   "cell_type": "code",
   "execution_count": 51,
   "metadata": {
    "collapsed": true
   },
   "outputs": [],
   "source": [
    "infile = open(\"stacks_b8_wgenome_r05/batch_8_m3_filtered_gadMor2LG_filtered.sam\", \"r\")\n",
    "lg_dict = {}\n",
    "for line in infile:\n",
    "    lg = line.strip().split()[2]\n",
    "    if lg in lg_dict.keys():\n",
    "        count = lg_dict[lg]\n",
    "        count += 1\n",
    "        lg_dict[lg] = count\n",
    "    elif lg not in lg_dict.keys():\n",
    "        lg_dict[lg] = 1\n",
    "infile.close()\n",
    "\n",
    "lg_counts = []\n",
    "for i in lg_dict.keys():\n",
    "    lg_counts.append(lg_dict[i])"
   ]
  },
  {
   "cell_type": "code",
   "execution_count": 52,
   "metadata": {},
   "outputs": [
    {
     "data": {
      "image/png": "[encoded data removed]",
      "text/plain": [
       "<matplotlib.figure.Figure at 0x7f9a18472390>"
      ]
     },
     "metadata": {},
     "output_type": "display_data"
    }
   ],
   "source": [
    "import matplotlib.pyplot as plt\n",
    "import numpy as np\n",
    "plt.hist(lg_counts)\n",
    "plt.suptitle(\"Number of Alignments per Linkage Group - Batch 8\")\n",
    "plt.xlabel(\"# Alignments\")\n",
    "plt.ylabel(\"# Linkage Groups\")\n",
    "plt.show()"
   ]
  },
  {
   "cell_type": "code",
   "execution_count": 53,
   "metadata": {
    "collapsed": true
   },
   "outputs": [],
   "source": [
    "plt.close()"
   ]
  },
  {
   "cell_type": "markdown",
   "metadata": {},
   "source": [
    "#### 2/8/2018\n",
    "<br>\n",
    "<br>\n",
    "### Filter for Mapping Quality -- MQ > 20"
   ]
  },
  {
   "cell_type": "code",
   "execution_count": 6,
   "metadata": {
    "collapsed": true
   },
   "outputs": [],
   "source": [
    "!samtools view -Sq 20 stacks_b4_wgenome/batch_4_filtered_gadMor2LG.sam \\\n",
    ">> stacks_b4_wgenome/batch_4_filtered_gadMor2LG_filtered20.sam"
   ]
  },
  {
   "cell_type": "code",
   "execution_count": 20,
   "metadata": {
    "collapsed": true
   },
   "outputs": [],
   "source": [
    "!samtools view -Sq 20 stacks_b8_wgenome_r05/batch_8_m3_filtered_gadMor2LG.sam \\\n",
    ">> stacks_b8_wgenome_r05/batch_8_m3_filtered_gadMor2LG_filtered20.sam"
   ]
  },
  {
   "cell_type": "markdown",
   "metadata": {},
   "source": [
    "#### Distribution of Alignment Scores of retained loci \n",
    "\n",
    "#### Batch 4"
   ]
  },
  {
   "cell_type": "code",
   "execution_count": 7,
   "metadata": {},
   "outputs": [],
   "source": [
    "infile = open(\"stacks_b4_wgenome/batch_4_filtered_gadMor2LG_filtered20.sam\", \"r\")\n",
    "as_dict = {}\n",
    "for line in infile:\n",
    "    new_as = line.strip().split()[11].split(\":\")[2]\n",
    "    locus = line.strip().split()[0]\n",
    "    if locus not in as_dict.keys():\n",
    "        as_dict[locus] = new_as\n",
    "    else: \n",
    "        print \"Error! You have retained multiple alignments for locus: \" + locus\n",
    "infile.close()\n",
    "\n",
    "as_list = [int(as_dict[i]) for i in as_dict.keys()]"
   ]
  },
  {
   "cell_type": "code",
   "execution_count": 8,
   "metadata": {},
   "outputs": [
    {
     "data": {
      "image/png": "[encoded data removed]",
      "text/plain": [
       "<matplotlib.figure.Figure at 0x7f728065f310>"
      ]
     },
     "metadata": {},
     "output_type": "display_data"
    }
   ],
   "source": [
    "import matplotlib.pyplot as plt\n",
    "import numpy as np\n",
    "plt.hist(as_list)\n",
    "plt.suptitle(\"Distribution of Alignment Scores\\nAfter MQ20 filtering - Batch 4\")\n",
    "plt.xlabel(\"Alignment Score\")\n",
    "plt.ylabel(\"# Loci\")\n",
    "plt.show()"
   ]
  },
  {
   "cell_type": "code",
   "execution_count": 9,
   "metadata": {
    "collapsed": true
   },
   "outputs": [],
   "source": [
    "plt.close()"
   ]
  },
  {
   "cell_type": "markdown",
   "metadata": {},
   "source": [
    "#### Batch 8 "
   ]
  },
  {
   "cell_type": "code",
   "execution_count": 24,
   "metadata": {
    "collapsed": true
   },
   "outputs": [],
   "source": [
    "infile = open(\"stacks_b8_wgenome_r05/batch_8_m3_filtered_gadMor2LG_filtered20.sam\", \"r\")\n",
    "as_dict_8 = {}\n",
    "for line in infile:\n",
    "    new_as = line.strip().split()[11].split(\":\")[2]\n",
    "    locus = line.strip().split()[0]\n",
    "    if locus not in as_dict_8.keys():\n",
    "        as_dict_8[locus] = new_as\n",
    "    else: \n",
    "        print \"Error! You have retained multiple alignments for locus: \" + locus\n",
    "infile.close()\n",
    "\n",
    "as_list_8 = [int(as_dict_8[i]) for i in as_dict_8.keys()]"
   ]
  },
  {
   "cell_type": "code",
   "execution_count": 25,
   "metadata": {
    "scrolled": true
   },
   "outputs": [
    {
     "data": {
      "image/png": "[encoded data removed]",
      "text/plain": [
       "<matplotlib.figure.Figure at 0x7fd7ec0acc90>"
      ]
     },
     "metadata": {},
     "output_type": "display_data"
    }
   ],
   "source": [
    "plt.hist(as_list_8)\n",
    "plt.suptitle(\"Distribution of Alignment Scores\\nAfter MQ20 filtering - Batch 8\")\n",
    "plt.xlabel(\"Alignment Score\")\n",
    "plt.ylabel(\"# Loci\")\n",
    "plt.show()"
   ]
  },
  {
   "cell_type": "code",
   "execution_count": 26,
   "metadata": {
    "collapsed": true
   },
   "outputs": [],
   "source": [
    "plt.close()"
   ]
  },
  {
   "cell_type": "markdown",
   "metadata": {},
   "source": [
    "\n",
    "#### How many alignments to each linkage group?\n",
    "#### Batch 4"
   ]
  },
  {
   "cell_type": "code",
   "execution_count": 27,
   "metadata": {
    "collapsed": true
   },
   "outputs": [],
   "source": [
    "infile = open(\"stacks_b4_wgenome/batch_4_filtered_gadMor2LG_filtered20.sam\", \"r\")\n",
    "lg_dict = {}\n",
    "for line in infile:\n",
    "    lg = line.strip().split()[2]\n",
    "    if lg in lg_dict.keys():\n",
    "        count = lg_dict[lg]\n",
    "        count += 1\n",
    "        lg_dict[lg] = count\n",
    "    elif lg not in lg_dict.keys():\n",
    "        lg_dict[lg] = 1\n",
    "infile.close()\n",
    "\n",
    "lg_counts = []\n",
    "for i in lg_dict.keys():\n",
    "    lg_counts.append(lg_dict[i])"
   ]
  },
  {
   "cell_type": "code",
   "execution_count": 28,
   "metadata": {},
   "outputs": [
    {
     "data": {
      "image/png": "[encoded data removed]",
      "text/plain": [
       "<matplotlib.figure.Figure at 0x7fd7e003f350>"
      ]
     },
     "metadata": {},
     "output_type": "display_data"
    }
   ],
   "source": [
    "plt.hist(lg_counts)\n",
    "plt.suptitle(\"Number of Alignments per Linkage Group - Batch 4\")\n",
    "plt.xlabel(\"# Alignments\")\n",
    "plt.ylabel(\"# Linkage Groups\")\n",
    "plt.show()"
   ]
  },
  {
   "cell_type": "code",
   "execution_count": 29,
   "metadata": {
    "collapsed": true
   },
   "outputs": [],
   "source": [
    "plt.close()"
   ]
  },
  {
   "cell_type": "markdown",
   "metadata": {},
   "source": [
    "#### Batch 8"
   ]
  },
  {
   "cell_type": "code",
   "execution_count": 30,
   "metadata": {
    "collapsed": true
   },
   "outputs": [],
   "source": [
    "infile = open(\"stacks_b8_wgenome_r05/batch_8_m3_filtered_gadMor2LG_filtered20.sam\", \"r\")\n",
    "lg_dict = {}\n",
    "for line in infile:\n",
    "    lg = line.strip().split()[2]\n",
    "    if lg in lg_dict.keys():\n",
    "        count = lg_dict[lg]\n",
    "        count += 1\n",
    "        lg_dict[lg] = count\n",
    "    elif lg not in lg_dict.keys():\n",
    "        lg_dict[lg] = 1\n",
    "infile.close()\n",
    "\n",
    "lg_counts = []\n",
    "for i in lg_dict.keys():\n",
    "    lg_counts.append(lg_dict[i])"
   ]
  },
  {
   "cell_type": "code",
   "execution_count": 31,
   "metadata": {},
   "outputs": [
    {
     "data": {
      "image/png": "[encoded data removed]",
      "text/plain": [
       "<matplotlib.figure.Figure at 0x7fd7e0055190>"
      ]
     },
     "metadata": {},
     "output_type": "display_data"
    }
   ],
   "source": [
    "import matplotlib.pyplot as plt\n",
    "import numpy as np\n",
    "plt.hist(lg_counts)\n",
    "plt.suptitle(\"Number of Alignments per Linkage Group - Batch 8\")\n",
    "plt.xlabel(\"# Alignments\")\n",
    "plt.ylabel(\"# Linkage Groups\")\n",
    "plt.show()"
   ]
  },
  {
   "cell_type": "code",
   "execution_count": 32,
   "metadata": {
    "collapsed": true
   },
   "outputs": [],
   "source": [
    "plt.close()"
   ]
  },
  {
   "cell_type": "markdown",
   "metadata": {},
   "source": [
    "<br>\n",
    "<br>\n",
    "\n",
    "### Looking more closely at Alignment Scores\n",
    "\n",
    "When filtering Bowtie2 output, it is common to filter by mapping quality. But what about alignment score? From above, it looks like even though I'm filtering for MQ > 20, I'm still getting low alignment scores (down to -25!). \n",
    "\n",
    "#### What is the mapping quality of the alignments with AS-25? Using Batch 8\n"
   ]
  },
  {
   "cell_type": "code",
   "execution_count": 38,
   "metadata": {
    "collapsed": true
   },
   "outputs": [],
   "source": [
    "!grep -e \"AS:i:-25\" -e \"AS:i:-24\" -e \"AS:i:-23\" -e \"AS:i:-22\" -e \"AS:i:-21\" -e \"AS:i:-20\" stacks_b8_wgenome_r05/batch_8_m3_filtered_gadMor2LG_filtered20.sam >> stacks_b8_wgenome_r05/batch_8_m3_filtered_gadMor2LG_filtered20_AS-25.sam"
   ]
  },
  {
   "cell_type": "code",
   "execution_count": 39,
   "metadata": {
    "collapsed": true
   },
   "outputs": [],
   "source": [
    "infile = open(\"stacks_b8_wgenome_r05/batch_8_m3_filtered_gadMor2LG_filtered20_AS-25.sam\", \"r\")\n",
    "map_scores = []\n",
    "for line in infile:\n",
    "    score = line.strip().split()[4]\n",
    "    map_scores.append(int(score))\n",
    "infile.close()"
   ]
  },
  {
   "cell_type": "code",
   "execution_count": 41,
   "metadata": {},
   "outputs": [
    {
     "data": {
      "image/png": "[encoded data removed]",
      "text/plain": [
       "<matplotlib.figure.Figure at 0x7fd7df42d190>"
      ]
     },
     "metadata": {},
     "output_type": "display_data"
    }
   ],
   "source": [
    "plt.hist(map_scores)\n",
    "plt.suptitle(\"Mapping Quality when AS is between -20 and -25\")\n",
    "plt.show()"
   ]
  },
  {
   "cell_type": "code",
   "execution_count": 42,
   "metadata": {
    "collapsed": true
   },
   "outputs": [],
   "source": [
    "plt.close()"
   ]
  },
  {
   "cell_type": "markdown",
   "metadata": {},
   "source": [
    "<br>\n",
    "<br>\n",
    "### Filtering by Alignment Score (AS > -20)\n",
    "\n",
    "#### Batch 4"
   ]
  },
  {
   "cell_type": "code",
   "execution_count": 10,
   "metadata": {},
   "outputs": [
    {
     "name": "stdout",
     "output_type": "stream",
     "text": [
      "Final number of loci:  2582\n"
     ]
    }
   ],
   "source": [
    "infile = open(\"stacks_b4_wgenome/batch_4_filtered_gadMor2LG_filtered20.sam\", \"r\")\n",
    "outfile = open(\"stacks_b4_wgenome/batch_4_filtered_gadMor2LG_filtered20_filteredAS.sam\", \"w\")\n",
    "badfile = open(\"stacks_b4_wgenome/batch_4_filtered_gadMor2LG_filtered20_badAS.sam\", \"w\")\n",
    "count = 0\n",
    "for line in infile:\n",
    "    ascore = int(line.strip().split()[11].split(\":\")[2])\n",
    "    if ascore > -20:\n",
    "        outfile.write(line)\n",
    "        count += 1\n",
    "    else:\n",
    "        badfile.write(line)\n",
    "infile.close()\n",
    "outfile.close()\n",
    "badfile.close()\n",
    "\n",
    "print \"Final number of loci: \", count"
   ]
  },
  {
   "cell_type": "code",
   "execution_count": 45,
   "metadata": {},
   "outputs": [
    {
     "name": "stdout",
     "output_type": "stream",
     "text": [
      "Final number of loci:  3742\n"
     ]
    }
   ],
   "source": [
    "infile = open(\"stacks_b8_wgenome_r05/batch_8_m3_filtered_gadMor2LG_filtered20.sam\", \"r\")\n",
    "outfile = open(\"stacks_b8_wgenome_r05/batch_8_m3_filtered_gadMor2LG_filtered20_filteredAS.sam\", \"w\")\n",
    "badfile = open(\"stacks_b8_wgenome_r05/batch_8_m3_filtered_gadMor2LG_filtered20_badAS.sam\", \"w\")\n",
    "count = 0\n",
    "for line in infile:\n",
    "    ascore = int(line.strip().split()[11].split(\":\")[2])\n",
    "    if ascore > -20:\n",
    "        outfile.write(line)\n",
    "        count += 1\n",
    "    else:\n",
    "        badfile.write(line)\n",
    "infile.close()\n",
    "outfile.close()\n",
    "badfile.close()\n",
    "\n",
    "print \"Final number of loci: \", count"
   ]
  },
  {
   "cell_type": "code",
   "execution_count": null,
   "metadata": {
    "collapsed": true
   },
   "outputs": [],
   "source": []
  }
 ],
 "metadata": {
  "kernelspec": {
   "display_name": "Python 2",
   "language": "python",
   "name": "python2"
  },
  "language_info": {
   "codemirror_mode": {
    "name": "ipython",
    "version": 2
   },
   "file_extension": ".py",
   "mimetype": "text/x-python",
   "name": "python",
   "nbconvert_exporter": "python",
   "pygments_lexer": "ipython2",
   "version": "2.7.13"
  }
 },
 "nbformat": 4,
 "nbformat_minor": 2
}
