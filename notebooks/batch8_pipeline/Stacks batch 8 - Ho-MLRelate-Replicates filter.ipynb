{
 "cells": [
  {
   "cell_type": "markdown",
   "metadata": {},
   "source": [
    "## Stacks batch 8 final - Filter by Ho, MLrelate\n",
    "<br>\n",
    "<br>\n",
    "This notebook contains steps to... \n",
    "\n",
    "1. Remove individuals found to be contaminated in previous analyses of AK (Drinan et al. 2018), KOR (MS Thesis Chapt. 1)\n",
    "2. Check heterozygosity v. read depth\n",
    "3. Remove additional Alaskan samples\n",
    "4. Choose replicates to keep in Korean samples based on heterozygosity, missing data. "
   ]
  },
  {
   "cell_type": "markdown",
   "metadata": {},
   "source": [
    "### 1. remove known contaminated individuals"
   ]
  },
  {
   "cell_type": "code",
   "execution_count": 1,
   "metadata": {},
   "outputs": [
    {
     "data": {
      "text/plain": [
       "u'/mnt/hgfs/PCod-Compare-repo/notebooks/batch8_pipeline'"
      ]
     },
     "execution_count": 1,
     "metadata": {},
     "output_type": "execute_result"
    }
   ],
   "source": [
    "pwd"
   ]
  },
  {
   "cell_type": "code",
   "execution_count": 2,
   "metadata": {},
   "outputs": [
    {
     "name": "stdout",
     "output_type": "stream",
     "text": [
      "/mnt/hgfs/PCod-Compare-repo\n"
     ]
    }
   ],
   "source": [
    "cd ../../"
   ]
  },
  {
   "cell_type": "code",
   "execution_count": 5,
   "metadata": {},
   "outputs": [
    {
     "name": "stdout",
     "output_type": "stream",
     "text": [
      "Removing  35  samples from file.\n",
      "Wrote  611  samples to new file.\n"
     ]
    }
   ],
   "source": [
    "infile = open(\"stacks_b8_wgenome_r05/batch_8_filteredMAF_filteredIndivids30_filteredLoci30_filteredHWE_genepop.txt\", \"r\")\n",
    "samplefile = open(\"scripts/Batch_8_verif_Samples_Contam_removed.txt\", \"r\")\n",
    "outfile = open(\"stacks_b8_wgenome_r05/batch_8_filteredMAF_filteredIndivids30_filteredLoci30_filteredHWE_filteredC1_genepop.txt\", \"w\")\n",
    "\n",
    "## get list of samples to remove\n",
    "count = 0\n",
    "samples_to_remove = []\n",
    "for line in samplefile:\n",
    "    if not line.startswith(\"#\"):\n",
    "        samples_to_remove.append(line.strip())\n",
    "        count += 1\n",
    "samplefile.close()\n",
    "print \"Removing \", count, \" samples from file.\"\n",
    "\n",
    "## remove those samples from genepop and write to new file\n",
    "keep = 0\n",
    "line = infile.readline()\n",
    "while not line.startswith(\"Pop\"):\n",
    "    outfile.write(line)\n",
    "    line = infile.readline()\n",
    "outfile.write(line)\n",
    "for line in infile:\n",
    "    if line.startswith(\"Pop\"):\n",
    "        outfile.write(line)\n",
    "    else:\n",
    "        sample = line.strip().split()[0].strip(\",\")\n",
    "        if sample not in samples_to_remove:\n",
    "            outfile.write(line)\n",
    "            keep += 1\n",
    "print \"Wrote \", keep, \" samples to new file.\"\n",
    "infile.close()\n",
    "outfile.close()"
   ]
  },
  {
   "cell_type": "markdown",
   "metadata": {},
   "source": [
    "**Samples removed:**\n",
    "\n",
    "PO010715_26, GE012315_09.1, GE012315_09_2, GE012315_11_2, GE011215_30.1, GE012315_11.1, NA021015_06_2, NA021015_09_2, NA021015_10_2, NA021015_13.1, NA021015_06.1, NA021015_10.1, NA021015_09.1, GE012315_04.1, YS_121316_20.1, YS121315_14.1, YS121315_14_2, BOR07_10.1, GE012315_10.1, NA021015_03.1\n",
    "\n",
    "\n",
    "AD06_011\n",
    "KOD03_063\n",
    "SS12_014\n",
    "UP03_001\n",
    "UP03_006\n",
    "WC05_017\n",
    "AD06_044\n",
    "HS04_015\n",
    "KOD03_064\n",
    "KOD03_066\n",
    "SS12_015\n",
    "UP03_014\n",
    "WC05_012\n",
    "WC05_015\n"
   ]
  },
  {
   "cell_type": "code",
   "execution_count": 6,
   "metadata": {},
   "outputs": [
    {
     "name": "stdout",
     "output_type": "stream",
     "text": [
      "usage: calc_het.py [-h] [-l LIST] [-i IND] [-f FILE] [-o OUTPUT]\r\n",
      "                   [-d DENOMINATOR]\r\n",
      "\r\n",
      "optional arguments:\r\n",
      "  -h, --help            show this help message and exit\r\n",
      "  -l LIST, --list LIST  Population map, or any white space delimited list of\r\n",
      "                        individuals with sample name in first column\r\n",
      "  -i IND, --ind IND     name of individual to investigate (mutually exclusive\r\n",
      "                        to '-l' and requires '-f') - UNTESTED\r\n",
      "  -f FILE, --file FILE  location of file with genotypes (assumes genepop\r\n",
      "                        format)\r\n",
      "  -o OUTPUT, --output OUTPUT\r\n",
      "                        name of output file\r\n",
      "  -d DENOMINATOR, --denominator DENOMINATOR\r\n",
      "                        use 2 if counting a FASTA file or 4 if counting a\r\n",
      "                        FASTQ file\r\n"
     ]
    }
   ],
   "source": [
    "!python analyses/calc_het.py -h"
   ]
  },
  {
   "cell_type": "code",
   "execution_count": 10,
   "metadata": {
    "collapsed": true
   },
   "outputs": [],
   "source": [
    "!python analyses/calc_het.py -l scripts/PopMap_combo_b8_filterIndividsC.txt \\\n",
    "-f stacks_b8_wgenome_r05/batch_8_filteredMAF_filteredIndivids30_filteredLoci30_filteredHWE_filteredC1_genepop.txt \\\n",
    "-o analyses/Het_Depth_MissingData_b8_final.txt \\\n",
    "-d 4"
   ]
  },
  {
   "cell_type": "code",
   "execution_count": 11,
   "metadata": {
    "collapsed": true
   },
   "outputs": [],
   "source": [
    "!python analyses/calc_missing_genotypes.py \\\n",
    "-l scripts/PopMap_combo_b8_filterIndividsC.txt \\\n",
    "-f stacks_b8_wgenome_r05/batch_8_filteredMAF_filteredIndivids30_filteredLoci30_filteredHWE_filteredC1_genepop.txt \\\n",
    "-o MissingData_b8_final.txt \\\n",
    "-d 4"
   ]
  },
  {
   "cell_type": "code",
   "execution_count": null,
   "metadata": {
    "collapsed": true
   },
   "outputs": [],
   "source": [
    "## run in terminal\n",
    "!python analyses/calcReadDepth.py \\\n",
    "-l scripts/samples_for_hetdepth.txt \\\n",
    "-o batch_8_final_depth.txt \\\n",
    "-d 4"
   ]
  },
  {
   "cell_type": "markdown",
   "metadata": {},
   "source": [
    "### 2. check heterozygosity, read depth, missing data\n",
    "\n",
    "#### 3/14/2018"
   ]
  },
  {
   "cell_type": "code",
   "execution_count": 29,
   "metadata": {},
   "outputs": [
    {
     "name": "stdout",
     "output_type": "stream",
     "text": [
      "/mnt/hgfs/PCod-Compare-repo/analyses\n"
     ]
    }
   ],
   "source": [
    "cd analyses"
   ]
  },
  {
   "cell_type": "code",
   "execution_count": 30,
   "metadata": {
    "collapsed": true
   },
   "outputs": [],
   "source": [
    "## open file and save each number into appropriate list ##\n",
    "infile = open(\"Het_Depth_MissingData_b8_final.txt\", \"r\")\n",
    "het_dict = {}\n",
    "het = []\n",
    "missing = []\n",
    "depth = []\n",
    "infile.readline()\n",
    "for line in infile:\n",
    "    linelist = line.strip().split()\n",
    "    het_dict[linelist[0]] = float(linelist[1])\n",
    "    het.append(float(linelist[1]))\n",
    "    missing.append(float(linelist[2]))\n",
    "    depth.append(float(linelist[3]))\n",
    "infile.close()"
   ]
  },
  {
   "cell_type": "code",
   "execution_count": 32,
   "metadata": {
    "collapsed": true
   },
   "outputs": [],
   "source": [
    "## create color vector to distinguish Korea and Alaska individuals\n",
    "colors = [\"cyan\"] * 288\n",
    "for i in range(1,324):\n",
    "    colors.append(\"purple\")"
   ]
  },
  {
   "cell_type": "code",
   "execution_count": 33,
   "metadata": {},
   "outputs": [
    {
     "data": {
      "image/png": "[encoded data removed]",
      "text/plain": [
       "<matplotlib.figure.Figure at 0x7f98ddcbe990>"
      ]
     },
     "metadata": {},
     "output_type": "display_data"
    }
   ],
   "source": [
    "import numpy as np \n",
    "import matplotlib.pyplot as plt\n",
    "import matplotlib.patches as mpat\n",
    "leg_kor = mpat.Patch(color=\"cyan\", label=\"west\")\n",
    "leg_ak = mpat.Patch(color=\"purple\", label=\"east\")\n",
    "plt.scatter(missing, het, color = colors)\n",
    "plt.suptitle(\"Proportion Missing Genotypes v. Observed Heterozygosity\")\n",
    "plt.xlabel(\"# Loci Missing Genotypes / Total # Loci\")\n",
    "plt.ylabel(\"Observed Heterozygosity\")\n",
    "plt.legend(handles=[leg_kor,leg_ak])\n",
    "plt.show()"
   ]
  },
  {
   "cell_type": "code",
   "execution_count": 34,
   "metadata": {
    "collapsed": true
   },
   "outputs": [],
   "source": [
    "plt.close()"
   ]
  },
  {
   "cell_type": "code",
   "execution_count": 35,
   "metadata": {},
   "outputs": [
    {
     "data": {
      "image/png": "[encoded data removed]",
      "text/plain": [
       "<matplotlib.figure.Figure at 0x7f98dd8e7810>"
      ]
     },
     "metadata": {},
     "output_type": "display_data"
    }
   ],
   "source": [
    "import numpy as np \n",
    "import matplotlib.pyplot as plt\n",
    "import matplotlib.patches as mpat\n",
    "leg_kor = mpat.Patch(color=\"cyan\", label=\"west\")\n",
    "leg_ak = mpat.Patch(color=\"purple\", label=\"east\")\n",
    "plt.scatter(depth, het, color = colors)\n",
    "plt.suptitle(\"Read Depth v. Observed Heterozygosity\")\n",
    "plt.xlabel(\"Fastq Read Depth\")\n",
    "plt.ylabel(\"Observed Heterozygosity\")\n",
    "plt.legend(handles=[leg_kor,leg_ak])\n",
    "plt.show()"
   ]
  },
  {
   "cell_type": "code",
   "execution_count": 36,
   "metadata": {
    "collapsed": true
   },
   "outputs": [],
   "source": [
    "plt.close()"
   ]
  },
  {
   "cell_type": "code",
   "execution_count": 37,
   "metadata": {},
   "outputs": [
    {
     "data": {
      "image/png": "[encoded data removed]",
      "text/plain": [
       "<matplotlib.figure.Figure at 0x7f98dd777950>"
      ]
     },
     "metadata": {},
     "output_type": "display_data"
    }
   ],
   "source": [
    "import numpy as np \n",
    "import matplotlib.pyplot as plt\n",
    "import matplotlib.patches as mpat\n",
    "leg_kor = mpat.Patch(color=\"cyan\", label=\"west\")\n",
    "leg_ak = mpat.Patch(color=\"purple\", label=\"east\")\n",
    "plt.scatter(depth, missing, color = colors)\n",
    "plt.suptitle(\"Read Depth v. Missing Data\")\n",
    "plt.xlabel(\"Fastq Read Depth\")\n",
    "plt.ylabel(\"# Loci Missing Genotypes / Total # Loci\")\n",
    "plt.legend(handles=[leg_kor,leg_ak])\n",
    "plt.show()"
   ]
  },
  {
   "cell_type": "code",
   "execution_count": 38,
   "metadata": {
    "collapsed": true
   },
   "outputs": [],
   "source": [
    "plt.close()"
   ]
  },
  {
   "cell_type": "markdown",
   "metadata": {},
   "source": [
    "### 3. remove individuals flagged in this round of stacks\n",
    "\n",
    "#### PART 1. HETEROZYGOSITY"
   ]
  },
  {
   "cell_type": "markdown",
   "metadata": {},
   "source": [
    "#### Individuals with higher heterozygosity\n",
    "\n",
    "| Individual | Ho | % Missing | \n",
    "|:----------:|:---:|:--------:|\n",
    "|PS12_015|\t0.156061145 | 0.010029914|\n",
    "|PS12_014|\t0.155396967\t|0.013725145\n",
    "|UP03_044| 0.148860399\t| 0.011789548\n",
    "\n",
    "<br>\n",
    "\n",
    "PS12_015 was SS12_015; filtered out in Gruenthal et al. (2018)\n",
    "<br>\n",
    "PS12_014 was SS12_014; filtered out in Gruenthal et al. (2018)\n",
    "<br>\n",
    "UP03_44 was flagged in Gruenthal et al. (2018) but not removed because was not adjacent on the same plate as the related sample. I will remove this one anyway. \n"
   ]
  },
  {
   "cell_type": "code",
   "execution_count": 40,
   "metadata": {},
   "outputs": [
    {
     "data": {
      "text/plain": [
       "u'/mnt/hgfs/PCod-Compare-repo/analyses'"
      ]
     },
     "execution_count": 40,
     "metadata": {},
     "output_type": "execute_result"
    }
   ],
   "source": [
    "pwd"
   ]
  },
  {
   "cell_type": "code",
   "execution_count": 41,
   "metadata": {},
   "outputs": [
    {
     "name": "stdout",
     "output_type": "stream",
     "text": [
      "/mnt/hgfs/PCod-Compare-repo\n"
     ]
    }
   ],
   "source": [
    "cd ../"
   ]
  },
  {
   "cell_type": "code",
   "execution_count": 6,
   "metadata": {},
   "outputs": [
    {
     "name": "stdout",
     "output_type": "stream",
     "text": [
      "Removing  38  samples from file.\n",
      "Wrote  609  samples to new file.\n"
     ]
    }
   ],
   "source": [
    "infile = open(\"stacks_b8_wgenome_r05/batch_8_filteredMAF_filteredIndivids30_filteredLoci30_filteredHWE_genepop.txt\", \"r\")\n",
    "samplefile = open(\"scripts/Batch_8_verif_Samples_Contam_removed.txt\", \"r\")\n",
    "outfile = open(\"stacks_b8_wgenome_r05/batch_8_filteredMAF_filteredIndivids30_filteredLoci30_filteredHWE_filteredC2_genepop.txt\", \"w\")\n",
    "\n",
    "## get list of samples to remove\n",
    "count = 0\n",
    "samples_to_remove = []\n",
    "for line in samplefile:\n",
    "    if not line.startswith(\"#\"):\n",
    "        samples_to_remove.append(line.strip())\n",
    "        count += 1\n",
    "samplefile.close()\n",
    "print \"Removing \", count, \" samples from file.\"\n",
    "\n",
    "## remove those samples from genepop and write to new file\n",
    "keep = 0\n",
    "line = infile.readline()\n",
    "while not line.startswith(\"Pop\"):\n",
    "    outfile.write(line)\n",
    "    line = infile.readline()\n",
    "outfile.write(line)\n",
    "for line in infile:\n",
    "    if line.startswith(\"Pop\"):\n",
    "        outfile.write(line)\n",
    "    else:\n",
    "        sample = line.strip().split()[0].strip(\",\")\n",
    "        if sample not in samples_to_remove:\n",
    "            outfile.write(line)\n",
    "            keep += 1\n",
    "print \"Wrote \", keep, \" samples to new file.\"\n",
    "infile.close()\n",
    "outfile.close()"
   ]
  },
  {
   "cell_type": "markdown",
   "metadata": {},
   "source": [
    "#### PART 2. MLrelate\n",
    "\n",
    "Note that I only ran Alaskan samples through MLrelate, because these are the only samples for which I expect new samples to be flagged from previous work. This is because I was not a part of the filtering process in prior analyses and because some of the samples were renamed. \n",
    "\n",
    "I used one input file with two populations: one population was the coastal samples, and the other were the salish sea samples."
   ]
  },
  {
   "cell_type": "code",
   "execution_count": 44,
   "metadata": {},
   "outputs": [
    {
     "name": "stdout",
     "output_type": "stream",
     "text": [
      "/mnt/hgfs/PCod-Compare-repo/analyses\n"
     ]
    }
   ],
   "source": [
    "cd analyses"
   ]
  },
  {
   "cell_type": "code",
   "execution_count": 45,
   "metadata": {},
   "outputs": [
    {
     "name": "stdout",
     "output_type": "stream",
     "text": [
      "34  detected related pairs:  32  half sib pairs &  2  full sib pairs.\n",
      "1857  unrelated pairs\n"
     ]
    }
   ],
   "source": [
    "infile = open(\"mlrelate_ak_output.txt\", \"r\")\n",
    "outfile = open(\"MLrelate_ak_relatedIndivids.txt\", \"w\")\n",
    "\n",
    "outfile.write(\"relatedness\\tsample1\\tsample2\\n\")\n",
    "\n",
    "for line in infile:\n",
    "    if line.startswith(\"Ind1\"):\n",
    "        break\n",
    "\n",
    "r_count = 0\n",
    "u_count = 0\n",
    "\n",
    "halfsibs = \"\"\n",
    "hs_count = 0\n",
    "fullsibs = \"\"\n",
    "fs_count = 0\n",
    "for line in infile:\n",
    "    linelist = line.strip().split()\n",
    "    if len(linelist) > 2:\n",
    "        relate = linelist[2]\n",
    "        if relate == \"HS\":\n",
    "            halfsibs += relate + \"\\t\" + linelist[0] + \"\\t\" + linelist[1] + \"\\n\"\n",
    "            r_count += 1\n",
    "            hs_count += 1\n",
    "        elif relate == \"FS\":\n",
    "            fullsibs += relate + \"\\t\" + linelist[0] + \"\\t\" + linelist[1] + \"\\n\"\n",
    "            r_count += 1\n",
    "            fs_count += 1\n",
    "        else:\n",
    "            u_count += 1\n",
    "infile.close()\n",
    "\n",
    "outfile.write(fullsibs)\n",
    "outfile.write(halfsibs)\n",
    "outfile.close()\n",
    "\n",
    "print r_count, \" detected related pairs: \", hs_count, \" half sib pairs & \", fs_count, \" full sib pairs.\"\n",
    "print u_count, \" unrelated pairs\""
   ]
  },
  {
   "cell_type": "markdown",
   "metadata": {},
   "source": [
    "I added the following samples to remove: \n",
    "\n",
    "|relationship |sample ID 1 | sample ID 2 | sample removed | why |\n",
    "|:---:|:---:|:---:|:---:|:-----:|\n",
    "|FS\t|GS13_006\t|GS13_003|GS13_003| duplicate sample; chose lower missing data |\n",
    "|FS\t|PS12_017\t|PS12_016|GS13_006| duplicate sample; chose lower missing data |"
   ]
  },
  {
   "cell_type": "markdown",
   "metadata": {},
   "source": [
    "#### PART 3. REPLICATES\n",
    "\n",
    "This only includes the Korean samples"
   ]
  },
  {
   "cell_type": "code",
   "execution_count": 47,
   "metadata": {},
   "outputs": [
    {
     "name": "stdout",
     "output_type": "stream",
     "text": [
      "/mnt/hgfs/PCod-Compare-repo\n"
     ]
    }
   ],
   "source": [
    "cd ../"
   ]
  },
  {
   "cell_type": "code",
   "execution_count": 7,
   "metadata": {},
   "outputs": [
    {
     "name": "stdout",
     "output_type": "stream",
     "text": [
      "Removing  73  samples from file.\n",
      "Wrote  574  samples to new file.\n"
     ]
    }
   ],
   "source": [
    "infile = open(\"stacks_b8_wgenome_r05/batch_8_filteredMAF_filteredIndivids30_filteredLoci30_filteredHWE_genepop.txt\", \"r\")\n",
    "samplefile = open(\"scripts/Batch_8_verif_Samples_Contam_Rep_removed.txt\", \"r\")\n",
    "outfile = open(\"stacks_b8_wgenome_r05/batch_8_filteredMAF_filteredIndivids30_filteredLoci30_filteredHWE_filteredCR_genepop.txt\", \"w\")\n",
    "\n",
    "## get list of samples to remove\n",
    "count = 0\n",
    "samples_to_remove = []\n",
    "for line in samplefile:\n",
    "    if not line.startswith(\"#\"):\n",
    "        samples_to_remove.append(line.strip())\n",
    "        count += 1\n",
    "samplefile.close()\n",
    "print \"Removing \", count, \" samples from file.\"\n",
    "\n",
    "## remove those samples from genepop and write to new file\n",
    "keep = 0\n",
    "line = infile.readline()\n",
    "while not line.startswith(\"Pop\"):\n",
    "    outfile.write(line)\n",
    "    line = infile.readline()\n",
    "outfile.write(line)\n",
    "for line in infile:\n",
    "    if line.startswith(\"Pop\"):\n",
    "        outfile.write(line)\n",
    "    else:\n",
    "        sample = line.strip().split()[0].strip(\",\")\n",
    "        if sample not in samples_to_remove:\n",
    "            outfile.write(line)\n",
    "            keep += 1\n",
    "print \"Wrote \", keep, \" samples to new file.\"\n",
    "infile.close()\n",
    "outfile.close()"
   ]
  },
  {
   "cell_type": "markdown",
   "metadata": {},
   "source": [
    "<br>\n",
    "<br>\n",
    "\n",
    "### Final Genepop file:\n",
    "batch_8_filteredMAF_filteredIndivids30_filteredLoci30_filteredHWE_filteredCR_genepop.txt\n",
    "\n",
    "### Final number loci:\n",
    "5,684\n",
    "\n",
    "### Final number individuals: \n",
    "western (Korea) samples: 307\n",
    "<br>\n",
    "eastern (US/CAN) samples: 312"
   ]
  },
  {
   "cell_type": "code",
   "execution_count": null,
   "metadata": {
    "collapsed": true
   },
   "outputs": [],
   "source": []
  }
 ],
 "metadata": {
  "kernelspec": {
   "display_name": "Python 2",
   "language": "python",
   "name": "python2"
  },
  "language_info": {
   "codemirror_mode": {
    "name": "ipython",
    "version": 2
   },
   "file_extension": ".py",
   "mimetype": "text/x-python",
   "name": "python",
   "nbconvert_exporter": "python",
   "pygments_lexer": "ipython2",
   "version": "2.7.13"
  }
 },
 "nbformat": 4,
 "nbformat_minor": 2
}
