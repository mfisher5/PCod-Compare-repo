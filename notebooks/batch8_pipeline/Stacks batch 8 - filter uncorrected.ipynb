{
 "cells": [
  {
   "cell_type": "markdown",
   "metadata": {},
   "source": [
    "## Stacks batch 8 - filtering, m3 uncorrected\n",
    "\n",
    "<br>\n",
    "Since I won't be using Marine's script here, I'll be running through the scripts I wrote for `batch 1`. Workflow:\n",
    "\n",
    "1. Convert `populations` output to a 2x2 chart, with loci in rows\n",
    "2. Filter for MAF\n",
    "3. Filter out loci with missing data\n",
    "4. Filter individuals for missing data\n",
    "5. Filter loci out of HWE\n",
    "\n",
    "<br>\n",
    "#### 2/5/2018\n",
    "\n",
    "### conversion to matrix"
   ]
  },
  {
   "cell_type": "code",
   "execution_count": 1,
   "metadata": {},
   "outputs": [
    {
     "name": "stdout",
     "output_type": "stream",
     "text": [
      "/mnt/hgfs/PCod-Compare-repo/scripts/PostStacksFilter_rSNP\n"
     ]
    }
   ],
   "source": [
    "cd ../scripts/PostStacksFilter_rSNP"
   ]
  },
  {
   "cell_type": "code",
   "execution_count": 2,
   "metadata": {},
   "outputs": [
    {
     "name": "stdout",
     "output_type": "stream",
     "text": [
      "usage: convert_genepop_to_matrix.py [-h] [-g GENEPOP] [-o OUTPUT]\r\n",
      "                                    [-s STACKS_PATH]\r\n",
      "\r\n",
      "convert populations genepop file into matrix for further filtering\r\n",
      "\r\n",
      "optional arguments:\r\n",
      "  -h, --help            show this help message and exit\r\n",
      "  -g GENEPOP, --genepop GENEPOP\r\n",
      "                        genepop file from populations\r\n",
      "  -o OUTPUT, --output OUTPUT\r\n",
      "                        output file\r\n",
      "  -s STACKS_PATH, --stacks_path STACKS_PATH\r\n",
      "                        path to the directory containing your stacks files\r\n"
     ]
    }
   ],
   "source": [
    "!python convert_genepop_to_matrix.py -h"
   ]
  },
  {
   "cell_type": "code",
   "execution_count": 3,
   "metadata": {},
   "outputs": [
    {
     "name": "stdout",
     "output_type": "stream",
     "text": [
      "working with genepop file:  batch_8.genepop\n",
      "Stacks version 1.44; Genepop version 4.1.3; January 25, 2018\n",
      "\n",
      "writing loci to output file...\n",
      "writing genotypes to output file...\n",
      "done.\n"
     ]
    }
   ],
   "source": [
    "!python convert_genepop_to_matrix.py \\\n",
    "-g batch_8.genepop \\\n",
    "-o batch_8_matrix.txt \\\n",
    "-s ../../stacks_b8_wgenome_r05"
   ]
  },
  {
   "cell_type": "code",
   "execution_count": 4,
   "metadata": {},
   "outputs": [
    {
     "name": "stdout",
     "output_type": "stream",
     "text": [
      "## This script was written by Dan Drinan and transposes the rows and columns of a haplotype file\r\n",
      "#python transpose.py batch_2_corrected_genotypes_2_alleles_genepop.txt batch_2_corrected_genotypes_2_alleles_genepop_transposed.txt\r\n",
      "\r\n",
      "import sys\r\n",
      "\r\n",
      "input_file = open(sys.argv[1], 'r')\r\n",
      "\r\n",
      "header = True\r\n",
      "matrix_of_data = []\r\n",
      "\r\n"
     ]
    }
   ],
   "source": [
    "!head transpose.py"
   ]
  },
  {
   "cell_type": "code",
   "execution_count": 6,
   "metadata": {},
   "outputs": [],
   "source": [
    "!python transpose.py \\\n",
    "../../stacks_b8_wgenome_r05/batch_8_matrix.txt \\\n",
    "../../stacks_b8_wgenome_r05/batch_8_matrix_TRANSPOSED.txt"
   ]
  },
  {
   "cell_type": "markdown",
   "metadata": {},
   "source": [
    "<br>\n",
    "<br>\n",
    "### How many Alleles per SNP?"
   ]
  },
  {
   "cell_type": "code",
   "execution_count": 7,
   "metadata": {
    "collapsed": true
   },
   "outputs": [],
   "source": [
    "infile = open(\"../../stacks_b8_wgenome_r05/batch_8_matrix_TRANSPOSED.txt\", \"r\")\n",
    "\n",
    "infile.readline()\n",
    "transition = 0\n",
    "transversion = 0\n",
    "# 1 - A, 2 - C, 3 - G, 4 - T\n",
    "\n",
    "for mystring in infile:\n",
    "    stripped_string = mystring.strip('\\n')\n",
    "    all_genotypes = stripped_string.split(' ')[1:] #subset genotypes only from line\n",
    "    alleles = []\n",
    "    all_n_alleles = []\n",
    "    for genotype in all_genotypes:\n",
    "        a1 = int(genotype[0:2]) #separate genotype into two alleles\n",
    "        a2 = int(genotype[2:])\n",
    "        if a1 not in alleles and a1 != 0: #append allele to list IF it is unique and not 0\n",
    "            alleles.append(a1)\n",
    "        if a2 not in alleles and a2 != 0:\n",
    "            alleles.append(a2)\n",
    "    if (1 in alleles and 3 in alleles) or (2 in alleles and 4 in alleles):\n",
    "        transition += 1\n",
    "    elif (1 in alleles and 2 in alleles) or (3 in alleles and 4 in alleles):\n",
    "        transversion += 1\n",
    "    n_alleles = len(alleles) #find total number of alleles at locus \n",
    "    all_n_alleles.append(n_alleles) #append that number to list\n",
    "infile.close()"
   ]
  },
  {
   "cell_type": "code",
   "execution_count": 8,
   "metadata": {},
   "outputs": [],
   "source": [
    "import numpy as np\n",
    "import matplotlib.pyplot as plt"
   ]
  },
  {
   "cell_type": "code",
   "execution_count": 9,
   "metadata": {
    "scrolled": true
   },
   "outputs": [
    {
     "data": {
      "image/png": "[encoded data removed]",
      "text/plain": [
       "<matplotlib.figure.Figure at 0x7fec2d8f42d0>"
      ]
     },
     "metadata": {},
     "output_type": "display_data"
    }
   ],
   "source": [
    "plt.hist(all_n_alleles, color = \"darkcyan\", alpha = 0.75)\n",
    "plt.suptitle(\"Number of Alleles per SNP\")\n",
    "plt.xlabel(\"Number of Alleles\")\n",
    "plt.ylabel(\"% of SNPS\")\n",
    "plt.show()"
   ]
  },
  {
   "cell_type": "code",
   "execution_count": 10,
   "metadata": {
    "collapsed": true
   },
   "outputs": [],
   "source": [
    "plt.close()"
   ]
  },
  {
   "cell_type": "markdown",
   "metadata": {},
   "source": [
    "<br>\n",
    "<br>\n",
    "### MAF Filtering\n",
    "#### Run genepop to get INF file.\n",
    "`Option 5 --> Suboption 1`\n",
    "\n",
    "#### Parse genepop\n",
    "Towards the end of the .INF file, allele frequencies are listed by population by locus, with one frequency table per locus. The script below parses this section into an \"output frequency\" file\n",
    "\n",
    "\n",
    "*Note: open .INF file to check to make sure that all loci were processed*"
   ]
  },
  {
   "cell_type": "code",
   "execution_count": 15,
   "metadata": {},
   "outputs": [
    {
     "name": "stdout",
     "output_type": "stream",
     "text": [
      "usage: parse_INF_file.py [-h] [-f INPUT] [-p PATH_STACKS] [-pop POPS]\r\n",
      "                         [-b BATCH]\r\n",
      "\r\n",
      "parse .INF file from genepop to get allele frequences by population by locus\r\n",
      "\r\n",
      "optional arguments:\r\n",
      "  -h, --help            show this help message and exit\r\n",
      "  -f INPUT, --input INPUT\r\n",
      "                        .INF file\r\n",
      "  -p PATH_STACKS, --path_stacks PATH_STACKS\r\n",
      "                        path to stacks files, including .INF file\r\n",
      "  -pop POPS, --pops POPS\r\n",
      "                        text file with population names, one on each line.\r\n",
      "                        make sure this is in the same order as the populations\r\n",
      "                        listed in the .INF output file! (aka the order of your\r\n",
      "                        populations in your pop map file)\r\n",
      "  -b BATCH, --batch BATCH\r\n",
      "                        stacks batch number\r\n"
     ]
    }
   ],
   "source": [
    "!python parse_INF_file.py -h"
   ]
  },
  {
   "cell_type": "code",
   "execution_count": 18,
   "metadata": {
    "scrolled": true
   },
   "outputs": [
    {
     "name": "stdout",
     "output_type": "stream",
     "text": [
      "You have a maximum of  2  alleles at one or more of your loci.\n",
      "17  populations detected.\n",
      "Heading written to output file. Now parsing allele frequencies...\n",
      "Done.\n",
      "Parsed allele frequencies in  21018  loci.\n"
     ]
    }
   ],
   "source": [
    "!python parse_INF_file.py \\\n",
    "-f batch_8_genepop.txt.INF \\\n",
    "-p ../../stacks_b8_wgenome_r05 \\\n",
    "-pop INF_populations.txt \\\n",
    "-b 8"
   ]
  },
  {
   "cell_type": "markdown",
   "metadata": {},
   "source": [
    "** Use Parsed INF to filter Transposed Matrix File **"
   ]
  },
  {
   "cell_type": "code",
   "execution_count": 19,
   "metadata": {},
   "outputs": [
    {
     "name": "stdout",
     "output_type": "stream",
     "text": [
      "usage: filter_for_MAF_from_parsedINF.py [-h] [-inf INFINPUT]\r\n",
      "                                        [-mat MATRIXINPUT] [-og OUTPUT_GOOD]\r\n",
      "                                        [-ob OUTPUT_BAD]\r\n",
      "                                        [-ofg OUTPUTFREQS_GOOD]\r\n",
      "                                        [-ofb OUTPUTFREQS_BAD]\r\n",
      "                                        [-p PATH_STACKS] [-a ALLELES]\r\n",
      "                                        [-b BATCH]\r\n",
      "\r\n",
      "filter for MAF using parsed .INF genepop file.\r\n",
      "\r\n",
      "optional arguments:\r\n",
      "  -h, --help            show this help message and exit\r\n",
      "  -inf INFINPUT, --INFinput INFINPUT\r\n",
      "                        parsed .INF file\r\n",
      "  -mat MATRIXINPUT, --MATRIXinput MATRIXINPUT\r\n",
      "                        half filtered matrix file that was used to make\r\n",
      "                        genepop file\r\n",
      "  -og OUTPUT_GOOD, --output_good OUTPUT_GOOD\r\n",
      "                        output file, good loci\r\n",
      "  -ob OUTPUT_BAD, --output_bad OUTPUT_BAD\r\n",
      "                        output file, bad loci\r\n",
      "  -ofg OUTPUTFREQS_GOOD, --outputfreqs_good OUTPUTFREQS_GOOD\r\n",
      "                        output file, frequencies of good loci\r\n",
      "  -ofb OUTPUTFREQS_BAD, --outputfreqs_bad OUTPUTFREQS_BAD\r\n",
      "                        output file, frequencies of bad loci\r\n",
      "  -p PATH_STACKS, --path_stacks PATH_STACKS\r\n",
      "                        path to stacks files, including .INF file\r\n",
      "  -a ALLELES, --alleles ALLELES\r\n",
      "                        maximum number of alleles; this should have been\r\n",
      "                        printed out during the parsing script.\r\n",
      "  -b BATCH, --batch BATCH\r\n",
      "                        stacks batch number\r\n"
     ]
    }
   ],
   "source": [
    "!python filter_for_MAF_from_parsedINF.py -h"
   ]
  },
  {
   "cell_type": "code",
   "execution_count": 20,
   "metadata": {},
   "outputs": [
    {
     "name": "stdout",
     "output_type": "stream",
     "text": [
      "7422  loci written to filtered output file.\r\n",
      "Filtered out  13596  loci.\r\n"
     ]
    }
   ],
   "source": [
    "!python filter_for_MAF_from_parsedINF.py \\\n",
    "-inf batch_8_parseINF.txt \\\n",
    "-mat batch_8_matrix_TRANSPOSED.txt \\\n",
    "-og batch_8_filteredMAF.txt \\\n",
    "-ob batch_8_filteredMAF_bad.txt \\\n",
    "-ofg batch_8_filteredMAF_goodFreqs.txt \\\n",
    "-ofb batch_8_filteredMAF_badFreqs.txt \\\n",
    "-p ../../stacks_b8_wgenome_r05 \\\n",
    "-a 2 \\\n",
    "-b 8"
   ]
  },
  {
   "cell_type": "markdown",
   "metadata": {},
   "source": [
    "<br>\n",
    "<br>\n",
    "### Filter Loci for Missing data"
   ]
  },
  {
   "cell_type": "code",
   "execution_count": 21,
   "metadata": {},
   "outputs": [
    {
     "name": "stdout",
     "output_type": "stream",
     "text": [
      "usage: filter_loci_missing_data_postMAF.py [-h] [-f INPUT] [-og OUTPUT_GOOD]\r\n",
      "                                           [-ob OUTPUT_BAD]\r\n",
      "                                           [-op OUTPUT_PROPORTIONS]\r\n",
      "                                           [-s STACKS_PATH] [-p PERCENT]\r\n",
      "\r\n",
      "filter loci for missing data\r\n",
      "\r\n",
      "optional arguments:\r\n",
      "  -h, --help            show this help message and exit\r\n",
      "  -f INPUT, --input INPUT\r\n",
      "                        genotype file in 2 x 2 matrix\r\n",
      "  -og OUTPUT_GOOD, --output_good OUTPUT_GOOD\r\n",
      "                        output file containing 'good' loci\r\n",
      "  -ob OUTPUT_BAD, --output_bad OUTPUT_BAD\r\n",
      "                        output file containing 'bad' loci\r\n",
      "  -op OUTPUT_PROPORTIONS, --output_proportions OUTPUT_PROPORTIONS\r\n",
      "                        output file containing the missing data per locus\r\n",
      "  -s STACKS_PATH, --stacks_path STACKS_PATH\r\n",
      "                        path to the directory containing your stacks files\r\n",
      "  -p PERCENT, --percent PERCENT\r\n",
      "                        threshold to remove missing data: ___ percent or more\r\n",
      "                        missing genotypes\r\n"
     ]
    }
   ],
   "source": [
    "!python filter_loci_missing_data_postMAF.py -h"
   ]
  },
  {
   "cell_type": "code",
   "execution_count": 26,
   "metadata": {},
   "outputs": [
    {
     "name": "stdout",
     "output_type": "stream",
     "text": [
      "calculating 'good' and 'bad' loci...\n",
      "writing 'good' and 'bad' loci to files...\n",
      "done.\n",
      "Total loci:  7422\n",
      "Loci retained:  6739\n",
      "Loci removed:  683\n",
      "Missing data info per locus can be found in the 'proportions' output file.\n"
     ]
    }
   ],
   "source": [
    "!python filter_loci_missing_data_postMAF.py \\\n",
    "-f batch_8_filteredMAF.txt \\\n",
    "-og batch_8_filteredMAF_filteredLoci50.txt \\\n",
    "-ob batch_8_filteredMAF_filteredLoci50_bad.txt \\\n",
    "-op batch_8_filteredMAF_filteredLoci50_freqs.txt \\\n",
    "-s ../../stacks_b8_wgenome_r05 \\\n",
    "-p 0.30"
   ]
  },
  {
   "cell_type": "code",
   "execution_count": 27,
   "metadata": {
    "collapsed": true
   },
   "outputs": [],
   "source": [
    "infile = open(\"../../stacks_b8_wgenome_r05/batch_8_filteredMAF_filteredLoci50_freqs.txt\", \"r\")\n",
    "p_missing_list = []\n",
    "infile.readline()\n",
    "for line in infile:\n",
    "    p_missing_list.append(float(line.strip().split()[2]))\n",
    "infile.close()\n"
   ]
  },
  {
   "cell_type": "code",
   "execution_count": 28,
   "metadata": {
    "scrolled": true
   },
   "outputs": [
    {
     "data": {
      "image/png": "[encoded data removed]",
      "text/plain": [
       "<matplotlib.figure.Figure at 0x7fec259f7750>"
      ]
     },
     "metadata": {},
     "output_type": "display_data"
    }
   ],
   "source": [
    "plt.hist(p_missing_list, color=\"darkcyan\", alpha= 0.80)\n",
    "plt.suptitle(\"% Missing Genotypes, by Locus\")\n",
    "plt.xlabel(\"% of Genotypes Missing\")\n",
    "plt.show()"
   ]
  },
  {
   "cell_type": "code",
   "execution_count": 29,
   "metadata": {
    "collapsed": true
   },
   "outputs": [],
   "source": [
    "plt.close()"
   ]
  },
  {
   "cell_type": "markdown",
   "metadata": {},
   "source": [
    "<br>\n",
    "<br>\n",
    "### filter individuals for missing data"
   ]
  },
  {
   "cell_type": "code",
   "execution_count": 30,
   "metadata": {},
   "outputs": [
    {
     "name": "stdout",
     "output_type": "stream",
     "text": [
      "usage: filter_individs_missing_data.py [-h] [-f INPUT] [-og OUTPUT_GOOD]\r\n",
      "                                       [-ob OUTPUT_BAD]\r\n",
      "                                       [-op OUTPUT_PROPORTIONS]\r\n",
      "                                       [-s STACKS_PATH] [-p PERCENT]\r\n",
      "\r\n",
      "filter individuals for missing data\r\n",
      "\r\n",
      "optional arguments:\r\n",
      "  -h, --help            show this help message and exit\r\n",
      "  -f INPUT, --input INPUT\r\n",
      "                        genotype file in 2 x 2 matrix; individuals as *column*\r\n",
      "                        headers; will transpose\r\n",
      "  -og OUTPUT_GOOD, --output_good OUTPUT_GOOD\r\n",
      "                        output file containing 'good' loci\r\n",
      "  -ob OUTPUT_BAD, --output_bad OUTPUT_BAD\r\n",
      "                        output file containing 'bad' loci\r\n",
      "  -op OUTPUT_PROPORTIONS, --output_proportions OUTPUT_PROPORTIONS\r\n",
      "                        output file containing the missing data per individual\r\n",
      "  -s STACKS_PATH, --stacks_path STACKS_PATH\r\n",
      "                        path to the directory containing your stacks files\r\n",
      "  -p PERCENT, --percent PERCENT\r\n",
      "                        threshold to remove missing data: ___ percent or more\r\n",
      "                        loci missing genotypes\r\n"
     ]
    }
   ],
   "source": [
    "!python filter_individs_missing_data.py -h"
   ]
  },
  {
   "cell_type": "code",
   "execution_count": 34,
   "metadata": {},
   "outputs": [
    {
     "name": "stdout",
     "output_type": "stream",
     "text": [
      "Transposing matrix...\n",
      "calculating which individuals are missing too much data...\n",
      "Deleting temporary file...\n",
      "writing individuals to files...\n",
      "done.\n",
      "Total individuals processed:  679\n",
      "Individuals retained:  655\n",
      "Individuals removed:  24\n",
      "Missing data info per individual can be found in the 'proportions' output file.\n"
     ]
    }
   ],
   "source": [
    "!python filter_individs_missing_data.py \\\n",
    "-f batch_8_filteredMAF_filteredLoci30.txt \\\n",
    "-og batch_8_filteredMAF_filteredLoci30_filteredIndivids.txt \\\n",
    "-ob batch_8_filteredMAF_filteredLoci30_filteredIndivids_BAD.txt \\\n",
    "-op batch_8_filteredMAF_filteredLoci30_filteredIndivids_Freqs.txt \\\n",
    "-s ../../stacks_b8_wgenome_r05 \\\n",
    "-p 0.30"
   ]
  },
  {
   "cell_type": "code",
   "execution_count": 35,
   "metadata": {
    "collapsed": true
   },
   "outputs": [],
   "source": [
    "infile = open(\"../../stacks_b4_wgenome/batch_4_filteredMAF_filteredLoci50_filteredIndivids_Freqs.txt\", \"r\")\n",
    "p_missing_list = []\n",
    "infile.readline()\n",
    "for line in infile:\n",
    "    p_missing_list.append(float(line.strip().split()[2]))\n",
    "infile.close()"
   ]
  },
  {
   "cell_type": "code",
   "execution_count": 36,
   "metadata": {},
   "outputs": [
    {
     "data": {
      "image/png": "[encoded data removed]",
      "text/plain": [
       "<matplotlib.figure.Figure at 0x7fec2571bbd0>"
      ]
     },
     "metadata": {},
     "output_type": "display_data"
    }
   ],
   "source": [
    "plt.hist(p_missing_list, color=\"darkcyan\", alpha= 0.80)\n",
    "plt.suptitle(\"% Missing Genotypes, by Individual\")\n",
    "plt.xlabel(\"% of Genotypes Missing\")\n",
    "plt.show()"
   ]
  },
  {
   "cell_type": "code",
   "execution_count": 37,
   "metadata": {
    "collapsed": true
   },
   "outputs": [],
   "source": [
    "plt.close()"
   ]
  },
  {
   "cell_type": "markdown",
   "metadata": {},
   "source": [
    "<br>\n",
    "\n",
    "So I have **655 individuals** and **6739 loci**."
   ]
  },
  {
   "cell_type": "code",
   "execution_count": null,
   "metadata": {
    "collapsed": true
   },
   "outputs": [],
   "source": []
  }
 ],
 "metadata": {
  "kernelspec": {
   "display_name": "Python 2",
   "language": "python",
   "name": "python2"
  },
  "language_info": {
   "codemirror_mode": {
    "name": "ipython",
    "version": 2
   },
   "file_extension": ".py",
   "mimetype": "text/x-python",
   "name": "python",
   "nbconvert_exporter": "python",
   "pygments_lexer": "ipython2",
   "version": "2.7.13"
  }
 },
 "nbformat": 4,
 "nbformat_minor": 2
}
