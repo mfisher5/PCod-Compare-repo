{
 "cells": [
  {
   "cell_type": "markdown",
   "metadata": {},
   "source": [
    "## Iterations of populations \n",
    "\n",
    "I'm running `populations` in a bunch of different ways to see if it makes a difference in the amount of data I get from the alaskan individuals\n",
    "\n",
    "<br>\n",
    "<br>\n",
    "#### 1/8/2017\n",
    "\n",
    "### Batch 6: Haplotypes instead of random snp"
   ]
  },
  {
   "cell_type": "code",
   "execution_count": 1,
   "metadata": {
    "scrolled": true
   },
   "outputs": [
    {
     "data": {
      "text/plain": [
       "u'/mnt/hgfs/PCod-Compare-repo/notebooks'"
      ]
     },
     "execution_count": 1,
     "metadata": {},
     "output_type": "execute_result"
    }
   ],
   "source": [
    "pwd"
   ]
  },
  {
   "cell_type": "code",
   "execution_count": 2,
   "metadata": {},
   "outputs": [
    {
     "name": "stdout",
     "output_type": "stream",
     "text": [
      "/mnt/hgfs/PCod-Compare-repo/stacks_b6_wgenome_haplotypes\n"
     ]
    }
   ],
   "source": [
    "cd ../stacks_b6_wgenome_haplotypes/"
   ]
  },
  {
   "cell_type": "code",
   "execution_count": 3,
   "metadata": {},
   "outputs": [
    {
     "name": "stdout",
     "output_type": "stream",
     "text": [
      "/mnt/hgfs/PCod-Compare-repo\n"
     ]
    }
   ],
   "source": [
    "cd ../"
   ]
  },
  {
   "cell_type": "code",
   "execution_count": 6,
   "metadata": {
    "collapsed": true
   },
   "outputs": [],
   "source": [
    "!populations -b 4 \\\n",
    "-P stacks_b6_wgenome_haplotypes \\\n",
    "-M scripts/PopMap_combo_b4.txt \\\n",
    "-t 36 -r 0.8 -p 3 -m 10 \\\n",
    "--genepop --fasta 2>> stacks_b6_wgenome_haplotypes/populations_out_b6_wgenome"
   ]
  },
  {
   "cell_type": "markdown",
   "metadata": {},
   "source": [
    "<br>\n",
    "<br>\n",
    "#### 1/8/2017\n",
    "\n",
    "### Batch 7: haplotypes, with r = 0.5 instead of r = 0.8"
   ]
  },
  {
   "cell_type": "code",
   "execution_count": 7,
   "metadata": {},
   "outputs": [
    {
     "data": {
      "text/plain": [
       "u'/mnt/hgfs/PCod-Compare-repo'"
      ]
     },
     "execution_count": 7,
     "metadata": {},
     "output_type": "execute_result"
    }
   ],
   "source": [
    "pwd"
   ]
  },
  {
   "cell_type": "code",
   "execution_count": 8,
   "metadata": {
    "collapsed": true
   },
   "outputs": [],
   "source": [
    "!populations -b 4 \\\n",
    "-P stacks_b7_wgenome_haplotypes_r05 \\\n",
    "-M scripts/PopMap_combo_b4.txt \\\n",
    "-t 36 -r 0.5 -p 3 -m 10 \\\n",
    "--genepop --fasta 2>> stacks_b7_wgenome_haplotypes_r05/populations_out_b7_wgenome"
   ]
  },
  {
   "cell_type": "markdown",
   "metadata": {},
   "source": [
    "<br>\n",
    "<br>\n",
    "<br>\n",
    "#### 1/8/2017\n",
    "\n",
    "### Batch 8: random snp model with r = 0.5 instead of r = 0.8; m = 3 instead of m = 10"
   ]
  },
  {
   "cell_type": "code",
   "execution_count": 9,
   "metadata": {
    "collapsed": true
   },
   "outputs": [],
   "source": [
    "!populations -b 4 \\\n",
    "-P stacks_b8_wgenome_r05 \\\n",
    "-M scripts/PopMap_combo_b4.txt \\\n",
    "-t 36 -r 0.5 -p 3 -m 3 \\\n",
    "--write_random_snp \\\n",
    "--genepop --fasta 2>> stacks_b8_wgenome_r05/populations_out_b8_wgenome"
   ]
  },
  {
   "cell_type": "code",
   "execution_count": null,
   "metadata": {
    "collapsed": true
   },
   "outputs": [],
   "source": []
  }
 ],
 "metadata": {
  "kernelspec": {
   "display_name": "Python 2",
   "language": "python",
   "name": "python2"
  },
  "language_info": {
   "codemirror_mode": {
    "name": "ipython",
    "version": 2
   },
   "file_extension": ".py",
   "mimetype": "text/x-python",
   "name": "python",
   "nbconvert_exporter": "python",
   "pygments_lexer": "ipython2",
   "version": "2.7.13"
  }
 },
 "nbformat": 4,
 "nbformat_minor": 2
}
