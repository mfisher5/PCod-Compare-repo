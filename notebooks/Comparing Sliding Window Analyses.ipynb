{
 "cells": [
  {
   "cell_type": "markdown",
   "metadata": {
    "collapsed": true
   },
   "source": [
    "## Compare Sliding Window Analyses\n",
    "\n",
    "#### 3/24/2018\n",
    "\n",
    "I want to be able to compare interesting regions identified in sliding window analysis between groups - east v. west, east, west. \"Interesting regions\" would be those in which the sliding average Fst goes above or below the 95% confidence interval. \n",
    "\n",
    "I wrote an R function that will take the output files from two separate sliding window analyses, and then plot the results by chromosome as stacked plots. I then indicated regions under selection with dotted lines, which can be aligned across plots. \n",
    "\n",
    "<br>\n",
    "<br>\n",
    "**Programs used:** R v3.4.0\n",
    "\n",
    "**Scripts:** [R script](https://github.com/mfisher5/PCod-Compare-repo/blob/master/analyses/SlidingWindow/ID_Outlier_Regions_SlidingWindow_MF.R), [plotting functions sourced](https://github.com/mfisher5/PCod-Compare-repo/blob/master/analyses/SlidingWindow/Plot_SlidingWindowAnalysis_Functions.R)\n",
    "\n",
    "**Input Files:** \n",
    "<br>\n",
    "[East v. West](https://github.com/mfisher5/PCod-Compare-repo/blob/master/analyses/SlidingWindow/EastvWest/batch_8_SWA_eastwest_output_kernel_smoothing_1e%2B05_bootstraps_sigma_250000_div150.txt)\n",
    "<br>\n",
    "[West](https://github.com/mfisher5/PCod-Compare-repo/blob/master/analyses/SlidingWindow/West/batch_8_final_filtered_west_2reg_kernel_smoothing_1e%2B05_bootstraps_sigma_250000_div150.txt)\n",
    "<br>\n",
    "________________________________________\n",
    "### Example of plots\n",
    "\n",
    "#### East v. West (red), West (blue) -- Linkage group 2\n",
    "![img-ew-lg2](https://github.com/mfisher5/PCod-Compare-repo/blob/master/analyses/SlidingWindow/plots/SWA_EastWest_West_Overlay_LG02.png?raw=true)"
   ]
  },
  {
   "cell_type": "code",
   "execution_count": null,
   "metadata": {
    "collapsed": true
   },
   "outputs": [],
   "source": []
  }
 ],
 "metadata": {
  "kernelspec": {
   "display_name": "Python 2",
   "language": "python",
   "name": "python2"
  },
  "language_info": {
   "codemirror_mode": {
    "name": "ipython",
    "version": 2
   },
   "file_extension": ".py",
   "mimetype": "text/x-python",
   "name": "python",
   "nbconvert_exporter": "python",
   "pygments_lexer": "ipython2",
   "version": "2.7.13"
  }
 },
 "nbformat": 4,
 "nbformat_minor": 2
}
